{
 "cells": [
  {
   "cell_type": "markdown",
   "metadata": {},
   "source": [
    "## Q Find Accuracy,Precision,Recall,F-measure(F score)"
   ]
  },
  {
   "cell_type": "code",
   "execution_count": 9,
   "metadata": {},
   "outputs": [
    {
     "name": "stdout",
     "output_type": "stream",
     "text": [
      "accuracy:\n",
      "0.7428571428571429\n",
      "Precision:\n",
      "0.6\n",
      "Recall:\n",
      "0.5454545454545454\n",
      "F-measure:\n",
      "0.5714285714285713\n"
     ]
    }
   ],
   "source": [
    "# Accuracy = (TP + TN) / (TP + TN + FP + FN)\n",
    "# Precision = TP / (TP + FP)\n",
    "# Recall = TP / (TP + FN)\n",
    "# F-measure = 2 * Recall * Precision / (Recall + Precision)\n",
    "\n",
    "#you might be get matrix in this format then extract in this way\n",
    "#conf = confusion_matrix(x_test, x_pred)\n",
    "#TP = conf[0,0]\n",
    "#FP = conf[0,1]\n",
    "#TN = conf[1,0]\n",
    "#FN = conf[1,1]\n",
    "\n",
    "ConfMetrix={\"TN\":100,\"TP\":30,\"FP\":20,\"FN\":25}  # may be given in question\n",
    "\n",
    "TN=ConfMetrix['TN']\n",
    "TP=ConfMetrix['TP']\n",
    "FN=ConfMetrix['FN']\n",
    "FP=ConfMetrix['FP']\n",
    "\n",
    "accuracy=(TP+TN)/(TP+TN+FP+FN)\n",
    "print('accuracy:')\n",
    "print(accuracy)\n",
    "Precision = TP / (TP + FP)\n",
    "print('Precision:')\n",
    "print(Precision)\n",
    "Recall = TP / (TP + FN)\n",
    "print('Recall:')\n",
    "print(Recall)\n",
    "F_measure = 2 * Recall * Precision / (Recall + Precision)\n",
    "print('F-measure:')\n",
    "print(F_measure)"
   ]
  },
  {
   "cell_type": "code",
   "execution_count": null,
   "metadata": {},
   "outputs": [],
   "source": []
  }
 ],
 "metadata": {
  "kernelspec": {
   "display_name": "Python 3",
   "language": "python",
   "name": "python3"
  },
  "language_info": {
   "codemirror_mode": {
    "name": "ipython",
    "version": 3
   },
   "file_extension": ".py",
   "mimetype": "text/x-python",
   "name": "python",
   "nbconvert_exporter": "python",
   "pygments_lexer": "ipython3",
   "version": "3.8.3"
  }
 },
 "nbformat": 4,
 "nbformat_minor": 4
}
