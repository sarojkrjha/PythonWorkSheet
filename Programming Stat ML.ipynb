{
 "cells": [
  {
   "cell_type": "markdown",
   "metadata": {},
   "source": [
    "#### Q Conc  replace 100 to 10\n"
   ]
  },
  {
   "cell_type": "code",
   "execution_count": 26,
   "metadata": {},
   "outputs": [
    {
     "name": "stdout",
     "output_type": "stream",
     "text": [
      "[32, 12, 13, 28, 10, 10, 1, 10, 22, 2, 3, 8, 10, 4, 15, 10]\n"
     ]
    }
   ],
   "source": [
    "L1 = [22,2,3,8,100,4,15,100]\n",
    "L2 = [32,12,13,28,100,100,1,100]\n",
    "L1[:0]=L2\n",
    "L3=[]\n",
    "for x in L1:\n",
    "    if x ==100:\n",
    "        L3.append(10)\n",
    "    else:\n",
    "        L3.append(x)\n",
    "            \n",
    "print(L3)\n",
    "\n"
   ]
  },
  {
   "cell_type": "code",
   "execution_count": 27,
   "metadata": {},
   "outputs": [],
   "source": [
    "#### Q Gendar by using data frame \n",
    "L1=['male','female','male','female','female','male','female','male','female','female','male','female']\n",
    "L2=[1,       0,      1,      0,       1,      1,     0,       0,     1,       0,       1,      1]\n",
    "Ans: ['male':4, 'female':3]\n",
    "    Gender   Frequency\n",
    "    female    3\n",
    "    male      4\n",
    "    "
   ]
  },
  {
   "cell_type": "code",
   "execution_count": 31,
   "metadata": {},
   "outputs": [
    {
     "data": {
      "text/html": [
       "<div>\n",
       "<style scoped>\n",
       "    .dataframe tbody tr th:only-of-type {\n",
       "        vertical-align: middle;\n",
       "    }\n",
       "\n",
       "    .dataframe tbody tr th {\n",
       "        vertical-align: top;\n",
       "    }\n",
       "\n",
       "    .dataframe thead th {\n",
       "        text-align: right;\n",
       "    }\n",
       "</style>\n",
       "<table border=\"1\" class=\"dataframe\">\n",
       "  <thead>\n",
       "    <tr style=\"text-align: right;\">\n",
       "      <th></th>\n",
       "      <th>Frequency</th>\n",
       "    </tr>\n",
       "    <tr>\n",
       "      <th>Gender</th>\n",
       "      <th></th>\n",
       "    </tr>\n",
       "  </thead>\n",
       "  <tbody>\n",
       "    <tr>\n",
       "      <th>female</th>\n",
       "      <td>3</td>\n",
       "    </tr>\n",
       "    <tr>\n",
       "      <th>male</th>\n",
       "      <td>4</td>\n",
       "    </tr>\n",
       "  </tbody>\n",
       "</table>\n",
       "</div>"
      ],
      "text/plain": [
       "        Frequency\n",
       "Gender           \n",
       "female          3\n",
       "male            4"
      ]
     },
     "execution_count": 31,
     "metadata": {},
     "output_type": "execute_result"
    }
   ],
   "source": [
    "L1=['male','female','male','female','female','male','female','male','female','female','male','female']\n",
    "L2=[1,0,1,0,1,1,0,0,1,0,1,1]\n",
    "\n",
    "import pandas as pd \n",
    "  \n",
    "# intialise data of lists. \n",
    "data = {'Gender':L1, \n",
    "        'Frequency':L2} \n",
    "  \n",
    "# Create DataFrame \n",
    "df = pd.DataFrame(data) \n",
    "df.groupby(['Gender']).sum()"
   ]
  },
  {
   "cell_type": "markdown",
   "metadata": {},
   "source": [
    "#### Q F1 score\n",
    "given rec=0.1, pre=0.6\n",
    "Ans 0.17"
   ]
  },
  {
   "cell_type": "code",
   "execution_count": 35,
   "metadata": {},
   "outputs": [
    {
     "name": "stdout",
     "output_type": "stream",
     "text": [
      "0.1\n",
      "0.6\n",
      "0.17\n"
     ]
    }
   ],
   "source": [
    "# As we know F1=(2*r*p)/(r+p)\n",
    "r=float(input())\n",
    "p=float(input())\n",
    "numer=2*r*p\n",
    "denum=r+p\n",
    "f1=round(numer/denum,2)\n",
    "print(f1)"
   ]
  },
  {
   "cell_type": "markdown",
   "metadata": {},
   "source": [
    "#### Q sort by date\n",
    " \n",
    "- dt={\"pv1\":\"01/10/2002\",\"pv2\":\"25/10/2000\",\"pv3\":\"01/05/2006\",\"pv4\":\"10/05/2010\",\"pv5\":\"01/11/2004\",\"pv6\":\"26/12/2018\"}\n",
    "\n",
    "- Ans  ['pv6','pv4','pv3','pv5','pv1','pv2']"
   ]
  },
  {
   "cell_type": "code",
   "execution_count": 37,
   "metadata": {},
   "outputs": [
    {
     "data": {
      "text/plain": [
       "['pv6', 'pv2', 'pv4', 'pv5', 'pv1', 'pv3']"
      ]
     },
     "execution_count": 37,
     "metadata": {},
     "output_type": "execute_result"
    }
   ],
   "source": [
    "dt={\"pv1\":\"01/10/2002\",\"pv2\":\"25/10/2000\",\"pv3\":\"01/05/2006\",\"pv4\":\"10/05/2010\",\"pv5\":\"01/11/2004\",\"pv6\":\"26/12/2018\"}\n",
    "[k for k, v in sorted(dt.items(), key=lambda p: p[1], reverse=True)]"
   ]
  },
  {
   "cell_type": "code",
   "execution_count": null,
   "metadata": {},
   "outputs": [],
   "source": []
  }
 ],
 "metadata": {
  "kernelspec": {
   "display_name": "Python 3",
   "language": "python",
   "name": "python3"
  },
  "language_info": {
   "codemirror_mode": {
    "name": "ipython",
    "version": 3
   },
   "file_extension": ".py",
   "mimetype": "text/x-python",
   "name": "python",
   "nbconvert_exporter": "python",
   "pygments_lexer": "ipython3",
   "version": "3.8.3"
  }
 },
 "nbformat": 4,
 "nbformat_minor": 4
}
