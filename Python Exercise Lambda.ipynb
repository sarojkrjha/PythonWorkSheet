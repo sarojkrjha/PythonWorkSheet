{
 "cells": [
  {
   "cell_type": "markdown",
   "metadata": {},
   "source": [
    "##### Q1. Write a Python program to create a lambda function that adds 15 to a given number passed in as an argument, also create a lambda function that multiplies argument x with argument y and print the result.\n",
    "    Sample Output:\n",
    "    25\n",
    "    48"
   ]
  },
  {
   "cell_type": "code",
   "execution_count": 1,
   "metadata": {},
   "outputs": [
    {
     "name": "stdout",
     "output_type": "stream",
     "text": [
      "25\n",
      "48\n"
     ]
    }
   ],
   "source": [
    "r = lambda a : a + 15\n",
    "print(r(10))\n",
    "r = lambda x, y : x * y\n",
    "print(r(12, 4))"
   ]
  },
  {
   "cell_type": "markdown",
   "metadata": {},
   "source": [
    "##### Q2. Write a Python program to create a function that takes one argument, and that argument will be multiplied with an unknown given number. \n",
    "    Sample Output:\n",
    "    Double the number of 15 = 30\n",
    "    Triple the number of 15 = 45\n",
    "    Quadruple the number of 15 = 60\n",
    "    Quintuple the number 15 = 75"
   ]
  },
  {
   "cell_type": "code",
   "execution_count": 2,
   "metadata": {},
   "outputs": [
    {
     "name": "stdout",
     "output_type": "stream",
     "text": [
      "Double the number of 15 = 30\n",
      "Triple the number of 15 = 45\n",
      "Quadruple the number of 15 = 60\n",
      "Quintuple the number 15 = 75\n"
     ]
    }
   ],
   "source": [
    "def func_compute(n):\n",
    "    return lambda x : x * n\n",
    "result = func_compute(2)\n",
    "print(\"Double the number of 15 =\", result(15))\n",
    "result = func_compute(3)\n",
    "print(\"Triple the number of 15 =\", result(15))\n",
    "result = func_compute(4)\n",
    "print(\"Quadruple the number of 15 =\", result(15))\n",
    "result = func_compute(5)\n",
    "print(\"Quintuple the number 15 =\", result(15))"
   ]
  },
  {
   "cell_type": "markdown",
   "metadata": {},
   "source": [
    "##### Q3. Write a Python program to sort a list of tuples using Lambda.\n",
    "    Original list of tuples:\n",
    "    [('English', 88), ('Science', 90), ('Maths', 97), ('Social sciences', 82)]\n",
    "    Sorting the List of Tuples:\n",
    "    [('Social sciences', 82), ('English', 88), ('Science', 90), ('Maths', 97)]"
   ]
  },
  {
   "cell_type": "code",
   "execution_count": 3,
   "metadata": {},
   "outputs": [
    {
     "name": "stdout",
     "output_type": "stream",
     "text": [
      "Original list of tuples:\n",
      "[('English', 88), ('Science', 90), ('Maths', 97), ('Social sciences', 82)]\n",
      "\n",
      "Sorting the List of Tuples:\n",
      "[('Social sciences', 82), ('English', 88), ('Science', 90), ('Maths', 97)]\n"
     ]
    }
   ],
   "source": [
    "subject_marks = [('English', 88), ('Science', 90), ('Maths', 97), ('Social sciences', 82)]\n",
    "print(\"Original list of tuples:\")\n",
    "print(subject_marks)\n",
    "subject_marks.sort(key = lambda x: x[1])\n",
    "print(\"\\nSorting the List of Tuples:\")\n",
    "print(subject_marks)"
   ]
  },
  {
   "cell_type": "markdown",
   "metadata": {},
   "source": [
    "##### Q4. Write a Python program to sort a list of dictionaries using Lambda. \n",
    "    Original list of dictionaries :\n",
    "    [{'make': 'Nokia', 'model': 216, 'color': 'Black'}, {'make': 'Mi Max', 'model': '2', 'color': 'Gold'}, {'make': 'Samsung', 'model': 7, 'color': 'Blue'}]\n",
    "    Sorting the List of dictionaries :\n",
    "    [{'make': 'Nokia', 'model': 216, 'color': 'Black'}, {'make': 'Samsung', 'model': 7, 'color': 'Blue'}, {'make': 'Mi Max', 'model': '2', 'color': 'Gold'}]"
   ]
  },
  {
   "cell_type": "code",
   "execution_count": 4,
   "metadata": {},
   "outputs": [
    {
     "name": "stdout",
     "output_type": "stream",
     "text": [
      "Original list of dictionaries :\n",
      "[{'make': 'Nokia', 'model': 216, 'color': 'Black'}, {'make': 'Mi Max', 'model': '2', 'color': 'Gold'}, {'make': 'Samsung', 'model': 7, 'color': 'Blue'}]\n",
      "\n",
      "Sorting the List of dictionaries :\n",
      "[{'make': 'Nokia', 'model': 216, 'color': 'Black'}, {'make': 'Samsung', 'model': 7, 'color': 'Blue'}, {'make': 'Mi Max', 'model': '2', 'color': 'Gold'}]\n"
     ]
    }
   ],
   "source": [
    "models = [{'make':'Nokia', 'model':216, 'color':'Black'}, {'make':'Mi Max', 'model':'2', 'color':'Gold'}, {'make':'Samsung', 'model': 7, 'color':'Blue'}]\n",
    "print(\"Original list of dictionaries :\")\n",
    "print(models)\n",
    "sorted_models = sorted(models, key = lambda x: x['color'])\n",
    "print(\"\\nSorting the List of dictionaries :\")\n",
    "print(sorted_models)"
   ]
  },
  {
   "cell_type": "markdown",
   "metadata": {},
   "source": [
    "##### Q5. Write a Python program to filter a list of integers using Lambda. \n",
    "    Original list of integers:\n",
    "    [1, 2, 3, 4, 5, 6, 7, 8, 9, 10]\n",
    "    Even numbers from the said list:\n",
    "    [2, 4, 6, 8, 10]\n",
    "    Odd numbers from the said list:\n",
    "    [1, 3, 5, 7, 9]"
   ]
  },
  {
   "cell_type": "code",
   "execution_count": 5,
   "metadata": {},
   "outputs": [
    {
     "name": "stdout",
     "output_type": "stream",
     "text": [
      "Original list of integers:\n",
      "[1, 2, 3, 4, 5, 6, 7, 8, 9, 10]\n",
      "\n",
      "Even numbers from the said list:\n",
      "[2, 4, 6, 8, 10]\n",
      "\n",
      "Odd numbers from the said list:\n",
      "[1, 3, 5, 7, 9]\n"
     ]
    }
   ],
   "source": [
    "nums = [1, 2, 3, 4, 5, 6, 7, 8, 9, 10]\n",
    "print(\"Original list of integers:\")\n",
    "print(nums)\n",
    "print(\"\\nEven numbers from the said list:\")\n",
    "even_nums = list(filter(lambda x: x%2 == 0, nums))\n",
    "print(even_nums)\n",
    "print(\"\\nOdd numbers from the said list:\")\n",
    "odd_nums = list(filter(lambda x: x%2 != 0, nums))\n",
    "print(odd_nums)"
   ]
  },
  {
   "cell_type": "markdown",
   "metadata": {},
   "source": [
    "##### Q6. Write a Python program to square and cube every number in a given list of integers using Lambda. \n",
    "    Original list of integers:\n",
    "    [1, 2, 3, 4, 5, 6, 7, 8, 9, 10]\n",
    "    Square every number of the said list:\n",
    "    [1, 4, 9, 16, 25, 36, 49, 64, 81, 100]\n",
    "    Cube every number of the said list:\n",
    "    [1, 8, 27, 64, 125, 216, 343, 512, 729, 1000]"
   ]
  },
  {
   "cell_type": "code",
   "execution_count": 6,
   "metadata": {},
   "outputs": [
    {
     "name": "stdout",
     "output_type": "stream",
     "text": [
      "Original list of integers:\n",
      "[1, 2, 3, 4, 5, 6, 7, 8, 9, 10]\n",
      "\n",
      "Square every number of the said list:\n",
      "[1, 4, 9, 16, 25, 36, 49, 64, 81, 100]\n",
      "\n",
      "Cube every number of the said list:\n",
      "[1, 8, 27, 64, 125, 216, 343, 512, 729, 1000]\n"
     ]
    }
   ],
   "source": [
    "nums = [1, 2, 3, 4, 5, 6, 7, 8, 9, 10]\n",
    "print(\"Original list of integers:\")\n",
    "print(nums)\n",
    "print(\"\\nSquare every number of the said list:\")\n",
    "square_nums = list(map(lambda x: x ** 2, nums))\n",
    "print(square_nums)\n",
    "print(\"\\nCube every number of the said list:\")\n",
    "cube_nums = list(map(lambda x: x ** 3, nums))\n",
    "print(cube_nums)"
   ]
  },
  {
   "cell_type": "markdown",
   "metadata": {},
   "source": [
    "##### Q7. Write a Python program to find if a given string starts with a given character using Lambda. Go to the editor\n",
    "    Sample Output:\n",
    "    True\n",
    "    False"
   ]
  },
  {
   "cell_type": "code",
   "execution_count": 7,
   "metadata": {},
   "outputs": [
    {
     "name": "stdout",
     "output_type": "stream",
     "text": [
      "True\n",
      "False\n"
     ]
    }
   ],
   "source": [
    "starts_with = lambda x: True if x.startswith('P') else False\n",
    "print(starts_with('Python'))\n",
    "starts_with = lambda x: True if x.startswith('P') else False\n",
    "print(starts_with('Java'))"
   ]
  },
  {
   "cell_type": "markdown",
   "metadata": {},
   "source": [
    "##### Q8. Write a Python program to extract year, month, date and time using Lambda. \n",
    "    Sample Output:\n",
    "    2020-01-15 09:03:32.744178\n",
    "    2020\n",
    "    1\n",
    "    15\n",
    "    09:03:32.744178"
   ]
  },
  {
   "cell_type": "code",
   "execution_count": 9,
   "metadata": {},
   "outputs": [
    {
     "name": "stdout",
     "output_type": "stream",
     "text": [
      "2021-01-01 15:47:04.668894\n",
      "2021\n",
      "1\n",
      "1\n",
      "15:47:04.668894\n"
     ]
    }
   ],
   "source": [
    "import datetime\n",
    "now = datetime.datetime.now()\n",
    "print(now)\n",
    "year = lambda x: x.year\n",
    "month = lambda x: x.month\n",
    "day = lambda x: x.day\n",
    "t = lambda x: x.time()\n",
    "print(year(now))\n",
    "print(month(now))\n",
    "print(day(now))\n",
    "print(t(now))"
   ]
  },
  {
   "cell_type": "markdown",
   "metadata": {},
   "source": [
    "##### Q9. Write a Python program to check whether a given string is number or not using Lambda. \n",
    "    Sample Output:\n",
    "    True\n",
    "    True\n",
    "    False\n",
    "    True\n",
    "    False\n",
    "    True\n",
    "    Print checking numbers:\n",
    "    True\n",
    "    True"
   ]
  },
  {
   "cell_type": "code",
   "execution_count": 10,
   "metadata": {},
   "outputs": [
    {
     "name": "stdout",
     "output_type": "stream",
     "text": [
      "True\n",
      "True\n",
      "False\n",
      "True\n",
      "False\n",
      "True\n",
      "\n",
      "Print checking numbers:\n",
      "True\n",
      "True\n"
     ]
    }
   ],
   "source": [
    "is_num = lambda q: q.replace('.','',1).isdigit()\n",
    "print(is_num('26587'))\n",
    "print(is_num('4.2365'))\n",
    "print(is_num('-12547'))\n",
    "print(is_num('00'))\n",
    "print(is_num('A001'))\n",
    "print(is_num('001'))\n",
    "print(\"\\nPrint checking numbers:\")\n",
    "is_num1 = lambda r: is_num(r[1:]) if r[0]=='-' else is_num(r)\n",
    "print(is_num1('-16.4'))\n",
    "print(is_num1('-24587.11'))"
   ]
  },
  {
   "cell_type": "markdown",
   "metadata": {},
   "source": [
    "##### Q10. Write a Python program to create Fibonacci series upto n using Lambda. \n",
    "    Fibonacci series upto 2:\n",
    "    [0, 1]\n",
    "    Fibonacci series upto 5:\n",
    "    [0, 1, 1, 2, 3]\n",
    "    Fibonacci series upto 6:\n",
    "    [0, 1, 1, 2, 3, 5]\n",
    "    Fibonacci series upto 9:\n",
    "    [0, 1, 1, 2, 3, 5, 8, 13, 21]"
   ]
  },
  {
   "cell_type": "code",
   "execution_count": 11,
   "metadata": {},
   "outputs": [
    {
     "name": "stdout",
     "output_type": "stream",
     "text": [
      "Fibonacci series upto 2:\n",
      "[0, 1]\n",
      "\n",
      "Fibonacci series upto 5:\n",
      "[0, 1, 1, 2, 3]\n",
      "\n",
      "Fibonacci series upto 6:\n",
      "[0, 1, 1, 2, 3, 5]\n",
      "\n",
      "Fibonacci series upto 9:\n",
      "[0, 1, 1, 2, 3, 5, 8, 13, 21]\n"
     ]
    }
   ],
   "source": [
    "from functools import reduce\n",
    " \n",
    "fib_series = lambda n: reduce(lambda x, _: x+[x[-1]+x[-2]],\n",
    "                                range(n-2), [0, 1])\n",
    " \n",
    "print(\"Fibonacci series upto 2:\")\n",
    "print(fib_series(2))\n",
    "print(\"\\nFibonacci series upto 5:\")\n",
    "print(fib_series(5))\n",
    "print(\"\\nFibonacci series upto 6:\")\n",
    "print(fib_series(6))\n",
    "print(\"\\nFibonacci series upto 9:\")\n",
    "print(fib_series(9))"
   ]
  },
  {
   "cell_type": "markdown",
   "metadata": {},
   "source": [
    "##### Q11. Write a Python program to find intersection of two given arrays using Lambda. \n",
    "    Original arrays:\n",
    "    [1, 2, 3, 5, 7, 8, 9, 10]\n",
    "    [1, 2, 4, 8, 9]\n",
    "    Intersection of the said arrays: [1, 2, 8, 9]"
   ]
  },
  {
   "cell_type": "code",
   "execution_count": 12,
   "metadata": {},
   "outputs": [
    {
     "name": "stdout",
     "output_type": "stream",
     "text": [
      "Original arrays:\n",
      "[1, 2, 3, 5, 7, 8, 9, 10]\n",
      "[1, 2, 4, 8, 9]\n",
      "\n",
      "Intersection of the said arrays:  [1, 2, 8, 9]\n"
     ]
    }
   ],
   "source": [
    "array_nums1 = [1, 2, 3, 5, 7, 8, 9, 10]\n",
    "array_nums2 = [1, 2, 4, 8, 9]\n",
    "print(\"Original arrays:\")\n",
    "print(array_nums1)\n",
    "print(array_nums2)\n",
    "result = list(filter(lambda x: x in array_nums1, array_nums2)) \n",
    "print (\"\\nIntersection of the said arrays: \",result)"
   ]
  },
  {
   "cell_type": "markdown",
   "metadata": {},
   "source": [
    "##### Q12. Write a Python program to rearrange positive and negative numbers in a given array using Lambda. \n",
    "    Original arrays:\n",
    "    [-1, 2, -3, 5, 7, 8, 9, -10]\n",
    "    Rearrange positive and negative numbers of the said array:\n",
    "    [2, 5, 7, 8, 9, -10, -3, -1]"
   ]
  },
  {
   "cell_type": "markdown",
   "metadata": {},
   "source": [
    "##### Q13. Write a Python program to count the even, odd numbers in a given array of integers using Lambda. \n",
    "    Original arrays:\n",
    "    [1, 2, 3, 5, 7, 8, 9, 10]\n",
    "    Number of even numbers in the above array: 3\n",
    "    Number of odd numbers in the above array: 5"
   ]
  },
  {
   "cell_type": "code",
   "execution_count": 13,
   "metadata": {},
   "outputs": [
    {
     "name": "stdout",
     "output_type": "stream",
     "text": [
      "Original arrays:\n",
      "[1, 2, 3, 5, 7, 8, 9, 10]\n",
      "\n",
      "Number of even numbers in the above array:  3\n",
      "\n",
      "Number of odd numbers in the above array:  5\n"
     ]
    }
   ],
   "source": [
    "array_nums = [1, 2, 3, 5, 7, 8, 9, 10]\n",
    "print(\"Original arrays:\")\n",
    "print(array_nums)\n",
    "odd_ctr = len(list(filter(lambda x: (x%2 != 0) , array_nums)))\n",
    "even_ctr = len(list(filter(lambda x: (x%2 == 0) , array_nums)))\n",
    "print(\"\\nNumber of even numbers in the above array: \", even_ctr)\n",
    "print(\"\\nNumber of odd numbers in the above array: \", odd_ctr)"
   ]
  },
  {
   "cell_type": "markdown",
   "metadata": {},
   "source": [
    "##### Q14. Write a Python program to find the values of length six in a given list using Lambda. \n",
    "    Sample Output:\n",
    "    Monday\n",
    "    Friday\n",
    "    Sunday"
   ]
  },
  {
   "cell_type": "code",
   "execution_count": 15,
   "metadata": {},
   "outputs": [
    {
     "name": "stdout",
     "output_type": "stream",
     "text": [
      "Monday\n",
      "Friday\n",
      "Sunday\n"
     ]
    }
   ],
   "source": [
    "weekdays = ['Monday', 'Tuesday', 'Wednesday', 'Thursday', 'Friday', 'Saturday', 'Sunday']\n",
    "days = filter(lambda day: day if len(day)==6 else '', weekdays)\n",
    "for d in days:\n",
    "    print(d)"
   ]
  },
  {
   "cell_type": "markdown",
   "metadata": {},
   "source": [
    "##### Q15. Write a Python program to add two given lists using map and lambda. \n",
    "    Original list:\n",
    "    [1, 2, 3]\n",
    "    [4, 5, 6]\n",
    "    Result: after adding two list\n",
    "    [5, 7, 9]"
   ]
  },
  {
   "cell_type": "code",
   "execution_count": 16,
   "metadata": {},
   "outputs": [
    {
     "name": "stdout",
     "output_type": "stream",
     "text": [
      "Original list:\n",
      "[1, 2, 3]\n",
      "[4, 5, 6]\n",
      "\n",
      "Result: after adding two list\n",
      "[5, 7, 9]\n"
     ]
    }
   ],
   "source": [
    "nums1 = [1, 2, 3]\n",
    "nums2 = [4, 5, 6]\n",
    "print(\"Original list:\")\n",
    "print(nums1)\n",
    "print(nums2)\n",
    "result = map(lambda x, y: x + y, nums1, nums2)\n",
    "print(\"\\nResult: after adding two list\")\n",
    "print(list(result))"
   ]
  },
  {
   "cell_type": "markdown",
   "metadata": {},
   "source": [
    "##### Q16. Write a Python program to find the second lowest grade of any student(s) from the given names and grades of each student using lists and lambda. Input number of students, names and grades of each student. \n",
    "    Input number of students: 5\n",
    "    Name: S ROY\n",
    "    Grade: 1\n",
    "    Name: B BOSE\n",
    "    Grade: 3\n",
    "    Name: N KAR\n",
    "    Grade: 2\n",
    "    Name: C DUTTA\n",
    "    Grade: 1\n",
    "    Name: G GHOSH\n",
    "    Grade: 1\n",
    "    Names and Grades of all students:\n",
    "    [['S ROY', 1.0], ['B BOSE', 3.0], ['N KAR', 2.0], ['C DUTTA', 1.0], ['G GHOSH', 1.0]]\n",
    "    Second lowest grade: 2.0\n",
    "    Names:\n",
    "    N KAR"
   ]
  },
  {
   "cell_type": "code",
   "execution_count": 17,
   "metadata": {},
   "outputs": [
    {
     "name": "stdout",
     "output_type": "stream",
     "text": [
      "Input number of students: 5\n",
      "Name: S ROY\n",
      "Grade: 1\n",
      "Name: B BOSE\n",
      "Grade: 3\n",
      "Name: N KAR\n",
      "Grade: 2\n",
      "Name: C DUTTA\n",
      "Grade: 1\n",
      "Name: G GHOSH\n",
      "Grade: 1\n",
      "\n",
      "Names and Grades of all students:\n",
      "[['S ROY', 1.0], ['B BOSE', 3.0], ['N KAR', 2.0], ['C DUTTA', 1.0], ['G GHOSH', 1.0]]\n",
      "\n",
      "Second lowest grade:  2.0\n",
      "\n",
      "Names:\n",
      "N KAR\n"
     ]
    }
   ],
   "source": [
    "students = []\n",
    "sec_name = []\n",
    "second_low = 0\n",
    "n = int(input(\"Input number of students: \"))\n",
    "for _ in range(n):\n",
    "    s_name = input(\"Name: \")\n",
    "    score = float(input(\"Grade: \"))\n",
    "    students.append([s_name,score])\n",
    "print(\"\\nNames and Grades of all students:\")\n",
    "print(students)\n",
    "order =sorted(students, key = lambda x: int(x[1]))\n",
    "for i in range(n):\n",
    "    if order[i][1] != order[0][1]:\n",
    "        second_low = order[i][1]\n",
    "        break\n",
    "print(\"\\nSecond lowest grade: \",second_low)\n",
    "sec_student_name = [x[0] for x in order if x[1] == second_low]\n",
    "sec_student_name.sort()\n",
    "print(\"\\nNames:\")\n",
    "for s_name in sec_student_name:\n",
    "    print(s_name)"
   ]
  },
  {
   "cell_type": "markdown",
   "metadata": {},
   "source": [
    "##### Q17. Write a Python program to find numbers divisible by nineteen or thirteen from a list of numbers using Lambda. \n",
    "    Orginal list:\n",
    "    [19, 65, 57, 39, 152, 639, 121, 44, 90, 190]\n",
    "    Numbers of the above list divisible by nineteen or thirteen:\n",
    "    [19, 65, 57, 39, 152, 190]"
   ]
  },
  {
   "cell_type": "code",
   "execution_count": 18,
   "metadata": {},
   "outputs": [
    {
     "name": "stdout",
     "output_type": "stream",
     "text": [
      "Orginal list:\n",
      "[19, 65, 57, 39, 152, 639, 121, 44, 90, 190]\n",
      "\n",
      "Numbers of the above list divisible by nineteen or thirteen:\n",
      "[19, 65, 57, 39, 152, 190]\n"
     ]
    }
   ],
   "source": [
    "nums = [19, 65, 57, 39, 152, 639, 121, 44, 90, 190]\n",
    "print(\"Orginal list:\")\n",
    "print(nums) \n",
    "result = list(filter(lambda x: (x % 19 == 0 or x % 13 == 0), nums)) \n",
    "print(\"\\nNumbers of the above list divisible by nineteen or thirteen:\")\n",
    "print(result)"
   ]
  },
  {
   "cell_type": "markdown",
   "metadata": {},
   "source": [
    "##### Q18. Write a Python program to find palindromes in a given list of strings using Lambda. \n",
    "    Orginal list of strings:\n",
    "    ['php', 'xyz', 'Python', 'abcd', 'Java', 'aaa']\n",
    "    List of palindromes:\n",
    "    ['php', 'aaa']"
   ]
  },
  {
   "cell_type": "code",
   "execution_count": 21,
   "metadata": {},
   "outputs": [
    {
     "name": "stdout",
     "output_type": "stream",
     "text": [
      "Orginal list of strings:\n",
      "['php', 'xyz', 'Python', 'abcd', 'Java', 'aaa']\n",
      "\n",
      "List of palindromes:\n",
      "['php', 'aaa']\n"
     ]
    }
   ],
   "source": [
    "texts = [\"php\", \"xyz\", \"Python\", \"abcd\", \"Java\", \"aaa\"]\n",
    "print(\"Orginal list of strings:\")\n",
    "print(texts) \n",
    "result = list(filter(lambda x: (x == \"\".join(reversed(x))), texts)) \n",
    "print(\"\\nList of palindromes:\")\n",
    "print(result) "
   ]
  },
  {
   "cell_type": "markdown",
   "metadata": {},
   "source": [
    "##### Q19. Write a Python program to find all anagrams of a string in a given list of strings using lambda. \n",
    "    Orginal list of strings:\n",
    "    ['bcda', 'abce', 'cbda', 'cbea', 'adcb']\n",
    "    Anagrams of 'abcd' in the above string:\n",
    "    ['bcda', 'cbda', 'adcb']"
   ]
  },
  {
   "cell_type": "code",
   "execution_count": 26,
   "metadata": {},
   "outputs": [
    {
     "name": "stdout",
     "output_type": "stream",
     "text": [
      "Orginal list of strings:\n",
      "['bcda', 'abce', 'cbda', 'cbea', 'adcb']\n",
      "\n",
      "Anagrams of 'abcd' in the above string: \n",
      "['bcda', 'cbda', 'adcb']\n"
     ]
    }
   ],
   "source": [
    "from collections import Counter  \n",
    "texts = [\"bcda\", \"abce\", \"cbda\", \"cbea\", \"adcb\"]\n",
    "str1 = \"abcd\"\n",
    "print(\"Orginal list of strings:\")\n",
    "print(texts) \n",
    "result = list(filter(lambda x: (Counter(str1) == Counter(x)), texts)) \n",
    "print(\"\\nAnagrams of 'abcd' in the above string: \")\n",
    "print(result)"
   ]
  },
  {
   "cell_type": "markdown",
   "metadata": {},
   "source": [
    "##### Q20. Write a Python program to find the numbers of a given string and store them in a list, display the numbers which are bigger than the length of the list in sorted form. Use lambda function to solve the problem.\n",
    "    Original string: sdf 23 safs8 5 sdfsd8 sdfs 56 21sfs 20 5\n",
    "    Numbers in sorted form:\n",
    "    20 23 56"
   ]
  },
  {
   "cell_type": "code",
   "execution_count": 23,
   "metadata": {},
   "outputs": [
    {
     "name": "stdout",
     "output_type": "stream",
     "text": [
      "Original string:  sdf 23 safs8 5 sdfsd8 sdfs 56 21sfs 20 5\n",
      "Numbers in sorted form:\n",
      "20 23 56 "
     ]
    }
   ],
   "source": [
    "str1 = \"sdf 23 safs8 5 sdfsd8 sdfs 56 21sfs 20 5\"\n",
    "print(\"Original string: \",str1)\n",
    "str_num=[i for i in str1.split(' ')]\n",
    "lenght=len(str_num)\n",
    "numbers=sorted([int(x) for x in str_num if x.isdigit()])\n",
    "print('Numbers in sorted form:')\n",
    "for i in ((filter(lambda x:x>lenght,numbers))):\n",
    "    print(i,end=' ')"
   ]
  },
  {
   "cell_type": "markdown",
   "metadata": {},
   "source": [
    "##### Q21. Write a Python program that multiply each number of given list with a given number using lambda function. Print the result. \n",
    "    Original list: [2, 4, 6, 9, 11]\n",
    "    Given number: 2\n",
    "    Result:\n",
    "    4 8 12 18 22"
   ]
  },
  {
   "cell_type": "code",
   "execution_count": 1,
   "metadata": {},
   "outputs": [
    {
     "name": "stdout",
     "output_type": "stream",
     "text": [
      "Original list:  [2, 4, 6, 9, 11]\n",
      "Given number:  2\n",
      "Result:\n",
      "4 8 12 18 22\n"
     ]
    }
   ],
   "source": [
    "nums = [2, 4, 6, 9 , 11]\n",
    "n = 2\n",
    "print(\"Original list: \", nums)\n",
    "print(\"Given number: \", n)\n",
    "filtered_numbers=list(map(lambda number:number*n,nums))\n",
    "print(\"Result:\")\n",
    "print(' '.join(map(str,filtered_numbers)))"
   ]
  },
  {
   "cell_type": "markdown",
   "metadata": {},
   "source": [
    "##### Q22. Write a Python program that sum the length of the names of a given list of names after removing the names that starts with an lowercase letter. Use lambda function. \n",
    "    Result:\n",
    "    16 "
   ]
  },
  {
   "cell_type": "code",
   "execution_count": 2,
   "metadata": {},
   "outputs": [
    {
     "name": "stdout",
     "output_type": "stream",
     "text": [
      "Result:\n",
      "16\n"
     ]
    }
   ],
   "source": [
    "sample_names = ['sally', 'Dylan', 'rebecca', 'Diana', 'Joanne', 'keith']\n",
    "sample_names=list(filter(lambda el:el[0].isupper() and el[1:].islower(),sample_names))\n",
    "print(\"Result:\")\n",
    "print(len(''.join(sample_names)))"
   ]
  },
  {
   "cell_type": "markdown",
   "metadata": {},
   "source": [
    "##### Q23. Write a Python program to calculate the sum of the positive and negative numbers of a given list of numbers using lambda function. \n",
    "    Original list: [2, 4, -6, -9, 11, -12, 14, -5, 17]\n",
    "    Sum of the positive numbers: -32\n",
    "    Sum of the negative numbers: 48"
   ]
  },
  {
   "cell_type": "code",
   "execution_count": 3,
   "metadata": {},
   "outputs": [
    {
     "name": "stdout",
     "output_type": "stream",
     "text": [
      "Original list: [2, 4, -6, -9, 11, -12, 14, -5, 17]\n",
      "Sum of the positive numbers:  -32\n",
      "Sum of the negative numbers:  48\n"
     ]
    }
   ],
   "source": [
    "nums = [2, 4, -6, -9, 11, -12, 14, -5, 17]\n",
    "print(\"Original list:\",nums)\n",
    "\n",
    "total_negative_nums = list(filter(lambda nums:nums<0,nums))\n",
    "total_positive_nums = list(filter(lambda nums:nums>0,nums))\n",
    "\n",
    "print(\"Sum of the positive numbers: \",sum(total_negative_nums))\n",
    "print(\"Sum of the negative numbers: \",sum(total_positive_nums))"
   ]
  },
  {
   "cell_type": "markdown",
   "metadata": {},
   "source": [
    "##### Q24. Write a Python program to find numbers within a given range where every number is divisible by every digit it contains. \n",
    "    Sample Output:\n",
    "    [1, 2, 3, 4, 5, 6, 7, 8, 9, 11, 12, 15, 22]"
   ]
  },
  {
   "cell_type": "code",
   "execution_count": 4,
   "metadata": {},
   "outputs": [
    {
     "name": "stdout",
     "output_type": "stream",
     "text": [
      "[1, 2, 3, 4, 5, 6, 7, 8, 9, 11, 12, 15, 22]\n"
     ]
    }
   ],
   "source": [
    "def divisible_by_digits(start_num, end_num):\n",
    "    return [n for n in range(start_num, end_num+1) \\\n",
    "                if not any(map(lambda x: int(x) == 0 or n%int(x) != 0, str(n)))]\n",
    "print(divisible_by_digits(1,22))"
   ]
  },
  {
   "cell_type": "markdown",
   "metadata": {},
   "source": [
    "##### Q25. Write a Python program to create the next bigger number by rearranging the digits of a given number. \n",
    "    Original number: 12\n",
    "    Next bigger number: 21\n",
    "    Original number: 10\n",
    "    Next bigger number: False\n",
    "    Original number: 201\n",
    "    Next bigger number: 210\n",
    "    Original number: 102\n",
    "    Next bigger number: 120\n",
    "    Original number: 445\n",
    "    Next bigger number: 454"
   ]
  },
  {
   "cell_type": "code",
   "execution_count": 5,
   "metadata": {},
   "outputs": [
    {
     "name": "stdout",
     "output_type": "stream",
     "text": [
      "Original number: 12\n",
      "Next bigger number: 21\n",
      "\n",
      "Original number: 10\n",
      "Next bigger number: False\n",
      "\n",
      "Original number: 201\n",
      "Next bigger number: 210\n",
      "\n",
      "Original number: 102\n",
      "Next bigger number: 120\n",
      "\n",
      "Original number: 445\n",
      "Next bigger number: 454\n"
     ]
    }
   ],
   "source": [
    "def rearrange_bigger(n):\n",
    "    #Break the number into digits and store in a list\n",
    "    nums = list(str(n))\n",
    "    for i in range(len(nums)-2,-1,-1):\n",
    "        if nums[i] < nums[i+1]:\n",
    "            z = nums[i:]\n",
    "            y = min(filter(lambda x: x > z[0], z))\n",
    "            z.remove(y)\n",
    "            z.sort()\n",
    "            nums[i:] = [y] + z\n",
    "            return int(\"\".join(nums))\n",
    "    return False\n",
    "n = 12\n",
    "print(\"Original number:\",n)\n",
    "print(\"Next bigger number:\",rearrange_bigger(n))\n",
    "\n",
    "n = 10\n",
    "print(\"\\nOriginal number:\",n)\n",
    "print(\"Next bigger number:\",rearrange_bigger(n))\n",
    "      \n",
    "n = 201\n",
    "print(\"\\nOriginal number:\",n)\n",
    "print(\"Next bigger number:\",rearrange_bigger(n))\n",
    "n = 102\n",
    "print(\"\\nOriginal number:\",n)\n",
    "print(\"Next bigger number:\",rearrange_bigger(n))\n",
    "n = 445\n",
    "print(\"\\nOriginal number:\",n)\n",
    "print(\"Next bigger number:\",rearrange_bigger(n))"
   ]
  },
  {
   "cell_type": "markdown",
   "metadata": {},
   "source": [
    "##### Q26. Write a Python program to find the list with maximum and minimum length using lambda. \n",
    "    Original list:\n",
    "    [[0], [1, 3], [5, 7], [9, 11], [13, 15, 17]]\n",
    "    List with maximum length of lists:\n",
    "    (3, [13, 15, 17])\n",
    "    List with minimum length of lists:\n",
    "    (1, [0])"
   ]
  },
  {
   "cell_type": "code",
   "execution_count": 6,
   "metadata": {},
   "outputs": [
    {
     "name": "stdout",
     "output_type": "stream",
     "text": [
      "Original list:\n",
      "[[0], [1, 3], [5, 7], [9, 11], [13, 15, 17]]\n",
      "\n",
      "List with maximum length of lists:\n",
      "(3, [13, 15, 17])\n",
      "\n",
      "List with minimum length of lists:\n",
      "(1, [0])\n"
     ]
    }
   ],
   "source": [
    "def max_length_list(input_list):\n",
    "    max_length = max(len(x) for x in input_list )   \n",
    "    max_list = max(input_list, key = lambda i: len(i))    \n",
    "    return(max_length, max_list)\n",
    "    \n",
    "def min_length_list(input_list):\n",
    "    min_length = min(len(x) for x in input_list )  \n",
    "    min_list = min(input_list, key = lambda i: len(i))\n",
    "    return(min_length, min_list)\n",
    "      \n",
    "list1 = [[0], [1, 3], [5, 7], [9, 11], [13, 15, 17]]\n",
    "print(\"Original list:\")\n",
    "print(list1)\n",
    "print(\"\\nList with maximum length of lists:\")\n",
    "print(max_length_list(list1))\n",
    "print(\"\\nList with minimum length of lists:\")\n",
    "print(min_length_list(list1))"
   ]
  },
  {
   "cell_type": "markdown",
   "metadata": {},
   "source": [
    "##### Q27. Write a Python program to sort each sublist of strings in a given list of lists using lambda.\n",
    "    Original list:\n",
    "    [['green', 'orange'], ['black', 'white'], ['white', 'black', 'orange']]\n",
    "    After sorting each sublist of the said list of lists:\n",
    "    [['green', 'orange'], ['black', 'white'], ['black', 'orange', 'white']]"
   ]
  },
  {
   "cell_type": "code",
   "execution_count": 7,
   "metadata": {},
   "outputs": [
    {
     "name": "stdout",
     "output_type": "stream",
     "text": [
      "\n",
      "Original list:\n",
      "[['green', 'orange'], ['black', 'white'], ['white', 'black', 'orange']]\n",
      "\n",
      "After sorting each sublist of the said list of lists:\n",
      "[['green', 'orange'], ['black', 'white'], ['black', 'orange', 'white']]\n"
     ]
    }
   ],
   "source": [
    "def sort_sublists(input_list):\n",
    "    result = [sorted(x, key = lambda x:x[0]) for x in input_list] \n",
    "    return result\n",
    "color1 = [[\"green\", \"orange\"], [\"black\", \"white\"], [\"white\", \"black\", \"orange\"]]\n",
    "print(\"\\nOriginal list:\")\n",
    "print(color1)  \n",
    "print(\"\\nAfter sorting each sublist of the said list of lists:\")\n",
    "print(sort_sublists(color1))"
   ]
  },
  {
   "cell_type": "markdown",
   "metadata": {},
   "source": [
    "##### Q28. Write a Python program to sort a given list of lists by length and value using lambda. \n",
    "    Original list:\n",
    "    [[2], [0], [1, 3], [0, 7], [9, 11], [13, 15, 17]]\n",
    "    Sort the list of lists by length and value:\n",
    "    [[0], [2], [0, 7], [1, 3], [9, 11], [13, 15, 17]]"
   ]
  },
  {
   "cell_type": "code",
   "execution_count": 8,
   "metadata": {},
   "outputs": [
    {
     "name": "stdout",
     "output_type": "stream",
     "text": [
      "Original list:\n",
      "[[2], [0], [1, 3], [0, 7], [9, 11], [13, 15, 17]]\n",
      "\n",
      "Sort the list of lists by length and value:\n",
      "[[0], [2], [0, 7], [1, 3], [9, 11], [13, 15, 17]]\n"
     ]
    }
   ],
   "source": [
    "def sort_sublists(input_list):\n",
    "    result = sorted(input_list, key=lambda l: (len(l), l))\n",
    "    return result\n",
    "list1 = [[2], [0], [1, 3], [0, 7], [9, 11], [13, 15, 17]]\n",
    "print(\"Original list:\")\n",
    "print(list1)\n",
    "print(\"\\nSort the list of lists by length and value:\")\n",
    "print(sort_sublists(list1))"
   ]
  },
  {
   "cell_type": "markdown",
   "metadata": {},
   "source": [
    "##### Q29. Write a Python program to find the maximum value in a given heterogeneous list using lambda. \n",
    "    Original list:\n",
    "    ['Python', 3, 2, 4, 5, 'version']\n",
    "    Maximum values in the said list using lambda:\n",
    "    5"
   ]
  },
  {
   "cell_type": "code",
   "execution_count": 9,
   "metadata": {},
   "outputs": [
    {
     "name": "stdout",
     "output_type": "stream",
     "text": [
      "Original list:\n",
      "['Python', 3, 2, 4, 5, 'version']\n",
      "\n",
      "Maximum values in the said list using lambda:\n",
      "5\n"
     ]
    }
   ],
   "source": [
    "def max_val(list_val):\n",
    "    max_val = max(list_val, key = lambda i: (isinstance(i, int), i))  \n",
    "    return(max_val)\n",
    "\n",
    "list_val = ['Python', 3, 2, 4, 5, 'version'] \n",
    "print(\"Original list:\")\n",
    "print(list_val)\n",
    "print(\"\\nMaximum values in the said list using lambda:\")\n",
    "print(max_val(list_val))"
   ]
  },
  {
   "cell_type": "markdown",
   "metadata": {},
   "source": [
    "##### Q30. Write a Python program to sort a given matrix in ascending order according to the sum of its rows using lambda. \n",
    "    Original Matrix:\n",
    "    [[1, 2, 3], [2, 4, 5], [1, 1, 1]]\n",
    "    Sort the said matrix in ascending order according to the sum of its rows\n",
    "    [[1, 1, 1], [1, 2, 3], [2, 4, 5]]\n",
    "    Original Matrix:\n",
    "    [[1, 2, 3], [-2, 4, -5], [1, -1, 1]]\n",
    "    Sort the said matrix in ascending order according to the sum of its rows\n",
    "    [[-2, 4, -5], [1, -1, 1], [1, 2, 3]]"
   ]
  },
  {
   "cell_type": "code",
   "execution_count": 10,
   "metadata": {},
   "outputs": [
    {
     "name": "stdout",
     "output_type": "stream",
     "text": [
      "Original Matrix:\n",
      "[[1, 2, 3], [2, 4, 5], [1, 1, 1]]\n",
      "\n",
      "Sort the said matrix in ascending order according to the sum of its rows\n",
      "[[1, 1, 1], [1, 2, 3], [2, 4, 5]]\n",
      "\n",
      "Original Matrix:\n",
      "[[1, 2, 3], [-2, 4, -5], [1, -1, 1]]\n",
      "\n",
      "Sort the said matrix in ascending order according to the sum of its rows\n",
      "[[-2, 4, -5], [1, -1, 1], [1, 2, 3]]\n"
     ]
    }
   ],
   "source": [
    "def sort_matrix(M):\n",
    "    result = sorted(M, key=lambda matrix_row: sum(matrix_row)) \n",
    "    return result\n",
    "\n",
    "matrix1 = [[1, 2, 3], [2, 4, 5], [1, 1, 1]]\n",
    "matrix2 = [[1, 2, 3], [-2, 4, -5], [1, -1, 1]]\n",
    "\n",
    "print(\"Original Matrix:\")\n",
    "print(matrix1)\n",
    "print(\"\\nSort the said matrix in ascending order according to the sum of its rows\") \n",
    "print(sort_matrix(matrix1))\n",
    "print(\"\\nOriginal Matrix:\")\n",
    "print(matrix2) \n",
    "print(\"\\nSort the said matrix in ascending order according to the sum of its rows\") \n",
    "print(sort_matrix(matrix2))"
   ]
  },
  {
   "cell_type": "markdown",
   "metadata": {},
   "source": [
    "##### Q31. Write a Python program to extract specified size of strings from a give list of string values using lambda. \n",
    "    Original list:\n",
    "    ['Python', 'list', 'exercises', 'practice', 'solution']\n",
    "    length of the string to extract:\n",
    "    8\n",
    "    After extracting strings of specified length from the said list:\n",
    "    ['practice', 'solution']"
   ]
  },
  {
   "cell_type": "code",
   "execution_count": 11,
   "metadata": {},
   "outputs": [
    {
     "name": "stdout",
     "output_type": "stream",
     "text": [
      "Original list:\n",
      "['Python', 'list', 'exercises', 'practice', 'solution']\n",
      "\n",
      "length of the string to extract:\n",
      "8\n",
      "\n",
      "After extracting strings of specified length from the said list:\n",
      "['practice', 'solution']\n"
     ]
    }
   ],
   "source": [
    "def extract_string(str_list1, l):\n",
    "    result = list(filter(lambda e: len(e) == l, str_list1))\n",
    "    return result\n",
    "\n",
    "str_list1 = ['Python', 'list', 'exercises', 'practice', 'solution'] \n",
    "print(\"Original list:\")\n",
    "print(str_list1)\n",
    "l = 8\n",
    "print(\"\\nlength of the string to extract:\")\n",
    "print(l)\n",
    "print(\"\\nAfter extracting strings of specified length from the said list:\")\n",
    "print(extract_string(str_list1 , l))"
   ]
  },
  {
   "cell_type": "markdown",
   "metadata": {},
   "source": [
    "##### Q32. Write a Python program to count float number in a given mixed list using lambda. \n",
    "    Original list:\n",
    "    [1, 'abcd', 3.12, 1.2, 4, 'xyz', 5, 'pqr', 7, -5, -12.22]\n",
    "    Number of floats in the said mixed list:\n",
    "    3"
   ]
  },
  {
   "cell_type": "code",
   "execution_count": 12,
   "metadata": {},
   "outputs": [
    {
     "name": "stdout",
     "output_type": "stream",
     "text": [
      "Original list:\n",
      "[1, 'abcd', 3.12, 1.2, 4, 'xyz', 5, 'pqr', 7, -5, -12.22]\n",
      "\n",
      "Number of floats in the said mixed list:\n",
      "3\n"
     ]
    }
   ],
   "source": [
    "def count_integer(list1):\n",
    "    ert = list(map(lambda i: isinstance(i, float), list1)) \n",
    "    result = len([e for e in ert if e])         \n",
    "    return result\n",
    "list1 = [1, 'abcd', 3.12, 1.2, 4, 'xyz', 5, 'pqr', 7, -5, -12.22]\n",
    "print(\"Original list:\")\n",
    "print(list1)\n",
    "print(\"\\nNumber of floats in the said mixed list:\")\n",
    "print(count_integer(list1))"
   ]
  },
  {
   "cell_type": "markdown",
   "metadata": {},
   "source": [
    "##### Q33. Write a Python program to check whether a given string contains a capital letter, a lower case letter, a number and a minimum length using lambda. \n",
    "    Input the string: Google5\n",
    "    ['Valid string.']"
   ]
  },
  {
   "cell_type": "code",
   "execution_count": 13,
   "metadata": {},
   "outputs": [
    {
     "name": "stdout",
     "output_type": "stream",
     "text": [
      "Input the string: Google5\n",
      "['Valid string.']\n"
     ]
    }
   ],
   "source": [
    "def check_string(str1):\n",
    "    messg = [\n",
    "    lambda str1: any(x.isupper() for x in str1) or 'String must have 1 upper case character.',\n",
    "    lambda str1: any(x.islower() for x in str1) or 'String must have 1 lower case character.',\n",
    "    lambda str1: any(x.isdigit() for x in str1) or 'String must have 1 number.',\n",
    "    lambda str1: len(str1) >= 7                 or 'String length should be atleast 8.',]\n",
    "    result = [x for x in [i(str1) for i in messg] if x != True]\n",
    "    if not result:\n",
    "        result.append('Valid string.')\n",
    "    return result    \n",
    "s = input(\"Input the string: \")\n",
    "print(check_string(s))"
   ]
  },
  {
   "cell_type": "markdown",
   "metadata": {},
   "source": [
    "##### Q34. Write a Python program to filter the height and width of students, which are stored in a dictionary using lambda.\n",
    "    Original Dictionary:\n",
    "    {'Cierra Vega': (6.2, 70), 'Alden Cantrell': (5.9, 65), 'Kierra Gentry': (6.0, 68), 'Pierre Cox': (5.8, 66)}\n",
    "    Height> 6ft and Weight> 70kg:\n",
    "    {'Cierra Vega': (6.2, 70)}"
   ]
  },
  {
   "cell_type": "code",
   "execution_count": 14,
   "metadata": {},
   "outputs": [
    {
     "name": "stdout",
     "output_type": "stream",
     "text": [
      "Original Dictionary:\n",
      "{'Cierra Vega': (6.2, 70), 'Alden Cantrell': (5.9, 65), 'Kierra Gentry': (6.0, 68), 'Pierre Cox': (5.8, 66)}\n",
      "\n",
      "Height> 6ft and Weight> 70kg:\n",
      "{'Cierra Vega': (6.2, 70)}\n"
     ]
    }
   ],
   "source": [
    "def filter_data(students):\n",
    "    result = dict(filter(lambda x: (x[1][0], x[1][1]) > (6.0, 70), students.items()))\n",
    "    return result  \n",
    "students = {'Cierra Vega': (6.2, 70), 'Alden Cantrell': (5.9, 65), 'Kierra Gentry': (6.0, 68), 'Pierre Cox': (5.8, 66)}\n",
    "print(\"Original Dictionary:\")\n",
    "print(students)\n",
    "print(\"\\nHeight> 6ft and Weight> 70kg:\")\n",
    "print(filter_data(students))"
   ]
  },
  {
   "cell_type": "markdown",
   "metadata": {},
   "source": [
    "##### Q35. Write a Python program to check whether a specified list is sorted or not using lambda. \n",
    "    Original list:\n",
    "    [1, 2, 4, 6, 8, 10, 12, 14, 16, 17]\n",
    "    Is the said list is sorted!\n",
    "    True\n",
    "    Original list:\n",
    "    [1, 2, 4, 6, 8, 10, 12, 14, 16, 17]\n",
    "    Is the said list is sorted!\n",
    "    False"
   ]
  },
  {
   "cell_type": "code",
   "execution_count": 15,
   "metadata": {},
   "outputs": [
    {
     "name": "stdout",
     "output_type": "stream",
     "text": [
      "Original list:\n",
      "[1, 2, 4, 6, 8, 10, 12, 14, 16, 17]\n",
      "\n",
      "Is the said list is sorted!\n",
      "True\n",
      "\n",
      "Original list:\n",
      "[1, 2, 4, 6, 8, 10, 12, 14, 16, 17]\n",
      "\n",
      "Is the said list is sorted!\n",
      "False\n"
     ]
    }
   ],
   "source": [
    "def is_sort_list(nums, key=lambda x: x):\n",
    "    for i, e in enumerate(nums[1:]):\n",
    "        if key(e) < key(nums[i]): \n",
    "            return False\n",
    "    return True\n",
    "nums1 = [1,2,4,6,8,10,12,14,16,17]\n",
    "print (\"Original list:\")\n",
    "print(nums1)\n",
    "print(\"\\nIs the said list is sorted!\")\n",
    "print(is_sort_list(nums1)) \n",
    "nums2 = [2,3,8,4,7,9,8,2,6,5,1,6,1,2,3,4,6,9,1,2]\n",
    "print (\"\\nOriginal list:\")\n",
    "print(nums1)\n",
    "print(\"\\nIs the said list is sorted!\")\n",
    "print(is_sort_list(nums2))"
   ]
  },
  {
   "cell_type": "markdown",
   "metadata": {},
   "source": [
    "##### Q36. Write a Python program to extract the nth element from a given list of tuples using lambda.\n",
    "    Original list:\n",
    "    [('Greyson Fulton', 98, 99), ('Brady Kent', 97, 96), ('Wyatt Knott', 91, 94), ('Beau Turnbull', 94, 98)]\n",
    "    Extract nth element ( n = 0 ) from the said list of tuples:\n",
    "    ['Greyson Fulton', 'Brady Kent', 'Wyatt Knott', 'Beau Turnbull']\n",
    "    Extract nth element ( n = 2 ) from the said list of tuples:\n",
    "    [99, 96, 94, 98]"
   ]
  },
  {
   "cell_type": "code",
   "execution_count": 16,
   "metadata": {},
   "outputs": [
    {
     "name": "stdout",
     "output_type": "stream",
     "text": [
      "Original list:\n",
      "[('Greyson Fulton', 98, 99), ('Brady Kent', 97, 96), ('Wyatt Knott', 91, 94), ('Beau Turnbull', 94, 98)]\n",
      "\n",
      "Extract nth element ( n = 0 ) from the said list of tuples:\n",
      "['Greyson Fulton', 'Brady Kent', 'Wyatt Knott', 'Beau Turnbull']\n",
      "\n",
      "Extract nth element ( n = 2 ) from the said list of tuples:\n",
      "[99, 96, 94, 98]\n"
     ]
    }
   ],
   "source": [
    "def extract_nth_element(test_list, n):\n",
    "    result = list(map (lambda x:(x[n]), test_list))\n",
    "    return result\n",
    "students = [('Greyson Fulton', 98, 99), ('Brady Kent', 97, 96), ('Wyatt Knott', 91, 94), ('Beau Turnbull', 94, 98)] \n",
    "print (\"Original list:\")\n",
    "print(students)\n",
    "n = 0\n",
    "print(\"\\nExtract nth element ( n =\",n,\") from the said list of tuples:\")\n",
    "print(extract_nth_element(students, n))\n",
    "n = 2\n",
    "print(\"\\nExtract nth element ( n =\",n,\") from the said list of tuples:\")\n",
    "print(extract_nth_element(students, n))"
   ]
  },
  {
   "cell_type": "markdown",
   "metadata": {},
   "source": [
    "##### Q37. Write a Python program to sort a list of lists by a given index of the inner list using lambda. \n",
    "    Original list:\n",
    "    [('Greyson Fulton', 98, 99), ('Brady Kent', 97, 96), ('Wyatt Knott', 91, 94), ('Beau Turnbull', 94, 98)]\n",
    "    Sort the said list of lists by a given index ( Index = 0 ) of the inner list\n",
    "    [('Beau Turnbull', 94, 98), ('Brady Kent', 97, 96), ('Greyson Fulton', 98, 99), ('Wyatt Knott', 91, 94)]\n",
    "    Sort the said list of lists by a given index ( Index = 2 ) of the inner list\n",
    "    [('Wyatt Knott', 91, 94), ('Brady Kent', 97, 96), ('Beau Turnbull', 94, 98), ('Greyson Fulton', 98, 99)]"
   ]
  },
  {
   "cell_type": "code",
   "execution_count": 17,
   "metadata": {},
   "outputs": [
    {
     "name": "stdout",
     "output_type": "stream",
     "text": [
      "Original list:\n",
      "[('Greyson Fulton', 98, 99), ('Brady Kent', 97, 96), ('Wyatt Knott', 91, 94), ('Beau Turnbull', 94, 98)]\n",
      "\n",
      "Sort the said list of lists by a given index ( Index =  0 ) of the inner list\n",
      "[('Beau Turnbull', 94, 98), ('Brady Kent', 97, 96), ('Greyson Fulton', 98, 99), ('Wyatt Knott', 91, 94)]\n",
      "\n",
      "Sort the said list of lists by a given index ( Index =  2 ) of the inner list\n",
      "[('Wyatt Knott', 91, 94), ('Brady Kent', 97, 96), ('Beau Turnbull', 94, 98), ('Greyson Fulton', 98, 99)]\n"
     ]
    }
   ],
   "source": [
    "def index_on_inner_list(list_data, index_no):\n",
    "    result = sorted(list_data, key=lambda x: x[index_no])\n",
    "    return result\n",
    "students = [('Greyson Fulton', 98, 99), ('Brady Kent', 97, 96), ('Wyatt Knott', 91, 94), ('Beau Turnbull', 94, 98)] \n",
    "print (\"Original list:\")\n",
    "print(students)\n",
    "index_no = 0\n",
    "print(\"\\nSort the said list of lists by a given index\",\"( Index = \",index_no,\") of the inner list\")\n",
    "print(index_on_inner_list(students, index_no))\n",
    "index_no = 2\n",
    "print(\"\\nSort the said list of lists by a given index\",\"( Index = \",index_no,\") of the inner list\")\n",
    "print(index_on_inner_list(students, index_no))"
   ]
  },
  {
   "cell_type": "markdown",
   "metadata": {},
   "source": [
    "##### Q38. Write a Python program to remove all elements from a given list present in another list using lambda.\n",
    "    Original lists:\n",
    "    list1: [1, 2, 3, 4, 5, 6, 7, 8, 9, 10]\n",
    "    list2: [2, 4, 6, 8]\n",
    "    Remove all elements from 'list1' present in 'list2:\n",
    "    [1, 3, 5, 7, 9, 10]"
   ]
  },
  {
   "cell_type": "code",
   "execution_count": 18,
   "metadata": {},
   "outputs": [
    {
     "name": "stdout",
     "output_type": "stream",
     "text": [
      "Original lists:\n",
      "list1: [1, 2, 3, 4, 5, 6, 7, 8, 9, 10]\n",
      "list2: [2, 4, 6, 8]\n",
      "\n",
      "Remove all elements from 'list1' present in 'list2:\n",
      "[1, 3, 5, 7, 9, 10]\n"
     ]
    }
   ],
   "source": [
    "def index_on_inner_list(list1, list2):\n",
    "    result = list(filter(lambda x: x not in list2, list1))\n",
    "    return result\n",
    "list1 = [1,2,3,4,5,6,7,8,9,10]\n",
    "list2 = [2,4,6,8]\n",
    "print(\"Original lists:\")\n",
    "print(\"list1:\", list1)\n",
    "print(\"list2:\", list2)\n",
    "print(\"\\nRemove all elements from 'list1' present in 'list2:\")\n",
    "print(index_on_inner_list(list1, list2))"
   ]
  },
  {
   "cell_type": "markdown",
   "metadata": {},
   "source": [
    "##### Q39. Write a Python program to find the elements of a given list of strings that contain specific substring using lambda. \n",
    "    Original list:\n",
    "    ['red', 'black', 'white', 'green', 'orange']\n",
    "    Substring to search:\n",
    "    ack\n",
    "    Elements of the said list that contain specific substring:\n",
    "    ['black']\n",
    "    Substring to search:\n",
    "    abc\n",
    "    Elements of the said list that contain specific substring:\n",
    "    []"
   ]
  },
  {
   "cell_type": "code",
   "execution_count": 19,
   "metadata": {},
   "outputs": [
    {
     "name": "stdout",
     "output_type": "stream",
     "text": [
      "Original list:\n",
      "['red', 'black', 'white', 'green', 'orange']\n",
      "\n",
      "Substring to search:\n",
      "ack\n",
      "Elements of the said list that contain specific substring:\n",
      "['black']\n",
      "\n",
      "Substring to search:\n",
      "abc\n",
      "Elements of the said list that contain specific substring:\n",
      "[]\n"
     ]
    }
   ],
   "source": [
    "def find_substring(str1, sub_str):\n",
    "    result = list(filter(lambda x: sub_str in x, str1))\n",
    "    return result\n",
    "colors = [\"red\", \"black\", \"white\", \"green\", \"orange\"]\n",
    "print(\"Original list:\")\n",
    "print(colors)\n",
    "\n",
    "sub_str = \"ack\"\n",
    "print(\"\\nSubstring to search:\")\n",
    "print(sub_str)\n",
    "print(\"Elements of the said list that contain specific substring:\")\n",
    "print(find_substring(colors, sub_str))\n",
    "sub_str = \"abc\"\n",
    "print(\"\\nSubstring to search:\")\n",
    "print(sub_str)\n",
    "print(\"Elements of the said list that contain specific substring:\")\n",
    "print(find_substring(colors, sub_str))"
   ]
  },
  {
   "cell_type": "markdown",
   "metadata": {},
   "source": [
    "##### Q40. Write a Python program to find the nested lists elements, which are present in another list using lambda. \n",
    "    Original lists: [1, 2, 3, 4, 5, 6, 7, 8, 9, 10, 11, 12, 13, 14]\n",
    "    [[12, 18, 23, 25, 45], [7, 11, 19, 24, 28], [1, 5, 8, 18, 15, 16]]\n",
    "    Intersection of said nested lists:\n",
    "    [[12], [7, 11], [1, 5, 8]]"
   ]
  },
  {
   "cell_type": "code",
   "execution_count": 20,
   "metadata": {},
   "outputs": [
    {
     "name": "stdout",
     "output_type": "stream",
     "text": [
      "\n",
      "Original lists:\n",
      "[1, 2, 3, 4, 5, 6, 7, 8, 9, 10, 11, 12, 13, 14]\n",
      "[[12, 18, 23, 25, 45], [7, 11, 19, 24, 28], [1, 5, 8, 18, 15, 16]]\n",
      "\n",
      "Intersection of said nested lists:\n",
      "[[12], [7, 11], [1, 5, 8]]\n"
     ]
    }
   ],
   "source": [
    "def intersection_nested_lists(l1, l2):\n",
    "    result = [list(filter(lambda x: x in l1, sublist)) for sublist in l2]\n",
    "    return result\n",
    "nums1 = [1, 2, 3, 4, 5, 6, 7, 8, 9, 10, 11, 12, 13, 14]\n",
    "nums2 = [[12, 18, 23, 25, 45], [7, 11, 19, 24, 28], [1, 5, 8, 18, 15, 16]]\n",
    "print(\"\\nOriginal lists:\")\n",
    "print(nums1)\n",
    "print(nums2)\n",
    "print(\"\\nIntersection of said nested lists:\")\n",
    "print(intersection_nested_lists(nums1, nums2))"
   ]
  },
  {
   "cell_type": "markdown",
   "metadata": {},
   "source": [
    "##### Q41. Write a Python program to reverse strings in a given list of string values using lambda. \n",
    "    Original lists:\n",
    "    ['Red', 'Green', 'Blue', 'White', 'Black']\n",
    "    Reverse strings of the said given list:\n",
    "    ['deR', 'neerG', 'eulB', 'etihW', 'kcalB']"
   ]
  },
  {
   "cell_type": "code",
   "execution_count": 21,
   "metadata": {},
   "outputs": [
    {
     "name": "stdout",
     "output_type": "stream",
     "text": [
      "\n",
      "Original lists:\n",
      "['Red', 'Green', 'Blue', 'White', 'Black']\n",
      "\n",
      "Reverse strings of the said given list:\n",
      "['deR', 'neerG', 'eulB', 'etihW', 'kcalB']\n"
     ]
    }
   ],
   "source": [
    "def reverse_strings_list(string_list):\n",
    "    result = list(map(lambda x: \"\".join(reversed(x)), string_list))\n",
    "    return result\n",
    "\n",
    "colors_list = [\"Red\", \"Green\", \"Blue\", \"White\", \"Black\"]\n",
    "print(\"\\nOriginal lists:\")\n",
    "print(colors_list)\n",
    "print(\"\\nReverse strings of the said given list:\")\n",
    "print(reverse_strings_list(colors_list))"
   ]
  },
  {
   "cell_type": "markdown",
   "metadata": {},
   "source": [
    "##### Q42. Write a Python program to calculate the product of a given list of numbers using lambda. \n",
    "    list1: [1, 2, 3, 4, 5, 6, 7, 8, 9, 10]\n",
    "    Product of the said list numbers:\n",
    "    3628800\n",
    "    list2: [2.2, 4.12, 6.6, 8.1, 8.3]\n",
    "    Product of the said list numbers:\n",
    "    4021.8599520000007"
   ]
  },
  {
   "cell_type": "code",
   "execution_count": 22,
   "metadata": {},
   "outputs": [
    {
     "name": "stdout",
     "output_type": "stream",
     "text": [
      "list1: [1, 2, 3, 4, 5, 6, 7, 8, 9, 10]\n",
      "Product of the said list numbers:\n",
      "3628800\n",
      "\n",
      "list2: [2.2, 4.12, 6.6, 8.1, 8.3]\n",
      "Product of the said list numbers:\n",
      "4021.8599520000007\n"
     ]
    }
   ],
   "source": [
    "import functools \n",
    "def remove_duplicates(nums):\n",
    "    result = functools.reduce(lambda x, y: x * y, nums, 1)\n",
    "    return result\n",
    "nums1 = [1,2,3,4,5,6,7,8,9,10]\n",
    "nums2 = [2.2,4.12,6.6,8.1,8.3]\n",
    "print(\"list1:\", nums1)\n",
    "print(\"Product of the said list numbers:\")\n",
    "print(remove_duplicates(nums1))\n",
    "print(\"\\nlist2:\", nums2)\n",
    "print(\"Product of the said list numbers:\")\n",
    "print(remove_duplicates(nums2))"
   ]
  },
  {
   "cell_type": "markdown",
   "metadata": {},
   "source": [
    "##### Q43. Write a Python program to multiply all the numbers in a given list using lambda. \n",
    "    Original list:\n",
    "    [4, 3, 2, 2, -1, 18]\n",
    "    Mmultiply all the numbers of the said list: -864\n",
    "    Original list:\n",
    "    [2, 4, 8, 8, 3, 2, 9]\n",
    "    Mmultiply all the numbers of the said list: 27648"
   ]
  },
  {
   "cell_type": "code",
   "execution_count": 23,
   "metadata": {},
   "outputs": [
    {
     "name": "stdout",
     "output_type": "stream",
     "text": [
      "Original list: \n",
      "[4, 3, 2, 2, -1, 18]\n",
      "Mmultiply all the numbers of the said list: -864\n",
      "\n",
      "Original list: \n",
      "[2, 4, 8, 8, 3, 2, 9]\n",
      "Mmultiply all the numbers of the said list: 27648\n"
     ]
    }
   ],
   "source": [
    "from functools import reduce \n",
    "def mutiple_list(nums):\n",
    "    result =  reduce(lambda x, y: x*y, nums)\n",
    "    return result\n",
    "nums = [4, 3, 2, 2, -1, 18]\n",
    "print (\"Original list: \")\n",
    "print(nums)\n",
    "print(\"Mmultiply all the numbers of the said list:\",mutiple_list(nums))\n",
    "nums = [2, 4, 8, 8, 3, 2, 9]\n",
    "print (\"\\nOriginal list: \")\n",
    "print(nums)\n",
    "print(\"Mmultiply all the numbers of the said list:\",mutiple_list(nums))"
   ]
  },
  {
   "cell_type": "markdown",
   "metadata": {},
   "source": [
    "##### Q44. Write a Python program to calculate the average value of the numbers in a given tuple of tuples using lambda. \n",
    "    Original Tuple:\n",
    "    ((10, 10, 10), (30, 45, 56), (81, 80, 39), (1, 2, 3))\n",
    "    Average value of the numbers of the said tuple of tuples:\n",
    "    (30.5, 34.25, 27.0)\n",
    "    Original Tuple:\n",
    "    ((1, 1, -5), (30, -15, 56), (81, -60, -39), (-10, 2, 3))\n",
    "    Average value of the numbers of the said tuple of tuples:\n",
    "    (25.5, -18.0, 3.75)"
   ]
  },
  {
   "cell_type": "code",
   "execution_count": 24,
   "metadata": {},
   "outputs": [
    {
     "name": "stdout",
     "output_type": "stream",
     "text": [
      "Original Tuple: \n",
      "((10, 10, 10), (30, 45, 56), (81, 80, 39), (1, 2, 3))\n",
      "\n",
      "Average value of the numbers of the said tuple of tuples:\n",
      " (30.5, 34.25, 27.0)\n",
      "\n",
      "Original Tuple: \n",
      "((1, 1, -5), (30, -15, 56), (81, -60, -39), (-10, 2, 3))\n",
      "\n",
      "Average value of the numbers of the said tuple of tuples:\n",
      " (25.5, -18.0, 3.75)\n"
     ]
    }
   ],
   "source": [
    "def average_tuple(nums):\n",
    "    result = tuple(map(lambda x: sum(x) / float(len(x)), zip(*nums)))\n",
    "    return result\n",
    "\n",
    "nums = ((10, 10, 10), (30, 45, 56), (81, 80, 39), (1, 2, 3))\n",
    "print (\"Original Tuple: \")\n",
    "print(nums)\n",
    "print(\"\\nAverage value of the numbers of the said tuple of tuples:\\n\",average_tuple(nums))\n",
    "nums = ((1, 1, -5), (30, -15, 56), (81, -60, -39), (-10, 2, 3))\n",
    "print (\"\\nOriginal Tuple: \")\n",
    "print(nums)\n",
    "print(\"\\nAverage value of the numbers of the said tuple of tuples:\\n\",average_tuple(nums))"
   ]
  },
  {
   "cell_type": "markdown",
   "metadata": {},
   "source": [
    "##### Q45. Write a Python program to convert string element to integer inside a given tuple using lambda. \n",
    "    Original tuple values:\n",
    "    (('233', 'ABCD', '33'), ('1416', 'EFGH', '55'), ('2345', 'WERT', '34'))\n",
    "    New tuple values:\n",
    "    ((233, 33), (1416, 55), (2345, 34))"
   ]
  },
  {
   "cell_type": "code",
   "execution_count": 25,
   "metadata": {},
   "outputs": [
    {
     "name": "stdout",
     "output_type": "stream",
     "text": [
      "Original tuple values:\n",
      "(('233', 'ABCD', '33'), ('1416', 'EFGH', '55'), ('2345', 'WERT', '34'))\n",
      "\n",
      "New tuple values:\n",
      "((233, 33), (1416, 55), (2345, 34))\n"
     ]
    }
   ],
   "source": [
    "def tuple_int_str(tuple_str):\n",
    "    result = tuple(map(lambda x: (int(x[0]), int(x[2])), tuple_str))\n",
    "    return result     \n",
    "tuple_str =  (('233', 'ABCD', '33'), ('1416', 'EFGH', '55'), ('2345', 'WERT', '34'))\n",
    "print(\"Original tuple values:\")\n",
    "print(tuple_str)\n",
    "print(\"\\nNew tuple values:\")\n",
    "print(tuple_int_str(tuple_str))"
   ]
  },
  {
   "cell_type": "markdown",
   "metadata": {},
   "source": [
    "##### Q46. Write a Python program to find index position and value of the maximum and minimum values in a given list of numbers using lambda. \n",
    "    Original list:\n",
    "    [12, 33, 23, 10.11, 67, 89, 45, 66.7, 23, 12, 11, 10.25, 54]\n",
    "    Index position and value of the maximum value of the said list:\n",
    "    (5, 89)\n",
    "    Index position and value of the minimum value of the said list:\n",
    "    (3, 10.11)"
   ]
  },
  {
   "cell_type": "code",
   "execution_count": 26,
   "metadata": {},
   "outputs": [
    {
     "name": "stdout",
     "output_type": "stream",
     "text": [
      "Original list:\n",
      "[12, 33, 23, 10.11, 67, 89, 45, 66.7, 23, 12, 11, 10.25, 54]\n",
      "\n",
      "Index position and value of the maximum value of the said list:\n",
      "(5, 89)\n",
      "\n",
      "Index position and value of the minimum value of the said list:\n",
      "(3, 10.11)\n"
     ]
    }
   ],
   "source": [
    "def position_max_min(nums):\n",
    "    max_result = max(enumerate(nums), key=(lambda x: x[1]))\n",
    "    min_result = min(enumerate(nums), key=(lambda x: x[1]))\n",
    "    return max_result,min_result\n",
    "\n",
    "nums = [12,33,23,10.11,67,89,45,66.7,23,12,11,10.25,54]\n",
    "print(\"Original list:\")\n",
    "print(nums)\n",
    "result = position_max_min(nums)\n",
    "print(\"\\nIndex position and value of the maximum value of the said list:\")\n",
    "print(result[0])\n",
    "print(\"\\nIndex position and value of the minimum value of the said list:\")\n",
    "print(result[1])"
   ]
  },
  {
   "cell_type": "markdown",
   "metadata": {},
   "source": [
    "##### Q47. Write a Python program to sort a given mixed list of integers and strings using lambda. Numbers must be sorted before strings. \n",
    "    Original list:\n",
    "    [19, 'red', 12, 'green', 'blue', 10, 'white', 'green', 1]\n",
    "    Sort the said mixed list of integers and strings:\n",
    "    [1, 10, 12, 19, 'blue', 'green', 'green', 'red', 'white']"
   ]
  },
  {
   "cell_type": "code",
   "execution_count": 27,
   "metadata": {},
   "outputs": [
    {
     "name": "stdout",
     "output_type": "stream",
     "text": [
      "Original list:\n",
      "[19, 'red', 12, 'green', 'blue', 10, 'white', 'green', 1]\n",
      "\n",
      "Sort the said  mixed list of integers and strings:\n",
      "[1, 10, 12, 19, 'blue', 'green', 'green', 'red', 'white']\n"
     ]
    }
   ],
   "source": [
    "def sort_mixed_list(mixed_list):\n",
    "    mixed_list.sort(key=lambda e: (isinstance(e, str), e))\n",
    "    return mixed_list\n",
    "mixed_list = [19,'red',12,'green','blue', 10,'white','green',1]\n",
    "print(\"Original list:\")\n",
    "print(mixed_list)\n",
    "print(\"\\nSort the said  mixed list of integers and strings:\")\n",
    "print(sort_mixed_list(mixed_list))"
   ]
  },
  {
   "cell_type": "markdown",
   "metadata": {},
   "source": [
    "##### Q48. Write a Python program to sort a given list of strings(numbers) numerically using lambda.\n",
    "    Original list:\n",
    "    ['4', '12', '45', '7', '0', '100', '200', '-12', '-500']\n",
    "    Sort the said list of strings(numbers) numerically:\n",
    "    ['-500', '-12', '0', '4', '7', '12', '45', '100', '200']"
   ]
  },
  {
   "cell_type": "code",
   "execution_count": 28,
   "metadata": {},
   "outputs": [
    {
     "name": "stdout",
     "output_type": "stream",
     "text": [
      "Original list:\n",
      "['4', '12', '45', '7', '0', '100', '200', '-12', '-500']\n",
      "\n",
      "Sort the said list of strings(numbers) numerically:\n",
      "['-500', '-12', '0', '4', '7', '12', '45', '100', '200']\n"
     ]
    }
   ],
   "source": [
    "def sort_numeric_strings(nums_str):\n",
    "    result = sorted(nums_str, key=lambda el: int(el))\n",
    "    return result\n",
    "nums_str = ['4','12','45','7','0','100','200','-12','-500']\n",
    "print(\"Original list:\")\n",
    "print(nums_str)\n",
    "print(\"\\nSort the said list of strings(numbers) numerically:\")\n",
    "print(sort_numeric_strings(nums_str))"
   ]
  },
  {
   "cell_type": "markdown",
   "metadata": {},
   "source": [
    "##### Q49. Write a Python program to count the occurrences of the items in a given list using lambda. \n",
    "    Original list:\n",
    "    [3, 4, 5, 8, 0, 3, 8, 5, 0, 3, 1, 5, 2, 3, 4, 2]\n",
    "    Count the occurrences of the items in the said list:\n",
    "    {3: 4, 4: 2, 5: 3, 8: 2, 0: 2, 1: 1, 2: 2}"
   ]
  },
  {
   "cell_type": "code",
   "execution_count": 29,
   "metadata": {},
   "outputs": [
    {
     "name": "stdout",
     "output_type": "stream",
     "text": [
      "Original list:\n",
      "[3, 4, 5, 8, 0, 3, 8, 5, 0, 3, 1, 5, 2, 3, 4, 2]\n",
      "\n",
      "Count the occurrences of the items in the said list:\n",
      "{3: 4, 4: 2, 5: 3, 8: 2, 0: 2, 1: 1, 2: 2}\n"
     ]
    }
   ],
   "source": [
    "def count_occurrences(nums):\n",
    "    result = dict(map(lambda el  : (el, list(nums).count(el)), nums))\n",
    "    return result\n",
    "nums = [3,4,5,8,0,3,8,5,0,3,1,5,2,3,4,2]\n",
    "print(\"Original list:\")\n",
    "print(nums)\n",
    "print(\"\\nCount the occurrences of the items in the said list:\")\n",
    "print(count_occurrences(nums))"
   ]
  },
  {
   "cell_type": "markdown",
   "metadata": {},
   "source": [
    "##### Q50. Write a Python program to remove specific words from a given list using lambda. \n",
    "    Original list:\n",
    "    ['orange', 'red', 'green', 'blue', 'white', 'black']\n",
    "    Remove words:\n",
    "    ['orange', 'black']\n",
    "    After removing the specified words from the said list:\n",
    "    ['red', 'green', 'blue', 'white']"
   ]
  },
  {
   "cell_type": "code",
   "execution_count": 30,
   "metadata": {},
   "outputs": [
    {
     "name": "stdout",
     "output_type": "stream",
     "text": [
      "Original list:\n",
      "['orange', 'red', 'green', 'blue', 'white', 'black']\n",
      "\n",
      "Remove words:\n",
      "['orange', 'black']\n",
      "\n",
      "After removing the specified words from the said list:\n",
      "['red', 'green', 'blue', 'white']\n"
     ]
    }
   ],
   "source": [
    "def remove_words(list1, remove_words):\n",
    "    result = list(filter(lambda word: word not in remove_words, list1))\n",
    "    return result\n",
    "        \n",
    "colors = ['orange', 'red', 'green', 'blue', 'white', 'black']\n",
    "remove_colors = ['orange','black']\n",
    "print(\"Original list:\")\n",
    "print(colors)\n",
    "print(\"\\nRemove words:\")\n",
    "print(remove_colors)\n",
    "print(\"\\nAfter removing the specified words from the said list:\")\n",
    "print(remove_words(colors, remove_colors))"
   ]
  },
  {
   "cell_type": "markdown",
   "metadata": {},
   "source": [
    "##### Q51. Write a Python program to find the maximum and minimum values in a given list of tuples using lambda function. \n",
    "    Original list with tuples:\n",
    "    [('V', 62), ('VI', 68), ('VII', 72), ('VIII', 70), ('IX', 74), ('X', 65)]\n",
    "    Maximum and minimum values of the said list of tuples:\n",
    "    (74, 62)"
   ]
  },
  {
   "cell_type": "code",
   "execution_count": 31,
   "metadata": {},
   "outputs": [
    {
     "name": "stdout",
     "output_type": "stream",
     "text": [
      "Original list with tuples:\n",
      "[('V', 62), ('VI', 68), ('VII', 72), ('VIII', 70), ('IX', 74), ('X', 65)]\n",
      "\n",
      "Maximum and minimum values of the said list of tuples:\n",
      "(74, 62)\n"
     ]
    }
   ],
   "source": [
    "def max_min_list_tuples(class_students):\n",
    "    return_max = max(class_students,key=lambda item:item[1])[1]\n",
    "    return_min = min(class_students,key=lambda item:item[1])[1]\n",
    "    return return_max, return_min\n",
    "    \n",
    "class_students = [('V', 62), ('VI', 68), ('VII', 72), ('VIII', 70), ('IX', 74), ('X', 65)]\n",
    "print(\"Original list with tuples:\")\n",
    "print(class_students)\n",
    "print(\"\\nMaximum and minimum values of the said list of tuples:\")\n",
    "print(max_min_list_tuples(class_students))"
   ]
  },
  {
   "cell_type": "markdown",
   "metadata": {},
   "source": [
    "##### Q52. Write a Python program to remove None value from a given list using lambda function. \n",
    "    Original list:\n",
    "    [12, 0, None, 23, None, -55, 234, 89, None, 0, 6, -12]\n",
    "    Remove None value from the said list:\n",
    "    [12, 0, 23, -55, 234, 89, 0, 6, -12]"
   ]
  },
  {
   "cell_type": "code",
   "execution_count": 32,
   "metadata": {},
   "outputs": [
    {
     "name": "stdout",
     "output_type": "stream",
     "text": [
      "Original list:\n",
      "[12, 0, None, 23, None, -55, 234, 89, None, 0, 6, -12]\n",
      "\n",
      "Remove None value from the said list:\n",
      "[12, 0, 23, -55, 234, 89, 0, 6, -12]\n"
     ]
    }
   ],
   "source": [
    "def remove_none(nums):\n",
    "    result = filter(lambda v: v is not None, nums)\n",
    "    return list(result)\n",
    "\n",
    "nums = [12, 0, None, 23, None, -55, 234, 89, None, 0, 6, -12]\n",
    "print(\"Original list:\")\n",
    "print(nums)\n",
    "print(\"\\nRemove None value from the said list:\")\n",
    "print(remove_none(nums))"
   ]
  },
  {
   "cell_type": "code",
   "execution_count": null,
   "metadata": {},
   "outputs": [],
   "source": []
  }
 ],
 "metadata": {
  "kernelspec": {
   "display_name": "Python 3",
   "language": "python",
   "name": "python3"
  },
  "language_info": {
   "codemirror_mode": {
    "name": "ipython",
    "version": 3
   },
   "file_extension": ".py",
   "mimetype": "text/x-python",
   "name": "python",
   "nbconvert_exporter": "python",
   "pygments_lexer": "ipython3",
   "version": "3.8.3"
  }
 },
 "nbformat": 4,
 "nbformat_minor": 4
}
