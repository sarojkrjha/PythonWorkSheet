{
 "cells": [
  {
   "cell_type": "markdown",
   "metadata": {},
   "source": [
    "### Q1. Write a Python program to print the following string in a specific format (see the output).\n",
    "    Sample String : \"Twinkle, twinkle, little star, How I wonder what you are! Up above the world so high, Like a diamond in the sky. Twinkle, twinkle, little star, How I wonder what you are\" \n",
    "    Output :\n",
    "\n",
    "    Twinkle, twinkle, little star,\n",
    "            How I wonder what you are! \n",
    "                    Up above the world so high,   \t\t\n",
    "                    Like a diamond in the sky. \n",
    "    Twinkle, twinkle, little star, \n",
    "            How I wonder what you are"
   ]
  },
  {
   "cell_type": "code",
   "execution_count": 1,
   "metadata": {},
   "outputs": [
    {
     "name": "stdout",
     "output_type": "stream",
     "text": [
      "Twinkle, twinkle, little star, \n",
      "\tHow I wonder what you are! \n",
      "\t\tUp above the world so high, \n",
      "\t\tLike a diamond in the sky. \n",
      "Twinkle, twinkle, little star, \n",
      "\tHow I wonder what you are!\n"
     ]
    }
   ],
   "source": [
    "print(\"Twinkle, twinkle, little star, \\n\\tHow I wonder what you are! \\n\\t\\tUp above the world so high, \\n\\t\\tLike a diamond in the sky. \\nTwinkle, twinkle, little star, \\n\\tHow I wonder what you are!\")\n"
   ]
  },
  {
   "cell_type": "markdown",
   "metadata": {},
   "source": [
    "### Q2. Write a Python program to get the Python version you are using."
   ]
  },
  {
   "cell_type": "code",
   "execution_count": 2,
   "metadata": {},
   "outputs": [
    {
     "name": "stdout",
     "output_type": "stream",
     "text": [
      "Python version\n",
      "3.8.3 (default, Jul  2 2020, 17:30:36) [MSC v.1916 64 bit (AMD64)]\n",
      "Version info.\n",
      "sys.version_info(major=3, minor=8, micro=3, releaselevel='final', serial=0)\n"
     ]
    }
   ],
   "source": [
    "import sys\n",
    "print(\"Python version\")\n",
    "print (sys.version)\n",
    "print(\"Version info.\")\n",
    "print (sys.version_info)"
   ]
  },
  {
   "cell_type": "markdown",
   "metadata": {},
   "source": [
    "### Q3. Write a Python program to display the current date and time.\n",
    "    Sample Output :\n",
    "    Current date and time :\n",
    "    2014-07-05 14:34:14"
   ]
  },
  {
   "cell_type": "code",
   "execution_count": 3,
   "metadata": {},
   "outputs": [
    {
     "name": "stdout",
     "output_type": "stream",
     "text": [
      "Current date and time : \n",
      "2020-12-28 14:05:40\n"
     ]
    }
   ],
   "source": [
    "import datetime\n",
    "nowDate = datetime.datetime.now()\n",
    "print (\"Current date and time : \")\n",
    "print (nowDate.strftime(\"%Y-%m-%d %H:%M:%S\"))"
   ]
  },
  {
   "cell_type": "markdown",
   "metadata": {},
   "source": [
    "### Q4. Write a Python program which accepts the radius of a circle from the user and compute the area.\n",
    "    Sample Output :\n",
    "    r = 1.1\n",
    "    Area = 3.8013271108436504"
   ]
  },
  {
   "cell_type": "code",
   "execution_count": 4,
   "metadata": {},
   "outputs": [
    {
     "name": "stdout",
     "output_type": "stream",
     "text": [
      "Input the radius of the circle : 4\n",
      "The area of the circle with radius 4.0 is: 50.26548245743669\n"
     ]
    }
   ],
   "source": [
    "from math import pi\n",
    "r = float(input (\"Input the radius of the circle : \"))\n",
    "print (\"The area of the circle with radius \" + str(r) + \" is: \" + str(pi * r**2))"
   ]
  },
  {
   "cell_type": "markdown",
   "metadata": {},
   "source": [
    "### Q5. Write a Python program which accepts the user's first and last name and print them in reverse order with a space between them."
   ]
  },
  {
   "cell_type": "code",
   "execution_count": 5,
   "metadata": {},
   "outputs": [
    {
     "name": "stdout",
     "output_type": "stream",
     "text": [
      "Input your First Name : Saroj Kumar\n",
      "Input your Last Name : Jha\n",
      "Hello  Jha Saroj Kumar\n"
     ]
    }
   ],
   "source": [
    "fname = input(\"Input your First Name : \")\n",
    "lname = input(\"Input your Last Name : \")\n",
    "print (\"Hello  \" + lname + \" \" + fname)"
   ]
  },
  {
   "cell_type": "markdown",
   "metadata": {},
   "source": [
    "### Q 6. Write a Python program which accepts a sequence of comma-separated numbers from user and generate a list and a tuple with those numbers.\n",
    "    Sample data : 3, 5, 7, 23\n",
    "    Output :\n",
    "    List : ['3', ' 5', ' 7', ' 23']\n",
    "    Tuple : ('3', ' 5', ' 7', ' 23')"
   ]
  },
  {
   "cell_type": "code",
   "execution_count": 6,
   "metadata": {},
   "outputs": [
    {
     "name": "stdout",
     "output_type": "stream",
     "text": [
      "Input some comma seprated numbers : 1,9,8,90,6\n",
      "List :  ['1', '9', '8', '90', '6']\n",
      "Tuple :  ('1', '9', '8', '90', '6')\n"
     ]
    }
   ],
   "source": [
    "values = input(\"Input some comma seprated numbers : \")\n",
    "list1 = values.split(\",\") # converting comma seprated string to list\n",
    "tuple1 = tuple(list1) # converting list into tuple\n",
    "print('List : ',list1)\n",
    "print('Tuple : ',tuple1)"
   ]
  },
  {
   "cell_type": "markdown",
   "metadata": {},
   "source": [
    "### Q7. Write a Python program to accept a filename from the user and print the extension of that.\n",
    "    Sample filename : xyz.txt\n",
    "    Output : txt"
   ]
  },
  {
   "cell_type": "code",
   "execution_count": 7,
   "metadata": {},
   "outputs": [
    {
     "name": "stdout",
     "output_type": "stream",
     "text": [
      "Input the Filename: xyz.txt\n",
      "The extension of the file is : 'txt'\n"
     ]
    }
   ],
   "source": [
    "filename = input(\"Input the Filename: \")\n",
    "f_extns = filename.split(\".\")\n",
    "print (\"The extension of the file is : \" + repr(f_extns[-1]))"
   ]
  },
  {
   "cell_type": "markdown",
   "metadata": {},
   "source": [
    "### Q 8. Write a Python program to display the first and last element from the following list.\n",
    "    city_list = [\"Delhi\",\"Patna\",\"Kolkata\" ,\"Mumbai\",\"Kanpur\"]"
   ]
  },
  {
   "cell_type": "code",
   "execution_count": 8,
   "metadata": {},
   "outputs": [
    {
     "name": "stdout",
     "output_type": "stream",
     "text": [
      "Delhi Kanpur\n"
     ]
    }
   ],
   "source": [
    "city_list = [\"Delhi\",\"Patna\",\"Kolkata\" ,\"Mumbai\",\"Kanpur\"] \n",
    "print( \"%s %s\"%(city_list[0],city_list[-1]))"
   ]
  },
  {
   "cell_type": "markdown",
   "metadata": {},
   "source": [
    "### Q 9. Write a Python program to display the examination schedule. (extract the date from exam_st_date). \n",
    "    exam_st_date = (11, 12, 2020)\n",
    "    Sample Output : The examination will start from : 11 / 12 / 2020"
   ]
  },
  {
   "cell_type": "code",
   "execution_count": 9,
   "metadata": {},
   "outputs": [
    {
     "name": "stdout",
     "output_type": "stream",
     "text": [
      "The examination will start from : 11 / 12 / 2020\n"
     ]
    }
   ],
   "source": [
    "exam_st_date = (11,12,2020)\n",
    "print( \"The examination will start from : %i / %i / %i\"%exam_st_date)\n"
   ]
  },
  {
   "cell_type": "markdown",
   "metadata": {},
   "source": [
    "### Q 10. Write a Python program that accepts an integer (n) and computes the value of n+nn+nnn. \n",
    "    Sample value of n is 5  [5+ 55 + 555] \n",
    "    Expected Result : 615"
   ]
  },
  {
   "cell_type": "code",
   "execution_count": 10,
   "metadata": {},
   "outputs": [
    {
     "name": "stdout",
     "output_type": "stream",
     "text": [
      "Input an integer : 5\n",
      "615\n"
     ]
    }
   ],
   "source": [
    "a = int(input(\"Input an integer : \"))\n",
    "n1 = int( \"%s\" % a )\n",
    "#print(n1)\n",
    "n2 = int( \"%s%s\" % (a,a) )\n",
    "#print(n2)\n",
    "n3 = int( \"%s%s%s\" % (a,a,a) )\n",
    "#print(n3)\n",
    "print (n1+n2+n3)"
   ]
  },
  {
   "cell_type": "markdown",
   "metadata": {},
   "source": [
    "### Q11. Write a Python program to print the documents (syntax, description etc.) of Python built-in function(s).\n",
    "    Sample function : abs()\n",
    "    Expected Result :\n",
    "    abs(number) -> number\n",
    "    Return the absolute value of the argument"
   ]
  },
  {
   "cell_type": "code",
   "execution_count": 11,
   "metadata": {},
   "outputs": [
    {
     "name": "stdout",
     "output_type": "stream",
     "text": [
      "Return the absolute value of the argument.\n"
     ]
    }
   ],
   "source": [
    "print(abs.__doc__)"
   ]
  },
  {
   "cell_type": "markdown",
   "metadata": {},
   "source": [
    "### Q12. Write a Python program to print the calendar of a given month and year.\n",
    "    Note : Use 'calendar' module."
   ]
  },
  {
   "cell_type": "code",
   "execution_count": 12,
   "metadata": {},
   "outputs": [
    {
     "name": "stdout",
     "output_type": "stream",
     "text": [
      "Input the year : 2021\n",
      "Input the month : 01\n",
      "    January 2021\n",
      "Mo Tu We Th Fr Sa Su\n",
      "             1  2  3\n",
      " 4  5  6  7  8  9 10\n",
      "11 12 13 14 15 16 17\n",
      "18 19 20 21 22 23 24\n",
      "25 26 27 28 29 30 31\n",
      "\n"
     ]
    }
   ],
   "source": [
    "import calendar\n",
    "y = int(input(\"Input the year : \"))\n",
    "m = int(input(\"Input the month : \"))\n",
    "print(calendar.month(y, m))"
   ]
  },
  {
   "cell_type": "markdown",
   "metadata": {},
   "source": [
    "### Q13. Write a Python program to print the following here document.\n",
    "    Sample string :\n",
    "    a string that you \"don't\" have to escape\n",
    "    This\n",
    "    is a ....... multi-line\n",
    "    heredoc string --------> example"
   ]
  },
  {
   "cell_type": "code",
   "execution_count": 13,
   "metadata": {},
   "outputs": [
    {
     "name": "stdout",
     "output_type": "stream",
     "text": [
      "\n",
      "a string that you \"don't\" have to escape\n",
      "This\n",
      "is a  ....... multi-line\n",
      "heredoc string --------> example\n",
      "\n"
     ]
    }
   ],
   "source": [
    "print(\"\"\"\n",
    "a string that you \"don't\" have to escape\n",
    "This\n",
    "is a  ....... multi-line\n",
    "heredoc string --------> example\n",
    "\"\"\")"
   ]
  },
  {
   "cell_type": "markdown",
   "metadata": {},
   "source": [
    "### Q14. Write a Python program to calculate number of days between two dates.\n",
    "    Sample dates : (2020, 12, 2), (2020, 12, 11)\n",
    "    Expected output : 9 days"
   ]
  },
  {
   "cell_type": "code",
   "execution_count": 14,
   "metadata": {},
   "outputs": [
    {
     "name": "stdout",
     "output_type": "stream",
     "text": [
      "9\n"
     ]
    }
   ],
   "source": [
    "from datetime import date\n",
    "f_date = date(2020, 12, 2)\n",
    "l_date = date(2020, 12, 11)\n",
    "delta = l_date - f_date\n",
    "print(delta.days)"
   ]
  },
  {
   "cell_type": "markdown",
   "metadata": {},
   "source": [
    "### Q15. Write a Python program to get the volume of a sphere with radius 6."
   ]
  },
  {
   "cell_type": "code",
   "execution_count": 15,
   "metadata": {},
   "outputs": [
    {
     "name": "stdout",
     "output_type": "stream",
     "text": [
      "The volume of the sphere is:  904.7786842338603\n"
     ]
    }
   ],
   "source": [
    "pi = 3.1415926535897931\n",
    "r= 6.0\n",
    "V= 4.0/3.0*pi* r**3 # volume of the sphere  V = (4/3)πr^3.\n",
    "print('The volume of the sphere is: ',V)"
   ]
  },
  {
   "cell_type": "markdown",
   "metadata": {},
   "source": [
    "### Q 16. Write a Python program to get the difference between a given number and 15, if the number is greater than 15 return double the absolute difference."
   ]
  },
  {
   "cell_type": "code",
   "execution_count": 16,
   "metadata": {},
   "outputs": [
    {
     "name": "stdout",
     "output_type": "stream",
     "text": [
      "14\n",
      "1\n"
     ]
    }
   ],
   "source": [
    "def difference(n):\n",
    "    if n <= 15:\n",
    "        return 15 - n\n",
    "    else:\n",
    "        return (n - 15) * 2 \n",
    "\n",
    "print(difference(22))\n",
    "print(difference(14))"
   ]
  },
  {
   "cell_type": "markdown",
   "metadata": {},
   "source": [
    "### Q 17. Write a Python program to test whether a number is within 100 of 1000 or 2000.  "
   ]
  },
  {
   "cell_type": "code",
   "execution_count": 17,
   "metadata": {},
   "outputs": [
    {
     "name": "stdout",
     "output_type": "stream",
     "text": [
      "True\n",
      "True\n",
      "False\n",
      "False\n"
     ]
    }
   ],
   "source": [
    "def near_thousand(n):\n",
    "      return ((abs(1000 - n) <= 100) or (abs(2000 - n) <= 100))\n",
    "print(near_thousand(1000))\n",
    "print(near_thousand(900))\n",
    "print(near_thousand(800))   \n",
    "print(near_thousand(2200))\n"
   ]
  },
  {
   "cell_type": "markdown",
   "metadata": {},
   "source": [
    "### Q18. Write a Python program to calculate the sum of three given numbers, if the values are equal then return three times of their sum. "
   ]
  },
  {
   "cell_type": "code",
   "execution_count": 22,
   "metadata": {},
   "outputs": [
    {
     "name": "stdout",
     "output_type": "stream",
     "text": [
      "6\n",
      "27\n"
     ]
    }
   ],
   "source": [
    "def sum_thrice(x, y, z):\n",
    "    sum_of_number = x + y + z\n",
    "    if x == y == z:\n",
    "        sum_of_number = sum_of_number * 3\n",
    "    return sum_of_number\n",
    "print(sum_thrice(1, 2, 3))\n",
    "print(sum_thrice(3, 3, 3))"
   ]
  },
  {
   "cell_type": "markdown",
   "metadata": {},
   "source": [
    "### Q 19. Write a Python program to get a new string from a given string where \"Is\" has been added to the front. If the given string already begins with \"Is\" then return the string unchanged."
   ]
  },
  {
   "cell_type": "code",
   "execution_count": 23,
   "metadata": {},
   "outputs": [
    {
     "name": "stdout",
     "output_type": "stream",
     "text": [
      "IsArray\n",
      "IsEmpty\n"
     ]
    }
   ],
   "source": [
    "def new_string(str):\n",
    "    if len(str) >= 2 and str[:2] == \"Is\":\n",
    "        return str\n",
    "    return \"Is\" + str\n",
    "\n",
    "print(new_string(\"Array\"))\n",
    "print(new_string(\"IsEmpty\"))"
   ]
  },
  {
   "cell_type": "markdown",
   "metadata": {},
   "source": [
    "### Q 20. Write a Python program to get a string which is n (non-negative integer) copies of a given string."
   ]
  },
  {
   "cell_type": "code",
   "execution_count": 24,
   "metadata": {},
   "outputs": [
    {
     "name": "stdout",
     "output_type": "stream",
     "text": [
      "abcabc\n",
      ".py.py.py\n"
     ]
    }
   ],
   "source": [
    "def larger_string(str, n):\n",
    "    repeat_String = \"\"\n",
    "    for i in range(n):\n",
    "        repeat_String = repeat_String + str\n",
    "    return repeat_String\n",
    "\n",
    "print(larger_string('abc', 2))\n",
    "print(larger_string('.py', 3))"
   ]
  },
  {
   "cell_type": "markdown",
   "metadata": {},
   "source": [
    "### Q 21. Write a Python program to find whether a given number (accept from the user) is even or odd, print out an appropriate message to the user."
   ]
  },
  {
   "cell_type": "code",
   "execution_count": 25,
   "metadata": {},
   "outputs": [
    {
     "name": "stdout",
     "output_type": "stream",
     "text": [
      "Enter a number: 4\n",
      "This is an even number.\n"
     ]
    }
   ],
   "source": [
    "num = int(input(\"Enter a number: \"))\n",
    "mod = num % 2\n",
    "if mod > 0:\n",
    "    print(\"This is an odd number.\")\n",
    "else:\n",
    "    print(\"This is an even number.\")"
   ]
  },
  {
   "cell_type": "markdown",
   "metadata": {},
   "source": [
    "### Q 22. Write a Python program to count the number [say 4] in a given list."
   ]
  },
  {
   "cell_type": "code",
   "execution_count": 26,
   "metadata": {},
   "outputs": [
    {
     "name": "stdout",
     "output_type": "stream",
     "text": [
      "2\n",
      "3\n"
     ]
    }
   ],
   "source": [
    "def list_count_4(nums):\n",
    "    count = 0  \n",
    "    for num in nums:\n",
    "        if num == 4:\n",
    "            count = count + 1\n",
    "\n",
    "    return count\n",
    "\n",
    "print(list_count_4([1, 4, 6, 7, 4]))\n",
    "print(list_count_4([1, 4, 6, 4, 7, 4]))"
   ]
  },
  {
   "cell_type": "markdown",
   "metadata": {},
   "source": [
    "### Q 23. Write a Python program to get the n (non-negative integer) copies of the first 2 characters of a given string. Return the n copies of the whole string if the length is less than 2."
   ]
  },
  {
   "cell_type": "code",
   "execution_count": 27,
   "metadata": {},
   "outputs": [
    {
     "name": "stdout",
     "output_type": "stream",
     "text": [
      "abab\n",
      "ppp\n"
     ]
    }
   ],
   "source": [
    "def substring_copy(str, n):\n",
    "    flen = 2\n",
    "    if flen > len(str):\n",
    "        flen = len(str)\n",
    "    sub_str = str[:flen]\n",
    "  \n",
    "    result = \"\"\n",
    "    for i in range(n):\n",
    "        result = result + sub_str\n",
    "    return result\n",
    "print(substring_copy('abcdef', 2))\n",
    "print(substring_copy('p', 3));"
   ]
  },
  {
   "cell_type": "markdown",
   "metadata": {},
   "source": [
    "### Q 24. Write a Python program to test whether a passed letter is a vowel or not."
   ]
  },
  {
   "cell_type": "code",
   "execution_count": 28,
   "metadata": {},
   "outputs": [
    {
     "name": "stdout",
     "output_type": "stream",
     "text": [
      "False\n",
      "True\n",
      "True\n"
     ]
    }
   ],
   "source": [
    "def is_vowel(char):\n",
    "    all_vowels = 'aeiouAEIOU'\n",
    "    return char in all_vowels\n",
    "print(is_vowel('c'))\n",
    "print(is_vowel('e'))\n",
    "print(is_vowel('A'))\n"
   ]
  },
  {
   "cell_type": "markdown",
   "metadata": {},
   "source": [
    "### Q 25. Write a Python program to find a specified value is contained in a group of values. \n",
    "    Test Data :\n",
    "    3 -> [1, 5, 8, 3] : True\n",
    "    -1 -> [1, 5, 8, 3] : False"
   ]
  },
  {
   "cell_type": "code",
   "execution_count": 29,
   "metadata": {},
   "outputs": [
    {
     "name": "stdout",
     "output_type": "stream",
     "text": [
      "True\n",
      "False\n"
     ]
    }
   ],
   "source": [
    "def is_group_member(group_data, n):\n",
    "    for value in group_data:\n",
    "        if n == value:\n",
    "            return True\n",
    "    return False\n",
    "print(is_group_member([1, 5, 8, 3], 3))\n",
    "print(is_group_member([5, 8, 3], -1))"
   ]
  },
  {
   "cell_type": "markdown",
   "metadata": {},
   "source": [
    "### Q26. Write a Python program to create a histogram from a given list of integers."
   ]
  },
  {
   "cell_type": "code",
   "execution_count": 30,
   "metadata": {},
   "outputs": [
    {
     "name": "stdout",
     "output_type": "stream",
     "text": [
      "**\n",
      "***\n",
      "******\n",
      "*****\n",
      "****\n"
     ]
    }
   ],
   "source": [
    "def histogram( items ):\n",
    "    for n in items:\n",
    "        output = ''\n",
    "        times = n\n",
    "        while( times > 0 ):\n",
    "            output += '*'\n",
    "            times = times - 1\n",
    "        print(output)\n",
    "\n",
    "histogram([2, 3, 6, 5,4])"
   ]
  },
  {
   "cell_type": "markdown",
   "metadata": {},
   "source": [
    "### Q 27. Write a Python program to concatenate all elements in a list into a string and return it. "
   ]
  },
  {
   "cell_type": "code",
   "execution_count": 31,
   "metadata": {},
   "outputs": [
    {
     "name": "stdout",
     "output_type": "stream",
     "text": [
      "15122\n"
     ]
    }
   ],
   "source": [
    "def concatenate_list_data(list):\n",
    "    result= ''\n",
    "    for element in list:\n",
    "        result += str(element)\n",
    "    return result\n",
    "\n",
    "print(concatenate_list_data([1, 5, 12, 2]))"
   ]
  },
  {
   "cell_type": "markdown",
   "metadata": {},
   "source": [
    "### Q 28. Write a Python program to print all even numbers from a given numbers list in the same order and stop the printing if any numbers that come after 237 in the sequence. \n",
    "    Sample numbers list :\n",
    "\n",
    "    numbers = [    \n",
    "    386, 462, 47, 418, 907, 344, 236, 375, 823, 566, 597, 978, 328, 615, 953, 345, \n",
    "    399, 162, 758, 219, 918, 237, 412, 566, 826, 248, 866, 950, 626, 949, 687, 217, \n",
    "    815, 67, 104, 58, 512, 24, 892, 894, 767, 553, 81, 379, 843, 831, 445, 742, 717, \n",
    "    958,743, 527\n",
    "    ]"
   ]
  },
  {
   "cell_type": "code",
   "execution_count": 32,
   "metadata": {},
   "outputs": [
    {
     "name": "stdout",
     "output_type": "stream",
     "text": [
      "386\n",
      "462\n",
      "418\n",
      "344\n",
      "236\n",
      "566\n",
      "978\n",
      "328\n",
      "162\n",
      "758\n",
      "918\n",
      "237\n"
     ]
    }
   ],
   "source": [
    "numbers = [    \n",
    "    386, 462, 47, 418, 907, 344, 236, 375, 823, 566, 597, 978, 328, 615, 953, 345, \n",
    "    399, 162, 758, 219, 918, 237, 412, 566, 826, 248, 866, 950, 626, 949, 687, 217, \n",
    "    815, 67, 104, 58, 512, 24, 892, 894, 767, 553, 81, 379, 843, 831, 445, 742, 717, \n",
    "    958,743, 527\n",
    "    ]\n",
    "\n",
    "for x in numbers:\n",
    "    if x == 237:\n",
    "        print(x)\n",
    "        break;\n",
    "    elif x % 2 == 0:\n",
    "        print(x)"
   ]
  },
  {
   "cell_type": "markdown",
   "metadata": {},
   "source": [
    "### Q 29. Write a Python program to print out a set containing all the colors from color_list_1 which are not present in color_list_2. \n",
    "    Test Data :\n",
    "    color_list_1 = set([\"White\", \"Black\", \"Red\"])\n",
    "    color_list_2 = set([\"Red\", \"Green\"])\n",
    "    Expected Output :\n",
    "    {'Black', 'White'}"
   ]
  },
  {
   "cell_type": "code",
   "execution_count": 33,
   "metadata": {},
   "outputs": [
    {
     "name": "stdout",
     "output_type": "stream",
     "text": [
      "{'Black', 'White'}\n"
     ]
    }
   ],
   "source": [
    "color_list_1 = set([\"White\", \"Black\", \"Red\"])\n",
    "color_list_2 = set([\"Red\", \"Green\"])\n",
    "\n",
    "print(color_list_1.difference(color_list_2))"
   ]
  },
  {
   "cell_type": "markdown",
   "metadata": {},
   "source": [
    "### Q 30. Write a Python program that will accept the base and height of a triangle and compute the area."
   ]
  },
  {
   "cell_type": "code",
   "execution_count": 34,
   "metadata": {},
   "outputs": [
    {
     "name": "stdout",
     "output_type": "stream",
     "text": [
      "Input the base : 4\n",
      "Input the height : 5\n",
      "area =  10.0\n"
     ]
    }
   ],
   "source": [
    "b = int(input(\"Input the base : \"))\n",
    "h = int(input(\"Input the height : \"))\n",
    "\n",
    "area = b*h/2\n",
    "\n",
    "print(\"area = \", area)"
   ]
  },
  {
   "cell_type": "markdown",
   "metadata": {},
   "source": [
    "### Q 31. Write a Python program to compute the greatest common divisor (GCD) of two positive integers."
   ]
  },
  {
   "cell_type": "code",
   "execution_count": 35,
   "metadata": {},
   "outputs": [
    {
     "name": "stdout",
     "output_type": "stream",
     "text": [
      "1\n",
      "2\n"
     ]
    }
   ],
   "source": [
    "def gcd(x, y):\n",
    "    gcd = 1\n",
    "    \n",
    "    if x % y == 0:\n",
    "        return y\n",
    "    \n",
    "    for k in range(int(y / 2), 0, -1):\n",
    "        if x % k == 0 and y % k == 0:\n",
    "            gcd = k\n",
    "            break  \n",
    "    return gcd\n",
    "\n",
    "print(gcd(12, 17))\n",
    "print(gcd(4, 6))\n"
   ]
  },
  {
   "cell_type": "markdown",
   "metadata": {},
   "source": [
    "### Q 32. Write a Python program to get the least common multiple (LCM) of two positive integers."
   ]
  },
  {
   "cell_type": "code",
   "execution_count": 36,
   "metadata": {},
   "outputs": [
    {
     "name": "stdout",
     "output_type": "stream",
     "text": [
      "12\n",
      "255\n"
     ]
    }
   ],
   "source": [
    "def lcm(x, y):\n",
    "    if x > y:\n",
    "        z = x\n",
    "    else:\n",
    "        z = y\n",
    "\n",
    "    while(True):\n",
    "        if((z % x == 0) and (z % y == 0)):\n",
    "            lcm = z\n",
    "            break\n",
    "        z += 1\n",
    "\n",
    "    return lcm\n",
    "print(lcm(4, 6))\n",
    "print(lcm(15, 17))"
   ]
  },
  {
   "cell_type": "markdown",
   "metadata": {},
   "source": [
    "### Q 33. Write a Python program to sum of three given integers. However, if two values are equal sum will be zero."
   ]
  },
  {
   "cell_type": "code",
   "execution_count": 37,
   "metadata": {},
   "outputs": [
    {
     "name": "stdout",
     "output_type": "stream",
     "text": [
      "0\n",
      "0\n",
      "0\n",
      "6\n"
     ]
    }
   ],
   "source": [
    "def sum(x, y, z):\n",
    "    if x == y or y == z or x==z:\n",
    "        sum = 0\n",
    "    else:\n",
    "        sum = x + y + z\n",
    "    return sum\n",
    "\n",
    "print(sum(2, 1, 2))\n",
    "print(sum(3, 2, 2))\n",
    "print(sum(2, 2, 2))\n",
    "print(sum(1, 2, 3))"
   ]
  },
  {
   "cell_type": "markdown",
   "metadata": {},
   "source": [
    "### Q 34. Write a Python program to sum of two given integers. However, if the sum is between 15 to 20 it will return 20."
   ]
  },
  {
   "cell_type": "code",
   "execution_count": 38,
   "metadata": {},
   "outputs": [
    {
     "name": "stdout",
     "output_type": "stream",
     "text": [
      "20\n",
      "12\n",
      "22\n"
     ]
    }
   ],
   "source": [
    "def sum(x, y):\n",
    "    sum = x + y\n",
    "    if sum in range(15, 20):\n",
    "        return 20\n",
    "    else:\n",
    "        return sum\n",
    "\n",
    "print(sum(10, 6))\n",
    "print(sum(10, 2))\n",
    "print(sum(10, 12))"
   ]
  },
  {
   "cell_type": "markdown",
   "metadata": {},
   "source": [
    "### Q 35. Write a Python program that will return true if the two given integer values are equal or their sum or difference is 5."
   ]
  },
  {
   "cell_type": "code",
   "execution_count": 39,
   "metadata": {},
   "outputs": [
    {
     "name": "stdout",
     "output_type": "stream",
     "text": [
      "True\n",
      "True\n",
      "True\n"
     ]
    }
   ],
   "source": [
    "def test_number5(x, y):\n",
    "    if x == y or abs(x-y) == 5 or (x+y) == 5:\n",
    "        return True\n",
    "    else:\n",
    "        return False\n",
    "\n",
    "print(test_number5(7, 2))\n",
    "print(test_number5(3, 2))\n",
    "print(test_number5(2, 2))"
   ]
  },
  {
   "cell_type": "markdown",
   "metadata": {},
   "source": [
    "### Q 35. Write a Python program that will return true if the two given integer values are equal or their sum or difference is 5."
   ]
  },
  {
   "cell_type": "code",
   "execution_count": 40,
   "metadata": {},
   "outputs": [
    {
     "name": "stdout",
     "output_type": "stream",
     "text": [
      "True\n",
      "True\n",
      "True\n"
     ]
    }
   ],
   "source": [
    "def test_number5(x, y):\n",
    "    if x == y or abs(x-y) == 5 or (x+y) == 5:\n",
    "        return True\n",
    "    else:\n",
    "        return False\n",
    "\n",
    "print(test_number5(7, 2))\n",
    "print(test_number5(3, 2))\n",
    "print(test_number5(2, 2))"
   ]
  },
  {
   "cell_type": "markdown",
   "metadata": {},
   "source": [
    "### Q36. Write a Python program to add two objects if both objects are an integer type. "
   ]
  },
  {
   "cell_type": "code",
   "execution_count": 41,
   "metadata": {},
   "outputs": [
    {
     "name": "stdout",
     "output_type": "stream",
     "text": [
      "30\n"
     ]
    }
   ],
   "source": [
    "def add_numbers(a, b):\n",
    "    if not (isinstance(a, int) and isinstance(b, int)):\n",
    "         raise TypeError(\"Inputs must be integers\")\n",
    "    return a + b\n",
    "\n",
    "print(add_numbers(10, 20))"
   ]
  },
  {
   "cell_type": "markdown",
   "metadata": {},
   "source": [
    "### Q37. Write a Python program to display your details like name, age, address in three different lines."
   ]
  },
  {
   "cell_type": "code",
   "execution_count": 42,
   "metadata": {},
   "outputs": [
    {
     "name": "stdout",
     "output_type": "stream",
     "text": [
      "Name: Saroj\n",
      "Age: 41\n",
      "Address: West Delhi, Delhi, India\n"
     ]
    }
   ],
   "source": [
    "def personal_details():\n",
    "    name, age = \"Saroj\", 41\n",
    "    address = \"West Delhi, Delhi, India\"\n",
    "    print(\"Name: {}\\nAge: {}\\nAddress: {}\".format(name, age, address))\n",
    "\n",
    "personal_details()"
   ]
  },
  {
   "cell_type": "markdown",
   "metadata": {},
   "source": [
    "### Q38. Write a Python program to solve (x + y) * (x + y). \n",
    "    Test Data : x = 4, y = 3\n",
    "    Expected Output : (4 + 3) ^ 2) = 49"
   ]
  },
  {
   "cell_type": "code",
   "execution_count": 43,
   "metadata": {},
   "outputs": [
    {
     "name": "stdout",
     "output_type": "stream",
     "text": [
      "(4 + 3) ^ 2) = 49\n"
     ]
    }
   ],
   "source": [
    "x, y = 4, 3\n",
    "result = x * x + 2 * x * y + y * y\n",
    "print(\"({} + {}) ^ 2) = {}\".format(x, y, result))"
   ]
  },
  {
   "cell_type": "markdown",
   "metadata": {},
   "source": [
    "### Q39. Write a Python program to compute the future value of a specified principal amount, rate of interest, and a number of years. \n",
    "    Test Data : amt = 10000, int = 3.5, years = 7\n",
    "    Expected Output : 12722.79"
   ]
  },
  {
   "cell_type": "code",
   "execution_count": 44,
   "metadata": {},
   "outputs": [
    {
     "name": "stdout",
     "output_type": "stream",
     "text": [
      "12722.79\n"
     ]
    }
   ],
   "source": [
    "amt = 10000\n",
    "intamt = 3.5\n",
    "years = 7\n",
    "\n",
    "future_value  = amt*((1+(0.01*intamt)) ** years)\n",
    "print(round(future_value,2))"
   ]
  },
  {
   "cell_type": "markdown",
   "metadata": {},
   "source": [
    "### Q 40. Write a Python program to compute the distance between the points (x1, y1) and (x2, y2)."
   ]
  },
  {
   "cell_type": "code",
   "execution_count": 45,
   "metadata": {},
   "outputs": [
    {
     "name": "stdout",
     "output_type": "stream",
     "text": [
      "6.324555320336759\n"
     ]
    }
   ],
   "source": [
    "import math\n",
    "p1 = [4, 0]\n",
    "p2 = [6, 6]\n",
    "distance = math.sqrt( ((p1[0]-p2[0])**2)+((p1[1]-p2[1])**2) )\n",
    "\n",
    "print(distance)"
   ]
  },
  {
   "cell_type": "markdown",
   "metadata": {},
   "source": [
    "### Q 41. Write a Python program to check whether a file exists."
   ]
  },
  {
   "cell_type": "code",
   "execution_count": 46,
   "metadata": {},
   "outputs": [
    {
     "name": "stdout",
     "output_type": "stream",
     "text": [
      "True\n"
     ]
    }
   ],
   "source": [
    "import os.path\n",
    "open('xyz.txt', 'w')\n",
    "print(os.path.isfile('xyz.txt'))"
   ]
  },
  {
   "cell_type": "markdown",
   "metadata": {},
   "source": [
    "### Q 42. Write a Python program to determine if a Python shell is executing in 32bit or 64bit mode on OS."
   ]
  },
  {
   "cell_type": "code",
   "execution_count": 47,
   "metadata": {},
   "outputs": [
    {
     "name": "stdout",
     "output_type": "stream",
     "text": [
      "64\n"
     ]
    }
   ],
   "source": [
    "# For 32 bit it will return 32 and for 64 bit it will return 64\n",
    "import struct\n",
    "print(struct.calcsize(\"P\") * 8)"
   ]
  },
  {
   "cell_type": "markdown",
   "metadata": {},
   "source": [
    "### Q 43. Write a Python program to get OS name, platform and release information."
   ]
  },
  {
   "cell_type": "code",
   "execution_count": 48,
   "metadata": {},
   "outputs": [
    {
     "name": "stdout",
     "output_type": "stream",
     "text": [
      "nt\n",
      "Windows\n",
      "10\n"
     ]
    }
   ],
   "source": [
    "import platform\n",
    "import os\n",
    "print(os.name)\n",
    "print(platform.system())\n",
    "print(platform.release())"
   ]
  },
  {
   "cell_type": "markdown",
   "metadata": {},
   "source": [
    "### Q 44. Write a Python program to locate Python site-packages. "
   ]
  },
  {
   "cell_type": "code",
   "execution_count": 49,
   "metadata": {},
   "outputs": [
    {
     "name": "stdout",
     "output_type": "stream",
     "text": [
      "['C:\\\\Users\\\\ersar\\\\anaconda3', 'C:\\\\Users\\\\ersar\\\\anaconda3\\\\lib\\\\site-packages']\n"
     ]
    }
   ],
   "source": [
    "import site; \n",
    "print(site.getsitepackages())"
   ]
  },
  {
   "cell_type": "markdown",
   "metadata": {},
   "source": [
    "### Q 45. Write a python program to call an external command in Python."
   ]
  },
  {
   "cell_type": "code",
   "execution_count": 50,
   "metadata": {},
   "outputs": [
    {
     "data": {
      "text/plain": [
       "0"
      ]
     },
     "execution_count": 50,
     "metadata": {},
     "output_type": "execute_result"
    }
   ],
   "source": [
    "from subprocess import call\n",
    "#call([\"ls\", \"-l\"]) in mac\n",
    "call(['ping', 'localhost'])\n"
   ]
  },
  {
   "cell_type": "markdown",
   "metadata": {},
   "source": [
    "### Q 46. Write a python program to get the path and name of the file that is currently executing. "
   ]
  },
  {
   "cell_type": "code",
   "execution_count": 51,
   "metadata": {},
   "outputs": [
    {
     "name": "stdout",
     "output_type": "stream",
     "text": [
      "<ipython-input-51-e3e39e85dc45>\n",
      "C:\\Users\\ersar\n"
     ]
    }
   ],
   "source": [
    "import inspect, os\n",
    "print(inspect.getfile(inspect.currentframe())) # script filename (usually with path)\n",
    "print(os.path.dirname(os.path.abspath(inspect.getfile(inspect.currentframe())))) # script directory"
   ]
  },
  {
   "cell_type": "markdown",
   "metadata": {},
   "source": [
    "### Q 47. Write a Python program to find out the number of CPUs using."
   ]
  },
  {
   "cell_type": "code",
   "execution_count": 52,
   "metadata": {},
   "outputs": [
    {
     "name": "stdout",
     "output_type": "stream",
     "text": [
      "4\n"
     ]
    }
   ],
   "source": [
    "import multiprocessing\n",
    "print(multiprocessing.cpu_count())"
   ]
  },
  {
   "cell_type": "markdown",
   "metadata": {},
   "source": [
    "### Q 48. Write a Python program to parse a string to Float ."
   ]
  },
  {
   "cell_type": "code",
   "execution_count": 53,
   "metadata": {},
   "outputs": [
    {
     "name": "stdout",
     "output_type": "stream",
     "text": [
      "246.2458\n",
      "246\n"
     ]
    }
   ],
   "source": [
    "n = \"246.2458\"\n",
    "print(float(n))\n",
    "print(int(float(n)))"
   ]
  },
  {
   "cell_type": "markdown",
   "metadata": {},
   "source": [
    "### Q9. Write a Python program to list all files in a directory in Python."
   ]
  },
  {
   "cell_type": "code",
   "execution_count": 54,
   "metadata": {},
   "outputs": [
    {
     "name": "stdout",
     "output_type": "stream",
     "text": [
      "['Assignment-Investment-Analysis-SAROJ.ipynb', 'clean_loan.csv', 'Data Visualisation -  Graded Questions.ipynb', 'desktop.ini', 'Excersise.ipynb', 'graph-py.pdf', 'IPL+Points+Table+Dataframe.ipynb', 'loan_cleaned_data.csv', 'master_loan.csv', 'practGeneral.ipynb', 'Practice Exercise - Session 1(Solution File).ipynb', 'Practice Exercise - Session 1.ipynb', 'Practice Questions - Session 2 - Student Version.ipynb', 'real.py', 'Saroj Case Study.ipynb', 'Untitled.ipynb', 'Untitled1.ipynb', 'Untitled2.ipynb']\n"
     ]
    }
   ],
   "source": [
    "from os import listdir\n",
    "from os.path import isfile, join\n",
    "files_list = [f for f in listdir('/Users/ersar/Desktop') if isfile(join('/Users/ersar/Desktop', f))]\n",
    "print(files_list);"
   ]
  },
  {
   "cell_type": "markdown",
   "metadata": {},
   "source": [
    "### Q 50. Write a Python program to print without newline or space."
   ]
  },
  {
   "cell_type": "code",
   "execution_count": 55,
   "metadata": {},
   "outputs": [
    {
     "name": "stdout",
     "output_type": "stream",
     "text": [
      "**********\n",
      "\n"
     ]
    }
   ],
   "source": [
    "for i in range(0, 10):\n",
    "    print('*', end=\"\")\n",
    "print(\"\\n\")"
   ]
  },
  {
   "cell_type": "markdown",
   "metadata": {},
   "source": [
    "### Q 51. Write a Python program to determine profiling of Python programs. \n",
    "Note: A profile is a set of statistics that describes how often and for how long various parts of the program executed. These statistics can be formatted into reports via the pstats module."
   ]
  },
  {
   "cell_type": "code",
   "execution_count": 56,
   "metadata": {},
   "outputs": [
    {
     "name": "stdout",
     "output_type": "stream",
     "text": [
      "3\n",
      "         39 function calls in 0.000 seconds\n",
      "\n",
      "   Ordered by: standard name\n",
      "\n",
      "   ncalls  tottime  percall  cumtime  percall filename:lineno(function)\n",
      "        1    0.000    0.000    0.000    0.000 <ipython-input-56-db52c97772c7>:2(sum)\n",
      "        1    0.000    0.000    0.000    0.000 <string>:1(<module>)\n",
      "        3    0.000    0.000    0.000    0.000 iostream.py:197(schedule)\n",
      "        2    0.000    0.000    0.000    0.000 iostream.py:310(_is_master_process)\n",
      "        2    0.000    0.000    0.000    0.000 iostream.py:323(_schedule_flush)\n",
      "        2    0.000    0.000    0.000    0.000 iostream.py:386(write)\n",
      "        3    0.000    0.000    0.000    0.000 iostream.py:93(_event_pipe)\n",
      "        3    0.000    0.000    0.000    0.000 socket.py:342(send)\n",
      "        3    0.000    0.000    0.000    0.000 threading.py:1017(_wait_for_tstate_lock)\n",
      "        3    0.000    0.000    0.000    0.000 threading.py:1071(is_alive)\n",
      "        3    0.000    0.000    0.000    0.000 threading.py:513(is_set)\n",
      "        1    0.000    0.000    0.000    0.000 {built-in method builtins.exec}\n",
      "        2    0.000    0.000    0.000    0.000 {built-in method builtins.isinstance}\n",
      "        1    0.000    0.000    0.000    0.000 {built-in method builtins.print}\n",
      "        2    0.000    0.000    0.000    0.000 {built-in method nt.getpid}\n",
      "        3    0.000    0.000    0.000    0.000 {method 'acquire' of '_thread.lock' objects}\n",
      "        3    0.000    0.000    0.000    0.000 {method 'append' of 'collections.deque' objects}\n",
      "        1    0.000    0.000    0.000    0.000 {method 'disable' of '_lsprof.Profiler' objects}\n",
      "\n",
      "\n"
     ]
    }
   ],
   "source": [
    "import cProfile\n",
    "def sum():\n",
    "    print(1+2)\n",
    "cProfile.run('sum()')"
   ]
  },
  {
   "cell_type": "markdown",
   "metadata": {},
   "source": [
    "### Q 52. Write a Python program to print to stderr."
   ]
  },
  {
   "cell_type": "code",
   "execution_count": 57,
   "metadata": {},
   "outputs": [
    {
     "name": "stderr",
     "output_type": "stream",
     "text": [
      "abc--efg--xyz\n"
     ]
    }
   ],
   "source": [
    "from __future__ import print_function\n",
    "import sys\n",
    "\n",
    "def eprint(*args, **kwargs):\n",
    "    print(*args, file=sys.stderr, **kwargs)\n",
    "\n",
    "eprint(\"abc\", \"efg\", \"xyz\", sep=\"--\")"
   ]
  },
  {
   "cell_type": "markdown",
   "metadata": {},
   "source": [
    "### Q 53. Write a python program to access environment variables."
   ]
  },
  {
   "cell_type": "code",
   "execution_count": 58,
   "metadata": {},
   "outputs": [
    {
     "name": "stdout",
     "output_type": "stream",
     "text": [
      "*----------------------------------*\n",
      "environ({'ALLUSERSPROFILE': 'C:\\\\ProgramData', 'ANDROID_HOME': 'C:\\\\Android\\\\android-sdk', 'APPDATA': 'C:\\\\Users\\\\ersar\\\\AppData\\\\Roaming', 'CHOCOLATEYINSTALL': 'C:\\\\ProgramData\\\\chocolatey', 'CHOCOLATEYLASTPATHUPDATE': '132067066100911707', 'CLASSPATH': '.;', 'COMMONPROGRAMFILES': 'C:\\\\Program Files\\\\Common Files', 'COMMONPROGRAMFILES(X86)': 'C:\\\\Program Files (x86)\\\\Common Files', 'COMMONPROGRAMW6432': 'C:\\\\Program Files\\\\Common Files', 'COMPUTERNAME': 'DESKTOP-RSU4EAO', 'COMSPEC': 'C:\\\\WINDOWS\\\\system32\\\\cmd.exe', 'CONDA_DEFAULT_ENV': 'base', 'CONDA_EXE': 'C:\\\\Users\\\\ersar\\\\anaconda3\\\\Scripts\\\\conda.exe', 'CONDA_PROMPT_MODIFIER': '(base) ', 'CONDA_PYTHON_EXE': 'C:\\\\Users\\\\ersar\\\\anaconda3\\\\python.exe', 'CONDA_ROOT': 'C:\\\\Users\\\\ersar\\\\anaconda3', 'CONDA_SHLVL': '1', 'DRIVERDATA': 'C:\\\\Windows\\\\System32\\\\Drivers\\\\DriverData', 'FPS_BROWSER_APP_PROFILE_STRING': 'Internet Explorer', 'FPS_BROWSER_USER_PROFILE_STRING': 'Default', 'HOMEDRIVE': 'C:', 'HOMEPATH': '\\\\Users\\\\ersar', 'JAVA_HOME': 'C:\\\\Program Files\\\\Java\\\\jdk1.8.0_201', 'LOCALAPPDATA': 'C:\\\\Users\\\\ersar\\\\AppData\\\\Local', 'LOGONSERVER': '\\\\\\\\DESKTOP-RSU4EAO', 'NUMBER_OF_PROCESSORS': '4', 'ONEDRIVE': 'C:\\\\Users\\\\ersar\\\\OneDrive', 'ONEDRIVECONSUMER': 'C:\\\\Users\\\\ersar\\\\OneDrive', 'OS': 'Windows_NT', 'PATH': 'C:\\\\Users\\\\ersar\\\\anaconda3;C:\\\\Users\\\\ersar\\\\anaconda3\\\\Library\\\\mingw-w64\\\\bin;C:\\\\Users\\\\ersar\\\\anaconda3\\\\Library\\\\usr\\\\bin;C:\\\\Users\\\\ersar\\\\anaconda3\\\\Library\\\\bin;C:\\\\Users\\\\ersar\\\\anaconda3\\\\Scripts;C:\\\\Users\\\\ersar\\\\anaconda3\\\\bin;C:\\\\Users\\\\ersar\\\\anaconda3\\\\condabin;C:\\\\Users\\\\ersar\\\\anaconda3;C:\\\\Users\\\\ersar\\\\anaconda3\\\\Library\\\\mingw-w64\\\\bin;C:\\\\Users\\\\ersar\\\\anaconda3\\\\Library\\\\usr\\\\bin;C:\\\\Users\\\\ersar\\\\anaconda3\\\\Library\\\\bin;C:\\\\Users\\\\ersar\\\\anaconda3\\\\Scripts;C:\\\\Program Files\\\\Python38\\\\Scripts;C:\\\\Program Files\\\\Python38;C:\\\\WINDOWS\\\\system32;C:\\\\WINDOWS;C:\\\\WINDOWS\\\\System32\\\\Wbem;C:\\\\WINDOWS\\\\System32\\\\WindowsPowerShell\\\\v1.0;C:\\\\Program Files\\\\Git\\\\cmd;C:\\\\Program Files\\\\dotnet;C:\\\\Program Files\\\\Microsoft SQL Server\\\\130\\\\Tools\\\\Binn;C:\\\\Program Files\\\\Microsoft SQL Server\\\\Client SDK\\\\ODBC\\\\130\\\\Tools\\\\Binn;C:\\\\Program Files (x86)\\\\Microsoft SQL Server\\\\140\\\\Tools\\\\Binn;C:\\\\Program Files\\\\Microsoft SQL Server\\\\140\\\\Tools\\\\Binn;C:\\\\Program Files\\\\Microsoft SQL Server\\\\140\\\\DTS\\\\Binn;C:\\\\Program Files (x86)\\\\Microsoft SQL Server\\\\Client SDK\\\\ODBC\\\\130\\\\Tools\\\\Binn;C:\\\\Program Files (x86)\\\\Microsoft SQL Server\\\\140\\\\DTS\\\\Binn;C:\\\\Program Files (x86)\\\\Microsoft SQL Server\\\\140\\\\Tools\\\\Binn\\\\ManagementStudio;C:\\\\WINDOWS\\\\System32\\\\OpenSSH;C:\\\\Program Files (x86)\\\\dotnet;C:\\\\ProgramData\\\\chocolatey\\\\bin;C:\\\\Program Files\\\\AdoptOpenJDK\\\\jdk8u192-b12\\\\bin;C:\\\\Program Files\\\\Java\\\\jdk1.8.0_201\\\\bin;C:\\\\Android\\\\android-sdk\\\\tools;C:\\\\Android\\\\android-sdk\\\\platform-tools;C:\\\\Android\\\\android-sdk\\\\tools\\\\bin;C:\\\\Program Files\\\\nodejs;C:\\\\Users\\\\ersar\\\\AppData\\\\Roaming\\\\npm;C:\\\\Program Files\\\\PuTTY;C:\\\\Program Files\\\\Microsoft SQL Server\\\\Client SDK\\\\ODBC\\\\170\\\\Tools\\\\Binn;C:\\\\Users\\\\ersar\\\\anaconda3;C:\\\\Users\\\\ersar\\\\anaconda3\\\\Library\\\\mingw-w64\\\\bin;C:\\\\Users\\\\ersar\\\\anaconda3\\\\Library\\\\usr\\\\bin;C:\\\\Users\\\\ersar\\\\anaconda3\\\\Library\\\\bin;C:\\\\Users\\\\ersar\\\\anaconda3\\\\Scripts;C:\\\\Program Files\\\\heroku\\\\bin;C:\\\\Program Files\\\\Python38\\\\Scripts;C:\\\\Program Files\\\\Python38;C:\\\\WINDOWS\\\\system32;C:\\\\WINDOWS;C:\\\\WINDOWS\\\\System32\\\\Wbem;C:\\\\WINDOWS\\\\System32\\\\WindowsPowerShell\\\\v1.0;C:\\\\Program Files\\\\Git\\\\cmd;C:\\\\Program Files\\\\dotnet;C:\\\\Program Files\\\\Microsoft SQL Server\\\\130\\\\Tools\\\\Binn;C:\\\\Program Files\\\\Microsoft SQL Server\\\\Client SDK\\\\ODBC\\\\130\\\\Tools\\\\Binn;C:\\\\Program Files (x86)\\\\Microsoft SQL Server\\\\140\\\\Tools\\\\Binn;C:\\\\Program Files\\\\Microsoft SQL Server\\\\140\\\\Tools\\\\Binn;C:\\\\Program Files\\\\Microsoft SQL Server\\\\140\\\\DTS\\\\Binn;C:\\\\Program Files (x86)\\\\Microsoft SQL Server\\\\Client SDK\\\\ODBC\\\\130\\\\Tools\\\\Binn;C:\\\\Program Files (x86)\\\\Microsoft SQL Server\\\\140\\\\DTS\\\\Binn;C:\\\\Program Files (x86)\\\\Microsoft SQL Server\\\\140\\\\Tools\\\\Binn\\\\ManagementStudio;C:\\\\WINDOWS\\\\System32\\\\OpenSSH;C:\\\\Program Files (x86)\\\\dotnet;C:\\\\ProgramData\\\\chocolatey\\\\bin;C:\\\\Program Files\\\\AdoptOpenJDK\\\\jdk8u192-b12\\\\bin;C:\\\\Program Files\\\\Java\\\\jdk1.8.0_201\\\\bin;C:\\\\Android\\\\android-sdk\\\\tools;C:\\\\Android\\\\android-sdk\\\\platform-tools;C:\\\\Android\\\\android-sdk\\\\tools\\\\bin;C:\\\\Users\\\\ersar\\\\.dotnet\\\\tools;C:\\\\Users\\\\ersar\\\\AppData\\\\Local\\\\Programs\\\\Microsoft VS Code\\\\bin', 'PATHEXT': '.COM;.EXE;.BAT;.CMD;.VBS;.VBE;.JS;.JSE;.WSF;.WSH;.MSC;.PY;.PYW', 'PROCESSOR_ARCHITECTURE': 'AMD64', 'PROCESSOR_IDENTIFIER': 'Intel64 Family 6 Model 78 Stepping 3, GenuineIntel', 'PROCESSOR_LEVEL': '6', 'PROCESSOR_REVISION': '4e03', 'PROGRAMDATA': 'C:\\\\ProgramData', 'PROGRAMFILES': 'C:\\\\Program Files', 'PROGRAMFILES(X86)': 'C:\\\\Program Files (x86)', 'PROGRAMW6432': 'C:\\\\Program Files', 'PROMPT': '(base) $P$G', 'PSMODULEPATH': 'C:\\\\WINDOWS\\\\system32\\\\WindowsPowerShell\\\\v1.0\\\\Modules\\\\;C:\\\\Program Files (x86)\\\\Microsoft SQL Server\\\\140\\\\Tools\\\\PowerShell\\\\Modules\\\\', 'PUBLIC': 'C:\\\\Users\\\\Public', 'PYCHARM COMMUNITY EDITION': 'C:\\\\Program Files\\\\JetBrains\\\\PyCharm Community Edition 2019.2.3\\\\bin;', 'SESSIONNAME': 'Console', 'SYNAPROGDIR': 'Synaptics\\\\SynTP', 'SYSTEMDRIVE': 'C:', 'SYSTEMROOT': 'C:\\\\WINDOWS', 'TEMP': 'C:\\\\Users\\\\ersar\\\\AppData\\\\Local\\\\Temp', 'TMP': 'C:\\\\Users\\\\ersar\\\\AppData\\\\Local\\\\Temp', 'USERDOMAIN': 'DESKTOP-RSU4EAO', 'USERDOMAIN_ROAMINGPROFILE': 'DESKTOP-RSU4EAO', 'USERNAME': 'ersar', 'USERPROFILE': 'C:\\\\Users\\\\ersar', 'VS150COMCOMNTOOLS': 'C:\\\\Program Files (x86)\\\\Microsoft Visual Studio\\\\2017\\\\Community\\\\Common7\\\\Tools\\\\', 'WINDIR': 'C:\\\\WINDOWS', 'CONDA_PREFIX': 'C:\\\\Users\\\\ersar\\\\anaconda3', 'KERNEL_LAUNCH_TIMEOUT': '40', 'JPY_INTERRUPT_EVENT': '3032', 'IPY_INTERRUPT_EVENT': '3032', 'JPY_PARENT_PID': '3048', 'TERM': 'xterm-color', 'CLICOLOR': '1', 'PAGER': 'cat', 'GIT_PAGER': 'cat', 'MPLBACKEND': 'module://ipykernel.pylab.backend_inline'})\n",
      "*----------------------------------*\n",
      "C:\\Users\\ersar\\anaconda3;C:\\Users\\ersar\\anaconda3\\Library\\mingw-w64\\bin;C:\\Users\\ersar\\anaconda3\\Library\\usr\\bin;C:\\Users\\ersar\\anaconda3\\Library\\bin;C:\\Users\\ersar\\anaconda3\\Scripts;C:\\Users\\ersar\\anaconda3\\bin;C:\\Users\\ersar\\anaconda3\\condabin;C:\\Users\\ersar\\anaconda3;C:\\Users\\ersar\\anaconda3\\Library\\mingw-w64\\bin;C:\\Users\\ersar\\anaconda3\\Library\\usr\\bin;C:\\Users\\ersar\\anaconda3\\Library\\bin;C:\\Users\\ersar\\anaconda3\\Scripts;C:\\Program Files\\Python38\\Scripts;C:\\Program Files\\Python38;C:\\WINDOWS\\system32;C:\\WINDOWS;C:\\WINDOWS\\System32\\Wbem;C:\\WINDOWS\\System32\\WindowsPowerShell\\v1.0;C:\\Program Files\\Git\\cmd;C:\\Program Files\\dotnet;C:\\Program Files\\Microsoft SQL Server\\130\\Tools\\Binn;C:\\Program Files\\Microsoft SQL Server\\Client SDK\\ODBC\\130\\Tools\\Binn;C:\\Program Files (x86)\\Microsoft SQL Server\\140\\Tools\\Binn;C:\\Program Files\\Microsoft SQL Server\\140\\Tools\\Binn;C:\\Program Files\\Microsoft SQL Server\\140\\DTS\\Binn;C:\\Program Files (x86)\\Microsoft SQL Server\\Client SDK\\ODBC\\130\\Tools\\Binn;C:\\Program Files (x86)\\Microsoft SQL Server\\140\\DTS\\Binn;C:\\Program Files (x86)\\Microsoft SQL Server\\140\\Tools\\Binn\\ManagementStudio;C:\\WINDOWS\\System32\\OpenSSH;C:\\Program Files (x86)\\dotnet;C:\\ProgramData\\chocolatey\\bin;C:\\Program Files\\AdoptOpenJDK\\jdk8u192-b12\\bin;C:\\Program Files\\Java\\jdk1.8.0_201\\bin;C:\\Android\\android-sdk\\tools;C:\\Android\\android-sdk\\platform-tools;C:\\Android\\android-sdk\\tools\\bin;C:\\Program Files\\nodejs;C:\\Users\\ersar\\AppData\\Roaming\\npm;C:\\Program Files\\PuTTY;C:\\Program Files\\Microsoft SQL Server\\Client SDK\\ODBC\\170\\Tools\\Binn;C:\\Users\\ersar\\anaconda3;C:\\Users\\ersar\\anaconda3\\Library\\mingw-w64\\bin;C:\\Users\\ersar\\anaconda3\\Library\\usr\\bin;C:\\Users\\ersar\\anaconda3\\Library\\bin;C:\\Users\\ersar\\anaconda3\\Scripts;C:\\Program Files\\heroku\\bin;C:\\Program Files\\Python38\\Scripts;C:\\Program Files\\Python38;C:\\WINDOWS\\system32;C:\\WINDOWS;C:\\WINDOWS\\System32\\Wbem;C:\\WINDOWS\\System32\\WindowsPowerShell\\v1.0;C:\\Program Files\\Git\\cmd;C:\\Program Files\\dotnet;C:\\Program Files\\Microsoft SQL Server\\130\\Tools\\Binn;C:\\Program Files\\Microsoft SQL Server\\Client SDK\\ODBC\\130\\Tools\\Binn;C:\\Program Files (x86)\\Microsoft SQL Server\\140\\Tools\\Binn;C:\\Program Files\\Microsoft SQL Server\\140\\Tools\\Binn;C:\\Program Files\\Microsoft SQL Server\\140\\DTS\\Binn;C:\\Program Files (x86)\\Microsoft SQL Server\\Client SDK\\ODBC\\130\\Tools\\Binn;C:\\Program Files (x86)\\Microsoft SQL Server\\140\\DTS\\Binn;C:\\Program Files (x86)\\Microsoft SQL Server\\140\\Tools\\Binn\\ManagementStudio;C:\\WINDOWS\\System32\\OpenSSH;C:\\Program Files (x86)\\dotnet;C:\\ProgramData\\chocolatey\\bin;C:\\Program Files\\AdoptOpenJDK\\jdk8u192-b12\\bin;C:\\Program Files\\Java\\jdk1.8.0_201\\bin;C:\\Android\\android-sdk\\tools;C:\\Android\\android-sdk\\platform-tools;C:\\Android\\android-sdk\\tools\\bin;C:\\Users\\ersar\\.dotnet\\tools;C:\\Users\\ersar\\AppData\\Local\\Programs\\Microsoft VS Code\\bin\n",
      "*----------------------------------*\n"
     ]
    }
   ],
   "source": [
    "import os\n",
    "# Access all environment variables \n",
    "print('*----------------------------------*')\n",
    "print(os.environ)\n",
    "print('*----------------------------------*')\n",
    "# Access a particular environment variable \n",
    "print(os.environ['PATH'])\n",
    "print('*----------------------------------*')"
   ]
  },
  {
   "cell_type": "markdown",
   "metadata": {},
   "source": [
    "### Q 54. Write a Python program to get the current username "
   ]
  },
  {
   "cell_type": "code",
   "execution_count": 59,
   "metadata": {},
   "outputs": [
    {
     "name": "stdout",
     "output_type": "stream",
     "text": [
      "ersar\n"
     ]
    }
   ],
   "source": [
    "import getpass\n",
    "print(getpass.getuser())"
   ]
  },
  {
   "cell_type": "markdown",
   "metadata": {},
   "source": [
    "### Q 55. Write a Python to find local IP addresses using Python's stdlib"
   ]
  },
  {
   "cell_type": "code",
   "execution_count": 60,
   "metadata": {},
   "outputs": [
    {
     "name": "stdout",
     "output_type": "stream",
     "text": [
      "172.17.238.161\n"
     ]
    }
   ],
   "source": [
    "import socket\n",
    "print([l for l in ([ip for ip in socket.gethostbyname_ex(socket.gethostname())[2] \n",
    "if not ip.startswith(\"127.\")][:1], [[(s.connect(('8.8.8.8', 53)), \n",
    "s.getsockname()[0], s.close()) for s in [socket.socket(socket.AF_INET, \n",
    "socket.SOCK_DGRAM)]][0][1]]) if l][0][0])"
   ]
  },
  {
   "cell_type": "markdown",
   "metadata": {},
   "source": [
    "### Q 56. Write a Python program to get height and width of the console window. "
   ]
  },
  {
   "cell_type": "code",
   "execution_count": 65,
   "metadata": {},
   "outputs": [],
   "source": [
    "# this one not support in window\n",
    "#import fcntl, termios, struct  # use in mac\n",
    "#def terminal_size():\n",
    "    #th, tw, hp, wp = struct.unpack('HHHH',  \n",
    "        #fcntl.ioctl(0, termios.TIOCGWINSZ,\n",
    "        #struct.pack('HHHH', 0, 0, 0, 0)))\n",
    "    #return tw, th  # in mac\n",
    "    \n",
    "\n",
    "#print('Number of columns and Rows: ',terminal_size())"
   ]
  },
  {
   "cell_type": "markdown",
   "metadata": {},
   "source": [
    "### Q 57. Write a program to get execution time for a Python method. "
   ]
  },
  {
   "cell_type": "code",
   "execution_count": 66,
   "metadata": {},
   "outputs": [
    {
     "name": "stdout",
     "output_type": "stream",
     "text": [
      "\n",
      "Time to sum of 1 to  5  and required time to calculate is : (15, 0.0)\n"
     ]
    }
   ],
   "source": [
    "import time\n",
    "def sum_of_n_numbers(n):\n",
    "    start_time = time.time()\n",
    "    s = 0\n",
    "    for i in range(1,n+1):\n",
    "        s = s + i\n",
    "    end_time = time.time()\n",
    "    return s,end_time-start_time\n",
    "\n",
    "n = 5\n",
    "print(\"\\nTime to sum of 1 to \",n,\" and required time to calculate is :\",sum_of_n_numbers(n))"
   ]
  },
  {
   "cell_type": "markdown",
   "metadata": {},
   "source": [
    "### Q 58. Write a python program to find the sum of the first n positive integers"
   ]
  },
  {
   "cell_type": "code",
   "execution_count": 67,
   "metadata": {},
   "outputs": [
    {
     "name": "stdout",
     "output_type": "stream",
     "text": [
      "Input a number: 5\n",
      "15.0\n"
     ]
    }
   ],
   "source": [
    "y = int(input(\"Input a number: \"))\n",
    "sum_num = (y * (y + 1)) / 2\n",
    "print(sum_num)"
   ]
  },
  {
   "cell_type": "markdown",
   "metadata": {},
   "source": [
    "### Q 59. Write a Python program to convert height (in feet and inches) to centimeters."
   ]
  },
  {
   "cell_type": "code",
   "execution_count": 62,
   "metadata": {},
   "outputs": [
    {
     "name": "stdout",
     "output_type": "stream",
     "text": [
      "Input your height: \n",
      "Feet: 5\n",
      "Inches: 11\n",
      "Your height is : 180 cm.\n"
     ]
    }
   ],
   "source": [
    "print(\"Input your height: \")\n",
    "h_ft = int(input(\"Feet: \"))\n",
    "h_inch = int(input(\"Inches: \"))\n",
    "\n",
    "h_inch += h_ft * 12\n",
    "h_cm = round(h_inch * 2.54, 1)\n",
    "\n",
    "print(\"Your height is : %d cm.\" % h_cm)"
   ]
  },
  {
   "cell_type": "markdown",
   "metadata": {},
   "source": [
    "### Q 60. Write a Python program to calculate the hypotenuse of a right angled triangle."
   ]
  },
  {
   "cell_type": "code",
   "execution_count": 63,
   "metadata": {},
   "outputs": [
    {
     "name": "stdout",
     "output_type": "stream",
     "text": [
      "Input lengths of shorter triangle sides:\n",
      "a: 4\n",
      "b: 3\n",
      "The length of the hypotenuse is 5.0\n"
     ]
    }
   ],
   "source": [
    "from math import sqrt\n",
    "print(\"Input lengths of shorter triangle sides:\")\n",
    "a = float(input(\"a: \"))\n",
    "b = float(input(\"b: \"))\n",
    "\n",
    "c = sqrt(a**2 + b**2)\n",
    "print(\"The length of the hypotenuse is\", c )"
   ]
  },
  {
   "cell_type": "markdown",
   "metadata": {},
   "source": [
    "### Q 61. Write a Python program to convert the distance (in feet) to inches, yards, and miles."
   ]
  },
  {
   "cell_type": "code",
   "execution_count": 66,
   "metadata": {},
   "outputs": [
    {
     "name": "stdout",
     "output_type": "stream",
     "text": [
      "Input distance in feet: 1000\n",
      "The distance in inches is 12000 inches.\n",
      "The distance in yards is 333.33 yards.\n",
      "The distance in miles is 0.19 miles.\n"
     ]
    }
   ],
   "source": [
    "d_ft = int(input(\"Input distance in feet: \"))\n",
    "d_inches = d_ft * 12\n",
    "d_yards = d_ft / 3.0\n",
    "d_miles = d_ft / 5280.0\n",
    "\n",
    "print(\"The distance in inches is %i inches.\" % d_inches)\n",
    "print(\"The distance in yards is %.2f yards.\" % d_yards)\n",
    "print(\"The distance in miles is %.2f miles.\" % d_miles)"
   ]
  },
  {
   "cell_type": "markdown",
   "metadata": {},
   "source": [
    "### Q 62. Write a Python program to convert all units of time into seconds. "
   ]
  },
  {
   "cell_type": "code",
   "execution_count": 67,
   "metadata": {},
   "outputs": [
    {
     "name": "stdout",
     "output_type": "stream",
     "text": [
      "Input days: 2\n",
      "Input hours: 1\n",
      "Input minutes: 5\n",
      "Input seconds: 20\n",
      "The  amounts of seconds 176720\n"
     ]
    }
   ],
   "source": [
    "days = int(input(\"Input days: \")) * 3600 * 24\n",
    "hours = int(input(\"Input hours: \")) * 3600\n",
    "minutes = int(input(\"Input minutes: \")) * 60\n",
    "seconds = int(input(\"Input seconds: \"))\n",
    "\n",
    "time = days + hours + minutes + seconds\n",
    "\n",
    "print(\"The  amounts of seconds\", time)"
   ]
  },
  {
   "cell_type": "markdown",
   "metadata": {},
   "source": [
    "### Q 63. Write a Python program to get an absolute file path."
   ]
  },
  {
   "cell_type": "code",
   "execution_count": 68,
   "metadata": {},
   "outputs": [
    {
     "name": "stdout",
     "output_type": "stream",
     "text": [
      "Absolute file path:  C:\\Users\\ersar\\path_fname\n"
     ]
    }
   ],
   "source": [
    "def absolute_file_path(path_fname):\n",
    "        import os\n",
    "        return os.path.abspath('path_fname')        \n",
    "print(\"Absolute file path: \",absolute_file_path(\"xyz.txt\"))"
   ]
  },
  {
   "cell_type": "markdown",
   "metadata": {},
   "source": [
    "### Q 64. Write a Python program to get file creation and modification date/times. "
   ]
  },
  {
   "cell_type": "code",
   "execution_count": 69,
   "metadata": {},
   "outputs": [
    {
     "name": "stdout",
     "output_type": "stream",
     "text": [
      "Last modified: Sat Dec 26 23:29:25 2020\n",
      "Created: Sat Dec 26 22:48:15 2020\n"
     ]
    }
   ],
   "source": [
    "import os.path, time\n",
    "print(\"Last modified: %s\" % time.ctime(os.path.getmtime(\"xyz.txt\")))\n",
    "print(\"Created: %s\" % time.ctime(os.path.getctime(\"xyz.txt\")))"
   ]
  },
  {
   "cell_type": "markdown",
   "metadata": {},
   "source": [
    "### Q 65. Write a Python program to convert seconds to day, hour, minutes and seconds. "
   ]
  },
  {
   "cell_type": "code",
   "execution_count": 70,
   "metadata": {},
   "outputs": [
    {
     "name": "stdout",
     "output_type": "stream",
     "text": [
      "Input time in seconds: 176720\n",
      "d:h:m:s-> 2:1:5:20\n"
     ]
    }
   ],
   "source": [
    "time = float(input(\"Input time in seconds: \"))\n",
    "day = time // (24 * 3600)\n",
    "time = time % (24 * 3600)\n",
    "hour = time // 3600\n",
    "time %= 3600\n",
    "minutes = time // 60\n",
    "time %= 60\n",
    "seconds = time\n",
    "print(\"d:h:m:s-> %d:%d:%d:%d\" % (day, hour, minutes, seconds))"
   ]
  },
  {
   "cell_type": "markdown",
   "metadata": {},
   "source": [
    "### Q 66. Write a Python program to calculate body mass index. "
   ]
  },
  {
   "cell_type": "code",
   "execution_count": 71,
   "metadata": {},
   "outputs": [
    {
     "name": "stdout",
     "output_type": "stream",
     "text": [
      "Input your height in meters: 1.8\n",
      "Input your weight in kilogram: 85\n",
      "Your body mass index is:  26.23\n"
     ]
    }
   ],
   "source": [
    "height = float(input(\"Input your height in meters: \"))\n",
    "weight = float(input(\"Input your weight in kilogram: \"))\n",
    "print(\"Your body mass index is: \", round(weight / (height * height), 2))"
   ]
  },
  {
   "cell_type": "markdown",
   "metadata": {},
   "source": [
    "### Q 67. Write a Python program to convert pressure in kilopascals to pounds per square inch, a millimeter of mercury (mmHg) and atmosphere pressure."
   ]
  },
  {
   "cell_type": "code",
   "execution_count": 72,
   "metadata": {},
   "outputs": [
    {
     "name": "stdout",
     "output_type": "stream",
     "text": [
      "Input pressure in in kilopascals> 10.3\n",
      "The pressure in pounds per square inch: 1.49 psi\n",
      "The pressure in millimeter of mercury: 77.26 mmHg\n",
      "Atmosphere pressure: 0.10 atm.\n"
     ]
    }
   ],
   "source": [
    "kpa = float(input(\"Input pressure in in kilopascals> \"))\n",
    "psi = kpa / 6.89475729\n",
    "mmhg = kpa * 760 / 101.325\n",
    "atm = kpa / 101.325\n",
    "print(\"The pressure in pounds per square inch: %.2f psi\"  % (psi))\n",
    "print(\"The pressure in millimeter of mercury: %.2f mmHg\" % (mmhg))\n",
    "print(\"Atmosphere pressure: %.2f atm.\" % (atm))"
   ]
  },
  {
   "cell_type": "markdown",
   "metadata": {},
   "source": [
    "### Q 68. Write a Python program to calculate the sum of the digits in an integer. "
   ]
  },
  {
   "cell_type": "code",
   "execution_count": 68,
   "metadata": {},
   "outputs": [
    {
     "name": "stdout",
     "output_type": "stream",
     "text": [
      "Input a four digit numbers: 4500\n",
      "The sum of digits in the number is 9\n"
     ]
    }
   ],
   "source": [
    "num = int(input(\"Input a four digit numbers: \"))\n",
    "x  = num //1000\n",
    "x1 = (num - x*1000)//100\n",
    "x2 = (num - x*1000 - x1*100)//10\n",
    "x3 = num - x*1000 - x1*100 - x2*10\n",
    "print(\"The sum of digits in the number is\", x+x1+x2+x3)"
   ]
  },
  {
   "cell_type": "markdown",
   "metadata": {},
   "source": [
    "### Q 69. Write a Python program to sort three integers without using conditional statements and loops."
   ]
  },
  {
   "cell_type": "code",
   "execution_count": 71,
   "metadata": {},
   "outputs": [
    {
     "name": "stdout",
     "output_type": "stream",
     "text": [
      "Input first number: 4\n",
      "Input second number: 8\n",
      "Input third number: 2\n",
      "Numbers in sorted order:  2 4 8\n"
     ]
    }
   ],
   "source": [
    "x = int(input(\"Input first number: \"))\n",
    "y = int(input(\"Input second number: \"))\n",
    "z = int(input(\"Input third number: \"))\n",
    "\n",
    "a1 = min(x, y, z)\n",
    "a3 = max(x, y, z)\n",
    "a2 = (x + y + z) - a1 - a3\n",
    "print(\"Numbers in sorted order: \", a1, a2, a3)"
   ]
  },
  {
   "cell_type": "markdown",
   "metadata": {},
   "source": [
    "### Q 70. Write a Python program to sort files by date."
   ]
  },
  {
   "cell_type": "code",
   "execution_count": 75,
   "metadata": {},
   "outputs": [
    {
     "name": "stdout",
     "output_type": "stream",
     "text": [
      "abc.txt\n",
      "xyz.txt\n"
     ]
    }
   ],
   "source": [
    "import glob\n",
    "import os\n",
    "\n",
    "files = glob.glob(\"*.txt\")\n",
    "files.sort(key=os.path.getmtime)\n",
    "print(\"\\n\".join(files))"
   ]
  },
  {
   "cell_type": "markdown",
   "metadata": {},
   "source": [
    "### Q 71. Write a Python program to get a directory listing, sorted by creation date."
   ]
  },
  {
   "cell_type": "code",
   "execution_count": 76,
   "metadata": {},
   "outputs": [
    {
     "name": "stdout",
     "output_type": "stream",
     "text": [
      "Sat Oct 27 17:41:49 2018 .angular-config.json\n",
      "Tue Oct 30 14:34:08 2018 .viminfo\n",
      "Wed Oct 31 13:51:09 2018 .eslintrc\n",
      "Tue Jan 22 18:31:44 2019 .csslintrc\n",
      "Tue Jan 22 18:31:44 2019 coffeelint.json\n",
      "Wed Apr  3 17:28:16 2019 .tnsrc\n",
      "Wed Apr  3 17:28:24 2019 .bashrc\n",
      "Wed Apr  3 17:28:24 2019 .zshrc\n",
      "Fri Apr  5 10:54:41 2019 .emulator_console_auth_token\n",
      "Mon Apr  8 11:17:44 2019 .bash_profile\n",
      "Wed Apr 10 16:29:58 2019 PUTTY.RND\n",
      "Thu Jul  4 15:58:36 2019 .mongorc.js\n",
      "Thu Jul  4 16:00:15 2019 .dbshell\n",
      "Thu Jul 11 14:19:18 2019 .yarnrc\n",
      "Mon Oct 14 00:43:17 2019 _netrc\n",
      "Wed Oct 16 13:15:47 2019 NTUSER.DAT\n",
      "Wed Oct 16 13:15:48 2019 NTUSER.DAT{38be98cc-efe6-11e9-9177-107d1a2a1c89}.TM.blf\n",
      "Wed Oct 16 13:15:48 2019 NTUSER.DAT{38be98cc-efe6-11e9-9177-107d1a2a1c89}.TMContainer00000000000000000001.regtrans-ms\n",
      "Wed Oct 16 13:15:48 2019 NTUSER.DAT{38be98cc-efe6-11e9-9177-107d1a2a1c89}.TMContainer00000000000000000002.regtrans-ms\n",
      "Wed Oct 16 13:15:48 2019 ntuser.dat.LOG1\n",
      "Wed Oct 16 13:15:48 2019 ntuser.dat.LOG2\n",
      "Wed Oct 16 14:10:22 2019 ntuser.ini\n",
      "Sat Nov 23 00:45:30 2019 EmployeeDB.mdf\n",
      "Sat Nov 23 00:45:30 2019 EmployeeDB_log.ldf\n",
      "Sat Jun  6 17:05:58 2020 .gitconfig\n",
      "Tue Sep  8 14:16:58 2020 .condarc\n",
      "Tue Sep  8 14:24:59 2020 Comprehensions.ipynb\n",
      "Thu Sep 10 10:08:21 2020 Untitled.ipynb\n",
      "Wed Nov  4 13:28:26 2020 Ass1CheckPoint1.ipynb\n",
      "Mon Nov 16 16:45:16 2020 Saroj Akshay Case Study.ipynb\n",
      "Mon Nov 16 16:48:02 2020 loan_cleaned_data.csv\n",
      "Mon Nov 16 16:48:14 2020 master_loan.csv\n",
      "Mon Nov 16 16:57:14 2020 LendingClub_Saroj_Akshay.ipynb\n",
      "Sat Nov 21 18:40:30 2020 Pizza.ipynb\n",
      "Sat Nov 21 21:37:16 2020 pizza1-checkpoint.ipynb\n",
      "Sat Nov 21 21:37:16 2020 pizza1.ipynb\n",
      "Sun Nov 22 14:53:54 2020 .bash_history\n",
      "Sun Nov 22 19:06:37 2020 Linear Regression .ipynb\n",
      "Mon Nov 23 10:21:01 2020 Multiple Linear Regression Housing Case Study.ipynb\n",
      "Mon Nov 23 22:59:29 2020 Housing+Case+Study+using+RFE.ipynb\n",
      "Tue Nov 24 12:34:01 2020 Media+Company+File.ipynb\n",
      "Tue Nov 24 12:34:03 2020 Media+Company.ipynb\n",
      "Tue Nov 24 14:26:02 2020 pyplot_multiple_y-axis.png\n",
      "Tue Nov 24 19:45:53 2020 exercise.ipynb\n",
      "Tue Nov 24 23:52:34 2020 Bike Assignment.ipynb\n",
      "Sat Nov 28 18:00:31 2020 Logistic+Regression+-+Telecom+Churn+Case+Study.ipynb\n",
      "Fri Dec 11 10:16:20 2020 Naive_Bayes_Multinomial_Bernoulli_+Demo.ipynb\n",
      "Fri Dec 11 10:44:17 2020 SMS+Classifier+_+Multinomial+Naive+Bayes.ipynb\n",
      "Fri Dec 11 11:44:18 2020 SMS+Classifier+_+Bernoulli+NB.ipynb\n",
      "Fri Dec 11 13:24:36 2020 Naive_Bayes_Assignment_Graded.ipynb\n",
      "Fri Dec 11 13:46:33 2020 Graded+Classifier+_+Multinomial+Naive+Bayes.ipynb\n",
      "Wed Dec 16 12:30:51 2020 Cross-Validation - Linear Regression.ipynb\n",
      "Sat Dec 26 21:32:47 2020 Python Exercise Basic.ipynb\n",
      "Sat Dec 26 22:47:59 2020 abc.txt\n",
      "Sat Dec 26 22:48:15 2020 xyz.txt\n"
     ]
    }
   ],
   "source": [
    "from stat import S_ISREG, ST_CTIME, ST_MODE\n",
    "import os, sys, time\n",
    "\n",
    "#Relative or absolute path to the directory\n",
    "dir_path = sys.argv[1] if len(sys.argv) == 2 else r'.'\n",
    "\n",
    "#all entries in the directory w/ stats\n",
    "data = (os.path.join(dir_path, fn) for fn in os.listdir(dir_path))\n",
    "data = ((os.stat(path), path) for path in data)\n",
    "\n",
    "# regular files, insert creation date\n",
    "data = ((stat[ST_CTIME], path)\n",
    "           for stat, path in data if S_ISREG(stat[ST_MODE]))\n",
    "\n",
    "for cdate, path in sorted(data):\n",
    "    print(time.ctime(cdate), os.path.basename(path))"
   ]
  },
  {
   "cell_type": "markdown",
   "metadata": {},
   "source": [
    "### Q 72. Write a Python program to get the details of math module."
   ]
  },
  {
   "cell_type": "code",
   "execution_count": 72,
   "metadata": {},
   "outputs": [
    {
     "name": "stdout",
     "output_type": "stream",
     "text": [
      "['__doc__', '__loader__', '__name__', '__package__', '__spec__', 'acos', 'acosh', 'asin', 'asinh', 'atan', 'atan2', 'atanh', 'ceil', 'comb', 'copysign', 'cos', 'cosh', 'degrees', 'dist', 'e', 'erf', 'erfc', 'exp', 'expm1', 'fabs', 'factorial', 'floor', 'fmod', 'frexp', 'fsum', 'gamma', 'gcd', 'hypot', 'inf', 'isclose', 'isfinite', 'isinf', 'isnan', 'isqrt', 'ldexp', 'lgamma', 'log', 'log10', 'log1p', 'log2', 'modf', 'nan', 'perm', 'pi', 'pow', 'prod', 'radians', 'remainder', 'sin', 'sinh', 'sqrt', 'tan', 'tanh', 'tau', 'trunc']\n"
     ]
    }
   ],
   "source": [
    "# Imports the math module\n",
    "import math            \n",
    "#Sets everything to a list of math module\n",
    "math_ls = dir(math) # \n",
    "print(math_ls)"
   ]
  },
  {
   "cell_type": "markdown",
   "metadata": {},
   "source": [
    "### Q 73. Write a Python program to calculate midpoints of a line."
   ]
  },
  {
   "cell_type": "code",
   "execution_count": 79,
   "metadata": {},
   "outputs": [
    {
     "name": "stdout",
     "output_type": "stream",
     "text": [
      "\n",
      "Calculate the midpoint of a line :\n",
      "The value of x (the first endpoint) 3\n",
      "The value of y (the first endpoint) 3\n",
      "The value of x (the first endpoint) 5\n",
      "The value of y (the first endpoint) 5\n",
      "\n",
      "The midpoint of line is :\n",
      "The midpoint's x value is:  4.0\n",
      "The midpoint's y value is:  4.0\n",
      "\n"
     ]
    }
   ],
   "source": [
    "print('\\nCalculate the midpoint of a line :')\n",
    "\n",
    "x1 = float(input('The value of x (the first endpoint) '))\n",
    "y1 = float(input('The value of y (the first endpoint) '))\n",
    "\n",
    "x2 = float(input('The value of x (the first endpoint) '))\n",
    "y2 = float(input('The value of y (the first endpoint) '))\n",
    "\n",
    "x_m_point = (x1 + x2)/2\n",
    "y_m_point = (y1 + y2)/2\n",
    "print();\n",
    "print(\"The midpoint of line is :\")\n",
    "print( \"The midpoint's x value is: \",x_m_point)\n",
    "print( \"The midpoint's y value is: \",y_m_point)\n",
    "print();"
   ]
  },
  {
   "cell_type": "markdown",
   "metadata": {},
   "source": [
    "### Q 74. Write a Python program to hash a word."
   ]
  },
  {
   "cell_type": "code",
   "execution_count": 80,
   "metadata": {},
   "outputs": [
    {
     "name": "stdout",
     "output_type": "stream",
     "text": [
      "Input the word be hashed: saroj\n",
      "\n",
      "The coded word is: S0256\n",
      "\n"
     ]
    }
   ],
   "source": [
    "soundex=[0,1,2,3,0,1,2,0,0,2,2,4,5,5,0,1,2,6,2,3,0,1,0,2,0,2]\n",
    " \n",
    "word=input(\"Input the word be hashed: \")\n",
    " \n",
    "word=word.upper()\n",
    " \n",
    "coded=word[0]\n",
    " \n",
    "for a in word[1:len(word)]:\n",
    "    i=65-ord(a)\n",
    "    coded=coded+str(soundex[i])\n",
    "print() \n",
    "print(\"The coded word is: \"+coded)\n",
    "print()"
   ]
  },
  {
   "cell_type": "markdown",
   "metadata": {},
   "source": [
    "### Q 75. Write a Python program to get the copyright information."
   ]
  },
  {
   "cell_type": "code",
   "execution_count": 81,
   "metadata": {},
   "outputs": [
    {
     "name": "stdout",
     "output_type": "stream",
     "text": [
      "\n",
      "Python Copyright Information\n",
      "Copyright (c) 2001-2020 Python Software Foundation.\n",
      "All Rights Reserved.\n",
      "\n",
      "Copyright (c) 2000 BeOpen.com.\n",
      "All Rights Reserved.\n",
      "\n",
      "Copyright (c) 1995-2001 Corporation for National Research Initiatives.\n",
      "All Rights Reserved.\n",
      "\n",
      "Copyright (c) 1991-1995 Stichting Mathematisch Centrum, Amsterdam.\n",
      "All Rights Reserved.\n",
      "\n"
     ]
    }
   ],
   "source": [
    "import sys\n",
    "print(\"\\nPython Copyright Information\")\n",
    "print(sys.copyright)\n",
    "print()"
   ]
  },
  {
   "cell_type": "markdown",
   "metadata": {},
   "source": [
    "### Q 76. Write a Python program to get the command-line arguments (name of the script, the number of arguments, arguments) passed to a script."
   ]
  },
  {
   "cell_type": "code",
   "execution_count": 82,
   "metadata": {},
   "outputs": [
    {
     "name": "stdout",
     "output_type": "stream",
     "text": [
      "This is the name/path of the script:\n",
      "Number of arguments: 3\n",
      "Argument List: ['C:\\\\Users\\\\ersar\\\\anaconda3\\\\lib\\\\site-packages\\\\ipykernel_launcher.py', '-f', 'C:\\\\Users\\\\ersar\\\\AppData\\\\Roaming\\\\jupyter\\\\runtime\\\\kernel-d6d458a5-e760-473c-9e0c-6eb032f90d7d.json']\n"
     ]
    }
   ],
   "source": [
    "import sys\n",
    "print(\"This is the name/path of the script:\"),sys.argv[0]\n",
    "print(\"Number of arguments:\",len(sys.argv))\n",
    "print(\"Argument List:\",str(sys.argv))"
   ]
  },
  {
   "cell_type": "markdown",
   "metadata": {},
   "source": [
    "### Q 77. Write a Python program to test whether the system is a big-endian platform or little-endian platform."
   ]
  },
  {
   "cell_type": "code",
   "execution_count": 83,
   "metadata": {},
   "outputs": [
    {
     "name": "stdout",
     "output_type": "stream",
     "text": [
      "\n",
      "Little-endian platform.\n",
      "\n"
     ]
    }
   ],
   "source": [
    "import sys\n",
    "print()\n",
    "if sys.byteorder == \"little\":\n",
    "    #intel, alpha\n",
    "    print(\"Little-endian platform.\")\n",
    "else:\n",
    "    #motorola, sparc\n",
    "    print(\"Big-endian platform.\")\n",
    "print()"
   ]
  },
  {
   "cell_type": "markdown",
   "metadata": {},
   "source": [
    "### Q 78. Write a Python program to find the available built-in modules. "
   ]
  },
  {
   "cell_type": "code",
   "execution_count": 84,
   "metadata": {},
   "outputs": [
    {
     "name": "stdout",
     "output_type": "stream",
     "text": [
      "_abc, _ast, _bisect, _blake2, _codecs, _codecs_cn, _codecs_hk,\n",
      "_codecs_iso2022, _codecs_jp, _codecs_kr, _codecs_tw, _collections,\n",
      "_contextvars, _csv, _datetime, _functools, _heapq, _imp, _io, _json,\n",
      "_locale, _lsprof, _md5, _multibytecodec, _opcode, _operator, _pickle,\n",
      "_random, _sha1, _sha256, _sha3, _sha512, _signal, _sre, _stat,\n",
      "_statistics, _string, _struct, _symtable, _thread, _tracemalloc,\n",
      "_warnings, _weakref, _winapi, _xxsubinterpreters, array, atexit,\n",
      "audioop, binascii, builtins, cmath, errno, faulthandler, gc,\n",
      "itertools, marshal, math, mmap, msvcrt, nt, parser, sys, time, winreg,\n",
      "xxsubtype, zlib\n"
     ]
    }
   ],
   "source": [
    "import sys\n",
    "import textwrap\n",
    "module_name = ', '.join(sorted(sys.builtin_module_names))\n",
    "print(textwrap.fill(module_name, width=70))"
   ]
  },
  {
   "cell_type": "markdown",
   "metadata": {},
   "source": [
    "### Q 79. Write a Python program to get the size of an object in bytes."
   ]
  },
  {
   "cell_type": "code",
   "execution_count": 85,
   "metadata": {},
   "outputs": [
    {
     "name": "stdout",
     "output_type": "stream",
     "text": [
      "\n",
      "Memory size of 'one' = 52 bytes\n",
      "Memory size of 'four' = 53 bytes\n",
      "Memory size of 'three' = 54 bytes\n",
      "\n"
     ]
    }
   ],
   "source": [
    "import sys\n",
    "str1 = \"one\"\n",
    "str2 = \"four\"\n",
    "str3 = \"three\"\n",
    "print()\n",
    "print(\"Memory size of '\"+str1+\"' = \"+str(sys.getsizeof(str1))+ \" bytes\")\n",
    "print(\"Memory size of '\"+str2+\"' = \"+str(sys.getsizeof(str2))+ \" bytes\")\n",
    "print(\"Memory size of '\"+str3+\"' = \"+str(sys.getsizeof(str3))+ \" bytes\")\n",
    "print()"
   ]
  },
  {
   "cell_type": "markdown",
   "metadata": {},
   "source": [
    "### Q 80. Write a Python program to get the current value of the recursion limit."
   ]
  },
  {
   "cell_type": "code",
   "execution_count": 86,
   "metadata": {},
   "outputs": [
    {
     "name": "stdout",
     "output_type": "stream",
     "text": [
      "\n",
      "Current value of the recursion limit:\n",
      "3000\n",
      "\n"
     ]
    }
   ],
   "source": [
    "import sys\n",
    "print()\n",
    "print(\"Current value of the recursion limit:\")\n",
    "print(sys.getrecursionlimit())\n",
    "print()"
   ]
  },
  {
   "cell_type": "markdown",
   "metadata": {},
   "source": [
    "### Q 81. Write a Python program to concatenate N strings."
   ]
  },
  {
   "cell_type": "code",
   "execution_count": 87,
   "metadata": {},
   "outputs": [
    {
     "name": "stdout",
     "output_type": "stream",
     "text": [
      "\n",
      "All Colors: Red-White-Black\n",
      "\n"
     ]
    }
   ],
   "source": [
    "list_of_colors = ['Red', 'White', 'Black']  \n",
    "colors = '-'.join(list_of_colors)\n",
    "print()\n",
    "print(\"All Colors: \"+colors)\n",
    "print()"
   ]
  },
  {
   "cell_type": "markdown",
   "metadata": {},
   "source": [
    "### Q 82. Write a Python program to calculate the sum over a container. "
   ]
  },
  {
   "cell_type": "code",
   "execution_count": 89,
   "metadata": {},
   "outputs": [],
   "source": [
    "s = sum([10,20,30])\n",
    "print(\"\\nSum of the container: \", s)\n",
    "print()"
   ]
  },
  {
   "cell_type": "markdown",
   "metadata": {},
   "source": [
    "### Q 83. Write a Python program to test whether all numbers of a list is greater than a certain number."
   ]
  },
  {
   "cell_type": "code",
   "execution_count": 90,
   "metadata": {},
   "outputs": [
    {
     "name": "stdout",
     "output_type": "stream",
     "text": [
      "\n",
      "True\n",
      "False\n",
      "\n"
     ]
    }
   ],
   "source": [
    "num = [2,3,4]\n",
    "print()\n",
    "print(all(x > 1 for x in num))\n",
    "print(all(x > 4 for x in num))\n",
    "print()"
   ]
  },
  {
   "cell_type": "markdown",
   "metadata": {},
   "source": [
    "### Q 84. Write a Python program to count the number occurrence of a specific character in a string."
   ]
  },
  {
   "cell_type": "code",
   "execution_count": 91,
   "metadata": {},
   "outputs": [
    {
     "name": "stdout",
     "output_type": "stream",
     "text": [
      "\n",
      "1\n",
      "\n"
     ]
    }
   ],
   "source": [
    "s = \"The quick brown fox jumps over the lazy dog.\"\n",
    "print()\n",
    "print(s.count(\"q\"))\n",
    "print()"
   ]
  },
  {
   "cell_type": "markdown",
   "metadata": {},
   "source": [
    "### Q 85. Write a Python program to check whether a file path is a file or a directory. "
   ]
  },
  {
   "cell_type": "code",
   "execution_count": 92,
   "metadata": {},
   "outputs": [
    {
     "name": "stdout",
     "output_type": "stream",
     "text": [
      "\n",
      "It is a normal file\n",
      "\n"
     ]
    }
   ],
   "source": [
    "import os  \n",
    "path=\"xyz.txt\"  \n",
    "if os.path.isdir(path):  \n",
    "    print(\"\\nIt is a directory\")  \n",
    "elif os.path.isfile(path):  \n",
    "    print(\"\\nIt is a normal file\")  \n",
    "else:  \n",
    "    print(\"It is a special file (socket, FIFO, device file)\" )\n",
    "print()"
   ]
  },
  {
   "cell_type": "markdown",
   "metadata": {},
   "source": [
    "### Q 86. Write a Python program to get the ASCII value of a character."
   ]
  },
  {
   "cell_type": "code",
   "execution_count": 93,
   "metadata": {},
   "outputs": [
    {
     "name": "stdout",
     "output_type": "stream",
     "text": [
      "\n",
      "97\n",
      "65\n",
      "49\n",
      "64\n",
      "\n"
     ]
    }
   ],
   "source": [
    "print()\n",
    "print(ord('a'))\n",
    "print(ord('A'))\n",
    "print(ord('1'))\n",
    "print(ord('@'))\n",
    "print()"
   ]
  },
  {
   "cell_type": "markdown",
   "metadata": {},
   "source": [
    "### Q 87. Write a Python program to get the size of a file. "
   ]
  },
  {
   "cell_type": "code",
   "execution_count": 73,
   "metadata": {},
   "outputs": [
    {
     "name": "stdout",
     "output_type": "stream",
     "text": [
      "\n",
      "The size of xyz.txt is : 0 Bytes\n",
      "\n"
     ]
    }
   ],
   "source": [
    "import os\n",
    "file_size = os.path.getsize(\"xyz.txt\")\n",
    "print(\"\\nThe size of xyz.txt is :\",file_size,\"Bytes\")\n",
    "print()"
   ]
  },
  {
   "cell_type": "markdown",
   "metadata": {},
   "source": [
    "### Q 88. Given variables x=30 and y=20, write a Python program to print \"30+20=50\". "
   ]
  },
  {
   "cell_type": "code",
   "execution_count": 95,
   "metadata": {},
   "outputs": [
    {
     "name": "stdout",
     "output_type": "stream",
     "text": [
      "\n",
      "30+20=50\n",
      "\n"
     ]
    }
   ],
   "source": [
    "x = 30\n",
    "y = 20\n",
    "print(\"\\n%d+%d=%d\" % (x, y, x+y))\n",
    "print()"
   ]
  },
  {
   "cell_type": "markdown",
   "metadata": {},
   "source": [
    "### Q 89. Write a Python program to perform an action if a condition is true.\n",
    "Given a variable name, if the value is 1, display the string \"First day of a Month!\" and do nothing if the value is not equal."
   ]
  },
  {
   "cell_type": "code",
   "execution_count": 96,
   "metadata": {},
   "outputs": [
    {
     "name": "stdout",
     "output_type": "stream",
     "text": [
      "\n",
      "First day of a month\n",
      "\n"
     ]
    }
   ],
   "source": [
    "n=1\n",
    "if n == 1:\n",
    "    print(\"\\nFirst day of a month\")\n",
    "print()"
   ]
  },
  {
   "cell_type": "markdown",
   "metadata": {},
   "source": [
    "### Q 90. Write a Python program to create a copy of its own source code."
   ]
  },
  {
   "cell_type": "code",
   "execution_count": 97,
   "metadata": {},
   "outputs": [
    {
     "name": "stdout",
     "output_type": "stream",
     "text": [
      "\n",
      "print(lambda str='print(lambda str=%r: (str %% str))()': (str % str))()\n",
      "\n"
     ]
    }
   ],
   "source": [
    "print()\n",
    "print((lambda str='print(lambda str=%r: (str %% str))()': (str % str))())\n",
    "print()"
   ]
  },
  {
   "cell_type": "markdown",
   "metadata": {},
   "source": [
    "### Q 91. Write a Python program to swap two variables. "
   ]
  },
  {
   "cell_type": "code",
   "execution_count": 98,
   "metadata": {},
   "outputs": [
    {
     "name": "stdout",
     "output_type": "stream",
     "text": [
      "\n",
      "Before swap a = 30 and b = 20\n",
      "\n",
      "After swaping a = 20 and b = 30\n",
      "\n"
     ]
    }
   ],
   "source": [
    "a = 30\n",
    "b = 20\n",
    "print(\"\\nBefore swap a = %d and b = %d\" %(a, b))\n",
    "a, b = b, a\n",
    "print(\"\\nAfter swaping a = %d and b = %d\" %(a, b))\n",
    "print()"
   ]
  },
  {
   "cell_type": "markdown",
   "metadata": {},
   "source": [
    "### Q 92. Write a Python program to define a string containing special characters in various forms."
   ]
  },
  {
   "cell_type": "code",
   "execution_count": 99,
   "metadata": {},
   "outputs": [
    {
     "name": "stdout",
     "output_type": "stream",
     "text": [
      "\n",
      "\\#{'}${\"}@/\n",
      "\\#{'}${\"}@/\n",
      "\\#{'}${\"}@/\n",
      "\\#{'}${\"}@/\n",
      "\\#{'}${\"}@/\n",
      "\\#{'}${\"}@/\n",
      "\n"
     ]
    }
   ],
   "source": [
    "print()\n",
    "print(\"\\#{'}${\\\"}@/\")\n",
    "print(\"\\#{'}${\"'\"'\"}@/\")\n",
    "print(r\"\"\"\\#{'}${\"}@/\"\"\")\n",
    "print('\\#{\\'}${\"}@/')\n",
    "print('\\#{'\"'\"'}${\"}@/')\n",
    "print(r'''\\#{'}${\"}@/''')\n",
    "print()"
   ]
  },
  {
   "cell_type": "markdown",
   "metadata": {},
   "source": [
    "### Q 93. Write a Python program to get the identity of an object. "
   ]
  },
  {
   "cell_type": "code",
   "execution_count": 100,
   "metadata": {},
   "outputs": [
    {
     "name": "stdout",
     "output_type": "stream",
     "text": [
      "\n",
      "1730282996144\n",
      "\n"
     ]
    }
   ],
   "source": [
    "obj1 = object()\n",
    "obj1_address = id(obj1)\n",
    "print()\n",
    "print(obj1_address)\n",
    "print()"
   ]
  },
  {
   "cell_type": "markdown",
   "metadata": {},
   "source": [
    "### Q 94. Write a Python program to convert a byte string to a list of integers."
   ]
  },
  {
   "cell_type": "code",
   "execution_count": 74,
   "metadata": {},
   "outputs": [
    {
     "name": "stdout",
     "output_type": "stream",
     "text": [
      "\n",
      "[65, 98, 99]\n",
      "\n"
     ]
    }
   ],
   "source": [
    "x = b'Abc'\n",
    "print()\n",
    "print(list(x))\n",
    "print()"
   ]
  },
  {
   "cell_type": "markdown",
   "metadata": {},
   "source": [
    "### Q 95. Write a Python program to check whether a string is numeric. "
   ]
  },
  {
   "cell_type": "code",
   "execution_count": 3,
   "metadata": {},
   "outputs": [
    {
     "name": "stdout",
     "output_type": "stream",
     "text": [
      "\n",
      "Not numeric\n",
      "\n"
     ]
    }
   ],
   "source": [
    "str1 = 'a123'\n",
    "#str1 = '123'\n",
    "try:\n",
    "    i = float(str1)\n",
    "except (ValueError, TypeError):\n",
    "    print('\\nNot numeric')\n",
    "print()"
   ]
  },
  {
   "cell_type": "markdown",
   "metadata": {},
   "source": [
    "### Q 96. Write a Python program to print the current call stack."
   ]
  },
  {
   "cell_type": "code",
   "execution_count": 5,
   "metadata": {},
   "outputs": [
    {
     "name": "stdout",
     "output_type": "stream",
     "text": [
      "\n",
      "\n"
     ]
    },
    {
     "name": "stderr",
     "output_type": "stream",
     "text": [
      "  File \"C:\\Users\\ersar\\anaconda3\\lib\\runpy.py\", line 194, in _run_module_as_main\n",
      "    return _run_code(code, main_globals, None,\n",
      "  File \"C:\\Users\\ersar\\anaconda3\\lib\\runpy.py\", line 87, in _run_code\n",
      "    exec(code, run_globals)\n",
      "  File \"C:\\Users\\ersar\\anaconda3\\lib\\site-packages\\ipykernel_launcher.py\", line 16, in <module>\n",
      "    app.launch_new_instance()\n",
      "  File \"C:\\Users\\ersar\\anaconda3\\lib\\site-packages\\traitlets\\config\\application.py\", line 664, in launch_instance\n",
      "    app.start()\n",
      "  File \"C:\\Users\\ersar\\anaconda3\\lib\\site-packages\\ipykernel\\kernelapp.py\", line 612, in start\n",
      "    self.io_loop.start()\n",
      "  File \"C:\\Users\\ersar\\anaconda3\\lib\\site-packages\\tornado\\platform\\asyncio.py\", line 149, in start\n",
      "    self.asyncio_loop.run_forever()\n",
      "  File \"C:\\Users\\ersar\\anaconda3\\lib\\asyncio\\base_events.py\", line 570, in run_forever\n",
      "    self._run_once()\n",
      "  File \"C:\\Users\\ersar\\anaconda3\\lib\\asyncio\\base_events.py\", line 1859, in _run_once\n",
      "    handle._run()\n",
      "  File \"C:\\Users\\ersar\\anaconda3\\lib\\asyncio\\events.py\", line 81, in _run\n",
      "    self._context.run(self._callback, *self._args)\n",
      "  File \"C:\\Users\\ersar\\anaconda3\\lib\\site-packages\\tornado\\ioloop.py\", line 690, in <lambda>\n",
      "    lambda f: self._run_callback(functools.partial(callback, future))\n",
      "  File \"C:\\Users\\ersar\\anaconda3\\lib\\site-packages\\tornado\\ioloop.py\", line 743, in _run_callback\n",
      "    ret = callback()\n",
      "  File \"C:\\Users\\ersar\\anaconda3\\lib\\site-packages\\tornado\\gen.py\", line 787, in inner\n",
      "    self.run()\n",
      "  File \"C:\\Users\\ersar\\anaconda3\\lib\\site-packages\\tornado\\gen.py\", line 748, in run\n",
      "    yielded = self.gen.send(value)\n",
      "  File \"C:\\Users\\ersar\\anaconda3\\lib\\site-packages\\ipykernel\\kernelbase.py\", line 365, in process_one\n",
      "    yield gen.maybe_future(dispatch(*args))\n",
      "  File \"C:\\Users\\ersar\\anaconda3\\lib\\site-packages\\tornado\\gen.py\", line 209, in wrapper\n",
      "    yielded = next(result)\n",
      "  File \"C:\\Users\\ersar\\anaconda3\\lib\\site-packages\\ipykernel\\kernelbase.py\", line 268, in dispatch_shell\n",
      "    yield gen.maybe_future(handler(stream, idents, msg))\n",
      "  File \"C:\\Users\\ersar\\anaconda3\\lib\\site-packages\\tornado\\gen.py\", line 209, in wrapper\n",
      "    yielded = next(result)\n",
      "  File \"C:\\Users\\ersar\\anaconda3\\lib\\site-packages\\ipykernel\\kernelbase.py\", line 543, in execute_request\n",
      "    self.do_execute(\n",
      "  File \"C:\\Users\\ersar\\anaconda3\\lib\\site-packages\\tornado\\gen.py\", line 209, in wrapper\n",
      "    yielded = next(result)\n",
      "  File \"C:\\Users\\ersar\\anaconda3\\lib\\site-packages\\ipykernel\\ipkernel.py\", line 306, in do_execute\n",
      "    res = shell.run_cell(code, store_history=store_history, silent=silent)\n",
      "  File \"C:\\Users\\ersar\\anaconda3\\lib\\site-packages\\ipykernel\\zmqshell.py\", line 536, in run_cell\n",
      "    return super(ZMQInteractiveShell, self).run_cell(*args, **kwargs)\n",
      "  File \"C:\\Users\\ersar\\anaconda3\\lib\\site-packages\\IPython\\core\\interactiveshell.py\", line 2866, in run_cell\n",
      "    result = self._run_cell(\n",
      "  File \"C:\\Users\\ersar\\anaconda3\\lib\\site-packages\\IPython\\core\\interactiveshell.py\", line 2895, in _run_cell\n",
      "    return runner(coro)\n",
      "  File \"C:\\Users\\ersar\\anaconda3\\lib\\site-packages\\IPython\\core\\async_helpers.py\", line 68, in _pseudo_sync_runner\n",
      "    coro.send(None)\n",
      "  File \"C:\\Users\\ersar\\anaconda3\\lib\\site-packages\\IPython\\core\\interactiveshell.py\", line 3071, in run_cell_async\n",
      "    has_raised = await self.run_ast_nodes(code_ast.body, cell_name,\n",
      "  File \"C:\\Users\\ersar\\anaconda3\\lib\\site-packages\\IPython\\core\\interactiveshell.py\", line 3263, in run_ast_nodes\n",
      "    if (await self.run_code(code, result,  async_=asy)):\n",
      "  File \"C:\\Users\\ersar\\anaconda3\\lib\\site-packages\\IPython\\core\\interactiveshell.py\", line 3343, in run_code\n",
      "    exec(code_obj, self.user_global_ns, self.user_ns)\n",
      "  File \"<ipython-input-5-46d52883091b>\", line 5, in <module>\n",
      "    f1()\n",
      "  File \"<ipython-input-5-46d52883091b>\", line 3, in f1\n",
      "    def f1():return abc()\n",
      "  File \"<ipython-input-5-46d52883091b>\", line 4, in abc\n",
      "    def abc():traceback.print_stack()\n"
     ]
    }
   ],
   "source": [
    "import traceback\n",
    "print()\n",
    "def f1():return abc()\n",
    "def abc():traceback.print_stack()\n",
    "f1()\n",
    "print()"
   ]
  },
  {
   "cell_type": "markdown",
   "metadata": {},
   "source": [
    "### Q 97. Write a Python program to list the special variables used within the language. "
   ]
  },
  {
   "cell_type": "code",
   "execution_count": 6,
   "metadata": {},
   "outputs": [
    {
     "name": "stdout",
     "output_type": "stream",
     "text": [
      "\n",
      "ArithmeticError AssertionError AttributeError BaseException BlockingIOError BrokenPipeError BufferError BytesWarning\n",
      "ChildProcessError ConnectionAbortedError ConnectionError ConnectionRefusedError ConnectionResetError DeprecationWarning EOFError Ellipsis\n",
      "EnvironmentError Exception False FileExistsError FileNotFoundError FloatingPointError FutureWarning GeneratorExit\n",
      "IOError ImportError ImportWarning In IndentationError IndexError InterruptedError IsADirectoryError\n",
      "KeyError KeyboardInterrupt LookupError MemoryError ModuleNotFoundError NameError None NotADirectoryError\n",
      "NotImplemented NotImplementedError OSError Out OverflowError PendingDeprecationWarning PermissionError ProcessLookupError\n",
      "RecursionError ReferenceError ResourceWarning RuntimeError RuntimeWarning StopAsyncIteration StopIteration SyntaxError\n",
      "SyntaxWarning SystemError SystemExit TabError TimeoutError True TypeError UnboundLocalError\n",
      "UnicodeDecodeError UnicodeEncodeError UnicodeError UnicodeTranslateError UnicodeWarning UserWarning ValueError Warning\n",
      "WindowsError ZeroDivisionError __ __IPYTHON__ ___ __build_class__ __builtin__ __builtins__\n",
      "__debug__ __doc__ __import__ __loader__ __name__ __package__ __spec__ _dh\n",
      "_i _i1 _i2 _i3 _i4 _i5 _i6 _ih\n",
      "_ii _iii _oh abc abs all any ascii\n",
      "bin bool breakpoint bytearray bytes callable chr classmethod\n",
      "compile complex copyright credits delattr dict dir display\n",
      "divmod enumerate eval exec exit f1 filter float\n",
      "format frozenset get_ipython getattr globals hasattr hash help\n",
      "hex id input int isinstance issubclass iter len\n",
      "license list list1 locals map max memoryview min\n",
      "next object oct open ord pow print property\n",
      "quit range repr reversed round set setattr slice\n",
      "sorted staticmethod str str1 sum super traceback tuple\n",
      "tuple1 type values vars x zip\n",
      "\n"
     ]
    }
   ],
   "source": [
    "s_var_names = sorted((set(globals().keys()) | set(__builtins__.__dict__.keys())) - set('_ names i'.split()))\n",
    "print()\n",
    "print( '\\n'.join(' '.join(s_var_names[i:i+8]) for i in range(0, len(s_var_names), 8)) )\n",
    "print()"
   ]
  },
  {
   "cell_type": "markdown",
   "metadata": {},
   "source": [
    "### Q 98. Write a Python program to get the system time.\n",
    "\n",
    "Note : The system time is important for debugging, network information, random number seeds, or something as simple as program performance."
   ]
  },
  {
   "cell_type": "code",
   "execution_count": 75,
   "metadata": {},
   "outputs": [
    {
     "name": "stdout",
     "output_type": "stream",
     "text": [
      "\n",
      "Mon Dec 28 14:26:34 2020\n",
      "\n"
     ]
    }
   ],
   "source": [
    "import time\n",
    "print()\n",
    "print(time.ctime())\n",
    "print()"
   ]
  },
  {
   "cell_type": "markdown",
   "metadata": {},
   "source": [
    "### Q 99. Write a Python program to clear the screen or terminal."
   ]
  },
  {
   "cell_type": "code",
   "execution_count": 8,
   "metadata": {},
   "outputs": [
    {
     "data": {
      "text/plain": [
       "1"
      ]
     },
     "execution_count": 8,
     "metadata": {},
     "output_type": "execute_result"
    }
   ],
   "source": [
    "import os\n",
    "import time\n",
    "# for windows\n",
    "# os.system('cls')\n",
    "os.system(\"ls\")\n",
    "time.sleep(2)\n",
    "# Ubuntu version 10.10\n",
    "os.system('clear')"
   ]
  },
  {
   "cell_type": "markdown",
   "metadata": {},
   "source": [
    "### Q 100. Write a Python program to get the name of the host on which the routine is running. "
   ]
  },
  {
   "cell_type": "code",
   "execution_count": 9,
   "metadata": {},
   "outputs": [
    {
     "name": "stdout",
     "output_type": "stream",
     "text": [
      "\n",
      "Host name: DESKTOP-RSU4EAO\n",
      "\n"
     ]
    }
   ],
   "source": [
    "import socket\n",
    "host_name = socket.gethostname()\n",
    "print()\n",
    "print(\"Host name:\", host_name)\n",
    "print()"
   ]
  },
  {
   "cell_type": "markdown",
   "metadata": {},
   "source": [
    "### Q 101. Write a Python program to access and print a URL's content to the console."
   ]
  },
  {
   "cell_type": "code",
   "execution_count": 10,
   "metadata": {},
   "outputs": [
    {
     "name": "stdout",
     "output_type": "stream",
     "text": [
      "b'<!doctype html>\\n<html>\\n<head>\\n    <title>Example Domain</title>\\n\\n    <meta charset=\"utf-8\" />\\n    <meta http-equiv=\"Content-type\" content=\"text/html; charset=utf-8\" />\\n    <meta name=\"viewport\" content=\"width=device-width, initial-scale=1\" />\\n    <style type=\"text/css\">\\n    body {\\n        background-color: #f0f0f2;\\n        margin: 0;\\n        padding: 0;\\n        font-family: -apple-system, system-ui, BlinkMacSystemFont, \"Segoe UI\", \"Open Sans\", \"Helvetica Neue\", Helvetica, Arial, sans-serif;\\n        \\n    }\\n    div {\\n        width: 600px;\\n        margin: 5em auto;\\n        padding: 2em;\\n        background-color: #fdfdff;\\n        border-radius: 0.5em;\\n        box-shadow: 2px 3px 7px 2px rgba(0,0,0,0.02);\\n    }\\n    a:link, a:visited {\\n        color: #38488f;\\n        text-decoration: none;\\n    }\\n    @media (max-width: 700px) {\\n        div {\\n            margin: 0 auto;\\n            width: auto;\\n        }\\n    }\\n    </style>    \\n</head>\\n\\n<body>\\n<div>\\n    <h1>Example Domain</h1>\\n    <p>This domain is for use in illustrative examples in documents. You may use this\\n    domain in literature without prior coordination or asking for permission.</p>\\n    <p><a href=\"https://www.iana.org/domains/example\">More information...</a></p>\\n</div>\\n</body>\\n</html>\\n'\n"
     ]
    }
   ],
   "source": [
    "from http.client import HTTPConnection\n",
    "conn = HTTPConnection(\"example.com\")\n",
    "conn.request(\"GET\", \"/\")  \n",
    "result = conn.getresponse()\n",
    "# retrieves the entire contents.  \n",
    "contents = result.read() \n",
    "print(contents)"
   ]
  },
  {
   "cell_type": "markdown",
   "metadata": {},
   "source": [
    "### Q 102. Write a Python program to get system command output."
   ]
  },
  {
   "cell_type": "code",
   "execution_count": 11,
   "metadata": {},
   "outputs": [
    {
     "name": "stdout",
     "output_type": "stream",
     "text": [
      "dir command to list file and directory\n",
      " Volume in drive C has no label.\n",
      " Volume Serial Number is FC3F-85E8\n",
      "\n",
      " Directory of C:\\Users\\ersar\n",
      "\n",
      "12/27/2020  12:23 AM    <DIR>          .\n",
      "12/27/2020  12:23 AM    <DIR>          ..\n",
      "07/30/2019  09:58 PM    <DIR>          .android\n",
      "04/03/2019  05:18 PM    <DIR>          .AndroidStudio3.3\n",
      "07/10/2019  06:16 PM    <DIR>          .AndroidStudio3.4\n",
      "12/05/2019  12:29 PM               113 .angular-config.json\n",
      "04/03/2019  05:28 PM               133 .bashrc\n",
      "11/22/2020  02:53 PM            12,073 .bash_history\n",
      "04/08/2019  11:17 AM                99 .bash_profile\n",
      "12/27/2020  12:25 AM    <DIR>          .conda\n",
      "12/26/2020  09:30 PM                43 .condarc\n",
      "10/27/2018  05:37 PM    <DIR>          .config\n",
      "01/22/2019  06:31 PM             1,038 .csslintrc\n",
      "07/04/2019  04:00 PM                 5 .dbshell\n",
      "09/15/2020  01:14 PM    <DIR>          .docker\n",
      "01/11/2020  02:19 PM    <DIR>          .dotnet\n",
      "04/05/2019  10:54 AM                16 .emulator_console_auth_token\n",
      "10/31/2018  01:51 PM             1,697 .eslintrc\n",
      "07/10/2019  12:26 PM    <DIR>          .expo\n",
      "06/06/2020  05:05 PM               153 .gitconfig\n",
      "07/10/2019  01:04 PM    <DIR>          .gradle\n",
      "10/17/2019  02:47 PM    <DIR>          .idlerc\n",
      "12/26/2020  09:33 PM    <DIR>          .ipynb_checkpoints\n",
      "09/08/2020  02:25 PM    <DIR>          .ipython\n",
      "09/29/2020  09:39 AM    <DIR>          .jupyter\n",
      "01/30/2020  03:54 PM    <DIR>          .librarymanager\n",
      "09/11/2020  02:40 PM    <DIR>          .matplotlib\n",
      "07/04/2019  03:58 PM                 0 .mongorc.js\n",
      "11/11/2018  04:54 PM    <DIR>          .node-gyp\n",
      "11/09/2018  02:34 PM    <DIR>          .nuget\n",
      "07/10/2019  12:49 PM    <DIR>          .react-native-cli\n",
      "07/16/2019  05:12 PM    <DIR>          .ssh\n",
      "12/08/2019  07:22 PM    <DIR>          .templateengine\n",
      "04/03/2019  05:28 PM             2,016 .tnsrc\n",
      "02/21/2020  02:06 PM            15,025 .viminfo\n",
      "11/29/2019  03:43 PM    <DIR>          .vscode\n",
      "06/03/2020  07:47 PM               121 .yarnrc\n",
      "04/03/2019  05:28 PM               133 .zshrc\n",
      "12/14/2020  08:44 AM    <DIR>          3D Objects\n",
      "12/26/2020  10:47 PM                 0 abc.txt\n",
      "09/13/2020  11:03 AM    <DIR>          anaconda3\n",
      "07/10/2019  06:28 PM    <DIR>          AndroidStudioProjects\n",
      "11/04/2020  01:28 PM            34,583 Ass1CheckPoint1.ipynb\n",
      "11/25/2020  02:46 PM         1,409,772 Bike Assignment.ipynb\n",
      "01/22/2019  06:31 PM             2,868 coffeelint.json\n",
      "09/08/2020  02:29 PM             4,923 Comprehensions.ipynb\n",
      "12/14/2020  08:44 AM    <DIR>          Contacts\n",
      "12/16/2020  12:43 PM           308,052 Cross-Validation - Linear Regression.ipynb\n",
      "11/14/2020  05:37 PM    <DIR>          Desktop\n",
      "12/08/2019  05:58 PM    <DIR>          Documents\n",
      "12/24/2020  12:30 PM    <DIR>          Downloads\n",
      "11/23/2019  02:26 PM         8,388,608 EmployeeDB.mdf\n",
      "11/23/2019  02:26 PM         8,388,608 EmployeeDB_log.ldf\n",
      "11/24/2020  11:24 PM            35,529 exercise.ipynb\n",
      "12/14/2020  08:44 AM    <DIR>          Favorites\n",
      "12/11/2020  09:00 PM            61,976 Graded+Classifier+_+Multinomial+Naive+Bayes.ipynb\n",
      "11/23/2020  11:01 PM            85,334 Housing+Case+Study+using+RFE.ipynb\n",
      "11/16/2020  04:58 PM         2,483,901 LendingClub_Saroj_Akshay.ipynb\n",
      "11/22/2020  11:25 PM           214,869 Linear Regression .ipynb\n",
      "12/14/2020  08:44 AM    <DIR>          Links\n",
      "11/16/2020  04:48 PM        13,949,258 loan_cleaned_data.csv\n",
      "11/28/2020  11:41 PM         1,175,697 Logistic+Regression+-+Telecom+Churn+Case+Study.ipynb\n",
      "11/16/2020  04:48 PM         9,931,762 master_loan.csv\n",
      "11/24/2020  12:36 PM           408,530 Media+Company+File.ipynb\n",
      "11/24/2020  02:30 PM           410,603 Media+Company.ipynb\n",
      "11/24/2020  10:06 PM           540,593 Multiple Linear Regression Housing Case Study.ipynb\n",
      "12/14/2020  08:44 AM    <DIR>          Music\n",
      "12/11/2020  02:06 PM         1,681,138 Naive_Bayes_Assignment_Graded.ipynb\n",
      "12/11/2020  10:45 AM            29,230 Naive_Bayes_Multinomial_Bernoulli_+Demo.ipynb\n",
      "01/30/2020  04:10 PM    <DIR>          onecoremsvsmon\n",
      "12/17/2020  08:46 AM    <DIR>          OneDrive\n",
      "12/04/2018  01:34 PM    <DIR>          Pictures\n",
      "11/21/2020  09:33 PM            11,668 Pizza.ipynb\n",
      "11/21/2020  09:37 PM            11,668 pizza1-checkpoint.ipynb\n",
      "11/21/2020  09:37 PM            11,668 pizza1.ipynb\n",
      "07/09/2019  12:09 PM    <DIR>          Postman\n",
      "04/11/2019  02:39 PM               600 PUTTY.RND\n",
      "10/17/2019  02:12 PM    <DIR>          PycharmProjects\n",
      "11/24/2020  02:26 PM            46,394 pyplot_multiple_y-axis.png\n",
      "12/27/2020  12:23 AM            95,549 Python Exercise Basic.ipynb\n",
      "10/17/2019  02:12 PM    <DIR>          real\n",
      "11/16/2020  04:50 PM         2,441,924 Saroj Akshay Case Study.ipynb\n",
      "12/14/2020  08:44 AM    <DIR>          Saved Games\n",
      "12/14/2020  08:44 AM    <DIR>          Searches\n",
      "12/11/2020  11:47 AM            77,825 SMS+Classifier+_+Bernoulli+NB.ipynb\n",
      "12/11/2020  11:44 AM            63,236 SMS+Classifier+_+Multinomial+Naive+Bayes.ipynb\n",
      "10/27/2018  05:54 PM    <DIR>          source\n",
      "04/12/2019  10:18 AM    <DIR>          srojkrjha@gmail.com Creative Cloud Files\n",
      "10/17/2019  12:59 PM    <DIR>          untitled\n",
      "12/20/2020  09:07 PM             2,857 Untitled.ipynb\n",
      "10/17/2019  12:57 PM    <DIR>          venv\n",
      "12/14/2020  08:44 AM    <DIR>          Videos\n",
      "01/30/2020  03:59 PM    <DIR>          vsdbg\n",
      "12/26/2020  11:29 PM                 0 xyz.txt\n",
      "03/18/2020  11:38 AM               204 _netrc\n",
      "              48 File(s)     52,342,092 bytes\n",
      "              47 Dir(s)  25,296,568,320 bytes free\n",
      "\n"
     ]
    }
   ],
   "source": [
    "import subprocess\n",
    "# file and directory listing\n",
    "returned_text = subprocess.check_output(\"dir\", shell=True, universal_newlines=True)\n",
    "print(\"dir command to list file and directory\")\n",
    "print(returned_text)"
   ]
  },
  {
   "cell_type": "markdown",
   "metadata": {},
   "source": [
    "### Q 103. Write a Python program to extract the filename from a given path."
   ]
  },
  {
   "cell_type": "code",
   "execution_count": 12,
   "metadata": {},
   "outputs": [
    {
     "name": "stdout",
     "output_type": "stream",
     "text": [
      "\n",
      "homework-1.py\n",
      "\n"
     ]
    }
   ],
   "source": [
    "import os\n",
    "print()\n",
    "print(os.path.basename('/users/system1/student1/homework-1.py'))\n",
    "print()"
   ]
  },
  {
   "cell_type": "markdown",
   "metadata": {},
   "source": [
    "### Q 104. Write a Python program to get the effective group id, effective user id, real group id, a list of supplemental group ids associated with the current process. "
   ]
  },
  {
   "cell_type": "code",
   "execution_count": 77,
   "metadata": {},
   "outputs": [
    {
     "data": {
      "text/plain": [
       "'ersar'"
      ]
     },
     "execution_count": 77,
     "metadata": {},
     "output_type": "execute_result"
    }
   ],
   "source": [
    "#import os\n",
    "#print(\"\\nEffective group id: \",os.getegid())\n",
    "#print(\"Effective user id: \",os.geteuid())\n",
    "#print(\"Real group id: \",os.getgid())\n",
    "#print(\"List of supplemental group ids: \",os.getgroups())\n",
    "#print()  # works in unix \n",
    "import getpass\n",
    "getpass.getuser()"
   ]
  },
  {
   "cell_type": "markdown",
   "metadata": {},
   "source": [
    "### Q 105. Write a Python program to get the users environment."
   ]
  },
  {
   "cell_type": "code",
   "execution_count": 14,
   "metadata": {},
   "outputs": [
    {
     "name": "stdout",
     "output_type": "stream",
     "text": [
      "\n",
      "environ({'ALLUSERSPROFILE': 'C:\\\\ProgramData', 'ANDROID_HOME': 'C:\\\\Android\\\\android-sdk', 'APPDATA': 'C:\\\\Users\\\\ersar\\\\AppData\\\\Roaming', 'CHOCOLATEYINSTALL': 'C:\\\\ProgramData\\\\chocolatey', 'CHOCOLATEYLASTPATHUPDATE': '132067066100911707', 'CLASSPATH': '.;', 'COMMONPROGRAMFILES': 'C:\\\\Program Files\\\\Common Files', 'COMMONPROGRAMFILES(X86)': 'C:\\\\Program Files (x86)\\\\Common Files', 'COMMONPROGRAMW6432': 'C:\\\\Program Files\\\\Common Files', 'COMPUTERNAME': 'DESKTOP-RSU4EAO', 'COMSPEC': 'C:\\\\WINDOWS\\\\system32\\\\cmd.exe', 'CONDA_DEFAULT_ENV': 'base', 'CONDA_EXE': 'C:\\\\Users\\\\ersar\\\\anaconda3\\\\Scripts\\\\conda.exe', 'CONDA_PROMPT_MODIFIER': '(base) ', 'CONDA_PYTHON_EXE': 'C:\\\\Users\\\\ersar\\\\anaconda3\\\\python.exe', 'CONDA_ROOT': 'C:\\\\Users\\\\ersar\\\\anaconda3', 'CONDA_SHLVL': '1', 'DRIVERDATA': 'C:\\\\Windows\\\\System32\\\\Drivers\\\\DriverData', 'FPS_BROWSER_APP_PROFILE_STRING': 'Internet Explorer', 'FPS_BROWSER_USER_PROFILE_STRING': 'Default', 'HOMEDRIVE': 'C:', 'HOMEPATH': '\\\\Users\\\\ersar', 'JAVA_HOME': 'C:\\\\Program Files\\\\Java\\\\jdk1.8.0_201', 'LOCALAPPDATA': 'C:\\\\Users\\\\ersar\\\\AppData\\\\Local', 'LOGONSERVER': '\\\\\\\\DESKTOP-RSU4EAO', 'NUMBER_OF_PROCESSORS': '4', 'ONEDRIVE': 'C:\\\\Users\\\\ersar\\\\OneDrive', 'ONEDRIVECONSUMER': 'C:\\\\Users\\\\ersar\\\\OneDrive', 'OS': 'Windows_NT', 'PATH': 'C:\\\\Users\\\\ersar\\\\anaconda3;C:\\\\Users\\\\ersar\\\\anaconda3\\\\Library\\\\mingw-w64\\\\bin;C:\\\\Users\\\\ersar\\\\anaconda3\\\\Library\\\\usr\\\\bin;C:\\\\Users\\\\ersar\\\\anaconda3\\\\Library\\\\bin;C:\\\\Users\\\\ersar\\\\anaconda3\\\\Scripts;C:\\\\Users\\\\ersar\\\\anaconda3\\\\bin;C:\\\\Users\\\\ersar\\\\anaconda3\\\\condabin;C:\\\\Users\\\\ersar\\\\anaconda3;C:\\\\Users\\\\ersar\\\\anaconda3\\\\Library\\\\mingw-w64\\\\bin;C:\\\\Users\\\\ersar\\\\anaconda3\\\\Library\\\\usr\\\\bin;C:\\\\Users\\\\ersar\\\\anaconda3\\\\Library\\\\bin;C:\\\\Users\\\\ersar\\\\anaconda3\\\\Scripts;C:\\\\Program Files\\\\Python38\\\\Scripts;C:\\\\Program Files\\\\Python38;C:\\\\WINDOWS\\\\system32;C:\\\\WINDOWS;C:\\\\WINDOWS\\\\System32\\\\Wbem;C:\\\\WINDOWS\\\\System32\\\\WindowsPowerShell\\\\v1.0;C:\\\\Program Files\\\\Git\\\\cmd;C:\\\\Program Files\\\\dotnet;C:\\\\Program Files\\\\Microsoft SQL Server\\\\130\\\\Tools\\\\Binn;C:\\\\Program Files\\\\Microsoft SQL Server\\\\Client SDK\\\\ODBC\\\\130\\\\Tools\\\\Binn;C:\\\\Program Files (x86)\\\\Microsoft SQL Server\\\\140\\\\Tools\\\\Binn;C:\\\\Program Files\\\\Microsoft SQL Server\\\\140\\\\Tools\\\\Binn;C:\\\\Program Files\\\\Microsoft SQL Server\\\\140\\\\DTS\\\\Binn;C:\\\\Program Files (x86)\\\\Microsoft SQL Server\\\\Client SDK\\\\ODBC\\\\130\\\\Tools\\\\Binn;C:\\\\Program Files (x86)\\\\Microsoft SQL Server\\\\140\\\\DTS\\\\Binn;C:\\\\Program Files (x86)\\\\Microsoft SQL Server\\\\140\\\\Tools\\\\Binn\\\\ManagementStudio;C:\\\\WINDOWS\\\\System32\\\\OpenSSH;C:\\\\Program Files (x86)\\\\dotnet;C:\\\\ProgramData\\\\chocolatey\\\\bin;C:\\\\Program Files\\\\AdoptOpenJDK\\\\jdk8u192-b12\\\\bin;C:\\\\Program Files\\\\Java\\\\jdk1.8.0_201\\\\bin;C:\\\\Android\\\\android-sdk\\\\tools;C:\\\\Android\\\\android-sdk\\\\platform-tools;C:\\\\Android\\\\android-sdk\\\\tools\\\\bin;C:\\\\Program Files\\\\nodejs;C:\\\\Users\\\\ersar\\\\AppData\\\\Roaming\\\\npm;C:\\\\Program Files\\\\PuTTY;C:\\\\Program Files\\\\Microsoft SQL Server\\\\Client SDK\\\\ODBC\\\\170\\\\Tools\\\\Binn;C:\\\\Users\\\\ersar\\\\anaconda3;C:\\\\Users\\\\ersar\\\\anaconda3\\\\Library\\\\mingw-w64\\\\bin;C:\\\\Users\\\\ersar\\\\anaconda3\\\\Library\\\\usr\\\\bin;C:\\\\Users\\\\ersar\\\\anaconda3\\\\Library\\\\bin;C:\\\\Users\\\\ersar\\\\anaconda3\\\\Scripts;C:\\\\Program Files\\\\heroku\\\\bin;C:\\\\Program Files\\\\Python38\\\\Scripts;C:\\\\Program Files\\\\Python38;C:\\\\WINDOWS\\\\system32;C:\\\\WINDOWS;C:\\\\WINDOWS\\\\System32\\\\Wbem;C:\\\\WINDOWS\\\\System32\\\\WindowsPowerShell\\\\v1.0;C:\\\\Program Files\\\\Git\\\\cmd;C:\\\\Program Files\\\\dotnet;C:\\\\Program Files\\\\Microsoft SQL Server\\\\130\\\\Tools\\\\Binn;C:\\\\Program Files\\\\Microsoft SQL Server\\\\Client SDK\\\\ODBC\\\\130\\\\Tools\\\\Binn;C:\\\\Program Files (x86)\\\\Microsoft SQL Server\\\\140\\\\Tools\\\\Binn;C:\\\\Program Files\\\\Microsoft SQL Server\\\\140\\\\Tools\\\\Binn;C:\\\\Program Files\\\\Microsoft SQL Server\\\\140\\\\DTS\\\\Binn;C:\\\\Program Files (x86)\\\\Microsoft SQL Server\\\\Client SDK\\\\ODBC\\\\130\\\\Tools\\\\Binn;C:\\\\Program Files (x86)\\\\Microsoft SQL Server\\\\140\\\\DTS\\\\Binn;C:\\\\Program Files (x86)\\\\Microsoft SQL Server\\\\140\\\\Tools\\\\Binn\\\\ManagementStudio;C:\\\\WINDOWS\\\\System32\\\\OpenSSH;C:\\\\Program Files (x86)\\\\dotnet;C:\\\\ProgramData\\\\chocolatey\\\\bin;C:\\\\Program Files\\\\AdoptOpenJDK\\\\jdk8u192-b12\\\\bin;C:\\\\Program Files\\\\Java\\\\jdk1.8.0_201\\\\bin;C:\\\\Android\\\\android-sdk\\\\tools;C:\\\\Android\\\\android-sdk\\\\platform-tools;C:\\\\Android\\\\android-sdk\\\\tools\\\\bin;C:\\\\Users\\\\ersar\\\\.dotnet\\\\tools;C:\\\\Users\\\\ersar\\\\AppData\\\\Local\\\\Programs\\\\Microsoft VS Code\\\\bin', 'PATHEXT': '.COM;.EXE;.BAT;.CMD;.VBS;.VBE;.JS;.JSE;.WSF;.WSH;.MSC;.PY;.PYW', 'PROCESSOR_ARCHITECTURE': 'AMD64', 'PROCESSOR_IDENTIFIER': 'Intel64 Family 6 Model 78 Stepping 3, GenuineIntel', 'PROCESSOR_LEVEL': '6', 'PROCESSOR_REVISION': '4e03', 'PROGRAMDATA': 'C:\\\\ProgramData', 'PROGRAMFILES': 'C:\\\\Program Files', 'PROGRAMFILES(X86)': 'C:\\\\Program Files (x86)', 'PROGRAMW6432': 'C:\\\\Program Files', 'PROMPT': '(base) $P$G', 'PSMODULEPATH': 'C:\\\\WINDOWS\\\\system32\\\\WindowsPowerShell\\\\v1.0\\\\Modules\\\\;C:\\\\Program Files (x86)\\\\Microsoft SQL Server\\\\140\\\\Tools\\\\PowerShell\\\\Modules\\\\', 'PUBLIC': 'C:\\\\Users\\\\Public', 'PYCHARM COMMUNITY EDITION': 'C:\\\\Program Files\\\\JetBrains\\\\PyCharm Community Edition 2019.2.3\\\\bin;', 'SESSIONNAME': 'Console', 'SYNAPROGDIR': 'Synaptics\\\\SynTP', 'SYSTEMDRIVE': 'C:', 'SYSTEMROOT': 'C:\\\\WINDOWS', 'TEMP': 'C:\\\\Users\\\\ersar\\\\AppData\\\\Local\\\\Temp', 'TMP': 'C:\\\\Users\\\\ersar\\\\AppData\\\\Local\\\\Temp', 'USERDOMAIN': 'DESKTOP-RSU4EAO', 'USERDOMAIN_ROAMINGPROFILE': 'DESKTOP-RSU4EAO', 'USERNAME': 'ersar', 'USERPROFILE': 'C:\\\\Users\\\\ersar', 'VS150COMCOMNTOOLS': 'C:\\\\Program Files (x86)\\\\Microsoft Visual Studio\\\\2017\\\\Community\\\\Common7\\\\Tools\\\\', 'WINDIR': 'C:\\\\WINDOWS', 'CONDA_PREFIX': 'C:\\\\Users\\\\ersar\\\\anaconda3', 'KERNEL_LAUNCH_TIMEOUT': '40', 'JPY_INTERRUPT_EVENT': '3428', 'IPY_INTERRUPT_EVENT': '3428', 'JPY_PARENT_PID': '3288', 'TERM': 'xterm-color', 'CLICOLOR': '1', 'PAGER': 'cat', 'GIT_PAGER': 'cat', 'MPLBACKEND': 'module://ipykernel.pylab.backend_inline'})\n",
      "\n"
     ]
    }
   ],
   "source": [
    "import os\n",
    "print()\n",
    "print(os.environ)\n",
    "print()"
   ]
  },
  {
   "cell_type": "markdown",
   "metadata": {},
   "source": [
    "### Q 106. Write a Python program to divide a path on the extension separator."
   ]
  },
  {
   "cell_type": "code",
   "execution_count": 15,
   "metadata": {},
   "outputs": [
    {
     "name": "stdout",
     "output_type": "stream",
     "text": [
      "\"test.txt\" : ('test', '.txt')\n",
      "\"filename\" : ('filename', '')\n",
      "\"/user/system/test.txt\" : ('/user/system/test', '.txt')\n",
      "\"/\" : ('/', '')\n",
      "\"\" : ('', '')\n"
     ]
    }
   ],
   "source": [
    "import os.path\n",
    "for path in [ 'test.txt', 'filename', '/user/system/test.txt', '/', '' ]:\n",
    "    print('\"%s\" :' % path, os.path.splitext(path))"
   ]
  },
  {
   "cell_type": "markdown",
   "metadata": {},
   "source": [
    "### Q 107. Write a Python program to retrieve file properties. "
   ]
  },
  {
   "cell_type": "code",
   "execution_count": 82,
   "metadata": {},
   "outputs": [
    {
     "name": "stdout",
     "output_type": "stream",
     "text": [
      "File         : C:\\Users\\ersar\\xyz.txt\n",
      "Access time  : Mon Dec 28 14:14:04 2020\n",
      "Modified time: Mon Dec 28 14:14:04 2020\n",
      "Change time  : Sat Dec 26 22:48:15 2020\n",
      "Size         : 0\n"
     ]
    }
   ],
   "source": [
    "import os.path\n",
    "import time\n",
    "\n",
    "print('File         :', os.path.abspath('xyz.txt'))\n",
    "print('Access time  :', time.ctime(os.path.getatime(os.path.abspath('xyz.txt'))))\n",
    "print('Modified time:', time.ctime(os.path.getmtime(os.path.abspath('xyz.txt'))))\n",
    "print('Change time  :', time.ctime(os.path.getctime(os.path.abspath('xyz.txt'))))\n",
    "print('Size         :', os.path.getsize(os.path.abspath('xyz.txt')))"
   ]
  },
  {
   "cell_type": "markdown",
   "metadata": {},
   "source": [
    "### Q 108. Write a Python program to find path refers to a file or directory when you encounter a path name."
   ]
  },
  {
   "cell_type": "code",
   "execution_count": 84,
   "metadata": {},
   "outputs": [
    {
     "name": "stdout",
     "output_type": "stream",
     "text": [
      "File        : C:\\Users\\ersar\\xyz.txt\n",
      "Absolute    : True\n",
      "Is File?    : True\n",
      "Is Dir?     : False\n",
      "Is Link?    : False\n",
      "Exists?     : True\n",
      "Link Exists?: True\n",
      "File        : C:\\Users\\ersar\n",
      "Absolute    : True\n",
      "Is File?    : False\n",
      "Is Dir?     : True\n",
      "Is Link?    : False\n",
      "Exists?     : True\n",
      "Link Exists?: True\n",
      "File        : /\n",
      "Absolute    : True\n",
      "Is File?    : False\n",
      "Is Dir?     : True\n",
      "Is Link?    : False\n",
      "Exists?     : True\n",
      "Link Exists?: True\n",
      "File        : ./broken_link\n",
      "Absolute    : False\n",
      "Is File?    : False\n",
      "Is Dir?     : False\n",
      "Is Link?    : False\n",
      "Exists?     : False\n",
      "Link Exists?: False\n"
     ]
    }
   ],
   "source": [
    "import os.path\n",
    "\n",
    "for file in [os.path.abspath('xyz.txt'), os.path.dirname(os.path.abspath('xyz.txt')), '/', './broken_link']:\n",
    "    print('File        :', file)\n",
    "    print('Absolute    :', os.path.isabs(file))\n",
    "    print('Is File?    :', os.path.isfile(file))\n",
    "    print('Is Dir?     :', os.path.isdir(file))\n",
    "    print('Is Link?    :', os.path.islink(file))\n",
    "    print('Exists?     :', os.path.exists(file))\n",
    "    print('Link Exists?:', os.path.lexists(file))"
   ]
  },
  {
   "cell_type": "markdown",
   "metadata": {},
   "source": [
    "### Q 109. Write a Python program to check if a number is positive, negative or zero."
   ]
  },
  {
   "cell_type": "code",
   "execution_count": 18,
   "metadata": {},
   "outputs": [
    {
     "name": "stdout",
     "output_type": "stream",
     "text": [
      "Input a number: -3\n",
      "It is a negative number\n"
     ]
    }
   ],
   "source": [
    "num = float(input(\"Input a number: \"))\n",
    "if num > 0:\n",
    "   print(\"It is positive number\")\n",
    "elif num == 0:\n",
    "   print(\"It is Zero\")\n",
    "else:\n",
    "   print(\"It is a negative number\")\n",
    "   "
   ]
  },
  {
   "cell_type": "markdown",
   "metadata": {},
   "source": [
    "### Q 110. Write a Python program to get numbers divisible by fifteen from a list using an anonymous function."
   ]
  },
  {
   "cell_type": "code",
   "execution_count": 19,
   "metadata": {},
   "outputs": [
    {
     "name": "stdout",
     "output_type": "stream",
     "text": [
      "Numbers divisible by 15 are [45, 60, 105]\n"
     ]
    }
   ],
   "source": [
    "num_list = [45, 55, 60, 37, 100, 105, 220]\n",
    "# use anonymous function to filter\n",
    "result = list(filter(lambda x: (x % 15 == 0), num_list))\n",
    "print(\"Numbers divisible by 15 are\",result)"
   ]
  },
  {
   "cell_type": "markdown",
   "metadata": {},
   "source": [
    "### Q 111. Write a Python program to make file lists from current directory using a wildcard."
   ]
  },
  {
   "cell_type": "code",
   "execution_count": 20,
   "metadata": {},
   "outputs": [
    {
     "name": "stdout",
     "output_type": "stream",
     "text": [
      "['abc.txt', 'Ass1CheckPoint1.ipynb', 'Bike Assignment.ipynb', 'coffeelint.json', 'Comprehensions.ipynb', 'Cross-Validation - Linear Regression.ipynb', 'EmployeeDB.mdf', 'EmployeeDB_log.ldf', 'exercise.ipynb', 'Graded+Classifier+_+Multinomial+Naive+Bayes.ipynb', 'Housing+Case+Study+using+RFE.ipynb', 'LendingClub_Saroj_Akshay.ipynb', 'Linear Regression .ipynb', 'loan_cleaned_data.csv', 'Logistic+Regression+-+Telecom+Churn+Case+Study.ipynb', 'master_loan.csv', 'Media+Company+File.ipynb', 'Media+Company.ipynb', 'Multiple Linear Regression Housing Case Study.ipynb', 'Naive_Bayes_Assignment_Graded.ipynb', 'Naive_Bayes_Multinomial_Bernoulli_+Demo.ipynb', 'NTUSER.DAT', 'ntuser.dat.LOG1', 'ntuser.dat.LOG2', 'NTUSER.DAT{38be98cc-efe6-11e9-9177-107d1a2a1c89}.TM.blf', 'NTUSER.DAT{38be98cc-efe6-11e9-9177-107d1a2a1c89}.TMContainer00000000000000000001.regtrans-ms', 'NTUSER.DAT{38be98cc-efe6-11e9-9177-107d1a2a1c89}.TMContainer00000000000000000002.regtrans-ms', 'ntuser.ini', 'Pizza.ipynb', 'pizza1-checkpoint.ipynb', 'pizza1.ipynb', 'PUTTY.RND', 'pyplot_multiple_y-axis.png', 'Python Exercise Basic.ipynb', 'Saroj Akshay Case Study.ipynb', 'SMS+Classifier+_+Bernoulli+NB.ipynb', 'SMS+Classifier+_+Multinomial+Naive+Bayes.ipynb', 'srojkrjha@gmail.com Creative Cloud Files', 'Untitled.ipynb', 'xyz.txt']\n"
     ]
    }
   ],
   "source": [
    "import glob\n",
    "file_list = glob.glob('*.*')\n",
    "print(file_list)"
   ]
  },
  {
   "cell_type": "markdown",
   "metadata": {},
   "source": [
    "### Q 112. Write a Python program to remove the first item from a specified list. "
   ]
  },
  {
   "cell_type": "code",
   "execution_count": 22,
   "metadata": {},
   "outputs": [
    {
     "name": "stdout",
     "output_type": "stream",
     "text": [
      "\n",
      "Original Color:  ['Red', 'Black', 'Green', 'White', 'Orange']\n",
      "After removing the first color:  ['Black', 'Green', 'White', 'Orange']\n",
      "\n"
     ]
    }
   ],
   "source": [
    "color = [\"Red\", \"Black\", \"Green\", \"White\", \"Orange\"]\n",
    "print(\"\\nOriginal Color: \",color)\n",
    "del color[0]\n",
    "print(\"After removing the first color: \",color)\n",
    "print()"
   ]
  },
  {
   "cell_type": "markdown",
   "metadata": {},
   "source": [
    "### Q 113. Write a Python program to input a number, if it is not a number generate an error message."
   ]
  },
  {
   "cell_type": "code",
   "execution_count": 23,
   "metadata": {},
   "outputs": [
    {
     "name": "stdout",
     "output_type": "stream",
     "text": [
      "Input a number: hf\n",
      "\n",
      "This is not a number. Try again...\n",
      "\n",
      "Input a number: 2\n"
     ]
    }
   ],
   "source": [
    "while True:\n",
    "    try:\n",
    "        a = int(input(\"Input a number: \"))\n",
    "        break\n",
    "    except ValueError:\n",
    "        print(\"\\nThis is not a number. Try again...\")\n",
    "        print()"
   ]
  },
  {
   "cell_type": "markdown",
   "metadata": {},
   "source": [
    "### Q 114. Write a Python program to filter the positive numbers from a list."
   ]
  },
  {
   "cell_type": "code",
   "execution_count": 24,
   "metadata": {},
   "outputs": [
    {
     "name": "stdout",
     "output_type": "stream",
     "text": [
      "Original numbers in the list:  [34, 1, 0, -23]\n",
      "Positive numbers in the list:  [34, 1]\n"
     ]
    }
   ],
   "source": [
    "nums = [34, 1, 0, -23]\n",
    "print(\"Original numbers in the list: \",nums)\n",
    "new_nums = list(filter(lambda x: x >0, nums))\n",
    "print(\"Positive numbers in the list: \",new_nums)"
   ]
  },
  {
   "cell_type": "markdown",
   "metadata": {},
   "source": [
    "### Q 115. Write a Python program to compute the product of a list of integers (without using for loop)."
   ]
  },
  {
   "cell_type": "code",
   "execution_count": 25,
   "metadata": {},
   "outputs": [
    {
     "name": "stdout",
     "output_type": "stream",
     "text": [
      "Product of the numbers :  6000\n"
     ]
    }
   ],
   "source": [
    "from functools import reduce\n",
    "nums = [10, 20, 30,]\n",
    "nums_product = reduce( (lambda x, y: x * y), nums)\n",
    "print(\"Product of the numbers : \",nums_product)"
   ]
  },
  {
   "cell_type": "markdown",
   "metadata": {},
   "source": [
    "### Q 116. Write a Python program to print Unicode characters. "
   ]
  },
  {
   "cell_type": "code",
   "execution_count": 85,
   "metadata": {},
   "outputs": [
    {
     "name": "stdout",
     "output_type": "stream",
     "text": [
      "\n",
      "Python Exercises \n",
      "\n"
     ]
    }
   ],
   "source": [
    "str1 = u'\\u0050\\u0079\\u0074\\u0068\\u006f\\u006e \\u0045\\u0078\\u0065\\u0072\\u0063\\u0069\\u0073\\u0065\\u0073 '\n",
    "print()\n",
    "print(str1)\n",
    "print()"
   ]
  },
  {
   "cell_type": "markdown",
   "metadata": {},
   "source": [
    "### Q 117. Write a Python program to prove that two string variables of same value point same memory location. "
   ]
  },
  {
   "cell_type": "code",
   "execution_count": 28,
   "metadata": {},
   "outputs": [
    {
     "name": "stdout",
     "output_type": "stream",
     "text": [
      "\n",
      "Memory location of str1 = 0x274ca426df0\n",
      "Memory location of str2 = 0x274ca426df0\n",
      "\n"
     ]
    }
   ],
   "source": [
    "str1 = \"Python\"\n",
    "str2 = \"Python\"\n",
    " \n",
    "print(\"\\nMemory location of str1 =\", hex(id(str1)))\n",
    "print(\"Memory location of str2 =\", hex(id(str2)))\n",
    "print()"
   ]
  },
  {
   "cell_type": "markdown",
   "metadata": {},
   "source": [
    "### Q 118. Write a Python program to create a bytearray from a list. "
   ]
  },
  {
   "cell_type": "code",
   "execution_count": 29,
   "metadata": {},
   "outputs": [
    {
     "name": "stdout",
     "output_type": "stream",
     "text": [
      "\n",
      "10\n",
      "20\n",
      "56\n",
      "35\n",
      "17\n",
      "99\n",
      "\n"
     ]
    }
   ],
   "source": [
    "print()\n",
    "nums = [10, 20, 56, 35, 17, 99]\n",
    "# Create bytearray from list of integers.\n",
    "values = bytearray(nums)\n",
    "for x in values: print(x)\n",
    "print()"
   ]
  },
  {
   "cell_type": "markdown",
   "metadata": {},
   "source": [
    "### Q 119. Write a Python program to display a floating number in specified numbers."
   ]
  },
  {
   "cell_type": "code",
   "execution_count": 30,
   "metadata": {},
   "outputs": [
    {
     "name": "stdout",
     "output_type": "stream",
     "text": [
      "\n",
      "The total order amount comes to 212.374000\n",
      "The total order amount comes to 212.37\n",
      "\n"
     ]
    }
   ],
   "source": [
    "order_amt = 212.374\n",
    "print('\\nThe total order amount comes to %f' % order_amt)\n",
    "print('The total order amount comes to %.2f' % order_amt)\n",
    "print()"
   ]
  },
  {
   "cell_type": "markdown",
   "metadata": {},
   "source": [
    "### Q 120. Write a Python program to format a specified string to limit the number of characters to 5."
   ]
  },
  {
   "cell_type": "code",
   "execution_count": 86,
   "metadata": {},
   "outputs": [
    {
     "name": "stdout",
     "output_type": "stream",
     "text": [
      "\n",
      "12345\n",
      "\n"
     ]
    }
   ],
   "source": [
    "str_num = \"1234567890\"\n",
    "print()\n",
    "print('%.5s' % str_num)\n",
    "print()"
   ]
  },
  {
   "cell_type": "markdown",
   "metadata": {},
   "source": [
    "### Q 121. Write a Python program to determine whether variable is defined or not."
   ]
  },
  {
   "cell_type": "code",
   "execution_count": 32,
   "metadata": {},
   "outputs": [
    {
     "name": "stdout",
     "output_type": "stream",
     "text": [
      "Variable is defined.\n",
      "Variable is not defined....!\n"
     ]
    }
   ],
   "source": [
    "try:\n",
    "  x = 1\n",
    "except NameError:\n",
    "  print(\"Variable is not defined....!\")\n",
    "else:\n",
    "  print(\"Variable is defined.\")\n",
    "try:\n",
    "  y\n",
    "except NameError:\n",
    "  print(\"Variable is not defined....!\")\n",
    "else:\n",
    "  print(\"Variable is defined.\")\n",
    "  "
   ]
  },
  {
   "cell_type": "markdown",
   "metadata": {},
   "source": [
    "### Q 122. Write a Python program to empty a variable without destroying it.\n",
    "\n",
    "    Sample data: n=20\n",
    "    d = {\"x\":200}\n",
    "    Expected Output : 0\n",
    "    {}"
   ]
  },
  {
   "cell_type": "code",
   "execution_count": 33,
   "metadata": {},
   "outputs": [
    {
     "name": "stdout",
     "output_type": "stream",
     "text": [
      "0\n",
      "{}\n",
      "[]\n",
      "()\n"
     ]
    }
   ],
   "source": [
    "n = 20\n",
    "d = {\"x\":200}\n",
    "l = [1,3,5]\n",
    "t= (5,7,8)\n",
    "print(type(n)())\n",
    "print(type(d)())\n",
    "print(type(l)())\n",
    "print(type(t)()) "
   ]
  },
  {
   "cell_type": "markdown",
   "metadata": {},
   "source": [
    "### Q 123. Write a Python program to determine the largest and smallest integers, longs, floats."
   ]
  },
  {
   "cell_type": "code",
   "execution_count": 34,
   "metadata": {},
   "outputs": [
    {
     "name": "stdout",
     "output_type": "stream",
     "text": [
      "Float value information:  sys.float_info(max=1.7976931348623157e+308, max_exp=1024, max_10_exp=308, min=2.2250738585072014e-308, min_exp=-1021, min_10_exp=-307, dig=15, mant_dig=53, epsilon=2.220446049250313e-16, radix=2, rounds=1)\n",
      "\n",
      "Integer value information:  sys.int_info(bits_per_digit=30, sizeof_digit=4)\n",
      "\n",
      "Maximum size of an integer:  9223372036854775807\n"
     ]
    }
   ],
   "source": [
    "import sys\n",
    "print(\"Float value information: \",sys.float_info)\n",
    "print(\"\\nInteger value information: \",sys.int_info)\n",
    "print(\"\\nMaximum size of an integer: \",sys.maxsize) "
   ]
  },
  {
   "cell_type": "markdown",
   "metadata": {},
   "source": [
    "### Q 124. Write a Python program to check whether multiple variables have the same value. "
   ]
  },
  {
   "cell_type": "code",
   "execution_count": 35,
   "metadata": {},
   "outputs": [
    {
     "name": "stdout",
     "output_type": "stream",
     "text": [
      "All variables have same value!\n"
     ]
    }
   ],
   "source": [
    "x = 20\n",
    "y = 20\n",
    "z = 20\n",
    "if x == y == z == 20:\n",
    "    print(\"All variables have same value!\")  "
   ]
  },
  {
   "cell_type": "markdown",
   "metadata": {},
   "source": [
    "### Q 125. Write a Python program to sum of all counts in a collections? "
   ]
  },
  {
   "cell_type": "code",
   "execution_count": 36,
   "metadata": {},
   "outputs": [
    {
     "name": "stdout",
     "output_type": "stream",
     "text": [
      "9\n"
     ]
    }
   ],
   "source": [
    "import collections\n",
    "num = [2,2,4,6,6,8,6,10,4]\n",
    "print(sum(collections.Counter(num).values()))"
   ]
  },
  {
   "cell_type": "markdown",
   "metadata": {},
   "source": [
    "### Q 126. Write a Python program to get the actual module object for a given object."
   ]
  },
  {
   "cell_type": "code",
   "execution_count": 37,
   "metadata": {},
   "outputs": [
    {
     "name": "stdout",
     "output_type": "stream",
     "text": [
      "<module 'math' (built-in)>\n"
     ]
    }
   ],
   "source": [
    "from inspect import getmodule\n",
    "from math import sqrt\n",
    "print(getmodule(sqrt))"
   ]
  },
  {
   "cell_type": "markdown",
   "metadata": {},
   "source": [
    "### Q 127. Write a Python program to check whether an integer fits in 64 bits. "
   ]
  },
  {
   "cell_type": "code",
   "execution_count": 38,
   "metadata": {},
   "outputs": [
    {
     "name": "stdout",
     "output_type": "stream",
     "text": [
      "64\n",
      "64\n"
     ]
    }
   ],
   "source": [
    "int_val = 30\n",
    "if int_val.bit_length() <= 63:\n",
    "    print((-2 ** 63).bit_length())\n",
    "    print((2 ** 63).bit_length())\n"
   ]
  },
  {
   "cell_type": "markdown",
   "metadata": {},
   "source": [
    "### Q 128. Write a Python program to check whether lowercase letters exist in a string. "
   ]
  },
  {
   "cell_type": "code",
   "execution_count": 39,
   "metadata": {},
   "outputs": [
    {
     "name": "stdout",
     "output_type": "stream",
     "text": [
      "True\n"
     ]
    }
   ],
   "source": [
    "str1 = 'A8238i823acdeOUEI'\n",
    "print(any(c.islower() for c in str1))"
   ]
  },
  {
   "cell_type": "markdown",
   "metadata": {},
   "source": [
    "### Q 129. Write a Python program to add trailing and leading zeroes to a string."
   ]
  },
  {
   "cell_type": "code",
   "execution_count": 40,
   "metadata": {},
   "outputs": [
    {
     "name": "stdout",
     "output_type": "stream",
     "text": [
      "Original String:  122.22\n",
      "\n",
      "Added trailing zeros:\n",
      "122.2200\n",
      "122.220000\n",
      "\n",
      "Added leading zeros:\n",
      "00122.22\n",
      "0000122.22\n"
     ]
    }
   ],
   "source": [
    "str1='122.22'\n",
    "print(\"Original String: \",str1)\n",
    "print(\"\\nAdded trailing zeros:\")\n",
    "str1 = str1.ljust(8, '0')\n",
    "print(str1)\n",
    "str1 = str1.ljust(10, '0')\n",
    "print(str1)\n",
    "print(\"\\nAdded leading zeros:\")\n",
    "str1='122.22'\n",
    "str1 = str1.rjust(8, '0')\n",
    "print(str1)\n",
    "str1 = str1.rjust(10, '0')\n",
    "print(str1)"
   ]
  },
  {
   "cell_type": "markdown",
   "metadata": {},
   "source": [
    "### Q 130. Write a Python program to use double quotes to display strings. "
   ]
  },
  {
   "cell_type": "code",
   "execution_count": 41,
   "metadata": {},
   "outputs": [
    {
     "name": "stdout",
     "output_type": "stream",
     "text": [
      "{\"Alex\": 1, \"Suresh\": 2, \"Agnessa\": 3}\n"
     ]
    }
   ],
   "source": [
    "import json\n",
    "print(json.dumps({'Alex': 1, 'Suresh': 2, 'Agnessa': 3}))"
   ]
  },
  {
   "cell_type": "markdown",
   "metadata": {},
   "source": [
    "### Q 131. Write a Python program to split a variable length string into variables. "
   ]
  },
  {
   "cell_type": "code",
   "execution_count": 42,
   "metadata": {},
   "outputs": [
    {
     "name": "stdout",
     "output_type": "stream",
     "text": [
      "a b c\n",
      "100 20.25\n"
     ]
    }
   ],
   "source": [
    "var_list = ['a', 'b', 'c']\n",
    "x, y, z = (var_list + [None] * 3)[:3]\n",
    "print(x, y, z)\n",
    "var_list = [100, 20.25]\n",
    "x, y = (var_list + [None] * 2)[:2]\n",
    "print(x, y)"
   ]
  },
  {
   "cell_type": "markdown",
   "metadata": {},
   "source": [
    "### Q 132. Write a Python program to list home directory without absolute path."
   ]
  },
  {
   "cell_type": "code",
   "execution_count": 43,
   "metadata": {},
   "outputs": [
    {
     "name": "stdout",
     "output_type": "stream",
     "text": [
      "C:\\Users\\ersar\n"
     ]
    }
   ],
   "source": [
    "import os.path\n",
    "print(os.path.expanduser('~'))"
   ]
  },
  {
   "cell_type": "markdown",
   "metadata": {},
   "source": [
    "### Q 133. Write a Python program to calculate the time runs (difference between start and current time) of a program. "
   ]
  },
  {
   "cell_type": "code",
   "execution_count": 44,
   "metadata": {},
   "outputs": [
    {
     "name": "stdout",
     "output_type": "stream",
     "text": [
      "0\n",
      "1\n",
      "2\n",
      "3\n",
      "4\n",
      "0.0004641000000447093\n",
      "0\n",
      "1\n",
      "2\n",
      "3\n",
      "4\n",
      "5\n",
      "6\n",
      "7\n",
      "8\n",
      "9\n",
      "10\n",
      "11\n",
      "12\n",
      "13\n",
      "14\n",
      "0.001202400000011039\n"
     ]
    }
   ],
   "source": [
    "from timeit import default_timer\n",
    "def timer(n):\n",
    "    start = default_timer()\n",
    "    # some code here\n",
    "    for row in range(0,n):\n",
    "        print(row)\n",
    "    print(default_timer() - start)\n",
    "\n",
    "timer(5)\n",
    "timer(15)"
   ]
  },
  {
   "cell_type": "markdown",
   "metadata": {},
   "source": [
    "### Q 134. Write a Python program to input two integers in a single line. "
   ]
  },
  {
   "cell_type": "code",
   "execution_count": 45,
   "metadata": {},
   "outputs": [
    {
     "name": "stdout",
     "output_type": "stream",
     "text": [
      "Input the value of x & y\n",
      "2 4\n",
      "The value of x & y are:  2 4\n"
     ]
    }
   ],
   "source": [
    "print(\"Input the value of x & y\")\n",
    "x, y = map(int, input().split())\n",
    "print(\"The value of x & y are: \",x,y)\n"
   ]
  },
  {
   "cell_type": "markdown",
   "metadata": {},
   "source": [
    "### Q 135. Write a Python program to print a variable without spaces between values. \n",
    "    Sample value : x =30\n",
    "    Expected output : Value of x is \"30\""
   ]
  },
  {
   "cell_type": "code",
   "execution_count": 46,
   "metadata": {},
   "outputs": [
    {
     "name": "stdout",
     "output_type": "stream",
     "text": [
      "Value of x is \"30\"\n"
     ]
    }
   ],
   "source": [
    "x = 30\n",
    "print('Value of x is \"{}\"'.format(x))"
   ]
  },
  {
   "cell_type": "markdown",
   "metadata": {},
   "source": [
    "### Q 136. Write a Python program to find files and skip directories of a given directory. "
   ]
  },
  {
   "cell_type": "code",
   "execution_count": 49,
   "metadata": {},
   "outputs": [
    {
     "name": "stdout",
     "output_type": "stream",
     "text": [
      "['Assignment-Investment-Analysis-SAROJ.ipynb', 'clean_loan.csv', 'Data Visualisation -  Graded Questions.ipynb', 'desktop.ini', 'Excersise.ipynb', 'graph-py.pdf', 'IPL+Points+Table+Dataframe.ipynb', 'loan_cleaned_data.csv', 'master_loan.csv', 'practGeneral.ipynb', 'Practice Exercise - Session 1(Solution File).ipynb', 'Practice Exercise - Session 1.ipynb', 'Practice Questions - Session 2 - Student Version.ipynb', 'real.py', 'Saroj Case Study.ipynb', 'Untitled.ipynb', 'Untitled1.ipynb', 'Untitled2.ipynb']\n"
     ]
    }
   ],
   "source": [
    "import os\n",
    "print([f for f in os.listdir('/Users/ersar/Desktop') if os.path.isfile(os.path.join('/Users/ersar/Desktop', f))])"
   ]
  },
  {
   "cell_type": "markdown",
   "metadata": {},
   "source": [
    "### Q 137. Write a Python program to extract single key-value pair of a dictionary in variables."
   ]
  },
  {
   "cell_type": "code",
   "execution_count": 50,
   "metadata": {},
   "outputs": [
    {
     "name": "stdout",
     "output_type": "stream",
     "text": [
      "Red\n",
      "Green\n"
     ]
    }
   ],
   "source": [
    "d = {'Red': 'Green'}\n",
    "(c1, c2), = d.items()\n",
    "print(c1)\n",
    "print(c2)"
   ]
  },
  {
   "cell_type": "markdown",
   "metadata": {},
   "source": [
    "### Q 138. Write a Python program to convert true to 1 and false to 0. "
   ]
  },
  {
   "cell_type": "code",
   "execution_count": 51,
   "metadata": {},
   "outputs": [
    {
     "name": "stdout",
     "output_type": "stream",
     "text": [
      "1\n",
      "0\n"
     ]
    }
   ],
   "source": [
    "x = 'true'\n",
    "x = int(x == 'true')\n",
    "print(x)\n",
    "x = 'abcd'\n",
    "x = int(x == 'true')\n",
    "print(x)"
   ]
  },
  {
   "cell_type": "markdown",
   "metadata": {},
   "source": [
    "### Q 139. Write a Python program to valid a IP address."
   ]
  },
  {
   "cell_type": "code",
   "execution_count": 52,
   "metadata": {},
   "outputs": [
    {
     "name": "stdout",
     "output_type": "stream",
     "text": [
      "Invalid IP\n"
     ]
    }
   ],
   "source": [
    "import socket\n",
    "addr = '127.0.0.2561'\n",
    "try:\n",
    "    socket.inet_aton(addr)\n",
    "    print(\"Valid IP\")\n",
    "except socket.error:\n",
    "    print(\"Invalid IP\")"
   ]
  },
  {
   "cell_type": "markdown",
   "metadata": {},
   "source": [
    "### Q 140. Write a Python program to convert an integer to binary keep leading zeros. \n",
    "    Sample data : x=12\n",
    "    Expected output : 00001100\n",
    "    0000001100"
   ]
  },
  {
   "cell_type": "code",
   "execution_count": 53,
   "metadata": {},
   "outputs": [
    {
     "name": "stdout",
     "output_type": "stream",
     "text": [
      "00001100\n",
      "0000001100\n"
     ]
    }
   ],
   "source": [
    "x = 12\n",
    "print(format(x, '08b'))\n",
    "print(format(x, '010b'))"
   ]
  },
  {
   "cell_type": "markdown",
   "metadata": {},
   "source": [
    "### Q 141. Write a python program to convert decimal to hexadecimal.\n",
    "    Sample decimal number: 30, 4\n",
    "    Expected output: 1e, 04"
   ]
  },
  {
   "cell_type": "code",
   "execution_count": 54,
   "metadata": {},
   "outputs": [
    {
     "name": "stdout",
     "output_type": "stream",
     "text": [
      "1e\n",
      "04\n"
     ]
    }
   ],
   "source": [
    "x = 30\n",
    "print(format(x, '02x'))\n",
    "x = 4\n",
    "print(format(x, '02x'))"
   ]
  },
  {
   "cell_type": "markdown",
   "metadata": {},
   "source": [
    "### Q 142. Write a Python program to find the operating system name, platform and platform release date. \n",
    "    Operating system name:\n",
    "    nt\n",
    "    Platform name:\n",
    "    Windows\n",
    "    Platform release:\n",
    "    10"
   ]
  },
  {
   "cell_type": "code",
   "execution_count": 55,
   "metadata": {},
   "outputs": [
    {
     "name": "stdout",
     "output_type": "stream",
     "text": [
      "Operating system name:\n",
      "nt\n",
      "Platform name:\n",
      "Windows\n",
      "Platform release:\n",
      "10\n"
     ]
    }
   ],
   "source": [
    "import os, platform\n",
    "print(\"Operating system name:\")\n",
    "print(os.name)\n",
    "print(\"Platform name:\")\n",
    "print(platform.system())\n",
    "print(\"Platform release:\")\n",
    "print(platform.release())"
   ]
  },
  {
   "cell_type": "markdown",
   "metadata": {},
   "source": [
    "### Q 143. Write a Python program to determine if the python shell is executing in 32bit or 64bit mode on operating system. "
   ]
  },
  {
   "cell_type": "code",
   "execution_count": 56,
   "metadata": {},
   "outputs": [
    {
     "name": "stdout",
     "output_type": "stream",
     "text": [
      "64\n"
     ]
    }
   ],
   "source": [
    "import struct\n",
    "print(struct.calcsize(\"P\") * 8)"
   ]
  },
  {
   "cell_type": "markdown",
   "metadata": {},
   "source": [
    "### Q 144. Write a Python program to check whether variable is of integer or string."
   ]
  },
  {
   "cell_type": "code",
   "execution_count": 57,
   "metadata": {},
   "outputs": [
    {
     "name": "stdout",
     "output_type": "stream",
     "text": [
      "True\n"
     ]
    },
    {
     "ename": "TypeError",
     "evalue": "isinstance() arg 2 must be a type or tuple of types",
     "output_type": "error",
     "traceback": [
      "\u001b[1;31m---------------------------------------------------------------------------\u001b[0m",
      "\u001b[1;31mTypeError\u001b[0m                                 Traceback (most recent call last)",
      "\u001b[1;32m<ipython-input-57-5c6a7cfb79fe>\u001b[0m in \u001b[0;36m<module>\u001b[1;34m\u001b[0m\n\u001b[0;32m      1\u001b[0m \u001b[0mprint\u001b[0m\u001b[1;33m(\u001b[0m\u001b[0misinstance\u001b[0m\u001b[1;33m(\u001b[0m\u001b[1;36m25\u001b[0m\u001b[1;33m,\u001b[0m\u001b[0mint\u001b[0m\u001b[1;33m)\u001b[0m \u001b[1;32mor\u001b[0m \u001b[0misinstance\u001b[0m\u001b[1;33m(\u001b[0m\u001b[1;36m25\u001b[0m\u001b[1;33m,\u001b[0m\u001b[0mstr\u001b[0m\u001b[1;33m)\u001b[0m\u001b[1;33m)\u001b[0m\u001b[1;33m\u001b[0m\u001b[1;33m\u001b[0m\u001b[0m\n\u001b[1;32m----> 2\u001b[1;33m \u001b[0mprint\u001b[0m\u001b[1;33m(\u001b[0m\u001b[0misinstance\u001b[0m\u001b[1;33m(\u001b[0m\u001b[1;33m[\u001b[0m\u001b[1;36m25\u001b[0m\u001b[1;33m]\u001b[0m\u001b[1;33m,\u001b[0m\u001b[0mint\u001b[0m\u001b[1;33m)\u001b[0m \u001b[1;32mor\u001b[0m \u001b[0misinstance\u001b[0m\u001b[1;33m(\u001b[0m\u001b[1;33m[\u001b[0m\u001b[1;36m25\u001b[0m\u001b[1;33m]\u001b[0m\u001b[1;33m,\u001b[0m\u001b[0mstr\u001b[0m\u001b[1;33m)\u001b[0m\u001b[1;33m)\u001b[0m\u001b[1;33m\u001b[0m\u001b[1;33m\u001b[0m\u001b[0m\n\u001b[0m\u001b[0;32m      3\u001b[0m \u001b[0mprint\u001b[0m\u001b[1;33m(\u001b[0m\u001b[0misinstance\u001b[0m\u001b[1;33m(\u001b[0m\u001b[1;34m\"25\"\u001b[0m\u001b[1;33m,\u001b[0m\u001b[0mint\u001b[0m\u001b[1;33m)\u001b[0m \u001b[1;32mor\u001b[0m \u001b[0misinstance\u001b[0m\u001b[1;33m(\u001b[0m\u001b[1;34m\"25\"\u001b[0m\u001b[1;33m,\u001b[0m\u001b[0mstr\u001b[0m\u001b[1;33m)\u001b[0m\u001b[1;33m)\u001b[0m\u001b[1;33m\u001b[0m\u001b[1;33m\u001b[0m\u001b[0m\n",
      "\u001b[1;31mTypeError\u001b[0m: isinstance() arg 2 must be a type or tuple of types"
     ]
    }
   ],
   "source": [
    "print(isinstance(25,int) or isinstance(25,str))\n",
    "print(isinstance([25],int) or isinstance([25],str))\n",
    "print(isinstance(\"25\",int) or isinstance(\"25\",str))"
   ]
  },
  {
   "cell_type": "markdown",
   "metadata": {},
   "source": [
    "### Q 145. Write a Python program to test if a variable is a list or tuple or a set."
   ]
  },
  {
   "cell_type": "code",
   "execution_count": 58,
   "metadata": {},
   "outputs": [
    {
     "name": "stdout",
     "output_type": "stream",
     "text": [
      "x is a tuple\n"
     ]
    }
   ],
   "source": [
    "#x = ['a', 'b', 'c', 'd']\n",
    "#x = {'a', 'b', 'c', 'd'}\n",
    "x = ('tuple', False, 3.2, 1)\n",
    "if type(x) is list:\n",
    "    print('x is a list')\n",
    "elif type(x) is set:\n",
    "    print('x is a set')\n",
    "elif type(x) is tuple:\n",
    "    print('x is a tuple')    \n",
    "else:\n",
    "    print('Neither a list or a set or a tuple.')"
   ]
  },
  {
   "cell_type": "markdown",
   "metadata": {},
   "source": [
    "### Q 146. Write a Python program to find the location of Python module sources."
   ]
  },
  {
   "cell_type": "code",
   "execution_count": 59,
   "metadata": {},
   "outputs": [
    {
     "name": "stdout",
     "output_type": "stream",
     "text": [
      "\n",
      "List of directories in sys module:\n",
      "['C:\\\\Users\\\\ersar', 'C:\\\\Users\\\\ersar\\\\anaconda3\\\\python38.zip', 'C:\\\\Users\\\\ersar\\\\anaconda3\\\\DLLs', 'C:\\\\Users\\\\ersar\\\\anaconda3\\\\lib', 'C:\\\\Users\\\\ersar\\\\anaconda3', '', 'C:\\\\Users\\\\ersar\\\\anaconda3\\\\lib\\\\site-packages', 'C:\\\\Users\\\\ersar\\\\anaconda3\\\\lib\\\\site-packages\\\\win32', 'C:\\\\Users\\\\ersar\\\\anaconda3\\\\lib\\\\site-packages\\\\win32\\\\lib', 'C:\\\\Users\\\\ersar\\\\anaconda3\\\\lib\\\\site-packages\\\\Pythonwin', 'C:\\\\Users\\\\ersar\\\\anaconda3\\\\lib\\\\site-packages\\\\IPython\\\\extensions', 'C:\\\\Users\\\\ersar\\\\.ipython']\n",
      "\n",
      "List of directories in os module:\n",
      "<module 'ntpath' from 'C:\\\\Users\\\\ersar\\\\anaconda3\\\\lib\\\\ntpath.py'>\n"
     ]
    }
   ],
   "source": [
    "import sys\n",
    "print(\"\\nList of directories in sys module:\")\n",
    "print(sys.path)\n",
    "print(\"\\nList of directories in os module:\")\n",
    "import os\n",
    "print(os.path)"
   ]
  },
  {
   "cell_type": "markdown",
   "metadata": {},
   "source": [
    "### Q 147. Write a Python function to check whether a number is divisible by another number. Accept two integers values form the user. "
   ]
  },
  {
   "cell_type": "code",
   "execution_count": 61,
   "metadata": {},
   "outputs": [
    {
     "name": "stdout",
     "output_type": "stream",
     "text": [
      "True\n",
      "False\n"
     ]
    }
   ],
   "source": [
    "def multiple(m, n):\n",
    "    return True if m % n == 0 else False\n",
    "\n",
    "print(multiple(20, 5))\n",
    "print(multiple(7, 2))"
   ]
  },
  {
   "cell_type": "markdown",
   "metadata": {},
   "source": [
    "### Q 148. Write a Python function to find the maximum and minimum numbers from a sequence of numbers."
   ]
  },
  {
   "cell_type": "code",
   "execution_count": 62,
   "metadata": {},
   "outputs": [
    {
     "name": "stdout",
     "output_type": "stream",
     "text": [
      "(75, -5)\n"
     ]
    }
   ],
   "source": [
    "def max_min(data):\n",
    "  l = data[0]\n",
    "  s = data[0]\n",
    "  for num in data:\n",
    "    if num> l:\n",
    "      l = num\n",
    "    elif num< s:\n",
    "        s = num\n",
    "  return l, s\n",
    "\n",
    "print(max_min([0, 10, 15, 40, -5, 42, 17, 28, 75]))"
   ]
  },
  {
   "cell_type": "markdown",
   "metadata": {},
   "source": [
    "### Q 149. Write a Python function that takes a positive integer and returns the sum of the cube of all the positive integers smaller than the specified number. "
   ]
  },
  {
   "cell_type": "code",
   "execution_count": 63,
   "metadata": {},
   "outputs": [
    {
     "name": "stdout",
     "output_type": "stream",
     "text": [
      "Sum of cubes:  9\n"
     ]
    }
   ],
   "source": [
    "def sum_of_cubes(n):\n",
    "  n -= 1\n",
    "  total = 0\n",
    "  while n > 0:\n",
    "    total += n * n * n\n",
    "    n -= 1\n",
    "  return total\n",
    "print(\"Sum of cubes: \",sum_of_cubes(3))"
   ]
  },
  {
   "cell_type": "markdown",
   "metadata": {},
   "source": [
    "### Q 150. Write a Python function to find a distinct pair of numbers whose product is odd from a sequence of integer values."
   ]
  },
  {
   "cell_type": "code",
   "execution_count": 64,
   "metadata": {},
   "outputs": [
    {
     "name": "stdout",
     "output_type": "stream",
     "text": [
      "[2, 4, 6, 8] None\n",
      "[1, 6, 4, 7, 8] True\n"
     ]
    }
   ],
   "source": [
    "def odd_product(nums):\n",
    "  for i in range(len(nums)):\n",
    "    for j in range(len(nums)):\n",
    "      if  i != j:\n",
    "        product = nums[i] * nums[j]\n",
    "        if product & 1:\n",
    "          return True\n",
    "          return False\n",
    "          \n",
    "dt1 = [2, 4, 6, 8]\n",
    "dt2 = [1, 6, 4, 7, 8]\n",
    "print(dt1, odd_product(dt1));\n",
    "print(dt2, odd_product(dt2));"
   ]
  },
  {
   "cell_type": "markdown",
   "metadata": {},
   "source": [
    "### Q 151. Write a Python function that takes a sequence of numbers and determines whether all the numbers are different from each other."
   ]
  },
  {
   "cell_type": "code",
   "execution_count": 1,
   "metadata": {},
   "outputs": [
    {
     "name": "stdout",
     "output_type": "stream",
     "text": [
      "True\n",
      "False\n"
     ]
    }
   ],
   "source": [
    "def test_distinct(data):\n",
    "  if len(data) == len(set(data)):\n",
    "    return True\n",
    "  else:\n",
    "    return False;\n",
    "print(test_distinct([1,5,7,9]))\n",
    "print(test_distinct([2,4,5,5,7,9]))"
   ]
  },
  {
   "cell_type": "markdown",
   "metadata": {},
   "source": [
    "### Q 152. Write a Python program to create all possible strings by using 'a', 'e', 'i', 'o', 'u'. Use the characters exactly once. "
   ]
  },
  {
   "cell_type": "code",
   "execution_count": 3,
   "metadata": {},
   "outputs": [
    {
     "name": "stdout",
     "output_type": "stream",
     "text": [
      "euaoi\n"
     ]
    }
   ],
   "source": [
    "import random\n",
    "char_list = ['a','e','i','o','u']\n",
    "random.shuffle(char_list)\n",
    "print(''.join(char_list))"
   ]
  },
  {
   "cell_type": "markdown",
   "metadata": {},
   "source": [
    "### Q 153. Write a Python program to remove and print every third number from a list of numbers until the list becomes empty."
   ]
  },
  {
   "cell_type": "code",
   "execution_count": 4,
   "metadata": {},
   "outputs": [
    {
     "name": "stdout",
     "output_type": "stream",
     "text": [
      "30\n",
      "60\n",
      "90\n",
      "40\n",
      "80\n",
      "50\n",
      "20\n",
      "70\n",
      "10\n"
     ]
    }
   ],
   "source": [
    "def remove_nums(int_list):\n",
    "  #list starts with 0 index\n",
    "  position = 3 - 1 \n",
    "  idx = 0\n",
    "  len_list = (len(int_list))\n",
    "  while len_list>0:\n",
    "    idx = (position+idx)%len_list\n",
    "    print(int_list.pop(idx))\n",
    "    len_list -= 1\n",
    "nums = [10,20,30,40,50,60,70,80,90]\n",
    "remove_nums(nums)"
   ]
  },
  {
   "cell_type": "markdown",
   "metadata": {},
   "source": [
    "### Q 154. Write a Python program to find unique triplets whose three elements gives the sum of zero from an array of n integers."
   ]
  },
  {
   "cell_type": "code",
   "execution_count": 5,
   "metadata": {},
   "outputs": [
    {
     "name": "stdout",
     "output_type": "stream",
     "text": [
      "[(-6, 2, 4)]\n"
     ]
    }
   ],
   "source": [
    "def three_sum(nums):\n",
    "  result = []\n",
    "  nums.sort()\n",
    "  for i in range(len(nums)-2):\n",
    "    if i> 0 and nums[i] == nums[i-1]:\n",
    "      continue\n",
    "    l, r = i+1, len(nums)-1\n",
    "    while l < r:\n",
    "      s = nums[i] + nums[l] + nums[r]\n",
    "      if s > 0:\n",
    "        r -= 1\n",
    "      elif s < 0:\n",
    "          l += 1\n",
    "      else:\n",
    "        # found three sum\n",
    "        result.append((nums[i], nums[l], nums[r]))\n",
    "        # remove duplicates\n",
    "        while l < r and nums[l] == nums[l+1]:\n",
    "          l+=1\n",
    "          while l < r and nums[r] == nums[r-1]:\n",
    "            r -= 1\n",
    "            l += 1\n",
    "            r -= 1\n",
    "          return result\n",
    "\n",
    "x = [1, -6, 4, 2, -1, 2, 0, -2, 0 ]\n",
    "print(three_sum(x))"
   ]
  },
  {
   "cell_type": "markdown",
   "metadata": {},
   "source": [
    "### Q 155. Write a Python program to create the combinations of 3 digit combo. "
   ]
  },
  {
   "cell_type": "code",
   "execution_count": 6,
   "metadata": {},
   "outputs": [
    {
     "name": "stdout",
     "output_type": "stream",
     "text": [
      "999\n"
     ]
    }
   ],
   "source": [
    "numbers = []\n",
    "for num in range(1000):\n",
    "  num=str(num).zfill(3)\n",
    "print(num)\n",
    "numbers.append(num)"
   ]
  },
  {
   "cell_type": "markdown",
   "metadata": {},
   "source": [
    "### Q 156. Write a Python program to print a long text, convert the string to a list and print all the words and their frequencies."
   ]
  },
  {
   "cell_type": "code",
   "execution_count": 7,
   "metadata": {},
   "outputs": [
    {
     "name": "stdout",
     "output_type": "stream",
     "text": [
      "String:\n",
      " United States Declaration of Independence\n",
      "From Wikipedia, the free encyclopedia\n",
      "The United States Declaration of Independence is the statement\n",
      "adopted by the Second Continental Congress meeting at the Pennsylvania State\n",
      "House (Independence Hall) in Philadelphia on July 4, 1776, which announced\n",
      "that the thirteen American colonies, then at war with the Kingdom of Great\n",
      "Britain, regarded themselves as thirteen independent sovereign states, no longer\n",
      "under British rule. These states would found a new nation – the United States of\n",
      "America. John Adams was a leader in pushing for independence, which was passed\n",
      "on July 2 with no opposing vote cast. A committee of five had already drafted the\n",
      "formal declaration, to be ready when Congress voted on independence.\n",
      "\n",
      "John Adams persuaded the committee to select Thomas Jefferson to compose the original\n",
      "draft of the document, which Congress would edit to produce the final version.\n",
      "The Declaration was ultimately a formal explanation of why Congress had voted on July\n",
      "2 to declare independence from Great Britain, more than a year after the outbreak of\n",
      "the American Revolutionary War. The next day, Adams wrote to his wife Abigail: \"The\n",
      "Second Day of July 1776, will be the most memorable Epocha, in the History of America.\"\n",
      "But Independence Day is actually celebrated on July 4, the date that the Declaration of\n",
      "Independence was approved.\n",
      "\n",
      "After ratifying the text on July 4, Congress issued the Declaration of Independence in\n",
      "several forms. It was initially published as the printed Dunlap broadside that was widely\n",
      "distributed and read to the public. The source copy used for this printing has been lost,\n",
      "and may have been a copy in Thomas Jefferson's hand.[5] Jefferson's original draft, complete\n",
      "with changes made by John Adams and Benjamin Franklin, and Jefferson's notes of changes made\n",
      "by Congress, are preserved at the Library of Congress. The best-known version of the Declaration\n",
      "is a signed copy that is displayed at the National Archives in Washington, D.C., and which is\n",
      "popularly regarded as the official document. This engrossed copy was ordered by Congress on\n",
      "July 19 and signed primarily on August 2.\n",
      "\n",
      "The sources and interpretation of the Declaration have been the subject of much scholarly inquiry.\n",
      "The Declaration justified the independence of the United States by listing colonial grievances against\n",
      "King George III, and by asserting certain natural and legal rights, including a right of revolution.\n",
      "Having served its original purpose in announcing independence, references to the text of the\n",
      "Declaration were few in the following years. Abraham Lincoln made it the centerpiece of his rhetoric\n",
      "(as in the Gettysburg Address of 1863) and his policies. Since then, it has become a well-known statement\n",
      "on human rights, particularly its second sentence:\n",
      "\n",
      "We hold these truths to be self-evident, that all men are created equal, that they are endowed by their\n",
      "Creator with certain unalienable Rights, that among these are Life, Liberty and the pursuit of Happiness.\n",
      "\n",
      "This has been called \"one of the best-known sentences in the English language\", containing \"the most potent\n",
      "and consequential words in American history\". The passage came to represent a moral standard to which\n",
      "the United States should strive. This view was notably promoted by Abraham Lincoln, who considered the\n",
      "Declaration to be the foundation of his political philosophy and argued that it is a statement of principles\n",
      "through which the United States Constitution should be interpreted.\n",
      "\n",
      "The U.S. Declaration of Independence inspired many other similar documents in other countries, the first\n",
      "being the 1789 Declaration of Flanders issued during the Brabant Revolution in the Austrian Netherlands\n",
      "(modern-day Belgium). It also served as the primary model for numerous declarations of independence across\n",
      "Europe and Latin America, as well as Africa (Liberia) and Oceania (New Zealand) during the first half of the\n",
      "19th century. \n",
      "\n",
      "List:\n",
      " ['United', 'States', 'Declaration', 'of', 'Independence', 'From', 'Wikipedia,', 'the', 'free', 'encyclopedia', 'The', 'United', 'States', 'Declaration', 'of', 'Independence', 'is', 'the', 'statement', 'adopted', 'by', 'the', 'Second', 'Continental', 'Congress', 'meeting', 'at', 'the', 'Pennsylvania', 'State', 'House', '(Independence', 'Hall)', 'in', 'Philadelphia', 'on', 'July', '4,', '1776,', 'which', 'announced', 'that', 'the', 'thirteen', 'American', 'colonies,', 'then', 'at', 'war', 'with', 'the', 'Kingdom', 'of', 'Great', 'Britain,', 'regarded', 'themselves', 'as', 'thirteen', 'independent', 'sovereign', 'states,', 'no', 'longer', 'under', 'British', 'rule.', 'These', 'states', 'would', 'found', 'a', 'new', 'nation', '–', 'the', 'United', 'States', 'of', 'America.', 'John', 'Adams', 'was', 'a', 'leader', 'in', 'pushing', 'for', 'independence,', 'which', 'was', 'passed', 'on', 'July', '2', 'with', 'no', 'opposing', 'vote', 'cast.', 'A', 'committee', 'of', 'five', 'had', 'already', 'drafted', 'the', 'formal', 'declaration,', 'to', 'be', 'ready', 'when', 'Congress', 'voted', 'on', 'independence.', 'John', 'Adams', 'persuaded', 'the', 'committee', 'to', 'select', 'Thomas', 'Jefferson', 'to', 'compose', 'the', 'original', 'draft', 'of', 'the', 'document,', 'which', 'Congress', 'would', 'edit', 'to', 'produce', 'the', 'final', 'version.', 'The', 'Declaration', 'was', 'ultimately', 'a', 'formal', 'explanation', 'of', 'why', 'Congress', 'had', 'voted', 'on', 'July', '2', 'to', 'declare', 'independence', 'from', 'Great', 'Britain,', 'more', 'than', 'a', 'year', 'after', 'the', 'outbreak', 'of', 'the', 'American', 'Revolutionary', 'War.', 'The', 'next', 'day,', 'Adams', 'wrote', 'to', 'his', 'wife', 'Abigail:', '\"The', 'Second', 'Day', 'of', 'July', '1776,', 'will', 'be', 'the', 'most', 'memorable', 'Epocha,', 'in', 'the', 'History', 'of', 'America.\"', 'But', 'Independence', 'Day', 'is', 'actually', 'celebrated', 'on', 'July', '4,', 'the', 'date', 'that', 'the', 'Declaration', 'of', 'Independence', 'was', 'approved.', 'After', 'ratifying', 'the', 'text', 'on', 'July', '4,', 'Congress', 'issued', 'the', 'Declaration', 'of', 'Independence', 'in', 'several', 'forms.', 'It', 'was', 'initially', 'published', 'as', 'the', 'printed', 'Dunlap', 'broadside', 'that', 'was', 'widely', 'distributed', 'and', 'read', 'to', 'the', 'public.', 'The', 'source', 'copy', 'used', 'for', 'this', 'printing', 'has', 'been', 'lost,', 'and', 'may', 'have', 'been', 'a', 'copy', 'in', 'Thomas', \"Jefferson's\", 'hand.[5]', \"Jefferson's\", 'original', 'draft,', 'complete', 'with', 'changes', 'made', 'by', 'John', 'Adams', 'and', 'Benjamin', 'Franklin,', 'and', \"Jefferson's\", 'notes', 'of', 'changes', 'made', 'by', 'Congress,', 'are', 'preserved', 'at', 'the', 'Library', 'of', 'Congress.', 'The', 'best-known', 'version', 'of', 'the', 'Declaration', 'is', 'a', 'signed', 'copy', 'that', 'is', 'displayed', 'at', 'the', 'National', 'Archives', 'in', 'Washington,', 'D.C.,', 'and', 'which', 'is', 'popularly', 'regarded', 'as', 'the', 'official', 'document.', 'This', 'engrossed', 'copy', 'was', 'ordered', 'by', 'Congress', 'on', 'July', '19', 'and', 'signed', 'primarily', 'on', 'August', '2.', 'The', 'sources', 'and', 'interpretation', 'of', 'the', 'Declaration', 'have', 'been', 'the', 'subject', 'of', 'much', 'scholarly', 'inquiry.', 'The', 'Declaration', 'justified', 'the', 'independence', 'of', 'the', 'United', 'States', 'by', 'listing', 'colonial', 'grievances', 'against', 'King', 'George', 'III,', 'and', 'by', 'asserting', 'certain', 'natural', 'and', 'legal', 'rights,', 'including', 'a', 'right', 'of', 'revolution.', 'Having', 'served', 'its', 'original', 'purpose', 'in', 'announcing', 'independence,', 'references', 'to', 'the', 'text', 'of', 'the', 'Declaration', 'were', 'few', 'in', 'the', 'following', 'years.', 'Abraham', 'Lincoln', 'made', 'it', 'the', 'centerpiece', 'of', 'his', 'rhetoric', '(as', 'in', 'the', 'Gettysburg', 'Address', 'of', '1863)', 'and', 'his', 'policies.', 'Since', 'then,', 'it', 'has', 'become', 'a', 'well-known', 'statement', 'on', 'human', 'rights,', 'particularly', 'its', 'second', 'sentence:', 'We', 'hold', 'these', 'truths', 'to', 'be', 'self-evident,', 'that', 'all', 'men', 'are', 'created', 'equal,', 'that', 'they', 'are', 'endowed', 'by', 'their', 'Creator', 'with', 'certain', 'unalienable', 'Rights,', 'that', 'among', 'these', 'are', 'Life,', 'Liberty', 'and', 'the', 'pursuit', 'of', 'Happiness.', 'This', 'has', 'been', 'called', '\"one', 'of', 'the', 'best-known', 'sentences', 'in', 'the', 'English', 'language\",', 'containing', '\"the', 'most', 'potent', 'and', 'consequential', 'words', 'in', 'American', 'history\".', 'The', 'passage', 'came', 'to', 'represent', 'a', 'moral', 'standard', 'to', 'which', 'the', 'United', 'States', 'should', 'strive.', 'This', 'view', 'was', 'notably', 'promoted', 'by', 'Abraham', 'Lincoln,', 'who', 'considered', 'the', 'Declaration', 'to', 'be', 'the', 'foundation', 'of', 'his', 'political', 'philosophy', 'and', 'argued', 'that', 'it', 'is', 'a', 'statement', 'of', 'principles', 'through', 'which', 'the', 'United', 'States', 'Constitution', 'should', 'be', 'interpreted.', 'The', 'U.S.', 'Declaration', 'of', 'Independence', 'inspired', 'many', 'other', 'similar', 'documents', 'in', 'other', 'countries,', 'the', 'first', 'being', 'the', '1789', 'Declaration', 'of', 'Flanders', 'issued', 'during', 'the', 'Brabant', 'Revolution', 'in', 'the', 'Austrian', 'Netherlands', '(modern-day', 'Belgium).', 'It', 'also', 'served', 'as', 'the', 'primary', 'model', 'for', 'numerous', 'declarations', 'of', 'independence', 'across', 'Europe', 'and', 'Latin', 'America,', 'as', 'well', 'as', 'Africa', '(Liberia)', 'and', 'Oceania', '(New', 'Zealand)', 'during', 'the', 'first', 'half', 'of', 'the', '19th', 'century.'] \n",
      "\n",
      "Pairs (Words and Frequencies:\n",
      " [('United', 6), ('States', 6), ('Declaration', 12), ('of', 30), ('Independence', 6), ('From', 1), ('Wikipedia,', 1), ('the', 49), ('free', 1), ('encyclopedia', 1), ('The', 9), ('United', 6), ('States', 6), ('Declaration', 12), ('of', 30), ('Independence', 6), ('is', 6), ('the', 49), ('statement', 3), ('adopted', 1), ('by', 8), ('the', 49), ('Second', 2), ('Continental', 1), ('Congress', 6), ('meeting', 1), ('at', 4), ('the', 49), ('Pennsylvania', 1), ('State', 1), ('House', 1), ('(Independence', 1), ('Hall)', 1), ('in', 13), ('Philadelphia', 1), ('on', 9), ('July', 7), ('4,', 3), ('1776,', 2), ('which', 6), ('announced', 1), ('that', 8), ('the', 49), ('thirteen', 2), ('American', 3), ('colonies,', 1), ('then', 1), ('at', 4), ('war', 1), ('with', 4), ('the', 49), ('Kingdom', 1), ('of', 30), ('Great', 2), ('Britain,', 2), ('regarded', 2), ('themselves', 1), ('as', 6), ('thirteen', 2), ('independent', 1), ('sovereign', 1), ('states,', 1), ('no', 2), ('longer', 1), ('under', 1), ('British', 1), ('rule.', 1), ('These', 1), ('states', 1), ('would', 2), ('found', 1), ('a', 10), ('new', 1), ('nation', 1), ('–', 1), ('the', 49), ('United', 6), ('States', 6), ('of', 30), ('America.', 1), ('John', 3), ('Adams', 4), ('was', 8), ('a', 10), ('leader', 1), ('in', 13), ('pushing', 1), ('for', 3), ('independence,', 2), ('which', 6), ('was', 8), ('passed', 1), ('on', 9), ('July', 7), ('2', 2), ('with', 4), ('no', 2), ('opposing', 1), ('vote', 1), ('cast.', 1), ('A', 1), ('committee', 2), ('of', 30), ('five', 1), ('had', 2), ('already', 1), ('drafted', 1), ('the', 49), ('formal', 2), ('declaration,', 1), ('to', 12), ('be', 5), ('ready', 1), ('when', 1), ('Congress', 6), ('voted', 2), ('on', 9), ('independence.', 1), ('John', 3), ('Adams', 4), ('persuaded', 1), ('the', 49), ('committee', 2), ('to', 12), ('select', 1), ('Thomas', 2), ('Jefferson', 1), ('to', 12), ('compose', 1), ('the', 49), ('original', 3), ('draft', 1), ('of', 30), ('the', 49), ('document,', 1), ('which', 6), ('Congress', 6), ('would', 2), ('edit', 1), ('to', 12), ('produce', 1), ('the', 49), ('final', 1), ('version.', 1), ('The', 9), ('Declaration', 12), ('was', 8), ('ultimately', 1), ('a', 10), ('formal', 2), ('explanation', 1), ('of', 30), ('why', 1), ('Congress', 6), ('had', 2), ('voted', 2), ('on', 9), ('July', 7), ('2', 2), ('to', 12), ('declare', 1), ('independence', 3), ('from', 1), ('Great', 2), ('Britain,', 2), ('more', 1), ('than', 1), ('a', 10), ('year', 1), ('after', 1), ('the', 49), ('outbreak', 1), ('of', 30), ('the', 49), ('American', 3), ('Revolutionary', 1), ('War.', 1), ('The', 9), ('next', 1), ('day,', 1), ('Adams', 4), ('wrote', 1), ('to', 12), ('his', 4), ('wife', 1), ('Abigail:', 1), ('\"The', 1), ('Second', 2), ('Day', 2), ('of', 30), ('July', 7), ('1776,', 2), ('will', 1), ('be', 5), ('the', 49), ('most', 2), ('memorable', 1), ('Epocha,', 1), ('in', 13), ('the', 49), ('History', 1), ('of', 30), ('America.\"', 1), ('But', 1), ('Independence', 6), ('Day', 2), ('is', 6), ('actually', 1), ('celebrated', 1), ('on', 9), ('July', 7), ('4,', 3), ('the', 49), ('date', 1), ('that', 8), ('the', 49), ('Declaration', 12), ('of', 30), ('Independence', 6), ('was', 8), ('approved.', 1), ('After', 1), ('ratifying', 1), ('the', 49), ('text', 2), ('on', 9), ('July', 7), ('4,', 3), ('Congress', 6), ('issued', 2), ('the', 49), ('Declaration', 12), ('of', 30), ('Independence', 6), ('in', 13), ('several', 1), ('forms.', 1), ('It', 2), ('was', 8), ('initially', 1), ('published', 1), ('as', 6), ('the', 49), ('printed', 1), ('Dunlap', 1), ('broadside', 1), ('that', 8), ('was', 8), ('widely', 1), ('distributed', 1), ('and', 15), ('read', 1), ('to', 12), ('the', 49), ('public.', 1), ('The', 9), ('source', 1), ('copy', 4), ('used', 1), ('for', 3), ('this', 1), ('printing', 1), ('has', 3), ('been', 4), ('lost,', 1), ('and', 15), ('may', 1), ('have', 2), ('been', 4), ('a', 10), ('copy', 4), ('in', 13), ('Thomas', 2), (\"Jefferson's\", 3), ('hand.[5]', 1), (\"Jefferson's\", 3), ('original', 3), ('draft,', 1), ('complete', 1), ('with', 4), ('changes', 2), ('made', 3), ('by', 8), ('John', 3), ('Adams', 4), ('and', 15), ('Benjamin', 1), ('Franklin,', 1), ('and', 15), (\"Jefferson's\", 3), ('notes', 1), ('of', 30), ('changes', 2), ('made', 3), ('by', 8), ('Congress,', 1), ('are', 4), ('preserved', 1), ('at', 4), ('the', 49), ('Library', 1), ('of', 30), ('Congress.', 1), ('The', 9), ('best-known', 2), ('version', 1), ('of', 30), ('the', 49), ('Declaration', 12), ('is', 6), ('a', 10), ('signed', 2), ('copy', 4), ('that', 8), ('is', 6), ('displayed', 1), ('at', 4), ('the', 49), ('National', 1), ('Archives', 1), ('in', 13), ('Washington,', 1), ('D.C.,', 1), ('and', 15), ('which', 6), ('is', 6), ('popularly', 1), ('regarded', 2), ('as', 6), ('the', 49), ('official', 1), ('document.', 1), ('This', 3), ('engrossed', 1), ('copy', 4), ('was', 8), ('ordered', 1), ('by', 8), ('Congress', 6), ('on', 9), ('July', 7), ('19', 1), ('and', 15), ('signed', 2), ('primarily', 1), ('on', 9), ('August', 1), ('2.', 1), ('The', 9), ('sources', 1), ('and', 15), ('interpretation', 1), ('of', 30), ('the', 49), ('Declaration', 12), ('have', 2), ('been', 4), ('the', 49), ('subject', 1), ('of', 30), ('much', 1), ('scholarly', 1), ('inquiry.', 1), ('The', 9), ('Declaration', 12), ('justified', 1), ('the', 49), ('independence', 3), ('of', 30), ('the', 49), ('United', 6), ('States', 6), ('by', 8), ('listing', 1), ('colonial', 1), ('grievances', 1), ('against', 1), ('King', 1), ('George', 1), ('III,', 1), ('and', 15), ('by', 8), ('asserting', 1), ('certain', 2), ('natural', 1), ('and', 15), ('legal', 1), ('rights,', 2), ('including', 1), ('a', 10), ('right', 1), ('of', 30), ('revolution.', 1), ('Having', 1), ('served', 2), ('its', 2), ('original', 3), ('purpose', 1), ('in', 13), ('announcing', 1), ('independence,', 2), ('references', 1), ('to', 12), ('the', 49), ('text', 2), ('of', 30), ('the', 49), ('Declaration', 12), ('were', 1), ('few', 1), ('in', 13), ('the', 49), ('following', 1), ('years.', 1), ('Abraham', 2), ('Lincoln', 1), ('made', 3), ('it', 3), ('the', 49), ('centerpiece', 1), ('of', 30), ('his', 4), ('rhetoric', 1), ('(as', 1), ('in', 13), ('the', 49), ('Gettysburg', 1), ('Address', 1), ('of', 30), ('1863)', 1), ('and', 15), ('his', 4), ('policies.', 1), ('Since', 1), ('then,', 1), ('it', 3), ('has', 3), ('become', 1), ('a', 10), ('well-known', 1), ('statement', 3), ('on', 9), ('human', 1), ('rights,', 2), ('particularly', 1), ('its', 2), ('second', 1), ('sentence:', 1), ('We', 1), ('hold', 1), ('these', 2), ('truths', 1), ('to', 12), ('be', 5), ('self-evident,', 1), ('that', 8), ('all', 1), ('men', 1), ('are', 4), ('created', 1), ('equal,', 1), ('that', 8), ('they', 1), ('are', 4), ('endowed', 1), ('by', 8), ('their', 1), ('Creator', 1), ('with', 4), ('certain', 2), ('unalienable', 1), ('Rights,', 1), ('that', 8), ('among', 1), ('these', 2), ('are', 4), ('Life,', 1), ('Liberty', 1), ('and', 15), ('the', 49), ('pursuit', 1), ('of', 30), ('Happiness.', 1), ('This', 3), ('has', 3), ('been', 4), ('called', 1), ('\"one', 1), ('of', 30), ('the', 49), ('best-known', 2), ('sentences', 1), ('in', 13), ('the', 49), ('English', 1), ('language\",', 1), ('containing', 1), ('\"the', 1), ('most', 2), ('potent', 1), ('and', 15), ('consequential', 1), ('words', 1), ('in', 13), ('American', 3), ('history\".', 1), ('The', 9), ('passage', 1), ('came', 1), ('to', 12), ('represent', 1), ('a', 10), ('moral', 1), ('standard', 1), ('to', 12), ('which', 6), ('the', 49), ('United', 6), ('States', 6), ('should', 2), ('strive.', 1), ('This', 3), ('view', 1), ('was', 8), ('notably', 1), ('promoted', 1), ('by', 8), ('Abraham', 2), ('Lincoln,', 1), ('who', 1), ('considered', 1), ('the', 49), ('Declaration', 12), ('to', 12), ('be', 5), ('the', 49), ('foundation', 1), ('of', 30), ('his', 4), ('political', 1), ('philosophy', 1), ('and', 15), ('argued', 1), ('that', 8), ('it', 3), ('is', 6), ('a', 10), ('statement', 3), ('of', 30), ('principles', 1), ('through', 1), ('which', 6), ('the', 49), ('United', 6), ('States', 6), ('Constitution', 1), ('should', 2), ('be', 5), ('interpreted.', 1), ('The', 9), ('U.S.', 1), ('Declaration', 12), ('of', 30), ('Independence', 6), ('inspired', 1), ('many', 1), ('other', 2), ('similar', 1), ('documents', 1), ('in', 13), ('other', 2), ('countries,', 1), ('the', 49), ('first', 2), ('being', 1), ('the', 49), ('1789', 1), ('Declaration', 12), ('of', 30), ('Flanders', 1), ('issued', 2), ('during', 2), ('the', 49), ('Brabant', 1), ('Revolution', 1), ('in', 13), ('the', 49), ('Austrian', 1), ('Netherlands', 1), ('(modern-day', 1), ('Belgium).', 1), ('It', 2), ('also', 1), ('served', 2), ('as', 6), ('the', 49), ('primary', 1), ('model', 1), ('for', 3), ('numerous', 1), ('declarations', 1), ('of', 30), ('independence', 3), ('across', 1), ('Europe', 1), ('and', 15), ('Latin', 1), ('America,', 1), ('as', 6), ('well', 1), ('as', 6), ('Africa', 1), ('(Liberia)', 1), ('and', 15), ('Oceania', 1), ('(New', 1), ('Zealand)', 1), ('during', 2), ('the', 49), ('first', 2), ('half', 1), ('of', 30), ('the', 49), ('19th', 1), ('century.', 1)]\n"
     ]
    }
   ],
   "source": [
    "string_words = '''United States Declaration of Independence\n",
    "From Wikipedia, the free encyclopedia\n",
    "The United States Declaration of Independence is the statement\n",
    "adopted by the Second Continental Congress meeting at the Pennsylvania State\n",
    "House (Independence Hall) in Philadelphia on July 4, 1776, which announced\n",
    "that the thirteen American colonies, then at war with the Kingdom of Great\n",
    "Britain, regarded themselves as thirteen independent sovereign states, no longer\n",
    "under British rule. These states would found a new nation – the United States of\n",
    "America. John Adams was a leader in pushing for independence, which was passed\n",
    "on July 2 with no opposing vote cast. A committee of five had already drafted the\n",
    "formal declaration, to be ready when Congress voted on independence.\n",
    "\n",
    "John Adams persuaded the committee to select Thomas Jefferson to compose the original\n",
    "draft of the document, which Congress would edit to produce the final version.\n",
    "The Declaration was ultimately a formal explanation of why Congress had voted on July\n",
    "2 to declare independence from Great Britain, more than a year after the outbreak of\n",
    "the American Revolutionary War. The next day, Adams wrote to his wife Abigail: \"The\n",
    "Second Day of July 1776, will be the most memorable Epocha, in the History of America.\"\n",
    "But Independence Day is actually celebrated on July 4, the date that the Declaration of\n",
    "Independence was approved.\n",
    "\n",
    "After ratifying the text on July 4, Congress issued the Declaration of Independence in\n",
    "several forms. It was initially published as the printed Dunlap broadside that was widely\n",
    "distributed and read to the public. The source copy used for this printing has been lost,\n",
    "and may have been a copy in Thomas Jefferson's hand.[5] Jefferson's original draft, complete\n",
    "with changes made by John Adams and Benjamin Franklin, and Jefferson's notes of changes made\n",
    "by Congress, are preserved at the Library of Congress. The best-known version of the Declaration\n",
    "is a signed copy that is displayed at the National Archives in Washington, D.C., and which is\n",
    "popularly regarded as the official document. This engrossed copy was ordered by Congress on\n",
    "July 19 and signed primarily on August 2.\n",
    "\n",
    "The sources and interpretation of the Declaration have been the subject of much scholarly inquiry.\n",
    "The Declaration justified the independence of the United States by listing colonial grievances against\n",
    "King George III, and by asserting certain natural and legal rights, including a right of revolution.\n",
    "Having served its original purpose in announcing independence, references to the text of the\n",
    "Declaration were few in the following years. Abraham Lincoln made it the centerpiece of his rhetoric\n",
    "(as in the Gettysburg Address of 1863) and his policies. Since then, it has become a well-known statement\n",
    "on human rights, particularly its second sentence:\n",
    "\n",
    "We hold these truths to be self-evident, that all men are created equal, that they are endowed by their\n",
    "Creator with certain unalienable Rights, that among these are Life, Liberty and the pursuit of Happiness.\n",
    "\n",
    "This has been called \"one of the best-known sentences in the English language\", containing \"the most potent\n",
    "and consequential words in American history\". The passage came to represent a moral standard to which\n",
    "the United States should strive. This view was notably promoted by Abraham Lincoln, who considered the\n",
    "Declaration to be the foundation of his political philosophy and argued that it is a statement of principles\n",
    "through which the United States Constitution should be interpreted.\n",
    "\n",
    "The U.S. Declaration of Independence inspired many other similar documents in other countries, the first\n",
    "being the 1789 Declaration of Flanders issued during the Brabant Revolution in the Austrian Netherlands\n",
    "(modern-day Belgium). It also served as the primary model for numerous declarations of independence across\n",
    "Europe and Latin America, as well as Africa (Liberia) and Oceania (New Zealand) during the first half of the\n",
    "19th century.'''\n",
    "\n",
    "word_list = string_words.split()\n",
    "\n",
    "word_freq = [word_list.count(n) for n in word_list]\n",
    "\n",
    "print(\"String:\\n {} \\n\".format(string_words))\n",
    "print(\"List:\\n {} \\n\".format(str(word_list)))\n",
    "print(\"Pairs (Words and Frequencies:\\n {}\".format(str(list(zip(word_list, word_freq)))))"
   ]
  },
  {
   "cell_type": "markdown",
   "metadata": {},
   "source": [
    "### Q 157. Write a Python program to count the number of each character of a given text of a text file."
   ]
  },
  {
   "cell_type": "code",
   "execution_count": 8,
   "metadata": {},
   "outputs": [
    {
     "name": "stdout",
     "output_type": "stream",
     "text": [
      "File Name: xyz.txt\n",
      "Counter({' ': 93,\n",
      "         'E': 64,\n",
      "         'N': 45,\n",
      "         'A': 42,\n",
      "         'T': 40,\n",
      "         'I': 36,\n",
      "         'O': 31,\n",
      "         'R': 29,\n",
      "         'H': 25,\n",
      "         'D': 19,\n",
      "         'M': 17,\n",
      "         'Y': 17,\n",
      "         'F': 15,\n",
      "         'L': 15,\n",
      "         'U': 14,\n",
      "         'G': 13,\n",
      "         'C': 13,\n",
      "         'S': 12,\n",
      "         ',': 7,\n",
      "         'B': 6,\n",
      "         'W': 5,\n",
      "         '9': 5,\n",
      "         'P': 4,\n",
      "         '.': 4,\n",
      "         '1': 3,\n",
      "         '\\n': 2,\n",
      "         '3': 2,\n",
      "         '0': 2,\n",
      "         'K': 1,\n",
      "         '(': 1,\n",
      "         ':': 1,\n",
      "         ')': 1,\n",
      "         'V': 1,\n",
      "         '-': 1})\n"
     ]
    }
   ],
   "source": [
    "import collections\n",
    "import pprint\n",
    "file_input = input('File Name: ')\n",
    "with open(file_input, 'r') as info:\n",
    "  count = collections.Counter(info.read().upper())\n",
    "  value = pprint.pformat(count)\n",
    "print(value)"
   ]
  },
  {
   "cell_type": "markdown",
   "metadata": {},
   "source": [
    "### Q 158. Write a Python program to get the top stories from Google news."
   ]
  },
  {
   "cell_type": "code",
   "execution_count": 9,
   "metadata": {},
   "outputs": [
    {
     "name": "stdout",
     "output_type": "stream",
     "text": [
      "PM Modi to share his 'Mann Ki Baat' with nation - Times of India\n",
      "https://news.google.com/__i/rss/rd/articles/CBMicGh0dHBzOi8vdGltZXNvZmluZGlhLmluZGlhdGltZXMuY29tL2luZGlhL3BtLW1vZGktdG8tc2hhcmUtaGlzLW1hbm4ta2ktYmFhdC13aXRoLW5hdGlvbi9hcnRpY2xlc2hvdy83OTk3MzY0OC5jbXPSAWtodHRwczovL20udGltZXNvZmluZGlhLmNvbS9pbmRpYS9wbS1tb2RpLXRvLXNoYXJlLWhpcy1tYW5uLWtpLWJhYXQtd2l0aC1uYXRpb24vYW1wX2FydGljbGVzaG93Lzc5OTczNjQ4LmNtcw?oc=5\n",
      "Sun, 27 Dec 2020 02:43:00 GMT\n",
      "------------------------------------------------------------\n",
      "Farmer unions agree to return to table: Next round of talks Tuesday - The Indian Express\n",
      "https://news.google.com/__i/rss/rd/articles/CBMic2h0dHBzOi8vaW5kaWFuZXhwcmVzcy5jb20vYXJ0aWNsZS9pbmRpYS9mYXJtZXItdW5pb25zLWFncmVlLXRvLXJldHVybi10by10YWJsZS1uZXh0LXJvdW5kLW9mLXRhbGtzLXR1ZXNkYXktNzEyMTQ5OS_SAXhodHRwczovL2luZGlhbmV4cHJlc3MuY29tL2FydGljbGUvaW5kaWEvZmFybWVyLXVuaW9ucy1hZ3JlZS10by1yZXR1cm4tdG8tdGFibGUtbmV4dC1yb3VuZC1vZi10YWxrcy10dWVzZGF5LTcxMjE0OTkvbGl0ZS8?oc=5\n",
      "Sun, 27 Dec 2020 02:15:07 GMT\n",
      "------------------------------------------------------------\n",
      "‘Don’t drink alcohol, get indoors’, says IMD as North India braces for severe cold wave - Hindustan Times\n",
      "https://news.google.com/__i/rss/rd/articles/CBMinwFodHRwczovL3d3dy5oaW5kdXN0YW50aW1lcy5jb20vaW5kaWEtbmV3cy9kb24tdC1kcmluay1hbGNvaG9sLWdldC1pbmRvb3JzLXNheXMtaW1kLWFzLW5vcnRoLWluZGlhLWJyYWNlcy1mb3Itc2V2ZXJlLWNvbGQtd2F2ZS9zdG9yeS12UEtjSUpDSGhhTUNPdW9zcjZweXBLLmh0bWzSAaEBaHR0cHM6Ly9tLmhpbmR1c3RhbnRpbWVzLmNvbS9pbmRpYS1uZXdzL2Rvbi10LWRyaW5rLWFsY29ob2wtZ2V0LWluZG9vcnMtc2F5cy1pbWQtYXMtbm9ydGgtaW5kaWEtYnJhY2VzLWZvci1zZXZlcmUtY29sZC13YXZlL3N0b3J5LXZQS2NJSkNIaGFNQ091b3NyNnB5cEtfYW1wLmh0bWw?oc=5\n",
      "Sun, 27 Dec 2020 02:16:00 GMT\n",
      "------------------------------------------------------------\n",
      "Amit Shah in Assam today; several Opposition MLAs may join BJP - Times Now\n",
      "https://news.google.com/__i/rss/rd/articles/CBMib2h0dHBzOi8vd3d3LnRpbWVzbm93bmV3cy5jb20vaW5kaWEvYXJ0aWNsZS9hbWl0LXNoYWgtaW4tYXNzYW0tdG9kYXktc2V2ZXJhbC1vcHBvc2l0aW9uLW1sYXMtbWF5LWpvaW4tYmpwLzY5OTEzOdIBc2h0dHBzOi8vd3d3LnRpbWVzbm93bmV3cy5jb20vYW1wL2luZGlhL2FydGljbGUvYW1pdC1zaGFoLWluLWFzc2FtLXRvZGF5LXNldmVyYWwtb3Bwb3NpdGlvbi1tbGFzLW1heS1qb2luLWJqcC82OTkxMzk?oc=5\n",
      "Sat, 26 Dec 2020 00:53:00 GMT\n",
      "------------------------------------------------------------\n",
      "BJP's Rajasthan Ally RLP Quits NDA Over Farm Laws, Chief Beniwal Says 'Not Stuck to Tie-up With Fevicol' - News18\n",
      "https://news.google.com/__i/rss/rd/articles/CBMikQFodHRwczovL3d3dy5uZXdzMTguY29tL25ld3MvcG9saXRpY3MvYmpwcy1yYWphc3RoYW4tYWxseS1ybHAtcXVpdHMtbmRhLW92ZXItZmFybS1sYXdzLWNoaWVmLWJlbml3YWwtdGhyZWF0ZW5zLXRvLXJlc2lnbi1hcy1uYWdhdXItbXAtMzIxNjM5NS5odG1s0gGVAWh0dHBzOi8vd3d3Lm5ld3MxOC5jb20vYW1wL25ld3MvcG9saXRpY3MvYmpwcy1yYWphc3RoYW4tYWxseS1ybHAtcXVpdHMtbmRhLW92ZXItZmFybS1sYXdzLWNoaWVmLWJlbml3YWwtdGhyZWF0ZW5zLXRvLXJlc2lnbi1hcy1uYWdhdXItbXAtMzIxNjM5NS5odG1s?oc=5\n",
      "Sat, 26 Dec 2020 12:40:00 GMT\n",
      "------------------------------------------------------------\n",
      "India Sees Lowest Daily Rise In Coronavirus Cases In Nearly Six Months - NDTV\n",
      "https://news.google.com/__i/rss/rd/articles/CBMiogFodHRwczovL3d3dy5uZHR2LmNvbS9pbmRpYS1uZXdzLzE4LTczMi1uZXctY29yb25hdmlydXMtY2FzZXMtaW4taW5kaWEtbG93ZXN0LWRhaWx5LXJpc2UtaW4tbmVhcmx5LXNpeC1tb250aHMtMS0wMS1jcm9yZS10b3RhbC1jYXNlcy1zby1mYXItMS00LWxha2gtZGVhdGhzLTIzNDQxMjPSAbcBaHR0cHM6Ly93d3cubmR0di5jb20vaW5kaWEtbmV3cy8xOC03MzItbmV3LWNvcm9uYXZpcnVzLWNhc2VzLWluLWluZGlhLWxvd2VzdC1kYWlseS1yaXNlLWluLW5lYXJseS1zaXgtbW9udGhzLTEtMDEtY3JvcmUtdG90YWwtY2FzZXMtc28tZmFyLTEtNC1sYWtoLWRlYXRocy0yMzQ0MTIzP2FtcD0xJmFrYW1haS1ydW09b2Zm?oc=5\n",
      "Sun, 27 Dec 2020 04:13:51 GMT\n",
      "------------------------------------------------------------\n",
      "'I am in a dangerous mood these days, will bury you 10 feet deep': MP CM Shivraj Singh warns mafia - Times Now\n",
      "https://news.google.com/__i/rss/rd/articles/CBMikAFodHRwczovL3d3dy50aW1lc25vd25ld3MuY29tL2luZGlhL2FydGljbGUvaS1hbS1pbi1hLWRhbmdlcm91cy1tb29kLXRoZXNlLWRheXMtd2lsbC1idXJ5LXlvdS0xMC1mZWV0LWRlZXAtbXAtY20tc2hpdnJhai1zaW5naC13YXJucy1tYWZpYS82OTkxNzTSAZQBaHR0cHM6Ly93d3cudGltZXNub3duZXdzLmNvbS9hbXAvaW5kaWEvYXJ0aWNsZS9pLWFtLWluLWEtZGFuZ2Vyb3VzLW1vb2QtdGhlc2UtZGF5cy13aWxsLWJ1cnkteW91LTEwLWZlZXQtZGVlcC1tcC1jbS1zaGl2cmFqLXNpbmdoLXdhcm5zLW1hZmlhLzY5OTE3NA?oc=5\n",
      "Sat, 26 Dec 2020 03:34:00 GMT\n",
      "------------------------------------------------------------\n",
      "27-year-old man murdered in Kerala in suspected case of caste killing - The News Minute\n",
      "https://news.google.com/__i/rss/rd/articles/CBMiaWh0dHBzOi8vd3d3LnRoZW5ld3NtaW51dGUuY29tL2FydGljbGUvMjcteWVhci1vbGQtbWFuLW11cmRlcmVkLWtlcmFsYS1zdXNwZWN0ZWQtY2FzZS1jYXN0ZS1raWxsaW5nLTE0MDMyMdIBbWh0dHBzOi8vd3d3LnRoZW5ld3NtaW51dGUuY29tL2FydGljbGUvMjcteWVhci1vbGQtbWFuLW11cmRlcmVkLWtlcmFsYS1zdXNwZWN0ZWQtY2FzZS1jYXN0ZS1raWxsaW5nLTE0MDMyMT9hbXA?oc=5\n",
      "Sat, 26 Dec 2020 05:12:53 GMT\n",
      "------------------------------------------------------------\n",
      "Welcoming the ‘son-in-law of India’ for Republic Day - The Tribune India\n",
      "https://news.google.com/__i/rss/rd/articles/CBMiY2h0dHBzOi8vd3d3LnRyaWJ1bmVpbmRpYS5jb20vbmV3cy9jb21tZW50L3dlbGNvbWluZy10aGUtc29uLWluLWxhdy1vZi1pbmRpYS1mb3ItcmVwdWJsaWMtZGF5LTE4OTk3MtIBYWh0dHBzOi8vbS50cmlidW5laW5kaWEuY29tL25ld3MvY29tbWVudC93ZWxjb21pbmctdGhlLXNvbi1pbi1sYXctb2YtaW5kaWEtZm9yLXJlcHVibGljLWRheS0xODk5NzI?oc=5\n",
      "Sun, 27 Dec 2020 01:21:00 GMT\n",
      "------------------------------------------------------------\n",
      "8 UK Returnees Test Covid+ In Kerala, Sample Sent To Test New Strain - NDTV\n",
      "https://news.google.com/__i/rss/rd/articles/CBMia2h0dHBzOi8vd3d3Lm5kdHYuY29tL2tlcmFsYS1uZXdzLzgtdWstcmV0dXJuZWVzLXRlc3QtY292aWQtaW4ta2VyYWxhLXNhbXBsZS1zZW50LXRvLXRlc3QtbmV3LXN0cmFpbi0yMzQzODYy0gGAAWh0dHBzOi8vd3d3Lm5kdHYuY29tL2tlcmFsYS1uZXdzLzgtdWstcmV0dXJuZWVzLXRlc3QtY292aWQtaW4ta2VyYWxhLXNhbXBsZS1zZW50LXRvLXRlc3QtbmV3LXN0cmFpbi0yMzQzODYyP2FtcD0xJmFrYW1haS1ydW09b2Zm?oc=5\n",
      "Sat, 26 Dec 2020 07:24:58 GMT\n",
      "------------------------------------------------------------\n",
      "China rushes top-ranking CPC leader to Kathmandu to prevent split in Nepal Communist Party - Hindustan Times\n",
      "https://news.google.com/__i/rss/rd/articles/CBMipgFodHRwczovL3d3dy5oaW5kdXN0YW50aW1lcy5jb20vd29ybGQtbmV3cy9jaGluYS1ydXNoZXMtdG9wLXJhbmtpbmctY3BjLWxlYWRlci10by1rYXRobWFuZHUtdG8tcHJldmVudC1zcGxpdC1pbi1uZXBhbC1jb21tdW5pc3QtcGFydHkvc3RvcnktakJHQ3ZYczhyWnNXUTc4aXk0ZG1ZTS5odG1s0gGoAWh0dHBzOi8vbS5oaW5kdXN0YW50aW1lcy5jb20vd29ybGQtbmV3cy9jaGluYS1ydXNoZXMtdG9wLXJhbmtpbmctY3BjLWxlYWRlci10by1rYXRobWFuZHUtdG8tcHJldmVudC1zcGxpdC1pbi1uZXBhbC1jb21tdW5pc3QtcGFydHkvc3RvcnktakJHQ3ZYczhyWnNXUTc4aXk0ZG1ZTV9hbXAuaHRtbA?oc=5\n",
      "Sat, 26 Dec 2020 23:39:00 GMT\n",
      "------------------------------------------------------------\n",
      "10 Climbers Killed In Iran, Ship Crew Missing After Snowfall And Storms - NDTV\n",
      "https://news.google.com/__i/rss/rd/articles/CBMib2h0dHBzOi8vd3d3Lm5kdHYuY29tL3dvcmxkLW5ld3MvdGVuLWNsaW1iZXJzLWtpbGxlZC1pbi1pcmFuLXNoaXAtY3Jldy1taXNzaW5nLWFmdGVyLXNub3dmYWxsLWFuZC1zdG9ybXMtMjM0NDA5NdIBhAFodHRwczovL3d3dy5uZHR2LmNvbS93b3JsZC1uZXdzL3Rlbi1jbGltYmVycy1raWxsZWQtaW4taXJhbi1zaGlwLWNyZXctbWlzc2luZy1hZnRlci1zbm93ZmFsbC1hbmQtc3Rvcm1zLTIzNDQwOTU_YW1wPTEmYWthbWFpLXJ1bT1vZmY?oc=5\n",
      "Sun, 27 Dec 2020 02:05:31 GMT\n",
      "------------------------------------------------------------\n",
      "Spain Confirms Four Cases Of British Coronavirus Variant - NDTV\n",
      "https://news.google.com/__i/rss/rd/articles/CBMiYGh0dHBzOi8vd3d3Lm5kdHYuY29tL3dvcmxkLW5ld3Mvc3BhaW4tY29uZmlybXMtZm91ci1jYXNlcy1vZi1icml0aXNoLWNvcm9uYXZpcnVzLXZhcmlhbnQtMjM0Mzk0NtIBdWh0dHBzOi8vd3d3Lm5kdHYuY29tL3dvcmxkLW5ld3Mvc3BhaW4tY29uZmlybXMtZm91ci1jYXNlcy1vZi1icml0aXNoLWNvcm9uYXZpcnVzLXZhcmlhbnQtMjM0Mzk0Nj9hbXA9MSZha2FtYWktcnVtPW9mZg?oc=5\n",
      "Sat, 26 Dec 2020 11:26:15 GMT\n",
      "------------------------------------------------------------\n",
      "Shooting at US Bowling Alley Kills Three, Three Injured; Person Taken into Custody - News18\n",
      "https://news.google.com/__i/rss/rd/articles/CBMif2h0dHBzOi8vd3d3Lm5ld3MxOC5jb20vbmV3cy9pbmRpYS9zaG9vdGluZy1hdC11cy1ib3dsaW5nLWFsbGV5LWtpbGxzLXRocmVlLXRocmVlLWluanVyZWQtcGVyc29uLXRha2VuLWludG8tY3VzdG9keS0zMjE3NzQyLmh0bWzSAYMBaHR0cHM6Ly93d3cubmV3czE4LmNvbS9hbXAvbmV3cy9pbmRpYS9zaG9vdGluZy1hdC11cy1ib3dsaW5nLWFsbGV5LWtpbGxzLXRocmVlLXRocmVlLWluanVyZWQtcGVyc29uLXRha2VuLWludG8tY3VzdG9keS0zMjE3NzQyLmh0bWw?oc=5\n",
      "Sun, 27 Dec 2020 03:08:40 GMT\n",
      "------------------------------------------------------------\n",
      "India to become 3rd largest economy by 2030: Report - Times of India\n",
      "https://news.google.com/__i/rss/rd/articles/CBMihwFodHRwczovL3RpbWVzb2ZpbmRpYS5pbmRpYXRpbWVzLmNvbS9idXNpbmVzcy9pbmRpYS1idXNpbmVzcy9pbmRpYS10by1iZWNvbWUtM3JkLWxhcmdlc3QtZWNvbm9teS1ieS0yMDMwLXJlcG9ydC9hcnRpY2xlc2hvdy83OTk3MjU4NC5jbXPSAYIBaHR0cHM6Ly9tLnRpbWVzb2ZpbmRpYS5jb20vYnVzaW5lc3MvaW5kaWEtYnVzaW5lc3MvaW5kaWEtdG8tYmVjb21lLTNyZC1sYXJnZXN0LWVjb25vbXktYnktMjAzMC1yZXBvcnQvYW1wX2FydGljbGVzaG93Lzc5OTcyNTg0LmNtcw?oc=5\n",
      "Sun, 27 Dec 2020 05:22:00 GMT\n",
      "------------------------------------------------------------\n",
      "BioNTech CEO Ugur Sahin says will work with others to boost vaccine capacity: Report - Moneycontrol\n",
      "https://news.google.com/__i/rss/rd/articles/CBMiiwFodHRwczovL3d3dy5tb25leWNvbnRyb2wuY29tL25ld3MvYnVzaW5lc3MvYmlvbnRlY2gtY2VvLXVndXItc2FoaW4tc2F5cy13aWxsLXdvcmstd2l0aC1vdGhlcnMtdG8tYm9vc3QtdmFjY2luZS1jYXBhY2l0eS1yZXBvcnQtNjI3NDI4MS5odG1s0gGPAWh0dHBzOi8vd3d3Lm1vbmV5Y29udHJvbC5jb20vbmV3cy9idXNpbmVzcy9iaW9udGVjaC1jZW8tdWd1ci1zYWhpbi1zYXlzLXdpbGwtd29yay13aXRoLW90aGVycy10by1ib29zdC12YWNjaW5lLWNhcGFjaXR5LXJlcG9ydC02Mjc0MjgxLmh0bWwvYW1w?oc=5\n",
      "Sat, 26 Dec 2020 16:47:00 GMT\n",
      "------------------------------------------------------------\n",
      "Reliance to buy out IMG Worldwide from sports management JV - Times of India\n",
      "https://news.google.com/__i/rss/rd/articles/CBMikAFodHRwczovL3RpbWVzb2ZpbmRpYS5pbmRpYXRpbWVzLmNvbS9idXNpbmVzcy9pbmRpYS1idXNpbmVzcy9yZWxpYW5jZS10by1idXktb3V0LWltZy13b3JsZHdpZGUtZnJvbS1zcG9ydHMtbWFuYWdlbWVudC1qdi9hcnRpY2xlc2hvdy83OTk1ODU3Mi5jbXPSAYsBaHR0cHM6Ly9tLnRpbWVzb2ZpbmRpYS5jb20vYnVzaW5lc3MvaW5kaWEtYnVzaW5lc3MvcmVsaWFuY2UtdG8tYnV5LW91dC1pbWctd29ybGR3aWRlLWZyb20tc3BvcnRzLW1hbmFnZW1lbnQtanYvYW1wX2FydGljbGVzaG93Lzc5OTU4NTcyLmNtcw?oc=5\n",
      "Fri, 25 Dec 2020 18:09:00 GMT\n",
      "------------------------------------------------------------\n",
      "Upcoming Maruti Cars In 2021 – New-Gen Alto to Ertiga Diesel - GaadiWaadi.com\n",
      "https://news.google.com/__i/rss/rd/articles/CBMiUmh0dHBzOi8vZ2FhZGl3YWFkaS5jb20vdXBjb21pbmctbWFydXRpLWNhcnMtaW4tMjAyMS1uZXctZ2VuLWFsdG8tdG8tZXJ0aWdhLWRpZXNlbC_SAVZodHRwczovL2dhYWRpd2FhZGkuY29tL3VwY29taW5nLW1hcnV0aS1jYXJzLWluLTIwMjEtbmV3LWdlbi1hbHRvLXRvLWVydGlnYS1kaWVzZWwvYW1wLw?oc=5\n",
      "Sun, 27 Dec 2020 03:00:00 GMT\n",
      "------------------------------------------------------------\n",
      "After Mocking Apple, Xiaomi Confirms That Mi 11's Retail Box Won't Include USB Charger - News18\n",
      "https://news.google.com/__i/rss/rd/articles/CBMigQFodHRwczovL3d3dy5uZXdzMTguY29tL25ld3MvdGVjaC9hZnRlci1tb2NraW5nLWFwcGxlLXhpYW9taS1jb25maXJtcy10aGF0LW1pLTExcy1yZXRhaWwtYm94LXdvbnQtaW5jbHVkZS11c2ItY2hhcmdlci0zMjE3OTEzLmh0bWzSAYUBaHR0cHM6Ly93d3cubmV3czE4LmNvbS9hbXAvbmV3cy90ZWNoL2FmdGVyLW1vY2tpbmctYXBwbGUteGlhb21pLWNvbmZpcm1zLXRoYXQtbWktMTFzLXJldGFpbC1ib3gtd29udC1pbmNsdWRlLXVzYi1jaGFyZ2VyLTMyMTc5MTMuaHRtbA?oc=5\n",
      "Sun, 27 Dec 2020 04:36:36 GMT\n",
      "------------------------------------------------------------\n",
      "Tech Wrap: Flipkart kicks off Electronics Sale, Huawei Enjoy 20 FE launched - HT Tech\n",
      "https://news.google.com/__i/rss/rd/articles/CBMihwFodHRwczovL3RlY2guaGluZHVzdGFudGltZXMuY29tL3RlY2gvbmV3cy90ZWNoLXdyYXAtZmxpcGthcnQta2lja3Mtb2ZmLWVsZWN0cm9uaWNzLXNhbGUtaHVhd2VpLWVuam95LTIwLWZlLWxhdW5jaGVkLTcxNjA5MDAyNDYwOTYxLmh0bWzSAYsBaHR0cHM6Ly90ZWNoLmhpbmR1c3RhbnRpbWVzLmNvbS9hbXAvdGVjaC9uZXdzL3RlY2gtd3JhcC1mbGlwa2FydC1raWNrcy1vZmYtZWxlY3Ryb25pY3Mtc2FsZS1odWF3ZWktZW5qb3ktMjAtZmUtbGF1bmNoZWQtNzE2MDkwMDI0NjA5NjEuaHRtbA?oc=5\n",
      "Sat, 26 Dec 2020 17:07:40 GMT\n",
      "------------------------------------------------------------\n",
      "Qualcomm Snapdragon 888: What you should know and why it matters! - Indulgexpress\n",
      "https://news.google.com/__i/rss/rd/articles/CBMifGh0dHBzOi8vd3d3LmluZHVsZ2V4cHJlc3MuY29tL2dhZGdldHMvMjAyMC9kZWMvMjYvcXVhbGNvbW0tc25hcGRyYWdvbi04ODgtd2hhdC15b3Utc2hvdWxkLWtub3ctYW5kLXdoeS1pdC1tYXR0ZXJzLTMwNTQ3Lmh0bWzSAXlodHRwczovL20uaW5kdWxnZXhwcmVzcy5jb20vZ2FkZ2V0cy8yMDIwL2RlYy8yNi9xdWFsY29tbS1zbmFwZHJhZ29uLTg4OC13aGF0LXlvdS1zaG91bGQta25vdy1hbmQtd2h5LWl0LW1hdHRlcnMtMzA1NDcuYW1w?oc=5\n",
      "Sat, 26 Dec 2020 12:12:00 GMT\n",
      "------------------------------------------------------------\n",
      "Next Week in Tech: Xiaomi Mi 11 and Vivo X60 series will debut new processors - gizmochina\n",
      "https://news.google.com/__i/rss/rd/articles/CBMic2h0dHBzOi8vd3d3Lmdpem1vY2hpbmEuY29tLzIwMjAvMTIvMjYvbmV4dC13ZWVrLWluLXRlY2gteGlhb21pLW1pLTExLWFuZC12aXZvLXg2MC1zZXJpZXMtd2lsbC1kZWJ1dC1uZXctcHJvY2Vzc29ycy_SAQA?oc=5\n",
      "Sat, 26 Dec 2020 17:18:00 GMT\n",
      "------------------------------------------------------------\n",
      "Salman Khan says he has ‘no desire’ to celebrate his birthday this year, cuts a cake at midnight. See... - Hindustan Times\n",
      "https://news.google.com/__i/rss/rd/articles/CBMisQFodHRwczovL3d3dy5oaW5kdXN0YW50aW1lcy5jb20vYm9sbHl3b29kL3NhbG1hbi1raGFuLXNheXMtaGUtaGFzLW5vLWRlc2lyZS10by1jZWxlYnJhdGUtaGlzLWJpcnRoZGF5LXRoaXMteWVhci1jdXRzLWEtY2FrZS1hdC1taWRuaWdodC1zZWUtcGljcy9zdG9yeS00T1JrOU1RbjVuc05xYlJMQVBXcmdMLmh0bWzSAbMBaHR0cHM6Ly9tLmhpbmR1c3RhbnRpbWVzLmNvbS9ib2xseXdvb2Qvc2FsbWFuLWtoYW4tc2F5cy1oZS1oYXMtbm8tZGVzaXJlLXRvLWNlbGVicmF0ZS1oaXMtYmlydGhkYXktdGhpcy15ZWFyLWN1dHMtYS1jYWtlLWF0LW1pZG5pZ2h0LXNlZS1waWNzL3N0b3J5LTRPUms5TVFuNW5zTnFiUkxBUFdyZ0xfYW1wLmh0bWw?oc=5\n",
      "Sun, 27 Dec 2020 02:20:00 GMT\n",
      "------------------------------------------------------------\n",
      "Rajinikanth progressing well, but blood pressure still on higher side: Hospital - Deccan Herald\n",
      "https://news.google.com/__i/rss/rd/articles/CBMihQFodHRwczovL3d3dy5kZWNjYW5oZXJhbGQuY29tL25hdGlvbmFsL3NvdXRoL3JhamluaWthbnRoLXByb2dyZXNzaW5nLXdlbGwtYnV0LWJsb29kLXByZXNzdXJlLXN0aWxsLW9uLWhpZ2hlci1zaWRlLWhvc3BpdGFsLTkzMTc1My5odG1s0gGJAWh0dHBzOi8vd3d3LmRlY2NhbmhlcmFsZC5jb20vYW1wL25hdGlvbmFsL3NvdXRoL3JhamluaWthbnRoLXByb2dyZXNzaW5nLXdlbGwtYnV0LWJsb29kLXByZXNzdXJlLXN0aWxsLW9uLWhpZ2hlci1zaWRlLWhvc3BpdGFsLTkzMTc1My5odG1s?oc=5\n",
      "Sat, 26 Dec 2020 06:52:34 GMT\n",
      "------------------------------------------------------------\n",
      "Bigg Boss 14: Fans have mixed reactions on Salman Khan schooling Rahul Vaidya and his 'bhagoda' remark - Bollywood Life\n",
      "https://news.google.com/__i/rss/rd/articles/CBMilAFodHRwczovL3d3dy5ib2xseXdvb2RsaWZlLmNvbS9iaWdnLWJvc3MvYmlnZy1ib3NzLTE0LWZhbnMtaGF2ZS1taXhlZC1yZWFjdGlvbnMtb24tc2FsbWFuLWtoYW4tc2Nob29saW5nLXJhaHVsLXZhaWR5YS1hbmQtaGlzLWJoYWdvZGEtcmVtYXJrLTE3NTE4MTcv0gGYAWh0dHBzOi8vd3d3LmJvbGx5d29vZGxpZmUuY29tL2JpZ2ctYm9zcy9iaWdnLWJvc3MtMTQtZmFucy1oYXZlLW1peGVkLXJlYWN0aW9ucy1vbi1zYWxtYW4ta2hhbi1zY2hvb2xpbmctcmFodWwtdmFpZHlhLWFuZC1oaXMtYmhhZ29kYS1yZW1hcmstMTc1MTgxNy9hbXAv?oc=5\n",
      "Sat, 26 Dec 2020 18:10:15 GMT\n",
      "------------------------------------------------------------\n",
      "#ETimesCelebTracker: Today's 20 best celeb moments - Times of India\n",
      "https://news.google.com/__i/rss/rd/articles/CBMibGh0dHBzOi8vcGhvdG9nYWxsZXJ5LmluZGlhdGltZXMuY29tL2V0aW1lc2NlbGVidHJhY2tlci10b2RheXMtMjAtYmVzdC1jZWxlYi1tb21lbnRzL2FydGljbGVzaG93Lzc5OTY4MDQxLmNtc9IBcGh0dHBzOi8vbS5waG90b3MudGltZXNvZmluZGlhLmNvbS9ldGltZXNjZWxlYnRyYWNrZXItdG9kYXlzLTIwLWJlc3QtY2VsZWItbW9tZW50cy9hbXBfZXRhcnRpY2xlc2hvdy83OTk2ODA0MS5jbXM?oc=5\n",
      "Sat, 26 Dec 2020 12:55:16 GMT\n",
      "------------------------------------------------------------\n",
      "‘Unbelievable, mind-boggling’: Sunil Gavaskar bowled over by India’s fast bowling strength - Hindustan Times\n",
      "https://news.google.com/__i/rss/rd/articles/CBMinwFodHRwczovL3d3dy5oaW5kdXN0YW50aW1lcy5jb20vY3JpY2tldC91bmJlbGlldmFibGUtbWluZC1ib2dnbGluZy1zdW5pbC1nYXZhc2thci1ib3dsZWQtb3Zlci1ieS1pbmRpYS1zLWZhc3QtYm93bGluZy1zdHJlbmd0aC9zdG9yeS1iOUUxTFVtN3dVb1ZHT0x6ZGNXQ2RPLmh0bWzSAaEBaHR0cHM6Ly9tLmhpbmR1c3RhbnRpbWVzLmNvbS9jcmlja2V0L3VuYmVsaWV2YWJsZS1taW5kLWJvZ2dsaW5nLXN1bmlsLWdhdmFza2FyLWJvd2xlZC1vdmVyLWJ5LWluZGlhLXMtZmFzdC1ib3dsaW5nLXN0cmVuZ3RoL3N0b3J5LWI5RTFMVW03d1VvVkdPTHpkY1dDZE9fYW1wLmh0bWw?oc=5\n",
      "Sun, 27 Dec 2020 03:55:00 GMT\n",
      "------------------------------------------------------------\n",
      "Dinesh Chandimal credits Hashim Amla after banishing South Africa demons - ESPNcricinfo\n",
      "https://news.google.com/__i/rss/rd/articles/CBMic2h0dHBzOi8vd3d3LmVzcG5jcmljaW5mby5jb20vc3RvcnkvZGluZXNoLWNoYW5kaW1hbC1jcmVkaXRzLWhhc2hpbS1hbWxhLWFmdGVyLWJhbmlzaGluZy1zb3V0aC1hZnJpY2EtZGVtb25zLTEyNDUzNTHSAYABaHR0cHM6Ly93d3cuZXNwbmNyaWNpbmZvLmNvbS9zdG9yeS9kaW5lc2gtY2hhbmRpbWFsLWNyZWRpdHMtaGFzaGltLWFtbGEtYWZ0ZXItYmFuaXNoaW5nLXNvdXRoLWFmcmljYS1kZW1vbnMtMTI0NTM1MT9wbGF0Zm9ybT1hbXA?oc=5\n",
      "Sat, 26 Dec 2020 17:55:11 GMT\n",
      "------------------------------------------------------------\n",
      "New Zealand vs Pakistan, 1st Test, Pakistan tour of New Zealand, 2020-21 - Cricbuzz\n",
      "https://news.google.com/__i/rss/rd/articles/CBMiXmh0dHBzOi8vbS5jcmljYnV6ei5jb20vY3JpY2tldC1jb21tZW50YXJ5LzMwODU5L3Bha2lzdGFuLW9wZW4tYS13aW5kb3ctd2l0aC13aWxsaWFtc29ucy13aWNrZXTSAQA?oc=5\n",
      "Sun, 27 Dec 2020 01:29:33 GMT\n",
      "------------------------------------------------------------\n",
      "Wade and 'uneasy' Burns face battle for spot after Boxing Day failure - The Age\n",
      "https://news.google.com/__i/rss/rd/articles/CBMieGh0dHBzOi8vd3d3LnRoZWFnZS5jb20uYXUvc3BvcnQvY3JpY2tldC93YWRlLWFuZC11bmVhc3ktYnVybnMtZmFjZS1iYXQtb2ZmLWFmdGVyLWJveGluZy1kYXktZmFpbHVyZS0yMDIwMTIyNi1wNTZxN2IuaHRtbNIBeGh0dHBzOi8vYW1wLnRoZWFnZS5jb20uYXUvc3BvcnQvY3JpY2tldC93YWRlLWFuZC11bmVhc3ktYnVybnMtZmFjZS1iYXQtb2ZmLWFmdGVyLWJveGluZy1kYXktZmFpbHVyZS0yMDIwMTIyNi1wNTZxN2IuaHRtbA?oc=5\n",
      "Sat, 26 Dec 2020 06:41:00 GMT\n",
      "------------------------------------------------------------\n",
      "Science News | ⚡Great Conjunction 2020: Here's How to See the Christmas Star on Winter Solstice - LatestLY\n",
      "https://news.google.com/__i/rss/rd/articles/CBMijwFodHRwczovL3d3dy5sYXRlc3RseS5jb20vcXVpY2tseS90ZWNobm9sb2d5L3NjaWVuY2UvZ3JlYXQtY29uanVuY3Rpb24tMjAyMC1oZXJlLXMtaG93LXRvLXNlZS10aGUtY2hyaXN0bWFzLXN0YXItb24td2ludGVyLXNvbHN0aWNlLTIyMTg4MzkuaHRtbNIBjwFodHRwczovL3d3dy5sYXRlc3RseS5jb20vcXVpY2tseS90ZWNobm9sb2d5L3NjaWVuY2UvZ3JlYXQtY29uanVuY3Rpb24tMjAyMC1oZXJlLXMtaG93LXRvLXNlZS10aGUtY2hyaXN0bWFzLXN0YXItb24td2ludGVyLXNvbHN0aWNlLTIyMTg4MzkuaHRtbA?oc=5\n",
      "Sun, 20 Dec 2020 08:22:09 GMT\n",
      "------------------------------------------------------------\n",
      "Ajmer man gifts plot of land on Moon to wife on wedding anniversary - India TV News\n",
      "https://news.google.com/__i/rss/rd/articles/CBMiamh0dHBzOi8vd3d3LmluZGlhdHZuZXdzLmNvbS9uZXdzL2luZGlhL2FqbWVyLW1hbi13ZWRkaW5nLWFubml2ZXJzYXJ5LWdpZnQtdG8td2lmZS1wbG90LWxhbmQtb24tbW9vbi02NzQxOTnSAW5odHRwczovL3d3dy5pbmRpYXR2bmV3cy5jb20vYW1wL25ld3MvaW5kaWEvYWptZXItbWFuLXdlZGRpbmctYW5uaXZlcnNhcnktZ2lmdC10by13aWZlLXBsb3QtbGFuZC1vbi1tb29uLTY3NDE5OQ?oc=5\n",
      "Sun, 27 Dec 2020 03:24:05 GMT\n",
      "------------------------------------------------------------\n",
      "How, when and where to see a full “ cold moon ” this Christmas wherever you are - BollyInside\n",
      "https://news.google.com/__i/rss/rd/articles/CBMibGh0dHBzOi8vd3d3LmJvbGx5aW5zaWRlLmNvbS9uZXdzL2hvdy13aGVuLWFuZC13aGVyZS10by1zZWUtYS1mdWxsLWNvbGQtbW9vbi10aGlzLWNocmlzdG1hcy13aGVyZXZlci15b3UtYXJlL9IBcGh0dHBzOi8vd3d3LmJvbGx5aW5zaWRlLmNvbS9uZXdzL2hvdy13aGVuLWFuZC13aGVyZS10by1zZWUtYS1mdWxsLWNvbGQtbW9vbi10aGlzLWNocmlzdG1hcy13aGVyZXZlci15b3UtYXJlL2FtcC8?oc=5\n",
      "Sat, 26 Dec 2020 04:07:52 GMT\n",
      "------------------------------------------------------------\n",
      "Mysterious giant asteroid is lurking in solar system and it hurled a big meteor at earth, study finds - IBTimes India\n",
      "https://news.google.com/__i/rss/rd/articles/CBMitAFodHRwczovL3d3dy5pYnRpbWVzLmNvLmluL215c3RlcmlvdXMtZ2lhbnQtYXN0ZXJvaWQtbHVya2luZy1zb2xhci1zeXN0ZW0taXQtaHVybGVkLWJpZy1tZXRlb3ItZWFydGgtc3R1ZHktZmluZHMtODMxNTQ1P3V0bV9zb3VyY2U9SW50ZXJuYWwmdXRtX21lZGl1bT1Ib21lcGFnZSZ1dG1fY2FtcGFpZ249YmxvY2szLTHSAXZodHRwczovL2FtcC5pYnRpbWVzLmNvLmluL215c3RlcmlvdXMtZ2lhbnQtYXN0ZXJvaWQtbHVya2luZy1zb2xhci1zeXN0ZW0taXQtaHVybGVkLWJpZy1tZXRlb3ItZWFydGgtc3R1ZHktZmluZHMtODMxNTQ1?oc=5\n",
      "Sun, 27 Dec 2020 04:19:40 GMT\n",
      "------------------------------------------------------------\n",
      "As vaccines are rolled out, questions remain - msnNOW\n",
      "https://news.google.com/__i/rss/rd/articles/CBMiXGh0dHBzOi8vd3d3Lm1zbi5jb20vZW4tdXMvbmV3cy93b3JsZC9hcy12YWNjaW5lcy1hcmUtcm9sbGVkLW91dC1xdWVzdGlvbnMtcmVtYWluL2FyLUJCMWNmVVRT0gEA?oc=5\n",
      "Sun, 27 Dec 2020 00:46:00 GMT\n",
      "------------------------------------------------------------\n",
      "How coronavirus interacts with human cell proteins - The Hindu\n",
      "https://news.google.com/__i/rss/rd/articles/CBMicGh0dHBzOi8vd3d3LnRoZWhpbmR1LmNvbS9zY2ktdGVjaC9zY2llbmNlL2hvdy1jb3JvbmF2aXJ1cy1pbnRlcmFjdHMtd2l0aC1odW1hbi1jZWxsLXByb3RlaW5zL2FydGljbGUzMzQyNjE2MC5lY2XSAXVodHRwczovL3d3dy50aGVoaW5kdS5jb20vc2NpLXRlY2gvc2NpZW5jZS9ob3ctY29yb25hdmlydXMtaW50ZXJhY3RzLXdpdGgtaHVtYW4tY2VsbC1wcm90ZWlucy9hcnRpY2xlMzM0MjYxNjAuZWNlL2FtcC8?oc=5\n",
      "Sat, 26 Dec 2020 15:38:00 GMT\n",
      "------------------------------------------------------------\n",
      "Centenarian care home resident becomes Germany's first COVID-19 vaccine recipient - Yahoo India News\n",
      "https://news.google.com/__i/rss/rd/articles/CBMiT2h0dHBzOi8vaW4ubmV3cy55YWhvby5jb20vY2VudGVuYXJpYW4tY2FyZS1ob21lLXJlc2lkZW50LWJlY29tZXMtMTg0NjA4OTU1Lmh0bWzSAVdodHRwczovL2luLm5ld3MueWFob28uY29tL2FtcGh0bWwvY2VudGVuYXJpYW4tY2FyZS1ob21lLXJlc2lkZW50LWJlY29tZXMtMTg0NjA4OTU1Lmh0bWw?oc=5\n",
      "Sat, 26 Dec 2020 18:55:18 GMT\n",
      "------------------------------------------------------------\n",
      "UK says regulator needs time to review Oxford vaccine, must wait for advice - Mint\n",
      "https://news.google.com/__i/rss/rd/articles/CBMihAFodHRwczovL3d3dy5saXZlbWludC5jb20vc2NpZW5jZS9uZXdzL3VrLXNheXMtcmVndWxhdG9yLW5lZWRzLXRpbWUtdG8tcmV2aWV3LW94Zm9yZC12YWNjaW5lLW11c3Qtd2FpdC1mb3ItYWR2aWNlLTExNjA5MDMyNzUxNDQ0Lmh0bWzSAYgBaHR0cHM6Ly93d3cubGl2ZW1pbnQuY29tL3NjaWVuY2UvbmV3cy91ay1zYXlzLXJlZ3VsYXRvci1uZWVkcy10aW1lLXRvLXJldmlldy1veGZvcmQtdmFjY2luZS1tdXN0LXdhaXQtZm9yLWFkdmljZS9hbXAtMTE2MDkwMzI3NTE0NDQuaHRtbA?oc=5\n",
      "Sun, 27 Dec 2020 01:50:26 GMT\n",
      "------------------------------------------------------------\n"
     ]
    }
   ],
   "source": [
    "import bs4\n",
    "from bs4 import BeautifulSoup as soup\n",
    "from urllib.request import urlopen\n",
    "\n",
    "news_url=\"https://news.google.com/news/rss\"\n",
    "Client=urlopen(news_url)\n",
    "xml_page=Client.read()\n",
    "Client.close()\n",
    "\n",
    "soup_page=soup(xml_page,\"xml\")\n",
    "news_list=soup_page.findAll(\"item\")\n",
    "# Print news title, url and publish date\n",
    "for news in news_list:\n",
    "  print(news.title.text)\n",
    "  print(news.link.text)\n",
    "  print(news.pubDate.text)\n",
    "  print(\"-\"*60)"
   ]
  },
  {
   "cell_type": "markdown",
   "metadata": {},
   "source": [
    "### Q 159. Write a Python program to get a list of locally installed Python modules. "
   ]
  },
  {
   "cell_type": "code",
   "execution_count": 10,
   "metadata": {},
   "outputs": [
    {
     "name": "stdout",
     "output_type": "stream",
     "text": [
      "alabaster==0.7.12\n",
      "anaconda-client==1.7.2\n",
      "anaconda-navigator==1.9.12\n",
      "anaconda-project==0.8.3\n",
      "argh==0.26.2\n",
      "asn1crypto==1.3.0\n",
      "astroid==2.4.2\n",
      "astropy==4.0.1.post1\n",
      "atomicwrites==1.4.0\n",
      "attrs==19.3.0\n",
      "autopep8==1.5.3\n",
      "babel==2.8.0\n",
      "backcall==0.2.0\n",
      "backports.functools-lru-cache==1.6.1\n",
      "backports.shutil-get-terminal-size==1.0.0\n",
      "backports.tempfile==1.0\n",
      "backports.weakref==1.0.post1\n",
      "bcrypt==3.1.7\n",
      "beautifulsoup4==4.9.1\n",
      "bitarray==1.4.0\n",
      "bkcharts==0.2\n",
      "bleach==3.1.5\n",
      "bokeh==2.1.1\n",
      "boto==2.49.0\n",
      "bottleneck==1.3.2\n",
      "brotlipy==0.7.0\n",
      "certifi==2020.6.20\n",
      "cffi==1.14.0\n",
      "chardet==3.0.4\n",
      "click==7.1.2\n",
      "cloudpickle==1.5.0\n",
      "clyent==1.2.2\n",
      "colorama==0.4.3\n",
      "comtypes==1.1.7\n",
      "conda-build==3.18.11\n",
      "conda-package-handling==1.7.0\n",
      "conda-verify==3.4.2\n",
      "conda==4.8.4\n",
      "contextlib2==0.6.0.post1\n",
      "cryptography==2.9.2\n",
      "cycler==0.10.0\n",
      "cython==0.29.21\n",
      "cytoolz==0.10.1\n",
      "dask==2.20.0\n",
      "decorator==4.4.2\n",
      "defusedxml==0.6.0\n",
      "diff-match-patch==20200713\n",
      "distributed==2.20.0\n",
      "docutils==0.16\n",
      "entrypoints==0.3\n",
      "et-xmlfile==1.0.1\n",
      "fastcache==1.1.0\n",
      "filelock==3.0.12\n",
      "flake8==3.8.3\n",
      "flask==1.1.2\n",
      "fsspec==0.7.4\n",
      "future==0.18.2\n",
      "gevent==20.6.2\n",
      "glob2==0.7\n",
      "gmpy2==2.0.8\n",
      "greenlet==0.4.16\n",
      "h5py==2.10.0\n",
      "heapdict==1.0.1\n",
      "html5lib==1.1\n",
      "idna==2.10\n",
      "imageio==2.9.0\n",
      "imagesize==1.2.0\n",
      "importlib-metadata==1.7.0\n",
      "intervaltree==3.0.2\n",
      "ipykernel==5.3.2\n",
      "ipython-genutils==0.2.0\n",
      "ipython==7.16.1\n",
      "ipywidgets==7.5.1\n",
      "isort==4.3.21\n",
      "itsdangerous==1.1.0\n",
      "jdcal==1.4.1\n",
      "jedi==0.17.1\n",
      "jinja2==2.11.2\n",
      "joblib==0.16.0\n",
      "json5==0.9.5\n",
      "jsonschema==3.2.0\n",
      "jupyter-client==6.1.6\n",
      "jupyter-console==6.1.0\n",
      "jupyter-core==4.6.3\n",
      "jupyter==1.0.0\n",
      "jupyterlab-server==1.2.0\n",
      "jupyterlab==2.1.5\n",
      "keyring==21.2.1\n",
      "kiwisolver==1.2.0\n",
      "lazy-object-proxy==1.4.3\n",
      "libarchive-c==2.9\n",
      "llvmlite==0.33.0+1.g022ab0f\n",
      "locket==0.2.0\n",
      "lxml==4.5.2\n",
      "markupsafe==1.1.1\n",
      "matplotlib==3.2.2\n",
      "mccabe==0.6.1\n",
      "menuinst==1.4.16\n",
      "mistune==0.8.4\n",
      "mkl-fft==1.1.0\n",
      "mkl-random==1.1.1\n",
      "mkl-service==2.3.0\n",
      "mock==4.0.2\n",
      "more-itertools==8.4.0\n",
      "mpmath==1.1.0\n",
      "msgpack==1.0.0\n",
      "multipledispatch==0.6.0\n",
      "navigator-updater==0.2.1\n",
      "nbconvert==5.6.1\n",
      "nbformat==5.0.7\n",
      "networkx==2.4\n",
      "nltk==3.5\n",
      "nose==1.3.7\n",
      "notebook==6.0.3\n",
      "numba==0.50.1\n",
      "numexpr==2.7.1\n",
      "numpy==1.18.5\n",
      "numpydoc==1.1.0\n",
      "olefile==0.46\n",
      "openpyxl==3.0.4\n",
      "packaging==20.4\n",
      "pandas==1.0.5\n",
      "pandocfilters==1.4.2\n",
      "paramiko==2.7.1\n",
      "parso==0.7.0\n",
      "partd==1.1.0\n",
      "path==13.1.0\n",
      "pathlib2==2.3.5\n",
      "pathtools==0.1.2\n",
      "patsy==0.5.1\n",
      "pep8==1.7.1\n",
      "pexpect==4.8.0\n",
      "pickleshare==0.7.5\n",
      "pillow==7.2.0\n",
      "pip==20.1.1\n",
      "pkginfo==1.5.0.1\n",
      "plotly==4.10.0\n",
      "pluggy==0.13.1\n",
      "ply==3.11\n",
      "prometheus-client==0.8.0\n",
      "prompt-toolkit==3.0.5\n",
      "psutil==5.7.0\n",
      "py==1.9.0\n",
      "pycodestyle==2.6.0\n",
      "pycosat==0.6.3\n",
      "pycparser==2.20\n",
      "pycurl==7.43.0.5\n",
      "pydocstyle==5.0.2\n",
      "pyflakes==2.2.0\n",
      "pygments==2.6.1\n",
      "pylint==2.5.3\n",
      "pynacl==1.4.0\n",
      "pyodbc==4.0.0-unsupported\n",
      "pyopenssl==19.1.0\n",
      "pyparsing==2.4.7\n",
      "pyreadline==2.1\n",
      "pyrsistent==0.16.0\n",
      "pysocks==1.7.1\n",
      "pytest==5.4.3\n",
      "python-dateutil==2.8.1\n",
      "python-jsonrpc-server==0.3.4\n",
      "python-language-server==0.34.1\n",
      "pytz==2020.1\n",
      "pywavelets==1.1.1\n",
      "pywin32-ctypes==0.2.0\n",
      "pywin32==227\n",
      "pywinpty==0.5.7\n",
      "pyyaml==5.3.1\n",
      "pyzmq==19.0.1\n",
      "qdarkstyle==2.8.1\n",
      "qtawesome==0.7.2\n",
      "qtconsole==4.7.5\n",
      "qtpy==1.9.0\n",
      "regex==2020.6.8\n",
      "requests==2.24.0\n",
      "retrying==1.3.3\n",
      "rope==0.17.0\n",
      "rtree==0.9.4\n",
      "ruamel-yaml==0.15.87\n",
      "scikit-image==0.16.2\n",
      "scikit-learn==0.23.1\n",
      "scipy==1.5.0\n",
      "seaborn==0.10.1\n",
      "send2trash==1.5.0\n",
      "setuptools==49.2.0.post20200714\n",
      "simplegeneric==0.8.1\n",
      "singledispatch==3.4.0.3\n",
      "sip==4.19.13\n",
      "six==1.15.0\n",
      "snowballstemmer==2.0.0\n",
      "sortedcollections==1.2.1\n",
      "sortedcontainers==2.2.2\n",
      "soupsieve==2.0.1\n",
      "sphinx==3.1.2\n",
      "sphinxcontrib-applehelp==1.0.2\n",
      "sphinxcontrib-devhelp==1.0.2\n",
      "sphinxcontrib-htmlhelp==1.0.3\n",
      "sphinxcontrib-jsmath==1.0.1\n",
      "sphinxcontrib-qthelp==1.0.3\n",
      "sphinxcontrib-serializinghtml==1.1.4\n",
      "sphinxcontrib-websupport==1.2.3\n",
      "spyder-kernels==1.9.2\n",
      "spyder==4.1.4\n",
      "sqlalchemy==1.3.18\n",
      "statsmodels==0.11.1\n",
      "sympy==1.6.1\n",
      "tables==3.6.1\n",
      "tblib==1.6.0\n",
      "terminado==0.8.3\n",
      "testpath==0.4.4\n",
      "threadpoolctl==2.1.0\n",
      "toml==0.10.1\n",
      "toolz==0.10.0\n",
      "tornado==6.0.4\n",
      "tqdm==4.47.0\n",
      "traitlets==4.3.3\n",
      "typing-extensions==3.7.4.2\n",
      "ujson==1.35\n",
      "unicodecsv==0.14.1\n",
      "urllib3==1.25.9\n",
      "watchdog==0.10.3\n",
      "wcwidth==0.2.5\n",
      "webencodings==0.5.1\n",
      "werkzeug==1.0.1\n",
      "wheel==0.34.2\n",
      "widgetsnbextension==3.5.1\n",
      "win-inet-pton==1.1.0\n",
      "win-unicode-console==0.5\n",
      "wincertstore==0.2\n",
      "wrapt==1.11.2\n",
      "xlrd==1.2.0\n",
      "xlsxwriter==1.2.9\n",
      "xlwings==0.19.5\n",
      "xlwt==1.3.0\n",
      "xmltodict==0.12.0\n",
      "yapf==0.30.0\n",
      "zict==2.0.0\n",
      "zipp==3.1.0\n",
      "zope.event==4.4\n",
      "zope.interface==4.7.1\n"
     ]
    }
   ],
   "source": [
    "import pkg_resources\n",
    "installed_packages = pkg_resources.working_set\n",
    "installed_packages_list = sorted([\"%s==%s\" % (i.key, i.version)\n",
    "     for i in installed_packages])\n",
    "for m in installed_packages_list:\n",
    "    print(m)"
   ]
  },
  {
   "cell_type": "markdown",
   "metadata": {},
   "source": [
    "### Q 160. Write a Python program to display some information about the OS where the script is running."
   ]
  },
  {
   "cell_type": "code",
   "execution_count": 11,
   "metadata": {},
   "outputs": [
    {
     "name": "stdout",
     "output_type": "stream",
     "text": [
      "architecture: ('64bit', 'WindowsPE')\n",
      "mac_ver: ('', ('', '', ''), '')\n",
      "machine: AMD64\n",
      "node: DESKTOP-RSU4EAO\n",
      "platform: Windows-10-10.0.18362-SP0\n",
      "processor: Intel64 Family 6 Model 78 Stepping 3, GenuineIntel\n",
      "python_build: ('default', 'Jul  2 2020 17:30:36')\n",
      "python_compiler: MSC v.1916 64 bit (AMD64)\n",
      "python_version: 3.8.3\n",
      "release: 10\n",
      "system: Windows\n",
      "uname: uname_result(system='Windows', node='DESKTOP-RSU4EAO', release='10', version='10.0.18362', machine='AMD64', processor='Intel64 Family 6 Model 78 Stepping 3, GenuineIntel')\n",
      "version: 10.0.18362\n"
     ]
    }
   ],
   "source": [
    "import platform as pl\n",
    "\n",
    "os_profile = [\n",
    "        'architecture',\n",
    "        'linux_distribution',\n",
    "        'mac_ver',\n",
    "        'machine',\n",
    "        'node',\n",
    "        'platform',\n",
    "        'processor',\n",
    "        'python_build',\n",
    "        'python_compiler',\n",
    "        'python_version',\n",
    "        'release',\n",
    "        'system',\n",
    "        'uname',\n",
    "        'version',\n",
    "    ]\n",
    "for key in os_profile:\n",
    "  if hasattr(pl, key):\n",
    "    print(key +  \": \" + str(getattr(pl, key)()))"
   ]
  },
  {
   "cell_type": "markdown",
   "metadata": {},
   "source": [
    "### Q 161. Write a Python program to check the sum of three elements (each from an array) from three arrays is equal to a target value. Print all those three-element combinations. \n",
    "    Sample data:\n",
    "    /*\n",
    "    X = [10, 20, 20, 20]\n",
    "    Y = [10, 20, 30, 40]\n",
    "    Z = [10, 30, 40, 20]\n",
    "    target = 70\n",
    "    */"
   ]
  },
  {
   "cell_type": "code",
   "execution_count": 12,
   "metadata": {},
   "outputs": [
    {
     "name": "stdout",
     "output_type": "stream",
     "text": [
      "{(10, 20, 40)}\n",
      "{(10, 30, 30), (10, 20, 40)}\n",
      "{(10, 30, 30), (10, 20, 40), (10, 40, 20)}\n",
      "{(10, 30, 30), (20, 10, 40), (10, 20, 40), (10, 40, 20)}\n",
      "{(10, 20, 40), (20, 20, 30), (20, 10, 40), (10, 40, 20), (10, 30, 30)}\n",
      "{(10, 20, 40), (20, 20, 30), (20, 10, 40), (10, 40, 20), (20, 30, 20), (10, 30, 30)}\n",
      "{(10, 20, 40), (20, 40, 10), (20, 20, 30), (20, 10, 40), (10, 40, 20), (20, 30, 20), (10, 30, 30)}\n"
     ]
    }
   ],
   "source": [
    "import itertools\n",
    "from functools import partial\n",
    "X = [10, 20, 20, 20]\n",
    "Y = [10, 20, 30, 40]\n",
    "Z = [10, 30, 40, 20]\n",
    "T = 70\n",
    "\n",
    "def check_sum_array(N, *nums):\n",
    "  if sum(x for x in nums) == N:\n",
    "    return (True, nums)\n",
    "  else:\n",
    "      return (False, nums)\n",
    "pro = itertools.product(X,Y,Z)\n",
    "func = partial(check_sum_array, T)\n",
    "sums = list(itertools.starmap(func, pro))\n",
    "\n",
    "result = set()\n",
    "for s in sums:\n",
    "    if s[0] == True and s[1] not in result:\n",
    "      result.add(s[1])\n",
    "      print(result)"
   ]
  },
  {
   "cell_type": "markdown",
   "metadata": {},
   "source": [
    "### Q 162. Write a Python program to create all possible permutations from a given collection of distinct numbers."
   ]
  },
  {
   "cell_type": "code",
   "execution_count": 13,
   "metadata": {},
   "outputs": [
    {
     "name": "stdout",
     "output_type": "stream",
     "text": [
      "Original Cofllection:  [1, 2, 3]\n",
      "Collection of distinct numbers:\n",
      " [[3, 2, 1], [2, 3, 1], [2, 1, 3], [3, 1, 2], [1, 3, 2], [1, 2, 3]]\n"
     ]
    }
   ],
   "source": [
    "def permute(nums):\n",
    "  result_perms = [[]]\n",
    "  for n in nums:\n",
    "    new_perms = []\n",
    "    for perm in result_perms:\n",
    "      for i in range(len(perm)+1):\n",
    "        new_perms.append(perm[:i] + [n] + perm[i:])\n",
    "        result_perms = new_perms\n",
    "  return result_perms\n",
    "\n",
    "my_nums = [1,2,3]\n",
    "print(\"Original Cofllection: \",my_nums)\n",
    "print(\"Collection of distinct numbers:\\n\",permute(my_nums))"
   ]
  },
  {
   "cell_type": "markdown",
   "metadata": {},
   "source": [
    "### Q 163. Write a Python program to get all possible two digit letter combinations from a digit (1 to 9) string. \n",
    "    string_maps = {\n",
    "    \"1\": \"abc\",\n",
    "    \"2\": \"def\",\n",
    "    \"3\": \"ghi\",\n",
    "    \"4\": \"jkl\",\n",
    "    \"5\": \"mno\",\n",
    "    \"6\": \"pqrs\",\n",
    "    \"7\": \"tuv\",\n",
    "    \"8\": \"wxy\",\n",
    "    \"9\": \"z\"\n",
    "    }"
   ]
  },
  {
   "cell_type": "code",
   "execution_count": 14,
   "metadata": {},
   "outputs": [
    {
     "name": "stdout",
     "output_type": "stream",
     "text": [
      "['jt', 'ju', 'jv', 'kt', 'ku', 'kv', 'lt', 'lu', 'lv']\n",
      "['dz', 'ez', 'fz']\n"
     ]
    }
   ],
   "source": [
    "def letter_combinations(digits):\n",
    "    if digits == \"\":\n",
    "        return []\n",
    "    string_maps = {\n",
    "        \"1\": \"abc\",\n",
    "        \"2\": \"def\",\n",
    "        \"3\": \"ghi\",\n",
    "        \"4\": \"jkl\",\n",
    "        \"5\": \"mno\",\n",
    "        \"6\": \"pqrs\",\n",
    "        \"7\": \"tuv\",\n",
    "        \"8\": \"wxy\",\n",
    "        \"9\": \"z\"\n",
    "    }\n",
    "    result = [\"\"]\n",
    "    for num in digits:\n",
    "        temp = []\n",
    "        for an in result:\n",
    "            for char in string_maps[num]:\n",
    "                temp.append(an + char)\n",
    "        result = temp\n",
    "    return result\n",
    "\n",
    "digit_string = \"47\"\n",
    "print(letter_combinations(digit_string))\n",
    "digit_string = \"29\"\n",
    "print(letter_combinations(digit_string))"
   ]
  },
  {
   "cell_type": "markdown",
   "metadata": {},
   "source": [
    "### Q 164. Write a Python program to add two positive integers without using the '+' operator. \n",
    "Note: Use bit wise operations to add two numbers."
   ]
  },
  {
   "cell_type": "code",
   "execution_count": 15,
   "metadata": {},
   "outputs": [
    {
     "name": "stdout",
     "output_type": "stream",
     "text": [
      "12\n",
      "-10\n",
      "-30\n"
     ]
    }
   ],
   "source": [
    "def add_without_plus_operator(a, b):\n",
    "    while b != 0:\n",
    "        data = a & b\n",
    "        a = a ^ b\n",
    "        b = data << 1\n",
    "    return a\n",
    "print(add_without_plus_operator(2, 10))\n",
    "print(add_without_plus_operator(-20, 10))\n",
    "print(add_without_plus_operator(-10, -20))"
   ]
  },
  {
   "cell_type": "markdown",
   "metadata": {},
   "source": [
    "### Q 165. Write a Python program to check the priority of the four operators (+, -, *, /)."
   ]
  },
  {
   "cell_type": "code",
   "execution_count": 16,
   "metadata": {},
   "outputs": [
    {
     "name": "stdout",
     "output_type": "stream",
     "text": [
      "True\n",
      "True\n",
      "False\n",
      "False\n",
      "True\n"
     ]
    }
   ],
   "source": [
    "from collections import deque\n",
    "import re\n",
    "\n",
    "__operators__ = \"+-/*\"\n",
    "__parenthesis__ = \"()\"\n",
    "__priority__ = {\n",
    "    '+': 0,\n",
    "    '-': 0,\n",
    "    '*': 1,\n",
    "    '/': 1,\n",
    "}\n",
    "\n",
    "def test_higher_priority(operator1, operator2):\n",
    "    return __priority__[operator1] >= __priority__[operator2]\n",
    "\n",
    "print(test_higher_priority('*','-'))\n",
    "print(test_higher_priority('+','-'))\n",
    "print(test_higher_priority('+','*'))\n",
    "print(test_higher_priority('+','/'))\n",
    "print(test_higher_priority('*','/'))"
   ]
  },
  {
   "cell_type": "markdown",
   "metadata": {},
   "source": [
    "### Q 166. Write a Python program to get the third side of right angled triangle from two given sides."
   ]
  },
  {
   "cell_type": "code",
   "execution_count": 17,
   "metadata": {},
   "outputs": [
    {
     "name": "stdout",
     "output_type": "stream",
     "text": [
      "Hypotenuse = 5.0\n",
      "Adjacent = 4.0\n",
      "Opposite = 3.0\n",
      "You know the answer!\n"
     ]
    }
   ],
   "source": [
    "def pythagoras(opposite_side,adjacent_side,hypotenuse):\n",
    "        if opposite_side == str(\"x\"):\n",
    "            return (\"Opposite = \" + str(((hypotenuse**2) - (adjacent_side**2))**0.5))\n",
    "        elif adjacent_side == str(\"x\"):\n",
    "            return (\"Adjacent = \" + str(((hypotenuse**2) - (opposite_side**2))**0.5))\n",
    "        elif hypotenuse == str(\"x\"):\n",
    "            return (\"Hypotenuse = \" + str(((opposite_side**2) + (adjacent_side**2))**0.5))\n",
    "        else:\n",
    "            return \"You know the answer!\"\n",
    "    \n",
    "print(pythagoras(3,4,'x'))\n",
    "print(pythagoras(3,'x',5))\n",
    "print(pythagoras('x',4,5))\n",
    "print(pythagoras(3,4,5))"
   ]
  },
  {
   "cell_type": "markdown",
   "metadata": {},
   "source": [
    "### Q 167. Write a Python program to get all strobogrammatic numbers that are of length n.\n",
    "        A strobogrammatic number is a number whose numeral is rotationally symmetric, so that it appears the same when rotated 180 degrees. In other words, the numeral looks the same right-side up and upside down (e.g., 69, 96, 1001).\n",
    "    For example,\n",
    "    Given n = 2, return [\"11\", \"69\", \"88\", \"96\"].\n",
    "    Given n = 3, return ['818', '111', '916', '619', '808', '101', '906', '609', '888', '181', '986', '689']"
   ]
  },
  {
   "cell_type": "code",
   "execution_count": 18,
   "metadata": {},
   "outputs": [
    {
     "name": "stdout",
     "output_type": "stream",
     "text": [
      "n = 2: \n",
      " ['88', '11', '96', '69']\n",
      "n = 3: \n",
      " ['818', '111', '916', '619', '808', '101', '906', '609', '888', '181', '986', '689']\n",
      "n = 4: \n",
      " ['8008', '1001', '9006', '6009', '8888', '1881', '9886', '6889', '8118', '1111', '9116', '6119', '8968', '1961', '9966', '6969', '8698', '1691', '9696', '6699']\n"
     ]
    }
   ],
   "source": [
    "#https://github.com/keon/algorithms/blob/master/math/generate_strobogrammtic.py\n",
    "def gen_strobogrammatic(n):\n",
    "    \"\"\"\n",
    "    :type n: int\n",
    "    :rtype: List[str]\n",
    "    \"\"\"\n",
    "    result = helper(n, n)\n",
    "    return result\n",
    "\n",
    "\n",
    "def helper(n, length):\n",
    "    if n == 0:\n",
    "        return [\"\"]\n",
    "    if n == 1:\n",
    "        return [\"1\", \"0\", \"8\"]\n",
    "    middles = helper(n-2, length)\n",
    "    result = []\n",
    "    for middle in middles:\n",
    "        if n != length:\n",
    "            result.append(\"0\" + middle + \"0\")\n",
    "        result.append(\"8\" + middle + \"8\")\n",
    "        result.append(\"1\" + middle + \"1\")\n",
    "        result.append(\"9\" + middle + \"6\")\n",
    "        result.append(\"6\" + middle + \"9\")\n",
    "    return result\n",
    "\n",
    "print(\"n = 2: \\n\",gen_strobogrammatic(2))\n",
    "print(\"n = 3: \\n\",gen_strobogrammatic(3))\n",
    "print(\"n = 4: \\n\",gen_strobogrammatic(4))"
   ]
  },
  {
   "cell_type": "markdown",
   "metadata": {},
   "source": [
    "### Q 168. Write a Python program to find the median among three given numbers."
   ]
  },
  {
   "cell_type": "code",
   "execution_count": 19,
   "metadata": {},
   "outputs": [
    {
     "name": "stdout",
     "output_type": "stream",
     "text": [
      "Input the first number5\n",
      "Input the second number15\n",
      "Input the third number2\n",
      "Median of the above three numbers -\n",
      "2\n"
     ]
    }
   ],
   "source": [
    "x = input(\"Input the first number\")\n",
    "y = input(\"Input the second number\")\n",
    "z = input(\"Input the third number\")\n",
    "print(\"Median of the above three numbers -\")\n",
    "\n",
    "if y < x and x < z:\n",
    "    print(x)\n",
    "elif z < x and x < y:\n",
    "    print(x)\n",
    "    \n",
    "elif z < y and y < x:\n",
    "    print(y)\n",
    "elif x < y and y < z:\n",
    "    print(y)\n",
    "    \n",
    "elif y < z and z < x:\n",
    "    print(z)    \n",
    "elif x < z and z < y:\n",
    "    print(z)"
   ]
  },
  {
   "cell_type": "markdown",
   "metadata": {},
   "source": [
    "### Q 169. Write a Python program to find the value of n where n degrees of number 2 are written sequentially in a line without spaces."
   ]
  },
  {
   "cell_type": "code",
   "execution_count": 20,
   "metadata": {},
   "outputs": [
    {
     "name": "stdout",
     "output_type": "stream",
     "text": [
      "5\n",
      "6\n"
     ]
    }
   ],
   "source": [
    "def ndegrees(num):\n",
    "  ans = True\n",
    "  n, tempn, i = 2, 2, 2\n",
    "  while ans:\n",
    "    if str(tempn) in num:\n",
    "      i += 1\n",
    "      tempn = pow(n, i)\n",
    "    else:\n",
    "      ans = False\n",
    "  return i-1;\n",
    "print(ndegrees(\"2481632\"))\n",
    "print(ndegrees(\"248163264\"))"
   ]
  },
  {
   "cell_type": "markdown",
   "metadata": {},
   "source": [
    "### Q 170. Write a Python program to find the number of zeros at the end of a factorial of a given positive number.\n",
    "    Range of the number(n): (1 <= n <= 2*109)."
   ]
  },
  {
   "cell_type": "code",
   "execution_count": 21,
   "metadata": {},
   "outputs": [
    {
     "name": "stdout",
     "output_type": "stream",
     "text": [
      "1\n",
      "2\n",
      "24\n"
     ]
    }
   ],
   "source": [
    "def factendzero(n):\n",
    "  x = n // 5\n",
    "  y = x \n",
    "  while x > 0:\n",
    "    x /= 5\n",
    "    y += int(x)\n",
    "  return y\n",
    "       \n",
    "print(factendzero(5))\n",
    "print(factendzero(12))\n",
    "print(factendzero(100))"
   ]
  },
  {
   "cell_type": "markdown",
   "metadata": {},
   "source": [
    "### Q 171. Write a Python program to find the number of notes (Sample of notes: 10, 20, 50, 100, 200 and 500 ) against a given amount. \n",
    "    Range - Number of notes(n) : n (1 <= n <= 1000000)."
   ]
  },
  {
   "cell_type": "code",
   "execution_count": 22,
   "metadata": {},
   "outputs": [
    {
     "name": "stdout",
     "output_type": "stream",
     "text": [
      "6\n",
      "2\n"
     ]
    }
   ],
   "source": [
    "def no_notes(a):\n",
    "  Q = [500, 200, 100, 50, 20, 10]\n",
    "  x = 0\n",
    "  for i in range(6):\n",
    "    q = Q[i]\n",
    "    x += int(a / q)\n",
    "    a = int(a % q)\n",
    "  if a > 0:\n",
    "    x = -1\n",
    "  return x\n",
    "print(no_notes(880))\n",
    "print(no_notes(1000))"
   ]
  },
  {
   "cell_type": "markdown",
   "metadata": {},
   "source": [
    "### Q 172. Write a Python program to create a sequence where the first four members of the sequence are equal to one, and each successive term of the sequence is equal to the sum of the four previous ones. Find the Nth member of the sequence. "
   ]
  },
  {
   "cell_type": "code",
   "execution_count": 23,
   "metadata": {},
   "outputs": [
    {
     "name": "stdout",
     "output_type": "stream",
     "text": [
      "4\n",
      "7\n",
      "13\n"
     ]
    }
   ],
   "source": [
    "def new_seq(n):\n",
    "    if n==1 or n==2 or n==3 or n==4:\n",
    "        return 1\n",
    "    return new_seq(n-1) + new_seq(n-2) + new_seq(n-3) + new_seq(n-4)\n",
    "print(new_seq(5))\n",
    "print(new_seq(6))\n",
    "print(new_seq(7))"
   ]
  },
  {
   "cell_type": "markdown",
   "metadata": {},
   "source": [
    "### Q 173. Write a Python program that accept a positive number and subtract from this number the sum of its digits and so on. Continues this operation until the number is positive."
   ]
  },
  {
   "cell_type": "code",
   "execution_count": 24,
   "metadata": {},
   "outputs": [
    {
     "name": "stdout",
     "output_type": "stream",
     "text": [
      "1\n",
      "3\n"
     ]
    }
   ],
   "source": [
    "def repeat_times(n):\n",
    "  s = 0\n",
    "  n_str = str(n)\n",
    "  while (n > 0):\n",
    "    n -= sum([int(i) for i in list(n_str)])\n",
    "    n_str = list(str(n))\n",
    "    s += 1\n",
    "  return s\n",
    "print(repeat_times(9))\n",
    "print(repeat_times(21))"
   ]
  },
  {
   "cell_type": "markdown",
   "metadata": {},
   "source": [
    "### Q 174. Write a Python program to find the number of divisors of a given integer is even or odd."
   ]
  },
  {
   "cell_type": "code",
   "execution_count": 25,
   "metadata": {},
   "outputs": [
    {
     "name": "stdout",
     "output_type": "stream",
     "text": [
      "4\n",
      "6\n",
      "3\n",
      "4\n",
      "2\n"
     ]
    }
   ],
   "source": [
    "def divisor(n):\n",
    "  for i in range(n):\n",
    "    x = len([i for i in range(1,n+1) if not n % i])\n",
    "  return x\n",
    "print(divisor(15))\n",
    "print(divisor(12))\n",
    "print(divisor(9))\n",
    "print(divisor(6))\n",
    "print(divisor(3))"
   ]
  },
  {
   "cell_type": "markdown",
   "metadata": {},
   "source": [
    "### Q 175. Write a Python program to find the digits which are absent in a given mobile number. "
   ]
  },
  {
   "cell_type": "code",
   "execution_count": 26,
   "metadata": {},
   "outputs": [
    {
     "name": "stdout",
     "output_type": "stream",
     "text": [
      "[1, 4, 5]\n"
     ]
    }
   ],
   "source": [
    "def absent_digits(n):\n",
    "  all_nums = set([0,1,2,3,4,5,6,7,8,9])\n",
    "  n = set([int(i) for i in n])\n",
    "  n = n.symmetric_difference(all_nums)\n",
    "  n = sorted(n)\n",
    "  return n\n",
    "print(absent_digits([9,8,3,2,2,0,9,7,6,3]))"
   ]
  },
  {
   "cell_type": "markdown",
   "metadata": {},
   "source": [
    "### Q 176. Write a Python program to compute the summation of the absolute difference of all distinct pairs in an given array (non-decreasing order). \n",
    "    Sample array: [1, 2, 3]\n",
    "    Then all the distinct pairs will be:\n",
    "    1 2\n",
    "    1 3\n",
    "    2 3"
   ]
  },
  {
   "cell_type": "code",
   "execution_count": 27,
   "metadata": {},
   "outputs": [
    {
     "name": "stdout",
     "output_type": "stream",
     "text": [
      "4\n",
      "8\n"
     ]
    }
   ],
   "source": [
    "def sum_distinct_pairs(arr):\n",
    "    result = 0\n",
    "    i = 0\n",
    "    while i<len(arr):\n",
    "        result+=i*arr[i]-(len(arr)-i-1)*arr[i]\n",
    "        i+=1\n",
    "    return result\n",
    "print(sum_distinct_pairs([1,2,3]))\n",
    "print(sum_distinct_pairs([1,4,5]))"
   ]
  },
  {
   "cell_type": "markdown",
   "metadata": {},
   "source": [
    "### Q 177. Write a Python program to find the type of the progression (arithmetic progression/geometric progression) and the next successive member of a given three successive members of a sequence. \n",
    "    According to Wikipedia, an arithmetic progression (AP) is a sequence of numbers such that the difference of any two successive members of the sequence is a constant. For instance, the sequence 3, 5, 7, 9, 11, 13, . . . is an arithmetic progression with common difference 2. For this problem, we will limit ourselves to arithmetic progression whose common difference is a non-zero integer.\n",
    "    On the other hand, a geometric progression (GP) is a sequence of numbers where each term after the first is found by multiplying the previous one by a fixed non-zero number called the common ratio. For example, the sequence 2, 6, 18, 54, . . . is a geometric progression with common ratio 3. For this problem, we will limit ourselves to geometric progression whose common ratio is a non-zero integer."
   ]
  },
  {
   "cell_type": "code",
   "execution_count": 28,
   "metadata": {},
   "outputs": [
    {
     "name": "stdout",
     "output_type": "stream",
     "text": [
      "AP sequence, Next number of the sequence: 4\n",
      "GP sequence, Next number of the sequence:  54.0\n",
      "Wrong Numbers\n"
     ]
    }
   ],
   "source": [
    "def ap_gp_sequence(arr):\n",
    "  if arr[0]==arr[1]==arr[2]==0:\n",
    "    return \"Wrong Numbers\"\n",
    "  else:\n",
    "    if arr[1]-arr[0]==arr[2]-arr[1]:\n",
    "      n=2*arr[2]-arr[1]\n",
    "      return \"AP sequence, \"+'Next number of the sequence: '+str(n)\n",
    "    else:\n",
    "      n=arr[2]**2/arr[1]\n",
    "      return \"GP sequence, \" + 'Next number of the sequence:  '+str(n)\n",
    "\n",
    "print(ap_gp_sequence([1,2,3]))\n",
    "print(ap_gp_sequence([2,6,18]))\n",
    "print(ap_gp_sequence([0,0,0]))"
   ]
  },
  {
   "cell_type": "markdown",
   "metadata": {},
   "source": [
    "### Q 178. Write a Python program to print the length of the series and the series from the given 3rd term, 3rd last term and the sum of a series. \n",
    "    Sample Data:\n",
    "    Input third term of the series: 3\n",
    "    Input 3rd last term: 3\n",
    "    Sum of the series: 15\n",
    "    Length of the series: 5\n",
    "    Series:\n",
    "    1 2 3 4 5"
   ]
  },
  {
   "cell_type": "code",
   "execution_count": 29,
   "metadata": {},
   "outputs": [
    {
     "name": "stdout",
     "output_type": "stream",
     "text": [
      "Input third term of the series:3\n",
      "Input 3rd last term:3\n",
      "Sum of the series:15\n",
      "Length of the series:  5\n",
      "Series:\n",
      "1 2 3 4 5 "
     ]
    }
   ],
   "source": [
    "tn = int(input(\"Input third term of the series:\"))\n",
    "tltn = int(input(\"Input 3rd last term:\"))\n",
    "s_sum = int(input(\"Sum of the series:\"))\n",
    "n = int(2*s_sum/(tn+tltn))\n",
    "print(\"Length of the series: \",n)\n",
    "\n",
    "\n",
    "if n-5==0:\n",
    "  d = (s_sum-3*tn)//6\n",
    "else:\n",
    "  d = (tltn-tn)/(n-5)\n",
    "\n",
    "a = tn-2*d\n",
    "j = 0\n",
    "print(\"Series:\")\n",
    "for j in range(n-1):\n",
    "  print(int(a),end=\" \")\n",
    "  a+=d\n",
    "print(int(a),end=\" \")"
   ]
  },
  {
   "cell_type": "markdown",
   "metadata": {},
   "source": [
    "### Q 179. Write a Python program to find common divisors between two numbers in a given pair. "
   ]
  },
  {
   "cell_type": "code",
   "execution_count": 30,
   "metadata": {},
   "outputs": [
    {
     "name": "stdout",
     "output_type": "stream",
     "text": [
      "Number of common divisors:  2\n",
      "Number of common divisors:  2\n",
      "Number of common divisors:  6\n"
     ]
    }
   ],
   "source": [
    "def ngcd(x, y):\n",
    "    i=1\n",
    "    while(i<=x and i<=y):\n",
    "        if(x%i==0 and y%i == 0):\n",
    "            gcd=i;\n",
    "        i+=1\n",
    "    return gcd;\n",
    "def num_comm_div(x, y):\n",
    "  n = ngcd(x, y)\n",
    "  result = 0\n",
    "  z = int(n**0.5)\n",
    "  i = 1\n",
    "  while( i <= z ):\n",
    "    if(n % i == 0):\n",
    "      result += 2 \n",
    "      if(i == n/i):\n",
    "        result-=1\n",
    "    i+=1\n",
    "  return result\n",
    "\n",
    "print(\"Number of common divisors: \",num_comm_div(2, 4))\n",
    "print(\"Number of common divisors: \",num_comm_div(2, 8))\n",
    "print(\"Number of common divisors: \",num_comm_div(12, 24))"
   ]
  },
  {
   "cell_type": "markdown",
   "metadata": {},
   "source": [
    "### Q 180. Write a Python program to reverse the digits of a given number and add it to the original, If the sum is not a palindrome repeat this procedure. \n",
    "Note: A palindrome is a word, number, or other sequence of characters which reads the same backward as forward, such as madam or racecar."
   ]
  },
  {
   "cell_type": "code",
   "execution_count": 31,
   "metadata": {},
   "outputs": [
    {
     "name": "stdout",
     "output_type": "stream",
     "text": [
      "5555\n",
      "9339\n"
     ]
    }
   ],
   "source": [
    "def rev_number(n):\n",
    "  s = 0\n",
    "  while True:\n",
    "    k = str(n)\n",
    "    if k == k[::-1]:\n",
    "      break\n",
    "    else:\n",
    "      m = int(k[::-1])\n",
    "      n += m\n",
    "      s += 1\n",
    "  return n \n",
    "\n",
    "print(rev_number(1234))\n",
    "print(rev_number(1473))"
   ]
  },
  {
   "cell_type": "markdown",
   "metadata": {},
   "source": [
    "### Q 181. Write a Python program to count the number of carry operations for each of a set of addition problems. \n",
    "    According to Wikipedia \" In elementary arithmetic, a carry is a digit that is transferred from one column of digits to another column of more significant digits. It is part of the standard algorithm to add numbers together by starting with the rightmost digits and working to the left. For example, when 6 and 7 are added to make 13, the \"3\" is written to the same column and the \"1\" is carried to the left\"."
   ]
  },
  {
   "cell_type": "code",
   "execution_count": 32,
   "metadata": {},
   "outputs": [
    {
     "name": "stdout",
     "output_type": "stream",
     "text": [
      "3\n",
      "1\n"
     ]
    }
   ],
   "source": [
    "def carry_number(x, y):\n",
    "  ctr = 0\n",
    "  if(x == 0 and y == 0):\n",
    "    return 0\n",
    "  z = 0  \n",
    "  for i in reversed(range(10)):\n",
    "      z = x%10 + y%10 + z\n",
    "      if z > 9:\n",
    "        z = 1\n",
    "      else:\n",
    "        z = 0\n",
    "      ctr += z\n",
    "      x //= 10\n",
    "      y //= 10\n",
    "      \n",
    "  if ctr == 0:\n",
    "    return \"No carry operation.\"\n",
    "  elif ctr == 1:\n",
    "    return ctr\n",
    "  else:\n",
    "    return ctr\n",
    "print(carry_number(786, 457))\n",
    "print(carry_number(5, 6))"
   ]
  },
  {
   "cell_type": "markdown",
   "metadata": {},
   "source": [
    "### Q 182. Write a python program to find heights of the top three building in descending order from eight given buildings. \n",
    "    Input:\n",
    "    0 <= height of building (integer) <= 10,000\n",
    "    Input the heights of eight buildings:\n",
    "    25\n",
    "    35\n",
    "    15\n",
    "    16\n",
    "    30\n",
    "    45\n",
    "    37\n",
    "    39\n",
    "    Heights of the top three buildings:\n",
    "    45\n",
    "    39\n",
    "    37"
   ]
  },
  {
   "cell_type": "code",
   "execution_count": 33,
   "metadata": {},
   "outputs": [
    {
     "name": "stdout",
     "output_type": "stream",
     "text": [
      "Input the heights of eight buildings:\n",
      "15\n",
      "25\n",
      "4\n",
      "23\n",
      "54\n",
      "65\n",
      "2\n",
      "45\n",
      "Heights of the top three buildings:\n",
      "65\n",
      "54\n",
      "45\n"
     ]
    }
   ],
   "source": [
    "print(\"Input the heights of eight buildings:\")\n",
    "l = [int(input()) for i in range(8)]\n",
    "print(\"Heights of the top three buildings:\")\n",
    "l = sorted(l)\n",
    "print(*l[:4:-1], sep='\\n')"
   ]
  },
  {
   "cell_type": "markdown",
   "metadata": {},
   "source": [
    "### Q 183. Write a Python program to compute the digit number of sum of two given integers.\n",
    "    Input:\n",
    "    Each test case consists of two non-negative integers x and y which are separated by a space in a line.\n",
    "    0 <= x, y <= 1,000,000\n",
    "    Input two integers(a b):\n",
    "    5 7\n",
    "    Sum of two integers a and b.:\n",
    "    2"
   ]
  },
  {
   "cell_type": "code",
   "execution_count": 35,
   "metadata": {},
   "outputs": [
    {
     "name": "stdout",
     "output_type": "stream",
     "text": [
      "Input two integers(a b): \n",
      "11 13\n",
      "Number of digit of a and b.:\n",
      "2\n"
     ]
    }
   ],
   "source": [
    "print(\"Input two integers(a b): \")\n",
    "a,b = map(int,input().split(\" \"))\n",
    "print(\"Number of digit of a and b.:\")\n",
    "print(len(str(a+b)))"
   ]
  },
  {
   "cell_type": "markdown",
   "metadata": {},
   "source": [
    "### Q 184. Write a Python program to check whether three given lengths (integers) of three sides form a right triangle. Print \"Yes\" if the given sides form a right triangle otherwise print \"No\". \n",
    "    Input:\n",
    "    Integers separated by a single space.\n",
    "    1 <= length of the side <= 1,000\n",
    "    Input three integers(sides of a triangle)\n",
    "    8 6 7\n",
    "    No"
   ]
  },
  {
   "cell_type": "code",
   "execution_count": 36,
   "metadata": {},
   "outputs": [
    {
     "name": "stdout",
     "output_type": "stream",
     "text": [
      "Input three integers(sides of a triangle)\n",
      "5 9 8\n",
      "No\n"
     ]
    }
   ],
   "source": [
    "print(\"Input three integers(sides of a triangle)\")\n",
    "int_num = list(map(int,input().split()))\n",
    "x,y,z = sorted(int_num)\n",
    "if x**2+y**2==z**2:\n",
    "    print('Yes')\n",
    "else:\n",
    "    print('No')"
   ]
  },
  {
   "cell_type": "markdown",
   "metadata": {},
   "source": [
    "### Q 185. Write a Python program which solve the equation: \n",
    "    ax+by=c\n",
    "    dx+ey=f\n",
    "    Print the values of x, y where a, b, c, d, e and f are given.\n",
    "    Input:\n",
    "    a,b,c,d,e,f separated by a single space.\n",
    "    (-1,000 <= a,b,c,d,e,f <= 1,000)\n",
    "    Input the value of a, b, c, d, e, f:\n",
    "    5 8 6 7 9 4\n",
    "    Values of x and y:\n",
    "    -2.000 2.000"
   ]
  },
  {
   "cell_type": "code",
   "execution_count": 37,
   "metadata": {},
   "outputs": [
    {
     "name": "stdout",
     "output_type": "stream",
     "text": [
      "Input the value of a, b, c, d, e, f:\n",
      "5 8 6 7 9 4\n",
      "Values of x and y:\n",
      "-2.000 2.000\n"
     ]
    }
   ],
   "source": [
    "print(\"Input the value of a, b, c, d, e, f:\")\n",
    "a, b, c, d, e, f = map(float, input().split())\n",
    "n = a*e - b*d\n",
    "print(\"Values of x and y:\")\n",
    "if n != 0:\n",
    "    x = (c*e - b*f) / n\n",
    "    y = (a*f - c*d) / n\n",
    "    print('{:.3f} {:.3f}'.format(x+0, y+0))"
   ]
  },
  {
   "cell_type": "markdown",
   "metadata": {},
   "source": [
    "### Q 186. Write a Python program to compute the amount of the debt in n months. The borrowing amount is 100,000 and the loan adds 5% interest of the debt and rounds it to the nearest 1,000 above month by month.\n",
    "    Input:\n",
    "    An integer n (0 <= n <= 100)\n",
    "    Input number of months: 7\n",
    "    Amount of debt: $144000"
   ]
  },
  {
   "cell_type": "code",
   "execution_count": 38,
   "metadata": {},
   "outputs": [
    {
     "name": "stdout",
     "output_type": "stream",
     "text": [
      "Input number of months:\n",
      "7\n",
      "Amount of debt:  $144000\n"
     ]
    }
   ],
   "source": [
    "def round_n(n):\n",
    "    if n%1000:\n",
    "        return (1+n//1000)*1000\n",
    "    else:\n",
    "        return n\n",
    "     \n",
    "def compute_debt(n):\n",
    "    if n==0: return 100000\n",
    "    return int(round_n(compute_debt(n-1)*1.05))\n",
    "\n",
    "print(\"Input number of months:\")\n",
    "result = compute_debt(int(input()))\n",
    "print(\"Amount of debt: \",\"$\"+str(result).strip())"
   ]
  },
  {
   "cell_type": "markdown",
   "metadata": {},
   "source": [
    "### Q 187. Write a Python program which reads an integer n and find the number of combinations of a,b,c and d (0 <= a,b,c,d <= 9) where (a + b + c + d) will be equal to n. \n",
    "    Input:\n",
    "    n (1 <= n <= 50)\n",
    "    Input the number(n): 15\n",
    "    Number of combinations: 592"
   ]
  },
  {
   "cell_type": "code",
   "execution_count": 39,
   "metadata": {},
   "outputs": [
    {
     "name": "stdout",
     "output_type": "stream",
     "text": [
      "Input the number(n):\n",
      "15\n",
      "Number of combinations: 592\n"
     ]
    }
   ],
   "source": [
    "import itertools\n",
    "print(\"Input the number(n):\")\n",
    "n=int(input())\n",
    "result=0\n",
    "for (i,j,k) in itertools.product(range(10),range(10),range(10)):\n",
    "    result+=(0<=n-(i+j+k)<=9)\n",
    "print(\"Number of combinations:\",result)"
   ]
  },
  {
   "cell_type": "markdown",
   "metadata": {},
   "source": [
    "### Q 188. Write a Python program to print the number of prime numbers which are less than or equal to a given integer. \n",
    "    Input:\n",
    "    n (1 <= n <= 999,999)\n",
    "    Input the number(n): 35\n",
    "    Number of prime numbers which are less than or equal to n.: 11"
   ]
  },
  {
   "cell_type": "code",
   "execution_count": 40,
   "metadata": {},
   "outputs": [
    {
     "name": "stdout",
     "output_type": "stream",
     "text": [
      "Input the number(n):\n",
      "35\n",
      "Number of prime numbers which are less than or equal to n.: 11\n"
     ]
    }
   ],
   "source": [
    "primes = [1] * 500000\n",
    "primes[0] = 0\n",
    " \n",
    "for i in range(3, 1000, 2):\n",
    "    if primes[i // 2]:\n",
    "        primes[(i * i) // 2::i] = [0] * len(primes[(i * i) // 2::i])\n",
    " \n",
    "print(\"Input the number(n):\")\n",
    "n=int(input())\n",
    "if n < 4:\n",
    "    print(\"Number of prime numbers which are less than or equal to n.:\",n - 1)\n",
    "else:\n",
    "    print(\"Number of prime numbers which are less than or equal to n.:\",sum(primes[:(n + 1) // 2]) + 1)"
   ]
  },
  {
   "cell_type": "markdown",
   "metadata": {},
   "source": [
    "### Q 189. Write a program to compute the radius and the central coordinate (x, y) of a circle which is constructed by three given points on the plane surface. \n",
    "    Input:\n",
    "    x1, y1, x2, y2, x3, y3 separated by a single space.\n",
    "    Input three coordinate of the circle:\n",
    "    9 3 6 8 3 6\n",
    "    Radius of the said circle:\n",
    "    3.358\n",
    "    Central coordinate (x, y) of the circle:\n",
    "    6.071 4.643"
   ]
  },
  {
   "cell_type": "code",
   "execution_count": 41,
   "metadata": {},
   "outputs": [
    {
     "name": "stdout",
     "output_type": "stream",
     "text": [
      "Input three coordinate of the circle:\n",
      "9 3 6 8 3 6\n",
      "Radius of the said circle:\n",
      "3.358\n",
      "Central coordinate (x, y) of the circle:\n",
      "6.071 4.643\n"
     ]
    }
   ],
   "source": [
    "print(\"Input three coordinate of the circle:\")\n",
    "x1, y1, x2, y2, x3, y3 = map(float, input().split())\n",
    "c = (x1-x2)**2 + (y1-y2)**2\n",
    "a = (x2-x3)**2 + (y2-y3)**2\n",
    "b = (x3-x1)**2 + (y3-y1)**2\n",
    "s = 2*(a*b + b*c + c*a) - (a*a + b*b + c*c) \n",
    "px = (a*(b+c-a)*x1 + b*(c+a-b)*x2 + c*(a+b-c)*x3) / s\n",
    "py = (a*(b+c-a)*y1 + b*(c+a-b)*y2 + c*(a+b-c)*y3) / s \n",
    "ar = a**0.5\n",
    "br = b**0.5\n",
    "cr = c**0.5 \n",
    "r = ar*br*cr / ((ar+br+cr)*(-ar+br+cr)*(ar-br+cr)*(ar+br-cr))**0.5\n",
    "print(\"Radius of the said circle:\")\n",
    "print(\"{:>.3f}\".format(r))\n",
    "print(\"Central coordinate (x, y) of the circle:\")\n",
    "print(\"{:>.3f}\".format(px),\"{:>.3f}\".format(py))"
   ]
  },
  {
   "cell_type": "markdown",
   "metadata": {},
   "source": [
    "### Q 190. Write a Python program to check whether a point (x,y) is in a triangle or not. There is a triangle formed by three points. \n",
    "    Input:\n",
    "    x1,y1,x2,y2,x3,y3,xp,yp separated by a single space.\n",
    "    Input three coordinate of the circle:\n",
    "    9 3 6 8 3 6\n",
    "    Radius of the said circle:\n",
    "    3.358\n",
    "    Central coordinate (x, y) of the circle:\n",
    "    6.071 4.643"
   ]
  },
  {
   "cell_type": "code",
   "execution_count": 43,
   "metadata": {},
   "outputs": [
    {
     "name": "stdout",
     "output_type": "stream",
     "text": [
      "Input x1,y1,x2,y2,x3,y3,xp,yp:\n",
      "9 3 6 8 3 6 3.358 6.071\n",
      "The point is in the triangle.\n"
     ]
    }
   ],
   "source": [
    "print(\"Input x1,y1,x2,y2,x3,y3,xp,yp:\")\n",
    "x1,y1,x2,y2,x3,y3,xp,yp = map(float, input().split())\n",
    "c1 = (x2-x1)*(yp-y1)-(y2-y1)*(xp-x1)\n",
    "c2 = (x3-x2)*(yp-y2)-(y3-y2)*(xp-x2)\n",
    "c3 = (x1-x3)*(yp-y3)-(y1-y3)*(xp-x3)\n",
    "if (c1<0 and c2<0 and c3<0) or (c1>0 and c2>0 and c3>0):\n",
    "    print(\"The point is in the triangle.\")\n",
    "else:\n",
    "    print(\"The point is outside the triangle.\")"
   ]
  },
  {
   "cell_type": "markdown",
   "metadata": {},
   "source": [
    "### Q 191. Write a Python program to compute and print sum of two given integers (more than or equal to zero). If given integers or the sum have more than 80 digits, print \"overflow\". \n",
    "    Input first integer:\n",
    "    25\n",
    "    Input second integer:\n",
    "    22\n",
    "    Sum of the two integers: 47"
   ]
  },
  {
   "cell_type": "code",
   "execution_count": 44,
   "metadata": {},
   "outputs": [
    {
     "name": "stdout",
     "output_type": "stream",
     "text": [
      "Input first integer:\n",
      "25\n",
      "Input second integer:\n",
      "22\n",
      "Sum of the two integers:  47\n"
     ]
    }
   ],
   "source": [
    "print(\"Input first integer:\")\n",
    "x = int(input())\n",
    "print(\"Input second integer:\")\n",
    "y = int(input())\n",
    "if x >= 10 ** 80 or y >= 10 ** 80 or x + y >= 10 ** 80:\n",
    "    print(\"Overflow!\")\n",
    "else:\n",
    "    print(\"Sum of the two integers: \",x + y)"
   ]
  },
  {
   "cell_type": "markdown",
   "metadata": {},
   "source": [
    "### Q 192. Write a Python program that accepts six numbers as input and sorts them in descending order. \n",
    "    Input:\n",
    "    Input consists of six numbers n1, n2, n3, n4, n5, n6 (-100000 <= n1, n2, n3, n4, n5, n6 <= 100000). The six numbers are separated by a space.\n",
    "    Input six integers:\n",
    "    15 30 25 14 35 40\n",
    "    After sorting the said integers:\n",
    "    40 35 30 25 15 14"
   ]
  },
  {
   "cell_type": "code",
   "execution_count": 45,
   "metadata": {},
   "outputs": [
    {
     "name": "stdout",
     "output_type": "stream",
     "text": [
      "Input six integers:\n",
      "15 30 25 14 35 40\n",
      "After sorting the said ntegers:\n",
      "40 35 30 25 15 14\n"
     ]
    }
   ],
   "source": [
    "print(\"Input six integers:\")\n",
    "nums = list(map(int, input().split()))\n",
    "nums.sort()\n",
    "nums.reverse()\n",
    "print(\"After sorting the said ntegers:\")\n",
    "print(*nums)"
   ]
  },
  {
   "cell_type": "markdown",
   "metadata": {},
   "source": [
    "### Q 193. Write a Python program to test whether two lines PQ and RS are parallel. The four points are P(x1, y1), Q(x2, y2), R(x3, y3), S(x4, y4). \n",
    "    Input:\n",
    "    x1,y1,x2,y2,x3,y3,xp,yp separated by a single space\n",
    "    Input x1,y1,x2,y2,x3,y3,xp,yp:\n",
    "    2 5 6 4 8 3 9 7\n",
    "    PQ and RS are not parallel"
   ]
  },
  {
   "cell_type": "code",
   "execution_count": 46,
   "metadata": {},
   "outputs": [
    {
     "name": "stdout",
     "output_type": "stream",
     "text": [
      "Input x1,y1,x2,y2,x3,y3,xp,yp:\n",
      "2 5 6 4 8 3 9 7\n",
      "PQ and RS are not parallel\n"
     ]
    }
   ],
   "source": [
    "print(\"Input x1,y1,x2,y2,x3,y3,xp,yp:\")\n",
    "x1, y1,x2, y2, x3, y3, x4, y4 = map(float, input().split())\n",
    "print('PQ and RS are parallel.' if abs((x2 - x1)*(y4 - y3) - (x4 - x3)*(y2 - y1)) < 1e-10 else 'PQ and RS are not parallel')"
   ]
  },
  {
   "cell_type": "markdown",
   "metadata": {},
   "source": [
    "### Q 194. Write a Python program to find the maximum sum of a contiguous subsequence from a given sequence of numbers a1, a2, a3, ... an. A subsequence of one element is also a continuous subsequence. \n",
    "    Input:\n",
    "    You can assume that 1 <= n <= 5000 and -100000 <= ai <= 100000.\n",
    "    Input numbers are separated by a space.\n",
    "    Input 0 to exit.\n",
    "    Input number of sequence of numbers you want to input (0 to exit):\n",
    "    3\n",
    "    Input numbers:\n",
    "    2\n",
    "    4\n",
    "    6\n",
    "    Maximum sum of the said contiguous subsequence: 12\n",
    "    Input number of sequence of numbers you want to input (0 to exit):\n",
    "    0"
   ]
  },
  {
   "cell_type": "code",
   "execution_count": 48,
   "metadata": {},
   "outputs": [
    {
     "name": "stdout",
     "output_type": "stream",
     "text": [
      "Input number of sequence of numbers you want to input (0 to exit):\n",
      "3\n",
      "Input numbers:\n",
      "2\n",
      "4\n",
      "6\n",
      "Maximum sum of the said contiguous subsequence:\n",
      "12\n",
      "Input number of sequence of numbers you want to input (0 to exit):\n",
      "0\n"
     ]
    }
   ],
   "source": [
    "while True:\n",
    "    print(\"Input number of sequence of numbers you want to input (0 to exit):\")\n",
    "    n = int(input())\n",
    "    if n == 0:\n",
    "        break\n",
    "    else:\n",
    "        A = []\n",
    "        Sum = []\n",
    "        print(\"Input numbers:\") \n",
    "        for i in range(n):\n",
    "            A.append(int(input()))\n",
    "        Wa = 0\n",
    "        for i in range(0,n):\n",
    "            Wa += A[i]\n",
    "            Sum.append(Wa)\n",
    "        for i in range(0 , n):\n",
    "            for j in range(0 , i):\n",
    "                Num = Sum[i] - Sum[j]\n",
    "                Sum.append(Num)\n",
    "        print(\"Maximum sum of the said contiguous subsequence:\")\n",
    "        print(max(Sum))"
   ]
  },
  {
   "cell_type": "markdown",
   "metadata": {},
   "source": [
    "### Q 195. There are two circles C1 with radius r1, central coordinate (x1, y1) and C2 with radius r2 and central coordinate (x2, y2). \n",
    "\n",
    "    Write a Python program to test the followings -\n",
    "\n",
    "    \"C2 is in C1\" if C2 is in C1\n",
    "    \"C1 is in C2\" if C1 is in C2\n",
    "    \"Circumference of C1 and C2 intersect\" if circumference of C1 and C2 intersect, and\n",
    "    \"C1 and C2 do not overlap\" if C1 and C2 do not overlap.\n",
    "    Input:\n",
    "    Input numbers (real numbers) are separated by a space.\n",
    "    Input x1, y1, r1, x2, y2, r2:\n",
    "    5 6 4 8 7 9\n",
    "    C1 is in C2"
   ]
  },
  {
   "cell_type": "code",
   "execution_count": 49,
   "metadata": {},
   "outputs": [
    {
     "name": "stdout",
     "output_type": "stream",
     "text": [
      "Input x1, y1, r1, x2, y2, r2:\n",
      "5 6 4 8 7 9\n",
      "C1  is in C2\n"
     ]
    }
   ],
   "source": [
    "import math\n",
    "print(\"Input x1, y1, r1, x2, y2, r2:\")\n",
    "x1,y1,r1,x2,y2,r2 = [float(i) for i in input().split()]\n",
    "d = math.sqrt((x1-x2)**2 + (y1-y2)**2)\n",
    "if d < r1-r2:\n",
    "    print(\"C2  is in C1\")\n",
    "elif d < r2-r1:\n",
    "    print(\"C1  is in C2\")\n",
    "elif d > r1+r2:\n",
    "    print(\"Circumference of C1  and C2  intersect\")\n",
    "else:\n",
    "    print(\"C1 and C2  do not overlap\")"
   ]
  },
  {
   "cell_type": "markdown",
   "metadata": {},
   "source": [
    "### Q 196. Write a Python program to that reads a date (from 2020/1/1 to 2020/12/31) and prints the day of the date. Jan. 1, 2020, is Friday. Note that 2020 is a leap year.\n",
    "    Input:\n",
    "    Two integers m and d separated by a single space in a line, m ,d represent the month and the day.\n",
    "    Input month and date (separated by a single space):\n",
    "    5 15\n",
    "    Name of the date: Friday"
   ]
  },
  {
   "cell_type": "code",
   "execution_count": 51,
   "metadata": {},
   "outputs": [
    {
     "name": "stdout",
     "output_type": "stream",
     "text": [
      "Input month and date (separated by a single space):\n",
      "5 15\n",
      "Name of the date:  Friday\n"
     ]
    }
   ],
   "source": [
    "from datetime import date\n",
    "print(\"Input month and date (separated by a single space):\")\n",
    "m, d = map(int, input().split())\n",
    "weeks = {1:'Monday',2:'Tuesday',3:'Wednesday',4:'Thursday',5:'Friday',6:'Saturday',7:'Sunday'}\n",
    "w = date.isoweekday(date(2020, m, d))\n",
    "print(\"Name of the date: \",weeks[w])"
   ]
  },
  {
   "cell_type": "markdown",
   "metadata": {},
   "source": [
    "### Q 197. Write a Python program which reads a text (only alphabetical characters and spaces.) and prints two words. The first one is the word which is arise most frequently in the text. The second one is the word which has the maximum number of letters. \n",
    "    Note: A word is a sequence of letters which is separated by the spaces.\n",
    "\n",
    "    Input:\n",
    "    A text is given in a line with following condition:\n",
    "    a. The number of letters in the text is less than or equal to 1000.\n",
    "    b. The number of letters in a word is less than or equal to 32.\n",
    "    c. There is only one word which is arise most frequently in given text.\n",
    "    d. There is only one word which has the maximum number of letters in given text.\n",
    "    Input text: Thank you for your comment and your participation.\n",
    "    Output: your participation."
   ]
  },
  {
   "cell_type": "code",
   "execution_count": 52,
   "metadata": {},
   "outputs": [
    {
     "name": "stdout",
     "output_type": "stream",
     "text": [
      "Input a text in a line.\n",
      "Thank you for your comment and your participation.\n",
      "\n",
      "Most frequent text and the word which has the maximum number of letters.\n",
      "your participation.\n"
     ]
    }
   ],
   "source": [
    "import collections\n",
    "print(\"Input a text in a line.\")\n",
    "text_list = list(map(str, input().split()))\n",
    "sc = collections.Counter(text_list)\n",
    "common_word = sc.most_common()[0][0]\n",
    "max_char = \"\"\n",
    "for s in text_list:\n",
    "    if len(max_char) < len(s):\n",
    "        max_char = s\n",
    "print(\"\\nMost frequent text and the word which has the maximum number of letters.\")\n",
    "print(common_word, max_char)"
   ]
  },
  {
   "cell_type": "markdown",
   "metadata": {},
   "source": [
    "### Q 198. Write a Python program that reads n digits (given) chosen from 0 to 9 and prints the number of combinations where the sum of the digits equals to another given number (s). Do not use the same digits in a combination. \n",
    "    Input:\n",
    "    Two integers as number of combinations and their sum by a single space in a line. Input 0 0 to exit.\n",
    "    Input number of combinations and sum, input 0 0 to exit:\n",
    "    5 6\n",
    "    2 4\n",
    "    0 0\n",
    "    2"
   ]
  },
  {
   "cell_type": "code",
   "execution_count": 53,
   "metadata": {},
   "outputs": [
    {
     "name": "stdout",
     "output_type": "stream",
     "text": [
      "Input number of combinations and sum, input 0 0 to exit:\n",
      "5 6\n",
      "2 4\n",
      "0 0\n",
      "2\n"
     ]
    }
   ],
   "source": [
    "import itertools\n",
    "print(\"Input number of combinations and sum, input 0 0 to exit:\")\n",
    "while True:\n",
    "  x, y = map(int, input(). split())\n",
    "  if x == 0 and y == 0:\n",
    "    break\n",
    "  s = list(itertools.combinations(range(10), x))\n",
    "  ctr = 0\n",
    "  for i in s:\n",
    "    if sum(i) == y:\n",
    "            ctr += 1\n",
    " \n",
    "print(ctr)"
   ]
  },
  {
   "cell_type": "markdown",
   "metadata": {},
   "source": [
    "### Q 199. Write a Python program which reads the two adjoined sides and the diagonal of a parallelogram and check whether the parallelogram is a rectangle or a rhombus. \n",
    "    According to Wikipedia-\n",
    "    parallelograms: In Euclidean geometry, a parallelogram is a simple (non-self-intersecting) quadrilateral with two pairs of parallel sides. The opposite or facing sides of a parallelogram are of equal length and the opposite angles of a parallelogram are of equal measure.\n",
    "    rectangles: In Euclidean plane geometry, a rectangle is a quadrilateral with four right angles. It can also be defined as an equiangular quadrilateral, since equiangular means that all of its angles are equal (360°/4 = 90°). It can also be defined as a parallelogram containing a right angle.\n",
    "    rhombus: In plane Euclidean geometry, a rhombus (plural rhombi or rhombuses) is a simple (non-self-intersecting) quadrilateral whose four sides all have the same length. Another name is equilateral quadrilateral, since equilateral means that all of its sides are equal in length. The rhombus is often called a diamond, after the diamonds suit in playing cards which resembles the projection of an octahedral diamond, or a lozenge, though the former sometimes refers specifically to a rhombus with a 60° angle, and the latter sometimes refers specifically to a rhombus with a 45° angle.\n",
    "    Input:\n",
    "    Two adjoined sides and the diagonal.\n",
    "    1 <= ai, bi, ci <= 1000, ai + bi > ci\n",
    "    Input two adjoined sides and the diagonal of a parallelogram (comma separated):\n",
    "    3,4,5\n",
    "    This is a rectangle."
   ]
  },
  {
   "cell_type": "code",
   "execution_count": 55,
   "metadata": {},
   "outputs": [
    {
     "name": "stdout",
     "output_type": "stream",
     "text": [
      "Input two adjoined sides and the diagonal of a parallelogram (comma separated):\n",
      "3,4,5\n",
      "This is a rectangle.\n"
     ]
    }
   ],
   "source": [
    "print(\"Input two adjoined sides and the diagonal of a parallelogram (comma separated):\")\n",
    "a,b,c = map(int, input().split(\",\"))\n",
    "if c**2 == a**2+b**2 :\n",
    "    print(\"This is a rectangle.\")\n",
    "if a == b:\n",
    "    print(\"This is a rhombus.\")"
   ]
  },
  {
   "cell_type": "markdown",
   "metadata": {},
   "source": [
    "### Q 200. Write a Python program to replace a string \"Python\" with \"Java\" and \"Java\" with \"Python\" in a given string. \n",
    "    Input:\n",
    "    English letters (including single byte alphanumeric characters, blanks, symbols) are given on one line. The length of the input character string is 1000 or less.\n",
    "    Input a text with two words 'Python' and 'Java'\n",
    "    Python is popular than Java\n",
    "    Java is popular than Python"
   ]
  },
  {
   "cell_type": "code",
   "execution_count": 57,
   "metadata": {},
   "outputs": [
    {
     "name": "stdout",
     "output_type": "stream",
     "text": [
      "Input a text with two words 'Python' and 'Java'\n",
      "Python is popular than Java\n",
      "Java is popular than Python\n"
     ]
    }
   ],
   "source": [
    "print(\"Input a text with two words 'Python' and 'Java'\")\n",
    "text = input().split()\n",
    "for i in range(len(text)):\n",
    "    if \"Python\" in text[i]:n = text[i].index(\"Python\");text[i] = text[i][:n] + \"Java\" + text[i][n + 6:]\n",
    "    elif \"Java\" in text[i]:n = text[i].index(\"Java\");text[i] = text[i][:n] + \"Python\" + text[i][n + 4:]\n",
    "print(*text)"
   ]
  },
  {
   "cell_type": "markdown",
   "metadata": {},
   "source": [
    "### Q 201. Write a Python program to find the difference between the largest integer and the smallest integer which are created by 8 numbers from 0 to 9. The number that can be rearranged shall start with 0 as in 00135668. \n",
    "    Input:\n",
    "    Input an integer created by 8 numbers from 0 to 9.:\n",
    "    2345\n",
    "    Difference between the largest and the smallest integer from the given integer:\n",
    "    3087"
   ]
  },
  {
   "cell_type": "code",
   "execution_count": 58,
   "metadata": {},
   "outputs": [
    {
     "name": "stdout",
     "output_type": "stream",
     "text": [
      "Input an integer created by 8 numbers from 0 to 9.:\n",
      "2345\n",
      "Difference between the largest and the smallest integer from the given integer:\n",
      "3087\n"
     ]
    }
   ],
   "source": [
    "print(\"Input an integer created by 8 numbers from 0 to 9.:\")\n",
    "num = list(input())\n",
    "print(\"Difference between the largest and the smallest integer from the given integer:\")\n",
    "print(int(\"\".join(sorted(num,reverse=True))) - int(\"\".join(sorted(num))))"
   ]
  },
  {
   "cell_type": "markdown",
   "metadata": {},
   "source": [
    "### Q 202. Write a Python program to compute the sum of first n given prime numbers. \n",
    "    Input:\n",
    "    n ( n <= 10000). Input 0 to exit the program.\n",
    "    Input a number (n<=10000) to compute the sum:(0 to exit)\n",
    "    25\n",
    "    Sum of first 25 prime numbers:\n",
    "    1060"
   ]
  },
  {
   "cell_type": "code",
   "execution_count": 59,
   "metadata": {},
   "outputs": [
    {
     "name": "stdout",
     "output_type": "stream",
     "text": [
      "Input a number (n≤10000) to compute the sum:(0 to exit)\n",
      "25\n",
      "Sum of first 25 prime numbers:\n",
      "1060\n",
      "0\n"
     ]
    }
   ],
   "source": [
    "MAX = 105000\n",
    "print(\"Input a number (n≤10000) to compute the sum:(0 to exit)\") \n",
    "is_prime = [True for _ in range(MAX)]\n",
    "is_prime[0] = is_prime[1] = False\n",
    "for i in range(2, int(MAX ** (1 / 2)) + 1):\n",
    "  if is_prime[i]:\n",
    "    for j in range(i ** 2, MAX, i):\n",
    "      is_prime[j] = False \n",
    "primes = [i for i in range(MAX) if is_prime[i]] \n",
    "while True:\n",
    "  n = int(input())\n",
    "  if not n:\n",
    "    break\n",
    "  print(\"Sum of first\",n,\"prime numbers:\")\n",
    "  print(sum(primes[:n]))"
   ]
  },
  {
   "cell_type": "markdown",
   "metadata": {},
   "source": [
    "### Q 203. Write a Python program that accept an even number (>=4, Goldbach number) from the user and create a combinations that express the given number as a sum of two prime numbers. Print the number of combinations. \n",
    "    Goldbach number: A Goldbach number is a positive even integer that can be expressed as the sum of two odd primes.[4] Since four is the only even number greater than two that requires the even prime 2 in order to be written as the sum of two primes, another form of the statement of Goldbach's conjecture is that all even integers greater than 4 are Goldbach numbers.\n",
    "    The expression of a given even number as a sum of two primes is called a Goldbach partition of that number. The following are examples of Goldbach partitions for some even numbers:\n",
    "    6 = 3 + 3\n",
    "    8 = 3 + 5\n",
    "    10 = 3 + 7 = 5 + 5\n",
    "    12 = 7 + 5\n",
    "    ...\n",
    "    100 = 3 + 97 = 11 + 89 = 17 + 83 = 29 + 71 = 41 + 59 = 47 + 53\n",
    "    Input an even number (0 to exit):\n",
    "    100\n",
    "    Number of combinations:\n",
    "    6"
   ]
  },
  {
   "cell_type": "code",
   "execution_count": 61,
   "metadata": {},
   "outputs": [
    {
     "name": "stdout",
     "output_type": "stream",
     "text": [
      "Input an even number (0 to exit):\n"
     ]
    }
   ],
   "source": [
    "import sys\n",
    "from bisect import bisect_right\n",
    "from itertools import chain, compress\n",
    "print(\"Input an even number (0 to exit):\") \n",
    "ub = 50000\n",
    "is_prime = [0, 0, 1, 1] + [0]*(ub-3)\n",
    "is_prime[5::6] = is_prime[7::6] = [1]*int(ub/6)\n",
    "primes = [2, 3]\n",
    "append = primes.append\n",
    " \n",
    "for n in chain(range(5, ub, 6), range(7, ub, 6)):\n",
    "    if is_prime[n]:\n",
    "        append(n)\n",
    "        is_prime[n*3::n*2] = [0]*((ub-n)//(n*2))\n",
    "primes.sort()\n",
    "\n",
    "for n in map(int, sys.stdin):\n",
    "    if not n:\n",
    "        break\n",
    "    if n%2:\n",
    "        print(\"Number of combinations:\")  \n",
    "        print(is_prime[n-2])\n",
    "    else:\n",
    "        print(\"Number of combinations:\")  \n",
    "        print(len([1 for p in primes[:bisect_right(primes, n/2)] if is_prime[n-p]]))"
   ]
  },
  {
   "cell_type": "markdown",
   "metadata": {},
   "source": [
    "### Q 204. if you draw a straight line on a plane, the plane is divided into two regions. For example, if you pull two straight lines in parallel, you get three areas, and if you draw vertically one to the other you get 4 areas.Write a Python program to create maximum number of regions obtained by drawing n given straight lines. \n",
    "    Input:\n",
    "    (1 <= n <= 10,000)\n",
    "    Input number of straight lines (o to exit):\n",
    "    5\n",
    "    Number of regions:\n",
    "    16"
   ]
  },
  {
   "cell_type": "code",
   "execution_count": 62,
   "metadata": {},
   "outputs": [
    {
     "name": "stdout",
     "output_type": "stream",
     "text": [
      "Input number of straight lines (o to exit): \n",
      "5\n",
      "Number of regions:\n",
      "16\n",
      "Input number of straight lines (o to exit): \n",
      "0\n"
     ]
    }
   ],
   "source": [
    "while True:\n",
    "    print(\"Input number of straight lines (o to exit): \")\n",
    "    n=int(input())\n",
    "    if n<=0:\n",
    "        break\n",
    "    print(\"Number of regions:\") \n",
    "    print((n*n+n+2)//2)"
   ]
  },
  {
   "cell_type": "markdown",
   "metadata": {},
   "source": [
    "### Q 205. There are four different points on a plane, P(xp,yp), Q(xq, yq), R(xr, yr) and S(xs, ys). Write a Python program to test AB and CD are orthogonal or not. \n",
    "    Input:\n",
    "    xp,yp, xq, yq, xr, yr, xs and ys are -100 to 100 respectively and each value can be up to 5 digits after the decimal point It is given as a real number including the number of. Output:\n",
    "    Output AB and CD are not orthogonal! or AB and CD are orthogonal!."
   ]
  },
  {
   "cell_type": "code",
   "execution_count": 63,
   "metadata": {},
   "outputs": [
    {
     "name": "stdout",
     "output_type": "stream",
     "text": [
      "Input xp, yp, xq, yq, xr, yr, xs, ys:\n",
      "4.5 -2.5 -2.5 4.5 3.5 3.5 3.8 -3.5\n",
      "AB and CD are not orthogonal!\n",
      "Input xp, yp, xq, yq, xr, yr, xs, ys:\n",
      "0\n"
     ]
    }
   ],
   "source": [
    "while True:\n",
    "    try:\n",
    "        print(\"Input xp, yp, xq, yq, xr, yr, xs, ys:\")\n",
    "        x_p, y_p, x_q, y_q, x_r, y_r, x_s, y_s = map(float, input().split())\n",
    "        pq_x, pq_y = x_q - x_p, y_q - y_p\n",
    "        rs_x, rs_y = x_s - x_r, y_s - y_r\n",
    "        rs = pq_x*rs_x + pq_y*rs_y\n",
    "        if abs(rs) > 1e-10:\n",
    "            print(\"AB and CD are not orthogonal!\")\n",
    "        else:\n",
    "            print(\"AB and CD are orthogonal!\")\n",
    "    except:\n",
    "        break"
   ]
  },
  {
   "cell_type": "markdown",
   "metadata": {},
   "source": [
    "### Q 206. Write a Python program to sum of all numerical values (positive integers) embedded in a sentence. Write a Python program to create maximum number of regions obtained by drawing n given straight lines. \n",
    "    Input:\n",
    "    Sentences with positive integers are given over multiple lines. Each line is a character string containing one-byte alphanumeric characters, symbols, spaces, or an empty line. However the input is 80 characters or less per line and the sum is 10,000 or less.\n",
    "    Input some text and numeric values ( to exit):\n",
    "    Sum of the numeric values: 80\n",
    "    None\n",
    "    Input some text and numeric values ( to exit):\n",
    "    Sum of the numeric values: 17\n",
    "    None\n",
    "    Input some text and numeric values ( to exit):\n",
    "    Sum of the numeric values: 10\n",
    "    None"
   ]
  },
  {
   "cell_type": "code",
   "execution_count": 64,
   "metadata": {},
   "outputs": [
    {
     "name": "stdout",
     "output_type": "stream",
     "text": [
      "Input some text and numeric values (<ctrl-d> to exit):\n",
      "Sum of the numeric values:  80\n",
      "None\n",
      "Input some text and numeric values (<ctrl-d> to exit):\n",
      "Sum of the numeric values:  17\n",
      "None\n",
      "Input some text and numeric values (<ctrl-d> to exit):\n",
      "Sum of the numeric values:  10\n",
      "None\n"
     ]
    }
   ],
   "source": [
    "import sys,re\n",
    "def test(stri):\n",
    "  print(\"Input some text and numeric values (<ctrl-d> to exit):\")\n",
    "  print(\"Sum of the numeric values: \",sum([sum(map(int,re.findall(r\"[0-9]{1,5}\",stri)))]))\n",
    "\n",
    "print(test(\"sd1fdsfs23 dssd56\"))\n",
    "print(test(\"15apple2banana\"))\n",
    "print(test(\"flowers5fruit5\"))"
   ]
  },
  {
   "cell_type": "markdown",
   "metadata": {},
   "source": [
    "### Q 207. There are 10 vertical and horizontal squares on a plane. Each square is painted blue and green. Blue represents the sea, and green represents the land. When two green squares are in contact with the top and bottom, or right and left, they are said to be ground. The area created by only one green square is called \"island\". For example, there are five islands in the figure below. Write a Python program to read the mass data and find the number of islands. \n",
    "    Input:\n",
    "    Input 10 rows of 10 numbers representing green squares (island) as 1 and blue squares (sea) as zeros\n",
    "    1100000111\n",
    "    1000000111\n",
    "    0000000111\n",
    "    0010001000\n",
    "    0000011100\n",
    "    0000111110\n",
    "    0001111111\n",
    "    1000111110\n",
    "    1100011100\n",
    "    1110001000\n",
    "    Number of islands:\n",
    "    5"
   ]
  },
  {
   "cell_type": "code",
   "execution_count": 1,
   "metadata": {},
   "outputs": [
    {
     "name": "stdout",
     "output_type": "stream",
     "text": [
      "Input 10 rows of 10 numbers representing green squares (island) as 1 and blue squares (sea) as zeros\n",
      "1100000111\n",
      "1000000111\n",
      "0000000111\n",
      "0010001000\n",
      "0000011100\n",
      "0000111110\n",
      "0001111111\n",
      "1000111110\n",
      "1100011100\n",
      "1110001000\n",
      "Number of islands:\n",
      "5\n",
      "0\n",
      "0\n",
      "0\n",
      "0\n",
      "0\n",
      "0\n",
      "0\n",
      "0\n",
      "0\n",
      "0\n",
      "0\n"
     ]
    },
    {
     "ename": "IndexError",
     "evalue": "list index out of range",
     "output_type": "error",
     "traceback": [
      "\u001b[1;31m---------------------------------------------------------------------------\u001b[0m",
      "\u001b[1;31mIndexError\u001b[0m                                Traceback (most recent call last)",
      "\u001b[1;32m<ipython-input-1-7137b14954dc>\u001b[0m in \u001b[0;36m<module>\u001b[1;34m\u001b[0m\n\u001b[0;32m     13\u001b[0m     \u001b[1;32mfor\u001b[0m \u001b[0mi\u001b[0m \u001b[1;32min\u001b[0m \u001b[0mrange\u001b[0m\u001b[1;33m(\u001b[0m\u001b[1;36m10\u001b[0m\u001b[1;33m)\u001b[0m\u001b[1;33m:\u001b[0m\u001b[1;33m\u001b[0m\u001b[1;33m\u001b[0m\u001b[0m\n\u001b[0;32m     14\u001b[0m         \u001b[1;32mfor\u001b[0m \u001b[0mj\u001b[0m \u001b[1;32min\u001b[0m \u001b[0mrange\u001b[0m\u001b[1;33m(\u001b[0m\u001b[1;36m10\u001b[0m\u001b[1;33m)\u001b[0m\u001b[1;33m:\u001b[0m\u001b[1;33m\u001b[0m\u001b[1;33m\u001b[0m\u001b[0m\n\u001b[1;32m---> 15\u001b[1;33m             \u001b[1;32mif\u001b[0m \u001b[0mx\u001b[0m\u001b[1;33m[\u001b[0m\u001b[0mj\u001b[0m\u001b[1;33m]\u001b[0m\u001b[1;33m[\u001b[0m\u001b[0mi\u001b[0m\u001b[1;33m]\u001b[0m\u001b[1;33m==\u001b[0m\u001b[1;34m'1'\u001b[0m\u001b[1;33m:\u001b[0m\u001b[1;33m\u001b[0m\u001b[1;33m\u001b[0m\u001b[0m\n\u001b[0m\u001b[0;32m     16\u001b[0m                 \u001b[0mb\u001b[0m\u001b[1;33m+=\u001b[0m\u001b[1;36m1\u001b[0m\u001b[1;33m;\u001b[0m\u001b[0mf\u001b[0m\u001b[1;33m(\u001b[0m\u001b[0mx\u001b[0m\u001b[1;33m,\u001b[0m\u001b[0mi\u001b[0m\u001b[1;33m,\u001b[0m\u001b[0mj\u001b[0m\u001b[1;33m)\u001b[0m\u001b[1;33m\u001b[0m\u001b[1;33m\u001b[0m\u001b[0m\n\u001b[0;32m     17\u001b[0m     \u001b[0mprint\u001b[0m\u001b[1;33m(\u001b[0m\u001b[1;34m\"Number of islands:\"\u001b[0m\u001b[1;33m)\u001b[0m\u001b[1;33m\u001b[0m\u001b[1;33m\u001b[0m\u001b[0m\n",
      "\u001b[1;31mIndexError\u001b[0m: list index out of range"
     ]
    }
   ],
   "source": [
    "c=0\n",
    "def f(x,y,z):\n",
    "    if 0<=y<10 and 0<=z<10 and x[z][y]=='1':\n",
    "        x[z][y]='0'\n",
    "        for dy,dz in [[-1,0],[1,0],[0,-1],[0,1]]:f(x,y+dy,z+dz)\n",
    "print(\"Input 10 rows of 10 numbers representing green squares (island) as 1 and blue squares (sea) as zeros\") \n",
    "while 1:\n",
    "    try:\n",
    "        if c:input()\n",
    "    except:break\n",
    "    x = [list(input()) for _ in [0]*10]\n",
    "    c=1;b=0\n",
    "    for i in range(10):\n",
    "        for j in range(10):\n",
    "            if x[j][i]=='1':\n",
    "                b+=1;f(x,i,j)\n",
    "    print(\"Number of islands:\")     \n",
    "    print(b)"
   ]
  },
  {
   "cell_type": "markdown",
   "metadata": {},
   "source": [
    "### Q 208. When character are consecutive in a string , it is possible to shorten the character string by replacing the character with a certain rule. For example, in the case of the character string YYYYY, if it is expressed as # 5 Y, it is compressed by one character.Write a Python program to restore the original string by entering the compressed string with this rule. However, the # character does not appear in the restored character string. \n",
    "    Note: The original sentences are uppercase letters, lowercase letters, numbers, symbols, less than 100 letters, and consecutive letters are not more than 9 letters.\n",
    "    Input:\n",
    "    The restored character string for each character on one line.\n",
    "    Original text: XY#6Z1#4023\n",
    "    XYZZZZZZ1000023\n",
    "    Original text: #39+1=1#30\n",
    "    999+1=1000"
   ]
  },
  {
   "cell_type": "code",
   "execution_count": 2,
   "metadata": {},
   "outputs": [
    {
     "name": "stdout",
     "output_type": "stream",
     "text": [
      "Original text: XY#6Z1#4023\n",
      "XYZZZZZZ1000023\n",
      "Original text: #39+1=1#30\n",
      "999+1=1000\n"
     ]
    }
   ],
   "source": [
    "def restore_original_str(a1):\n",
    "  result = \"\"\n",
    "  ind = 0\n",
    "  end = len(a1)\n",
    "  while ind < end:\n",
    "    if a1[ind] == \"#\":\n",
    "      result += a1[ind + 2] * int(a1[ind + 1])\n",
    "      ind += 3\n",
    "    else:\n",
    "      result += a1[ind]\n",
    "      ind += 1\n",
    "  return result\n",
    "print(\"Original text:\",\"XY#6Z1#4023\")\n",
    "print(restore_original_str(\"XY#6Z1#4023\"))\n",
    "print(\"Original text:\",\"#39+1=1#30\")\n",
    "print(restore_original_str(\"#39+1=1#30\"))"
   ]
  },
  {
   "cell_type": "markdown",
   "metadata": {},
   "source": [
    "### Q 209. A convex polygon is a simple polygon in which no line segment between two points on the boundary ever goes outside the polygon. Equivalently, it is a simple polygon whose interior is a convex set. In a convex polygon, all interior angles are less than or equal to 180 degrees, while in a strictly convex polygon all interior angles are strictly less than 180 degrees.Write a Python program that compute the area of the polygon . The vertices have the names vertex 1, vertex 2, vertex 3, ... vertex n according to the order of edge connections \n",
    "    Note: The original sentences are uppercase letters, lowercase letters, numbers, symbols, less than 100 letters, and consecutive letters are not more than 9 letters.\n",
    "    Input:\n",
    "    Input is given in the following format.\n",
    "    x1 , y1\n",
    "    x2 , y2\n",
    "    :\n",
    "    xn , yn\n",
    "    xi , yi are real numbers representing the x and y coordinates of vertex i , respectively.\n",
    "    Input the coordinates (ctrl+d to exit):\n",
    "    1.0, 0.0\n",
    "    0.0, 0.0\n",
    "    1.0, 1.0\n",
    "    2.0, 0.0\n",
    "    -1.0, 1.0\n",
    "    Area of the polygon;\n",
    "    1.50000000."
   ]
  },
  {
   "cell_type": "markdown",
   "metadata": {},
   "source": [
    "### Q 210. Internet search engine giant, such as Google accepts web pages around the world and classify them, creating a huge database. The search engines also analyze the search keywords entered by the user and create inquiries for database search. In both cases, complicated processing is carried out in order to realize efficient retrieval, but basics are all cutting out words from sentences.Write a Python program to cut out words of 3 to 6 characters length from a given sentence not more than 1024 characters. \n",
    "    Input:\n",
    "    English sentences consisting of delimiters and alphanumeric characters are given on one line.\n",
    "    Input a sentence (1024 characters. max.)\n",
    "    The quick brown fox\n",
    "    3 to 6 characters length of words:\n",
    "    The quick brown fox"
   ]
  },
  {
   "cell_type": "code",
   "execution_count": 3,
   "metadata": {},
   "outputs": [
    {
     "name": "stdout",
     "output_type": "stream",
     "text": [
      "Input a sentence (1024 characters. max.)\n",
      "The quick brown fox\n",
      "3 to 6 characters length of words:\n",
      "The quick brown fox\n"
     ]
    }
   ],
   "source": [
    "print(\"Input a sentence (1024 characters. max.)\")\n",
    "yy = input()\n",
    "yy = yy.replace(\",\", \" \")\n",
    "yy = yy.replace(\".\", \" \")\n",
    "print(\"3 to 6 characters length of words:\")\n",
    "print(*[y for y in yy.split() if 3 <= len(y) <= 6])"
   ]
  },
  {
   "cell_type": "markdown",
   "metadata": {},
   "source": [
    "### Q 211. Arrange integers (0 to 99) as narrow hilltop, as illustrated in Figure 1. Reading such data representing huge, when starting from the top and proceeding according to the next rule to the bottom. Write a Python program that compute the maximum value of the sum of the passing integers. \n",
    "    Input:\n",
    "    A series of integers separated by commas are given in diamonds. No spaces are included in each line. The input example corresponds to Figure 1. The number of lines of data is less than 100 lines.\n",
    "    Output:\n",
    "    The maximum value of the sum of integers passing according to the rule on one line.\n",
    "    Input the numbers (ctrl+d to exit):\n",
    "    8\n",
    "    4, 9\n",
    "    9, 2, 1\n",
    "    3, 8, 5, 5\n",
    "    5, 6, 3, 7, 6\n",
    "    3, 8, 5, 5\n",
    "    9, 2, 1\n",
    "    4, 9\n",
    "    8\n",
    "    Maximum value of the sum of integers passing according to the rule on one line.\n",
    "    64"
   ]
  },
  {
   "cell_type": "code",
   "execution_count": 4,
   "metadata": {},
   "outputs": [
    {
     "name": "stdout",
     "output_type": "stream",
     "text": [
      "Input the numbers (ctrl+d to exit):\n"
     ]
    },
    {
     "ename": "IndexError",
     "evalue": "list index out of range",
     "output_type": "error",
     "traceback": [
      "\u001b[1;31m---------------------------------------------------------------------------\u001b[0m",
      "\u001b[1;31mIndexError\u001b[0m                                Traceback (most recent call last)",
      "\u001b[1;32m<ipython-input-4-88ad9a532ef9>\u001b[0m in \u001b[0;36m<module>\u001b[1;34m\u001b[0m\n\u001b[0;32m      2\u001b[0m \u001b[0mprint\u001b[0m\u001b[1;33m(\u001b[0m\u001b[1;34m\"Input the numbers (ctrl+d to exit):\"\u001b[0m\u001b[1;33m)\u001b[0m\u001b[1;33m\u001b[0m\u001b[1;33m\u001b[0m\u001b[0m\n\u001b[0;32m      3\u001b[0m \u001b[0mnums\u001b[0m \u001b[1;33m=\u001b[0m \u001b[1;33m[\u001b[0m\u001b[0mlist\u001b[0m\u001b[1;33m(\u001b[0m\u001b[0mmap\u001b[0m\u001b[1;33m(\u001b[0m\u001b[0mint\u001b[0m\u001b[1;33m,\u001b[0m \u001b[0ml\u001b[0m\u001b[1;33m.\u001b[0m\u001b[0msplit\u001b[0m\u001b[1;33m(\u001b[0m\u001b[1;34m\",\"\u001b[0m\u001b[1;33m)\u001b[0m\u001b[1;33m)\u001b[0m\u001b[1;33m)\u001b[0m \u001b[1;32mfor\u001b[0m \u001b[0ml\u001b[0m \u001b[1;32min\u001b[0m \u001b[0msys\u001b[0m\u001b[1;33m.\u001b[0m\u001b[0mstdin\u001b[0m\u001b[1;33m]\u001b[0m\u001b[1;33m\u001b[0m\u001b[1;33m\u001b[0m\u001b[0m\n\u001b[1;32m----> 4\u001b[1;33m \u001b[0mmvv\u001b[0m \u001b[1;33m=\u001b[0m \u001b[0mnums\u001b[0m\u001b[1;33m[\u001b[0m\u001b[1;36m0\u001b[0m\u001b[1;33m]\u001b[0m\u001b[1;33m\u001b[0m\u001b[1;33m\u001b[0m\u001b[0m\n\u001b[0m\u001b[0;32m      5\u001b[0m \u001b[1;33m\u001b[0m\u001b[0m\n\u001b[0;32m      6\u001b[0m \u001b[1;32mfor\u001b[0m \u001b[0mi\u001b[0m \u001b[1;32min\u001b[0m \u001b[0mrange\u001b[0m\u001b[1;33m(\u001b[0m\u001b[1;36m1\u001b[0m\u001b[1;33m,\u001b[0m \u001b[1;33m(\u001b[0m\u001b[0mlen\u001b[0m\u001b[1;33m(\u001b[0m\u001b[0mnums\u001b[0m\u001b[1;33m)\u001b[0m\u001b[1;33m+\u001b[0m\u001b[1;36m1\u001b[0m\u001b[1;33m)\u001b[0m\u001b[1;33m//\u001b[0m\u001b[1;36m2\u001b[0m\u001b[1;33m)\u001b[0m\u001b[1;33m:\u001b[0m\u001b[1;33m\u001b[0m\u001b[1;33m\u001b[0m\u001b[0m\n",
      "\u001b[1;31mIndexError\u001b[0m: list index out of range"
     ]
    }
   ],
   "source": [
    "import sys\n",
    "print(\"Input the numbers (ctrl+d to exit):\")\n",
    "nums = [list(map(int, l.split(\",\"))) for l in sys.stdin]\n",
    "mvv = nums[0]\n",
    "\n",
    "for i in range(1, (len(nums)+1)//2):\n",
    "    rvv = [0]*(i+1)\n",
    "    for j in range(i):\n",
    "        rvv[j] = max(rvv[j], mvv[j]+nums[i][j])\n",
    "        rvv[j+1] = max(rvv[j+1], mvv[j]+nums[i][j+1])\n",
    "    mvv = rvv\n",
    "\n",
    "for i in range((len(nums)+1)//2, len(nums)):\n",
    "    rvv = [0]*(len(mvv)-1)\n",
    "    for j in range(len(rvv)):\n",
    "        rvv[j] = max(mvv[j], mvv[j+1]) + nums[i][j]\n",
    "    mvv = rvv\n",
    "print(\"Maximum value of the sum of integers passing according to the rule on one line.\") \n",
    "print(mvv[0])"
   ]
  },
  {
   "cell_type": "markdown",
   "metadata": {},
   "source": [
    "### Q 212. Write a Python program to find the number of combinations that satisfy p + q + r + s = n where n is a given number <= 4000 and p, q, r, s in the range of 0 to 1000.\n",
    "    Input a positive integer: (ctrl+d to exit)\n",
    "    252\n",
    "    Number of combinations of a,b,c,d: 2731135"
   ]
  },
  {
   "cell_type": "code",
   "execution_count": 5,
   "metadata": {},
   "outputs": [
    {
     "name": "stdout",
     "output_type": "stream",
     "text": [
      "Input a positive integer: (ctrl+d to exit)\n",
      "252\n",
      "Number of combinations of a,b,c,d: 2731135\n",
      "\n"
     ]
    },
    {
     "ename": "ValueError",
     "evalue": "invalid literal for int() with base 10: ''",
     "output_type": "error",
     "traceback": [
      "\u001b[1;31m---------------------------------------------------------------------------\u001b[0m",
      "\u001b[1;31mValueError\u001b[0m                                Traceback (most recent call last)",
      "\u001b[1;32m<ipython-input-5-92a21f24eb07>\u001b[0m in \u001b[0;36m<module>\u001b[1;34m\u001b[0m\n\u001b[0;32m      7\u001b[0m \u001b[1;32mwhile\u001b[0m \u001b[1;32mTrue\u001b[0m\u001b[1;33m:\u001b[0m\u001b[1;33m\u001b[0m\u001b[1;33m\u001b[0m\u001b[0m\n\u001b[0;32m      8\u001b[0m   \u001b[1;32mtry\u001b[0m\u001b[1;33m:\u001b[0m\u001b[1;33m\u001b[0m\u001b[1;33m\u001b[0m\u001b[0m\n\u001b[1;32m----> 9\u001b[1;33m     \u001b[0mn\u001b[0m \u001b[1;33m=\u001b[0m \u001b[0mint\u001b[0m\u001b[1;33m(\u001b[0m\u001b[0minput\u001b[0m\u001b[1;33m(\u001b[0m\u001b[1;33m)\u001b[0m\u001b[1;33m)\u001b[0m\u001b[1;33m\u001b[0m\u001b[1;33m\u001b[0m\u001b[0m\n\u001b[0m\u001b[0;32m     10\u001b[0m     \u001b[0mans\u001b[0m \u001b[1;33m=\u001b[0m \u001b[1;36m0\u001b[0m\u001b[1;33m\u001b[0m\u001b[1;33m\u001b[0m\u001b[0m\n\u001b[0;32m     11\u001b[0m     \u001b[1;32mfor\u001b[0m \u001b[0mi\u001b[0m \u001b[1;32min\u001b[0m \u001b[0mrange\u001b[0m\u001b[1;33m(\u001b[0m\u001b[0mn\u001b[0m \u001b[1;33m+\u001b[0m \u001b[1;36m1\u001b[0m\u001b[1;33m)\u001b[0m\u001b[1;33m:\u001b[0m\u001b[1;33m\u001b[0m\u001b[1;33m\u001b[0m\u001b[0m\n",
      "\u001b[1;31mValueError\u001b[0m: invalid literal for int() with base 10: ''"
     ]
    }
   ],
   "source": [
    "from collections import Counter\n",
    "print(\"Input a positive integer: (ctrl+d to exit)\") \n",
    "pair_dict = Counter()\n",
    "for i in range(2001):\n",
    "  pair_dict[i] = min(i, 2000 - i) + 1 \n",
    " \n",
    "while True:\n",
    "  try:\n",
    "    n = int(input())\n",
    "    ans = 0\n",
    "    for i in range(n + 1):\n",
    "      ans += pair_dict[i] * pair_dict[n - i]\n",
    "    print(\"Number of combinations of a,b,c,d:\",ans) \n",
    "  except EOFError:\n",
    "    break"
   ]
  },
  {
   "cell_type": "markdown",
   "metadata": {},
   "source": [
    "### Q 213. Write a Python program which adds up columns and rows of given table as shown in the specified figure. \n",
    "    Input number of rows/columns (0 to exit)\n",
    "    4\n",
    "    Input cell value:\n",
    "    25 69 51 26\n",
    "    68 35 29 54\n",
    "    54 57 45 63\n",
    "    61 68 47 59\n",
    "    Result:\n",
    "    25 69 51 26 171\n",
    "    68 35 29 54 186\n",
    "    54 57 45 63 219\n",
    "    61 68 47 59 235\n",
    "    208 229 172 202 811\n",
    "    Input number of rows/columns (0 to exit)"
   ]
  },
  {
   "cell_type": "code",
   "execution_count": 7,
   "metadata": {},
   "outputs": [
    {
     "name": "stdout",
     "output_type": "stream",
     "text": [
      "Input number of rows/columns (0 to exit)\n",
      "4\n",
      "Input cell value:\n",
      "25 69 51 26\n",
      "68 35 29 54  \n",
      "54 57 45 63  \n",
      "61 68 47 59\n",
      "Result:\n",
      "   25   69   51   26  171\n",
      "   68   35   29   54  186\n",
      "   54   57   45   63  219\n",
      "   61   68   47   59  235\n",
      "  208  229  172  202  811\n",
      "Input number of rows/columns (0 to exit)\n",
      "0\n"
     ]
    }
   ],
   "source": [
    "while True:\n",
    "    print(\"Input number of rows/columns (0 to exit)\")\n",
    "    n = int(input())\n",
    "    if n == 0:\n",
    "        break\n",
    "    print(\"Input cell value:\")\n",
    "    x = []\n",
    "    for i in range(n):\n",
    "        x.append([int(num) for num in input().split()])\n",
    "\n",
    "    for i in range(n):\n",
    "        sum = 0\n",
    "        for j in range(n):\n",
    "            sum += x[i][j]\n",
    "        x[i].append(sum)\n",
    "\n",
    "    x.append([])\n",
    "    for i in range(n + 1):\n",
    "        sum = 0\n",
    "        for j in range(n):\n",
    "            sum += x[j][i]\n",
    "        x[n].append(sum)\n",
    "    print(\"Result:\")\n",
    "    for i in range(n + 1):\n",
    "        for j in range(n + 1):\n",
    "            print('{0:>5}'.format(x[i][j]), end=\"\")\n",
    "        print()"
   ]
  },
  {
   "cell_type": "markdown",
   "metadata": {},
   "source": [
    "### Q 214. Given a list of numbers and a number k, write a Python program to check whether the sum of any two numbers from the list is equal to k or not. \n",
    "    For example, given [1, 5, 11, 5] and k = 16, return true since 11 + 5 is 16.\n",
    "    Sample Input:\n",
    "    ([12, 5, 0, 5], 10)\n",
    "    ([20, 20, 4, 5], 40)\n",
    "    ([1, -1], 0)\n",
    "    ([1, 1, 0], 0)\n",
    "    Sample Output:\n",
    "    True\n",
    "    True\n",
    "    True\n",
    "    False"
   ]
  },
  {
   "cell_type": "code",
   "execution_count": 8,
   "metadata": {},
   "outputs": [
    {
     "name": "stdout",
     "output_type": "stream",
     "text": [
      "True\n",
      "True\n",
      "True\n",
      "False\n"
     ]
    }
   ],
   "source": [
    "def check_sum(nums, k):   \n",
    "    for i in range(len(nums)):\n",
    "        for j in range(i+1, len(nums)):\n",
    "            if nums[i] + nums[j] == k:\n",
    "                return True\n",
    "    return False\n",
    "print(check_sum([12, 5, 0, 5], 10))\n",
    "print(check_sum([20, 20, 4, 5], 40))\n",
    "print(check_sum([1, -1], 0))\n",
    "print(check_sum([1, 1, 0], 0))"
   ]
  },
  {
   "cell_type": "markdown",
   "metadata": {},
   "source": [
    "### Q 215. In mathematics, a subsequence is a sequence that can be derived from another sequence by deleting some or no elements without changing the order of the remaining elements. For example, the sequence (A,B,D) is a subsequence of (A,B,C,D,E,F) obtained after removal of elements C, E, and F. The relation of one sequence being the subsequence of another is a preorder.The subsequence should not be confused with substring (A,B,C,D) which can be derived from the above string (A,B,C,D,E,F) by deleting substring (E,F). The substring is a refinement of the subsequence.The list of all subsequences for the word \"apple\" would be \"a\", \"ap\", \"al\", \"ae\", \"app\", \"apl\", \"ape\", \"ale\", \"appl\", \"appe\", \"aple\", \"apple\", \"p\", \"pp\", \"pl\", \"pe\", \"ppl\", \"ppe\", \"ple\", \"pple\", \"l\", \"le\", \"e\", \"\".Write a Python program to find the longest word in set of words which is a subsequence of a given string. \n",
    "    (\"Green\", {\"Gn\", \"Gren\", \"ree\", \"en\"})\n",
    "    (\"pythonexercises\", {\"py\", \"ex\", \"exercises\"})\n",
    "    Sample Output:\n",
    "    Gren\n",
    "    exercises"
   ]
  },
  {
   "cell_type": "code",
   "execution_count": 11,
   "metadata": {},
   "outputs": [
    {
     "name": "stdout",
     "output_type": "stream",
     "text": [
      "Gren\n",
      "exercises\n"
     ]
    }
   ],
   "source": [
    "def longest_word_sequence(s, d):\n",
    "    long_word = \"\"\n",
    "\n",
    "    for word in d: \n",
    "        temp_word = ''\t\n",
    "        j = 0\n",
    "        for letter in word: \n",
    "\n",
    "            for i in range(j, len(s)): \n",
    "\n",
    "                if letter == s[i]: \n",
    "                    temp_word += letter \n",
    "                    j = i                  \n",
    "                    break\n",
    "                else:\n",
    "                    continue        \n",
    "\n",
    "        if (temp_word) == word and len(long_word) < len(temp_word):\n",
    "            long_word = temp_word\n",
    "\n",
    "        else:\n",
    "            continue\n",
    "    return long_word\n",
    "\n",
    "\n",
    "print(longest_word_sequence(\"Green\", {\"Gn\", \"Gren\", \"ree\", \"en\"}))\n",
    "print(longest_word_sequence(\"pythonexercises\", {\"py\", \"ex\", \"exercises\"}))"
   ]
  },
  {
   "cell_type": "markdown",
   "metadata": {},
   "source": [
    "### Q 216. From Wikipedia, the free encyclopaedia:A happy number is defined by the following process:Starting with any positive integer, replace the number by the sum of the squares of its digits, and repeat the process until the number equals 1 (where it will stay), or it loops endlessly in a cycle which does not include 1. Those numbers for which this process ends in 1 are happy numbers, while those that do not end in 1 are unhappy numbers.Write a Python program to check whether a number is \"happy\" or not. \n",
    "    Sample Input:\n",
    "    (7)\n",
    "    (932)\n",
    "    (6)\n",
    "    Sample Output:\n",
    "    True\n",
    "    True\n",
    "    False"
   ]
  },
  {
   "cell_type": "code",
   "execution_count": 1,
   "metadata": {},
   "outputs": [
    {
     "name": "stdout",
     "output_type": "stream",
     "text": [
      "True\n",
      "True\n",
      "False\n"
     ]
    }
   ],
   "source": [
    "def is_Happy_num(n):\n",
    "  past = set()\n",
    "  while n != 1:\n",
    "        n = sum(int(i)**2 for i in str(n))\n",
    "        if n in past:\n",
    "            return False\n",
    "        past.add(n)\n",
    "  return True\n",
    "print(is_Happy_num(7))\n",
    "print(is_Happy_num(932))\n",
    "print(is_Happy_num(6))"
   ]
  },
  {
   "cell_type": "markdown",
   "metadata": {},
   "source": [
    "### Q 217. From Wikipedia,\n",
    "### A happy number is defined by the following process:\n",
    "### Starting with any positive integer, replace the number by the sum of the squares of its digits, and repeat the process until the number equals 1 (where it will stay), or it loops endlessly in a cycle which does not include 1. Those numbers for which this process ends in 1 are happy numbers, while those that do not end in 1 are unhappy numbers.\n",
    "    Write a Python program to find and print the first 10 happy numbers. \n",
    "    Sample Input:\n",
    "    [:10]\n",
    "    Sample Output:\n",
    "    [1, 7, 10, 13, 19, 23, 28, 31, 32, 44]"
   ]
  },
  {
   "cell_type": "code",
   "execution_count": 2,
   "metadata": {},
   "outputs": [
    {
     "name": "stdout",
     "output_type": "stream",
     "text": [
      "[1, 7, 10, 13, 19, 23, 28, 31, 32, 44]\n"
     ]
    }
   ],
   "source": [
    "def happy_numbers(n):\n",
    "    past = set()\t\t\t\n",
    "    while n != 1:\n",
    "        n = sum(int(i)**2 for i in str(n))\n",
    "        if n in past:\n",
    "            return False\n",
    "        past.add(n)\n",
    "    return True\n",
    "print([x for x in range(500) if happy_numbers(x)][:10])"
   ]
  },
  {
   "cell_type": "markdown",
   "metadata": {},
   "source": [
    "### Q 218. Write a Python program to count the number of prime numbers less than a given non-negative number. \n",
    "    Sample Input:\n",
    "    (10)\n",
    "    (100)\n",
    "    Sample Output:\n",
    "    4\n",
    "    25"
   ]
  },
  {
   "cell_type": "code",
   "execution_count": 3,
   "metadata": {},
   "outputs": [
    {
     "name": "stdout",
     "output_type": "stream",
     "text": [
      "4\n",
      "25\n"
     ]
    }
   ],
   "source": [
    "def count_Primes_nums(n):\n",
    "    ctr = 0\n",
    "    \n",
    "    for num in range(n):\n",
    "        if num <= 1:\n",
    "            continue\n",
    "        for i in range(2, num):\n",
    "            if (num % i) == 0:\n",
    "                break\n",
    "        else:\n",
    "            ctr += 1\n",
    "\n",
    "    return ctr\n",
    "\n",
    "print(count_Primes_nums(10))\n",
    "print(count_Primes_nums(100))"
   ]
  },
  {
   "cell_type": "markdown",
   "metadata": {},
   "source": [
    "### Q 219. In abstract algebra, a group isomorphism is a function between two groups that sets up a one-to-one correspondence between the elements of the groups in a way that respects the given group operations. If there exists an isomorphism between two groups, then the groups are called isomorphic.Two strings are isomorphic if the characters in string A can be replaced to get string BGiven \"foo\", \"bar\", return false.Given \"paper\", \"title\", return true.Write a Python program to check if two given strings are isomorphic to each other or not. \n",
    "    Sample Input:\n",
    "    (\"foo\", \"bar\")\n",
    "    (\"bar\", \"foo\")\n",
    "    (\"paper\", \"title\")\n",
    "    (\"title\", \"paper\")\n",
    "    (\"apple\", \"orange\")\n",
    "    (\"aa\", \"ab\")\n",
    "    (\"ab\", \"aa\")\n",
    "    Sample Output:\n",
    "    False\n",
    "    False\n",
    "    True\n",
    "    True\n",
    "    False\n",
    "    False\n",
    "    False"
   ]
  },
  {
   "cell_type": "code",
   "execution_count": 4,
   "metadata": {},
   "outputs": [
    {
     "name": "stdout",
     "output_type": "stream",
     "text": [
      "False\n",
      "False\n",
      "True\n",
      "True\n",
      "False\n",
      "False\n",
      "False\n"
     ]
    }
   ],
   "source": [
    "def isIsomorphic(str1, str2):          \n",
    "    dict_str1 = {}\n",
    "    dict_str2 = {}\n",
    "    \n",
    "    for i, value in enumerate(str1):\n",
    "        dict_str1[value] = dict_str1.get(value, []) + [i]\n",
    "            \n",
    "    for j, value in enumerate(str2):\n",
    "        dict_str2[value] = dict_str2.get(value, []) + [j]\n",
    "    \n",
    "    if sorted(dict_str1.values()) == sorted(dict_str2.values()):\n",
    "        return True\n",
    "    else:\n",
    "        return False\n",
    "\n",
    "print(isIsomorphic(\"foo\", \"bar\"));         \n",
    "print(isIsomorphic(\"bar\", \"foo\"));      \n",
    "print(isIsomorphic(\"paper\", \"title\"));   \n",
    "print(isIsomorphic(\"title\", \"paper\"));\n",
    "print(isIsomorphic(\"apple\", \"orange\"));\n",
    "print(isIsomorphic(\"aa\", \"ab\"));\n",
    "print(isIsomorphic(\"ab\", \"aa\"));"
   ]
  },
  {
   "cell_type": "markdown",
   "metadata": {},
   "source": [
    "### Q 220. Write a Python program to find the longest common prefix string amongst a given array of strings. Return false If there is no common prefix.For Example, longest common prefix of \"abcdefgh\" and \"abcefgh\" is \"abc\".\n",
    "    Sample Input:\n",
    "    [\"abcdefgh\",\"abcefgh\"]\n",
    "    [\"w3r\",\"w3resource\"]\n",
    "    [\"Python\",\"PHP\", \"Perl\"]\n",
    "    [\"Python\",\"PHP\", \"Java\"]\n",
    "    Sample Output:\n",
    "    abc\n",
    "    w3r\n",
    "    P"
   ]
  },
  {
   "cell_type": "code",
   "execution_count": 5,
   "metadata": {},
   "outputs": [
    {
     "name": "stdout",
     "output_type": "stream",
     "text": [
      "abc\n",
      "w3r\n",
      "P\n",
      "\n"
     ]
    }
   ],
   "source": [
    "def longest_Common_Prefix(str1):\n",
    "    \n",
    "    if not str1:\n",
    "        return \"\"\n",
    "\n",
    "    short_str = min(str1,key=len)\n",
    "\n",
    "    for i, char in enumerate(short_str):\n",
    "        for other in str1:\n",
    "            if other[i] != char:\n",
    "                return short_str[:i]\n",
    "\n",
    "    return short_str \n",
    "\n",
    "print(longest_Common_Prefix([\"abcdefgh\",\"abcefgh\"]))\n",
    "print(longest_Common_Prefix([\"w3r\",\"w3resource\"]))\n",
    "print(longest_Common_Prefix([\"Python\",\"PHP\", \"Perl\"]))\n",
    "print(longest_Common_Prefix([\"Python\",\"PHP\", \"Java\"]))"
   ]
  },
  {
   "cell_type": "markdown",
   "metadata": {},
   "source": [
    "### Q 211. Write a Python program to reverse only the vowels of a given string. \n",
    "    Sample Input:\n",
    "    (\"resource\")\n",
    "    (\"Python\")\n",
    "    (\"Perl\")\n",
    "    (\"USA\")\n",
    "    Sample Output:\n",
    "    resuorce\n",
    "    Python\n",
    "    Perl\n",
    "    ASU"
   ]
  },
  {
   "cell_type": "code",
   "execution_count": 7,
   "metadata": {},
   "outputs": [
    {
     "name": "stdout",
     "output_type": "stream",
     "text": [
      "resuorce\n",
      "Python\n",
      "Perl\n",
      "ASU\n"
     ]
    }
   ],
   "source": [
    "def reverse_vowels(str1):\n",
    "    vowels = \"\"\n",
    "    for char in str1:\n",
    "        if char in \"aeiouAEIOU\":\n",
    "            vowels += char\n",
    "    result_string = \"\"\n",
    "    for char in str1:\n",
    "        if char in \"aeiouAEIOU\":\n",
    "            result_string += vowels[-1]\n",
    "            vowels = vowels[:-1]\n",
    "        else:\n",
    "            result_string += char\n",
    "    return result_string\n",
    "print(reverse_vowels(\"resource\"))\n",
    "print(reverse_vowels(\"Python\"))\n",
    "print(reverse_vowels(\"Perl\"))\n",
    "print(reverse_vowels(\"USA\"))"
   ]
  },
  {
   "cell_type": "markdown",
   "metadata": {},
   "source": [
    "### Q 222. Write a Python program to check whether a given integer is a palindrome or not. \n",
    "    Note: An integer is a palindrome when it reads the same backward as forward. Negative numbers are not palindromic.\n",
    "    Sample Input:\n",
    "    (100)\n",
    "    (252)\n",
    "    (-838)\n",
    "    Sample Output:\n",
    "    False\n",
    "    True\n",
    "    False"
   ]
  },
  {
   "cell_type": "code",
   "execution_count": 8,
   "metadata": {},
   "outputs": [
    {
     "name": "stdout",
     "output_type": "stream",
     "text": [
      "False\n",
      "True\n",
      "False\n"
     ]
    }
   ],
   "source": [
    "def is_Palindrome(n):\n",
    "    return str(n) == str(n)[::-1]\n",
    "print(is_Palindrome(100))\n",
    "print(is_Palindrome(252))\n",
    "print(is_Palindrome(-838)) "
   ]
  },
  {
   "cell_type": "markdown",
   "metadata": {},
   "source": [
    "### Q 223. Write a Python program to remove the duplicate elements of a given array of numbers such that each element appear only once and return the new length of the given array. \n",
    "    Sample Input:\n",
    "    [0,0,1,1,2,2,3,3,4,4,4]\n",
    "    [1, 2, 2, 3, 4, 4]\n",
    "    Sample Output:\n",
    "    5\n",
    "    4"
   ]
  },
  {
   "cell_type": "code",
   "execution_count": 9,
   "metadata": {},
   "outputs": [
    {
     "name": "stdout",
     "output_type": "stream",
     "text": [
      "5\n",
      "4\n"
     ]
    }
   ],
   "source": [
    "def remove_duplicates(nums):\n",
    "    for i in range (len(nums)-1, 0, -1):\n",
    "        if nums[i] == nums[i-1]:\n",
    "            del nums[i-1]\n",
    "    return len(nums)\n",
    "\n",
    "print(remove_duplicates([0,0,1,1,2,2,3,3,4,4,4]))\n",
    "print(remove_duplicates([1, 2, 2, 3, 4, 4]))"
   ]
  },
  {
   "cell_type": "markdown",
   "metadata": {},
   "source": [
    "### Q 224. Write a Python program to calculate the maximum profit from selling and buying values of stock. An array of numbers represent the stock prices in chronological order. \n",
    "    For example, given [8, 10, 7, 5, 7, 15], the function will return 10, since the buying value of the stock is 5 dollars and sell value is 15 dollars.\n",
    "    Sample Input:\n",
    "    ([8, 10, 7, 5, 7, 15])\n",
    "    ([1, 2, 8, 1])\n",
    "    ([])\n",
    "    Sample Output:\n",
    "    10\n",
    "    7\n",
    "    0"
   ]
  },
  {
   "cell_type": "code",
   "execution_count": 10,
   "metadata": {},
   "outputs": [
    {
     "name": "stdout",
     "output_type": "stream",
     "text": [
      "10\n",
      "7\n",
      "0\n"
     ]
    }
   ],
   "source": [
    "def buy_and_sell(stock_price):\n",
    "    max_profit_val, current_max_val = 0, 0 \n",
    "    for price in reversed(stock_price):                       \n",
    "        current_max_val = max(current_max_val, price)          \n",
    "        potential_profit = current_max_val - price          \n",
    "        max_profit_val = max(potential_profit, max_profit_val)\n",
    "\n",
    "    return max_profit_val\n",
    "\n",
    "print(buy_and_sell([8, 10, 7, 5, 7, 15]))\n",
    "print(buy_and_sell([1, 2, 8, 1]))\n",
    "print(buy_and_sell([]))"
   ]
  },
  {
   "cell_type": "markdown",
   "metadata": {},
   "source": [
    "### Q 225. Write a Python program to remove all instances of a given value from a given array of integers and find the length of the new array. \n",
    "    Sample Input:\n",
    "    ([1, 2, 3, 4, 5, 6, 7, 5], 5)\n",
    "    ([10,10,10,10,10], 10)\n",
    "    ([10,10,10,10,10], 20)\n",
    "    ([], 1)\n",
    "    Sample Output:\n",
    "    6\n",
    "    0\n",
    "    5\n",
    "    0"
   ]
  },
  {
   "cell_type": "code",
   "execution_count": 11,
   "metadata": {},
   "outputs": [
    {
     "name": "stdout",
     "output_type": "stream",
     "text": [
      "6\n",
      "0\n",
      "5\n",
      "0\n"
     ]
    }
   ],
   "source": [
    "def remove_element(array_nums, val):\n",
    "    i = 0\n",
    "    while i < len(array_nums):\n",
    "        if array_nums[i] == val:\n",
    "            array_nums.remove(array_nums[i])\n",
    "\n",
    "        else:\n",
    "            i += 1\n",
    "\n",
    "    return len(array_nums)\n",
    "print(remove_element([1, 2, 3, 4, 5, 6, 7, 5], 5))\n",
    "print(remove_element([10,10,10,10,10], 10)) \n",
    "print(remove_element([10,10,10,10,10], 20)) \n",
    "print(remove_element([], 1))"
   ]
  },
  {
   "cell_type": "markdown",
   "metadata": {},
   "source": [
    "### Q 226. Write a Python program to find the starting and ending position of a given value in a given array of integers, sorted in ascending order.\n",
    "    If the target is not found in the array, return [0, 0].\n",
    "    Input: [5, 7, 7, 8, 8, 8] target value = 8\n",
    "    Output: [0, 5]\n",
    "    Input: [1, 3, 6, 9, 13, 14] target value = 4\n",
    "    Output: [0, 0]"
   ]
  },
  {
   "cell_type": "code",
   "execution_count": 12,
   "metadata": {},
   "outputs": [
    {
     "name": "stdout",
     "output_type": "stream",
     "text": [
      "[0, 5]\n",
      "[0, 0]\n",
      "[0, 3]\n"
     ]
    }
   ],
   "source": [
    "def search_Range(array_nums, target_val):\n",
    "  result_arra = []\n",
    "  start_pos = 0\n",
    "  end_pos = 0\n",
    "  for i in range(len(array_nums)):\n",
    "      if target_val == array_nums[i] and start_pos == -1:\n",
    "          start_pos = i\n",
    "          end_pos = i\n",
    "      elif target_val == array_nums[i] and start_pos != -1:\n",
    "          end_pos = i\n",
    "  result_arra.append(start_pos)\n",
    "  result_arra.append(end_pos)\n",
    "  return result_arra\n",
    "print(search_Range([5, 7, 7, 8, 8, 8], 8))\n",
    "print(search_Range([1, 3, 6, 9, 13, 14], 4))\n",
    "print(search_Range([5, 7, 7, 8, 10], 8))"
   ]
  },
  {
   "cell_type": "markdown",
   "metadata": {},
   "source": [
    "### Q 227. The price of a given stock on each day is stored in an array.\n",
    "#### Write a Python program to find the maximum profit in one transaction i.e., buy one and sell one share of the stock from the given price value of the said array. You cannot sell a stock before you buy one. \n",
    "    Input (Stock price of each day): [224, 236, 247, 258, 259, 225]\n",
    "    Output: 35\n",
    "    Explanation:\n",
    "    236 - 224 = 12\n",
    "    247 - 224 = 23\n",
    "    258 - 224 = 34\n",
    "    259 - 224 = 35\n",
    "    225 - 224 = 1\n",
    "    247 - 236 = 11\n",
    "    258 - 236 = 22\n",
    "    259 - 236 = 23\n",
    "    225 - 236 = -11\n",
    "    258 - 247 = 11\n",
    "    259 - 247 = 12\n",
    "    225 - 247 = -22\n",
    "    259 - 258 = 1\n",
    "    225 - 258 = -33\n",
    "    225 - 259 = -34"
   ]
  },
  {
   "cell_type": "markdown",
   "metadata": {},
   "source": [
    "### Q 228. Write a Python program to print a given N by M matrix of numbers line by line in forward > backwards > forward >... order. \n",
    "    Input matrix:\n",
    "    [[1, 2, 3,4],\n",
    "    [5, 6, 7, 8],\n",
    "    [0, 6, 2, 8],\n",
    "    [2, 3, 0, 2]]\n",
    "    Output:\n",
    "    1\n",
    "    2\n",
    "    3\n",
    "    4\n",
    "    8\n",
    "    7\n",
    "    6\n",
    "    5\n",
    "    0\n",
    "    6\n",
    "    2\n",
    "    8\n",
    "    2\n",
    "    0\n",
    "    3\n",
    "    2"
   ]
  },
  {
   "cell_type": "code",
   "execution_count": 13,
   "metadata": {},
   "outputs": [
    {
     "name": "stdout",
     "output_type": "stream",
     "text": [
      "1\n",
      "2\n",
      "3\n",
      "4\n",
      "8\n",
      "7\n",
      "6\n",
      "5\n",
      "0\n",
      "6\n",
      "2\n",
      "8\n",
      "2\n",
      "0\n",
      "3\n",
      "2\n"
     ]
    }
   ],
   "source": [
    "def print_matrix(nums):\n",
    "    flag = True \n",
    "    \n",
    "    for line in nums:\n",
    "\n",
    "        if flag == True: \n",
    "            i = 0\n",
    "            while i < len(line):\n",
    "                print(line[i])\n",
    "                i += 1\n",
    "            flag = False\n",
    "\n",
    "        else: \n",
    "            i = -1\n",
    "            while i > -1 * len(line) - 1:\n",
    "                print(line[i])\n",
    "                i = i - 1\n",
    "            flag = True\n",
    "print_matrix([[1, 2, 3, 4],\n",
    "              [5, 6, 7, 8],\n",
    "              [0, 6, 2, 8],\n",
    "              [2, 3, 0, 2]])"
   ]
  },
  {
   "cell_type": "markdown",
   "metadata": {},
   "source": [
    "### Q 229. Write a Python program to compute the largest product of three integers from a given list of integers. \n",
    "    Sample Input:\n",
    "    [-10, -20, 20, 1]\n",
    "    [-1, -1, 4, 2, 1]\n",
    "    [1, 2, 3, 4, 5, 6]\n",
    "    Sample Output:\n",
    "    4000\n",
    "    8\n",
    "    120"
   ]
  },
  {
   "cell_type": "code",
   "execution_count": 14,
   "metadata": {},
   "outputs": [
    {
     "name": "stdout",
     "output_type": "stream",
     "text": [
      "4000\n",
      "8\n",
      "120\n"
     ]
    }
   ],
   "source": [
    "def largest_product_of_three(nums):\n",
    "    max_val = nums[1]\n",
    "\n",
    "    for i in range(len(nums)):\n",
    "        for j in range(i+1, len(nums)):\n",
    "            for k in range(j+1, len(nums)):\n",
    "                max_val = max(nums[i] * nums[j] * nums[k], max_val)\n",
    "                \n",
    "    return max_val\n",
    "    \n",
    "print(largest_product_of_three([-10, -20, 20, 1]))\n",
    "print(largest_product_of_three([-1, -1, 4, 2, 1]))\n",
    "print(largest_product_of_three([1, 2, 3, 4, 5, 6]))"
   ]
  },
  {
   "cell_type": "markdown",
   "metadata": {},
   "source": [
    "### Q 230. Write a Python program to find the first missing positive integer that does not exist in a given list. \n",
    "    Sample Input:\n",
    "    [2, 3, 7, 6, 8, -1, -10, 15, 16]\n",
    "    [1, 2, 4, -7, 6, 8, 1, -10, 15]\n",
    "    [1, 2, 3, 4, 5, 6, 7]\n",
    "    [-2, -3, -1, 1, 2, 3]\n",
    "    Sample Output:\n",
    "    4\n",
    "    3\n",
    "    8\n",
    "    4"
   ]
  },
  {
   "cell_type": "code",
   "execution_count": 15,
   "metadata": {},
   "outputs": [
    {
     "name": "stdout",
     "output_type": "stream",
     "text": [
      "4\n",
      "3\n",
      "8\n",
      "4\n"
     ]
    }
   ],
   "source": [
    "def first_missing_number(nums):\n",
    "    if len(nums) == 0:\n",
    "        return 1\n",
    "        \n",
    "    nums.sort()\n",
    "    smallest_int_num = 0\n",
    "    \n",
    "    for i in range(len(nums) - 1):\n",
    "\n",
    "        if nums[i] <= 0 or nums[i] == nums[i + 1]:\n",
    "            continue\n",
    "        else:\n",
    "            if nums[i + 1] - nums[i] != 1:\n",
    "                smallest_int_num = nums[i] + 1\n",
    "                return smallest_int_num    \n",
    "    if smallest_int_num == 0:\n",
    "        smallest_int_num = nums[-1] + 1\n",
    "    return smallest_int_num\n",
    "\n",
    "print(first_missing_number([2, 3, 7, 6, 8, -1, -10, 15, 16])) \n",
    "print(first_missing_number([1, 2, 4, -7, 6, 8, 1, -10, 15]))\n",
    "print(first_missing_number([1, 2, 3, 4, 5, 6, 7]))\n",
    "print(first_missing_number([-2, -3, -1, 1, 2, 3]))"
   ]
  },
  {
   "cell_type": "markdown",
   "metadata": {},
   "source": [
    "### Q 231. Write a Python program to randomly generate a list with 10 even numbers between 1 and 100 inclusive. \n",
    "    Note: Use random.sample() to generate a list of random values.\n",
    "    Sample Input:\n",
    "    (1,100)\n",
    "    Sample Output:\n",
    "    [4, 22, 8, 20, 24, 12, 30, 98, 28, 48]"
   ]
  },
  {
   "cell_type": "code",
   "execution_count": 16,
   "metadata": {},
   "outputs": [
    {
     "name": "stdout",
     "output_type": "stream",
     "text": [
      "[20, 14, 78, 36, 48, 4, 82, 16, 62, 72]\n"
     ]
    }
   ],
   "source": [
    "import random\n",
    "print(random.sample([i for i in range(1,100) if i%2==0], 10))"
   ]
  },
  {
   "cell_type": "markdown",
   "metadata": {},
   "source": [
    "### Q 232. Write a Python program to calculate the median from a list of numbers. \n",
    "    Sample Input:\n",
    "    [1,2,3,4,5]\n",
    "    [1,2,3,4,5,6]\n",
    "    [6,1,2,4,5,3]\n",
    "    [1.0,2.11,3.3,4.2,5.22,6.55]\n",
    "    [1.0,2.11,3.3,4.2,5.22]\n",
    "    [2.0,12.11,22.3,24.12,55.22]\n",
    "    Sample Output:\n",
    "    3\n",
    "    3.5\n",
    "    3.5\n",
    "    3.75\n",
    "    3.3\n",
    "    22.3"
   ]
  },
  {
   "cell_type": "code",
   "execution_count": 17,
   "metadata": {},
   "outputs": [
    {
     "name": "stdout",
     "output_type": "stream",
     "text": [
      "3\n",
      "3.5\n",
      "3.5\n",
      "3.75\n",
      "3.3\n",
      "22.3\n"
     ]
    }
   ],
   "source": [
    "def cal_median(nums):\n",
    "  nums.sort()\n",
    "  n = len(nums)\n",
    "  m = n // 2\n",
    "  if n % 2 == 0:\n",
    "    return (nums[m - 1] + nums[m]) / 2\n",
    "  else:\n",
    "    return nums[m]\n",
    "print(cal_median([1,2,3,4,5]))\n",
    "print(cal_median([1,2,3,4,5,6]))\n",
    "print(cal_median([6,1,2,4,5,3]))\n",
    "print(cal_median([1.0,2.11,3.3,4.2,5.22,6.55]))\n",
    "print(cal_median([1.0,2.11,3.3,4.2,5.22]))\n",
    "print(cal_median([2.0,12.11,22.3,24.12,55.22]))"
   ]
  },
  {
   "cell_type": "markdown",
   "metadata": {},
   "source": [
    "### Q 233. Write a Python program to test whether a given number is symmetrical or not. \n",
    "    A number is symmetrical when it is equal of its reverse.\n",
    "    Sample Input:\n",
    "    (121)\n",
    "    (0)\n",
    "    (122)\n",
    "    (990099)\n",
    "    Sample Output:\n",
    "    True\n",
    "    True\n",
    "    False\n",
    "    True"
   ]
  },
  {
   "cell_type": "code",
   "execution_count": 18,
   "metadata": {},
   "outputs": [
    {
     "name": "stdout",
     "output_type": "stream",
     "text": [
      "True\n",
      "True\n",
      "False\n",
      "True\n"
     ]
    }
   ],
   "source": [
    "def is_symmetrical_num(n):\n",
    "  return str(n) == str(n)[::-1]\n",
    "print(is_symmetrical_num(121))\n",
    "print(is_symmetrical_num(0))\n",
    "print(is_symmetrical_num(122))\n",
    "print(is_symmetrical_num(990099))"
   ]
  },
  {
   "cell_type": "markdown",
   "metadata": {},
   "source": [
    "### Q 234. Write a Python program that accept a list of numbers and create a list to store the count of negative number in first element and store the sum of positive numbers in second element. \n",
    "    Sample Input:\n",
    "    [1, 2, 3, 4, 5]\n",
    "    [-1, -2, -3, -4, -5]\n",
    "    [1, 2, 3, -4, -5]\n",
    "    [1, 2, -3, -4, -5]\n",
    "    Sample Output:\n",
    "    [0, 15]\n",
    "    [5, 0]\n",
    "    [2, 6]\n",
    "    [3, 3]"
   ]
  },
  {
   "cell_type": "code",
   "execution_count": 19,
   "metadata": {},
   "outputs": [
    {
     "name": "stdout",
     "output_type": "stream",
     "text": [
      "[0, 15]\n",
      "[5, 0]\n",
      "[2, 6]\n",
      "[3, 3]\n"
     ]
    }
   ],
   "source": [
    "def count_sum(nums):\n",
    "    if not nums: return []\n",
    "    return [len([n for n in nums if n < 0]), sum(n for n in nums if n > 0)]\n",
    "\n",
    "print(count_sum([1, 2, 3, 4, 5]))\n",
    "print(count_sum([-1, -2, -3, -4, -5]))\n",
    "print(count_sum([1, 2, 3, -4, -5]))\n",
    "print(count_sum([1, 2, -3, -4, -5])) "
   ]
  },
  {
   "cell_type": "markdown",
   "metadata": {},
   "source": [
    "### Q 235. From Wikipedia: \n",
    "#### An isogram (also known as a \"nonpattern word\") is a logological term for a word or phrase without a repeating letter. It is also used by some people to mean a word or phrase in which each letter appears the same number of times, not necessarily just once. Conveniently, the word itself is an isogram in both senses of the word, making it autological.Write a Python program to check whether a given string is an \"isogram\" or not. \n",
    "    Sample Input:\n",
    "    (\"resource\")\n",
    "    (\"a3b\")\n",
    "    (\"Python\")\n",
    "    (\"Java\")\n",
    "    Sample Output:\n",
    "    False\n",
    "    True\n",
    "    True\n",
    "    False"
   ]
  },
  {
   "cell_type": "code",
   "execution_count": 21,
   "metadata": {},
   "outputs": [
    {
     "name": "stdout",
     "output_type": "stream",
     "text": [
      "False\n",
      "True\n",
      "True\n",
      "False\n"
     ]
    }
   ],
   "source": [
    "def check_isogram(str1):\n",
    "    return len(str1) == len(set(str1.lower()))\n",
    "\n",
    "print(check_isogram(\"resource\"))\n",
    "print(check_isogram(\"a3b\"))\n",
    "print(check_isogram(\"Python\"))\n",
    "print(check_isogram(\"Java\"))"
   ]
  },
  {
   "cell_type": "markdown",
   "metadata": {},
   "source": [
    "### Q 236. Write a Python program to count the number of equal numbers from three given integers. \n",
    "    Sample Input:\n",
    "    (1, 1, 1)\n",
    "    (1, 2, 2)\n",
    "    (-1, -2, -3)\n",
    "    (-1, -1, -1)\n",
    "    Sample Output:\n",
    "    3\n",
    "    2\n",
    "    0\n",
    "    3"
   ]
  },
  {
   "cell_type": "code",
   "execution_count": 22,
   "metadata": {},
   "outputs": [
    {
     "name": "stdout",
     "output_type": "stream",
     "text": [
      "3\n",
      "2\n",
      "0\n",
      "3\n"
     ]
    }
   ],
   "source": [
    "def test_three_equal(x, y, z):\n",
    "  result= set([x, y, z])\n",
    "  if len(result)==3:\n",
    "    return 0\n",
    "  else:\n",
    "    return (4 - len(result))\n",
    "\n",
    "print(test_three_equal(1, 1, 1))\n",
    "print(test_three_equal(1, 2, 2))\n",
    "print(test_three_equal(-1, -2, -3))\n",
    "print(test_three_equal(-1, -1, -1))"
   ]
  },
  {
   "cell_type": "markdown",
   "metadata": {},
   "source": [
    "### Q 237. Write a Python program to check whether a given employee code is exactly 8 digits or 12 digits. Return True if the employee code is valid and False if it's not. \n",
    "    Sample Input:\n",
    "    ('12345678')\n",
    "    ('1234567j')\n",
    "    ('12345678j')\n",
    "    ('123456789123')\n",
    "    ('123456abcdef')\n",
    "    Sample Output:\n",
    "    True\n",
    "    False\n",
    "    False\n",
    "    True\n",
    "    False"
   ]
  },
  {
   "cell_type": "code",
   "execution_count": 23,
   "metadata": {},
   "outputs": [
    {
     "name": "stdout",
     "output_type": "stream",
     "text": [
      "True\n",
      "False\n",
      "False\n",
      "True\n",
      "False\n"
     ]
    }
   ],
   "source": [
    "def is_valid_emp_code(emp_code):\n",
    "  return len(emp_code) in [8, 12] and emp_code.isdigit()\n",
    "print(is_valid_emp_code('12345678'))\n",
    "print(is_valid_emp_code('1234567j'))\n",
    "print(is_valid_emp_code('12345678j'))\n",
    "print(is_valid_emp_code('123456789123'))\n",
    "print(is_valid_emp_code('123456abcdef'))"
   ]
  },
  {
   "cell_type": "markdown",
   "metadata": {},
   "source": [
    "### Q 238. Write a Python program that accept two strings and test if the letters in the second string are present in the first string. \n",
    "    Sample Input:\n",
    "    [\"python\", \"ypth\"]\n",
    "    [\"python\", \"ypths\"]\n",
    "    [\"python\", \"ypthon\"]\n",
    "    [\"123456\", \"01234\"]\n",
    "    [\"123456\", \"1234\"]\n",
    "    Sample Output:\n",
    "    True\n",
    "    False\n",
    "    True\n",
    "    False\n",
    "    True"
   ]
  },
  {
   "cell_type": "code",
   "execution_count": 24,
   "metadata": {},
   "outputs": [
    {
     "name": "stdout",
     "output_type": "stream",
     "text": [
      "True\n",
      "False\n",
      "True\n",
      "False\n",
      "True\n"
     ]
    }
   ],
   "source": [
    "def string_letter_check(list_data):\n",
    "  return all([char in list_data[0].lower() for char in list_data[1].lower()])\n",
    "print(string_letter_check([\"python\", \"ypth\"]))\n",
    "print(string_letter_check([\"python\", \"ypths\"]))\n",
    "print(string_letter_check([\"python\", \"ypthon\"]))\n",
    "print(string_letter_check([\"123456\", \"01234\"]))\n",
    "print(string_letter_check([\"123456\", \"1234\"]))"
   ]
  },
  {
   "cell_type": "markdown",
   "metadata": {},
   "source": [
    "### Q 239. Write a Python program to compute the sum of the three lowest positive numbers from a given list of numbers. \n",
    "    Sample Input:\n",
    "    [10, 20, 30, 40, 50, 60, 7]\n",
    "    [1, 2, 3, 4, 5]\n",
    "    [0, 1, 2, 3, 4, 5]\n",
    "    Sample Output:\n",
    "    37\n",
    "    6\n",
    "    6"
   ]
  },
  {
   "cell_type": "code",
   "execution_count": 25,
   "metadata": {},
   "outputs": [
    {
     "name": "stdout",
     "output_type": "stream",
     "text": [
      "37\n",
      "6\n",
      "6\n"
     ]
    }
   ],
   "source": [
    "def sum_three_smallest_nums(lst):\n",
    "    return sum(sorted([x for x in lst if x > 0])[:3])\n",
    "\n",
    "print(sum_three_smallest_nums([10, 20, 30, 40, 50, 60, 7]))\n",
    "print(sum_three_smallest_nums([1, 2, 3, 4, 5]))\n",
    "print(sum_three_smallest_nums([0, 1, 2, 3, 4, 5]))"
   ]
  },
  {
   "cell_type": "markdown",
   "metadata": {},
   "source": [
    "### Q 240. Write a Python program to replace all but the last five characters of a given string into \"*\" and returns the new masked string. Go to the editor\n",
    "    Sample Input:\n",
    "    (\"kdi39323swe\")\n",
    "    (\"12345abcdef\")\n",
    "    (\"12345\")\n",
    "    Sample Output:\n",
    "    ******23swe\n",
    "    ******bcdef\n",
    "    12345"
   ]
  },
  {
   "cell_type": "code",
   "execution_count": 29,
   "metadata": {},
   "outputs": [
    {
     "name": "stdout",
     "output_type": "stream",
     "text": [
      "******23swe\n",
      "******bcdef\n",
      "12345\n"
     ]
    }
   ],
   "source": [
    "def mask_string(str1):\n",
    "  return '*'*(len(str1)-5) + str1[-5:]\n",
    "\n",
    "print(mask_string(\"kdi39323swe\"))\n",
    "print(mask_string(\"12345abcdef\"))\n",
    "print(mask_string(\"12345\")) "
   ]
  },
  {
   "cell_type": "markdown",
   "metadata": {},
   "source": [
    "### Q 241. Write a Python program to count the number of arguments in a given function. \n",
    "    Sample Input:\n",
    "    ()\n",
    "    (1)\n",
    "    (1, 2)\n",
    "    (1, 2, 3)\n",
    "    (1, 2, 3, 4)\n",
    "    [1, 2, 3, 4]\n",
    "    Sample Output:\n",
    "    0\n",
    "    1\n",
    "    2\n",
    "    3\n",
    "    4\n",
    "    1"
   ]
  },
  {
   "cell_type": "code",
   "execution_count": 30,
   "metadata": {},
   "outputs": [
    {
     "name": "stdout",
     "output_type": "stream",
     "text": [
      "0\n",
      "1\n",
      "2\n",
      "3\n",
      "4\n",
      "1\n"
     ]
    }
   ],
   "source": [
    "def num_of_args(*args):\n",
    "\treturn(len(args))\n",
    "print(num_of_args())\n",
    "print(num_of_args(1))\n",
    "print(num_of_args(1, 2))\n",
    "print(num_of_args(1, 2, 3))\n",
    "print(num_of_args(1, 2, 3, 4))\n",
    "print(num_of_args([1, 2, 3, 4]))"
   ]
  },
  {
   "cell_type": "markdown",
   "metadata": {},
   "source": [
    "### Q 242. Write a Python program to compute cumulative sum of numbers of a given list. \n",
    "    Note: Cumulative sum = sum of itself + all previous numbers in the said list.\n",
    "    Sample Input:\n",
    "    [10, 20, 30, 40, 50, 60, 7]\n",
    "    [1, 2, 3, 4, 5]\n",
    "    [0, 1, 2, 3, 4, 5]\n",
    "    Sample Output:\n",
    "    [10, 30, 60, 100, 150, 210, 217]\n",
    "    [1, 3, 6, 10, 15]\n",
    "    [0, 1, 3, 6, 10, 15]"
   ]
  },
  {
   "cell_type": "code",
   "execution_count": 31,
   "metadata": {},
   "outputs": [
    {
     "name": "stdout",
     "output_type": "stream",
     "text": [
      "[10, 30, 60, 100, 150, 210, 217]\n",
      "[1, 3, 6, 10, 15]\n",
      "[0, 1, 3, 6, 10, 15]\n"
     ]
    }
   ],
   "source": [
    "def nums_cumulative_sum(nums_list):\n",
    "  return [sum(nums_list[:i+1]) for i in range(len(nums_list))]\n",
    "\n",
    "print(nums_cumulative_sum([10, 20, 30, 40, 50, 60, 7]))\n",
    "print(nums_cumulative_sum([1, 2, 3, 4, 5]))\n",
    "print(nums_cumulative_sum([0, 1, 2, 3, 4, 5]))"
   ]
  },
  {
   "cell_type": "markdown",
   "metadata": {},
   "source": [
    "### Q 243. Write a Python program to find the middle character(s) of a given string. If the length of the string is odd return the middle character and return the middle two characters if the string length is even. \n",
    "    Sample Input:\n",
    "    (\"Python\")\n",
    "    (\"PHP\")\n",
    "    (\"Java\")\n",
    "    Sample Output:\n",
    "    th\n",
    "    H\n",
    "    av"
   ]
  },
  {
   "cell_type": "code",
   "execution_count": 32,
   "metadata": {},
   "outputs": [
    {
     "name": "stdout",
     "output_type": "stream",
     "text": [
      "th\n",
      "H\n",
      "av\n"
     ]
    }
   ],
   "source": [
    "def middle_char(txt):\n",
    "   return txt[(len(txt)-1)//2:(len(txt)+2)//2]\n",
    "print(middle_char(\"Python\"))\n",
    "print(middle_char(\"PHP\"))\n",
    "print(middle_char(\"Java\"))"
   ]
  },
  {
   "cell_type": "markdown",
   "metadata": {},
   "source": [
    "### Q 244. Write a Python program to find the largest product of the pair of adjacent elements from a given list of integers. \n",
    "    Sample Input:\n",
    "    [1,2,3,4,5,6]\n",
    "    [1,2,3,4,5]\n",
    "    [2,3]\n",
    "    Sample Output:\n",
    "    30\n",
    "    20\n",
    "    6"
   ]
  },
  {
   "cell_type": "code",
   "execution_count": 33,
   "metadata": {},
   "outputs": [
    {
     "name": "stdout",
     "output_type": "stream",
     "text": [
      "30\n",
      "20\n",
      "6\n"
     ]
    }
   ],
   "source": [
    "def adjacent_num_product(list_nums):\n",
    "    return max(a*b for a, b in zip(list_nums, list_nums[1:]))\n",
    "print(adjacent_num_product([1,2,3,4,5,6]))\n",
    "print(adjacent_num_product([1,2,3,4,5]))\n",
    "print(adjacent_num_product([2,3]))"
   ]
  },
  {
   "cell_type": "markdown",
   "metadata": {},
   "source": [
    "### Q 245. Write a Python program to check whether every even index contains an even number and every odd index contains odd number of a given list. \n",
    "    Sample Input:\n",
    "    [2, 1, 4, 3, 6, 7, 6, 3]\n",
    "    [2, 1, 4, 3, 6, 7, 6, 4]\n",
    "    [4, 1, 2]\n",
    "    Sample Output:\n",
    "    True\n",
    "    False\n",
    "    True"
   ]
  },
  {
   "cell_type": "code",
   "execution_count": 35,
   "metadata": {},
   "outputs": [
    {
     "name": "stdout",
     "output_type": "stream",
     "text": [
      "True\n",
      "False\n",
      "True\n"
     ]
    }
   ],
   "source": [
    "def odd_even_position(nums):\n",
    "    return all(nums[i]%2==i%2 for i in range(len(nums)))\n",
    "print(odd_even_position([2, 1, 4, 3, 6, 7, 6, 3]))\n",
    "print(odd_even_position([2, 1, 4, 3, 6, 7, 6, 4]))\n",
    "print(odd_even_position([4, 1, 2]))"
   ]
  },
  {
   "cell_type": "markdown",
   "metadata": {},
   "source": [
    "### Q 246. Write a Python program to check whether a given number is a narcissistic number or not.\n",
    "    If you are a reader of Greek mythology, then you are probably familiar with Narcissus. He was a hunter of exceptional beauty that he died because he was unable to leave a pool after falling in love with his own reflection. That's why I keep myself away from pools these days (kidding).\n",
    "    In mathematics, he has kins by the name of narcissistic numbers - numbers that can't get enough of themselves. In particular, they are numbers that are the sum of their digits when raised to the power of the number of digits.\n",
    "    For example, 371 is a narcissistic number; it has three digits, and if we cube each digits 33 + 73 + 13 the sum is 371. Other 3-digit narcissistic numbers are\n",
    "    153 = 13 + 53 + 33\n",
    "    370 = 33 + 73 + 03\n",
    "    407 = 43 + 03 + 73.\n",
    "    There are also 4-digit narcissistic numbers, some of which are 1634, 8208, 9474 since\n",
    "    1634 = 14+64+34+44\n",
    "    8208 = 84+24+04+84\n",
    "    9474 = 94+44+74+44\n",
    "    It has been proven that there are only 88 narcissistic numbers (in the decimal system) and that the largest of which is\n",
    "    115,132,219,018,763,992,565,095,597,973,971,522,401\n",
    "    has 39 digits.\n",
    "\n",
    "    Ref.: //https://bit.ly/2qNYxo2\n",
    "    Sample Input:\n",
    "    (153)\n",
    "    (370)\n",
    "    (407)\n",
    "    (409)\n",
    "    (1634)\n",
    "    (8208)\n",
    "    (9474)\n",
    "    (9475)\n",
    "    Sample Output:\n",
    "    True\n",
    "    True\n",
    "    True\n",
    "    False\n",
    "    True\n",
    "    True\n",
    "    True\n",
    "    False"
   ]
  },
  {
   "cell_type": "code",
   "execution_count": 36,
   "metadata": {},
   "outputs": [
    {
     "name": "stdout",
     "output_type": "stream",
     "text": [
      "True\n",
      "True\n",
      "True\n",
      "False\n",
      "True\n",
      "True\n",
      "True\n",
      "False\n"
     ]
    }
   ],
   "source": [
    "def is_narcissistic_num(num):\n",
    "\treturn num == sum([int(x) ** len(str(num)) for x in str(num)])\n",
    "\n",
    "print(is_narcissistic_num(153))\n",
    "print(is_narcissistic_num(370))\n",
    "print(is_narcissistic_num(407))\n",
    "print(is_narcissistic_num(409))\n",
    "print(is_narcissistic_num(1634))\n",
    "print(is_narcissistic_num(8208))\n",
    "print(is_narcissistic_num(9474))\n",
    "print(is_narcissistic_num(9475))"
   ]
  },
  {
   "cell_type": "markdown",
   "metadata": {},
   "source": [
    "### Q 247. Write a Python program to find the highest and lowest number from a given string of space separated integers. \n",
    "    Sample Input:\n",
    "    (\"1 4 5 77 9 0\")\n",
    "    (\"-1 -4 -5 -77 -9 0\")\n",
    "    (\"0 0\")\n",
    "    Sample Output:\n",
    "    (77, 0)\n",
    "    (0, -77)\n",
    "    (0, 0)"
   ]
  },
  {
   "cell_type": "code",
   "execution_count": 37,
   "metadata": {},
   "outputs": [
    {
     "name": "stdout",
     "output_type": "stream",
     "text": [
      "(77, 0)\n",
      "(0, -77)\n",
      "(0, 0)\n"
     ]
    }
   ],
   "source": [
    "def highest_lowest_num(str1):\n",
    "  num_list = list(map(int, str1.split()))\n",
    "  return max(num_list), min(num_list)\n",
    "\n",
    "print(highest_lowest_num(\"1 4 5 77 9 0\"))\n",
    "print(highest_lowest_num(\"-1 -4 -5 -77 -9 0\"))\n",
    "print(highest_lowest_num(\"0 0\"))"
   ]
  },
  {
   "cell_type": "markdown",
   "metadata": {},
   "source": [
    "### Q 248. Write a Python program to check whether a sequence of numbers has an increasing trend or not. \n",
    "    Sample Input:\n",
    "    [1,2,3,4]\n",
    "    [1,2,5,3,4]\n",
    "    [-1,-2,-3,-4]\n",
    "    [-4,-3,-2,-1]\n",
    "    [1,2,3,4,0]\n",
    "    Sample Output:\n",
    "    True\n",
    "    False\n",
    "    False\n",
    "    True\n",
    "    False"
   ]
  },
  {
   "cell_type": "code",
   "execution_count": 38,
   "metadata": {},
   "outputs": [
    {
     "name": "stdout",
     "output_type": "stream",
     "text": [
      "True\n",
      "False\n",
      "False\n",
      "True\n",
      "False\n"
     ]
    }
   ],
   "source": [
    "def increasing_trend(nums):\n",
    "    if (sorted(nums) == nums):\n",
    "        return True\n",
    "    else:\n",
    "        return False\n",
    "\n",
    "print(increasing_trend([1,2,3,4]))\n",
    "print(increasing_trend([1,2,5,3,4]))\n",
    "print(increasing_trend([-1,-2,-3,-4]))\n",
    "print(increasing_trend([-4,-3,-2,-1]))\n",
    "print(increasing_trend([1,2,3,4,0]))"
   ]
  },
  {
   "cell_type": "markdown",
   "metadata": {},
   "source": [
    "### Q 249. Write a Python program to find the position of the second occurrence of a given string in another given string. If there is no such string return -1. \n",
    "    Sample Input:\n",
    "    (\"The quick brown fox jumps over the lazy dog\", \"the\")\n",
    "    (\"the quick brown fox jumps over the lazy dog\", \"the\")\n",
    "    Sample Output:\n",
    "    -1\n",
    "    31"
   ]
  },
  {
   "cell_type": "code",
   "execution_count": 39,
   "metadata": {},
   "outputs": [
    {
     "name": "stdout",
     "output_type": "stream",
     "text": [
      "-1\n",
      "31\n"
     ]
    }
   ],
   "source": [
    "def find_string(txt, str1):\n",
    "    return txt.find(str1, txt.find(str1)+1)\n",
    "\n",
    "print(find_string(\"The quick brown fox jumps over the lazy dog\", \"the\"))\n",
    "print(find_string(\"the quick brown fox jumps over the lazy dog\", \"the\"))"
   ]
  },
  {
   "cell_type": "markdown",
   "metadata": {},
   "source": [
    "### Q 250. Write a Python program to compute the sum of all items of a given array of integers where each integer is multiplied by its index. Return 0 if there is no number. \n",
    "    Sample Input:\n",
    "    [1,2,3,4]\n",
    "    [-1,-2,-3,-4]\n",
    "    []\n",
    "    Sample Output:\n",
    "    20\n",
    "    -20\n",
    "    0"
   ]
  },
  {
   "cell_type": "code",
   "execution_count": 41,
   "metadata": {},
   "outputs": [
    {
     "name": "stdout",
     "output_type": "stream",
     "text": [
      "20\n",
      "-20\n",
      "0\n"
     ]
    }
   ],
   "source": [
    "def sum_index_multiplier(nums):\n",
    "    return sum(j*i for i, j in enumerate(nums))\n",
    "\n",
    "print(sum_index_multiplier([1,2,3,4]))\n",
    "print(sum_index_multiplier([-1,-2,-3,-4]))\n",
    "print(sum_index_multiplier([]))"
   ]
  },
  {
   "cell_type": "markdown",
   "metadata": {},
   "source": [
    "### Q 251. Write a Python program to find the name of the oldest student from a given dictionary containing the names and ages of a group of students. \n",
    "    Sample Input:\n",
    "    {\"Bernita Ahner\": 12, \"Kristie Marsico\": 11, \"Sara Pardee\": 14, \"Fallon Fabiano\": 11, \"Nidia Dominique\": 15}\n",
    "    {\"Nilda Woodside\": 12, \"Jackelyn Pineda\": 12.2, \"Sofia Park\": 12.4, \"Joannie Archibald\": 12.6, \"Becki Saunder\": 12.7}\n",
    "    Sample Output:\n",
    "    Nidia Dominique\n",
    "    Becki Saunder"
   ]
  },
  {
   "cell_type": "markdown",
   "metadata": {},
   "source": [
    "### Q 252. Write a Python program to create a new string with no duplicate consecutive letters from a given string. \n",
    "    Sample Input:\n",
    "    (\"PPYYYTTHON\")\n",
    "    (\"PPyyythonnn\")\n",
    "    (\"Java\")\n",
    "    (\"PPPHHHPPP\")\n",
    "    Sample Output:\n",
    "    PYTHON\n",
    "    Python\n",
    "    Java\n",
    "    PHP"
   ]
  },
  {
   "cell_type": "code",
   "execution_count": 42,
   "metadata": {},
   "outputs": [
    {
     "name": "stdout",
     "output_type": "stream",
     "text": [
      "PYTHON\n",
      "Python\n",
      "Java\n",
      "PHP\n"
     ]
    }
   ],
   "source": [
    "def no_consecutive_letters (txt):\n",
    "    return txt[0] + ''.join(txt[i] for i in range(1,len(txt)) if txt[i] != txt[i-1])\n",
    "\n",
    "print(no_consecutive_letters(\"PPYYYTTHON\"))\n",
    "print(no_consecutive_letters(\"PPyyythonnn\"))\n",
    "print(no_consecutive_letters(\"Java\"))\n",
    "print(no_consecutive_letters(\"PPPHHHPPP\")) "
   ]
  },
  {
   "cell_type": "markdown",
   "metadata": {},
   "source": [
    "### Q 253. Write a Python program to check whether two given lines are parallel or not. \n",
    "    Note: Parallel lines are two or more lines that never intersect. Parallel Lines are like railroad tracks that never intersect.\n",
    "    The General Form of the equation of a straight line is: ax + by = c\n",
    "    The said straight line is represented in a list as [a, b, c]\n",
    "    Example of two parallel lines:\n",
    "    x + 4y = 10 and x + 4y = 14\n",
    "    Sample Input:\n",
    "    ([2,3,4], [2,3,8])\n",
    "    ([2,3,4], [4,-3,8])\n",
    "    Sample Output:\n",
    "    True\n",
    "    False"
   ]
  },
  {
   "cell_type": "code",
   "execution_count": 43,
   "metadata": {},
   "outputs": [
    {
     "name": "stdout",
     "output_type": "stream",
     "text": [
      "True\n",
      "False\n"
     ]
    }
   ],
   "source": [
    "def parallel_lines(line1, line2):\n",
    "  return line1[0]/line1[1] == line2[0]/line2[1]\n",
    "#2x + 3y = 4, 2x + 3y = 8\n",
    "print(parallel_lines([2,3,4], [2,3,8]))\n",
    "#2x + 3y = 4, 4x - 3y = 8\n",
    "print(parallel_lines([2,3,4], [4,-3,8])) "
   ]
  },
  {
   "cell_type": "markdown",
   "metadata": {},
   "source": [
    "### Q 254. Write a Python program to find the lucky number(s) in a given matrix. \n",
    "    Sample Input:\n",
    "    Original matrix: [[1, 2], [2, 3]]\n",
    "    Lucky number(s) in the said matrix: [2]\n",
    "    Original matrix: [[1, 2, 3], [3, 4, 5]]\n",
    "    Lucky number(s) in the said matrix: [3]\n",
    "    Original matrix: [[7, 5, 6], [3, 4, 4], [6, 5, 7]]\n",
    "    Lucky number(s) in the said matrix: [5]"
   ]
  },
  {
   "cell_type": "code",
   "execution_count": 44,
   "metadata": {},
   "outputs": [
    {
     "name": "stdout",
     "output_type": "stream",
     "text": [
      "Original matrix: [[1, 2], [2, 3]]\n",
      "Lucky number(s) in the said matrix:  [2]\n",
      "\n",
      "Original matrix: [[1, 2, 3], [3, 4, 5]]\n",
      "Lucky number(s) in the said matrix:  [3]\n",
      "\n",
      "Original matrix: [[7, 5, 6], [3, 4, 4], [6, 5, 7]]\n",
      "Lucky number(s) in the said matrix:  [5]\n"
     ]
    }
   ],
   "source": [
    "# Lucky number in a Matrix: Maximum in its column and minimum in its row.\n",
    "\n",
    "def lucky_Numbers(matrix):\n",
    "    result = set(map(min, matrix)) & set(map(max, zip(*matrix)))\n",
    "    return list(result)\n",
    "\n",
    "m1 = [[1,2], [2,3]]\n",
    "print(\"Original matrix:\",m1)\n",
    "print(\"Lucky number(s) in the said matrix: \",lucky_Numbers(m1))\n",
    "\n",
    "m1 = [[1,2,3], [3,4,5]]\n",
    "print(\"\\nOriginal matrix:\",m1)\n",
    "print(\"Lucky number(s) in the said matrix: \",lucky_Numbers(m1))\n",
    "\n",
    "m1 = [[7,5,6], [3,4,4], [6,5,7]]\n",
    "print(\"\\nOriginal matrix:\",m1)\n",
    "print(\"Lucky number(s) in the said matrix: \",lucky_Numbers(m1))"
   ]
  },
  {
   "cell_type": "markdown",
   "metadata": {},
   "source": [
    "### Q 255. Write a Python program to check whether a given sequence is linear, quadratic or cubic. \n",
    "    Sequences are sets of numbers that are connected in some way.\n",
    "    Linear sequence:\n",
    "    A number pattern which increases or decreases by the same amount each time is called a linear sequence. The amount it increases or decreases by is known as the common difference.\n",
    "    Quadratic sequence:\n",
    "    In quadratic sequence, the difference between each term increases, or decreases, at a constant rate.\n",
    "    Cubic sequence:\n",
    "    Sequences where the 3rd difference are known as cubic sequence.\n",
    "    Sample Input:\n",
    "    [0,2,4,6,8,10]\n",
    "    [1,4,9,16,25]\n",
    "    [0,12,10,0,-12,-20]\n",
    "    [1,2,3,4,5]\n",
    "    Sample Output:\n",
    "    Linear Sequence\n",
    "    Quadratic Sequence\n",
    "    Cubic Sequence\n",
    "    Linear Sequence"
   ]
  },
  {
   "cell_type": "code",
   "execution_count": 45,
   "metadata": {},
   "outputs": [
    {
     "name": "stdout",
     "output_type": "stream",
     "text": [
      "Linear Sequence\n",
      "Quadratic Sequence\n",
      "Cubic Sequence\n",
      "Linear Sequence\n"
     ]
    }
   ],
   "source": [
    "def Seq_Linear_Quadratic_Cubic(seq_nums):\n",
    "  seq_nums = [seq_nums[x] - seq_nums[x-1] for x in range(1, len(seq_nums))]\n",
    "  if len(set(seq_nums)) == 1: return \"Linear Sequence\"\n",
    "  seq_nums = [seq_nums[x] - seq_nums[x-1] for x in range(1, len(seq_nums))]\n",
    "  if len(set(seq_nums)) == 1: return \"Quadratic Sequence\"\n",
    "  seq_nums = [seq_nums[x] - seq_nums[x-1] for x in range(1, len(seq_nums))]\n",
    "  if len(set(seq_nums)) == 1: return \"Cubic Sequence\"\n",
    "  \n",
    "print(Seq_Linear_Quadratic_Cubic([0,2,4,6,8,10]))\n",
    "print(Seq_Linear_Quadratic_Cubic([1,4,9,16,25]))\n",
    "print(Seq_Linear_Quadratic_Cubic([0,12,10,0,-12,-20]))\n",
    "print(Seq_Linear_Quadratic_Cubic([1,2,3,4,5]))"
   ]
  },
  {
   "cell_type": "markdown",
   "metadata": {},
   "source": [
    "### Q 256. Write a Python program to test whether a given integer is pandigital number or not. \n",
    "    From Wikipedia,\n",
    "    In mathematics, a pandigital number is an integer that in a given base has among its significant digits each digit used in the base at least once.\n",
    "    For example,\n",
    "    1223334444555556666667777777888888889999999990 is a pandigital number in base 10.\n",
    "    The first few pandigital base 10 numbers are given by:\n",
    "    1023456789, 1023456798, 1023456879, 1023456897, 1023456978, 1023456987, 1023457689\n",
    "    Sample Input:\n",
    "    (1023456897)\n",
    "    (1023456798)\n",
    "    (1023457689)\n",
    "    (1023456789)\n",
    "    (102345679)\n",
    "    Sample Output:\n",
    "    True\n",
    "    True\n",
    "    True\n",
    "    True\n",
    "    False"
   ]
  },
  {
   "cell_type": "code",
   "execution_count": 46,
   "metadata": {},
   "outputs": [
    {
     "name": "stdout",
     "output_type": "stream",
     "text": [
      "True\n",
      "True\n",
      "True\n",
      "True\n",
      "False\n"
     ]
    }
   ],
   "source": [
    "def is_pandigital_num(n):\n",
    "    return len(set(str(n))) == 10\n",
    "\n",
    "print(is_pandigital_num(1023456897))\n",
    "print(is_pandigital_num(1023456798))\n",
    "print(is_pandigital_num(1023457689))\n",
    "print(is_pandigital_num(1023456789))\n",
    "print(is_pandigital_num(102345679))"
   ]
  },
  {
   "cell_type": "markdown",
   "metadata": {},
   "source": [
    "### Q 257. Write a Python program to check whether a given number is Oddish or Evenish. \n",
    "    A number is called \"Oddish\" if the sum of all of its digits is odd, and a number is called \"Evenish\" if the sum of all of its digits is even.\n",
    "    Sample Input:\n",
    "    (120)\n",
    "    (321)\n",
    "    (43)\n",
    "    (4433)\n",
    "    (373)\n",
    "    Sample Output:\n",
    "    Oddish\n",
    "    Evenish\n",
    "    Oddish\n",
    "    Evenish\n",
    "    Oddish"
   ]
  },
  {
   "cell_type": "code",
   "execution_count": 47,
   "metadata": {},
   "outputs": [
    {
     "name": "stdout",
     "output_type": "stream",
     "text": [
      "Oddish\n",
      "Evenish\n",
      "Oddish\n",
      "Evenish\n",
      "Oddish\n"
     ]
    }
   ],
   "source": [
    "def oddish_evenish_num(n):\n",
    "    return 'Oddish' if sum(map(int, str(n))) % 2 else 'Evenish'\n",
    "print(oddish_evenish_num(120))\n",
    "print(oddish_evenish_num(321))\n",
    "print(oddish_evenish_num(43))\n",
    "print(oddish_evenish_num(4433))\n",
    "print(oddish_evenish_num(373))"
   ]
  },
  {
   "cell_type": "markdown",
   "metadata": {},
   "source": [
    "### Q 258. Write a Python program that takes three integers and check whether the last digit of first number * the last digit of second number = the last digit of third number. \n",
    "    Sample Input:\n",
    "    (12, 22, 44)\n",
    "    (145, 122, 1010)\n",
    "    (0, 22, 40)\n",
    "    (1, 22, 40)\n",
    "    (145, 122, 101)\n",
    "    Sample Output:\n",
    "    True\n",
    "    True\n",
    "    True\n",
    "    False\n",
    "    False"
   ]
  },
  {
   "cell_type": "code",
   "execution_count": 49,
   "metadata": {},
   "outputs": [
    {
     "name": "stdout",
     "output_type": "stream",
     "text": [
      "True\n",
      "True\n",
      "True\n",
      "False\n",
      "False\n"
     ]
    }
   ],
   "source": [
    "def check_last_digit(x, y, z):\n",
    "  return str(x*y)[-1] == str(z)[-1]\n",
    "\n",
    "print(check_last_digit(12, 22, 44))\n",
    "print(check_last_digit(145, 122, 1010))\n",
    "print(check_last_digit(0, 22, 40))\n",
    "print(check_last_digit(1, 22, 40))\n",
    "print(check_last_digit(145, 122, 101))"
   ]
  },
  {
   "cell_type": "markdown",
   "metadata": {},
   "source": [
    "### Q 259. Write a Python program find the indices of all occurrences of a given item in a given list.\n",
    "    Sample Input:\n",
    "    ([1,2,3,4,5,2], 2)\n",
    "    ([3,1,2,3,4,5,6,3,3], 3)\n",
    "    ([1,2,3,-4,5,2,-4], -4)\n",
    "    Sample Output:\n",
    "    [1, 5]\n",
    "    [0, 3, 7, 8]\n",
    "    [3, 6]"
   ]
  },
  {
   "cell_type": "code",
   "execution_count": 50,
   "metadata": {},
   "outputs": [
    {
     "name": "stdout",
     "output_type": "stream",
     "text": [
      "[1, 5]\n",
      "[0, 3, 7, 8]\n",
      "[3, 6]\n"
     ]
    }
   ],
   "source": [
    "def indices_in_list(nums_list, n):\n",
    "    return [idx for idx, i in enumerate(nums_list) if i == n]\n",
    "\n",
    "print(indices_in_list([1,2,3,4,5,2], 2))\n",
    "print(indices_in_list([3,1,2,3,4,5,6,3,3], 3))\n",
    "print(indices_in_list([1,2,3,-4,5,2,-4], -4))"
   ]
  },
  {
   "cell_type": "markdown",
   "metadata": {},
   "source": [
    "### Q 260. Write a Python program to remove two duplicate numbers from a given number of list.\n",
    "    Sample Input:\n",
    "    ([1,2,3,2,3,4,5])\n",
    "    ([1,2,3,2,4,5])\n",
    "    ([1,2,3,4,5])\n",
    "    Sample Output:\n",
    "    [1, 4, 5]\n",
    "    [1, 3, 4, 5]\n",
    "    [1, 2, 3, 4, 5]"
   ]
  },
  {
   "cell_type": "code",
   "execution_count": 51,
   "metadata": {},
   "outputs": [
    {
     "name": "stdout",
     "output_type": "stream",
     "text": [
      "[1, 4, 5]\n",
      "[1, 3, 4, 5]\n",
      "[1, 2, 3, 4, 5]\n"
     ]
    }
   ],
   "source": [
    "def two_unique_nums(nums):\n",
    "  return [i for i in nums if nums.count(i)==1]\n",
    "print(two_unique_nums([1,2,3,2,3,4,5]))\n",
    "print(two_unique_nums([1,2,3,2,4,5]))\n",
    "print(two_unique_nums([1,2,3,4,5]))"
   ]
  },
  {
   "cell_type": "markdown",
   "metadata": {},
   "source": [
    "### Q 261. Write a Python program to check whether two given circles (given center (x,y) and radius) are intersecting. Return true for intersecting otherwise false.\n",
    "    Sample Input:\n",
    "    ([1,2, 4], [1,2, 8])\n",
    "    ([0,0, 2], [10,10, 5])\n",
    "    Sample Output:\n",
    "    True\n",
    "    False"
   ]
  },
  {
   "cell_type": "code",
   "execution_count": 52,
   "metadata": {},
   "outputs": [
    {
     "name": "stdout",
     "output_type": "stream",
     "text": [
      "True\n",
      "False\n"
     ]
    }
   ],
   "source": [
    "def is_circle_collision(circle1, circle2):\n",
    "   x1, y1, r1 = circle1\n",
    "   x2, y2, r2 = circle2\n",
    "   distance = ((x1-x2)**2 + (y1-y2)**2)**0.5\n",
    "   return distance <= r1 + r2\n",
    "print(is_circle_collision([1,2, 4], [1,2, 8]))\n",
    "print(is_circle_collision([0,0, 2], [10,10, 5]))"
   ]
  },
  {
   "cell_type": "markdown",
   "metadata": {},
   "source": [
    "### Q 262. Write a Python program to compute the digit distance between two integers. \n",
    "    The digit distance between two numbers is the absolute value of the difference of those numbers.\n",
    "    For example, the distance between 3 and -3 on the number line given by the |3 - (-3) | = |3 + 3 | = 6 units\n",
    "    Digit distance of 123 and 256 is\n",
    "    Since |1 - 2| + |2 - 5| + |3 - 6| = 1 + 3 + 3 = 7\n",
    "    Sample Input:\n",
    "    (123, 256)\n",
    "    (23, 56)\n",
    "    (1, 2)\n",
    "    (24232, 45645)\n",
    "    Sample Output:\n",
    "    7\n",
    "    6\n",
    "    1\n",
    "    11"
   ]
  },
  {
   "cell_type": "code",
   "execution_count": 53,
   "metadata": {},
   "outputs": [
    {
     "name": "stdout",
     "output_type": "stream",
     "text": [
      "7\n",
      "6\n",
      "1\n",
      "11\n"
     ]
    }
   ],
   "source": [
    "def digit_distance_nums(n1, n2):\n",
    "         return sum(map(int,str(abs(n1-n2))))\n",
    "print(digit_distance_nums(123, 256))\n",
    "print(digit_distance_nums(23, 56))\n",
    "print(digit_distance_nums(1, 2))\n",
    "print(digit_distance_nums(24232, 45645))"
   ]
  },
  {
   "cell_type": "markdown",
   "metadata": {},
   "source": [
    "### Q 263. Write a Python program to reverse all the words which have even length.\n",
    "    Sample Input:\n",
    "    (\"The quick brown fox jumps over the lazy dog\")\n",
    "    (\"Python Exercises\")\n",
    "    Sample Output:\n",
    "    The quick brown fox jumps revo the yzal dog\n",
    "    nohtyP Exercises"
   ]
  },
  {
   "cell_type": "code",
   "execution_count": 55,
   "metadata": {},
   "outputs": [
    {
     "name": "stdout",
     "output_type": "stream",
     "text": [
      "The quick brown fox jumps revo the yzal dog\n",
      "nohtyP Exercises\n"
     ]
    }
   ],
   "source": [
    "def reverse_even(txt):\n",
    "         return ' '.join(i[::-1] if not len(i)%2 else i for i in txt.split())\n",
    "print(reverse_even(\"The quick brown fox jumps over the lazy dog\"))\n",
    "print(reverse_even(\"Python Exercises\"))"
   ]
  },
  {
   "cell_type": "markdown",
   "metadata": {},
   "source": [
    "### Q 264. Write a Python program to print letters from the English alphabet from a-z and A-Z. \n",
    "    Sample Input:\n",
    "    (\"Alphabet from a-z:\")\n",
    "    (\"\\nAlphabet from A-Z:\")\n",
    "    Sample Output:\n",
    "    Alphabet from a-z:\n",
    "    a b c d e f g h i j k l m n o p q r s t u v w x y z\n",
    "    Alphabet from A-Z:\n",
    "    A B C D E F G H I J K L M N O P Q R S T U V W X Y Z"
   ]
  },
  {
   "cell_type": "code",
   "execution_count": 56,
   "metadata": {},
   "outputs": [
    {
     "name": "stdout",
     "output_type": "stream",
     "text": [
      "Alphabet from a-z:\n",
      "a b c d e f g h i j k l m n o p q r s t u v w x y z \n",
      "Alphabet from A-Z:\n",
      "A B C D E F G H I J K L M N O P Q R S T U V W X Y Z "
     ]
    }
   ],
   "source": [
    "import string\n",
    "print(\"Alphabet from a-z:\")\n",
    "for letter in string.ascii_lowercase:\n",
    "   print(letter, end =\" \")\n",
    "print(\"\\nAlphabet from A-Z:\")\n",
    "for letter in string.ascii_uppercase:\n",
    "   print(letter, end =\" \")"
   ]
  },
  {
   "cell_type": "markdown",
   "metadata": {},
   "source": [
    "### Q 265. Write a Python program to generate and prints a list of numbers from 1 to 10. \n",
    "    Sample Input:\n",
    "    range(1,10)\n",
    "    Sample Output:\n",
    "    [1, 2, 3, 4, 5, 6, 7, 8, 9]\n",
    "    ['1', '2', '3', '4', '5', '6', '7', '8', '9']"
   ]
  },
  {
   "cell_type": "code",
   "execution_count": 57,
   "metadata": {},
   "outputs": [
    {
     "name": "stdout",
     "output_type": "stream",
     "text": [
      "[1, 2, 3, 4, 5, 6, 7, 8, 9]\n",
      "['1', '2', '3', '4', '5', '6', '7', '8', '9']\n"
     ]
    }
   ],
   "source": [
    "nums = range(1,10)\n",
    "print(list(nums))\n",
    "print(list(map(str, nums)))"
   ]
  },
  {
   "cell_type": "markdown",
   "metadata": {},
   "source": [
    "### Q 266. Write a Python program to identify nonprime numbers between 1 to 100 (integers). Print the nonprime numbers. \n",
    "    Sample Input:\n",
    "    range(1, 101)\n",
    "    Sample Output:\n",
    "    Nonprime numbers between 1 to 100:\n",
    "    4\n",
    "    6\n",
    "    8\n",
    "    9\n",
    "    10\n",
    "    ..\n",
    "    96\n",
    "    98\n",
    "    99\n",
    "    100"
   ]
  },
  {
   "cell_type": "code",
   "execution_count": 58,
   "metadata": {},
   "outputs": [
    {
     "name": "stdout",
     "output_type": "stream",
     "text": [
      "Nonprime numbers between 1 to 100:\n",
      "4\n",
      "6\n",
      "8\n",
      "9\n",
      "10\n",
      "12\n",
      "14\n",
      "15\n",
      "16\n",
      "18\n",
      "20\n",
      "21\n",
      "22\n",
      "24\n",
      "25\n",
      "26\n",
      "27\n",
      "28\n",
      "30\n",
      "32\n",
      "33\n",
      "34\n",
      "35\n",
      "36\n",
      "38\n",
      "39\n",
      "40\n",
      "42\n",
      "44\n",
      "45\n",
      "46\n",
      "48\n",
      "49\n",
      "50\n",
      "51\n",
      "52\n",
      "54\n",
      "55\n",
      "56\n",
      "57\n",
      "58\n",
      "60\n",
      "62\n",
      "63\n",
      "64\n",
      "65\n",
      "66\n",
      "68\n",
      "69\n",
      "70\n",
      "72\n",
      "74\n",
      "75\n",
      "76\n",
      "77\n",
      "78\n",
      "80\n",
      "81\n",
      "82\n",
      "84\n",
      "85\n",
      "86\n",
      "87\n",
      "88\n",
      "90\n",
      "91\n",
      "92\n",
      "93\n",
      "94\n",
      "95\n",
      "96\n",
      "98\n",
      "99\n",
      "100\n"
     ]
    }
   ],
   "source": [
    "import math\n",
    "def is_not_prime(n):\n",
    "    ans = False\n",
    "    for i in range(2, int(math.sqrt(n)) + 1):\n",
    "        if n % i == 0:\n",
    "            ans = True\n",
    "    return ans\n",
    "print(\"Nonprime numbers between 1 to 100:\")\n",
    "for x in filter(is_not_prime, range(1, 101)):\n",
    "    print(x)"
   ]
  },
  {
   "cell_type": "markdown",
   "metadata": {},
   "source": [
    "### Q 267. Write a Python program to make a request to a web page, and test the status code, also display the html code of the specified web page. \n",
    "    Sample Output:\n",
    "    Web page status:  <Response [200]>\n",
    "\n",
    "    HTML code of the above web page:\n",
    "    <!doctype html>\n",
    "    <html>\n",
    "    <head>\n",
    "        <title>Example Domain</title>\n",
    "\n",
    "        <meta charset=\"utf-8\" />\n",
    "        <meta http-equiv=\"Content-type\" content=\"text/html; charset=utf-8\" />\n",
    "        <meta name=\"viewport\" content=\"width=device-width, initial-scale=1\" />\n",
    "        <style type=\"text/css\">\n",
    "        body {\n",
    "            background-color: #f0f0f2;\n",
    "            margin: 0;\n",
    "            padding: 0;\n",
    "            font-family: -apple-system, system-ui, BlinkMacSystemFont, \"Segoe UI\", \"Open Sans\", \"Helvetica Neue\", Helvetica, Arial, sans-serif;\n",
    "\n",
    "        }\n",
    "        div {\n",
    "            width: 600px;\n",
    "            margin: 5em auto;\n",
    "            padding: 2em;\n",
    "            background-color: #fdfdff;\n",
    "            border-radius: 0.5em;\n",
    "            box-shadow: 2px 3px 7px 2px rgba(0,0,0,0.02);\n",
    "        }\n",
    "        a:link, a:visited {\n",
    "            color: #38488f;\n",
    "            text-decoration: none;\n",
    "        }\n",
    "        @media (max-width: 700px) {\n",
    "            div {\n",
    "                margin: 0 auto;\n",
    "                width: auto;\n",
    "            }\n",
    "        }\n",
    "        </style>    \n",
    "    </head>\n",
    "\n",
    "    <body>\n",
    "    <div>\n",
    "        <h1>Example Domain</h1>\n",
    "        <p>This domain is for use in illustrative examples in documents. You may use this\n",
    "        domain in literature without prior coordination or asking for permission.</p>\n",
    "        <p><a href=\"https://www.iana.org/domains/example\">More information...</a></p>\n",
    "    </div>\n",
    "    </body>\n",
    "    </html>"
   ]
  },
  {
   "cell_type": "code",
   "execution_count": 59,
   "metadata": {},
   "outputs": [
    {
     "name": "stdout",
     "output_type": "stream",
     "text": [
      "Web page status:  <Response [200]>\n",
      "\n",
      "HTML code of the above web page:\n",
      "<!doctype html>\n",
      "<html>\n",
      "<head>\n",
      "    <title>Example Domain</title>\n",
      "\n",
      "    <meta charset=\"utf-8\" />\n",
      "    <meta http-equiv=\"Content-type\" content=\"text/html; charset=utf-8\" />\n",
      "    <meta name=\"viewport\" content=\"width=device-width, initial-scale=1\" />\n",
      "    <style type=\"text/css\">\n",
      "    body {\n",
      "        background-color: #f0f0f2;\n",
      "        margin: 0;\n",
      "        padding: 0;\n",
      "        font-family: -apple-system, system-ui, BlinkMacSystemFont, \"Segoe UI\", \"Open Sans\", \"Helvetica Neue\", Helvetica, Arial, sans-serif;\n",
      "        \n",
      "    }\n",
      "    div {\n",
      "        width: 600px;\n",
      "        margin: 5em auto;\n",
      "        padding: 2em;\n",
      "        background-color: #fdfdff;\n",
      "        border-radius: 0.5em;\n",
      "        box-shadow: 2px 3px 7px 2px rgba(0,0,0,0.02);\n",
      "    }\n",
      "    a:link, a:visited {\n",
      "        color: #38488f;\n",
      "        text-decoration: none;\n",
      "    }\n",
      "    @media (max-width: 700px) {\n",
      "        div {\n",
      "            margin: 0 auto;\n",
      "            width: auto;\n",
      "        }\n",
      "    }\n",
      "    </style>    \n",
      "</head>\n",
      "\n",
      "<body>\n",
      "<div>\n",
      "    <h1>Example Domain</h1>\n",
      "    <p>This domain is for use in illustrative examples in documents. You may use this\n",
      "    domain in literature without prior coordination or asking for permission.</p>\n",
      "    <p><a href=\"https://www.iana.org/domains/example\">More information...</a></p>\n",
      "</div>\n",
      "</body>\n",
      "</html>\n",
      "\n"
     ]
    }
   ],
   "source": [
    "import requests\n",
    "url = 'http://www.example.com/'\n",
    "headers = {'User-Agent': 'Mozilla/5.0 (Macintosh) Gecko/20100101 Firefox/38.0'}\n",
    "request = requests.get(url, headers=headers)\n",
    "print(\"Web page status: \", request)\n",
    "print(\"\\nHTML code of the above web page:\")\n",
    "if request.ok:\n",
    "    print(request.text)"
   ]
  },
  {
   "cell_type": "markdown",
   "metadata": {},
   "source": [
    "### Q 268. In multiprocessing, processes are spawned by creating a Process object. Write a Python program to show the individual process IDs (parent process, process id etc.) involved. \n",
    "    Sample Output:\n",
    "    Main line\n",
    "    module name: __main__\n",
    "    parent process: 23967\n",
    "    process id: 27986\n",
    "    function f\n",
    "    module name: __main__\n",
    "    parent process: 27986\n",
    "    process id: 27987\n",
    "    hello bob"
   ]
  },
  {
   "cell_type": "code",
   "execution_count": 60,
   "metadata": {},
   "outputs": [
    {
     "name": "stdout",
     "output_type": "stream",
     "text": [
      "Main line\n",
      "module name: __main__\n",
      "parent process: 11100\n",
      "process id: 12808\n"
     ]
    }
   ],
   "source": [
    "from multiprocessing import Process\n",
    "import os\n",
    "def info(title):\n",
    "    print(title)\n",
    "    print('module name:', __name__)\n",
    "    print('parent process:', os.getppid())\n",
    "    print('process id:', os.getpid())\n",
    "def f(name):\n",
    "    info('function f')\n",
    "    print('hello', name)\n",
    "if __name__ == '__main__':\n",
    "    info('Main line')\n",
    "    p = Process(target=f, args=('bob',))\n",
    "    p.start()\n",
    "    p.join()"
   ]
  },
  {
   "cell_type": "markdown",
   "metadata": {},
   "source": [
    "### Q 269. Write a Python program to check if two given numbers are coprime or not. Return True if two numbers are coprime otherwise return false. \n",
    "    Sample Input:\n",
    "    (17, 13)\n",
    "    (17, 21)\n",
    "    (15, 21)\n",
    "    (25, 45)\n",
    "    Sample Output:\n",
    "    True\n",
    "    True\n",
    "    False\n",
    "    False"
   ]
  },
  {
   "cell_type": "code",
   "execution_count": 61,
   "metadata": {},
   "outputs": [
    {
     "name": "stdout",
     "output_type": "stream",
     "text": [
      "True\n",
      "True\n",
      "False\n",
      "False\n"
     ]
    }
   ],
   "source": [
    "def gcd(p,q):\n",
    "# Create the gcd of two positive integers.\n",
    "    while q != 0:\n",
    "        p, q = q, p%q\n",
    "    return p\n",
    "def is_coprime(x, y):\n",
    "    return gcd(x, y) == 1\n",
    "print(is_coprime(17, 13))\n",
    "print(is_coprime(17, 21))\n",
    "print(is_coprime(15, 21))\n",
    "print(is_coprime(25, 45))"
   ]
  },
  {
   "cell_type": "markdown",
   "metadata": {},
   "source": [
    "### Q 270. Write a Python program to calculate Euclid's totient function of a given integer. Use a primitive method to calculate Euclid's totient function. \n",
    "    Sample Input:\n",
    "    (10)\n",
    "    (15)\n",
    "    (33)\n",
    "    Sample Output:\n",
    "    4\n",
    "    8\n",
    "    20"
   ]
  },
  {
   "cell_type": "code",
   "execution_count": 62,
   "metadata": {},
   "outputs": [
    {
     "name": "stdout",
     "output_type": "stream",
     "text": [
      "4\n",
      "8\n",
      "20\n"
     ]
    }
   ],
   "source": [
    "def gcd(p,q):\n",
    "# Create the gcd of two positive integers.\n",
    "    while q != 0:\n",
    "        p, q = q, p%q\n",
    "    return p\n",
    "\n",
    "def is_coprime(x, y):\n",
    "    return gcd(x, y) == 1\n",
    "\n",
    "def phi_func(x):\n",
    "    if x == 1:\n",
    "        return 1\n",
    "    else:\n",
    "        n = [y for y in range(1,x) if is_coprime(x,y)]\n",
    "        return len(n)\n",
    "print(phi_func(10))\n",
    "print(phi_func(15))\n",
    "print(phi_func(33))"
   ]
  },
  {
   "cell_type": "code",
   "execution_count": null,
   "metadata": {},
   "outputs": [],
   "source": []
  }
 ],
 "metadata": {
  "kernelspec": {
   "display_name": "Python 3",
   "language": "python",
   "name": "python3"
  },
  "language_info": {
   "codemirror_mode": {
    "name": "ipython",
    "version": 3
   },
   "file_extension": ".py",
   "mimetype": "text/x-python",
   "name": "python",
   "nbconvert_exporter": "python",
   "pygments_lexer": "ipython3",
   "version": "3.8.3"
  }
 },
 "nbformat": 4,
 "nbformat_minor": 4
}
