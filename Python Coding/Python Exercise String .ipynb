{
 "cells": [
  {
   "cell_type": "markdown",
   "metadata": {},
   "source": [
    "#### Q 1. Write a Python program to calculate the length of a string."
   ]
  },
  {
   "cell_type": "code",
   "execution_count": 1,
   "metadata": {},
   "outputs": [
    {
     "name": "stdout",
     "output_type": "stream",
     "text": [
      "15\n"
     ]
    }
   ],
   "source": [
    "def string_length(str1):\n",
    "    count = 0\n",
    "    for char in str1:\n",
    "        count += 1\n",
    "    return count\n",
    "print(string_length('Saroj Kumar Jha'))"
   ]
  },
  {
   "cell_type": "markdown",
   "metadata": {},
   "source": [
    "#### Q 2. Write a Python program to count the number of characters (character frequency) in a string. \n",
    "    Sample String : google.com'\n",
    "    Expected Result : {'g': 2, 'o': 3, 'l': 1, 'e': 1, '.': 1, 'c': 1, 'm': 1}"
   ]
  },
  {
   "cell_type": "code",
   "execution_count": 2,
   "metadata": {},
   "outputs": [
    {
     "name": "stdout",
     "output_type": "stream",
     "text": [
      "{'g': 2, 'o': 3, 'l': 1, 'e': 1, '.': 1, 'c': 1, 'm': 1}\n"
     ]
    }
   ],
   "source": [
    "def char_frequency(str1):\n",
    "    dict = {}\n",
    "    for n in str1:\n",
    "        keys = dict.keys()\n",
    "        if n in keys:\n",
    "            dict[n] += 1\n",
    "        else:\n",
    "            dict[n] = 1\n",
    "    return dict\n",
    "print(char_frequency('google.com'))\n"
   ]
  },
  {
   "cell_type": "markdown",
   "metadata": {},
   "source": [
    "#### Q 3. Write a Python program to get a string made of the first 2 and the last 2 chars from a given a string. If the string length is less than 2, return instead of the empty string. \n",
    "    Sample String : 'google'\n",
    "    Expected Result : 'gole'\n",
    "    Sample String : 'go'\n",
    "    Expected Result : 'gogo'\n",
    "    Sample String : 'g'\n",
    "    Expected Result : Empty String"
   ]
  },
  {
   "cell_type": "code",
   "execution_count": 4,
   "metadata": {},
   "outputs": [
    {
     "name": "stdout",
     "output_type": "stream",
     "text": [
      "gole\n",
      "gogo\n",
      "\n"
     ]
    }
   ],
   "source": [
    "def string_both_ends(str):\n",
    "  if len(str) < 2:\n",
    "    return ''\n",
    "\n",
    "  return str[0:2] + str[-2:]\n",
    "\n",
    "print(string_both_ends('google'))\n",
    "print(string_both_ends('go'))\n",
    "print(string_both_ends('g'))"
   ]
  },
  {
   "cell_type": "markdown",
   "metadata": {},
   "source": [
    "#### Q4. Write a Python program to get a string from a given string where all occurrences of its first char have been changed to ${$}$ except the first char itself. \n",
    "    Sample String : 'google game'\n",
    "    Expected Result : 'goo$le $ame'"
   ]
  },
  {
   "cell_type": "code",
   "execution_count": 6,
   "metadata": {},
   "outputs": [
    {
     "name": "stdout",
     "output_type": "stream",
     "text": [
      "goo$le $ame\n"
     ]
    }
   ],
   "source": [
    "def change_char(str1):\n",
    "  char = str1[0]\n",
    "  str1 = str1.replace(char, '$')\n",
    "  str1 = char + str1[1:]\n",
    "\n",
    "  return str1\n",
    "\n",
    "print(change_char('google game'))"
   ]
  },
  {
   "cell_type": "markdown",
   "metadata": {},
   "source": [
    "#### Q5. Write a Python program to get a single string from two given strings, separated by a space and swap the first two characters of each string. \n",
    "    Sample String : 'abc', 'xyz'\n",
    "    Expected Result : 'xyc abz'"
   ]
  },
  {
   "cell_type": "code",
   "execution_count": 7,
   "metadata": {},
   "outputs": [
    {
     "name": "stdout",
     "output_type": "stream",
     "text": [
      "xyc abz\n"
     ]
    }
   ],
   "source": [
    "def chars_mix_up(a, b):\n",
    "  new_a = b[:2] + a[2:]\n",
    "  new_b = a[:2] + b[2:]\n",
    "\n",
    "  return new_a + ' ' + new_b\n",
    "print(chars_mix_up('abc', 'xyz'))\n"
   ]
  },
  {
   "cell_type": "markdown",
   "metadata": {},
   "source": [
    "#### Q 6. Write a Python program to add 'ing' at the end of a given string (length should be at least 3). If the given string already ends with 'ing' then add 'ly' instead. If the string length of the given string is less than 3, leave it unchanged. \n",
    "    Sample String : 'abc'\n",
    "    Expected Result : 'abcing'\n",
    "    Sample String : 'string'\n",
    "    Expected Result : 'stringly'"
   ]
  },
  {
   "cell_type": "code",
   "execution_count": 9,
   "metadata": {},
   "outputs": [
    {
     "name": "stdout",
     "output_type": "stream",
     "text": [
      "ab\n",
      "abcing\n",
      "stringly\n"
     ]
    }
   ],
   "source": [
    "def add_string(str1):\n",
    "    length = len(str1)\n",
    "    if length > 2:\n",
    "        if str1[-3:] == 'ing':\n",
    "            str1 += 'ly'\n",
    "        else:\n",
    "            str1 += 'ing'\n",
    "\n",
    "    return str1\n",
    "print(add_string('ab'))\n",
    "print(add_string('abc'))\n",
    "print(add_string('string'))"
   ]
  },
  {
   "cell_type": "markdown",
   "metadata": {},
   "source": [
    "#### Q7. Write a Python program to find the first appearance of the substring 'not' and 'poor' from a given string, if 'not' follows the 'poor', replace the whole 'not'...'poor' substring with 'good'. Return the resulting string. \n",
    "    Sample String : 'The lyrics is not that poor!'\n",
    "    'The lyrics is poor!'\n",
    "    Expected Result : 'The lyrics is good!'\n",
    "    'The lyrics is poor!'"
   ]
  },
  {
   "cell_type": "code",
   "execution_count": 11,
   "metadata": {},
   "outputs": [
    {
     "name": "stdout",
     "output_type": "stream",
     "text": [
      "The lyrics is good!\n",
      "The lyrics is poor!\n"
     ]
    }
   ],
   "source": [
    "def not_poor(str1):\n",
    "    snot = str1.find('not')\n",
    "    spoor = str1.find('poor')\n",
    "  \n",
    "    if spoor > snot and snot>0 and spoor>0:\n",
    "        str1 = str1.replace(str1[snot:(spoor+4)], 'good')\n",
    "        return str1\n",
    "    else:\n",
    "        return str1\n",
    "print(not_poor('The lyrics is not that poor!'))\n",
    "print(not_poor('The lyrics is poor!'))"
   ]
  },
  {
   "cell_type": "markdown",
   "metadata": {},
   "source": [
    "#### Q8. Write a Python function that takes a list of words and returns the length of the longest one. \n",
    "    Sample Output:\n",
    "    Longest word: Exercises\n",
    "    Length of the longest word: 9"
   ]
  },
  {
   "cell_type": "code",
   "execution_count": 12,
   "metadata": {},
   "outputs": [
    {
     "name": "stdout",
     "output_type": "stream",
     "text": [
      "\n",
      "Longest word:  Exercises\n",
      "Length of the longest word:  9\n"
     ]
    }
   ],
   "source": [
    "def find_longest_word(words_list):\n",
    "    word_len = []\n",
    "    for n in words_list:\n",
    "        word_len.append((len(n), n))\n",
    "    word_len.sort()\n",
    "    return word_len[-1][0], word_len[-1][1]\n",
    "result = find_longest_word([\"PHP\", \"Exercises\", \"Backend\"])\n",
    "print(\"\\nLongest word: \",result[1])\n",
    "print(\"Length of the longest word: \",result[0])"
   ]
  },
  {
   "cell_type": "markdown",
   "metadata": {},
   "source": [
    "#### Q9. Write a Python program to remove the n$^{th}$ index character from a nonempty string."
   ]
  },
  {
   "cell_type": "code",
   "execution_count": 13,
   "metadata": {},
   "outputs": [
    {
     "name": "stdout",
     "output_type": "stream",
     "text": [
      "ython\n",
      "Pyton\n",
      "Pytho\n"
     ]
    }
   ],
   "source": [
    "def remove_char(str, n):\n",
    "      first_part = str[:n] \n",
    "      last_part = str[n+1:]\n",
    "      return first_part + last_part\n",
    "print(remove_char('Python', 0))\n",
    "print(remove_char('Python', 3))\n",
    "print(remove_char('Python', 5))\n"
   ]
  },
  {
   "cell_type": "markdown",
   "metadata": {},
   "source": [
    "#### Q10. Write a Python program to change a given string to a new string where the first and last chars have been exchanged. "
   ]
  },
  {
   "cell_type": "code",
   "execution_count": 14,
   "metadata": {},
   "outputs": [
    {
     "name": "stdout",
     "output_type": "stream",
     "text": [
      "dbca\n",
      "52341\n"
     ]
    }
   ],
   "source": [
    "def change_sring(str1):\n",
    "      return str1[-1:] + str1[1:-1] + str1[:1] \n",
    "print(change_sring('abcd'))\n",
    "print(change_sring('12345'))"
   ]
  },
  {
   "cell_type": "markdown",
   "metadata": {},
   "source": [
    "#### Q11. Write a Python program to remove the characters which have odd index values of a given string."
   ]
  },
  {
   "cell_type": "code",
   "execution_count": 16,
   "metadata": {},
   "outputs": [
    {
     "name": "stdout",
     "output_type": "stream",
     "text": [
      "ace\n",
      "pto\n"
     ]
    }
   ],
   "source": [
    "def odd_values_string(str):\n",
    "    result = \"\" \n",
    "    for i in range(len(str)):\n",
    "        if i % 2 == 0:\n",
    "            result = result + str[i]\n",
    "    return result\n",
    "\n",
    "print(odd_values_string('abcdef'))\n",
    "print(odd_values_string('python'))"
   ]
  },
  {
   "cell_type": "markdown",
   "metadata": {},
   "source": [
    "#### Q12. Write a Python program to count the occurrences of each word in a given sentence."
   ]
  },
  {
   "cell_type": "code",
   "execution_count": 17,
   "metadata": {},
   "outputs": [
    {
     "name": "stdout",
     "output_type": "stream",
     "text": [
      "{'the': 2, 'quick': 1, 'brown': 1, 'fox': 1, 'jumps': 1, 'over': 1, 'lazy': 1, 'dog.': 1}\n"
     ]
    }
   ],
   "source": [
    "def word_count(str):\n",
    "    counts = dict()\n",
    "    words = str.split()\n",
    "\n",
    "    for word in words:\n",
    "        if word in counts:\n",
    "            counts[word] += 1\n",
    "        else:\n",
    "            counts[word] = 1\n",
    "\n",
    "    return counts\n",
    "\n",
    "print( word_count('the quick brown fox jumps over the lazy dog.'))"
   ]
  },
  {
   "cell_type": "markdown",
   "metadata": {},
   "source": [
    "#### Q13. Write a Python script that takes input from the user and displays that input back in upper and lower cases."
   ]
  },
  {
   "cell_type": "code",
   "execution_count": 18,
   "metadata": {},
   "outputs": [
    {
     "name": "stdout",
     "output_type": "stream",
     "text": [
      "What's your favourite language? python\n",
      "My favourite language is  PYTHON\n",
      "My favourite language is  python\n"
     ]
    }
   ],
   "source": [
    "user_input = input(\"What's your favourite language? \")\n",
    "print(\"My favourite language is \", user_input.upper())\n",
    "print(\"My favourite language is \", user_input.lower())"
   ]
  },
  {
   "cell_type": "markdown",
   "metadata": {},
   "source": [
    "#### Q14. Write a Python program that accepts a comma separated sequence of words as input and prints the unique words in sorted form (alphanumerically). \n",
    "    Sample Words : red, white, black, red, green, black\n",
    "    Expected Result : black, green, red, white,red"
   ]
  },
  {
   "cell_type": "code",
   "execution_count": 19,
   "metadata": {},
   "outputs": [
    {
     "name": "stdout",
     "output_type": "stream",
     "text": [
      "Input comma separated sequence of wordsred, white, black, red, green, black\n",
      " black, green, red, white,red\n"
     ]
    }
   ],
   "source": [
    "items = input(\"Input comma separated sequence of words\")\n",
    "words = [word for word in items.split(\",\")]\n",
    "print(\",\".join(sorted(list(set(words)))))"
   ]
  },
  {
   "cell_type": "markdown",
   "metadata": {},
   "source": [
    "#### Q15. Write a Python function to create the HTML string with tags around the word(s). \n",
    "    Sample function and result :\n",
    "    add_tags('i', 'Python') -> '<i>Python</i>'\n",
    "    add_tags('b', 'Python Tutorial') -> '<b>Python Tutorial </b>'"
   ]
  },
  {
   "cell_type": "code",
   "execution_count": 20,
   "metadata": {},
   "outputs": [
    {
     "name": "stdout",
     "output_type": "stream",
     "text": [
      "<i>Python</i>\n",
      "<b>Python Tutorial</b>\n"
     ]
    }
   ],
   "source": [
    "def add_tags(tag, word):\n",
    "    return \"<%s>%s</%s>\" % (tag, word, tag)\n",
    "print(add_tags('i', 'Python'))\n",
    "print(add_tags('b', 'Python Tutorial'))"
   ]
  },
  {
   "cell_type": "markdown",
   "metadata": {},
   "source": [
    "#### Q16. Write a Python function to insert a string in the middle of a string. \n",
    "    Sample function and result :\n",
    "    insert_sting_middle('[[]]<<>>', 'Python') -> [[Python]]\n",
    "    insert_sting_middle('{{}}', 'PHP') -> {{PHP}}"
   ]
  },
  {
   "cell_type": "code",
   "execution_count": 22,
   "metadata": {},
   "outputs": [
    {
     "name": "stdout",
     "output_type": "stream",
     "text": [
      "[[Python]]\n",
      "{{PHP}}\n",
      "<<HTML>>\n"
     ]
    }
   ],
   "source": [
    "def insert_sting_middle(str1, word):\n",
    "    return str1[:2] + word + str1[2:]\n",
    "\n",
    "print(insert_sting_middle('[[]]', 'Python'))\n",
    "print(insert_sting_middle('{{}}', 'PHP'))\n",
    "print(insert_sting_middle('<<>>', 'HTML'))"
   ]
  },
  {
   "cell_type": "markdown",
   "metadata": {},
   "source": [
    "#### Q17. Write a Python function to get a string made of 4 copies of the last two characters of a specified string (length must be at least 2). \n",
    "    Sample function and result :\n",
    "    insert_end('Python') -> onononon\n",
    "    insert_end('Exercises') -> eseseses"
   ]
  },
  {
   "cell_type": "code",
   "execution_count": 23,
   "metadata": {},
   "outputs": [
    {
     "name": "stdout",
     "output_type": "stream",
     "text": [
      "onononon\n",
      "eseseses\n"
     ]
    }
   ],
   "source": [
    "def insert_end(str1):\n",
    "    sub_str = str1[-2:]\n",
    "    return sub_str * 4\n",
    "\n",
    "print(insert_end('Python'))\n",
    "print(insert_end('Exercises'))"
   ]
  },
  {
   "cell_type": "markdown",
   "metadata": {},
   "source": [
    "#### Q18. Write a Python function to get a string made of its first three characters of a specified string. If the length of the string is less than 3 then return the original string. \n",
    "    Sample function and result :\n",
    "    first_three('ipy') -> ipy\n",
    "    first_three('python') -> pyt"
   ]
  },
  {
   "cell_type": "code",
   "execution_count": 24,
   "metadata": {},
   "outputs": [
    {
     "name": "stdout",
     "output_type": "stream",
     "text": [
      "ipy\n",
      "pyt\n",
      "py\n"
     ]
    }
   ],
   "source": [
    "def first_three(str):\n",
    "    return str[:3] if len(str) > 3 else str\n",
    "\n",
    "print(first_three('ipy'))\n",
    "print(first_three('python'))\n",
    "print(first_three('py'))"
   ]
  },
  {
   "cell_type": "markdown",
   "metadata": {},
   "source": [
    "#### Q9. Write a Python program to get the last part of a string before a specified character. \n",
    "    https://www.google.com/python-exercises\n",
    "    https://www.google.com/python"
   ]
  },
  {
   "cell_type": "code",
   "execution_count": 26,
   "metadata": {},
   "outputs": [
    {
     "name": "stdout",
     "output_type": "stream",
     "text": [
      "https://www.google.com/python-exercises\n",
      "https://www.google.com/python\n",
      "https://\n"
     ]
    }
   ],
   "source": [
    "str1 = 'https://www.google.com/python-exercises/string'\n",
    "print(str1.rsplit('/', 1)[0])\n",
    "print(str1.rsplit('-', 1)[0])\n",
    "print(str1.rsplit('www', 1)[0])"
   ]
  },
  {
   "cell_type": "markdown",
   "metadata": {},
   "source": [
    "#### Q20. Write a Python function to reverses a string if it's length is a multiple of 4."
   ]
  },
  {
   "cell_type": "code",
   "execution_count": 27,
   "metadata": {},
   "outputs": [
    {
     "name": "stdout",
     "output_type": "stream",
     "text": [
      "dcba\n",
      "python\n"
     ]
    }
   ],
   "source": [
    "def reverse_string(str1):\n",
    "    if len(str1) % 4 == 0:\n",
    "        return ''.join(reversed(str1))\n",
    "    return str1\n",
    "\n",
    "print(reverse_string('abcd'))\n",
    "print(reverse_string('python'))"
   ]
  },
  {
   "cell_type": "markdown",
   "metadata": {},
   "source": [
    "#### Q21. Write a Python function to convert a given string to all uppercase if it contains at least 2 uppercase characters in the first 4 characters."
   ]
  },
  {
   "cell_type": "code",
   "execution_count": 28,
   "metadata": {},
   "outputs": [
    {
     "name": "stdout",
     "output_type": "stream",
     "text": [
      "Python\n",
      "PYTHON\n"
     ]
    }
   ],
   "source": [
    "def to_uppercase(str1):\n",
    "    num_upper = 0\n",
    "    for letter in str1[:4]: \n",
    "        if letter.upper() == letter:\n",
    "            num_upper += 1\n",
    "    if num_upper >= 2:\n",
    "        return str1.upper()\n",
    "    return str1\n",
    "\n",
    "print(to_uppercase('Python'))\n",
    "print(to_uppercase('PyThon'))"
   ]
  },
  {
   "cell_type": "markdown",
   "metadata": {},
   "source": [
    "#### Q22.Write a Python program to sort a string lexicographically. "
   ]
  },
  {
   "cell_type": "code",
   "execution_count": 29,
   "metadata": {},
   "outputs": [
    {
     "name": "stdout",
     "output_type": "stream",
     "text": [
      "['e', 'g', 'g', 'l', 'o', 'o']\n",
      "['b', 'c', 'i', 'k', 'n', 'o', 'q', 'r', 'u', 'w']\n"
     ]
    }
   ],
   "source": [
    "def lexicographi_sort(s):\n",
    "    return sorted(sorted(s), key=str.upper)\n",
    "\n",
    "print(lexicographi_sort('google'))\n",
    "print(lexicographi_sort('quickbrown'))"
   ]
  },
  {
   "cell_type": "markdown",
   "metadata": {},
   "source": [
    "#### Q23. Write a Python program to remove a newline in Python."
   ]
  },
  {
   "cell_type": "code",
   "execution_count": 30,
   "metadata": {},
   "outputs": [
    {
     "name": "stdout",
     "output_type": "stream",
     "text": [
      "Python Exercises\n",
      "\n",
      "Python Exercises\n"
     ]
    }
   ],
   "source": [
    "str1='Python Exercises\\n'\n",
    "print(str1)\n",
    "print(str1.rstrip())"
   ]
  },
  {
   "cell_type": "markdown",
   "metadata": {},
   "source": [
    "#### Q24. Write a Python program to check whether a string starts with specified characters."
   ]
  },
  {
   "cell_type": "code",
   "execution_count": 31,
   "metadata": {},
   "outputs": [
    {
     "name": "stdout",
     "output_type": "stream",
     "text": [
      "True\n"
     ]
    }
   ],
   "source": [
    "string = \"google.com\"\n",
    "print(string.startswith(\"go\"))"
   ]
  },
  {
   "cell_type": "markdown",
   "metadata": {},
   "source": [
    "#### Q25. Write a Python program to create a Caesar encryption. \n",
    "\n",
    "    Note : In cryptography, a Caesar cipher, also known as Caesar's cipher, the shift cipher, Caesar's code or Caesar shift, is one of the simplest and most widely known encryption techniques. It is a type of substitution cipher in which each letter in the plaintext is replaced by a letter some fixed number of positions down the alphabet. For example, with a left shift of 3, D would be replaced by A, E would become B, and so on. The method is named after Julius Caesar, who used it in his private correspondence."
   ]
  },
  {
   "cell_type": "code",
   "execution_count": 33,
   "metadata": {},
   "outputs": [
    {
     "name": "stdout",
     "output_type": "stream",
     "text": [
      "\n",
      "['c', 'd', 'e']\n",
      "\n"
     ]
    }
   ],
   "source": [
    "#https://gist.github.com/nchitalov/2f2b03e5cf1e19da1525\n",
    "def caesar_encrypt(realText, step):\n",
    "    outText = []\n",
    "    cryptText = []\n",
    "\n",
    "    uppercase = ['A', 'B', 'C', 'D', 'E', 'F', 'G', 'H', 'I', 'J', 'K', 'L', 'M', 'N', 'O', 'P', 'Q', 'R', 'S', 'T', 'U', 'V', 'W', 'X', 'Y', 'Z']\n",
    "    lowercase = ['a', 'b', 'c', 'd', 'e', 'f', 'g', 'h', 'i', 'j', 'k', 'l', 'm', 'n', 'o', 'p', 'q', 'r', 's', 't', 'u', 'v', 'w', 'x', 'y', 'z']\n",
    "\n",
    "    for eachLetter in realText:\n",
    "        if eachLetter in uppercase:\n",
    "            index = uppercase.index(eachLetter)\n",
    "            crypting = (index + step) % 26\n",
    "            cryptText.append(crypting)\n",
    "            newLetter = uppercase[crypting]\n",
    "            outText.append(newLetter)\n",
    "        elif eachLetter in lowercase:\n",
    "            index = lowercase.index(eachLetter)\n",
    "            crypting = (index + step) % 26\n",
    "            cryptText.append(crypting)\n",
    "            newLetter = lowercase[crypting]\n",
    "            outText.append(newLetter)\n",
    "    return outText\n",
    "\n",
    "code = caesar_encrypt('abc', 2)\n",
    "print()\n",
    "print(code)\n",
    "print()\n"
   ]
  },
  {
   "cell_type": "markdown",
   "metadata": {},
   "source": [
    "#### Q26. Write a Python program to display formatted text (width=50) as output."
   ]
  },
  {
   "cell_type": "code",
   "execution_count": 37,
   "metadata": {},
   "outputs": [
    {
     "name": "stdout",
     "output_type": "stream",
     "text": [
      "\n",
      "   Python is a widely used high-level, general-purpose, interpreted,   dynamic\n",
      "programming language. Its design philosophy emphasizes   code readability, and\n",
      "its syntax allows programmers to express   concepts in fewer lines of code than\n",
      "possible in languages such   as C++ or Java.\n",
      "\n"
     ]
    }
   ],
   "source": [
    "import textwrap\n",
    "sample_text = '''\n",
    "  Python is a widely used high-level, general-purpose, interpreted,\n",
    "  dynamic programming language. Its design philosophy emphasizes\n",
    "  code readability, and its syntax allows programmers to express\n",
    "  concepts in fewer lines of code than possible in languages such\n",
    "  as C++ or Java.\n",
    "  '''\n",
    "print()\n",
    "print(textwrap.fill(sample_text, width=80)) # change width and watch result\n",
    "print()"
   ]
  },
  {
   "cell_type": "markdown",
   "metadata": {},
   "source": [
    "#### Q27. Write a Python program to remove existing indentation from all of the lines in a given text."
   ]
  },
  {
   "cell_type": "code",
   "execution_count": 38,
   "metadata": {},
   "outputs": [
    {
     "name": "stdout",
     "output_type": "stream",
     "text": [
      "\n",
      "\n",
      "Python is a widely used high-level, general-purpose, interpreted,\n",
      "dynamic programming language. Its design philosophy emphasizes\n",
      "code readability, and its syntax allows programmers to express\n",
      "concepts in fewer lines of code than possible in languages such\n",
      "as C++ or Java.\n",
      "\n",
      "\n"
     ]
    }
   ],
   "source": [
    "import textwrap\n",
    "sample_text = '''\n",
    "    Python is a widely used high-level, general-purpose, interpreted,\n",
    "    dynamic programming language. Its design philosophy emphasizes\n",
    "    code readability, and its syntax allows programmers to express\n",
    "    concepts in fewer lines of code than possible in languages such\n",
    "    as C++ or Java.\n",
    "    '''\n",
    "text_without_Indentation = textwrap.dedent(sample_text)\n",
    "print()\n",
    "print(text_without_Indentation )\n",
    "print()"
   ]
  },
  {
   "cell_type": "markdown",
   "metadata": {},
   "source": [
    "#### Q 28. Write a Python program to add a prefix text to all of the lines in a string."
   ]
  },
  {
   "cell_type": "code",
   "execution_count": 40,
   "metadata": {},
   "outputs": [
    {
     "name": "stdout",
     "output_type": "stream",
     "text": [
      "\n",
      ">  Python is a widely used high-level, general-purpose, interpreted,\n",
      "> dynamic programming language. Its design philosophy emphasizes code\n",
      "> readability, and its syntax allows programmers to express concepts in\n",
      "> fewer lines of code than possible in languages such as C++ or Java.\n",
      "\n"
     ]
    }
   ],
   "source": [
    "import textwrap\n",
    "sample_text ='''\n",
    "    Python is a widely used high-level, general-purpose, interpreted,\n",
    "    dynamic programming language. Its design philosophy emphasizes\n",
    "    code readability, and its syntax allows programmers to express\n",
    "    concepts in fewer lines of code than possible in languages such\n",
    "    as C++ or Java.\n",
    "    '''\n",
    "text_without_Indentation = textwrap.dedent(sample_text)\n",
    "wrapped = textwrap.fill(text_without_Indentation, width=70)\n",
    "#wrapped += '\\n\\nSecond paragraph after a blank line.'\n",
    "final_result = textwrap.indent(wrapped, '> ')\n",
    "print()\n",
    "print(final_result)\n",
    "print()"
   ]
  },
  {
   "cell_type": "markdown",
   "metadata": {},
   "source": [
    "#### Q29. Write a Python program to set the indentation of the first line. "
   ]
  },
  {
   "cell_type": "code",
   "execution_count": 41,
   "metadata": {},
   "outputs": [
    {
     "name": "stdout",
     "output_type": "stream",
     "text": [
      "\n",
      "Python is a widely used high-level, general-purpose, interpreted, dynamic\n",
      "    programming language. Its design philosophy emphasizes code readability, and\n",
      "    its syntax allows programmers to express concepts in fewer lines of code\n",
      "    than possible in languages such as C++ or Java.\n",
      "\n"
     ]
    }
   ],
   "source": [
    "import textwrap\n",
    "sample_text ='''\n",
    "Python is a widely used high-level, general-purpose, interpreted, dynamic\n",
    "programming language. Its design philosophy emphasizes code readability,\n",
    "and its syntax allows programmers to express concepts in fewer lines of\n",
    "code than possible in languages such as C++ or Java.\n",
    "    '''\n",
    "\n",
    "text1 =  textwrap.dedent(sample_text).strip()\n",
    "print()\n",
    "print(textwrap.fill(text1,\n",
    "                    initial_indent='',\n",
    "                    subsequent_indent=' ' * 4,\n",
    "                    width=80,\n",
    "                    ))\n",
    "print()"
   ]
  },
  {
   "cell_type": "markdown",
   "metadata": {},
   "source": [
    "#### Q30. Write a Python program to print the following floating numbers upto 2 decimal places."
   ]
  },
  {
   "cell_type": "code",
   "execution_count": 42,
   "metadata": {},
   "outputs": [
    {
     "name": "stdout",
     "output_type": "stream",
     "text": [
      "\n",
      "Original Number:  3.1415926\n",
      "Formatted Number: 3.14\n",
      "Original Number:  12.9999\n",
      "Formatted Number: 13.00\n",
      "\n"
     ]
    }
   ],
   "source": [
    "x = 3.1415926\n",
    "y = 12.9999\n",
    "print(\"\\nOriginal Number: \", x)\n",
    "print(\"Formatted Number: \"+\"{:.2f}\".format(x));\n",
    "print(\"Original Number: \", y)\n",
    "print(\"Formatted Number: \"+\"{:.2f}\".format(y));\n",
    "print() "
   ]
  },
  {
   "cell_type": "markdown",
   "metadata": {},
   "source": [
    "#### Q31. Write a Python program to print the following floating numbers upto 2 decimal places with a sign."
   ]
  },
  {
   "cell_type": "code",
   "execution_count": 43,
   "metadata": {},
   "outputs": [
    {
     "name": "stdout",
     "output_type": "stream",
     "text": [
      "\n",
      "Original Number:  3.1415926\n",
      "Formatted Number with sign: +3.14\n",
      "Original Number:  -12.9999\n",
      "Formatted Number with sign: -13.00\n",
      "\n"
     ]
    }
   ],
   "source": [
    "x = 3.1415926\n",
    "y = -12.9999\n",
    "print(\"\\nOriginal Number: \", x)\n",
    "print(\"Formatted Number with sign: \"+\"{:+.2f}\".format(x));\n",
    "print(\"Original Number: \", y)\n",
    "print(\"Formatted Number with sign: \"+\"{:+.2f}\".format(y));\n",
    "print()"
   ]
  },
  {
   "cell_type": "markdown",
   "metadata": {},
   "source": [
    "#### Q32. Write a Python program to print the following floating numbers with no decimal places."
   ]
  },
  {
   "cell_type": "code",
   "execution_count": 44,
   "metadata": {},
   "outputs": [
    {
     "name": "stdout",
     "output_type": "stream",
     "text": [
      "\n",
      "Original Number:  3.1415926\n",
      "Formatted Number with no decimal places: 3\n",
      "Original Number:  -12.9999\n",
      "Formatted Number with no decimal places: -13\n",
      "\n"
     ]
    }
   ],
   "source": [
    "x = 3.1415926\n",
    "y = -12.9999\n",
    "print(\"\\nOriginal Number: \", x)\n",
    "print(\"Formatted Number with no decimal places: \"+\"{:.0f}\".format(x));\n",
    "print(\"Original Number: \", y)\n",
    "print(\"Formatted Number with no decimal places: \"+\"{:.0f}\".format(y));\n",
    "print()\n"
   ]
  },
  {
   "cell_type": "markdown",
   "metadata": {},
   "source": [
    "#### Q33. Write a Python program to print the following integers with zeros on the left of specified width."
   ]
  },
  {
   "cell_type": "code",
   "execution_count": 45,
   "metadata": {},
   "outputs": [
    {
     "name": "stdout",
     "output_type": "stream",
     "text": [
      "\n",
      "Original Number:  3\n",
      "Formatted Number(left padding, width 2): 03\n",
      "Original Number:  123\n",
      "Formatted Number(left padding, width 6): 000123\n",
      "\n"
     ]
    }
   ],
   "source": [
    "x = 3\n",
    "y = 123\n",
    "print(\"\\nOriginal Number: \", x)\n",
    "print(\"Formatted Number(left padding, width 2): \"+\"{:0>2d}\".format(x));\n",
    "print(\"Original Number: \", y)\n",
    "print(\"Formatted Number(left padding, width 6): \"+\"{:0>6d}\".format(y));\n",
    "print()\n"
   ]
  },
  {
   "cell_type": "markdown",
   "metadata": {},
   "source": [
    "#### Q34. Write a Python program to print the following integers with '*' on the right of specified width."
   ]
  },
  {
   "cell_type": "code",
   "execution_count": 46,
   "metadata": {},
   "outputs": [
    {
     "name": "stdout",
     "output_type": "stream",
     "text": [
      "\n",
      "Original Number:  3\n",
      "Formatted Number(right padding, width 2):  3*\n",
      "Original Number:  123\n",
      "Formatted Number(right padding, width 6):  123***\n",
      "\n"
     ]
    }
   ],
   "source": [
    "x = 3\n",
    "y = 123\n",
    "print(\"\\nOriginal Number: \", x)\n",
    "print(\"Formatted Number(right padding, width 2): \"+\"{:*< 3d}\".format(x));\n",
    "print(\"Original Number: \", y)\n",
    "print(\"Formatted Number(right padding, width 6): \"+\"{:*< 7d}\".format(y));\n",
    "print()"
   ]
  },
  {
   "cell_type": "markdown",
   "metadata": {},
   "source": [
    "#### Q35. Write a Python program to display a number with a comma separator. "
   ]
  },
  {
   "cell_type": "code",
   "execution_count": 47,
   "metadata": {},
   "outputs": [
    {
     "name": "stdout",
     "output_type": "stream",
     "text": [
      "\n",
      "Original Number:  3000000\n",
      "Formatted Number with comma separator: 3,000,000\n",
      "Original Number:  30000000\n",
      "Formatted Number with comma separator: 30,000,000\n",
      "\n"
     ]
    }
   ],
   "source": [
    "x = 3000000\n",
    "y = 30000000\n",
    "print(\"\\nOriginal Number: \", x)\n",
    "print(\"Formatted Number with comma separator: \"+\"{:,}\".format(x));\n",
    "print(\"Original Number: \", y)\n",
    "print(\"Formatted Number with comma separator: \"+\"{:,}\".format(y));\n",
    "print()"
   ]
  },
  {
   "cell_type": "markdown",
   "metadata": {},
   "source": [
    "#### Q36. Write a Python program to format a number with a percentage. "
   ]
  },
  {
   "cell_type": "code",
   "execution_count": 48,
   "metadata": {},
   "outputs": [
    {
     "name": "stdout",
     "output_type": "stream",
     "text": [
      "\n",
      "Original Number:  0.25\n",
      "Formatted Number with percentage: 25.00%\n",
      "Original Number:  -0.25\n",
      "Formatted Number with percentage: -25.00%\n",
      "\n"
     ]
    }
   ],
   "source": [
    "x = 0.25\n",
    "y = -0.25\n",
    "print(\"\\nOriginal Number: \", x)\n",
    "print(\"Formatted Number with percentage: \"+\"{:.2%}\".format(x));\n",
    "print(\"Original Number: \", y)\n",
    "print(\"Formatted Number with percentage: \"+\"{:.2%}\".format(y));\n",
    "print()"
   ]
  },
  {
   "cell_type": "markdown",
   "metadata": {},
   "source": [
    "#### Q37. Write a Python program to display a number in left, right and center aligned of width 10."
   ]
  },
  {
   "cell_type": "code",
   "execution_count": 49,
   "metadata": {},
   "outputs": [
    {
     "name": "stdout",
     "output_type": "stream",
     "text": [
      "\n",
      "Original Number:  22\n",
      "Left aligned (width 10)   : 22       \n",
      "Right aligned (width 10)  :        22\n",
      "Center aligned (width 10) :    22    \n",
      "\n"
     ]
    }
   ],
   "source": [
    "x = 22\n",
    "print(\"\\nOriginal Number: \", x)\n",
    "print(\"Left aligned (width 10)   :\"+\"{:< 10d}\".format(x));\n",
    "print(\"Right aligned (width 10)  :\"+\"{:10d}\".format(x));\n",
    "print(\"Center aligned (width 10) :\"+\"{:^10d}\".format(x));\n",
    "print()"
   ]
  },
  {
   "cell_type": "markdown",
   "metadata": {},
   "source": [
    "#### Q38. Write a Python program to count occurrences of a substring in a string."
   ]
  },
  {
   "cell_type": "code",
   "execution_count": 50,
   "metadata": {},
   "outputs": [
    {
     "name": "stdout",
     "output_type": "stream",
     "text": [
      "\n",
      "1\n",
      "\n"
     ]
    }
   ],
   "source": [
    "str1 = 'The quick brown fox jumps over the lazy dog.'\n",
    "print()\n",
    "print(str1.count(\"fox\"))\n",
    "print()"
   ]
  },
  {
   "cell_type": "markdown",
   "metadata": {},
   "source": [
    "#### Q39. Write a Python program to reverse a string. "
   ]
  },
  {
   "cell_type": "code",
   "execution_count": 51,
   "metadata": {},
   "outputs": [
    {
     "name": "stdout",
     "output_type": "stream",
     "text": [
      "\n",
      "fedcba\n",
      ".sesicrexE nohtyP\n",
      "\n"
     ]
    }
   ],
   "source": [
    "def reverse_string(str1):\n",
    "    return ''.join(reversed(str1))\n",
    "print()\n",
    "print(reverse_string(\"abcdef\"))\n",
    "print(reverse_string(\"Python Exercises.\"))\n",
    "print()\n"
   ]
  },
  {
   "cell_type": "markdown",
   "metadata": {},
   "source": [
    "#### Q40. Write a Python program to reverse words in a string."
   ]
  },
  {
   "cell_type": "code",
   "execution_count": 52,
   "metadata": {},
   "outputs": [
    {
     "name": "stdout",
     "output_type": "stream",
     "text": [
      "dog. lazy the over jumps fox brown quick The\n",
      "Exercises. Python\n"
     ]
    }
   ],
   "source": [
    "def reverse_string_words(text):\n",
    "    for line in text.split('\\n'):\n",
    "        return(' '.join(line.split()[::-1]))\n",
    "print(reverse_string_words(\"The quick brown fox jumps over the lazy dog.\"))\n",
    "print(reverse_string_words(\"Python Exercises.\"))"
   ]
  },
  {
   "cell_type": "markdown",
   "metadata": {},
   "source": [
    "#### Q41. Write a Python program to strip a set of characters from a string."
   ]
  },
  {
   "cell_type": "code",
   "execution_count": 53,
   "metadata": {},
   "outputs": [
    {
     "name": "stdout",
     "output_type": "stream",
     "text": [
      "\n",
      "Original String: \n",
      "The quick brown fox jumps over the lazy dog.\n",
      "After stripping a,e,i,o,u\n",
      "Th qck brwn fx jmps vr th lzy dg.\n",
      "\n"
     ]
    }
   ],
   "source": [
    "def strip_chars(str, chars):\n",
    "    return \"\".join(c for c in str if c not in chars)\n",
    "\n",
    "print(\"\\nOriginal String: \")\n",
    "print(\"The quick brown fox jumps over the lazy dog.\")\n",
    "print(\"After stripping a,e,i,o,u\")      \n",
    "print(strip_chars(\"The quick brown fox jumps over the lazy dog.\", \"aeiou\"))\n",
    "print()"
   ]
  },
  {
   "cell_type": "markdown",
   "metadata": {},
   "source": [
    "#### Q42. Write a Python program to count repeated characters in a string. \n",
    "    Sample string: 'thequickbrownfoxjumpsoverthelazydog'\n",
    "    Expected output :\n",
    "    o 4\n",
    "    e 3\n",
    "    u 2\n",
    "    h 2\n",
    "    r 2\n",
    "    t 2"
   ]
  },
  {
   "cell_type": "code",
   "execution_count": 54,
   "metadata": {},
   "outputs": [
    {
     "name": "stdout",
     "output_type": "stream",
     "text": [
      "o 4\n",
      "e 3\n",
      "t 2\n",
      "h 2\n",
      "u 2\n",
      "r 2\n"
     ]
    }
   ],
   "source": [
    "import collections\n",
    "str1 = 'thequickbrownfoxjumpsoverthelazydog'\n",
    "d = collections.defaultdict(int)\n",
    "for c in str1:\n",
    "    d[c] += 1\n",
    "\n",
    "for c in sorted(d, key=d.get, reverse=True):\n",
    "    if d[c] > 1:\n",
    "        print('%s %d' % (c, d[c]))\n"
   ]
  },
  {
   "cell_type": "markdown",
   "metadata": {},
   "source": [
    "#### Q43. Write a Python program to print the square and cube symbol in the area of a rectangle and volume of a cylinder. \n",
    " * The area of the rectangle is 1256.66cm2\n",
    " * The volume of the cylinder is 1254.725cm2"
   ]
  },
  {
   "cell_type": "code",
   "execution_count": 55,
   "metadata": {},
   "outputs": [
    {
     "name": "stdout",
     "output_type": "stream",
     "text": [
      "The area of the rectangle is 1256.66cm²\n",
      "The volume of the cylinder is 1254.725cm³\n"
     ]
    }
   ],
   "source": [
    "area = 1256.66\n",
    "volume = 1254.725\n",
    "decimals = 2\n",
    "print(\"The area of the rectangle is {0:.{1}f}cm\\u00b2\".format(area, decimals))\n",
    "decimals = 3\n",
    "print(\"The volume of the cylinder is {0:.{1}f}cm\\u00b3\".format(volume, decimals))"
   ]
  },
  {
   "cell_type": "markdown",
   "metadata": {},
   "source": [
    "#### Q44. Write a Python program to print the index of the character in a string. \n",
    "    Sample string: google\n",
    "    Expected output:\n",
    "    Current character g position at 0\n",
    "    Current character o position at 1\n",
    "    Current character o position at 2\n",
    "    ---------------------------------\n",
    "    Current character e position at 5"
   ]
  },
  {
   "cell_type": "code",
   "execution_count": 56,
   "metadata": {},
   "outputs": [
    {
     "name": "stdout",
     "output_type": "stream",
     "text": [
      "Current character g position at 0\n",
      "Current character o position at 1\n",
      "Current character o position at 2\n",
      "Current character g position at 3\n",
      "Current character l position at 4\n",
      "Current character e position at 5\n"
     ]
    }
   ],
   "source": [
    "str1 = \"google\"\n",
    "for index, char in enumerate(str1):\n",
    "    print(\"Current character\", char, \"position at\", index )"
   ]
  },
  {
   "cell_type": "markdown",
   "metadata": {},
   "source": [
    "#### Q45. Write a Python program to check if a string contains all letters of the alphabet. "
   ]
  },
  {
   "cell_type": "code",
   "execution_count": 58,
   "metadata": {},
   "outputs": [
    {
     "name": "stdout",
     "output_type": "stream",
     "text": [
      "True\n",
      "False\n"
     ]
    }
   ],
   "source": [
    "import string\n",
    "alphabet = set(string.ascii_lowercase)\n",
    "input_string = 'The quick brown fox jumps over the lazy dog'\n",
    "print(set(input_string.lower()) >= alphabet)\n",
    "input_string = 'The quick brown fox jumps over the lazy cat'\n",
    "print(set(input_string.lower()) >= alphabet)"
   ]
  },
  {
   "cell_type": "markdown",
   "metadata": {},
   "source": [
    "#### Q46. Write a Python program to convert a string in a list."
   ]
  },
  {
   "cell_type": "code",
   "execution_count": 59,
   "metadata": {},
   "outputs": [
    {
     "name": "stdout",
     "output_type": "stream",
     "text": [
      "['The', 'quick', 'brown', 'fox', 'jumps', 'over', 'the', 'lazy', 'dog.']\n",
      "['The', 'quick', 'brown', 'fox', 'jumps', 'over', 'the', 'lazy', 'dog.']\n"
     ]
    }
   ],
   "source": [
    "str1 = \"The quick brown fox jumps over the lazy dog.\"\n",
    "print(str1.split(' '))\n",
    "str1 = \"The-quick-brown-fox-jumps-over-the-lazy-dog.\"\n",
    "print(str1.split('-'))"
   ]
  },
  {
   "cell_type": "markdown",
   "metadata": {},
   "source": [
    "#### Q47. Write a Python program to lowercase first n characters in a string."
   ]
  },
  {
   "cell_type": "code",
   "execution_count": 60,
   "metadata": {},
   "outputs": [
    {
     "name": "stdout",
     "output_type": "stream",
     "text": [
      "googLE.COM\n"
     ]
    }
   ],
   "source": [
    "str1 = 'GOOGLE.COM'\n",
    "print(str1[:4].lower() + str1[4:])"
   ]
  },
  {
   "cell_type": "markdown",
   "metadata": {},
   "source": [
    "#### Q48. Write a Python program to swap comma and dot in a string. \n",
    "    Sample string: \"32.054,23\"\n",
    "    Expected Output: \"32,054.23\""
   ]
  },
  {
   "cell_type": "code",
   "execution_count": 61,
   "metadata": {},
   "outputs": [
    {
     "name": "stdout",
     "output_type": "stream",
     "text": [
      "32,054.23\n"
     ]
    }
   ],
   "source": [
    "amount = \"32.054,23\"\n",
    "maketrans = amount.maketrans\n",
    "amount = amount.translate(maketrans(',.', '.,'))\n",
    "print(amount)"
   ]
  },
  {
   "cell_type": "markdown",
   "metadata": {},
   "source": [
    "#### Q49. Write a Python program to count and display the vowels of a given text."
   ]
  },
  {
   "cell_type": "code",
   "execution_count": 62,
   "metadata": {},
   "outputs": [
    {
     "name": "stdout",
     "output_type": "stream",
     "text": [
      "3\n",
      "['o', 'o', 'e']\n"
     ]
    }
   ],
   "source": [
    "def vowel(text):\n",
    "    vowels = \"aeiuoAEIOU\"\n",
    "    print(len([letter for letter in text if letter in vowels]))\n",
    "    print([letter for letter in text if letter in vowels])\n",
    "vowel('google');"
   ]
  },
  {
   "cell_type": "markdown",
   "metadata": {},
   "source": [
    "#### Q50. Write a Python program to split a string on the last occurrence of the delimiter."
   ]
  },
  {
   "cell_type": "code",
   "execution_count": 64,
   "metadata": {},
   "outputs": [
    {
     "name": "stdout",
     "output_type": "stream",
     "text": [
      "['g,o,o,g,l,e,.,c,o', 'm']\n",
      "['g,o,o,g,l,e,.,c', 'o', 'm']\n",
      "['g,o,o,g,l', 'e', '.', 'c', 'o', 'm']\n"
     ]
    }
   ],
   "source": [
    "str1 = \"g,o,o,g,l,e,.,c,o,m\"\n",
    "print(str1.rsplit(',', 1))\n",
    "print(str1.rsplit(',', 2))\n",
    "print(str1.rsplit(',', 5))"
   ]
  },
  {
   "cell_type": "markdown",
   "metadata": {},
   "source": [
    "#### Q51. Write a Python program to find the first non-repeating character in given string."
   ]
  },
  {
   "cell_type": "code",
   "execution_count": 65,
   "metadata": {},
   "outputs": [
    {
     "name": "stdout",
     "output_type": "stream",
     "text": [
      "a\n",
      "d\n",
      "None\n"
     ]
    }
   ],
   "source": [
    "def first_non_repeating_character(str1):\n",
    "    char_order = []\n",
    "    ctr = {}\n",
    "    for c in str1:\n",
    "        if c in ctr:\n",
    "            ctr[c] += 1\n",
    "        else:\n",
    "            ctr[c] = 1 \n",
    "            char_order.append(c)\n",
    "    \n",
    "    for c in char_order:\n",
    "        if ctr[c] == 1:\n",
    "            return c\n",
    "    return None\n",
    "\n",
    "print(first_non_repeating_character('abcdef'))\n",
    "print(first_non_repeating_character('abcabcdef'))\n",
    "print(first_non_repeating_character('aabbcc'))"
   ]
  },
  {
   "cell_type": "markdown",
   "metadata": {},
   "source": [
    "#### Q52. Write a Python program to print all permutations with given repetition number of characters of a given string."
   ]
  },
  {
   "cell_type": "code",
   "execution_count": 66,
   "metadata": {},
   "outputs": [
    {
     "name": "stdout",
     "output_type": "stream",
     "text": [
      "[('x', 'x', 'x'), ('x', 'x', 'y'), ('x', 'x', 'z'), ('x', 'y', 'x'), ('x', 'y', 'y'), ('x', 'y', 'z'), ('x', 'z', 'x'), ('x', 'z', 'y'), ('x', 'z', 'z'), ('y', 'x', 'x'), ('y', 'x', 'y'), ('y', 'x', 'z'), ('y', 'y', 'x'), ('y', 'y', 'y'), ('y', 'y', 'z'), ('y', 'z', 'x'), ('y', 'z', 'y'), ('y', 'z', 'z'), ('z', 'x', 'x'), ('z', 'x', 'y'), ('z', 'x', 'z'), ('z', 'y', 'x'), ('z', 'y', 'y'), ('z', 'y', 'z'), ('z', 'z', 'x'), ('z', 'z', 'y'), ('z', 'z', 'z')]\n",
      "[('x', 'x'), ('x', 'y'), ('x', 'z'), ('y', 'x'), ('y', 'y'), ('y', 'z'), ('z', 'x'), ('z', 'y'), ('z', 'z')]\n",
      "[('a', 'a', 'a', 'a'), ('a', 'a', 'a', 'b'), ('a', 'a', 'a', 'c'), ('a', 'a', 'a', 'd'), ('a', 'a', 'b', 'a'), ('a', 'a', 'b', 'b'), ('a', 'a', 'b', 'c'), ('a', 'a', 'b', 'd'), ('a', 'a', 'c', 'a'), ('a', 'a', 'c', 'b'), ('a', 'a', 'c', 'c'), ('a', 'a', 'c', 'd'), ('a', 'a', 'd', 'a'), ('a', 'a', 'd', 'b'), ('a', 'a', 'd', 'c'), ('a', 'a', 'd', 'd'), ('a', 'b', 'a', 'a'), ('a', 'b', 'a', 'b'), ('a', 'b', 'a', 'c'), ('a', 'b', 'a', 'd'), ('a', 'b', 'b', 'a'), ('a', 'b', 'b', 'b'), ('a', 'b', 'b', 'c'), ('a', 'b', 'b', 'd'), ('a', 'b', 'c', 'a'), ('a', 'b', 'c', 'b'), ('a', 'b', 'c', 'c'), ('a', 'b', 'c', 'd'), ('a', 'b', 'd', 'a'), ('a', 'b', 'd', 'b'), ('a', 'b', 'd', 'c'), ('a', 'b', 'd', 'd'), ('a', 'c', 'a', 'a'), ('a', 'c', 'a', 'b'), ('a', 'c', 'a', 'c'), ('a', 'c', 'a', 'd'), ('a', 'c', 'b', 'a'), ('a', 'c', 'b', 'b'), ('a', 'c', 'b', 'c'), ('a', 'c', 'b', 'd'), ('a', 'c', 'c', 'a'), ('a', 'c', 'c', 'b'), ('a', 'c', 'c', 'c'), ('a', 'c', 'c', 'd'), ('a', 'c', 'd', 'a'), ('a', 'c', 'd', 'b'), ('a', 'c', 'd', 'c'), ('a', 'c', 'd', 'd'), ('a', 'd', 'a', 'a'), ('a', 'd', 'a', 'b'), ('a', 'd', 'a', 'c'), ('a', 'd', 'a', 'd'), ('a', 'd', 'b', 'a'), ('a', 'd', 'b', 'b'), ('a', 'd', 'b', 'c'), ('a', 'd', 'b', 'd'), ('a', 'd', 'c', 'a'), ('a', 'd', 'c', 'b'), ('a', 'd', 'c', 'c'), ('a', 'd', 'c', 'd'), ('a', 'd', 'd', 'a'), ('a', 'd', 'd', 'b'), ('a', 'd', 'd', 'c'), ('a', 'd', 'd', 'd'), ('b', 'a', 'a', 'a'), ('b', 'a', 'a', 'b'), ('b', 'a', 'a', 'c'), ('b', 'a', 'a', 'd'), ('b', 'a', 'b', 'a'), ('b', 'a', 'b', 'b'), ('b', 'a', 'b', 'c'), ('b', 'a', 'b', 'd'), ('b', 'a', 'c', 'a'), ('b', 'a', 'c', 'b'), ('b', 'a', 'c', 'c'), ('b', 'a', 'c', 'd'), ('b', 'a', 'd', 'a'), ('b', 'a', 'd', 'b'), ('b', 'a', 'd', 'c'), ('b', 'a', 'd', 'd'), ('b', 'b', 'a', 'a'), ('b', 'b', 'a', 'b'), ('b', 'b', 'a', 'c'), ('b', 'b', 'a', 'd'), ('b', 'b', 'b', 'a'), ('b', 'b', 'b', 'b'), ('b', 'b', 'b', 'c'), ('b', 'b', 'b', 'd'), ('b', 'b', 'c', 'a'), ('b', 'b', 'c', 'b'), ('b', 'b', 'c', 'c'), ('b', 'b', 'c', 'd'), ('b', 'b', 'd', 'a'), ('b', 'b', 'd', 'b'), ('b', 'b', 'd', 'c'), ('b', 'b', 'd', 'd'), ('b', 'c', 'a', 'a'), ('b', 'c', 'a', 'b'), ('b', 'c', 'a', 'c'), ('b', 'c', 'a', 'd'), ('b', 'c', 'b', 'a'), ('b', 'c', 'b', 'b'), ('b', 'c', 'b', 'c'), ('b', 'c', 'b', 'd'), ('b', 'c', 'c', 'a'), ('b', 'c', 'c', 'b'), ('b', 'c', 'c', 'c'), ('b', 'c', 'c', 'd'), ('b', 'c', 'd', 'a'), ('b', 'c', 'd', 'b'), ('b', 'c', 'd', 'c'), ('b', 'c', 'd', 'd'), ('b', 'd', 'a', 'a'), ('b', 'd', 'a', 'b'), ('b', 'd', 'a', 'c'), ('b', 'd', 'a', 'd'), ('b', 'd', 'b', 'a'), ('b', 'd', 'b', 'b'), ('b', 'd', 'b', 'c'), ('b', 'd', 'b', 'd'), ('b', 'd', 'c', 'a'), ('b', 'd', 'c', 'b'), ('b', 'd', 'c', 'c'), ('b', 'd', 'c', 'd'), ('b', 'd', 'd', 'a'), ('b', 'd', 'd', 'b'), ('b', 'd', 'd', 'c'), ('b', 'd', 'd', 'd'), ('c', 'a', 'a', 'a'), ('c', 'a', 'a', 'b'), ('c', 'a', 'a', 'c'), ('c', 'a', 'a', 'd'), ('c', 'a', 'b', 'a'), ('c', 'a', 'b', 'b'), ('c', 'a', 'b', 'c'), ('c', 'a', 'b', 'd'), ('c', 'a', 'c', 'a'), ('c', 'a', 'c', 'b'), ('c', 'a', 'c', 'c'), ('c', 'a', 'c', 'd'), ('c', 'a', 'd', 'a'), ('c', 'a', 'd', 'b'), ('c', 'a', 'd', 'c'), ('c', 'a', 'd', 'd'), ('c', 'b', 'a', 'a'), ('c', 'b', 'a', 'b'), ('c', 'b', 'a', 'c'), ('c', 'b', 'a', 'd'), ('c', 'b', 'b', 'a'), ('c', 'b', 'b', 'b'), ('c', 'b', 'b', 'c'), ('c', 'b', 'b', 'd'), ('c', 'b', 'c', 'a'), ('c', 'b', 'c', 'b'), ('c', 'b', 'c', 'c'), ('c', 'b', 'c', 'd'), ('c', 'b', 'd', 'a'), ('c', 'b', 'd', 'b'), ('c', 'b', 'd', 'c'), ('c', 'b', 'd', 'd'), ('c', 'c', 'a', 'a'), ('c', 'c', 'a', 'b'), ('c', 'c', 'a', 'c'), ('c', 'c', 'a', 'd'), ('c', 'c', 'b', 'a'), ('c', 'c', 'b', 'b'), ('c', 'c', 'b', 'c'), ('c', 'c', 'b', 'd'), ('c', 'c', 'c', 'a'), ('c', 'c', 'c', 'b'), ('c', 'c', 'c', 'c'), ('c', 'c', 'c', 'd'), ('c', 'c', 'd', 'a'), ('c', 'c', 'd', 'b'), ('c', 'c', 'd', 'c'), ('c', 'c', 'd', 'd'), ('c', 'd', 'a', 'a'), ('c', 'd', 'a', 'b'), ('c', 'd', 'a', 'c'), ('c', 'd', 'a', 'd'), ('c', 'd', 'b', 'a'), ('c', 'd', 'b', 'b'), ('c', 'd', 'b', 'c'), ('c', 'd', 'b', 'd'), ('c', 'd', 'c', 'a'), ('c', 'd', 'c', 'b'), ('c', 'd', 'c', 'c'), ('c', 'd', 'c', 'd'), ('c', 'd', 'd', 'a'), ('c', 'd', 'd', 'b'), ('c', 'd', 'd', 'c'), ('c', 'd', 'd', 'd'), ('d', 'a', 'a', 'a'), ('d', 'a', 'a', 'b'), ('d', 'a', 'a', 'c'), ('d', 'a', 'a', 'd'), ('d', 'a', 'b', 'a'), ('d', 'a', 'b', 'b'), ('d', 'a', 'b', 'c'), ('d', 'a', 'b', 'd'), ('d', 'a', 'c', 'a'), ('d', 'a', 'c', 'b'), ('d', 'a', 'c', 'c'), ('d', 'a', 'c', 'd'), ('d', 'a', 'd', 'a'), ('d', 'a', 'd', 'b'), ('d', 'a', 'd', 'c'), ('d', 'a', 'd', 'd'), ('d', 'b', 'a', 'a'), ('d', 'b', 'a', 'b'), ('d', 'b', 'a', 'c'), ('d', 'b', 'a', 'd'), ('d', 'b', 'b', 'a'), ('d', 'b', 'b', 'b'), ('d', 'b', 'b', 'c'), ('d', 'b', 'b', 'd'), ('d', 'b', 'c', 'a'), ('d', 'b', 'c', 'b'), ('d', 'b', 'c', 'c'), ('d', 'b', 'c', 'd'), ('d', 'b', 'd', 'a'), ('d', 'b', 'd', 'b'), ('d', 'b', 'd', 'c'), ('d', 'b', 'd', 'd'), ('d', 'c', 'a', 'a'), ('d', 'c', 'a', 'b'), ('d', 'c', 'a', 'c'), ('d', 'c', 'a', 'd'), ('d', 'c', 'b', 'a'), ('d', 'c', 'b', 'b'), ('d', 'c', 'b', 'c'), ('d', 'c', 'b', 'd'), ('d', 'c', 'c', 'a'), ('d', 'c', 'c', 'b'), ('d', 'c', 'c', 'c'), ('d', 'c', 'c', 'd'), ('d', 'c', 'd', 'a'), ('d', 'c', 'd', 'b'), ('d', 'c', 'd', 'c'), ('d', 'c', 'd', 'd'), ('d', 'd', 'a', 'a'), ('d', 'd', 'a', 'b'), ('d', 'd', 'a', 'c'), ('d', 'd', 'a', 'd'), ('d', 'd', 'b', 'a'), ('d', 'd', 'b', 'b'), ('d', 'd', 'b', 'c'), ('d', 'd', 'b', 'd'), ('d', 'd', 'c', 'a'), ('d', 'd', 'c', 'b'), ('d', 'd', 'c', 'c'), ('d', 'd', 'c', 'd'), ('d', 'd', 'd', 'a'), ('d', 'd', 'd', 'b'), ('d', 'd', 'd', 'c'), ('d', 'd', 'd', 'd')]\n"
     ]
    }
   ],
   "source": [
    "from itertools import product\n",
    "def all_repeat(str1, rno):\n",
    "    chars = list(str1)\n",
    "    results = []\n",
    "    for c in product(chars, repeat = rno):\n",
    "        results.append(c)\n",
    "    return results\n",
    "\n",
    "print(all_repeat('xyz', 3))\n",
    "print(all_repeat('xyz', 2))\n",
    "print(all_repeat('abcd', 4))"
   ]
  },
  {
   "cell_type": "markdown",
   "metadata": {},
   "source": [
    "#### Q53. Write a Python program to find the first repeated character in a given string. "
   ]
  },
  {
   "cell_type": "code",
   "execution_count": 67,
   "metadata": {},
   "outputs": [
    {
     "name": "stdout",
     "output_type": "stream",
     "text": [
      "a\n",
      "None\n"
     ]
    }
   ],
   "source": [
    "def first_repeated_char(str1):\n",
    "    for index,c in enumerate(str1):\n",
    "        if str1[:index+1].count(c) > 1:\n",
    "            return c \n",
    "    return \"None\"\n",
    "\n",
    "print(first_repeated_char(\"abcdabcd\"))\n",
    "print(first_repeated_char(\"abcd\"))"
   ]
  },
  {
   "cell_type": "markdown",
   "metadata": {},
   "source": [
    "#### Q54. Write a Python program to find the first repeated character of a given string where the index of first occurrence is smallest. "
   ]
  },
  {
   "cell_type": "code",
   "execution_count": 69,
   "metadata": {},
   "outputs": [
    {
     "name": "stdout",
     "output_type": "stream",
     "text": [
      "('a', 0)\n",
      "('b', 1)\n",
      "('c', 2)\n",
      "('x', 3)\n",
      "None\n"
     ]
    }
   ],
   "source": [
    "def first_repeated_char_smallest_distance(str1):\n",
    "    temp = {}\n",
    "    for ch in str1:\n",
    "        if ch in temp:\n",
    "            return ch, str1.index(ch);\n",
    "        else:\n",
    "            temp[ch] = 0\n",
    "    return 'None'\n",
    "print(first_repeated_char_smallest_distance(\"abcabc\"))\n",
    "print(first_repeated_char_smallest_distance(\"abcb\"))\n",
    "print(first_repeated_char_smallest_distance(\"abcc\"))\n",
    "print(first_repeated_char_smallest_distance(\"abcxxy\"))\n",
    "print(first_repeated_char_smallest_distance(\"abc\"))"
   ]
  },
  {
   "cell_type": "markdown",
   "metadata": {},
   "source": [
    "#### Q55.Write a Python program to find the first repeated word in a given string. "
   ]
  },
  {
   "cell_type": "code",
   "execution_count": 70,
   "metadata": {},
   "outputs": [
    {
     "name": "stdout",
     "output_type": "stream",
     "text": [
      "ab\n",
      "ab\n",
      "ca\n",
      "None\n"
     ]
    }
   ],
   "source": [
    "def first_repeated_word(str1):\n",
    "    temp = set()\n",
    "    for word in str1.split():\n",
    "        if word in temp:\n",
    "            return word;\n",
    "        else:\n",
    "            temp.add(word)\n",
    "    return 'None'\n",
    "print(first_repeated_word(\"ab ca bc ab\"))\n",
    "print(first_repeated_word(\"ab ca bc ab ca ab bc\"))\n",
    "print(first_repeated_word(\"ab ca bc ca ab bc\"))\n",
    "print(first_repeated_word(\"ab ca bc\"))"
   ]
  },
  {
   "cell_type": "markdown",
   "metadata": {},
   "source": [
    "#### Q56. Write a Python program to find the second most repeated word in a given string."
   ]
  },
  {
   "cell_type": "code",
   "execution_count": 71,
   "metadata": {},
   "outputs": [
    {
     "name": "stdout",
     "output_type": "stream",
     "text": [
      "('of', 4)\n"
     ]
    }
   ],
   "source": [
    "def word_count(str):\n",
    "    counts = dict()\n",
    "    words = str.split()\n",
    "\n",
    "    for word in words:\n",
    "        if word in counts:\n",
    "            counts[word] += 1\n",
    "        else:\n",
    "            counts[word] = 1\n",
    "\n",
    "    counts_x = sorted(counts.items(), key=lambda kv: kv[1])\n",
    "    #print(counts_x)\n",
    "    return counts_x[-2]\n",
    " \n",
    "print(word_count(\"Both of these issues are fixed by postponing the evaluation of annotations. Instead of compiling code which executes expressions in annotations at their definition time, the compiler stores the annotation in a string form equivalent to the AST of the expression in question. If needed, annotations can be resolved at runtime using typing.get_type_hints(). In the common case where this is not required, the annotations are cheaper to store (since short strings are interned by the interpreter) and make startup time faster.\"))\n"
   ]
  },
  {
   "cell_type": "markdown",
   "metadata": {},
   "source": [
    "#### Q57.Write a Python program to remove spaces from a given string."
   ]
  },
  {
   "cell_type": "code",
   "execution_count": 72,
   "metadata": {},
   "outputs": [
    {
     "name": "stdout",
     "output_type": "stream",
     "text": [
      "google\n",
      "abc\n"
     ]
    }
   ],
   "source": [
    "def remove_spaces(str1):\n",
    "  str1 = str1.replace(' ','')\n",
    "  return str1\n",
    "    \n",
    "print(remove_spaces(\"g o og l e\"))\n",
    "print(remove_spaces(\"a b c\"))"
   ]
  },
  {
   "cell_type": "markdown",
   "metadata": {},
   "source": [
    "#### Q58. Write a Python program to move spaces to the front of a given string."
   ]
  },
  {
   "cell_type": "code",
   "execution_count": 73,
   "metadata": {},
   "outputs": [
    {
     "name": "stdout",
     "output_type": "stream",
     "text": [
      "\"     google.com\"\n",
      "\"     google.com\"\n"
     ]
    }
   ],
   "source": [
    "def move_Spaces_front(str1):\n",
    "    noSpaces_char = [ch for ch in str1 if ch!=' ']\n",
    "    spaces_char = len(str1) - len(noSpaces_char)\n",
    "    result = ' '*spaces_char\n",
    "    result = '\"'+result + ''.join(noSpaces_char)+'\"'\n",
    "    return(result)\n",
    "\n",
    "print(move_Spaces_front(\"google .  com  \"))\n",
    "print(move_Spaces_front(\"   google.com  \"))"
   ]
  },
  {
   "cell_type": "markdown",
   "metadata": {},
   "source": [
    "#### Q59. Write a Python program to find the maximum occurring character in a given string."
   ]
  },
  {
   "cell_type": "code",
   "execution_count": 75,
   "metadata": {},
   "outputs": [
    {
     "name": "stdout",
     "output_type": "stream",
     "text": [
      "t\n",
      "b\n"
     ]
    }
   ],
   "source": [
    "def get_max_occuring_char(str1):\n",
    "    ASCII_SIZE = 256\n",
    "    ctr = [0] * ASCII_SIZE\n",
    "    max1 = -1\n",
    "    ch = ''\n",
    "    for i in str1:\n",
    "        ctr[ord(i)]+=1;\n",
    " \n",
    "    for i in str1:\n",
    "        if max1 < ctr[ord(i)]:\n",
    "            max1 = ctr[ord(i)]\n",
    "            ch = i\n",
    "    return ch\n",
    "\n",
    "print(get_max_occuring_char(\"Python: Get file creation and modification date/times\"))\n",
    "print(get_max_occuring_char(\"abcdefghijkb\"))\n"
   ]
  },
  {
   "cell_type": "markdown",
   "metadata": {},
   "source": [
    "#### Q60. Write a Python program to capitalize first and last letters of each word of a given string. "
   ]
  },
  {
   "cell_type": "code",
   "execution_count": 76,
   "metadata": {},
   "outputs": [
    {
     "name": "stdout",
     "output_type": "stream",
     "text": [
      "PythoN ExerciseS PracticE SolutioN\n",
      "GooglE\n"
     ]
    }
   ],
   "source": [
    "def capitalize_first_last_letters(str1):\n",
    "    str1 = result = str1.title()\n",
    "    result =  \"\"\n",
    "    for word in str1.split():\n",
    "        result += word[:-1] + word[-1].upper() + \" \"\n",
    "    return result[:-1]  \n",
    "     \n",
    "print(capitalize_first_last_letters(\"python exercises practice solution\"))\n",
    "print(capitalize_first_last_letters(\"google\"))"
   ]
  },
  {
   "cell_type": "markdown",
   "metadata": {},
   "source": [
    "#### Q61. Write a Python program to remove duplicate characters of a given string."
   ]
  },
  {
   "cell_type": "code",
   "execution_count": 77,
   "metadata": {},
   "outputs": [
    {
     "name": "stdout",
     "output_type": "stream",
     "text": [
      "python exrcisalu\n",
      "gole\n"
     ]
    }
   ],
   "source": [
    "from collections import OrderedDict\n",
    "def remove_duplicate(str1):\n",
    "    return \"\".join(OrderedDict.fromkeys(str1))\n",
    "     \n",
    "print(remove_duplicate(\"python exercises practice solution\"))\n",
    "print(remove_duplicate(\"google\"))"
   ]
  },
  {
   "cell_type": "markdown",
   "metadata": {},
   "source": [
    "#### Q62. Write a Python program to compute sum of digits of a given string. "
   ]
  },
  {
   "cell_type": "code",
   "execution_count": 78,
   "metadata": {},
   "outputs": [
    {
     "name": "stdout",
     "output_type": "stream",
     "text": [
      "15\n",
      "10\n"
     ]
    }
   ],
   "source": [
    "def sum_digits_string(str1):\n",
    "    sum_digit = 0\n",
    "    for x in str1:\n",
    "        if x.isdigit() == True:\n",
    "            z = int(x)\n",
    "            sum_digit = sum_digit + z\n",
    "\n",
    "    return sum_digit\n",
    "     \n",
    "print(sum_digits_string(\"123abcd45\"))\n",
    "print(sum_digits_string(\"abcd1234\"))"
   ]
  },
  {
   "cell_type": "markdown",
   "metadata": {},
   "source": [
    "#### Q63. Write a Python program to remove leading zeros from an IP address. "
   ]
  },
  {
   "cell_type": "code",
   "execution_count": 79,
   "metadata": {},
   "outputs": [
    {
     "name": "stdout",
     "output_type": "stream",
     "text": [
      "255.24.1.1\n",
      "127.0.0.1\n"
     ]
    }
   ],
   "source": [
    "def remove_zeros_from_ip(ip_add):\n",
    "    new_ip_add = \".\".join([str(int(i)) for i in ip_add.split(\".\")])  \n",
    "    return new_ip_add ;\n",
    "\n",
    "print(remove_zeros_from_ip(\"255.024.01.01\"))\n",
    "print(remove_zeros_from_ip(\"127.0.0.01 \"))"
   ]
  },
  {
   "cell_type": "markdown",
   "metadata": {},
   "source": [
    "#### Q64. Write a Python program to find maximum length of consecutive 0's in a given binary string. "
   ]
  },
  {
   "cell_type": "code",
   "execution_count": 80,
   "metadata": {},
   "outputs": [
    {
     "name": "stdout",
     "output_type": "stream",
     "text": [
      "Original string:111000010000110\n",
      "Maximum length of consecutive 0’s:\n",
      "4\n",
      "Original string:111000111\n",
      "Maximum length of consecutive 0’s:\n",
      "3\n"
     ]
    }
   ],
   "source": [
    "def max_consecutive_0(input_str): \n",
    "     return  max(map(len,input_str.split('1')))\n",
    "    \n",
    "str1 = '111000010000110'\n",
    "print(\"Original string:\" + str1)\n",
    "print(\"Maximum length of consecutive 0’s:\")\n",
    "print(max_consecutive_0(str1))\n",
    "str1 = '111000111'\n",
    "print(\"Original string:\" + str1)\n",
    "print(\"Maximum length of consecutive 0’s:\")\n",
    "print(max_consecutive_0(str1))"
   ]
  },
  {
   "cell_type": "markdown",
   "metadata": {},
   "source": [
    "#### Q65. Write a Python program to find all the common characters in lexicographical order from two given lower case strings. If there are no common letters print \"No common characters\". "
   ]
  },
  {
   "cell_type": "code",
   "execution_count": 81,
   "metadata": {},
   "outputs": [
    {
     "name": "stdout",
     "output_type": "stream",
     "text": [
      "Two strings: Python : PHP\n",
      "P\n",
      "Two strings: Java : PHP\n",
      "No common characters.\n"
     ]
    }
   ],
   "source": [
    "from collections import Counter \n",
    "def common_chars(str1,str2): \t\n",
    "    d1 = Counter(str1) \n",
    "    d2 = Counter(str2) \n",
    "    common_dict = d1 & d2 \n",
    "    if len(common_dict) == 0: \n",
    "        return \"No common characters.\"\n",
    "\n",
    "    # list of common elements \n",
    "    common_chars = list(common_dict.elements()) \n",
    "    common_chars = sorted(common_chars) \n",
    "\n",
    "    return ''.join(common_chars) \n",
    "\n",
    "str1 = 'Python'\n",
    "str2 = 'PHP'\n",
    "print(\"Two strings: \"+str1+' : '+str2)\n",
    "print(common_chars(str1, str2))\n",
    "str1 = 'Java'\n",
    "str2 = 'PHP'\n",
    "print(\"Two strings: \"+str1+' : '+str2)\n",
    "print(common_chars(str1, str2))"
   ]
  },
  {
   "cell_type": "markdown",
   "metadata": {},
   "source": [
    "#### Q66. Write a Python program to make two given strings (lower case, may or may not be of the same length) anagrams removing any characters from any of the strings. "
   ]
  },
  {
   "cell_type": "code",
   "execution_count": 82,
   "metadata": {},
   "outputs": [
    {
     "name": "stdout",
     "output_type": "stream",
     "text": [
      "Input string1: The quick brown fox\n",
      "Input string2: jumps over the lazy dog\n",
      "24\n"
     ]
    }
   ],
   "source": [
    "def make_map(s):\n",
    "    temp_map = {}\n",
    "    for char in s:\n",
    "        if char not in temp_map:\n",
    "            temp_map[char] = 1\n",
    "        else:\n",
    "            temp_map[char] +=1 \n",
    "    return temp_map\n",
    "\n",
    "def make_anagram(str1, str2):\n",
    "    str1_map1 = make_map(str1)\n",
    "    str2_map2 = make_map(str2)\n",
    " \n",
    "    ctr = 0\n",
    "    for key in str2_map2.keys():\n",
    "        if key not in str1_map1:\n",
    "            ctr += str2_map2[key]\n",
    "        else:\n",
    "            ctr += max(0, str2_map2[key]-str1_map1[key])\n",
    " \n",
    "    for key in str1_map1.keys():\n",
    "        if key not in str2_map2:\n",
    "            ctr += str1_map1[key]\n",
    "        else:\n",
    "            ctr += max(0, str1_map1[key]-str2_map2[key]) \n",
    "    return ctr \n",
    "str1 = input(\"Input string1: \")\n",
    "str2 = input(\"Input string2: \")\n",
    "print(make_anagram(str1, str2))"
   ]
  },
  {
   "cell_type": "markdown",
   "metadata": {},
   "source": [
    "#### Q67. Write a Python program to remove all consecutive duplicates of a given string."
   ]
  },
  {
   "cell_type": "code",
   "execution_count": 83,
   "metadata": {},
   "outputs": [
    {
     "name": "stdout",
     "output_type": "stream",
     "text": [
      "Original string:xxxxxyyyyy\n",
      "After removing consecutive duplicates: xxxxxyyyyy\n",
      "xy\n"
     ]
    }
   ],
   "source": [
    "from itertools import groupby \n",
    "def remove_all_consecutive(str1): \n",
    "    result_str = [] \n",
    "    for (key,group) in groupby(str1): \n",
    "        result_str.append(key) \n",
    "\n",
    "    return ''.join(result_str)\n",
    "\n",
    "str1 = 'xxxxxyyyyy'\n",
    "print(\"Original string:\" + str1)\n",
    "print(\"After removing consecutive duplicates: \" + str1)\n",
    "print(remove_all_consecutive(str1))"
   ]
  },
  {
   "cell_type": "markdown",
   "metadata": {},
   "source": [
    "#### Q68. Write a Python program to create two strings from a given string. Create the first string using those character which occurs only once and create the second string which consists of multi-time occurring characters in the said string. "
   ]
  },
  {
   "cell_type": "code",
   "execution_count": 2,
   "metadata": {},
   "outputs": [
    {
     "name": "stdout",
     "output_type": "stream",
     "text": [
      "egh\n",
      "abcf\n"
     ]
    }
   ],
   "source": [
    "from collections import Counter  \n",
    "def generateStrings(input): \n",
    "    str_char_ctr = Counter(input) \n",
    "    part1 = [ key for (key,count) in str_char_ctr.items() if count==1] \n",
    "    part2 = [ key for (key,count) in str_char_ctr.items() if count>1] \n",
    "    part1.sort() \n",
    "    part2.sort()\n",
    "    return part1,part2\n",
    "\n",
    "input1 = \"aabbcceffgh\"\n",
    "s1, s2 = generateStrings(input1)\n",
    "print(''.join(s1))   \n",
    "print(''.join(s2))"
   ]
  },
  {
   "cell_type": "markdown",
   "metadata": {},
   "source": [
    "#### Q69. Write a Python program to find the longest common sub-string from two given strings."
   ]
  },
  {
   "cell_type": "code",
   "execution_count": 85,
   "metadata": {},
   "outputs": [
    {
     "name": "stdout",
     "output_type": "stream",
     "text": [
      "Original Substrings:\n",
      " abcdefgh\n",
      " xswerabcdwd\n",
      "\n",
      "Common longest sub_string:\n",
      "abcd\n"
     ]
    }
   ],
   "source": [
    "from difflib import SequenceMatcher \n",
    "  \n",
    "def longest_Substring(s1,s2): \n",
    "  \n",
    "     seq_match = SequenceMatcher(None,s1,s2) \n",
    "  \n",
    "     match = seq_match.find_longest_match(0, len(s1), 0, len(s2)) \n",
    "  \n",
    "     # return the longest substring \n",
    "     if (match.size!=0): \n",
    "        return (s1[match.a: match.a + match.size])  \n",
    "     else: \n",
    "        return ('Longest common sub-string not present')  \n",
    "\n",
    "s1 = 'abcdefgh'\n",
    "s2 = 'xswerabcdwd'\n",
    "print(\"Original Substrings:\\n\",s1+\"\\n\",s2)\n",
    "print(\"\\nCommon longest sub_string:\")\n",
    "print(longest_Substring(s1,s2))"
   ]
  },
  {
   "cell_type": "markdown",
   "metadata": {},
   "source": [
    "#### Q70. Write a Python program to create a string from two given strings concatenating uncommon characters of the said strings. "
   ]
  },
  {
   "cell_type": "code",
   "execution_count": 86,
   "metadata": {},
   "outputs": [
    {
     "name": "stdout",
     "output_type": "stream",
     "text": [
      "Original Substrings:\n",
      " abcdpqr\n",
      " xyzabcd\n",
      "\n",
      "After concatenating uncommon characters:\n",
      "pqrxyz\n"
     ]
    }
   ],
   "source": [
    "def uncommon_chars_concat(s1, s2):\n",
    "    set1 = set(s1) \n",
    "    set2 = set(s2) \n",
    "  \n",
    "    common_chars = list(set1 & set2) \n",
    "    result = [ch for ch in s1 if ch not in common_chars] + [ch for ch in s2 if ch not in common_chars] \n",
    "    return(''.join(result))\n",
    "\n",
    "s1 = 'abcdpqr'\n",
    "s2 = 'xyzabcd'\n",
    "print(\"Original Substrings:\\n\",s1+\"\\n\",s2)\n",
    "print(\"\\nAfter concatenating uncommon characters:\")\n",
    "print(uncommon_chars_concat(s1, s2))"
   ]
  },
  {
   "cell_type": "markdown",
   "metadata": {},
   "source": [
    "#### Q71. Write a Python program to move all spaces to the front of a given string in single traversal."
   ]
  },
  {
   "cell_type": "code",
   "execution_count": 87,
   "metadata": {},
   "outputs": [
    {
     "name": "stdout",
     "output_type": "stream",
     "text": [
      "Original String:\n",
      " Python Exercises\n",
      "\n",
      "After moving all spaces to the front:\n",
      " PythonExercises\n"
     ]
    }
   ],
   "source": [
    "def moveSpaces(str1): \n",
    "    no_spaces = [char for char in str1 if char!=' ']   \n",
    "    space= len(str1) - len(no_spaces)\n",
    "    # Create string with spaces\n",
    "    result = ' '*space    \n",
    "    return result + ''.join(no_spaces)\n",
    "  \n",
    "s1 = \"Python Exercises\"\n",
    "print(\"Original String:\\n\",s1)\n",
    "\n",
    "print(\"\\nAfter moving all spaces to the front:\")\n",
    "print(moveSpaces(s1))"
   ]
  },
  {
   "cell_type": "markdown",
   "metadata": {},
   "source": [
    "#### Q72. Write a Python program to remove all consecutive duplicates from a given string. "
   ]
  },
  {
   "cell_type": "code",
   "execution_count": 88,
   "metadata": {},
   "outputs": [
    {
     "name": "stdout",
     "output_type": "stream",
     "text": [
      "Original String:  aabcdaee\n",
      "\n",
      "Removing all consecutive duplicates:\n",
      "abcdae\n"
     ]
    }
   ],
   "source": [
    "import itertools\n",
    "def remove_consecutive_duplicates(s1):\n",
    "     return (''.join(i for i, _ in itertools.groupby(s1)))\n",
    "\n",
    "s1= \"aabcdaee\"\n",
    "print(\"Original String: \",s1)\n",
    "print(\"\\nRemoving all consecutive duplicates:\")\n",
    "print(remove_consecutive_duplicates(s1))"
   ]
  },
  {
   "cell_type": "markdown",
   "metadata": {},
   "source": [
    "#### Q73. Write a Python program to count Uppercase, Lowercase, special character and numeric values in a given string."
   ]
  },
  {
   "cell_type": "code",
   "execution_count": 98,
   "metadata": {},
   "outputs": [
    {
     "name": "stdout",
     "output_type": "stream",
     "text": [
      "Original Substrings: A@Google5.Com\n",
      "\n",
      "Upper case characters:  3\n",
      "Lower case characters:  7\n",
      "Number case:  1\n",
      "Special case characters:  2\n"
     ]
    }
   ],
   "source": [
    "def count_chars(str1):\n",
    "    upper_ctr, lower_ctr, number_ctr, special_ctr = 0, 0, 0, 0\n",
    "    for i in range(len(str1)):\n",
    "        if str1[i] >= 'A' and str1[i] <= 'Z': upper_ctr += 1\n",
    "        elif str1[i] >= 'a' and str1[i] <= 'z': lower_ctr += 1\n",
    "        elif str1[i] >= '0' and str1[i] <= '9': number_ctr += 1\n",
    "        else: special_ctr += 1\n",
    "    return upper_ctr, lower_ctr, number_ctr, special_ctr\n",
    "           \n",
    "str = \"A@Google5.Com\"\n",
    "print(\"Original Substrings:\",str)\n",
    "u, l, n, s = count_chars(str)\n",
    "print('\\nUpper case characters: ',u)\n",
    "print('Lower case characters: ',l)\n",
    "print('Number case: ',n)\n",
    "print('Special case characters: ',s)"
   ]
  },
  {
   "cell_type": "markdown",
   "metadata": {},
   "source": [
    "#### Q74. Write a Python program to find the minimum window in a given string which will contain all the characters of another given string. \n",
    "    Example 1\n",
    "    Input : str1 = \" PRWSOERIUSFK \"\n",
    "    str2 = \" OSU \"\n",
    "    Output: Minimum window is \"OERIUS\""
   ]
  },
  {
   "cell_type": "code",
   "execution_count": 92,
   "metadata": {},
   "outputs": [
    {
     "name": "stdout",
     "output_type": "stream",
     "text": [
      "Original Strings:\n",
      " PRWSOERIUSFK \n",
      " OSU\n",
      "Minimum window:\n",
      "OERIUS\n"
     ]
    }
   ],
   "source": [
    "import collections\n",
    "def min_window(str1, str2):\n",
    "    result_char, missing_char = collections.Counter(str2), len(str2)\n",
    "    i = p = q = 0\n",
    "    for j, c in enumerate(str1, 1):\n",
    "        missing_char -= result_char[c] > 0\n",
    "        result_char[c] -= 1\n",
    "        if not missing_char:\n",
    "            while i < q and result_char[str1[i]] < 0:\n",
    "                result_char[str1[i]] += 1\n",
    "                i += 1\n",
    "            if not q or j - i <= q - p:\n",
    "                p, q = i, j\n",
    "    return str1[p:q]\n",
    "           \n",
    "str1 = \"PRWSOERIUSFK\"\n",
    "str2 = \"OSU\"\n",
    "print(\"Original Strings:\\n\",str1,\"\\n\",str2)\n",
    "print(\"Minimum window:\")\n",
    "print(min_window(str1,str2))"
   ]
  },
  {
   "cell_type": "markdown",
   "metadata": {},
   "source": [
    "#### Q75. Write a Python program to find smallest window that contains all characters of a given string."
   ]
  },
  {
   "cell_type": "code",
   "execution_count": 99,
   "metadata": {},
   "outputs": [
    {
     "name": "stdout",
     "output_type": "stream",
     "text": [
      "Original Strings:\n",
      " asdaewsqgtwwsa\n",
      "\n",
      "Smallest window that contains all characters of the said string:\n",
      "daewsqgt\n"
     ]
    }
   ],
   "source": [
    "from collections import defaultdict   \n",
    "\n",
    "def find_sub_string(str): \n",
    "    str_len = len(str) \n",
    "      \n",
    "    # Count all distinct characters. \n",
    "    dist_count_char = len(set([x for x in str])) \n",
    "  \n",
    "    ctr, start_pos, start_pos_index, min_len = 0, 0, -1, 9999999999\n",
    "    curr_count = defaultdict(lambda: 0) \n",
    "    for i in range(str_len): \n",
    "        curr_count[str[i]] += 1\n",
    " \n",
    "        if curr_count[str[i]] == 1: \n",
    "            ctr += 1\n",
    "  \n",
    "        if ctr == dist_count_char: \n",
    "            while curr_count[str[start_pos]] > 1: \n",
    "                if curr_count[str[start_pos]] > 1: \n",
    "                    curr_count[str[start_pos]] -= 1\n",
    "                start_pos += 1\n",
    "  \n",
    "            len_window = i - start_pos + 1\n",
    "            if min_len > len_window: \n",
    "                min_len = len_window \n",
    "                start_pos_index = start_pos \n",
    "    return str1[start_pos_index: start_pos_index + min_len] \n",
    "      \n",
    "str1 = \"asdaewsqgtwwsa\"\n",
    "print(\"Original Strings:\\n\",str1)\n",
    "print(\"\\nSmallest window that contains all characters of the said string:\")\n",
    "print(find_sub_string(str1)) "
   ]
  },
  {
   "cell_type": "markdown",
   "metadata": {},
   "source": [
    "#### Q76. Write a Python program to count number of substrings from a given string of lowercase alphabets with exactly k distinct (given) characters. "
   ]
  },
  {
   "cell_type": "code",
   "execution_count": 1,
   "metadata": {},
   "outputs": [
    {
     "name": "stdout",
     "output_type": "stream",
     "text": [
      "Input a string (lowercase alphabets):wolf\n",
      "Input k: 4\n",
      "Number of substrings with exactly 4 distinct characters : 1\n"
     ]
    }
   ],
   "source": [
    "def count_k_dist(str1, k): \n",
    "    str_len = len(str1) \n",
    "\n",
    "    result = 0\n",
    "\n",
    "    ctr = [0] * 27\n",
    "\n",
    "    for i in range(0, str_len): \n",
    "        dist_ctr = 0\n",
    "\n",
    "        ctr = [0] * 27\n",
    "\n",
    "        for j in range(i, str_len): \n",
    "\n",
    "            if(ctr[ord(str1[j]) - 97] == 0): \n",
    "                dist_ctr += 1\n",
    "\n",
    "            ctr[ord(str1[j]) - 97] += 1\n",
    "\n",
    "            if(dist_ctr == k): \n",
    "                result += 1\n",
    "            if(dist_ctr > k): \n",
    "                break\n",
    "\n",
    "    return result \n",
    "\n",
    "str1 = input(\"Input a string (lowercase alphabets):\")\n",
    "k = int(input(\"Input k: \"))\n",
    "print(\"Number of substrings with exactly\", k, \"distinct characters : \", end = \"\") \n",
    "print(count_k_dist(str1, k))"
   ]
  },
  {
   "cell_type": "markdown",
   "metadata": {},
   "source": [
    "#### Q77. Write a Python program to count number of non-empty substrings of a given string."
   ]
  },
  {
   "cell_type": "code",
   "execution_count": 3,
   "metadata": {},
   "outputs": [
    {
     "name": "stdout",
     "output_type": "stream",
     "text": [
      "Input a string: google\n",
      "Number of substrings:\n",
      "21\n"
     ]
    }
   ],
   "source": [
    "def number_of_substrings(str1): \n",
    "    str_len = len(str1); \n",
    "    return int(str_len * (str_len + 1) / 2); \n",
    "\n",
    "str1 = input(\"Input a string: \")\n",
    "print(\"Number of substrings:\") \n",
    "print(number_of_substrings(str1))"
   ]
  },
  {
   "cell_type": "markdown",
   "metadata": {},
   "source": [
    "#### Q78. Write a Python program to count characters at same position in a given string (lower and uppercase characters) as in English alphabet. "
   ]
  },
  {
   "cell_type": "code",
   "execution_count": 4,
   "metadata": {},
   "outputs": [
    {
     "name": "stdout",
     "output_type": "stream",
     "text": [
      "Input a string: xbcefg\n",
      "Number of characters of the said string at same position as in English alphabet:\n",
      "2\n"
     ]
    }
   ],
   "source": [
    "def count_char_position(str1): \n",
    "    count_chars = 0\n",
    "    for i in range(len(str1)):\n",
    "        if ((i == ord(str1[i]) - ord('A')) or \n",
    "            (i == ord(str1[i]) - ord('a'))): \n",
    "            count_chars += 1\n",
    "    return count_chars \n",
    "  \n",
    "str1 = input(\"Input a string: \")\n",
    "print(\"Number of characters of the said string at same position as in English alphabet:\")\n",
    "print(count_char_position(str1))"
   ]
  },
  {
   "cell_type": "markdown",
   "metadata": {},
   "source": [
    "#### Q79. Write a Python program to find smallest and largest word in a given string. "
   ]
  },
  {
   "cell_type": "code",
   "execution_count": 5,
   "metadata": {},
   "outputs": [
    {
     "name": "stdout",
     "output_type": "stream",
     "text": [
      "Original Strings:\n",
      " Write a Java program to sort an array of given integers using Quick sort Algorithm.\n",
      "Smallest word: a\n",
      "Largest word: Algorithm.\n"
     ]
    }
   ],
   "source": [
    "def smallest_largest_words(str1):\n",
    "    word = \"\";\n",
    "    all_words = [];\n",
    "    str1 = str1 + \" \";\n",
    "    for i in range(0, len(str1)):\n",
    "        if(str1[i] != ' '):\n",
    "            word = word + str1[i];  \n",
    "        else:\n",
    "            all_words.append(word);  \n",
    "            word = \"\";  \n",
    "          \n",
    "    small = large = all_words[0];  \n",
    "   \n",
    "#Find smallest and largest word in the str1  \n",
    "    for k in range(0, len(all_words)):\n",
    "        if(len(small) > len(all_words[k])):\n",
    "            small = all_words[k];\n",
    "        if(len(large) < len(all_words[k])):\n",
    "            large = all_words[k];\n",
    "    return small,large;\n",
    "\n",
    "str1 = \"Write a Java program to sort an array of given integers using Quick sort Algorithm.\";  \n",
    "print(\"Original Strings:\\n\",str1)\n",
    "small, large = smallest_largest_words(str1)  \n",
    "print(\"Smallest word: \" + small);  \n",
    "print(\"Largest word: \" + large); "
   ]
  },
  {
   "cell_type": "markdown",
   "metadata": {},
   "source": [
    "#### Q80. Write a Python program to count number of substrings with same first and last characters of a given string."
   ]
  },
  {
   "cell_type": "code",
   "execution_count": 6,
   "metadata": {},
   "outputs": [
    {
     "name": "stdout",
     "output_type": "stream",
     "text": [
      "Input a string: abc\n",
      "3\n"
     ]
    }
   ],
   "source": [
    "def no_of_substring_with_equalEnds(str1): \n",
    "    result = 0; \n",
    "    n = len(str1); \n",
    "    for i in range(n): \n",
    "        for j in range(i, n): \n",
    "            if (str1[i] == str1[j]): \n",
    "                result = result + 1\n",
    "    return result \n",
    "str1 = input(\"Input a string: \")\n",
    "print(no_of_substring_with_equalEnds(str1))"
   ]
  },
  {
   "cell_type": "markdown",
   "metadata": {},
   "source": [
    "#### Q81. Write a Python program to find the index of a given string at which a given substring starts. If the substring is not found in the given string return 'Not found'. "
   ]
  },
  {
   "cell_type": "code",
   "execution_count": 7,
   "metadata": {},
   "outputs": [
    {
     "name": "stdout",
     "output_type": "stream",
     "text": [
      "7\n",
      "1\n",
      "Not found\n"
     ]
    }
   ],
   "source": [
    "def find_Index(str1, pos):\n",
    "    if len(pos) > len(str1):\n",
    "        return 'Not found'\n",
    "\n",
    "    for i in range(len(str1)):\n",
    "\n",
    "        for j in range(len(pos)):\n",
    "\n",
    "            if str1[i + j] == pos[j] and j == len(pos) - 1:\n",
    "                return i\n",
    "                \n",
    "            elif str1[i + j] != pos[j]:\n",
    "                break\n",
    "\n",
    "    return 'Not found'\n",
    "print(find_Index(\"Python Exercises\", \"Ex\"))\n",
    "print(find_Index(\"Python Exercises\", \"yt\"))\n",
    "print(find_Index(\"Python Exercises\", \"PY\"))"
   ]
  },
  {
   "cell_type": "markdown",
   "metadata": {},
   "source": [
    "#### Q82. Write a Python program to wrap a given string into a paragraph of given width. \n",
    "    Sample Output:\n",
    "    Input a string: The quick brown fox.\n",
    "    Input the width of the paragraph: 10\n",
    "    Result:\n",
    "    The quick\n",
    "    brown fox."
   ]
  },
  {
   "cell_type": "code",
   "execution_count": 10,
   "metadata": {},
   "outputs": [
    {
     "name": "stdout",
     "output_type": "stream",
     "text": [
      "Input a string: The quick brown fox.\n",
      "Input the width of the paragraph: 5\n",
      "Result:\n",
      "The\n",
      "quick\n",
      "brown\n",
      "fox.\n"
     ]
    }
   ],
   "source": [
    "import textwrap\n",
    "s = input(\"Input a string: \")\n",
    "w = int(input(\"Input the width of the paragraph: \").strip())\n",
    "print(\"Result:\")\n",
    "print(textwrap.fill(s,w))"
   ]
  },
  {
   "cell_type": "markdown",
   "metadata": {},
   "source": [
    "#### Q83. Write a Python program to print four values decimal, octal, hexadecimal (capitalized), binary in a single line of a given integer. \n",
    "    Sample Output:\n",
    "    Input an integer: 25\n",
    "    Decimal Octal Hexadecimal (capitalized), Binary\n",
    "    25 31 19 11001"
   ]
  },
  {
   "cell_type": "code",
   "execution_count": 13,
   "metadata": {},
   "outputs": [
    {
     "name": "stdout",
     "output_type": "stream",
     "text": [
      "Input an integer: 25\n",
      "Decimal Octal Hexadecimal (capitalized), Binary\n",
      "25      31     19                        11001\n"
     ]
    }
   ],
   "source": [
    "i = int(input(\"Input an integer: \"))\n",
    "o = str(oct(i))[2:]\n",
    "h = str(hex(i))[2:]\n",
    "h = h.upper()\n",
    "b = str(bin(i))[2:]\n",
    "d = str(i)\n",
    "print(\"Decimal Octal Hexadecimal (capitalized), Binary\")\n",
    "print(d,'    ',o,'   ',h,'                      ',b)"
   ]
  },
  {
   "cell_type": "markdown",
   "metadata": {},
   "source": [
    "#### Q84. Write a Python program to swap cases of a given string. \n",
    "    Sample Output:\n",
    "    pYTHON eXERCISES\n",
    "    jAVA\n",
    "    nUMpY"
   ]
  },
  {
   "cell_type": "code",
   "execution_count": 14,
   "metadata": {},
   "outputs": [
    {
     "name": "stdout",
     "output_type": "stream",
     "text": [
      "pYTHON eXERCISES\n",
      "jAVA\n",
      "nUMpY\n"
     ]
    }
   ],
   "source": [
    "def swap_case_string(str1):\n",
    "    result_str = \"\"   \n",
    "    for item in str1:\n",
    "        if item.isupper():\n",
    "            result_str += item.lower()\n",
    "        else:\n",
    "            result_str += item.upper()           \n",
    "    return result_str\n",
    "print(swap_case_string(\"Python Exercises\"))\n",
    "print(swap_case_string(\"Java\"))\n",
    "print(swap_case_string(\"NumPy\"))"
   ]
  },
  {
   "cell_type": "markdown",
   "metadata": {},
   "source": [
    "#### Q85. Write a Python program to convert a given Bytearray to Hexadecimal string. \n",
    "    Sample Output:\n",
    "    Original Bytearray :\n",
    "    [111, 12, 45, 67, 109]\n",
    "    Hexadecimal string:\n",
    "    6f0c2d436d"
   ]
  },
  {
   "cell_type": "code",
   "execution_count": 15,
   "metadata": {},
   "outputs": [
    {
     "name": "stdout",
     "output_type": "stream",
     "text": [
      "Original Bytearray :\n",
      "[111, 12, 45, 67, 109]\n",
      "\n",
      "Hexadecimal string:\n",
      "6f0c2d436d\n"
     ]
    }
   ],
   "source": [
    "def bytearray_to_hexadecimal(list_val):\n",
    "    result = ''.join('{:02x}'.format(x) for x in list_val)  \n",
    "    return(result)\n",
    "\n",
    "list_val = [111, 12, 45, 67, 109] \n",
    "print(\"Original Bytearray :\")\n",
    "print(list_val)\n",
    "print(\"\\nHexadecimal string:\")\n",
    "print(bytearray_to_hexadecimal(list_val))"
   ]
  },
  {
   "cell_type": "markdown",
   "metadata": {},
   "source": [
    "#### Q86. Write a Python program to delete all occurrences of a specified character in a given string. \n",
    "    Sample Output:\n",
    "    Original string:\n",
    "    Delete all occurrences of a specified character in a given string\n",
    "    Modified string:\n",
    "    Delete ll occurrences of specified chrcter in given string"
   ]
  },
  {
   "cell_type": "code",
   "execution_count": 16,
   "metadata": {},
   "outputs": [
    {
     "name": "stdout",
     "output_type": "stream",
     "text": [
      "Original string:\n",
      "Delete all occurrences of a specified character in a given string\n",
      "\n",
      "Modified string:\n",
      "Delete ll occurrences of  specified chrcter in  given string\n"
     ]
    }
   ],
   "source": [
    "def delete_all_occurrences(str1, ch):\n",
    "    result = str1.replace(ch, \"\")\n",
    "    return(result)\n",
    "\n",
    "str_text = \"Delete all occurrences of a specified character in a given string\"\n",
    "print(\"Original string:\")\n",
    "print(str_text)\n",
    "print(\"\\nModified string:\")\n",
    "ch='a'\n",
    "print(delete_all_occurrences(str_text, ch))\n"
   ]
  },
  {
   "cell_type": "markdown",
   "metadata": {},
   "source": [
    "#### Q87. Write a Python program find the common values that appear in two given strings. \n",
    "    Sample Output:\n",
    "    Original strings:\n",
    "    Python3\n",
    "    Python2.7\n",
    "    Intersection of two said String:\n",
    "    Python"
   ]
  },
  {
   "cell_type": "code",
   "execution_count": 17,
   "metadata": {},
   "outputs": [
    {
     "name": "stdout",
     "output_type": "stream",
     "text": [
      "Original strings:\n",
      "Python3\n",
      "Python2.7\n",
      "\n",
      "Intersection of two said String:\n",
      "Python\n"
     ]
    }
   ],
   "source": [
    "def intersection_of_two_string(str1, str2):\n",
    "    result = \"\"\n",
    "    for ch in str1:\n",
    "        if ch in str2 and not ch in result:\n",
    "            result += ch\n",
    "    return result\n",
    "\n",
    "str1 = 'Python3'\n",
    "str2 = 'Python2.7'\n",
    "print(\"Original strings:\")\n",
    "print(str1)\n",
    "print(str2)\n",
    "print(\"\\nIntersection of two said String:\") \n",
    "print(intersection_of_two_string(str1, str2))"
   ]
  },
  {
   "cell_type": "markdown",
   "metadata": {},
   "source": [
    "#### Q88. Write a Python program to check whether a given string contains a capital letter, a lower case letter, a number and a minimum length. \n",
    "    Sample Output:\n",
    "    Input the string: Google@5\n",
    "    ['Valid string.']"
   ]
  },
  {
   "cell_type": "code",
   "execution_count": 19,
   "metadata": {},
   "outputs": [
    {
     "name": "stdout",
     "output_type": "stream",
     "text": [
      "Input the string: Google@5\n",
      "['Valid string.']\n"
     ]
    }
   ],
   "source": [
    "def check_string(s):\n",
    "    messg = []\n",
    "    if not any(x.isupper() for x in s):\n",
    "        messg.append('String must have 1 upper case character.')\n",
    "    if not any(x.islower() for x in s):\n",
    "        messg.append('String must have 1 lower case character.')\n",
    "    if not any(x.isdigit() for x in s):\n",
    "        messg.append('String must have 1 number.')\n",
    "    if len(s) < 8:\n",
    "        messg.append('String length should be atleast 8.')    \n",
    "    if not messg:\n",
    "        messg.append('Valid string.')\n",
    "    return messg\n",
    "    \n",
    "s = input(\"Input the string: \")\n",
    "print(check_string(s))"
   ]
  },
  {
   "cell_type": "markdown",
   "metadata": {},
   "source": [
    "#### Q89. Write a Python program to remove unwanted characters from a given string. \n",
    "    Sample Output:\n",
    "    Original String : Pyth*^on Exercis^es\n",
    "    After removing unwanted characters:\n",
    "    Python Exercises\n",
    "    Original String : A%^!B#*CD\n",
    "    After removing unwanted characters:\n",
    "    ABCD"
   ]
  },
  {
   "cell_type": "code",
   "execution_count": 20,
   "metadata": {},
   "outputs": [
    {
     "name": "stdout",
     "output_type": "stream",
     "text": [
      "Original String : Pyth*^on Exercis^es\n",
      "After removing unwanted characters:\n",
      "Python Exercises\n",
      "\n",
      "Original String : A%^!B#*CD\n",
      "After removing unwanted characters:\n"
     ]
    }
   ],
   "source": [
    "def remove_chars(str1, unwanted_chars):\n",
    "    for i in unwanted_chars:\n",
    "        str1 = str1.replace(i, '')\n",
    "    return str1\n",
    "\n",
    "\n",
    "\n",
    "str1 = \"Pyth*^on Exercis^es\"\n",
    "str2 = \"A%^!B#*CD\"\n",
    "\n",
    "unwanted_chars = [\"#\", \"*\", \"!\", \"^\", \"%\"]\n",
    "print (\"Original String : \" + str1)\n",
    "print(\"After removing unwanted characters:\")\n",
    "print(remove_chars(str1, unwanted_chars))\n",
    "print (\"\\nOriginal String : \" + str2)\n",
    "print(\"After removing unwanted characters:\")"
   ]
  },
  {
   "cell_type": "markdown",
   "metadata": {},
   "source": [
    "#### Q90. Write a Python program to remove duplicate words from a given string.\n",
    "    Sample Output:\n",
    "    Original String:\n",
    "    Python Exercises Practice Solution Exercises\n",
    "    After removing duplicate words from the said string:\n",
    "    Python Exercises Practice Solution"
   ]
  },
  {
   "cell_type": "code",
   "execution_count": 21,
   "metadata": {},
   "outputs": [
    {
     "name": "stdout",
     "output_type": "stream",
     "text": [
      "Original String:\n",
      "Python Exercises Practice Solution Exercises\n",
      "\n",
      "After removing duplicate words from the said string:\n",
      "Python Exercises Practice Solution\n"
     ]
    }
   ],
   "source": [
    "def unique_list(text_str):\n",
    "    l = text_str.split()\n",
    "    temp = []\n",
    "    for x in l:\n",
    "        if x not in temp:\n",
    "            temp.append(x)\n",
    "    return ' '.join(temp)\n",
    "\n",
    "text_str = \"Python Exercises Practice Solution Exercises\"\n",
    "print(\"Original String:\")\n",
    "print(text_str)\n",
    "print(\"\\nAfter removing duplicate words from the said string:\")\n",
    "print(unique_list(text_str))"
   ]
  },
  {
   "cell_type": "code",
   "execution_count": null,
   "metadata": {},
   "outputs": [],
   "source": []
  }
 ],
 "metadata": {
  "kernelspec": {
   "display_name": "Python 3",
   "language": "python",
   "name": "python3"
  },
  "language_info": {
   "codemirror_mode": {
    "name": "ipython",
    "version": 3
   },
   "file_extension": ".py",
   "mimetype": "text/x-python",
   "name": "python",
   "nbconvert_exporter": "python",
   "pygments_lexer": "ipython3",
   "version": "3.8.3"
  }
 },
 "nbformat": 4,
 "nbformat_minor": 4
}
