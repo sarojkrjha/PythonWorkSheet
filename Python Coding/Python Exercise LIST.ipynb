{
 "cells": [
  {
   "cell_type": "markdown",
   "metadata": {},
   "source": [
    "#### Q1. Write a Python program to sum all the items in a list. "
   ]
  },
  {
   "cell_type": "code",
   "execution_count": 1,
   "metadata": {},
   "outputs": [
    {
     "name": "stdout",
     "output_type": "stream",
     "text": [
      "-5\n"
     ]
    }
   ],
   "source": [
    "def sum_list(items):\n",
    "    sum_numbers = 0\n",
    "    for x in items:\n",
    "        sum_numbers += x\n",
    "    return sum_numbers\n",
    "print(sum_list([1,2,-8]))"
   ]
  },
  {
   "cell_type": "markdown",
   "metadata": {},
   "source": [
    "#### Q2. Write a Python program to multiplies all the items in a list. "
   ]
  },
  {
   "cell_type": "code",
   "execution_count": 2,
   "metadata": {},
   "outputs": [
    {
     "name": "stdout",
     "output_type": "stream",
     "text": [
      "-16\n"
     ]
    }
   ],
   "source": [
    "def multiply_list(items):\n",
    "    tot = 1\n",
    "    for x in items:\n",
    "        tot *= x\n",
    "    return tot\n",
    "print(multiply_list([1,2,-8]))"
   ]
  },
  {
   "cell_type": "markdown",
   "metadata": {},
   "source": [
    "#### Q3. Write a Python program to get the largest number from a list."
   ]
  },
  {
   "cell_type": "code",
   "execution_count": 1,
   "metadata": {},
   "outputs": [
    {
     "name": "stdout",
     "output_type": "stream",
     "text": [
      "2\n"
     ]
    }
   ],
   "source": [
    "def max_num_in_list( list1 ):\n",
    "    max1 = list1[ 0 ]\n",
    "    for a in list1:\n",
    "        if a > max1:\n",
    "            max1 = a\n",
    "    return max1\n",
    "print(max_num_in_list([1, 2, -8, 0]))"
   ]
  },
  {
   "cell_type": "markdown",
   "metadata": {},
   "source": [
    "#### Q4. Write a Python program to get the smallest number from a list."
   ]
  },
  {
   "cell_type": "code",
   "execution_count": 2,
   "metadata": {},
   "outputs": [
    {
     "name": "stdout",
     "output_type": "stream",
     "text": [
      "-8\n"
     ]
    }
   ],
   "source": [
    "def smallest_num_in_list( list1 ):\n",
    "    min1 = list1[ 0 ]\n",
    "    for a in list1:\n",
    "        if a < min1:\n",
    "            min1 = a\n",
    "    return min1\n",
    "print(smallest_num_in_list([1, 2, -8, 0]))"
   ]
  },
  {
   "cell_type": "markdown",
   "metadata": {},
   "source": [
    "#### Q5. Write a Python program to count the number of strings where the string length is 2 or more and the first and last character are same from a given list of strings.\n",
    "    Sample List : ['abc', 'xyz', 'aba', '1221']\n",
    "    Expected Result : 2"
   ]
  },
  {
   "cell_type": "code",
   "execution_count": 7,
   "metadata": {},
   "outputs": [
    {
     "name": "stdout",
     "output_type": "stream",
     "text": [
      "2\n"
     ]
    }
   ],
   "source": [
    "def match_words(words):\n",
    "    ctr = 0\n",
    "\n",
    "    for word in words:\n",
    "        if len(word) > 1 and word[0] == word[-1]:\n",
    "            ctr += 1\n",
    "    return ctr\n",
    "\n",
    "print(match_words(['abc', 'xyz', 'aba', '1221']))"
   ]
  },
  {
   "cell_type": "markdown",
   "metadata": {},
   "source": [
    "#### Q6. Write a Python program to get a list, sorted in increasing order by the last element in each tuple from a given list of non-empty tuples.\n",
    "    Sample List : [(2, 5), (1, 2), (4, 4), (2, 3), (2, 1)]\n",
    "    Expected Result : [(2, 1), (1, 2), (2, 3), (4, 4), (2, 5)]"
   ]
  },
  {
   "cell_type": "code",
   "execution_count": 8,
   "metadata": {},
   "outputs": [
    {
     "name": "stdout",
     "output_type": "stream",
     "text": [
      "[(2, 1), (1, 2), (2, 3), (4, 4), (2, 5)]\n"
     ]
    }
   ],
   "source": [
    "def last(n): return n[-1]\n",
    "\n",
    "def sort_list_last(tuples):\n",
    "    return sorted(tuples, key=last)\n",
    "\n",
    "print(sort_list_last([(2, 5), (1, 2), (4, 4), (2, 3), (2, 1)]))\n"
   ]
  },
  {
   "cell_type": "markdown",
   "metadata": {},
   "source": [
    "#### 7. Write a Python program to remove duplicates from a list."
   ]
  },
  {
   "cell_type": "code",
   "execution_count": 9,
   "metadata": {},
   "outputs": [
    {
     "name": "stdout",
     "output_type": "stream",
     "text": [
      "{40, 10, 80, 50, 20, 60, 30}\n"
     ]
    }
   ],
   "source": [
    "a = [10,20,30,20,10,50,60,40,80,50,40]\n",
    "\n",
    "dup_items = set()\n",
    "uniq_items = []\n",
    "for x in a:\n",
    "    if x not in dup_items:\n",
    "        uniq_items.append(x)\n",
    "        dup_items.add(x)\n",
    "\n",
    "print(dup_items)"
   ]
  },
  {
   "cell_type": "markdown",
   "metadata": {},
   "source": [
    "#### Q8. Write a Python program to check a list is empty or not. "
   ]
  },
  {
   "cell_type": "code",
   "execution_count": 10,
   "metadata": {},
   "outputs": [
    {
     "name": "stdout",
     "output_type": "stream",
     "text": [
      "List is empty\n"
     ]
    }
   ],
   "source": [
    "l = []\n",
    "if not l:\n",
    "    print(\"List is empty\")"
   ]
  },
  {
   "cell_type": "markdown",
   "metadata": {},
   "source": [
    "#### Q9. Write a Python program to clone or copy a list. "
   ]
  },
  {
   "cell_type": "code",
   "execution_count": 11,
   "metadata": {},
   "outputs": [
    {
     "name": "stdout",
     "output_type": "stream",
     "text": [
      "[10, 22, 44, 23, 4]\n",
      "[10, 22, 44, 23, 4]\n"
     ]
    }
   ],
   "source": [
    "original_list = [10, 22, 44, 23, 4]\n",
    "new_list = list(original_list)\n",
    "print(original_list)\n",
    "print(new_list)"
   ]
  },
  {
   "cell_type": "markdown",
   "metadata": {},
   "source": [
    "#### Q10. Write a Python program to find the list of words that are longer than n from a given list of words."
   ]
  },
  {
   "cell_type": "code",
   "execution_count": 3,
   "metadata": {},
   "outputs": [
    {
     "name": "stdout",
     "output_type": "stream",
     "text": [
      "['quick', 'brown', 'jumps', 'over', 'lazy']\n"
     ]
    }
   ],
   "source": [
    "def long_words(n, str1):\n",
    "    word_len = []\n",
    "    txt = str1.split(\" \")\n",
    "    for x in txt:\n",
    "        if len(x) > n:\n",
    "            word_len.append(x)\n",
    "    return word_len\n",
    "print(long_words(3, \"The quick brown fox jumps over the lazy dog\"))"
   ]
  },
  {
   "cell_type": "markdown",
   "metadata": {},
   "source": [
    "#### Q 11. Write a Python function that takes two lists and returns True if they have at least one common member."
   ]
  },
  {
   "cell_type": "code",
   "execution_count": 4,
   "metadata": {},
   "outputs": [
    {
     "name": "stdout",
     "output_type": "stream",
     "text": [
      "True\n",
      "None\n"
     ]
    }
   ],
   "source": [
    "def common_data(list1, list2):\n",
    "    result = False\n",
    "    for x in list1:\n",
    "         for y in list2:\n",
    "            if x == y:\n",
    "                result = True\n",
    "                return result\n",
    "print(common_data([1,2,3,4,5], [5,6,7,8,9]))\n",
    "print(common_data([1,2,3,4,5], [6,7,8,9]))"
   ]
  },
  {
   "cell_type": "markdown",
   "metadata": {},
   "source": [
    "#### Q 12. Write a Python program to print a specified list after removing the 0th, 4th and 5th elements. \n",
    "    Sample List : ['Red', 'Green', 'White', 'Black', 'Pink', 'Yellow']\n",
    "    Expected Output : ['Green', 'White', 'Black']"
   ]
  },
  {
   "cell_type": "code",
   "execution_count": 3,
   "metadata": {},
   "outputs": [
    {
     "name": "stdout",
     "output_type": "stream",
     "text": [
      "['Green', 'White', 'Black']\n"
     ]
    }
   ],
   "source": [
    "color = ['Red', 'Green', 'White', 'Black', 'Pink', 'Yellow']\n",
    "color = [x for (i,x) in enumerate(color) if i not in (0,4,5)]\n",
    "print(color)"
   ]
  },
  {
   "cell_type": "markdown",
   "metadata": {},
   "source": [
    "#### Q13. Write a Python program to generate a 3*4*6 3D array whose each element is *."
   ]
  },
  {
   "cell_type": "code",
   "execution_count": 6,
   "metadata": {},
   "outputs": [
    {
     "name": "stdout",
     "output_type": "stream",
     "text": [
      "[[['*', '*', '*', '*', '*', '*'], ['*', '*', '*', '*', '*', '*'], ['*', '*', '*', '*', '*', '*'], ['*', '*', '*', '*', '*', '*']], [['*', '*', '*', '*', '*', '*'], ['*', '*', '*', '*', '*', '*'], ['*', '*', '*', '*', '*', '*'], ['*', '*', '*', '*', '*', '*']], [['*', '*', '*', '*', '*', '*'], ['*', '*', '*', '*', '*', '*'], ['*', '*', '*', '*', '*', '*'], ['*', '*', '*', '*', '*', '*']]]\n"
     ]
    }
   ],
   "source": [
    "array1 = [[ ['*' for col in range(6)] for col in range(4)] for row in range(3)]\n",
    "print(array1)"
   ]
  },
  {
   "cell_type": "markdown",
   "metadata": {},
   "source": [
    "#### Q14. Write a Python program to print the numbers of a specified list after removing even numbers from it."
   ]
  },
  {
   "cell_type": "code",
   "execution_count": 5,
   "metadata": {},
   "outputs": [
    {
     "name": "stdout",
     "output_type": "stream",
     "text": [
      "[7, 25, 27]\n"
     ]
    }
   ],
   "source": [
    "num = [7,8, 120, 25, 44, 20, 27]\n",
    "num = [x for x in num if x%2!=0]\n",
    "print(num)"
   ]
  },
  {
   "cell_type": "markdown",
   "metadata": {},
   "source": [
    "#### Q15. Write a Python program to shuffle and print a specified list. "
   ]
  },
  {
   "cell_type": "code",
   "execution_count": 6,
   "metadata": {},
   "outputs": [
    {
     "name": "stdout",
     "output_type": "stream",
     "text": [
      "['Green', 'Pink', 'White', 'Red', 'Black', 'Yellow']\n"
     ]
    }
   ],
   "source": [
    "from random import shuffle\n",
    "color = ['Red', 'Green', 'White', 'Black', 'Pink', 'Yellow']\n",
    "shuffle(color)\n",
    "print(color)"
   ]
  },
  {
   "cell_type": "markdown",
   "metadata": {},
   "source": [
    "#### Q16. Write a Python program to generate and print a list of first and last 5 elements where the values are square of numbers between 1 and 30 (both included)."
   ]
  },
  {
   "cell_type": "code",
   "execution_count": 9,
   "metadata": {},
   "outputs": [
    {
     "name": "stdout",
     "output_type": "stream",
     "text": [
      "[1, 4, 9, 16, 25]\n",
      "[676, 729, 784, 841, 900]\n"
     ]
    }
   ],
   "source": [
    "def printValues():\n",
    "    l = list()\n",
    "    for i in range(1,31):\n",
    "        l.append(i**2)\n",
    "    print(l[:5])\n",
    "    print(l[-5:])\n",
    "\n",
    "printValues()"
   ]
  },
  {
   "cell_type": "markdown",
   "metadata": {},
   "source": [
    "#### Q17. Write a Python program to generate and print a list except for the first 5 elements, where the values are square of numbers between 1 and 30 (both included). "
   ]
  },
  {
   "cell_type": "code",
   "execution_count": 10,
   "metadata": {},
   "outputs": [
    {
     "name": "stdout",
     "output_type": "stream",
     "text": [
      "[36, 49, 64, 81, 100, 121, 144, 169, 196, 225, 256, 289, 324, 361, 400, 441, 484, 529, 576, 625, 676, 729, 784, 841, 900]\n"
     ]
    }
   ],
   "source": [
    "def printValues():\n",
    "    l = list()\n",
    "    for i in range(1,31):\n",
    "        l.append(i**2)\n",
    "    print(l[5:])\n",
    "\n",
    "printValues()"
   ]
  },
  {
   "cell_type": "markdown",
   "metadata": {},
   "source": [
    "#### Q18. Write a Python program to generate all permutations of a list in Python."
   ]
  },
  {
   "cell_type": "code",
   "execution_count": 11,
   "metadata": {},
   "outputs": [
    {
     "name": "stdout",
     "output_type": "stream",
     "text": [
      "[(1, 2, 3), (1, 3, 2), (2, 1, 3), (2, 3, 1), (3, 1, 2), (3, 2, 1)]\n"
     ]
    }
   ],
   "source": [
    "import itertools\n",
    "print(list(itertools.permutations([1,2,3])))"
   ]
  },
  {
   "cell_type": "markdown",
   "metadata": {},
   "source": [
    "#### Q19. Write a Python program to get the difference between the two lists."
   ]
  },
  {
   "cell_type": "code",
   "execution_count": 12,
   "metadata": {},
   "outputs": [
    {
     "name": "stdout",
     "output_type": "stream",
     "text": [
      "[9, 3, 5, 8, 2, 4, 6]\n"
     ]
    }
   ],
   "source": [
    "list1 = [1, 3, 5, 7, 9]\n",
    "list2=[1, 2, 4, 6, 7, 8]\n",
    "diff_list1_list2 = list(set(list1) - set(list2))\n",
    "diff_list2_list1 = list(set(list2) - set(list1))\n",
    "total_diff = diff_list1_list2 + diff_list2_list1\n",
    "print(total_diff)"
   ]
  },
  {
   "cell_type": "markdown",
   "metadata": {},
   "source": [
    "#### Q20. Write a Python program access the index of a list. "
   ]
  },
  {
   "cell_type": "code",
   "execution_count": 13,
   "metadata": {},
   "outputs": [
    {
     "name": "stdout",
     "output_type": "stream",
     "text": [
      "0 5\n",
      "1 15\n",
      "2 35\n",
      "3 8\n",
      "4 98\n"
     ]
    }
   ],
   "source": [
    "nums = [5, 15, 35, 8, 98]\n",
    "for num_index, num_val in enumerate(nums):\n",
    "    print(num_index, num_val)"
   ]
  },
  {
   "cell_type": "markdown",
   "metadata": {},
   "source": [
    "#### Q21. Write a Python program to convert a list of characters into a string. "
   ]
  },
  {
   "cell_type": "code",
   "execution_count": 14,
   "metadata": {},
   "outputs": [
    {
     "name": "stdout",
     "output_type": "stream",
     "text": [
      "abcd\n"
     ]
    }
   ],
   "source": [
    "s = ['a', 'b', 'c', 'd']\n",
    "str1 = ''.join(s)\n",
    "print(str1)"
   ]
  },
  {
   "cell_type": "markdown",
   "metadata": {},
   "source": [
    "#### Q22. Write a Python program to find the index of an item in a specified list."
   ]
  },
  {
   "cell_type": "code",
   "execution_count": 15,
   "metadata": {},
   "outputs": [
    {
     "name": "stdout",
     "output_type": "stream",
     "text": [
      "1\n"
     ]
    }
   ],
   "source": [
    "num =[10, 30, 4, -6]\n",
    "print(num.index(30))"
   ]
  },
  {
   "cell_type": "markdown",
   "metadata": {},
   "source": [
    "#### Q23. Write a Python program to flatten a shallow list."
   ]
  },
  {
   "cell_type": "code",
   "execution_count": 16,
   "metadata": {},
   "outputs": [
    {
     "name": "stdout",
     "output_type": "stream",
     "text": [
      "[2, 4, 3, 1, 5, 6, 9, 7, 9, 0]\n"
     ]
    }
   ],
   "source": [
    "import itertools\n",
    "original_list = [[2,4,3],[1,5,6], [9], [7,9,0]]\n",
    "new_merged_list = list(itertools.chain(*original_list))\n",
    "print(new_merged_list)"
   ]
  },
  {
   "cell_type": "markdown",
   "metadata": {},
   "source": [
    "#### Q24. Write a Python program to append a list to the second list."
   ]
  },
  {
   "cell_type": "code",
   "execution_count": 17,
   "metadata": {},
   "outputs": [
    {
     "name": "stdout",
     "output_type": "stream",
     "text": [
      "[1, 2, 3, 0, 'Red', 'Green', 'Black']\n"
     ]
    }
   ],
   "source": [
    "list1 = [1, 2, 3, 0]\n",
    "list2 = ['Red', 'Green', 'Black']\n",
    "final_list = list1 + list2\n",
    "print(final_list)\n"
   ]
  },
  {
   "cell_type": "markdown",
   "metadata": {},
   "source": [
    "#### Q25. Write a Python program to select an item randomly from a list."
   ]
  },
  {
   "cell_type": "code",
   "execution_count": 18,
   "metadata": {},
   "outputs": [
    {
     "name": "stdout",
     "output_type": "stream",
     "text": [
      "White\n"
     ]
    }
   ],
   "source": [
    "import random\n",
    "color_list = ['Red', 'Blue', 'Green', 'White', 'Black']\n",
    "print(random.choice(color_list))"
   ]
  },
  {
   "cell_type": "markdown",
   "metadata": {},
   "source": [
    "#### Q26. Write a python program to check whether two lists are circularly identical. "
   ]
  },
  {
   "cell_type": "code",
   "execution_count": 19,
   "metadata": {},
   "outputs": [
    {
     "name": "stdout",
     "output_type": "stream",
     "text": [
      "Compare list1 and list2\n",
      "True\n",
      "Compare list1 and list3\n",
      "False\n"
     ]
    }
   ],
   "source": [
    "list1 = [10, 10, 0, 0, 10]\n",
    "list2 = [10, 10, 10, 0, 0]\n",
    "list3 = [1, 10, 10, 0, 0]\n",
    "\n",
    "print('Compare list1 and list2')\n",
    "print(' '.join(map(str, list2)) in ' '.join(map(str, list1 * 2)))\n",
    "print('Compare list1 and list3')\n",
    "print(' '.join(map(str, list3)) in ' '.join(map(str, list1 * 2)))"
   ]
  },
  {
   "cell_type": "markdown",
   "metadata": {},
   "source": [
    "#### Q27. Write a Python program to find the second smallest number in a list."
   ]
  },
  {
   "cell_type": "code",
   "execution_count": 22,
   "metadata": {},
   "outputs": [
    {
     "name": "stdout",
     "output_type": "stream",
     "text": [
      "-2\n",
      "0\n",
      "0\n",
      "None\n",
      "None\n"
     ]
    }
   ],
   "source": [
    "def second_smallest(numbers):\n",
    "    if (len(numbers)<2):\n",
    "        return\n",
    "    if ((len(numbers)==2)  and (numbers[0] == numbers[1]) ):\n",
    "        return\n",
    "    dup_items = set()\n",
    "    uniq_items = []\n",
    "    for x in numbers:\n",
    "        if x not in dup_items:\n",
    "            uniq_items.append(x)\n",
    "            dup_items.add(x)\n",
    "        uniq_items.sort()    \n",
    "    return  uniq_items[1]   \n",
    "\n",
    "print(second_smallest([1, 2, -8, -2, 0, -2]))\n",
    "print(second_smallest([1, 1, 0, 0, 2, -2, -2]))\n",
    "print(second_smallest([1, 1, 1, 0, 0, 0, 2, -2, -2]))\n",
    "print(second_smallest([2,2]))\n",
    "print(second_smallest([2]))"
   ]
  },
  {
   "cell_type": "markdown",
   "metadata": {},
   "source": [
    "#### Q28. Write a Python program to find the second largest number in a list."
   ]
  },
  {
   "cell_type": "code",
   "execution_count": 23,
   "metadata": {},
   "outputs": [
    {
     "name": "stdout",
     "output_type": "stream",
     "text": [
      "3\n",
      "1\n",
      "None\n",
      "None\n"
     ]
    }
   ],
   "source": [
    "def second_largest(numbers):\n",
    "    if (len(numbers)<2):\n",
    "        return\n",
    "    if ((len(numbers)==2)  and (numbers[0] == numbers[1]) ):\n",
    "        return\n",
    "    dup_items = set()\n",
    "    uniq_items = []\n",
    "    for x in numbers:\n",
    "        if x not in dup_items:\n",
    "            uniq_items.append(x)\n",
    "            dup_items.add(x)\n",
    "        uniq_items.sort()    \n",
    "    return  uniq_items[-2]   \n",
    "print(second_largest([1,2,3,4,4]))\n",
    "print(second_largest([1, 1, 1, 0, 0, 0, 2, -2, -2]))\n",
    "print(second_largest([2,2]))\n",
    "print(second_largest([1]))"
   ]
  },
  {
   "cell_type": "markdown",
   "metadata": {},
   "source": [
    "#### Q29. Write a Python program to get unique values from a list."
   ]
  },
  {
   "cell_type": "code",
   "execution_count": 24,
   "metadata": {},
   "outputs": [
    {
     "name": "stdout",
     "output_type": "stream",
     "text": [
      "Original List :  [10, 20, 30, 40, 20, 50, 60, 40]\n",
      "List of unique numbers :  [40, 10, 50, 20, 60, 30]\n"
     ]
    }
   ],
   "source": [
    "my_list = [10, 20, 30, 40, 20, 50, 60, 40]\n",
    "print(\"Original List : \",my_list)\n",
    "my_set = set(my_list)\n",
    "my_new_list = list(my_set)\n",
    "print(\"List of unique numbers : \",my_new_list)"
   ]
  },
  {
   "cell_type": "markdown",
   "metadata": {},
   "source": [
    "#### Q30. Write a Python program to get the frequency of the elements in a list. "
   ]
  },
  {
   "cell_type": "code",
   "execution_count": 25,
   "metadata": {},
   "outputs": [
    {
     "name": "stdout",
     "output_type": "stream",
     "text": [
      "Original List :  [10, 10, 10, 10, 20, 20, 20, 20, 40, 40, 50, 50, 30]\n",
      "Frequency of the elements in the List :  Counter({10: 4, 20: 4, 40: 2, 50: 2, 30: 1})\n"
     ]
    }
   ],
   "source": [
    "import collections\n",
    "my_list = [10,10,10,10,20,20,20,20,40,40,50,50,30]\n",
    "print(\"Original List : \",my_list)\n",
    "ctr = collections.Counter(my_list)\n",
    "print(\"Frequency of the elements in the List : \",ctr)"
   ]
  },
  {
   "cell_type": "markdown",
   "metadata": {},
   "source": [
    "#### Q31. Write a Python program to count the number of elements in a list within a specified range."
   ]
  },
  {
   "cell_type": "code",
   "execution_count": 7,
   "metadata": {},
   "outputs": [
    {
     "name": "stdout",
     "output_type": "stream",
     "text": [
      "6\n",
      "5\n"
     ]
    }
   ],
   "source": [
    "def count_range_in_list(li, min1, max1):\n",
    "    ctr = 0\n",
    "    for x in li:\n",
    "        if min1 <= x <= max1:\n",
    "            ctr += 1\n",
    "    return ctr\n",
    "\n",
    "list1 = [10,20,30,40,40,40,70,80,99]\n",
    "print(count_range_in_list(list1, 40, 100))\n",
    "\n",
    "list2 = ['a','b','c','d','e','f']\n",
    "print(count_range_in_list(list2, 'a', 'e'))"
   ]
  },
  {
   "cell_type": "markdown",
   "metadata": {},
   "source": [
    "#### Q32. Write a Python program to check whether a list contains a sublist. "
   ]
  },
  {
   "cell_type": "code",
   "execution_count": 27,
   "metadata": {},
   "outputs": [
    {
     "name": "stdout",
     "output_type": "stream",
     "text": [
      "True\n",
      "False\n"
     ]
    }
   ],
   "source": [
    "def is_Sublist(l, s):\n",
    "    sub_set = False\n",
    "    if s == []:\n",
    "        sub_set = True\n",
    "    elif s == l:\n",
    "        sub_set = True\n",
    "    elif len(s) > len(l):\n",
    "        sub_set = False\n",
    "\n",
    "    else:\n",
    "        for i in range(len(l)):\n",
    "            if l[i] == s[0]:\n",
    "                n = 1\n",
    "                while (n < len(s)) and (l[i+n] == s[n]):\n",
    "                    n += 1\n",
    "\n",
    "                if n == len(s):\n",
    "                    sub_set = True\n",
    "\n",
    "    return sub_set\n",
    "\n",
    "a = [2,4,3,5,7]\n",
    "b = [4,3]\n",
    "c = [3,7]\n",
    "print(is_Sublist(a, b))\n",
    "print(is_Sublist(a, c))"
   ]
  },
  {
   "cell_type": "markdown",
   "metadata": {},
   "source": [
    "#### Q33. Write a Python program to generate all sublists of a list."
   ]
  },
  {
   "cell_type": "code",
   "execution_count": 29,
   "metadata": {},
   "outputs": [
    {
     "name": "stdout",
     "output_type": "stream",
     "text": [
      "Original list:\n",
      "[10, 20, 30, 40]\n",
      "S\n",
      "[[], [10], [20], [30], [40], [10, 20], [10, 30], [10, 40], [20, 30], [20, 40], [30, 40], [10, 20, 30], [10, 20, 40], [10, 30, 40], [20, 30, 40], [10, 20, 30, 40]]\n",
      "Sublists of the said list:\n",
      "[[], [10], [20], [30], [40], [10, 20], [10, 30], [10, 40], [20, 30], [20, 40], [30, 40], [10, 20, 30], [10, 20, 40], [10, 30, 40], [20, 30, 40], [10, 20, 30, 40]]\n",
      "\n",
      "Original list:\n",
      "['X', 'Y', 'Z']\n",
      "Sublists of the said list:\n",
      "[[], ['X'], ['Y'], ['Z'], ['X', 'Y'], ['X', 'Z'], ['Y', 'Z'], ['X', 'Y', 'Z']]\n"
     ]
    }
   ],
   "source": [
    "from itertools import combinations\n",
    "def sub_lists(my_list):\n",
    "    subs = []\n",
    "    for i in range(0, len(my_list)+1):\n",
    "        temp = [list(x) for x in combinations(my_list, i)]\n",
    "        if len(temp)>0:\n",
    "            subs.extend(temp)\n",
    "    return subs\n",
    "\n",
    "\n",
    "l1 = [10, 20, 30, 40]\n",
    "l2 = ['X', 'Y', 'Z']\n",
    "print(\"Original list:\")\n",
    "print(l1)\n",
    "print(\"S\")\n",
    "print(sub_lists(l1))\n",
    "print(\"Sublists of the said list:\")\n",
    "print(sub_lists(l1))\n",
    "print(\"\\nOriginal list:\")\n",
    "print(l2)\n",
    "print(\"Sublists of the said list:\")\n",
    "print(sub_lists(l2))\n"
   ]
  },
  {
   "cell_type": "markdown",
   "metadata": {},
   "source": [
    "#### Q34. Write a Python program using Sieve of Eratosthenes method for computing primes upto a specified number. \n",
    "    Note: In mathematics, the sieve of Eratosthenes, (Ancient Greek: κόσκινον Ἐρατοσθένους, kóskinon Eratosthénous) one of a number of prime number sieves, is a simple, ancient algorithm for finding all prime numbers up to any given limit."
   ]
  },
  {
   "cell_type": "code",
   "execution_count": 30,
   "metadata": {},
   "outputs": [
    {
     "name": "stdout",
     "output_type": "stream",
     "text": [
      "2\n",
      "3\n",
      "5\n",
      "7\n",
      "11\n",
      "13\n",
      "17\n",
      "19\n",
      "23\n",
      "29\n",
      "31\n",
      "37\n",
      "41\n",
      "43\n",
      "47\n",
      "53\n",
      "59\n",
      "61\n",
      "67\n",
      "71\n",
      "73\n",
      "79\n",
      "83\n",
      "89\n",
      "97\n",
      "None\n"
     ]
    }
   ],
   "source": [
    "#From Wikipedia Sieve of Eratosthenes: algorithm steps for primes below 121 (including optimization of starting from prime's square).\n",
    "def prime_eratosthenes(n):\n",
    "    prime_list = []\n",
    "    for i in range(2, n+1):\n",
    "        if i not in prime_list:\n",
    "            print (i)\n",
    "            for j in range(i*i, n+1, i):\n",
    "                prime_list.append(j)\n",
    "\n",
    "print(prime_eratosthenes(100));\n"
   ]
  },
  {
   "cell_type": "markdown",
   "metadata": {},
   "source": [
    "#### Q35. Write a Python program to create a list by concatenating a given list which range goes from 1 to n. \n",
    "    Sample list : ['p', 'q']\n",
    "    n =5\n",
    "    Sample Output : ['p1', 'q1', 'p2', 'q2', 'p3', 'q3', 'p4', 'q4', 'p5', 'q5']"
   ]
  },
  {
   "cell_type": "code",
   "execution_count": 31,
   "metadata": {},
   "outputs": [
    {
     "name": "stdout",
     "output_type": "stream",
     "text": [
      "['p1', 'q1', 'p2', 'q2', 'p3', 'q3', 'p4', 'q4']\n"
     ]
    }
   ],
   "source": [
    "my_list = ['p', 'q']\n",
    "n = 4\n",
    "new_list = ['{}{}'.format(x, y) for y in range(1, n+1) for x in my_list]\n",
    "print(new_list)"
   ]
  },
  {
   "cell_type": "markdown",
   "metadata": {},
   "source": [
    "#### Q36. Write a Python program to get variable unique identification number or string."
   ]
  },
  {
   "cell_type": "code",
   "execution_count": 32,
   "metadata": {},
   "outputs": [
    {
     "name": "stdout",
     "output_type": "stream",
     "text": [
      "7ff9209a4380\n",
      "20f20028330\n"
     ]
    }
   ],
   "source": [
    "x = 100\n",
    "print(format(id(x), 'x'))\n",
    "s = 'w3resource'\n",
    "print(format(id(s), 'x')) "
   ]
  },
  {
   "cell_type": "markdown",
   "metadata": {},
   "source": [
    "#### Q37. Write a Python program to find common items from two lists."
   ]
  },
  {
   "cell_type": "code",
   "execution_count": 33,
   "metadata": {},
   "outputs": [
    {
     "name": "stdout",
     "output_type": "stream",
     "text": [
      "{'White', 'Green'}\n"
     ]
    }
   ],
   "source": [
    "color1 = \"Red\", \"Green\", \"Orange\", \"White\"\n",
    "color2 = \"Black\", \"Green\", \"White\", \"Pink\"\n",
    "print(set(color1) & set(color2))"
   ]
  },
  {
   "cell_type": "markdown",
   "metadata": {},
   "source": [
    "#### Q38. Write a Python program to change the position of every n-th value with the (n+1)th in a list. \n",
    "    Sample list: [0,1,2,3,4,5]\n",
    "    Expected Output: [1, 0, 3, 2, 5, 4]"
   ]
  },
  {
   "cell_type": "code",
   "execution_count": 34,
   "metadata": {},
   "outputs": [
    {
     "name": "stdout",
     "output_type": "stream",
     "text": [
      "[1, 0, 3, 2, 5, 4]\n"
     ]
    }
   ],
   "source": [
    "from itertools import zip_longest, chain, tee\n",
    "def replace2copy(lst):\n",
    "    lst1, lst2 = tee(iter(lst), 2)\n",
    "    return list(chain.from_iterable(zip_longest(lst[1::2], lst[::2])))\n",
    "n = [0,1,2,3,4,5]\n",
    "print(replace2copy(n))"
   ]
  },
  {
   "cell_type": "markdown",
   "metadata": {},
   "source": [
    "#### Q39. Write a Python program to convert a list of multiple integers into a single integer.\n",
    "    Sample list: [11, 33, 50]\n",
    "    Expected Output: 113350"
   ]
  },
  {
   "cell_type": "code",
   "execution_count": 35,
   "metadata": {},
   "outputs": [
    {
     "name": "stdout",
     "output_type": "stream",
     "text": [
      "Original List:  [11, 33, 50]\n",
      "Single Integer:  113350\n"
     ]
    }
   ],
   "source": [
    "L = [11, 33, 50]\n",
    "print(\"Original List: \",L)\n",
    "x = int(\"\".join(map(str, L)))\n",
    "print(\"Single Integer: \",x)"
   ]
  },
  {
   "cell_type": "markdown",
   "metadata": {},
   "source": [
    "#### Q40. Write a Python program to split a list based on first character of word. "
   ]
  },
  {
   "cell_type": "code",
   "execution_count": 36,
   "metadata": {},
   "outputs": [
    {
     "name": "stdout",
     "output_type": "stream",
     "text": [
      "a\n",
      "ask\n",
      "b\n",
      "be\n",
      "c\n",
      "call\n",
      "come\n",
      "d\n",
      "do\n",
      "f\n",
      "feel\n",
      "find\n",
      "g\n",
      "get\n",
      "give\n",
      "go\n",
      "h\n",
      "have\n",
      "k\n",
      "know\n",
      "l\n",
      "leave\n",
      "look\n",
      "m\n",
      "make\n",
      "s\n",
      "say\n",
      "see\n",
      "seem\n",
      "t\n",
      "take\n",
      "tell\n",
      "think\n",
      "u\n",
      "use\n",
      "w\n",
      "want\n",
      "work\n"
     ]
    }
   ],
   "source": [
    "from itertools import groupby\n",
    "from operator import itemgetter\n",
    "\n",
    "word_list = ['be','have','do','say','get','make','go','know','take','see','come','think',\n",
    "     'look','want','give','use','find','tell','ask','work','seem','feel','leave','call']\n",
    "\n",
    "for letter, words in groupby(sorted(word_list), key=itemgetter(0)):\n",
    "    print(letter)\n",
    "    for word in words:\n",
    "        print(word)"
   ]
  },
  {
   "cell_type": "markdown",
   "metadata": {},
   "source": [
    "#### Q41. Write a Python program to create multiple lists."
   ]
  },
  {
   "cell_type": "code",
   "execution_count": 37,
   "metadata": {},
   "outputs": [
    {
     "name": "stdout",
     "output_type": "stream",
     "text": [
      "{'1': [], '2': [], '3': [], '4': [], '5': [], '6': [], '7': [], '8': [], '9': [], '10': [], '11': [], '12': [], '13': [], '14': [], '15': [], '16': [], '17': [], '18': [], '19': [], '20': []}\n"
     ]
    }
   ],
   "source": [
    "obj = {}\n",
    "for i in range(1, 21):\n",
    "    obj[str(i)] = []\n",
    "print(obj)"
   ]
  },
  {
   "cell_type": "markdown",
   "metadata": {},
   "source": [
    "#### Q42. Write a Python program to find missing and additional values in two lists. \n",
    "    Sample data : Missing values in second list: b,a,c\n",
    "    Additional values in second list: g,h"
   ]
  },
  {
   "cell_type": "code",
   "execution_count": 38,
   "metadata": {},
   "outputs": [
    {
     "name": "stdout",
     "output_type": "stream",
     "text": [
      "Missing values in second list:  a,c,b\n",
      "Additional values in second list:  g,h\n"
     ]
    }
   ],
   "source": [
    "list1 = ['a','b','c','d','e','f']\n",
    "list2 = ['d','e','f','g','h']\n",
    "print('Missing values in second list: ', ','.join(set(list1).difference(list2)))\n",
    "print('Additional values in second list: ', ','.join(set(list2).difference(list1)))"
   ]
  },
  {
   "cell_type": "markdown",
   "metadata": {},
   "source": [
    "#### Q43. Write a Python program to split a list into different variables."
   ]
  },
  {
   "cell_type": "code",
   "execution_count": 39,
   "metadata": {},
   "outputs": [
    {
     "name": "stdout",
     "output_type": "stream",
     "text": [
      "('Black', '#000000', 'rgb(0, 0, 0)')\n",
      "('Red', '#FF0000', 'rgb(255, 0, 0)')\n",
      "('Yellow', '#FFFF00', 'rgb(255, 255, 0)')\n"
     ]
    }
   ],
   "source": [
    "color = [(\"Black\", \"#000000\", \"rgb(0, 0, 0)\"), (\"Red\", \"#FF0000\", \"rgb(255, 0, 0)\"),\n",
    "         (\"Yellow\", \"#FFFF00\", \"rgb(255, 255, 0)\")]\n",
    "var1, var2, var3 = color\n",
    "print(var1)\n",
    "print(var2)\n",
    "print(var3)"
   ]
  },
  {
   "cell_type": "markdown",
   "metadata": {},
   "source": [
    "#### Q44. Write a Python program to generate groups of five consecutive numbers in a list."
   ]
  },
  {
   "cell_type": "code",
   "execution_count": 40,
   "metadata": {},
   "outputs": [
    {
     "name": "stdout",
     "output_type": "stream",
     "text": [
      "[[1, 2, 3, 4, 5], [6, 7, 8, 9, 10], [11, 12, 13, 14, 15], [16, 17, 18, 19, 20], [21, 22, 23, 24, 25]]\n"
     ]
    }
   ],
   "source": [
    "l = [[5*i + j for j in range(1,6)] for i in range(5)]\n",
    "print(l)"
   ]
  },
  {
   "cell_type": "markdown",
   "metadata": {},
   "source": [
    "#### 45. Write a Python program to convert a pair of values into a sorted unique array."
   ]
  },
  {
   "cell_type": "code",
   "execution_count": 41,
   "metadata": {},
   "outputs": [
    {
     "name": "stdout",
     "output_type": "stream",
     "text": [
      "Original List:  [(1, 2), (3, 4), (1, 2), (5, 6), (7, 8), (1, 2), (3, 4), (3, 4), (7, 8), (9, 10)]\n",
      "Sorted Unique Data: [1, 2, 3, 4, 5, 6, 7, 8, 9, 10]\n"
     ]
    }
   ],
   "source": [
    "L = [(1, 2), (3, 4), (1, 2), (5, 6), (7, 8), (1, 2), (3, 4), (3, 4),\n",
    " (7, 8), (9, 10)]\n",
    "print(\"Original List: \", L)\n",
    "print(\"Sorted Unique Data:\",sorted(set().union(*L)))"
   ]
  },
  {
   "cell_type": "markdown",
   "metadata": {},
   "source": [
    "#### Q46. Write a Python program to select the odd items of a list. "
   ]
  },
  {
   "cell_type": "code",
   "execution_count": 42,
   "metadata": {},
   "outputs": [
    {
     "name": "stdout",
     "output_type": "stream",
     "text": [
      "[1, 3, 5, 7, 9]\n"
     ]
    }
   ],
   "source": [
    "x = [1, 2, 3, 4, 5, 6, 7, 8, 9]\n",
    "print(x[::2])"
   ]
  },
  {
   "cell_type": "markdown",
   "metadata": {},
   "source": [
    "#### Q47. Write a Python program to insert an element before each element of a list."
   ]
  },
  {
   "cell_type": "code",
   "execution_count": 43,
   "metadata": {},
   "outputs": [
    {
     "name": "stdout",
     "output_type": "stream",
     "text": [
      "Original List:  ['Red', 'Green', 'Black']\n",
      "Original List:  ['c', 'Red', 'c', 'Green', 'c', 'Black']\n"
     ]
    }
   ],
   "source": [
    "color = ['Red', 'Green', 'Black']\n",
    "print(\"Original List: \",color)\n",
    "color = [v for elt in color for v in ('c', elt)]\n",
    "print(\"Original List: \",color)"
   ]
  },
  {
   "cell_type": "markdown",
   "metadata": {},
   "source": [
    "#### Q48. Write a Python program to print a nested lists (each list on a new line) using the print() function."
   ]
  },
  {
   "cell_type": "code",
   "execution_count": 44,
   "metadata": {},
   "outputs": [
    {
     "name": "stdout",
     "output_type": "stream",
     "text": [
      "['Red']\n",
      "['Green']\n",
      "['Black']\n"
     ]
    }
   ],
   "source": [
    "colors = [['Red'], ['Green'], ['Black']]\n",
    "print('\\n'.join([str(lst) for lst in colors]))"
   ]
  },
  {
   "cell_type": "markdown",
   "metadata": {},
   "source": [
    "#### Q49. Write a Python program to convert list to list of dictionaries. \n",
    "    Sample lists: [\"Black\", \"Red\", \"Maroon\", \"Yellow\"], [\"#000000\", \"#FF0000\", \"#800000\", \"#FFFF00\"]\n",
    "    Expected Output: [{'color_name': 'Black', 'color_code': '#000000'}, {'color_name': 'Red', 'color_code': '#FF0000'}, {'color_name': 'Maroon', 'color_code': '#800000'}, {'color_name': 'Yellow', 'color_code': '#FFFF00'}]"
   ]
  },
  {
   "cell_type": "code",
   "execution_count": 45,
   "metadata": {},
   "outputs": [
    {
     "name": "stdout",
     "output_type": "stream",
     "text": [
      "[{'color_name': 'Black', 'color_code': '#000000'}, {'color_name': 'Red', 'color_code': '#FF0000'}, {'color_name': 'Maroon', 'color_code': '#800000'}, {'color_name': 'Yellow', 'color_code': '#FFFF00'}]\n"
     ]
    }
   ],
   "source": [
    "color_name = [\"Black\", \"Red\", \"Maroon\", \"Yellow\"]\n",
    "color_code = [\"#000000\", \"#FF0000\", \"#800000\", \"#FFFF00\"]\n",
    "print([{'color_name': f, 'color_code': c} for f, c in zip(color_name, color_code)])\n"
   ]
  },
  {
   "cell_type": "markdown",
   "metadata": {},
   "source": [
    "#### Q50. Write a Python program to sort a list of nested dictionaries."
   ]
  },
  {
   "cell_type": "code",
   "execution_count": 46,
   "metadata": {},
   "outputs": [
    {
     "name": "stdout",
     "output_type": "stream",
     "text": [
      "Original List: \n",
      "[{'key': {'subkey': 1}}, {'key': {'subkey': 10}}, {'key': {'subkey': 5}}]\n",
      "Sorted List: \n",
      "[{'key': {'subkey': 10}}, {'key': {'subkey': 5}}, {'key': {'subkey': 1}}]\n"
     ]
    }
   ],
   "source": [
    "my_list = [{'key': {'subkey': 1}}, {'key': {'subkey': 10}}, {'key': {'subkey': 5}}]\n",
    "print(\"Original List: \")\n",
    "print(my_list)\n",
    "my_list.sort(key=lambda e: e['key']['subkey'], reverse=True)\n",
    "print(\"Sorted List: \")\n",
    "print(my_list)"
   ]
  },
  {
   "cell_type": "markdown",
   "metadata": {},
   "source": [
    "#### Q51. Write a Python program to split a list every Nth element. \n",
    "    Sample list: ['a', 'b', 'c', 'd', 'e', 'f', 'g', 'h', 'i', 'j', 'k', 'l', 'm', 'n']\n",
    "    Expected Output: [['a', 'd', 'g', 'j', 'm'], ['b', 'e', 'h', 'k', 'n'], ['c', 'f', 'i', 'l']]"
   ]
  },
  {
   "cell_type": "code",
   "execution_count": 47,
   "metadata": {},
   "outputs": [
    {
     "name": "stdout",
     "output_type": "stream",
     "text": [
      "[['a', 'd', 'g', 'j', 'm'], ['b', 'e', 'h', 'k', 'n'], ['c', 'f', 'i', 'l']]\n"
     ]
    }
   ],
   "source": [
    "C = ['a', 'b', 'c', 'd', 'e', 'f', 'g', 'h', 'i', 'j', 'k', 'l', 'm', 'n']\n",
    "def list_slice(S, step):\n",
    "    return [S[i::step] for i in range(step)]\n",
    "print(list_slice(C,3))"
   ]
  },
  {
   "cell_type": "markdown",
   "metadata": {},
   "source": [
    "#### Q52. Write a Python program to compute the difference between two lists. \n",
    "    Sample data: [\"red\", \"orange\", \"green\", \"blue\", \"white\"], [\"black\", \"yellow\", \"green\", \"blue\"]\n",
    "    Expected Output:\n",
    "    Color1-Color2: ['white', 'orange', 'red']\n",
    "    Color2-Color1: ['black', 'yellow']"
   ]
  },
  {
   "cell_type": "code",
   "execution_count": 48,
   "metadata": {},
   "outputs": [
    {
     "name": "stdout",
     "output_type": "stream",
     "text": [
      "Color1-Color2:  ['red', 'orange', 'white']\n",
      "Color2-Color1:  ['black', 'yellow']\n"
     ]
    }
   ],
   "source": [
    "from collections import Counter\n",
    "color1 = [\"red\", \"orange\", \"green\", \"blue\", \"white\"]\n",
    "color2 = [\"black\", \"yellow\", \"green\", \"blue\"]\n",
    "counter1 = Counter(color1)\n",
    "counter2 = Counter(color2)\n",
    "print(\"Color1-Color2: \",list(counter1 - counter2))\n",
    "print(\"Color2-Color1: \",list(counter2 - counter1))"
   ]
  },
  {
   "cell_type": "markdown",
   "metadata": {},
   "source": [
    "#### Q53. Write a Python program to create a list with infinite elements."
   ]
  },
  {
   "cell_type": "code",
   "execution_count": 49,
   "metadata": {},
   "outputs": [
    {
     "name": "stdout",
     "output_type": "stream",
     "text": [
      "0\n",
      "1\n",
      "2\n",
      "3\n",
      "4\n"
     ]
    }
   ],
   "source": [
    "import itertools\n",
    "c = itertools.count()\n",
    "print(next(c))\n",
    "print(next(c))\n",
    "print(next(c))\n",
    "print(next(c))\n",
    "print(next(c))"
   ]
  },
  {
   "cell_type": "markdown",
   "metadata": {},
   "source": [
    "#### Q54. Write a Python program to concatenate elements of a list."
   ]
  },
  {
   "cell_type": "code",
   "execution_count": 50,
   "metadata": {},
   "outputs": [
    {
     "name": "stdout",
     "output_type": "stream",
     "text": [
      "red-green-orange\n",
      "redgreenorange\n"
     ]
    }
   ],
   "source": [
    "color = ['red', 'green', 'orange']\n",
    "print('-'.join(color))\n",
    "print(''.join(color))"
   ]
  },
  {
   "cell_type": "markdown",
   "metadata": {},
   "source": [
    "#### Q55. Write a Python program to remove key values pairs from a list of dictionaries."
   ]
  },
  {
   "cell_type": "code",
   "execution_count": 51,
   "metadata": {},
   "outputs": [
    {
     "name": "stdout",
     "output_type": "stream",
     "text": [
      "Original List: \n",
      "[{'key1': 'value1', 'key2': 'value2'}, {'key1': 'value3', 'key2': 'value4'}]\n",
      "New List: \n",
      "[{'key2': 'value2'}, {'key2': 'value4'}]\n"
     ]
    }
   ],
   "source": [
    "original_list = [{'key1':'value1', 'key2':'value2'}, {'key1':'value3', 'key2':'value4'}]\n",
    "print(\"Original List: \")\n",
    "print(original_list)\n",
    "new_list = [{k: v for k, v in d.items() if k != 'key1'} for d in original_list]\n",
    "print(\"New List: \")\n",
    "print(new_list)"
   ]
  },
  {
   "cell_type": "markdown",
   "metadata": {},
   "source": [
    "#### Q56. Write a Python program to convert a string to a list."
   ]
  },
  {
   "cell_type": "code",
   "execution_count": 52,
   "metadata": {},
   "outputs": [
    {
     "name": "stdout",
     "output_type": "stream",
     "text": [
      "['Red', 'Green', 'White']\n"
     ]
    }
   ],
   "source": [
    "import ast\n",
    "color =\"['Red', 'Green', 'White']\"\n",
    "print(ast.literal_eval(color))"
   ]
  },
  {
   "cell_type": "markdown",
   "metadata": {},
   "source": [
    "#### Q57. Write a Python program to check whether all items of a list is equal to a given string. "
   ]
  },
  {
   "cell_type": "code",
   "execution_count": 53,
   "metadata": {},
   "outputs": [
    {
     "name": "stdout",
     "output_type": "stream",
     "text": [
      "False\n",
      "True\n"
     ]
    }
   ],
   "source": [
    "color1 = [\"green\", \"orange\", \"black\", \"white\"]\n",
    "color2 = [\"green\", \"green\", \"green\", \"green\"]\n",
    "\n",
    "print(all(c == 'blue' for c in color1))\n",
    "print(all(c == 'green' for c in color2))"
   ]
  },
  {
   "cell_type": "markdown",
   "metadata": {},
   "source": [
    "#### Q58. Write a Python program to replace the last element in a list with another list. Go to the editor\n",
    "    Sample data : [1, 3, 5, 7, 9, 10], [2, 4, 6, 8]\n",
    "    Expected Output: [1, 3, 5, 7, 9, 2, 4, 6, 8]"
   ]
  },
  {
   "cell_type": "code",
   "execution_count": 54,
   "metadata": {},
   "outputs": [
    {
     "name": "stdout",
     "output_type": "stream",
     "text": [
      "[1, 3, 5, 7, 9, 2, 4, 6, 8]\n"
     ]
    }
   ],
   "source": [
    "num1 = [1, 3, 5, 7, 9, 10]\n",
    "num2 = [2, 4, 6, 8]\n",
    "num1[-1:] = num2\n",
    "print(num1)"
   ]
  },
  {
   "cell_type": "markdown",
   "metadata": {},
   "source": [
    "#### Q59. Write a Python program to check whether the n-th element exists in a given list. "
   ]
  },
  {
   "cell_type": "code",
   "execution_count": 55,
   "metadata": {},
   "outputs": [
    {
     "name": "stdout",
     "output_type": "stream",
     "text": [
      "6\n"
     ]
    }
   ],
   "source": [
    "x = [1, 2, 3, 4, 5, 6]\n",
    "xlen = len(x)-1\n",
    "print(x[xlen])"
   ]
  },
  {
   "cell_type": "markdown",
   "metadata": {},
   "source": [
    "#### Q60. Write a Python program to find a tuple, the smallest second index value from a list of tuples."
   ]
  },
  {
   "cell_type": "code",
   "execution_count": 56,
   "metadata": {},
   "outputs": [
    {
     "name": "stdout",
     "output_type": "stream",
     "text": [
      "(6, 0)\n"
     ]
    }
   ],
   "source": [
    "x = [(4, 1), (1, 2), (6, 0)]\n",
    "print(min(x, key=lambda n: (n[1], -n[0])))"
   ]
  },
  {
   "cell_type": "markdown",
   "metadata": {},
   "source": [
    "#### Q61. Write a Python program to create a list of empty dictionaries. "
   ]
  },
  {
   "cell_type": "code",
   "execution_count": 57,
   "metadata": {},
   "outputs": [
    {
     "name": "stdout",
     "output_type": "stream",
     "text": [
      "[{}, {}, {}, {}, {}]\n"
     ]
    }
   ],
   "source": [
    "n = 5\n",
    "l = [{} for _ in range(n)]\n",
    "print(l)"
   ]
  },
  {
   "cell_type": "markdown",
   "metadata": {},
   "source": [
    "#### Q62. Write a Python program to print a list of space-separated elements."
   ]
  },
  {
   "cell_type": "code",
   "execution_count": 58,
   "metadata": {},
   "outputs": [
    {
     "name": "stdout",
     "output_type": "stream",
     "text": [
      "1 2 3 4 5\n"
     ]
    }
   ],
   "source": [
    "num = [1, 2, 3, 4, 5]\n",
    "print(*num)"
   ]
  },
  {
   "cell_type": "markdown",
   "metadata": {},
   "source": [
    "#### Q63. Write a Python program to insert a given string at the beginning of all items in a list. \n",
    "    Sample list : [1,2,3,4], string : emp\n",
    "    Expected output : ['emp1', 'emp2', 'emp3', 'emp4']"
   ]
  },
  {
   "cell_type": "code",
   "execution_count": 59,
   "metadata": {},
   "outputs": [
    {
     "name": "stdout",
     "output_type": "stream",
     "text": [
      "['emp1', 'emp2', 'emp3', 'emp4']\n"
     ]
    }
   ],
   "source": [
    "num = [1,2,3,4]\n",
    "print(['emp{0}'.format(i) for i in  num])"
   ]
  },
  {
   "cell_type": "markdown",
   "metadata": {},
   "source": [
    "#### Q64. Write a Python program to iterate over two lists simultaneously."
   ]
  },
  {
   "cell_type": "code",
   "execution_count": 60,
   "metadata": {},
   "outputs": [
    {
     "name": "stdout",
     "output_type": "stream",
     "text": [
      "1 red\n",
      "2 white\n",
      "3 black\n"
     ]
    }
   ],
   "source": [
    "num = [1, 2, 3]\n",
    "color = ['red', 'white', 'black']\n",
    "for (a,b) in zip(num, color):\n",
    "     print(a, b)"
   ]
  },
  {
   "cell_type": "markdown",
   "metadata": {},
   "source": [
    "#### Q65. Write a Python program to access dictionary keys element by index."
   ]
  },
  {
   "cell_type": "code",
   "execution_count": 61,
   "metadata": {},
   "outputs": [
    {
     "name": "stdout",
     "output_type": "stream",
     "text": [
      "physics\n"
     ]
    }
   ],
   "source": [
    "num = {'physics': 80, 'math': 90, 'chemistry': 86}\n",
    "print(list(num)[0])"
   ]
  },
  {
   "cell_type": "markdown",
   "metadata": {},
   "source": [
    "#### Q 66. Write a Python program to find the list in a list of lists whose sum of elements is the highest. \n",
    "    Sample lists: [1,2,3], [4,5,6], [10,11,12], [7,8,9]\n",
    "    Expected Output: [10, 11, 12]"
   ]
  },
  {
   "cell_type": "code",
   "execution_count": 62,
   "metadata": {},
   "outputs": [
    {
     "name": "stdout",
     "output_type": "stream",
     "text": [
      "[10, 11, 12]\n"
     ]
    }
   ],
   "source": [
    "num = [[1,2,3], [4,5,6], [10,11,12], [7,8,9]]\n",
    "print(max(num, key=sum))"
   ]
  },
  {
   "cell_type": "markdown",
   "metadata": {},
   "source": [
    "#### Q67. Write a Python program to find all the values in a list are greater than a specified number. "
   ]
  },
  {
   "cell_type": "code",
   "execution_count": 64,
   "metadata": {},
   "outputs": [
    {
     "name": "stdout",
     "output_type": "stream",
     "text": [
      "True\n",
      "False\n"
     ]
    }
   ],
   "source": [
    "list1 = [220, 330, 500]\n",
    "list2 = [12, 17, 21]\n",
    "print(all(x >= 200 for x in list1))\n",
    "print(all(x >= 25 for x in list2))"
   ]
  },
  {
   "cell_type": "markdown",
   "metadata": {},
   "source": [
    "#### Q68. Write a Python program to extend a list without append. \n",
    "    Sample data: [10, 20, 30]\n",
    "    [40, 50, 60]\n",
    "    Expected output : [40, 50, 60, 10, 20, 30]"
   ]
  },
  {
   "cell_type": "code",
   "execution_count": 65,
   "metadata": {},
   "outputs": [
    {
     "name": "stdout",
     "output_type": "stream",
     "text": [
      "[40, 50, 60, 10, 20, 30]\n"
     ]
    }
   ],
   "source": [
    "x = [10, 20, 30]\n",
    "y = [40, 50, 60]\n",
    "x[:0] =y\n",
    "print(x)"
   ]
  },
  {
   "cell_type": "markdown",
   "metadata": {},
   "source": [
    "#### Q69. Write a Python program to remove duplicates from a list of lists. \n",
    "    Sample list : [[10, 20], [40], [30, 56, 25], [10, 20], [33], [40]]\n",
    "    New List : [[10, 20], [30, 56, 25], [33], [40]]"
   ]
  },
  {
   "cell_type": "code",
   "execution_count": 66,
   "metadata": {},
   "outputs": [
    {
     "name": "stdout",
     "output_type": "stream",
     "text": [
      "Original List [[10, 20], [40], [30, 56, 25], [10, 20], [33], [40]]\n",
      "New List [[10, 20], [30, 56, 25], [33], [40]]\n"
     ]
    }
   ],
   "source": [
    "import itertools\n",
    "num = [[10, 20], [40], [30, 56, 25], [10, 20], [33], [40]]\n",
    "print(\"Original List\", num)\n",
    "num.sort()\n",
    "new_num = list(num for num,_ in itertools.groupby(num))\n",
    "print(\"New List\", new_num)"
   ]
  },
  {
   "cell_type": "markdown",
   "metadata": {},
   "source": [
    "#### Q70. Write a Python program to get the depth of a dictionary."
   ]
  },
  {
   "cell_type": "code",
   "execution_count": 67,
   "metadata": {},
   "outputs": [
    {
     "name": "stdout",
     "output_type": "stream",
     "text": [
      "4\n"
     ]
    }
   ],
   "source": [
    "def dict_depth(d):\n",
    "    if isinstance(d, dict):\n",
    "        return 1 + (max(map(dict_depth, d.values())) if d else 0)\n",
    "    return 0\n",
    "dic = {'a':1, 'b': {'c': {'d': {}}}}\n",
    "print(dict_depth(dic))"
   ]
  },
  {
   "cell_type": "markdown",
   "metadata": {},
   "source": [
    "#### Q71. Write a Python program to check whether all dictionaries in a list are empty or not. \n",
    "    Sample list : [{},{},{}]\n",
    "    Return value : True\n",
    "    Sample list : [{1,2},{},{}]\n",
    "    Return value : False"
   ]
  },
  {
   "cell_type": "code",
   "execution_count": 68,
   "metadata": {},
   "outputs": [
    {
     "name": "stdout",
     "output_type": "stream",
     "text": [
      "True\n",
      "False\n"
     ]
    }
   ],
   "source": [
    "my_list = [{},{},{}]\n",
    "my_list1 = [{1,2},{},{}]\n",
    "print(all(not d for d in my_list))\n",
    "print(all(not d for d in my_list1))"
   ]
  },
  {
   "cell_type": "markdown",
   "metadata": {},
   "source": [
    "#### Q72. Write a Python program to flatten a given nested list structure. \n",
    "    Original list: [0, 10, [20, 30], 40, 50, [60, 70, 80], [90, 100, 110, 120]]\n",
    "    Flatten list:  [0, 10, 20, 30, 40, 50, 60, 70, 80, 90, 100, 110, 120]"
   ]
  },
  {
   "cell_type": "code",
   "execution_count": 69,
   "metadata": {},
   "outputs": [
    {
     "name": "stdout",
     "output_type": "stream",
     "text": [
      "Original list:\n",
      "[0, 10, [20, 30], 40, 50, [60, 70, 80], [90, 100, 110, 120]]\n",
      "\n",
      "Flatten list:\n",
      "[0, 10, 20, 30, 40, 50, 60, 70, 80, 90, 100, 110, 120]\n"
     ]
    }
   ],
   "source": [
    "def flatten_list(n_list):\n",
    "    result_list = []\n",
    "    if not n_list: return result_list\n",
    "    stack = [list(n_list)]\n",
    "    while stack:\n",
    "        c_num = stack.pop()\n",
    "        next = c_num.pop()\n",
    "        if c_num: stack.append(c_num)\n",
    "        if isinstance(next, list):\n",
    "            if next: stack.append(list(next))\n",
    "        else: result_list.append(next)\n",
    "    result_list.reverse()\n",
    "    return result_list \n",
    "n_list = [0, 10, [20, 30], 40, 50, [60, 70, 80], [90, 100, 110, 120]]\n",
    "print(\"Original list:\") \n",
    "print(n_list)\n",
    "print(\"\\nFlatten list:\")\n",
    "print(flatten_list(n_list))"
   ]
  },
  {
   "cell_type": "markdown",
   "metadata": {},
   "source": [
    "#### Q73. Write a Python program to remove consecutive duplicates of a given list. \n",
    "    Original list:\n",
    "    [0, 0, 1, 2, 3, 4, 4, 5, 6, 6, 6, 7, 8, 9, 4, 4]\n",
    "    After removing consecutive duplicates:\n",
    "    [0, 1, 2, 3, 4, 5, 6, 7, 8, 9, 4]"
   ]
  },
  {
   "cell_type": "code",
   "execution_count": 70,
   "metadata": {},
   "outputs": [
    {
     "name": "stdout",
     "output_type": "stream",
     "text": [
      "Original list:\n",
      "[0, 0, 1, 2, 3, 4, 4, 5, 6, 6, 6, 7, 8, 9, 4, 4]\n",
      "\n",
      "After removing consecutive duplicates:\n",
      "[0, 1, 2, 3, 4, 5, 6, 7, 8, 9, 4]\n"
     ]
    }
   ],
   "source": [
    "from itertools import groupby\n",
    "def compress(l_nums):\n",
    "    return [key for key, group in groupby(l_nums)] \n",
    "n_list = [0, 0, 1, 2, 3, 4, 4, 5, 6, 6, 6, 7, 8, 9, 4, 4 ]\n",
    "print(\"Original list:\") \n",
    "print(n_list)\n",
    "print(\"\\nAfter removing consecutive duplicates:\")\n",
    "print(compress(n_list)) \n"
   ]
  },
  {
   "cell_type": "markdown",
   "metadata": {},
   "source": [
    "#### Q74. Write a Python program to pack consecutive duplicates of a given list elements into sublists. \n",
    "    Original list:\n",
    "    [0, 0, 1, 2, 3, 4, 4, 5, 6, 6, 6, 7, 8, 9, 4, 4]\n",
    "    After packing consecutive duplicates of the said list elements into sublists:\n",
    "    [[0, 0], [1], [2], [3], [4, 4], [5], [6, 6, 6], [7], [8], [9], [4, 4]]"
   ]
  },
  {
   "cell_type": "code",
   "execution_count": 71,
   "metadata": {},
   "outputs": [
    {
     "name": "stdout",
     "output_type": "stream",
     "text": [
      "Original list:\n",
      "[0, 0, 1, 2, 3, 4, 4, 5, 6, 6, 6, 7, 8, 9, 4, 4]\n",
      "\n",
      "After packing consecutive duplicates of the said list elements into sublists:\n",
      "[[0, 0], [1], [2], [3], [4, 4], [5], [6, 6, 6], [7], [8], [9], [4, 4]]\n"
     ]
    }
   ],
   "source": [
    "from itertools import groupby\n",
    "def pack_consecutive_duplicates(l_nums):\n",
    "    return [list(group) for key, group in groupby(l_nums)]\n",
    "n_list = [0, 0, 1, 2, 3, 4, 4, 5, 6, 6, 6, 7, 8, 9, 4, 4 ]\n",
    "print(\"Original list:\") \n",
    "print(n_list)\n",
    "print(\"\\nAfter packing consecutive duplicates of the said list elements into sublists:\")\n",
    "print(pack_consecutive_duplicates(n_list)) \n"
   ]
  },
  {
   "cell_type": "markdown",
   "metadata": {},
   "source": [
    "#### Q75. Write a Python program to create a list reflecting the run-length encoding from a given list of integers or a given list of characters. \n",
    "    Original list:\n",
    "    [1, 1, 2, 3, 4, 4.3, 5, 1]\n",
    "    List reflecting the run-length encoding from the said list:\n",
    "    [[2, 1], [1, 2], [1, 3], [1, 4], [1, 4.3], [1, 5], [1, 1]]\n",
    "    Original String:\n",
    "    automatically\n",
    "    List reflecting the run-length encoding from the said string:\n",
    "    [[1, 'a'], [1, 'u'], [1, 't'], [1, 'o'], [1, 'm'], [1, 'a'], [1, 't'], [1, 'i'], [1, 'c'], [1, 'a'], [2, 'l'], [1, 'y']]"
   ]
  },
  {
   "cell_type": "code",
   "execution_count": 72,
   "metadata": {},
   "outputs": [
    {
     "name": "stdout",
     "output_type": "stream",
     "text": [
      "Original list:\n",
      "[1, 1, 2, 3, 4, 4.3, 5, 1]\n",
      "\n",
      "List reflecting the run-length encoding from the said list:\n",
      "[[2, 1], [1, 2], [1, 3], [1, 4], [1, 4.3], [1, 5], [1, 1]]\n",
      "\n",
      "Original String:\n",
      "automatically\n",
      "\n",
      "List reflecting the run-length encoding from the said string:\n",
      "[[1, 'a'], [1, 'u'], [1, 't'], [1, 'o'], [1, 'm'], [1, 'a'], [1, 't'], [1, 'i'], [1, 'c'], [1, 'a'], [2, 'l'], [1, 'y']]\n"
     ]
    }
   ],
   "source": [
    "from itertools import groupby\n",
    "def encode_list(s_list):\n",
    "    return [[len(list(group)), key] for key, group in groupby(s_list)]\n",
    "n_list = [1,1,2,3,4,4.3,5, 1]\n",
    "print(\"Original list:\") \n",
    "print(n_list)\n",
    "print(\"\\nList reflecting the run-length encoding from the said list:\")\n",
    "print(encode_list(n_list))\n",
    "n_list = 'automatically'\n",
    "print(\"\\nOriginal String:\") \n",
    "print(n_list)\n",
    "print(\"\\nList reflecting the run-length encoding from the said string:\")\n",
    "print(encode_list(n_list))"
   ]
  },
  {
   "cell_type": "markdown",
   "metadata": {},
   "source": [
    "#### Q76. Write a Python program to create a list reflecting the modified run-length encoding from a given list of integers or a given list of characters. \n",
    "    Original list:\n",
    "    [1, 1, 2, 3, 4, 4, 5, 1]\n",
    "    List reflecting the modified run-length encoding from the said list:\n",
    "    [[2, 1], 2, 3, [2, 4], 5, 1]\n",
    "    Original String:\n",
    "    aabcddddadnss\n",
    "    List reflecting the modified run-length encoding from the said string:\n",
    "    [[2, 'a'], 'b', 'c', [4, 'd'], 'a', 'd', 'n', [2, 's']]"
   ]
  },
  {
   "cell_type": "code",
   "execution_count": 73,
   "metadata": {},
   "outputs": [
    {
     "name": "stdout",
     "output_type": "stream",
     "text": [
      "Original list:\n",
      "[1, 1, 2, 3, 4, 4, 5, 1]\n",
      "\n",
      "List reflecting the modified run-length encoding from the said list:\n",
      "[[2, 1], 2, 3, [2, 4], 5, 1]\n",
      "\n",
      "Original String:\n",
      "aabcddddadnss\n",
      "\n",
      "List reflecting the modified run-length encoding from the said string:\n",
      "[[2, 'a'], 'b', 'c', [4, 'd'], 'a', 'd', 'n', [2, 's']]\n"
     ]
    }
   ],
   "source": [
    "from itertools import groupby\n",
    "def modified_encode(alist):\n",
    "        def ctr_ele(el):\n",
    "            if len(el)>1: return [len(el), el[0]]\n",
    "            else: return el[0]\n",
    "        return [ctr_ele(list(group)) for key, group in groupby(alist)]\n",
    "\n",
    "n_list = [1,1,2,3,4,4,5, 1]\n",
    "print(\"Original list:\") \n",
    "print(n_list)\n",
    "print(\"\\nList reflecting the modified run-length encoding from the said list:\")\n",
    "print(modified_encode(n_list))\n",
    "\n",
    "n_list = 'aabcddddadnss'\n",
    "print(\"\\nOriginal String:\") \n",
    "print(n_list)\n",
    "print(\"\\nList reflecting the modified run-length encoding from the said string:\")\n",
    "print(modified_encode(n_list))"
   ]
  },
  {
   "cell_type": "markdown",
   "metadata": {},
   "source": [
    "#### Q77. Write a Python program to decode a run-length encoded given list. \n",
    "    Original encoded list:\n",
    "    [[2, 1], 2, 3, [2, 4], 5, 1]\n",
    "    Decode a run-length encoded said list:\n",
    "    [1, 1, 2, 3, 4, 4, 5, 1]"
   ]
  },
  {
   "cell_type": "code",
   "execution_count": 74,
   "metadata": {},
   "outputs": [
    {
     "name": "stdout",
     "output_type": "stream",
     "text": [
      "Original encoded list:\n",
      "[[2, 1], 2, 3, [2, 4], 5, 1]\n",
      "\n",
      "Decode a run-length encoded said list:\n",
      "[1, 1, 2, 3, 4, 4, 5, 1]\n"
     ]
    }
   ],
   "source": [
    "def decode(alist):\n",
    "    def aux(g):\n",
    "        if isinstance(g, list):\n",
    "            return [(g[1], range(g[0]))]\n",
    "        else:\n",
    "            return [(g, [0])]\n",
    "    return [x for g in alist for x, R in aux(g) for i in R]\n",
    "n_list = [[2, 1], 2, 3, [2, 4], 5, 1]\n",
    "print(\"Original encoded list:\") \n",
    "print(n_list)\n",
    "print(\"\\nDecode a run-length encoded said list:\")\n",
    "print(decode(n_list))"
   ]
  },
  {
   "cell_type": "markdown",
   "metadata": {},
   "source": [
    "#### Q78. Write a Python program to split a given list into two parts where the length of the first part of the list is given. \n",
    "    Original list:\n",
    "    [1, 1, 2, 3, 4, 4, 5, 1]\n",
    "    Length of the first part of the list: 3\n",
    "    Splited the said list into two parts:\n",
    "    ([1, 1, 2], [3, 4, 4, 5, 1])"
   ]
  },
  {
   "cell_type": "code",
   "execution_count": 75,
   "metadata": {},
   "outputs": [
    {
     "name": "stdout",
     "output_type": "stream",
     "text": [
      "Original list:\n",
      "[1, 1, 2, 3, 4, 4, 5, 1]\n",
      "\n",
      "Length of the first part of the list: 3\n",
      "\n",
      "Splited the said list into two parts:\n",
      "([1, 1, 2], [3, 4, 4, 5, 1])\n"
     ]
    }
   ],
   "source": [
    "def split_two_parts(n_list, L):\n",
    "    return n_list[:L], n_list[L:]\n",
    "n_list = [1,1,2,3,4,4,5, 1]\n",
    "print(\"Original list:\") \n",
    "print(n_list)\n",
    "first_list_length = 3\n",
    "print(\"\\nLength of the first part of the list:\",first_list_length)\n",
    "print(\"\\nSplited the said list into two parts:\")\n",
    "print(split_two_parts(n_list, first_list_length))"
   ]
  },
  {
   "cell_type": "markdown",
   "metadata": {},
   "source": [
    "#### Q79. Write a Python program to remove the K'th element from a given list, print the new list. \n",
    "    Original list:\n",
    "    [1, 1, 2, 3, 4, 4, 5, 1]\n",
    "    After removing an element at the kth position of the said list:\n",
    "    [1, 1, 3, 4, 4, 5, 1]"
   ]
  },
  {
   "cell_type": "code",
   "execution_count": 76,
   "metadata": {},
   "outputs": [
    {
     "name": "stdout",
     "output_type": "stream",
     "text": [
      "Original list:\n",
      "[1, 1, 2, 3, 4, 4, 5, 1]\n",
      "\n",
      "After removing an element at the kth position of the said list:\n",
      "[1, 1, 3, 4, 4, 5, 1]\n"
     ]
    }
   ],
   "source": [
    "def remove_kth_element(n_list, L):\n",
    "    return  n_list[:L-1] + n_list[L:]\n",
    "\n",
    "n_list = [1,1,2,3,4,4,5,1]\n",
    "print(\"Original list:\") \n",
    "print(n_list)\n",
    "kth_position = 3\n",
    "result = remove_kth_element(n_list, kth_position)\n",
    "print(\"\\nAfter removing an element at the kth position of the said list:\")\n",
    "print(result)"
   ]
  },
  {
   "cell_type": "markdown",
   "metadata": {},
   "source": [
    "#### Q80. Write a Python program to insert an element at a specified position into a given list. \n",
    "    Original list:\n",
    "    [1, 1, 2, 3, 4, 4, 5, 1]\n",
    "    After inserting an element at kth position in the said list:\n",
    "    [1, 1, 12, 2, 3, 4, 4, 5, 1]"
   ]
  },
  {
   "cell_type": "code",
   "execution_count": 77,
   "metadata": {},
   "outputs": [
    {
     "name": "stdout",
     "output_type": "stream",
     "text": [
      "Original list:\n",
      "[1, 1, 2, 3, 4, 4, 5, 1]\n",
      "\n",
      "After inserting an element at kth position in the said list:\n",
      "[1, 1, 12, 2, 3, 4, 4, 5, 1]\n"
     ]
    }
   ],
   "source": [
    "def insert_spec_position(x, n_list, pos):\n",
    "    return n_list[:pos-1]+[x]+n_list[pos-1:]\n",
    "n_list = [1,1,2,3,4,4,5,1]\n",
    "print(\"Original list:\") \n",
    "print(n_list)\n",
    "kth_position = 3\n",
    "x = 12\n",
    "result = insert_spec_position(x, n_list, kth_position)\n",
    "print(\"\\nAfter inserting an element at kth position in the said list:\")\n",
    "print(result)"
   ]
  },
  {
   "cell_type": "markdown",
   "metadata": {},
   "source": [
    "#### Q81. Write a Python program to extract a given number of randomly selected elements from a given list. \n",
    "    Original list:\n",
    "    [1, 1, 2, 3, 4, 4, 5, 1]\n",
    "    Selected 3 random numbers of the above list:\n",
    "    [4, 4, 1]"
   ]
  },
  {
   "cell_type": "code",
   "execution_count": 78,
   "metadata": {},
   "outputs": [
    {
     "name": "stdout",
     "output_type": "stream",
     "text": [
      "Original list:\n",
      "[1, 1, 2, 3, 4, 4, 5, 1]\n",
      "\n",
      "Selected 3 random numbers of the above list:\n",
      "[5, 1, 4]\n"
     ]
    }
   ],
   "source": [
    "import random\n",
    "def random_select_nums(n_list, n):\n",
    "        return random.sample(n_list, n)\n",
    "n_list = [1,1,2,3,4,4,5,1]\n",
    "print(\"Original list:\") \n",
    "print(n_list)\n",
    "selec_nums = 3\n",
    "result = random_select_nums(n_list, selec_nums)\n",
    "print(\"\\nSelected 3 random numbers of the above list:\")\n",
    "print(result) "
   ]
  },
  {
   "cell_type": "markdown",
   "metadata": {},
   "source": [
    "#### Q82. Write a Python program to generate the combinations of n distinct objects taken from the elements of a given list. \n",
    "    Original list: [1, 2, 3, 4, 5, 6, 7, 8, 9] Combinations of 2 distinct objects: [1, 2] [1, 3] [1, 4] [1, 5] .... [7, 8] [7, 9] [8, 9]"
   ]
  },
  {
   "cell_type": "code",
   "execution_count": 79,
   "metadata": {},
   "outputs": [
    {
     "name": "stdout",
     "output_type": "stream",
     "text": [
      "Original list:\n",
      "[1, 2, 3, 4, 5, 6, 7, 8, 9]\n",
      "\n",
      "Combinations of 2 distinct objects:\n",
      "[1, 2]\n",
      "[1, 3]\n",
      "[1, 4]\n",
      "[1, 5]\n",
      "[1, 6]\n",
      "[1, 7]\n",
      "[1, 8]\n",
      "[1, 9]\n",
      "[2, 3]\n",
      "[2, 4]\n",
      "[2, 5]\n",
      "[2, 6]\n",
      "[2, 7]\n",
      "[2, 8]\n",
      "[2, 9]\n",
      "[3, 4]\n",
      "[3, 5]\n",
      "[3, 6]\n",
      "[3, 7]\n",
      "[3, 8]\n",
      "[3, 9]\n",
      "[4, 5]\n",
      "[4, 6]\n",
      "[4, 7]\n",
      "[4, 8]\n",
      "[4, 9]\n",
      "[5, 6]\n",
      "[5, 7]\n",
      "[5, 8]\n",
      "[5, 9]\n",
      "[6, 7]\n",
      "[6, 8]\n",
      "[6, 9]\n",
      "[7, 8]\n",
      "[7, 9]\n",
      "[8, 9]\n"
     ]
    }
   ],
   "source": [
    "def combination(n, n_list):\n",
    "    if n<=0:\n",
    "        yield []\n",
    "        return\n",
    "    for i in range(len(n_list)):\n",
    "        c_num = n_list[i:i+1]\n",
    "        for a_num in combination(n-1, n_list[i+1:]):\n",
    "            yield c_num + a_num\n",
    "n_list = [1,2,3,4,5,6,7,8,9]\n",
    "print(\"Original list:\") \n",
    "print(n_list)\n",
    "n = 2\n",
    "result = combination(n, n_list)\n",
    "print(\"\\nCombinations of\",n,\"distinct objects:\")\n",
    "for e in result:\n",
    "     print(e)\n"
   ]
  },
  {
   "cell_type": "markdown",
   "metadata": {},
   "source": [
    "#### Q83. Write a Python program to round every number of a given list of numbers and print the total sum multiplied by the length of the list. \n",
    "    Original list: [22.4, 4.0, -16.22, -9.1, 11.0, -12.22, 14.2, -5.2, 17.5]\n",
    "    Result:\n",
    "    243"
   ]
  },
  {
   "cell_type": "code",
   "execution_count": 80,
   "metadata": {},
   "outputs": [
    {
     "name": "stdout",
     "output_type": "stream",
     "text": [
      "Original list:  [22.4, 4.0, -16.22, -9.1, 11.0, -12.22, 14.2, -5.2, 17.5]\n",
      "Result:\n",
      "243\n"
     ]
    }
   ],
   "source": [
    "nums = [22.4, 4.0, -16.22, -9.10, 11.00, -12.22, 14.20, -5.20, 17.50]\n",
    "print(\"Original list: \", nums)\n",
    "print(\"Result:\")\n",
    "lenght=len(nums)\n",
    "print(sum(list(map(round,nums))* lenght)) \n"
   ]
  },
  {
   "cell_type": "markdown",
   "metadata": {},
   "source": [
    "#### Q84. Write a Python program to round the numbers of a given list, print the minimum and maximum numbers and multiply the numbers by 5. Print the unique numbers in ascending order separated by space. \n",
    "    Original list: [22.4, 4.0, 16.22, 9.1, 11.0, 12.22, 14.2, 5.2, 17.5]\n",
    "    Minimum value: 4\n",
    "    Maximum value: 22\n",
    "    Result:\n",
    "    20 25 45 55 60 70 80 90 110"
   ]
  },
  {
   "cell_type": "code",
   "execution_count": 81,
   "metadata": {},
   "outputs": [
    {
     "name": "stdout",
     "output_type": "stream",
     "text": [
      "Original list: [22.4, 4.0, 16.22, 9.1, 11.0, 12.22, 14.2, 5.2, 17.5]\n",
      "Minimum value:  4\n",
      "Maximum value:  22\n",
      "Result:\n",
      "20 25 45 55 60 70 80 90 110 "
     ]
    }
   ],
   "source": [
    "nums = [22.4, 4.0, 16.22, 9.10, 11.00, 12.22, 14.20, 5.20, 17.50]\n",
    "print(\"Original list:\", nums)\n",
    "numbers=list(map(round,nums))\n",
    "print(\"Minimum value: \",min(numbers))\n",
    "print(\"Maximum value: \",max(numbers))\n",
    "numbers=list(set(numbers))\n",
    "numbers=(sorted(map(lambda n:n*5,numbers)))\n",
    "print(\"Result:\")\n",
    "for numb in numbers:\n",
    "    print(numb,end=' ')"
   ]
  },
  {
   "cell_type": "markdown",
   "metadata": {},
   "source": [
    "#### Q85. Write a Python program to create a multidimensional list (lists of lists) with zeros.\n",
    "    Multidimensional list: [[0, 0], [0, 0], [0, 0]]"
   ]
  },
  {
   "cell_type": "code",
   "execution_count": 82,
   "metadata": {},
   "outputs": [
    {
     "name": "stdout",
     "output_type": "stream",
     "text": [
      "Multidimensional list:\n",
      "[[0, 0], [0, 0], [0, 0]]\n"
     ]
    }
   ],
   "source": [
    "nums = []\n",
    "\n",
    "for i in range(3):\n",
    "\n",
    "    nums.append([])\n",
    "\n",
    "    for j in range(2):\n",
    "\n",
    "        nums[i].append(0)\n",
    "print(\"Multidimensional list:\")\n",
    "print(nums)"
   ]
  },
  {
   "cell_type": "markdown",
   "metadata": {},
   "source": [
    "#### Q86. Write a Python program to create a 3X3 grid with numbers. \n",
    "    3X3 grid with numbers:\n",
    "    [[1, 2, 3], [1, 2, 3], [1, 2, 3]]"
   ]
  },
  {
   "cell_type": "code",
   "execution_count": 83,
   "metadata": {},
   "outputs": [
    {
     "name": "stdout",
     "output_type": "stream",
     "text": [
      "3X3 grid with numbers:\n",
      "[[1, 2, 3], [1, 2, 3], [1, 2, 3]]\n"
     ]
    }
   ],
   "source": [
    "nums = []\n",
    "for i in range(3):\n",
    "    nums.append([])\n",
    "    for j in range(1, 4):\n",
    "        nums[i].append(j)\n",
    "print(\"3X3 grid with numbers:\")\n",
    "print(nums)\n"
   ]
  },
  {
   "cell_type": "markdown",
   "metadata": {},
   "source": [
    "#### Q87. Write a Python program to read a matrix from console and print the sum for each column. Accept matrix rows, columns and elements for each column separated with a space(for every row) as input from the user. \n",
    "    Input rows: 2\n",
    "    Input columns: 2\n",
    "    Input number of elements in a row (1, 2, 3):\n",
    "    1 2\n",
    "    3 4\n",
    "    sum for each column:\n",
    "    4 6"
   ]
  },
  {
   "cell_type": "code",
   "execution_count": 8,
   "metadata": {},
   "outputs": [
    {
     "name": "stdout",
     "output_type": "stream",
     "text": [
      "Input rows: 2\n",
      "Input columns: 2\n",
      "Input number of elements in a row (1, 2, 3): \n",
      "2 3\n",
      "3 4\n",
      "sum for each column:\n",
      "5  7  "
     ]
    }
   ],
   "source": [
    "rows = int(input(\"Input rows: \"))\n",
    "columns = int(input(\"Input columns: \"))\n",
    "matrix = [[0]*columns for row in range(rows)]\n",
    "print('Input number of elements in a row (1, 2, 3): ')\n",
    "for row in range(rows):\n",
    "    lines = list(map(int, input().split()))\n",
    "    for column in range(columns):\n",
    "        matrix[row][column] = lines[column]\n",
    "\n",
    "sum1 = [0]*columns\n",
    "print(\"sum for each column:\")\n",
    "for column in range(columns):\n",
    "    for row in range(rows):\n",
    "        sum1[column] += matrix[row][column]\n",
    "    print((sum1[column]), ' ', end = '')"
   ]
  },
  {
   "cell_type": "markdown",
   "metadata": {},
   "source": [
    "#### Q88. Write a Python program to read a square matrix from console and print the sum of matrix primary diagonal. Accept the size of the square matrix and elements for each column separated with a space (for every row) as input from the user. \n",
    "    Input the size of the matrix: 3\n",
    "    2 3 4\n",
    "    4 5 6\n",
    "    3 4 7\n",
    "    Sum of matrix primary diagonal:\n",
    "    14"
   ]
  },
  {
   "cell_type": "code",
   "execution_count": 9,
   "metadata": {},
   "outputs": [
    {
     "name": "stdout",
     "output_type": "stream",
     "text": [
      "Input the size of the matrix: 3\n",
      "1 2 3\n",
      "2 4 3\n",
      "4 5 6\n",
      "Sum of matrix primary diagonal:\n",
      "11\n"
     ]
    }
   ],
   "source": [
    "size = int(input(\"Input the size of the matrix: \"))\n",
    "matrix = [[0] * size for row in range(0, size)]\n",
    "for x in range(0, size):\n",
    "\n",
    "    line = list(map(int, input().split()))\n",
    "\n",
    "    for y in range(0, size):\n",
    "        matrix[x][y] = line[y]\n",
    "\n",
    "matrix_sum_diagonal = sum(matrix[size - i - 1][size - i - 1] for i in range(size))\n",
    "print(\"Sum of matrix primary diagonal:\")\n",
    "print(matrix_sum_diagonal)"
   ]
  },
  {
   "cell_type": "markdown",
   "metadata": {},
   "source": [
    "#### Q89. Write a Python program to Zip two given lists of lists. \n",
    "    Original lists:\n",
    "    [[1, 3], [5, 7], [9, 11]]\n",
    "    [[2, 4], [6, 8], [10, 12, 14]]\n",
    "    Zipped list:\n",
    "    [[1, 3, 2, 4], [5, 7, 6, 8], [9, 11, 10, 12, 14]]"
   ]
  },
  {
   "cell_type": "code",
   "execution_count": 10,
   "metadata": {},
   "outputs": [
    {
     "name": "stdout",
     "output_type": "stream",
     "text": [
      "Original lists:\n",
      "[[1, 3], [5, 7], [9, 11]]\n",
      "[[2, 4], [6, 8], [10, 12, 14]]\n",
      "\n",
      "Zipped list:\n",
      "[[1, 3, 2, 4], [5, 7, 6, 8], [9, 11, 10, 12, 14]]\n"
     ]
    }
   ],
   "source": [
    "list1 = [[1, 3], [5, 7], [9, 11]] \n",
    "list2 = [[2, 4], [6, 8], [10, 12, 14]]   \n",
    "print(\"Original lists:\")\n",
    "print(list1)\n",
    "print(list2)\n",
    "result = list(map(list.__add__, list1, list2)) \n",
    "print(\"\\nZipped list:\\n\" +  str(result))"
   ]
  },
  {
   "cell_type": "markdown",
   "metadata": {},
   "source": [
    "#### Q90. Write a Python program to count number of lists in a given list of lists. \n",
    "    Original list:\n",
    "    [[1, 3], [5, 7], [9, 11], [13, 15, 17]]\n",
    "    Number of lists in said list of lists:\n",
    "    4\n",
    "    Original list:\n",
    "    [[2, 4], [[6, 8], [4, 5, 8]], [10, 12, 14]]\n",
    "    Number of lists in said list of lists:\n",
    "    3"
   ]
  },
  {
   "cell_type": "code",
   "execution_count": 11,
   "metadata": {},
   "outputs": [
    {
     "name": "stdout",
     "output_type": "stream",
     "text": [
      "Original list:\n",
      "[[1, 3], [5, 7], [9, 11], [13, 15, 17]]\n",
      "\n",
      "Number of lists in said list of lists:\n",
      "4\n",
      "\n",
      "Original list:\n",
      "[[2, 4], [[6, 8], [4, 5, 8]], [10, 12, 14]]\n",
      "\n",
      "Number of lists in said list of lists:\n",
      "3\n"
     ]
    }
   ],
   "source": [
    "def count_list(input_list): \n",
    "    return len(input_list) \n",
    "      \n",
    "list1 = [[1, 3], [5, 7], [9, 11], [13, 15, 17]] \n",
    "list2 = [[2, 4], [[6,8], [4,5,8]], [10, 12, 14]]   \n",
    "print(\"Original list:\")\n",
    "print(list1)\n",
    "print(\"\\nNumber of lists in said list of lists:\")\n",
    "print(count_list(list1))\n",
    "print(\"\\nOriginal list:\")\n",
    "print(list2)\n",
    "print(\"\\nNumber of lists in said list of lists:\")\n",
    "print(count_list(list2))"
   ]
  },
  {
   "cell_type": "markdown",
   "metadata": {},
   "source": [
    "#### Q91. Write a Python program to find the list with maximum and minimum length. \n",
    "    Original list:\n",
    "    [[0], [1, 3], [5, 7], [9, 11], [13, 15, 17]]\n",
    "    List with maximum length of lists:\n",
    "    (3, [13, 15, 17])\n",
    "    List with minimum length of lists:\n",
    "    (1, [0])"
   ]
  },
  {
   "cell_type": "code",
   "execution_count": 12,
   "metadata": {},
   "outputs": [
    {
     "name": "stdout",
     "output_type": "stream",
     "text": [
      "Original list:\n",
      "[[0], [1, 3], [5, 7], [9, 11], [13, 15, 17]]\n",
      "\n",
      "List with maximum length of lists:\n",
      "(3, [13, 15, 17])\n",
      "\n",
      "List with minimum length of lists:\n",
      "(1, [0])\n"
     ]
    }
   ],
   "source": [
    "def max_length_list(input_list):\n",
    "    max_length = max(len(x) for x in input_list )  \n",
    "    max_list = max((x) for x in input_list)\n",
    "    return(max_length, max_list)\n",
    "    \n",
    "def min_length_list(input_list):\n",
    "    min_length = min(len(x) for x in input_list )  \n",
    "    min_list = min((x) for x in input_list)\n",
    "    return(min_length, min_list)\n",
    "      \n",
    "list1 = [[0], [1, 3], [5, 7], [9, 11], [13, 15, 17]]\n",
    "print(\"Original list:\")\n",
    "print(list1)\n",
    "print(\"\\nList with maximum length of lists:\")\n",
    "print(max_length_list(list1))\n",
    "print(\"\\nList with minimum length of lists:\")\n",
    "print(min_length_list(list1)) "
   ]
  },
  {
   "cell_type": "markdown",
   "metadata": {},
   "source": [
    "#### Q92. Write a Python program to check if a nested list is a subset of another nested list.\n",
    "    Original list:\n",
    "    [[1, 3], [5, 7], [9, 11], [13, 15, 17]]\n",
    "    [[1, 3], [13, 15, 17]]\n",
    "    If the one of the said list is a subset of another.:\n",
    "    True\n",
    "    Original list:\n",
    "    [[[1, 2], [2, 3]], [[3, 4], [5, 6]]]\n",
    "    [[[3, 4], [5, 6]]]\n",
    "    If the one of the said list is a subset of another.:\n",
    "    True\n",
    "    Original list:\n",
    "    [[[1, 2], [2, 3]], [[3, 4], [5, 7]]]\n",
    "    [[[3, 4], [5, 6]]]\n",
    "    If the one of the said list is a subset of another.:\n",
    "    False"
   ]
  },
  {
   "cell_type": "code",
   "execution_count": 13,
   "metadata": {},
   "outputs": [
    {
     "name": "stdout",
     "output_type": "stream",
     "text": [
      "Original list:\n",
      "[[1, 3], [5, 7], [9, 11], [13, 15, 17]]\n",
      "[[1, 3], [13, 15, 17]]\n",
      "\n",
      "If the one of the said list is a subset of another.:\n",
      "True\n",
      "Original list:\n",
      "[[[1, 2], [2, 3]], [[3, 4], [5, 6]]]\n",
      "[[[3, 4], [5, 6]]]\n",
      "\n",
      "If the one of the said list is a subset of another.:\n",
      "True\n",
      "Original list:\n",
      "[[[1, 2], [2, 3]], [[3, 4], [5, 7]]]\n",
      "[[[3, 4], [5, 6]]]\n",
      "\n",
      "If the one of the said list is a subset of another.:\n",
      "False\n"
     ]
    }
   ],
   "source": [
    "def checkSubset(input_list1, input_list2): \n",
    "    return all(map(input_list1.__contains__, input_list2)) \n",
    "      \n",
    "\n",
    "list1 = [[1, 3], [5, 7], [9, 11], [13, 15, 17]] \n",
    "list2 = [[1, 3],[13,15,17]]   \n",
    "print(\"Original list:\")\n",
    "print(list1)\n",
    "print(list2)\n",
    "print(\"\\nIf the one of the said list is a subset of another.:\")\n",
    "print(checkSubset(list1, list2)) \n",
    "\n",
    "list1 = [\n",
    "           [\n",
    "             [1,2],[2,3]\n",
    "           ],\n",
    "           [\n",
    "             [3,4],[5,6]\n",
    "           ]\n",
    "         ]\n",
    "list2 = [\n",
    "           [\n",
    "             [3,4], [5, 6]\n",
    "           ]\n",
    "         ]\n",
    "print(\"Original list:\")\n",
    "print(list1)\n",
    "print(list2)\n",
    "print(\"\\nIf the one of the said list is a subset of another.:\")\n",
    "print(checkSubset(list1, list2)) \n",
    "list1 = [\n",
    "           [\n",
    "             [1,2],[2,3]\n",
    "           ],\n",
    "           [\n",
    "             [3,4],[5,7]\n",
    "           ]\n",
    "         ]\n",
    "list2 = [\n",
    "           [\n",
    "             [3,4], [5, 6]\n",
    "           ]\n",
    "         ]\n",
    "print(\"Original list:\")\n",
    "print(list1)\n",
    "print(list2)\n",
    "print(\"\\nIf the one of the said list is a subset of another.:\")\n",
    "print(checkSubset(list1, list2))"
   ]
  },
  {
   "cell_type": "markdown",
   "metadata": {},
   "source": [
    "#### Q93. Write a Python program to count the number of sublists contain a particular element. \n",
    "    Original list:\n",
    "    [[1, 3], [5, 7], [1, 11], [1, 15, 7]]\n",
    "    Count 1 in the said list:\n",
    "    3\n",
    "    Count 7 in the said list:\n",
    "    2\n",
    "    Original list:\n",
    "    [['A', 'B'], ['A', 'C'], ['A', 'D', 'E'], ['B', 'C', 'D']]\n",
    "    Count 'A' in the said list:\n",
    "    3\n",
    "    Count 'E' in the said list:\n",
    "    1"
   ]
  },
  {
   "cell_type": "code",
   "execution_count": 14,
   "metadata": {},
   "outputs": [
    {
     "name": "stdout",
     "output_type": "stream",
     "text": [
      "Original list:\n",
      "[[1, 3], [5, 7], [1, 11], [1, 15, 7]]\n",
      "\n",
      "Count 1 in the said list:\n",
      "3\n",
      "\n",
      "Count 7 in the said list:\n",
      "2\n",
      "\n",
      "Original list:\n",
      "[['A', 'B'], ['A', 'C'], ['A', 'D', 'E'], ['B', 'C', 'D']]\n",
      "\n",
      "Count 'A' in the said list:\n",
      "3\n",
      "\n",
      "Count 'E' in the said list:\n",
      "1\n"
     ]
    }
   ],
   "source": [
    "def count_element_in_list(input_list, x): \n",
    "    ctr = 0\n",
    "    for i in range(len(input_list)): \n",
    "        if x in input_list[i]: \n",
    "            ctr+= 1\n",
    "          \n",
    "    return ctr\n",
    "      \n",
    "\n",
    "list1 = [[1, 3], [5, 7], [1, 11], [1, 15, 7]] \n",
    "print(\"Original list:\")\n",
    "print(list1)\n",
    "print(\"\\nCount 1 in the said list:\")\n",
    "print(count_element_in_list(list1, 1)) \n",
    "print(\"\\nCount 7 in the said list:\")\n",
    "print(count_element_in_list(list1, 7)) \n",
    "\n",
    "\n",
    "list1 = [['A', 'B'], ['A', 'C'], ['A', 'D', 'E'], ['B', 'C', 'D']] \n",
    "print(\"\\nOriginal list:\")\n",
    "print(list1)\n",
    "print(\"\\nCount 'A' in the said list:\")\n",
    "print(count_element_in_list(list1, 'A')) \n",
    "print(\"\\nCount 'E' in the said list:\")\n",
    "print(count_element_in_list(list1, 'E'))"
   ]
  },
  {
   "cell_type": "markdown",
   "metadata": {},
   "source": [
    "#### Q94. Write a Python program to count number of unique sublists within a given list. \n",
    "    Original list:\n",
    "    [[1, 3], [5, 7], [1, 3], [13, 15, 17], [5, 7], [9, 11]]\n",
    "    Number of unique lists of the said list:\n",
    "    {(1, 3): 2, (5, 7): 2, (13, 15, 17): 1, (9, 11): 1}\n",
    "    Original list:\n",
    "    [['green', 'orange'], ['black'], ['green', 'orange'], ['white']]\n",
    "    Number of unique lists of the said list:\n",
    "    {('green', 'orange'): 2, ('black',): 1, ('white',): 1}"
   ]
  },
  {
   "cell_type": "code",
   "execution_count": 15,
   "metadata": {},
   "outputs": [
    {
     "name": "stdout",
     "output_type": "stream",
     "text": [
      "Original list:\n",
      "[[1, 3], [5, 7], [1, 3], [13, 15, 17], [5, 7], [9, 11]]\n",
      "Number of unique lists of the said list:\n",
      "{(1, 3): 2, (5, 7): 2, (13, 15, 17): 1, (9, 11): 1}\n",
      "\n",
      "Original list:\n",
      "[['green', 'orange'], ['black'], ['green', 'orange'], ['white']]\n",
      "Number of unique lists of the said list:\n",
      "{('green', 'orange'): 2, ('black',): 1, ('white',): 1}\n"
     ]
    }
   ],
   "source": [
    "def unique_sublists(input_list):\n",
    "    result ={}\n",
    "    for l in input_list: \n",
    "        result.setdefault(tuple(l), list()).append(1) \n",
    "    for a, b in result.items(): \n",
    "        result[a] = sum(b)\n",
    "    return result\n",
    "\n",
    "list1 = [[1, 3], [5, 7], [1, 3], [13, 15, 17], [5, 7], [9, 11]] \n",
    "print(\"Original list:\")\n",
    "print(list1)  \n",
    "print(\"Number of unique lists of the said list:\")\n",
    "print(unique_sublists(list1)) \n",
    "\n",
    "color1 = [[\"green\", \"orange\"], [\"black\"], [\"green\", \"orange\"], [\"white\"]]\n",
    "print(\"\\nOriginal list:\")\n",
    "print(color1)  \n",
    "print(\"Number of unique lists of the said list:\")\n",
    "print(unique_sublists(color1))"
   ]
  },
  {
   "cell_type": "markdown",
   "metadata": {},
   "source": [
    "#### Q95. Write a Python program to sort each sublist of strings in a given list of lists. \n",
    "    Original list:\n",
    "    [[2], [0], [1, 3], [0, 7], [9, 11], [13, 15, 17]]\n",
    "    Sort the list of lists by length and value:\n",
    "    [[0], [2], [0, 7], [1, 3], [9, 11], [13, 15, 17]]"
   ]
  },
  {
   "cell_type": "code",
   "execution_count": 16,
   "metadata": {},
   "outputs": [
    {
     "name": "stdout",
     "output_type": "stream",
     "text": [
      "\n",
      "Original list:\n",
      "[['green', 'orange'], ['black', 'white'], ['white', 'black', 'orange']]\n",
      "\n",
      "After sorting each sublist of the said list of lists:\n",
      "[['green', 'orange'], ['black', 'white'], ['black', 'orange', 'white']]\n"
     ]
    }
   ],
   "source": [
    "def sort_sublists(input_list):\n",
    "    result = list(map(sorted, input_list)) \n",
    "    return result\n",
    "color1 = [[\"green\", \"orange\"], [\"black\", \"white\"], [\"white\", \"black\", \"orange\"]]\n",
    "print(\"\\nOriginal list:\")\n",
    "print(color1)  \n",
    "print(\"\\nAfter sorting each sublist of the said list of lists:\")\n",
    "print(sort_sublists(color1))"
   ]
  },
  {
   "cell_type": "markdown",
   "metadata": {},
   "source": [
    "#### Q96. Write a Python program to sort a given list of lists by length and value. Go to the editor\n",
    "    Original list:\n",
    "    [[2], [0], [1, 3], [0, 7], [9, 11], [13, 15, 17]]\n",
    "    Sort the list of lists by length and value:\n",
    "    [[0], [2], [0, 7], [1, 3], [9, 11], [13, 15, 17]]"
   ]
  },
  {
   "cell_type": "code",
   "execution_count": 17,
   "metadata": {},
   "outputs": [
    {
     "name": "stdout",
     "output_type": "stream",
     "text": [
      "Original list:\n",
      "[[2], [0], [1, 3], [0, 7], [9, 11], [13, 15, 17]]\n",
      "\n",
      "Sort the list of lists by length and value:\n",
      "[[0], [2], [0, 7], [1, 3], [9, 11], [13, 15, 17]]\n"
     ]
    }
   ],
   "source": [
    "def sort_sublists(input_list):\n",
    "    input_list.sort()  # sort by sublist contents\n",
    "    input_list.sort(key=len)\n",
    "    return input_list\n",
    "\n",
    "list1 = [[2], [0], [1, 3], [0, 7], [9, 11], [13, 15, 17]]\n",
    "print(\"Original list:\")\n",
    "print(list1)\n",
    "print(\"\\nSort the list of lists by length and value:\")\n",
    "print(sort_sublists(list1))"
   ]
  },
  {
   "cell_type": "markdown",
   "metadata": {},
   "source": [
    "#### Q97. Write a Python program to remove sublists from a given list of lists, which contains an element outside a given range.\n",
    "    Original list:\n",
    "    [[2], [0], [1, 2, 3], [0, 1, 2, 3, 6, 7], [9, 11], [13, 14, 15, 17]]\n",
    "    After removing sublists from a given list of lists, which contains an element outside the given range:\n",
    "    [[13, 14, 15, 17]]"
   ]
  },
  {
   "cell_type": "code",
   "execution_count": 18,
   "metadata": {},
   "outputs": [
    {
     "name": "stdout",
     "output_type": "stream",
     "text": [
      "Original list:\n",
      "[[2], [0], [1, 2, 3], [0, 1, 2, 3, 6, 7], [9, 11], [13, 14, 15, 17]]\n",
      "\n",
      "After removing sublists from a given list of lists, which contains an element outside the given range:\n",
      "[[13, 14, 15, 17]]\n"
     ]
    }
   ],
   "source": [
    "#Source bit.ly/33MAeHe\n",
    "def remove_list_range(input_list, left_range, rigth_range):\n",
    "   result = [i for i in input_list if (min(i)>=left_range and max(i)<=rigth_range)]\n",
    "   return result\n",
    "list1 = [[2], [0], [1, 2, 3], [0, 1, 2, 3, 6, 7], [9, 11], [13, 14, 15, 17]]\n",
    "left_range = 13\n",
    "rigth_range = 17\n",
    "print(\"Original list:\")\n",
    "print(list1)\n",
    "print(\"\\nAfter removing sublists from a given list of lists, which contains an element outside the given range:\")\n",
    "print(remove_list_range(list1, left_range, rigth_range))"
   ]
  },
  {
   "cell_type": "markdown",
   "metadata": {},
   "source": [
    "#### Q98. Write a Python program to scramble the letters of string in a given list. \n",
    "    Original list:\n",
    "    ['Python', 'list', 'exercises', 'practice', 'solution']\n",
    "    After scrambling the letters of the strings of the said list:\n",
    "    ['tnPhyo', 'tlis', 'ecrsseiex', 'ccpitear', 'noiltuos']"
   ]
  },
  {
   "cell_type": "code",
   "execution_count": 20,
   "metadata": {},
   "outputs": [
    {
     "name": "stdout",
     "output_type": "stream",
     "text": [
      "Original list:\n",
      "['Python', 'list', 'exercises', 'practice', 'solution']\n",
      "\n",
      "After scrambling the letters of the strings of the said list:\n",
      "['oyhPnt', 'istl', 'ersecexsi', 'ertaccpi', 'stnloiou']\n"
     ]
    }
   ],
   "source": [
    "from random import shuffle\n",
    "\n",
    "def shuffle_word(text_list):\n",
    "    text_list = list(text_list)\n",
    "    shuffle(text_list)\n",
    "    return ''.join(text_list)\n",
    "\n",
    "text_list = ['Python', 'list', 'exercises', 'practice', 'solution'] \n",
    "print(\"Original list:\")\n",
    "print(text_list)\n",
    "print(\"\\nAfter scrambling the letters of the strings of the said list:\")\n",
    "result =  [shuffle_word(word) for word in text_list]\n",
    "print(result) "
   ]
  },
  {
   "cell_type": "markdown",
   "metadata": {},
   "source": [
    "#### Q99. Write a Python program to find the maximum and minimum values in a given heterogeneous list. \n",
    "    Original list:\n",
    "    ['Python', 3, 2, 4, 5, 'version']\n",
    "    Maximum and Minimum values in the said list:\n",
    "    (5, 2)"
   ]
  },
  {
   "cell_type": "code",
   "execution_count": 21,
   "metadata": {},
   "outputs": [
    {
     "name": "stdout",
     "output_type": "stream",
     "text": [
      "Original list:\n",
      "['Python', 3, 2, 4, 5, 'version']\n",
      "\n",
      "Maximum and Minimum values in the said list:\n",
      "(5, 2)\n"
     ]
    }
   ],
   "source": [
    "def max_min_val(list_val):\n",
    "     max_val = max(i for i in list_val if isinstance(i, int)) \n",
    "     min_val = min(i for i in list_val if isinstance(i, int))\n",
    "     return(max_val, min_val)\n",
    "\n",
    "list_val = ['Python', 3, 2, 4, 5, 'version'] \n",
    "print(\"Original list:\")\n",
    "print(list_val)\n",
    "print(\"\\nMaximum and Minimum values in the said list:\")\n",
    "print(max_min_val(list_val))"
   ]
  },
  {
   "cell_type": "markdown",
   "metadata": {},
   "source": [
    "#### Q100. Write a Python program to extract common index elements from more than one given list. \n",
    "    Original lists:\n",
    "    [1, 1, 3, 4, 5, 6, 7]\n",
    "    [0, 1, 2, 3, 4, 5, 7]\n",
    "    [0, 1, 2, 3, 4, 5, 7]\n",
    "    Common index elements of the said lists:\n",
    "    [1, 7]"
   ]
  },
  {
   "cell_type": "code",
   "execution_count": 22,
   "metadata": {},
   "outputs": [
    {
     "name": "stdout",
     "output_type": "stream",
     "text": [
      "Original lists:\n",
      "[1, 1, 3, 4, 5, 6, 7]\n",
      "[0, 1, 2, 3, 4, 5, 7]\n",
      "[0, 1, 2, 3, 4, 5, 7]\n",
      "\n",
      "Common index elements of the said lists:\n",
      "[1, 7]\n"
     ]
    }
   ],
   "source": [
    "def extract_index_ele(l1, l2, l3):\n",
    "    result = []\n",
    "    for m, n, o in zip(l1, l2, l3):\n",
    "        if (m == n == o):\n",
    "            result.append(m)\n",
    "    return result\n",
    "\n",
    "nums1 = [1, 1, 3, 4, 5, 6, 7]\n",
    "nums2 = [0, 1, 2, 3, 4, 5, 7]\n",
    "nums3 = [0, 1, 2, 3, 4, 5, 7]\n",
    "\n",
    "print(\"Original lists:\")\n",
    "print(nums1)\n",
    "print(nums2)\n",
    "print(nums3)\n",
    "print(\"\\nCommon index elements of the said lists:\") \n",
    "print(extract_index_ele(nums1, nums2, nums3))"
   ]
  },
  {
   "cell_type": "markdown",
   "metadata": {},
   "source": [
    "#### Q101. Write a Python program to sort a given matrix in ascending order according to the sum of its rows. \n",
    "    Original Matrix:\n",
    "    [[1, 2, 3], [2, 4, 5], [1, 1, 1]]\n",
    "    Sort the said matrix in ascending order according to the sum of its rows\n",
    "    [[1, 1, 1], [1, 2, 3], [2, 4, 5]]\n",
    "    Original Matrix:\n",
    "    [[1, 2, 3], [-2, 4, -5], [1, -1, 1]]\n",
    "    Sort the said matrix in ascending order according to the sum of its rows\n",
    "    [[-2, 4, -5], [1, -1, 1], [1, 2, 3]]"
   ]
  },
  {
   "cell_type": "code",
   "execution_count": 23,
   "metadata": {},
   "outputs": [
    {
     "name": "stdout",
     "output_type": "stream",
     "text": [
      "Original Matrix:\n",
      "[[1, 2, 3], [2, 4, 5], [1, 1, 1]]\n",
      "\n",
      "Sort the said matrix in ascending order according to the sum of its rows\n",
      "[[1, 1, 1], [1, 2, 3], [2, 4, 5]]\n",
      "\n",
      "Original Matrix:\n",
      "[[1, 2, 3], [-2, 4, -5], [1, -1, 1]]\n",
      "\n",
      "Sort the said matrix in ascending order according to the sum of its rows\n",
      "[[-2, 4, -5], [1, -1, 1], [1, 2, 3]]\n"
     ]
    }
   ],
   "source": [
    "def sort_matrix(M):\n",
    "    result = sorted(M, key=sum)\n",
    "    return result\n",
    "\n",
    "matrix1 = [[1, 2, 3], [2, 4, 5], [1, 1, 1]]\n",
    "matrix2 = [[1, 2, 3], [-2, 4, -5], [1, -1, 1]]\n",
    "\n",
    "print(\"Original Matrix:\")\n",
    "print(matrix1)\n",
    "print(\"\\nSort the said matrix in ascending order according to the sum of its rows\") \n",
    "print(sort_matrix(matrix1))\n",
    "print(\"\\nOriginal Matrix:\")\n",
    "print(matrix2) \n",
    "print(\"\\nSort the said matrix in ascending order according to the sum of its rows\") \n",
    "print(sort_matrix(matrix2))\n"
   ]
  },
  {
   "cell_type": "markdown",
   "metadata": {},
   "source": [
    "#### Q102. Write a Python program to extract specified size of strings from a give list of string values.\n",
    "    Original list:\n",
    "    ['Python', 'list', 'exercises', 'practice', 'solution']\n",
    "    length of the string to extract:\n",
    "    8\n",
    "    After extracting strings of specified length from the said list:\n",
    "    ['practice', 'solution']"
   ]
  },
  {
   "cell_type": "code",
   "execution_count": 24,
   "metadata": {},
   "outputs": [
    {
     "name": "stdout",
     "output_type": "stream",
     "text": [
      "Original list:\n",
      "['Python', 'list', 'exercises', 'practice', 'solution']\n",
      "\n",
      "length of the string to extract:\n",
      "8\n",
      "\n",
      "After extracting strings of specified length from the said list:\n",
      "['practice', 'solution']\n"
     ]
    }
   ],
   "source": [
    "def extract_string(str_list1, l):\n",
    "    result = [e for e in str_list1 if len(e) == l] \n",
    "    return result\n",
    "\n",
    "str_list1 = ['Python', 'list', 'exercises', 'practice', 'solution'] \n",
    "print(\"Original list:\")\n",
    "print(str_list1)\n",
    "l = 8\n",
    "print(\"\\nlength of the string to extract:\")\n",
    "print(l)\n",
    "print(\"\\nAfter extracting strings of specified length from the said list:\") \n",
    "print(extract_string(str_list1 , l))"
   ]
  },
  {
   "cell_type": "markdown",
   "metadata": {},
   "source": [
    "#### َ103. Write a Python program to extract specified number of elements from a given list, which follows each other continuously. \n",
    "    Original list:\n",
    "    [1, 1, 3, 4, 4, 5, 6, 7]\n",
    "    Extract 2 number of elements from the said list which follows each other continuously:\n",
    "    [1, 4]\n",
    "    Original lists:\n",
    "    [0, 1, 2, 3, 4, 4, 4, 4, 5, 7]\n",
    "    Extract 4 number of elements from the said list which follows each other continuously:\n",
    "    [4]"
   ]
  },
  {
   "cell_type": "code",
   "execution_count": 25,
   "metadata": {},
   "outputs": [
    {
     "name": "stdout",
     "output_type": "stream",
     "text": [
      "Original list:\n",
      "[1, 1, 3, 4, 4, 5, 6, 7]\n",
      "Extract 2 number of elements from the said list which follows each other continuously:\n",
      "[1, 4]\n",
      "Original lists:\n",
      "[0, 1, 2, 3, 4, 4, 4, 4, 5, 7]\n",
      "Extract 4 number of elements from the said list which follows each other continuously:\n",
      "[4]\n"
     ]
    }
   ],
   "source": [
    "from itertools import groupby \n",
    "\n",
    "def extract_elements(nums, n):\n",
    "    result = [i for i, j in groupby(nums) if len(list(j)) == n] \n",
    "    return result\n",
    "\n",
    "nums1 = [1, 1, 3, 4, 4, 5, 6, 7]\n",
    "n = 2\n",
    "print(\"Original list:\")\n",
    "print(nums1)\n",
    "print(\"Extract 2 number of elements from the said list which follows each other continuously:\") \n",
    "print(extract_elements(nums1, n))\n",
    "nums2 = [0, 1, 2, 3, 4, 4, 4, 4, 5, 7]\n",
    "n = 4\n",
    "print(\"Original lists:\")\n",
    "print(nums2)\n",
    "print(\"Extract 4 number of elements from the said list which follows each other continuously:\") \n",
    "print(extract_elements(nums2, n))"
   ]
  },
  {
   "cell_type": "markdown",
   "metadata": {},
   "source": [
    "#### Q104. Write a Python program to find the difference between consecutive numbers in a given list.\n",
    "    Original list:\n",
    "    [1, 1, 3, 4, 4, 5, 6, 7]\n",
    "    Difference between consecutive numbers of the said list:\n",
    "    [0, 2, 1, 0, 1, 1, 1]\n",
    "    Original list:\n",
    "    [4, 5, 8, 9, 6, 10]\n",
    "    Difference between consecutive numbers of the said list:\n",
    "    [1, 3, 1, -3, 4]"
   ]
  },
  {
   "cell_type": "code",
   "execution_count": 26,
   "metadata": {},
   "outputs": [
    {
     "name": "stdout",
     "output_type": "stream",
     "text": [
      "Original list:\n",
      "[1, 1, 3, 4, 4, 5, 6, 7]\n",
      "Difference between consecutive numbers of the said list:\n",
      "[0, 2, 1, 0, 1, 1, 1]\n",
      "\n",
      "Original list:\n",
      "[4, 5, 8, 9, 6, 10]\n",
      "Difference between consecutive numbers of the said list:\n",
      "[1, 3, 1, -3, 4]\n"
     ]
    }
   ],
   "source": [
    "def diff_consecutive_nums(nums):\n",
    "    result = [b-a for a, b in zip(nums[:-1], nums[1:])]\n",
    "    return result\n",
    "\n",
    "nums1 = [1, 1, 3, 4, 4, 5, 6, 7]\n",
    "print(\"Original list:\")\n",
    "print(nums1)\n",
    "print(\"Difference between consecutive numbers of the said list:\") \n",
    "print(diff_consecutive_nums(nums1))\n",
    "\n",
    "nums2 = [4, 5, 8, 9, 6, 10]\n",
    "print(\"\\nOriginal list:\")\n",
    "print(nums2)\n",
    "print(\"Difference between consecutive numbers of the said list:\") \n",
    "print(diff_consecutive_nums(nums2))"
   ]
  },
  {
   "cell_type": "markdown",
   "metadata": {},
   "source": [
    "#### Q105. Write a Python program to compute average of two given lists. \n",
    "    Original list:\n",
    "    [1, 1, 3, 4, 4, 5, 6, 7]\n",
    "    [0, 1, 2, 3, 4, 4, 5, 7, 8]\n",
    "    Average of two lists:\n",
    "    3.823529411764706"
   ]
  },
  {
   "cell_type": "code",
   "execution_count": 27,
   "metadata": {},
   "outputs": [
    {
     "name": "stdout",
     "output_type": "stream",
     "text": [
      "Original list:\n",
      "[1, 1, 3, 4, 4, 5, 6, 7]\n",
      "[0, 1, 2, 3, 4, 4, 5, 7, 8]\n",
      "\n",
      "Average of two lists:\n",
      "3.823529411764706\n"
     ]
    }
   ],
   "source": [
    "def average_two_lists(nums1, nums2):\n",
    "    result = sum(nums1 + nums2) / len(nums1 + nums2) \n",
    "    return result\n",
    "\n",
    "nums1 = [1, 1, 3, 4, 4, 5, 6, 7]\n",
    "nums2 = [0, 1, 2, 3, 4, 4, 5, 7, 8]\n",
    "print(\"Original list:\")\n",
    "print(nums1)\n",
    "print(nums2)\n",
    "\n",
    "print(\"\\nAverage of two lists:\")\n",
    "print(average_two_lists(nums1, nums2))"
   ]
  },
  {
   "cell_type": "markdown",
   "metadata": {},
   "source": [
    "#### Q106. Write a Python program to count integer in a given mixed list. \n",
    "    Original list:\n",
    "    [1, 'abcd', 3, 1.2, 4, 'xyz', 5, 'pqr', 7, -5, -12.22]\n",
    "    Number of integers in the said mixed list:\n",
    "    6"
   ]
  },
  {
   "cell_type": "code",
   "execution_count": 28,
   "metadata": {},
   "outputs": [
    {
     "name": "stdout",
     "output_type": "stream",
     "text": [
      "Original list:\n",
      "[1, 'abcd', 3, 1.2, 4, 'xyz', 5, 'pqr', 7, -5, -12.22]\n",
      "\n",
      "Number of integers in the said mixed list:\n",
      "6\n"
     ]
    }
   ],
   "source": [
    "def count_integer(list1):\n",
    "    ctr = 0\n",
    "    for i in list1:\n",
    "        if isinstance(i, int):\n",
    "            ctr = ctr + 1\n",
    "    return ctr\n",
    "\n",
    "list1 = [1, 'abcd', 3, 1.2, 4, 'xyz', 5, 'pqr', 7, -5, -12.22]\n",
    "\n",
    "print(\"Original list:\")\n",
    "print(list1)\n",
    "\n",
    "print(\"\\nNumber of integers in the said mixed list:\")\n",
    "print(count_integer(list1))"
   ]
  },
  {
   "cell_type": "markdown",
   "metadata": {},
   "source": [
    "#### Q107. Write a Python program to remove a specified column from a given nested list. \n",
    "    Original Nested list:\n",
    "    [[1, 2, 3], [2, 4, 5], [1, 1, 1]]\n",
    "    After removing 1st column:\n",
    "    [[2, 3], [4, 5], [1, 1]]\n",
    "    Original Nested list:\n",
    "    [[1, 2, 3], [-2, 4, -5], [1, -1, 1]]\n",
    "    After removing 3rd column:\n",
    "    [[1, 2], [-2, 4], [1, -1]]"
   ]
  },
  {
   "cell_type": "code",
   "execution_count": 29,
   "metadata": {},
   "outputs": [
    {
     "name": "stdout",
     "output_type": "stream",
     "text": [
      "Original Nested list:\n",
      "[[1, 2, 3], [2, 4, 5], [1, 1, 1]]\n",
      "After removing 1st column:\n",
      "[[2, 3], [4, 5], [1, 1]]\n",
      "\n",
      "Original Nested list:\n",
      "[[1, 2, 3], [-2, 4, -5], [1, -1, 1]]\n",
      "After removing 3rd column:\n",
      "[[1, 2], [-2, 4], [1, -1]]\n"
     ]
    }
   ],
   "source": [
    "def remove_column(nums, n):\n",
    "    for i in nums: \n",
    "        del i[n] \n",
    "    return nums\n",
    "\n",
    "list1 = [[1, 2, 3], [2, 4, 5], [1, 1, 1]]\n",
    "n = 0\n",
    "print(\"Original Nested list:\")\n",
    "print(list1)\n",
    "print(\"After removing 1st column:\")\n",
    "print(remove_column(list1, n))\n",
    "\n",
    "list2 = [[1, 2, 3], [-2, 4, -5], [1, -1, 1]]\n",
    "n = 2\n",
    "print(\"\\nOriginal Nested list:\")\n",
    "print(list2)\n",
    "print(\"After removing 3rd column:\")\n",
    "print(remove_column(list2, n))"
   ]
  },
  {
   "cell_type": "markdown",
   "metadata": {},
   "source": [
    "#### Q108. Write a Python program to extract a specified column from a given nested list. \n",
    "    Original Nested list:\n",
    "    [[1, 2, 3], [2, 4, 5], [1, 1, 1]]\n",
    "    Extract 1st column:\n",
    "    [1, 2, 1]\n",
    "    Original Nested list:\n",
    "    [[1, 2, 3], [-2, 4, -5], [1, -1, 1]]\n",
    "    Extract 3rd column:\n",
    "    [3, -5, 1]"
   ]
  },
  {
   "cell_type": "code",
   "execution_count": 30,
   "metadata": {},
   "outputs": [
    {
     "name": "stdout",
     "output_type": "stream",
     "text": [
      "Original Nested list:\n",
      "[[1, 2, 3], [2, 4, 5], [1, 1, 1]]\n",
      "Extract 1st column:\n",
      "[1, 2, 1]\n",
      "\n",
      "Original Nested list:\n",
      "[[1, 2, 3], [-2, 4, -5], [1, -1, 1]]\n",
      "Extract 3rd column:\n",
      "[3, -5, 1]\n"
     ]
    }
   ],
   "source": [
    "def remove_column(nums, n):\n",
    "    result = [i.pop(n) for i in nums]\n",
    "    return result \n",
    "\n",
    "list1 = [[1, 2, 3], [2, 4, 5], [1, 1, 1]]\n",
    "n = 0\n",
    "print(\"Original Nested list:\")\n",
    "print(list1)\n",
    "print(\"Extract 1st column:\")\n",
    "print(remove_column(list1, n))\n",
    "\n",
    "list2 = [[1, 2, 3], [-2, 4, -5], [1, -1, 1]]\n",
    "n = 2\n",
    "print(\"\\nOriginal Nested list:\")\n",
    "print(list2)\n",
    "print(\"Extract 3rd column:\")\n",
    "print(remove_column(list2, n))"
   ]
  },
  {
   "cell_type": "markdown",
   "metadata": {},
   "source": [
    "#### Q109. Write a Python program to rotate a given list by specified number of items to the right or left direction. \n",
    "    original List:\n",
    "    [1, 2, 3, 4, 5, 6, 7, 8, 9, 10]\n",
    "    Rotate the said list in left direction by 4:\n",
    "    [4, 5, 6, 7, 8, 9, 10, 1, 2, 3, 4]\n",
    "    Rotate the said list in left direction by 2:\n",
    "    [3, 4, 5, 6, 7, 8, 9, 10, 1, 2]\n",
    "    Rotate the said list in Right direction by 4:\n",
    "    [8, 9, 10, 1, 2, 3, 4, 5, 6]\n",
    "    Rotate the said list in Right direction by 2:\n",
    "    [9, 10, 1, 2, 3, 4, 5, 6, 7, 8]"
   ]
  },
  {
   "cell_type": "code",
   "execution_count": 31,
   "metadata": {},
   "outputs": [
    {
     "name": "stdout",
     "output_type": "stream",
     "text": [
      "original List:\n",
      "[1, 2, 3, 4, 5, 6, 7, 8, 9, 10]\n",
      "\n",
      "Rotate the said list in left direction by 4:\n",
      "[4, 5, 6, 7, 8, 9, 10, 1, 2, 3, 4]\n",
      "\n",
      "Rotate the said list in left direction by 2:\n",
      "[3, 4, 5, 6, 7, 8, 9, 10, 1, 2]\n",
      "\n",
      "Rotate the said list in Right direction by 4:\n",
      "[8, 9, 10, 1, 2, 3, 4, 5, 6]\n",
      "\n",
      "Rotate the said list in Right direction by 2:\n",
      "[9, 10, 1, 2, 3, 4, 5, 6, 7, 8]\n"
     ]
    }
   ],
   "source": [
    "nums1 = [1, 2, 3, 4, 5, 6, 7, 8, 9, 10]\n",
    "print(\"original List:\")\n",
    "print(nums1)\n",
    "print(\"\\nRotate the said list in left direction by 4:\")\n",
    "result = nums1[3:] + nums1[:4]\n",
    "print(result)\n",
    "print(\"\\nRotate the said list in left direction by 2:\")\n",
    "result = nums1[2:] + nums1[:2]\n",
    "print(result)\n",
    "print(\"\\nRotate the said list in Right direction by 4:\")\n",
    "result = nums1[-3:] + nums1[:-4]\n",
    "print(result)\n",
    "print(\"\\nRotate the said list in Right direction by 2:\")\n",
    "result = nums1[-2:] + nums1[:-2]\n",
    "print(result)"
   ]
  },
  {
   "cell_type": "markdown",
   "metadata": {},
   "source": [
    "#### Q110. Write a Python program to find the item with maximum occurrences in a given list. \n",
    "    Original list:\n",
    "    [2, 3, 8, 4, 7, 9, 8, 2, 6, 5, 1, 6, 1, 2, 3, 4, 6, 9, 1, 2]\n",
    "    Item with maximum occurrences of the said list:\n",
    "    2"
   ]
  },
  {
   "cell_type": "code",
   "execution_count": 32,
   "metadata": {},
   "outputs": [
    {
     "name": "stdout",
     "output_type": "stream",
     "text": [
      "Original list:\n",
      "[2, 3, 8, 4, 7, 9, 8, 2, 6, 5, 1, 6, 1, 2, 3, 4, 6, 9, 1, 2]\n",
      "\n",
      "Item with maximum occurrences of the said list:\n",
      "2\n"
     ]
    }
   ],
   "source": [
    "def max_occurrences(nums):\n",
    "    max_val = 0\n",
    "    result = nums[0] \n",
    "    for i in nums:\n",
    "        occu = nums.count(i)\n",
    "        if occu > max_val:\n",
    "            max_val = occu\n",
    "            result = i \n",
    "    return result\n",
    "\n",
    "nums = [2,3,8,4,7,9,8,2,6,5,1,6,1,2,3,4,6,9,1,2]\n",
    "print (\"Original list:\")\n",
    "print(nums)\n",
    "print(\"\\nItem with maximum occurrences of the said list:\")\n",
    "print(max_occurrences(nums))"
   ]
  },
  {
   "cell_type": "markdown",
   "metadata": {},
   "source": [
    "#### Q111. Write a Python program to access multiple elements of specified index from a given list. \n",
    "    Original list:\n",
    "    [2, 3, 8, 4, 7, 9, 8, 2, 6, 5, 1, 6, 1, 2, 3, 4, 6, 9, 1, 2]\n",
    "    Index list:\n",
    "    [0, 3, 5, 7, 10]\n",
    "    Items with specified index of the said list:\n",
    "    [2, 4, 9, 2, 1]"
   ]
  },
  {
   "cell_type": "code",
   "execution_count": 33,
   "metadata": {},
   "outputs": [
    {
     "name": "stdout",
     "output_type": "stream",
     "text": [
      "Original list:\n",
      "[2, 3, 8, 4, 7, 9, 8, 2, 6, 5, 1, 6, 1, 2, 3, 4, 6, 9, 1, 2]\n",
      "Index list:\n",
      "[0, 3, 5, 7, 10]\n",
      "\n",
      "Items with specified index of the said list:\n",
      "[2, 4, 9, 2, 1]\n"
     ]
    }
   ],
   "source": [
    "def access_elements(nums, list_index):\n",
    "    result = [nums[i] for i in list_index]\n",
    "    return result\n",
    "\n",
    "\n",
    "nums = [2,3,8,4,7,9,8,2,6,5,1,6,1,2,3,4,6,9,1,2]\n",
    "print (\"Original list:\")\n",
    "print(nums)\n",
    "list_index = [0,3,5,7,10]\n",
    "print(\"Index list:\")\n",
    "print(list_index)\n",
    "print(\"\\nItems with specified index of the said list:\")\n",
    "print(access_elements(nums, list_index))"
   ]
  },
  {
   "cell_type": "markdown",
   "metadata": {},
   "source": [
    "#### Q112. Write a Python program to check whether a specified list is sorted or not.\n",
    "    Original list:\n",
    "    [1, 2, 4, 6, 8, 10, 12, 14, 16, 17]\n",
    "    Is the said list is sorted!\n",
    "    True\n",
    "    Original list:\n",
    "    [1, 2, 4, 6, 8, 10, 12, 14, 16, 17]\n",
    "    Is the said list is sorted!\n",
    "    False"
   ]
  },
  {
   "cell_type": "code",
   "execution_count": 34,
   "metadata": {},
   "outputs": [
    {
     "name": "stdout",
     "output_type": "stream",
     "text": [
      "Original list:\n",
      "[1, 2, 4, 6, 8, 10, 12, 14, 16, 17]\n",
      "\n",
      "Is the said list is sorted!\n",
      "True\n",
      "\n",
      "Original list:\n",
      "[1, 2, 4, 6, 8, 10, 12, 14, 16, 17]\n",
      "\n",
      "Is the said list is sorted!\n",
      "False\n"
     ]
    }
   ],
   "source": [
    "def is_sort_list(nums):\n",
    "    result = all(nums[i] <= nums[i+1] for i in range(len(nums)-1))\n",
    "    return result\n",
    "\n",
    "nums1 = [1,2,4,6,8,10,12,14,16,17]\n",
    "print (\"Original list:\")\n",
    "print(nums1)\n",
    "print(\"\\nIs the said list is sorted!\")\n",
    "print(is_sort_list(nums1)) \n",
    "\n",
    "nums2 = [2,3,8,4,7,9,8,2,6,5,1,6,1,2,3,4,6,9,1,2]\n",
    "print (\"\\nOriginal list:\")\n",
    "print(nums1)\n",
    "print(\"\\nIs the said list is sorted!\")\n",
    "print(is_sort_list(nums2))"
   ]
  },
  {
   "cell_type": "markdown",
   "metadata": {},
   "source": [
    "#### Q113. Write a Python program to remove duplicate dictionary from a given list. \n",
    "    Original list with duplicate dictionary:\n",
    "    [{'Green': '#008000'}, {'Black': '#000000'}, {'Blue': '#0000FF'}, {'Green': '#008000'}]\n",
    "    After removing duplicate dictionary of the said list:\n",
    "    [{'Black': '#000000'}, {'Blue': '#0000FF'}, {'Green': '#008000'}]"
   ]
  },
  {
   "cell_type": "code",
   "execution_count": 35,
   "metadata": {},
   "outputs": [
    {
     "name": "stdout",
     "output_type": "stream",
     "text": [
      "Original list with duplicate dictionary:\n",
      "[{'Green': '#008000'}, {'Black': '#000000'}, {'Blue': '#0000FF'}, {'Green': '#008000'}]\n",
      "\n",
      "After removing duplicate dictionary of the said list:\n",
      "[{'Black': '#000000'}, {'Blue': '#0000FF'}, {'Green': '#008000'}]\n"
     ]
    }
   ],
   "source": [
    "def remove_duplicate_dictionary(list_color):\n",
    "    result = [dict(e) for e in {tuple(d.items()) for d in list_color}]\n",
    "    return result\n",
    "\n",
    "list_color = [{'Green': '#008000'}, {'Black': '#000000'}, {'Blue': '#0000FF'}, {'Green': '#008000'}]\n",
    "print (\"Original list with duplicate dictionary:\")\n",
    "print(list_color)\n",
    "print(\"\\nAfter removing duplicate dictionary of the said list:\")\n",
    "print(remove_duplicate_dictionary(list_color))"
   ]
  },
  {
   "cell_type": "markdown",
   "metadata": {},
   "source": [
    "#### Q114. Write a Python program to extract the nth element from a given list of tuples. \n",
    "    Original list:\n",
    "    [('Greyson Fulton', 98, 99), ('Brady Kent', 97, 96), ('Wyatt Knott', 91, 94), ('Beau Turnbull', 94, 98)]\n",
    "    Extract nth element ( n = 0 ) from the said list of tuples:\n",
    "    ['Greyson Fulton', 'Brady Kent', 'Wyatt Knott', 'Beau Turnbull']\n",
    "    Extract nth element ( n = 2 ) from the said list of tuples:\n",
    "    [99, 96, 94, 98]"
   ]
  },
  {
   "cell_type": "code",
   "execution_count": 36,
   "metadata": {},
   "outputs": [
    {
     "name": "stdout",
     "output_type": "stream",
     "text": [
      "Original list:\n",
      "[('Greyson Fulton', 98, 99), ('Brady Kent', 97, 96), ('Wyatt Knott', 91, 94), ('Beau Turnbull', 94, 98)]\n",
      "\n",
      "Extract nth element ( n = 0 ) from the said list of tuples:\n",
      "['Greyson Fulton', 'Brady Kent', 'Wyatt Knott', 'Beau Turnbull']\n",
      "\n",
      "Extract nth element ( n = 2 ) from the said list of tuples:\n",
      "[99, 96, 94, 98]\n"
     ]
    }
   ],
   "source": [
    "def extract_nth_element(test_list, n):\n",
    "    result = [x[n] for x in test_list]\n",
    "    return result\n",
    "\n",
    "students = [('Greyson Fulton', 98, 99), ('Brady Kent', 97, 96), ('Wyatt Knott', 91, 94), ('Beau Turnbull', 94, 98)] \n",
    "print (\"Original list:\")\n",
    "print(students)\n",
    "n = 0\n",
    "print(\"\\nExtract nth element ( n =\",n,\") from the said list of tuples:\")\n",
    "print(extract_nth_element(students, n))\n",
    "\n",
    "n = 2\n",
    "print(\"\\nExtract nth element ( n =\",n,\") from the said list of tuples:\")\n",
    "print(extract_nth_element(students, n))"
   ]
  },
  {
   "cell_type": "markdown",
   "metadata": {},
   "source": [
    "#### Q115. Write a Python program to check if the elements of a given list are unique or not. \n",
    "    Original list:\n",
    "    [1, 2, 4, 6, 8, 2, 1, 4, 10, 12, 14, 12, 16, 17]\n",
    "    Is the said list contains all unique elements!\n",
    "    False\n",
    "    Original list:\n",
    "    [2, 4, 6, 8, 10, 12, 14]\n",
    "    Is the said list contains all unique elements!\n",
    "    True"
   ]
  },
  {
   "cell_type": "code",
   "execution_count": 37,
   "metadata": {},
   "outputs": [
    {
     "name": "stdout",
     "output_type": "stream",
     "text": [
      "Original list:\n",
      "[1, 2, 4, 6, 8, 2, 1, 4, 10, 12, 14, 12, 16, 17]\n",
      "\n",
      "Is the said list contains all unique elements!\n",
      "False\n",
      "\n",
      "Original list:\n",
      "[2, 4, 6, 8, 10, 12, 14]\n",
      "\n",
      "Is the said list contains all unique elements!\n",
      "True\n"
     ]
    }
   ],
   "source": [
    "def all_unique(test_list):\n",
    "    if len(test_list) > len(set(test_list)):\n",
    "        return False\n",
    "    return True\n",
    "\n",
    "nums1 = [1,2,4,6,8,2,1,4,10,12,14,12,16,17]\n",
    "print (\"Original list:\")\n",
    "print(nums1)\n",
    "print(\"\\nIs the said list contains all unique elements!\")\n",
    "print(all_unique(nums1)) \n",
    "\n",
    "nums2 = [2,4,6,8,10,12,14]\n",
    "print (\"\\nOriginal list:\")\n",
    "print(nums2)\n",
    "print(\"\\nIs the said list contains all unique elements!\")\n",
    "print(all_unique(nums2))"
   ]
  },
  {
   "cell_type": "markdown",
   "metadata": {},
   "source": [
    "#### Q116. Write a Python program to sort a list of lists by a given index of the inner list. \n",
    "    Original list:\n",
    "    [('Greyson Fulton', 98, 99), ('Brady Kent', 97, 96), ('Wyatt Knott', 91, 94), ('Beau Turnbull', 94, 98)]\n",
    "    Sort the said list of lists by a given index ( Index = 0 ) of the inner list\n",
    "    [('Beau Turnbull', 94, 98), ('Brady Kent', 97, 96), ('Greyson Fulton', 98, 99), ('Wyatt Knott', 91, 94)]\n",
    "    Sort the said list of lists by a given index ( Index = 2 ) of the inner list\n",
    "    [('Wyatt Knott', 91, 94), ('Brady Kent', 97, 96), ('Beau Turnbull', 94, 98), ('Greyson Fulton', 98, 99)]\n"
   ]
  },
  {
   "cell_type": "code",
   "execution_count": 38,
   "metadata": {},
   "outputs": [
    {
     "name": "stdout",
     "output_type": "stream",
     "text": [
      "Original list:\n",
      "[('Greyson Fulton', 98, 99), ('Brady Kent', 97, 96), ('Wyatt Knott', 91, 94), ('Beau Turnbull', 94, 98)]\n",
      "\n",
      "Sort the said list of lists by a given index ( Index =  0 ) of the inner list\n",
      "[('Beau Turnbull', 94, 98), ('Brady Kent', 97, 96), ('Greyson Fulton', 98, 99), ('Wyatt Knott', 91, 94)]\n",
      "\n",
      "Sort the said list of lists by a given index ( Index =  2 ) of the inner list\n",
      "[('Wyatt Knott', 91, 94), ('Brady Kent', 97, 96), ('Beau Turnbull', 94, 98), ('Greyson Fulton', 98, 99)]\n"
     ]
    }
   ],
   "source": [
    "from operator import itemgetter\n",
    "def index_on_inner_list(list_data, index_no):\n",
    "    result = sorted(list_data, key=itemgetter(index_no))\n",
    "    return result\n",
    "students = [('Greyson Fulton', 98, 99), ('Brady Kent', 97, 96), ('Wyatt Knott', 91, 94), ('Beau Turnbull', 94, 98)] \n",
    "print (\"Original list:\")\n",
    "print(students)\n",
    "index_no = 0\n",
    "print(\"\\nSort the said list of lists by a given index\",\"( Index = \",index_no,\") of the inner list\")\n",
    "print(index_on_inner_list(students, index_no))\n",
    "index_no = 2\n",
    "print(\"\\nSort the said list of lists by a given index\",\"( Index = \",index_no,\") of the inner list\")\n",
    "print(index_on_inner_list(students, index_no))"
   ]
  },
  {
   "cell_type": "markdown",
   "metadata": {},
   "source": [
    "#### Q117. Write a Python program to remove all elements from a given list present in another list. \n",
    "    Original lists:\n",
    "    list1: [1, 2, 3, 4, 5, 6, 7, 8, 9, 10]\n",
    "    list2: [2, 4, 6, 8]\n",
    "    Remove all elements from 'list1' present in 'list2:\n",
    "    [1, 3, 5, 7, 9, 10]"
   ]
  },
  {
   "cell_type": "code",
   "execution_count": 39,
   "metadata": {},
   "outputs": [
    {
     "name": "stdout",
     "output_type": "stream",
     "text": [
      "Original lists:\n",
      "list1: [1, 2, 3, 4, 5, 6, 7, 8, 9, 10]\n",
      "list2: [2, 4, 6, 8]\n",
      "\n",
      "Remove all elements from 'list1' present in 'list2:\n",
      "[1, 3, 5, 7, 9, 10]\n"
     ]
    }
   ],
   "source": [
    "def index_on_inner_list(list1, list2):\n",
    "    result = [x for x in list1 if x not in list2]\n",
    "    return result\n",
    "\n",
    "list1 = [1,2,3,4,5,6,7,8,9,10]\n",
    "list2 = [2,4,6,8]\n",
    "\n",
    "print(\"Original lists:\")\n",
    "print(\"list1:\", list1)\n",
    "print(\"list2:\", list2)\n",
    "\n",
    "print(\"\\nRemove all elements from 'list1' present in 'list2:\")\n",
    "print(index_on_inner_list(list1, list2))"
   ]
  },
  {
   "cell_type": "markdown",
   "metadata": {},
   "source": [
    "#### Q118. Write a Python program to find the difference between elements (n+1th - nth) of a given list of numeric values. \n",
    "    Original list:\n",
    "    [1, 2, 3, 4, 5, 6, 7, 8, 9, 10]\n",
    "    Dfference between elements (n+1th - nth) of the said list :\n",
    "    [1, 1, 1, 1, 1, 1, 1, 1, 1]\n",
    "    Original list:\n",
    "    [2, 4, 6, 8]\n",
    "    Dfference between elements (n+1th - nth) of the said list :\n",
    "    [2, 2, 2]"
   ]
  },
  {
   "cell_type": "code",
   "execution_count": 40,
   "metadata": {},
   "outputs": [
    {
     "name": "stdout",
     "output_type": "stream",
     "text": [
      "Original list:\n",
      "[1, 2, 3, 4, 5, 6, 7, 8, 9, 10]\n",
      "\n",
      "Dfference between elements (n+1th – nth) of the said list :\n",
      "[1, 1, 1, 1, 1, 1, 1, 1, 1]\n",
      "\n",
      "Original list:\n",
      "[2, 4, 6, 8]\n",
      "\n",
      "Dfference between elements (n+1th – nth) of the said list :\n",
      "[2, 2, 2]\n"
     ]
    }
   ],
   "source": [
    "def elements_difference(nums):\n",
    "    result = [j-i for i, j in zip(nums[:-1], nums[1:])]\n",
    "    return result\n",
    "\n",
    "nums1 = [1,2,3,4,5,6,7,8,9,10]\n",
    "nums2 = [2,4,6,8]\n",
    "\n",
    "print(\"Original list:\")\n",
    "print(nums1)\n",
    "print(\"\\nDfference between elements (n+1th – nth) of the said list :\")\n",
    "print(elements_difference(nums1))\n",
    "print(\"\\nOriginal list:\")\n",
    "print(nums2)\n",
    "print(\"\\nDfference between elements (n+1th – nth) of the said list :\")\n",
    "print(elements_difference(nums2))"
   ]
  },
  {
   "cell_type": "markdown",
   "metadata": {},
   "source": [
    "#### Q119. Write a Python program to check if a substring presents in a given list of string values. \n",
    "    Original list:\n",
    "    ['red', 'black', 'white', 'green', 'orange']\n",
    "    Substring to search:\n",
    "    ack\n",
    "    Check if a substring presents in the said list of string values:\n",
    "    True\n",
    "    Substring to search:\n",
    "    abc\n",
    "    Check if a substring presents in the said list of string values:\n",
    "    False"
   ]
  },
  {
   "cell_type": "code",
   "execution_count": 41,
   "metadata": {},
   "outputs": [
    {
     "name": "stdout",
     "output_type": "stream",
     "text": [
      "Original list:\n",
      "['red', 'black', 'white', 'green', 'orange']\n",
      "Substring to search:\n",
      "ack\n",
      "Check if a substring presents in the said list of string values:\n",
      "True\n",
      "Substring to search:\n",
      "abc\n",
      "Check if a substring presents in the said list of string values:\n",
      "False\n"
     ]
    }
   ],
   "source": [
    "def find_substring(str1, sub_str):\n",
    "    if any(sub_str in s for s in str1):\n",
    "        return True\n",
    "    return False\n",
    "\n",
    "colors = [\"red\", \"black\", \"white\", \"green\", \"orange\"]\n",
    "print(\"Original list:\")\n",
    "print(colors)\n",
    "sub_str = \"ack\"\n",
    "print(\"Substring to search:\")\n",
    "print(sub_str)\n",
    "print(\"Check if a substring presents in the said list of string values:\")\n",
    "print(find_substring(colors, sub_str))\n",
    "sub_str = \"abc\"\n",
    "print(\"Substring to search:\")\n",
    "print(sub_str)\n",
    "print(\"Check if a substring presents in the said list of string values:\")\n",
    "print(find_substring(colors, sub_str))"
   ]
  },
  {
   "cell_type": "markdown",
   "metadata": {},
   "source": [
    "#### Q120. Write a Python program to create a list taking alternate elements from a given list. \n",
    "    Original list:\n",
    "    ['red', 'black', 'white', 'green', 'orange']\n",
    "    List with alternate elements from the said list:\n",
    "    ['red', 'white', 'orange']\n",
    "    Original list:\n",
    "    [2, 0, 3, 4, 0, 2, 8, 3, 4, 2]\n",
    "    List with alternate elements from the said list:\n",
    "    [2, 3, 0, 8, 4]"
   ]
  },
  {
   "cell_type": "code",
   "execution_count": 42,
   "metadata": {},
   "outputs": [
    {
     "name": "stdout",
     "output_type": "stream",
     "text": [
      "Original list:\n",
      "['red', 'black', 'white', 'green', 'orange']\n",
      "List with alternate elements from the said list:\n",
      "['red', 'white', 'orange']\n",
      "\n",
      "Original list:\n",
      "[2, 0, 3, 4, 0, 2, 8, 3, 4, 2]\n",
      "List with alternate elements from the said list:\n",
      "[2, 3, 0, 8, 4]\n"
     ]
    }
   ],
   "source": [
    "def alternate_elements(list_data):\n",
    "    result=[]\n",
    "    for item in list_data[::2]:\n",
    "        result.append(item)\n",
    "    return result \n",
    "colors = [\"red\", \"black\", \"white\", \"green\", \"orange\"]\n",
    "print(\"Original list:\")\n",
    "print(colors)\n",
    "print(\"List with alternate elements from the said list:\")\n",
    "print(alternate_elements(colors))\n",
    "nums = [2,0,3,4,0,2,8,3,4,2]\n",
    "print(\"\\nOriginal list:\")\n",
    "print(nums)\n",
    "print(\"List with alternate elements from the said list:\")\n",
    "print(alternate_elements(nums))"
   ]
  },
  {
   "cell_type": "markdown",
   "metadata": {},
   "source": [
    "#### Q121. Write a Python program to find the nested lists elements which are present in another list. \n",
    "    Original lists:\n",
    "    [1, 2, 3, 4, 5, 6, 7, 8, 9, 10, 11, 12, 13, 14]\n",
    "    [[12, 18, 23, 25, 45], [7, 11, 19, 24, 28], [1, 5, 8, 18, 15, 16]]\n",
    "    Intersection of said nested lists:\n",
    "    [[12], [7, 11], [1, 5, 8]]"
   ]
  },
  {
   "cell_type": "code",
   "execution_count": 43,
   "metadata": {},
   "outputs": [
    {
     "name": "stdout",
     "output_type": "stream",
     "text": [
      "\n",
      "Original lists:\n",
      "[1, 2, 3, 4, 5, 6, 7, 8, 9, 10, 11, 12, 13, 14]\n",
      "[[12, 18, 23, 25, 45], [7, 11, 19, 24, 28], [1, 5, 8, 18, 15, 16]]\n",
      "\n",
      "Intersection of said nested lists:\n",
      "[[12], [7, 11], [1, 5, 8]]\n"
     ]
    }
   ],
   "source": [
    "def intersection_nested_lists(l1, l2):\n",
    "    result = [[n for n in lst if n in l1] for lst in l2]\n",
    "    return result\n",
    "nums1 = [1, 2, 3, 4, 5, 6, 7, 8, 9, 10, 11, 12, 13, 14]\n",
    "nums2 = [[12, 18, 23, 25, 45], [7, 11, 19, 24, 28], [1, 5, 8, 18, 15, 16]]\n",
    "print(\"\\nOriginal lists:\")\n",
    "print(nums1)\n",
    "print(nums2)\n",
    "print(\"\\nIntersection of said nested lists:\")\n",
    "print(intersection_nested_lists(nums1, nums2))"
   ]
  },
  {
   "cell_type": "markdown",
   "metadata": {},
   "source": [
    "#### Q122. Write a Python program to find common element(s) in a given nested lists. \n",
    "    Original lists:\n",
    "    [[12, 18, 23, 25, 45], [7, 12, 18, 24, 28], [1, 5, 8, 12, 15, 16, 18]]\n",
    "    Common element(s) in nested lists:\n",
    "    [18, 12]122. Write a Python program to find common element(s) in a given nested lists. Go to the editor\n",
    "    Original lists:\n",
    "    [[12, 18, 23, 25, 45], [7, 12, 18, 24, 28], [1, 5, 8, 12, 15, 16, 18]]\n",
    "    Common element(s) in nested lists:\n",
    "    [18, 12]"
   ]
  },
  {
   "cell_type": "code",
   "execution_count": 44,
   "metadata": {},
   "outputs": [
    {
     "name": "stdout",
     "output_type": "stream",
     "text": [
      "\n",
      "Original lists:\n",
      "[[12, 18, 23, 25, 45], [7, 12, 18, 24, 28], [1, 5, 8, 12, 15, 16, 18]]\n",
      "\n",
      "Common element(s) in nested lists:\n",
      "[18, 12]\n"
     ]
    }
   ],
   "source": [
    "def common_in_nested_lists(nested_list):\n",
    "    result = list(set.intersection(*map(set, nested_list)))\n",
    "    return result\n",
    "nested_list = [[12, 18, 23, 25, 45], [7, 12, 18, 24, 28], [1, 5, 8, 12, 15, 16, 18]]\n",
    "print(\"\\nOriginal lists:\")\n",
    "print(nested_list)\n",
    "print(\"\\nCommon element(s) in nested lists:\")\n",
    "print(common_in_nested_lists(nested_list))"
   ]
  },
  {
   "cell_type": "markdown",
   "metadata": {},
   "source": [
    "#### Q123. Write a Python program to reverse strings in a given list of string values. \n",
    "    Original lists:\n",
    "    ['Red', 'Green', 'Blue', 'White', 'Black']\n",
    "    Reverse strings of the said given list:\n",
    "    ['deR', 'neerG', 'eulB', 'etihW', 'kcalB']"
   ]
  },
  {
   "cell_type": "code",
   "execution_count": 1,
   "metadata": {},
   "outputs": [
    {
     "name": "stdout",
     "output_type": "stream",
     "text": [
      "\n",
      "Original lists:\n",
      "['Red', 'Green', 'Blue', 'White', 'Black']\n",
      "\n",
      "Reverse strings of the said given list:\n",
      "['deR', 'neerG', 'eulB', 'etihW', 'kcalB']\n"
     ]
    }
   ],
   "source": [
    "def reverse_strings_list(string_list):\n",
    "    result = [x[::-1] for x in string_list]\n",
    "    return result\n",
    "\n",
    "colors_list = [\"Red\", \"Green\", \"Blue\", \"White\", \"Black\"]\n",
    "print(\"\\nOriginal lists:\")\n",
    "print(colors_list)\n",
    "print(\"\\nReverse strings of the said given list:\")\n",
    "print(reverse_strings_list(colors_list))"
   ]
  },
  {
   "cell_type": "markdown",
   "metadata": {},
   "source": [
    "#### Q124. Write a Python program to find the maximum and minimum product from the pairs of tuple within a given list. \n",
    "    The original list, tuple :\n",
    "    [(2, 7), (2, 6), (1, 8), (4, 9)]\n",
    "    Maximum and minimum product from the pairs of the said tuple of list:\n",
    "    (36, 8)"
   ]
  },
  {
   "cell_type": "code",
   "execution_count": 2,
   "metadata": {},
   "outputs": [
    {
     "name": "stdout",
     "output_type": "stream",
     "text": [
      "The original list, tuple : \n",
      "[(2, 7), (2, 6), (1, 8), (4, 9)]\n",
      "\n",
      "Maximum and minimum product from the pairs of the said tuple of list:\n",
      "(36, 8)\n"
     ]
    }
   ],
   "source": [
    "def tuple_max_val(nums):\n",
    "    result_max = max([abs(x * y) for x, y in nums] )\n",
    "    result_min = min([abs(x * y) for x, y in nums] )\n",
    "    return result_max,result_min\n",
    "nums = [(2, 7), (2, 6), (1, 8), (4, 9)]   \n",
    "print(\"The original list, tuple : \") \n",
    "print(nums)\n",
    "print(\"\\nMaximum and minimum product from the pairs of the said tuple of list:\")\n",
    "print(tuple_max_val(nums)) "
   ]
  },
  {
   "cell_type": "markdown",
   "metadata": {},
   "source": [
    "#### Q125. Write a Python program to calculate the product of the unique numbers of a given list. \n",
    "    Original List : [10, 20, 30, 40, 20, 50, 60, 40]\n",
    "    Product of the unique numbers of the said list: 720000000"
   ]
  },
  {
   "cell_type": "code",
   "execution_count": 3,
   "metadata": {},
   "outputs": [
    {
     "name": "stdout",
     "output_type": "stream",
     "text": [
      "Original List :  [10, 20, 30, 40, 20, 50, 60, 40]\n",
      "Product of the unique numbers of the said list:  720000000\n"
     ]
    }
   ],
   "source": [
    "def unique_product(list_data):\n",
    "    temp = list(set(list_data))\n",
    "    p = 1\n",
    "    for i in temp:\n",
    "        p *= i\n",
    "    return p\n",
    "nums = [10, 20, 30, 40, 20, 50, 60, 40]\n",
    "print(\"Original List : \",nums)\n",
    "print(\"Product of the unique numbers of the said list: \",unique_product(nums))"
   ]
  },
  {
   "cell_type": "markdown",
   "metadata": {},
   "source": [
    "#### Q126. Write a Python program to interleave multiple lists of the same length. \n",
    "    Original list:\n",
    "    list1: [1, 2, 3, 4, 5, 6, 7]\n",
    "    list2: [10, 20, 30, 40, 50, 60, 70]\n",
    "    list3: [100, 200, 300, 400, 500, 600, 700]\n",
    "    Interleave multiple lists:\n",
    "    [1, 10, 100, 2, 20, 200, 3, 30, 300, 4, 40, 400, 5, 50, 500, 6, 60, 600, 7, 70, 700]"
   ]
  },
  {
   "cell_type": "code",
   "execution_count": 4,
   "metadata": {},
   "outputs": [
    {
     "name": "stdout",
     "output_type": "stream",
     "text": [
      "Original list:\n",
      "list1: [1, 2, 3, 4, 5, 6, 7]\n",
      "list2: [10, 20, 30, 40, 50, 60, 70]\n",
      "list3: [100, 200, 300, 400, 500, 600, 700]\n",
      "\n",
      "Interleave multiple lists:\n",
      "[1, 10, 100, 2, 20, 200, 3, 30, 300, 4, 40, 400, 5, 50, 500, 6, 60, 600, 7, 70, 700]\n"
     ]
    }
   ],
   "source": [
    "def interleave_multiple_lists(list1,list2,list3):\n",
    "    result = [el for pair in zip(list1, list2, list3) for el in pair]\n",
    "    return result\n",
    "     \n",
    "list1 = [1,2,3,4,5,6,7]\n",
    "list2 = [10,20,30,40,50,60,70]\n",
    "list3 = [100,200,300,400,500,600,700]\n",
    "print(\"Original list:\")\n",
    "print(\"list1:\",list1)\n",
    "print(\"list2:\",list2)\n",
    "print(\"list3:\",list3)\n",
    "print(\"\\nInterleave multiple lists:\")\n",
    "print(interleave_multiple_lists(list1,list2,list3))"
   ]
  },
  {
   "cell_type": "markdown",
   "metadata": {},
   "source": [
    "#### Q127. Write a Python program to remove words from a given list of strings containing a character or string. \n",
    "    Original list:\n",
    "    list1: ['Red color', 'Orange#', 'Green', 'Orange @', 'White']\n",
    "    Character list:\n",
    "    ['#', 'color', '@']\n",
    "    New list:\n",
    "    ['Red', '', 'Green', 'Orange', 'White']"
   ]
  },
  {
   "cell_type": "code",
   "execution_count": 5,
   "metadata": {},
   "outputs": [
    {
     "name": "stdout",
     "output_type": "stream",
     "text": [
      "Original list:\n",
      "list1: ['Red color', 'Orange#', 'Green', 'Orange @', 'White']\n",
      "\n",
      "Character list:\n",
      "['#', 'color', '@']\n",
      "\n",
      "New list:\n",
      "['Red', '', 'Green', 'Orange', 'White']\n"
     ]
    }
   ],
   "source": [
    "def remove_words(in_list, char_list):\n",
    "    new_list = []\n",
    "    for line in in_list:\n",
    "        new_words = ' '.join([word for word in line.split() if not any([phrase in word for phrase in char_list])])\n",
    "        new_list.append(new_words)\n",
    "    return new_list\n",
    "     \n",
    "str_list = ['Red color', 'Orange#', 'Green', 'Orange @', \"White\"]\n",
    "print(\"Original list:\")\n",
    "print(\"list1:\",str_list)\n",
    "char_list = ['#', 'color', '@']\n",
    "print(\"\\nCharacter list:\")\n",
    "print(char_list)\n",
    "print(\"\\nNew list:\")\n",
    "print(remove_words(str_list, char_list))"
   ]
  },
  {
   "cell_type": "markdown",
   "metadata": {},
   "source": [
    "#### Q128. Write a Python program to calculate the sum of the numbers in a list between the indices of a specified range. \n",
    "    Original list:\n",
    "    [2, 1, 5, 6, 8, 3, 4, 9, 10, 11, 8, 12]\n",
    "    Range: 8 , 10\n",
    "    Sum of the specified range:\n",
    "    29"
   ]
  },
  {
   "cell_type": "code",
   "execution_count": 6,
   "metadata": {},
   "outputs": [
    {
     "name": "stdout",
     "output_type": "stream",
     "text": [
      "Original list:\n",
      "[2, 1, 5, 6, 8, 3, 4, 9, 10, 11, 8, 12]\n",
      "Range: 8 , 10\n",
      "\n",
      "Sum of the specified range:\n",
      "29\n"
     ]
    }
   ],
   "source": [
    "def sum_Range_list(nums, m, n):                                                                                                                                                                                                \n",
    "    sum_range = 0                                                                                                                                                                                                         \n",
    "    for i in range(m, n+1, 1):                                                                                                                                                                                        \n",
    "        sum_range += nums[i]                                                                                                                                                                                                  \n",
    "    return sum_range   \n",
    "\n",
    "nums = [2,1,5,6,8,3,4,9,10,11,8,12]\n",
    "print(\"Original list:\")\n",
    "print(nums)\n",
    "m = 8\n",
    "n = 10\n",
    "print(\"Range:\",m,\",\",n) \n",
    "print(\"\\nSum of the specified range:\")\n",
    "print(sum_Range_list(nums, m, n))"
   ]
  },
  {
   "cell_type": "markdown",
   "metadata": {},
   "source": [
    "#### Q129. Write a Python program to reverse each list in a given list of lists. \n",
    "    Original list of lists:\n",
    "    [[1, 2, 3, 4], [5, 6, 7, 8], [9, 10, 11, 12], [13, 14, 15, 16]]\n",
    "    Reverse each list in the said list of lists:\n",
    "    [[4, 3, 2, 1], [8, 7, 6, 5], [12, 11, 10, 9], [16, 15, 14, 13]]"
   ]
  },
  {
   "cell_type": "code",
   "execution_count": 7,
   "metadata": {},
   "outputs": [
    {
     "name": "stdout",
     "output_type": "stream",
     "text": [
      "Original list of lists:\n",
      "[[1, 2, 3, 4], [5, 6, 7, 8], [9, 10, 11, 12], [13, 14, 15, 16]]\n",
      "\n",
      "Reverse each list in the said list of lists:\n",
      "[[4, 3, 2, 1], [8, 7, 6, 5], [12, 11, 10, 9], [16, 15, 14, 13]]\n"
     ]
    }
   ],
   "source": [
    "def reverse_list_lists(nums):\n",
    "    for l in nums:\n",
    "        l.sort(reverse = True)\n",
    "    return nums    \n",
    "nums = [[1, 2, 3, 4], [5, 6, 7, 8], [9, 10, 11, 12], [13, 14, 15, 16]]\n",
    "print(\"Original list of lists:\")\n",
    "print(nums)\n",
    "print(\"\\nReverse each list in the said list of lists:\")\n",
    "print(reverse_list_lists(nums))"
   ]
  },
  {
   "cell_type": "markdown",
   "metadata": {},
   "source": [
    "#### Q130. Write a Python program to count the same pair in three given lists. \n",
    "    Original lists:\n",
    "    [1, 2, 3, 4, 5, 6, 7, 8]\n",
    "    [2, 2, 3, 1, 2, 6, 7, 9]\n",
    "    [2, 1, 3, 1, 2, 6, 7, 9]\n",
    "    Number of same pair of the said three given lists:\n",
    "    3"
   ]
  },
  {
   "cell_type": "code",
   "execution_count": 8,
   "metadata": {},
   "outputs": [
    {
     "name": "stdout",
     "output_type": "stream",
     "text": [
      "Original lists:\n",
      "[1, 2, 3, 4, 5, 6, 7, 8]\n",
      "[2, 2, 3, 1, 2, 6, 7, 9]\n",
      "[2, 1, 3, 1, 2, 6, 7, 9]\n",
      "\n",
      "Number of same pair of the said three given lists:\n",
      "3\n"
     ]
    }
   ],
   "source": [
    "def count_same_pair(nums1, nums2, nums3):\n",
    "    result = sum(m == n == o for m, n, o in zip(nums1, nums2, nums3))\n",
    "    return result\n",
    "nums1 = [1,2,3,4,5,6,7,8]\n",
    "nums2 = [2,2,3,1,2,6,7,9]\n",
    "nums3 = [2,1,3,1,2,6,7,9]\n",
    "print(\"Original lists:\")\n",
    "print(nums1)\n",
    "print(nums2)\n",
    "print(nums3)\n",
    "print(\"\\nNumber of same pair of the said three given lists:\")\n",
    "print(count_same_pair(nums1, nums2, nums3))"
   ]
  },
  {
   "cell_type": "markdown",
   "metadata": {},
   "source": [
    "#### Q131. Write a Python program to count the frequency of consecutive duplicate elements in a given list of numbers. \n",
    "    Original lists:\n",
    "    [1, 2, 2, 2, 4, 4, 4, 5, 5, 5, 5]\n",
    "    Consecutive duplicate elements and their frequency:\n",
    "    ([1, 2, 4, 5], [1, 3, 3, 4])"
   ]
  },
  {
   "cell_type": "code",
   "execution_count": 9,
   "metadata": {},
   "outputs": [
    {
     "name": "stdout",
     "output_type": "stream",
     "text": [
      "Original lists:\n",
      "[1, 2, 2, 2, 4, 4, 4, 5, 5, 5, 5]\n",
      "\n",
      "Consecutive duplicate elements and their frequency:\n",
      "([1, 2, 4, 5], [1, 3, 3, 4])\n"
     ]
    }
   ],
   "source": [
    "def count_dups(nums):\n",
    "    element = []\n",
    "    freque = []\n",
    "    if not nums:\n",
    "        return element\n",
    "    running_count = 1\n",
    "    for i in range(len(nums)-1):\n",
    "        if nums[i] == nums[i+1]:\n",
    "            running_count += 1\n",
    "        else:\n",
    "            freque.append(running_count)\n",
    "            element.append(nums[i])\n",
    "            running_count = 1\n",
    "    freque.append(running_count)\n",
    "    element.append(nums[i+1])\n",
    "    return element,freque\n",
    "\n",
    "\n",
    "nums = [1,2,2,2,4,4,4,5,5,5,5]\n",
    "print(\"Original lists:\")\n",
    "print(nums)\n",
    "\n",
    "print(\"\\nConsecutive duplicate elements and their frequency:\")\n",
    "print(count_dups(nums))"
   ]
  },
  {
   "cell_type": "markdown",
   "metadata": {},
   "source": [
    "#### Q132. Write a Python program to find all index positions of the maximum and minimum values in a given list of numbers. \n",
    "    Original list:\n",
    "    [12, 33, 23, 10, 67, 89, 45, 667, 23, 12, 11, 10, 54]\n",
    "    Index positions of the maximum value of the said list:\n",
    "    [7]\n",
    "    Index positions of the minimum value of the said list:\n",
    "    [3, 11]"
   ]
  },
  {
   "cell_type": "code",
   "execution_count": 10,
   "metadata": {},
   "outputs": [
    {
     "name": "stdout",
     "output_type": "stream",
     "text": [
      "Original list:\n",
      "[12, 33, 23, 10, 67, 89, 45, 667, 23, 12, 11, 10, 54]\n",
      "\n",
      "Index positions of the maximum value of the said list:\n",
      "[7]\n",
      "\n",
      "Index positions of the minimum value of the said list:\n",
      "[3, 11]\n"
     ]
    }
   ],
   "source": [
    "def position_max_min(nums):\n",
    "    max_val = max(nums)\n",
    "    min_val = min(nums)\n",
    "    max_result = [i for i, j in enumerate(nums) if j == max_val]\n",
    "    min_result = [i for i, j in enumerate(nums) if j == min_val]\n",
    "    return max_result,min_result\n",
    "\n",
    "nums = [12,33,23,10,67,89,45,667,23,12,11,10,54]\n",
    "print(\"Original list:\")\n",
    "print(nums)\n",
    "result = position_max_min(nums)\n",
    "print(\"\\nIndex positions of the maximum value of the said list:\")\n",
    "print(result[0])\n",
    "print(\"\\nIndex positions of the minimum value of the said list:\")\n",
    "print(result[1])"
   ]
  },
  {
   "cell_type": "markdown",
   "metadata": {},
   "source": [
    "#### Q133. Write a Python program to check common elements between two given list are in same order or not. \n",
    "    Original lists:\n",
    "    ['red', 'green', 'black', 'orange']\n",
    "    ['red', 'pink', 'green', 'white', 'black']\n",
    "    ['white', 'orange', 'pink', 'black']\n",
    "    Test common elements between color1 and color2 are in same order?\n",
    "    True\n",
    "    Test common elements between color1 and color3 are in same order?\n",
    "    False\n",
    "    Test common elements between color2 and color3 are in same order?\n",
    "    False"
   ]
  },
  {
   "cell_type": "code",
   "execution_count": 11,
   "metadata": {},
   "outputs": [
    {
     "name": "stdout",
     "output_type": "stream",
     "text": [
      "Original lists:\n",
      "['red', 'green', 'black', 'orange']\n",
      "['red', 'pink', 'green', 'white', 'black']\n",
      "['white', 'orange', 'pink', 'black']\n",
      "\n",
      "Test common elements between color1 and color2 are in same order?\n",
      "True\n",
      "\n",
      "Test common elements between color1 and color3 are in same order?\n",
      "False\n",
      "\n",
      "Test common elements between color2 and color3 are in same order?\n",
      "False\n"
     ]
    }
   ],
   "source": [
    "def same_order(l1, l2):\n",
    "    common_elements = set(l1) & set(l2)\n",
    "    l1 = [e for e in l1 if e in common_elements]\n",
    "    l2 = [e for e in l2 if e in common_elements]\n",
    "    return l1 == l2\n",
    "\n",
    "color1 = [\"red\",\"green\",\"black\",\"orange\"]\n",
    "color2 = [\"red\",\"pink\",\"green\",\"white\",\"black\"]\n",
    "color3 = [\"white\",\"orange\",\"pink\",\"black\"]\n",
    "\n",
    "print(\"Original lists:\")\n",
    "print(color1)\n",
    "print(color2)\n",
    "print(color3)\n",
    "print(\"\\nTest common elements between color1 and color2 are in same order?\")\n",
    "print(same_order(color1, color2))\n",
    "print(\"\\nTest common elements between color1 and color3 are in same order?\")\n",
    "print(same_order(color1, color3))\n",
    "print(\"\\nTest common elements between color2 and color3 are in same order?\")\n",
    "print(same_order(color2, color3))"
   ]
  },
  {
   "cell_type": "markdown",
   "metadata": {},
   "source": [
    "#### Q134. Write a Python program to find the difference between two list including duplicate elements. \n",
    "    Original lists:\n",
    "    [1, 1, 2, 3, 3, 4, 4, 5, 6, 7]\n",
    "    [1, 1, 2, 4, 5, 6]\n",
    "    Difference between two said list including duplicate elements):\n",
    "    [3, 3, 4, 7]"
   ]
  },
  {
   "cell_type": "code",
   "execution_count": 12,
   "metadata": {},
   "outputs": [
    {
     "name": "stdout",
     "output_type": "stream",
     "text": [
      "Original lists:\n",
      "[1, 1, 2, 3, 3, 4, 4, 5, 6, 7]\n",
      "[1, 1, 2, 4, 5, 6]\n",
      "\n",
      "Difference between two said list including duplicate elements):\n",
      "[3, 3, 4, 7]\n"
     ]
    }
   ],
   "source": [
    "def list_difference(l1,l2):\n",
    "    result = list(l1)\n",
    "    for el in l2:\n",
    "        result.remove(el)\n",
    "    return result\n",
    "l1 = [1,1,2,3,3,4,4,5,6,7]\n",
    "l2 = [1,1,2,4,5,6]\n",
    "\n",
    "print(\"Original lists:\")\n",
    "print(l1)\n",
    "print(l2)\n",
    "print(\"\\nDifference between two said list including duplicate elements):\")\n",
    "print(list_difference(l1,l2))"
   ]
  },
  {
   "cell_type": "markdown",
   "metadata": {},
   "source": [
    "#### Q135. Write a Python program to iterate over all pairs of consecutive items in a given list. \n",
    "    Original lists:\n",
    "    [1, 1, 2, 3, 3, 4, 4, 5]\n",
    "    Iterate over all pairs of consecutive items of the said list:\n",
    "    [(1, 1), (1, 2), (2, 3), (3, 3), (3, 4), (4, 4), (4, 5)]"
   ]
  },
  {
   "cell_type": "code",
   "execution_count": 13,
   "metadata": {},
   "outputs": [
    {
     "name": "stdout",
     "output_type": "stream",
     "text": [
      "Original lists:\n",
      "[1, 1, 2, 3, 3, 4, 4, 5]\n",
      "\n",
      "Iterate over all pairs of consecutive items of the said list:\n",
      "[(1, 1), (1, 2), (2, 3), (3, 3), (3, 4), (4, 4), (4, 5)]\n"
     ]
    }
   ],
   "source": [
    "def pairwise(l1):\n",
    "    temp = []\n",
    "    for i in range(len(l1) - 1):\n",
    "        current_element, next_element = l1[i], l1[i + 1]\n",
    "        x = (current_element, next_element)\n",
    "        temp.append(x)\n",
    "    return temp\n",
    "l1 = [1,1,2,3,3,4,4,5]\n",
    "print(\"Original lists:\")\n",
    "print(l1)\n",
    "print(\"\\nIterate over all pairs of consecutive items of the said list:\")\n",
    "print(pairwise(l1))"
   ]
  },
  {
   "cell_type": "markdown",
   "metadata": {},
   "source": [
    "#### Q136. Write a Python program to remove duplicate words from a given list of strings. \n",
    "    Original String:\n",
    "    ['Python', 'Exercises', 'Practice', 'Solution', 'Exercises']\n",
    "    After removing duplicate words from the said list of strings:\n",
    "    ['Python', 'Exercises', 'Practice', 'Solution']"
   ]
  },
  {
   "cell_type": "code",
   "execution_count": 14,
   "metadata": {},
   "outputs": [
    {
     "name": "stdout",
     "output_type": "stream",
     "text": [
      "Original String:\n",
      "['Python', 'Exercises', 'Practice', 'Solution', 'Exercises']\n",
      "\n",
      "After removing duplicate words from the said list of strings:\n",
      "['Python', 'Exercises', 'Practice', 'Solution']\n"
     ]
    }
   ],
   "source": [
    "def unique_list(l):\n",
    "    temp = []\n",
    "    for x in l:\n",
    "        if x not in temp:\n",
    "            temp.append(x)\n",
    "    return temp\n",
    "\n",
    "text_str = [\"Python\", \"Exercises\", \"Practice\", \"Solution\", \"Exercises\"]\n",
    "print(\"Original String:\")\n",
    "print(text_str)\n",
    "print(\"\\nAfter removing duplicate words from the said list of strings:\")\n",
    "print(unique_list(text_str))"
   ]
  },
  {
   "cell_type": "markdown",
   "metadata": {},
   "source": [
    "#### Q137. Write a Python program to find a first even and odd number in a given list of numbers. \n",
    "    Original list:\n",
    "    [1, 3, 5, 7, 4, 1, 6, 8]\n",
    "    First even and odd number of the said list of numbers:\n",
    "    (4, 1)"
   ]
  },
  {
   "cell_type": "code",
   "execution_count": 15,
   "metadata": {},
   "outputs": [
    {
     "name": "stdout",
     "output_type": "stream",
     "text": [
      "Original list:\n",
      "[1, 3, 5, 7, 4, 1, 6, 8]\n",
      "\n",
      "First even and odd number of the said list of numbers:\n",
      "(4, 1)\n"
     ]
    }
   ],
   "source": [
    "def first_even_odd(nums):\n",
    "    first_even = next((el for el in nums if el%2==0),-1)\n",
    "    first_odd = next((el for el in nums if el%2!=0),-1)\n",
    "    return first_even,first_odd\n",
    "\n",
    "nums= [1,3,5,7,4,1,6,8]\n",
    "print(\"Original list:\")\n",
    "print(nums)\n",
    "print(\"\\nFirst even and odd number of the said list of numbers:\")\n",
    "print(first_even_odd(nums))"
   ]
  },
  {
   "cell_type": "markdown",
   "metadata": {},
   "source": [
    "#### Q138. Write a Python program to sort a given mixed list of integers and strings. Numbers must be sorted before strings. \n",
    "    Original list:\n",
    "    [19, 'red', 12, 'green', 'blue', 10, 'white', 'green', 1]\n",
    "    Sort the said mixed list of integers and strings:\n",
    "    [1, 10, 12, 19, 'blue', 'green', 'green', 'red', 'white']"
   ]
  },
  {
   "cell_type": "code",
   "execution_count": 16,
   "metadata": {},
   "outputs": [
    {
     "name": "stdout",
     "output_type": "stream",
     "text": [
      "Original list:\n",
      "[19, 'red', 12, 'green', 'blue', 10, 'white', 'green', 1]\n",
      "\n",
      "Sort the said  mixed list of integers and strings:\n",
      "[1, 10, 12, 19, 'blue', 'green', 'green', 'red', 'white']\n"
     ]
    }
   ],
   "source": [
    "def sort_mixed_list(mixed_list):\n",
    "    int_part = sorted([i for i in mixed_list if type(i) is int])\n",
    "    str_part = sorted([i for i in mixed_list if type(i) is str])\n",
    "    return int_part + str_part\n",
    "mixed_list = [19,'red',12,'green','blue', 10,'white','green',1]\n",
    "print(\"Original list:\")\n",
    "print(mixed_list)\n",
    "print(\"\\nSort the said  mixed list of integers and strings:\")\n",
    "print(sort_mixed_list(mixed_list))"
   ]
  },
  {
   "cell_type": "markdown",
   "metadata": {},
   "source": [
    "#### Q139. Write a Python program to sort a given list of strings(numbers) numerically. \n",
    "    Original list:\n",
    "    ['4', '12', '45', '7', '0', '100', '200', '-12', '-500']\n",
    "    Sort the said list of strings(numbers) numerically:\n",
    "    [-500, -12, 0, 4, 7, 12, 45, 100, 200]"
   ]
  },
  {
   "cell_type": "code",
   "execution_count": 17,
   "metadata": {},
   "outputs": [
    {
     "name": "stdout",
     "output_type": "stream",
     "text": [
      "Original list:\n",
      "['4', '12', '45', '7', '0', '100', '200', '-12', '-500']\n",
      "\n",
      "Sort the said list of strings(numbers) numerically:\n",
      "[-500, -12, 0, 4, 7, 12, 45, 100, 200]\n"
     ]
    }
   ],
   "source": [
    "def sort_numeric_strings(nums_str):\n",
    "    result = [int(x) for x in nums_str]\n",
    "    result.sort()\n",
    "    return result\n",
    "nums_str = ['4','12','45','7','0','100','200','-12','-500']\n",
    "print(\"Original list:\")\n",
    "print(nums_str)\n",
    "print(\"\\nSort the said list of strings(numbers) numerically:\")\n",
    "print(sort_numeric_strings(nums_str))"
   ]
  },
  {
   "cell_type": "markdown",
   "metadata": {},
   "source": [
    "#### Q140. Write a Python program to remove the specific item from a given list of lists. \n",
    "    Original list of lists:\n",
    "    [['Red', 'Maroon', 'Yellow', 'Olive'], ['#FF0000', '#800000', '#FFFF00', '#808000'], ['rgb(255,0,0)', 'rgb(128,0,0)', 'rgb(255,255,0)', 'rgb(128,128,0)']]\n",
    "    Remove 1st list from the saod given list of lists:\n",
    "    [['Maroon', 'Yellow', 'Olive'], ['#800000', '#FFFF00', '#808000'], ['rgb(128,0,0)', 'rgb(255,255,0)', 'rgb(128,128,0)']]\n",
    "    Remove 2nd list from the saod given list of lists:\n",
    "    [['Red', 'Yellow', 'Olive'], ['#FF0000', '#FFFF00', '#808000'], ['rgb(255,0,0)', 'rgb(255,255,0)', 'rgb(128,128,0)']]\n",
    "    Remove 4th list from the saod given list of lists:\n",
    "    [['Red', 'Maroon', 'Yellow'], ['#FF0000', '#800000', '#FFFF00'], ['rgb(255,0,0)', 'rgb(128,0,0)', 'rgb(255,255,0)']]"
   ]
  },
  {
   "cell_type": "code",
   "execution_count": 18,
   "metadata": {},
   "outputs": [
    {
     "name": "stdout",
     "output_type": "stream",
     "text": [
      "Original list of lists:\n",
      "[['Red', 'Maroon', 'Yellow', 'Olive'], ['#FF0000', '#800000', '#FFFF00', '#808000'], ['rgb(255,0,0)', 'rgb(128,0,0)', 'rgb(255,255,0)', 'rgb(128,128,0)']]\n",
      "\n",
      "Remove 1st item from the said list of lists:\n",
      "[['Maroon', 'Yellow', 'Olive'], ['#800000', '#FFFF00', '#808000'], ['rgb(128,0,0)', 'rgb(255,255,0)', 'rgb(128,128,0)']]\n",
      "\n",
      "Remove 2nd item from the said list of lists:\n",
      "[['Red', 'Yellow', 'Olive'], ['#FF0000', '#FFFF00', '#808000'], ['rgb(255,0,0)', 'rgb(255,255,0)', 'rgb(128,128,0)']]\n",
      "\n",
      "Remove 4th item from the said list of lists:\n",
      "[['Red', 'Maroon', 'Yellow'], ['#FF0000', '#800000', '#FFFF00'], ['rgb(255,0,0)', 'rgb(128,0,0)', 'rgb(255,255,0)']]\n"
     ]
    }
   ],
   "source": [
    "import copy\t\n",
    "def remove_list_of_lists(color, N):\n",
    "    for x in color:\n",
    "        del x[N]\n",
    "    return color\n",
    "\n",
    "nums = [\n",
    "        [\"Red\",\"Maroon\",\"Yellow\",\"Olive\"],\n",
    "        [\"#FF0000\", \"#800000\", \"#FFFF00\", \"#808000\"],\n",
    "        [\"rgb(255,0,0)\",\"rgb(128,0,0)\",\"rgb(255,255,0)\",\"rgb(128,128,0)\"]\n",
    "       ]\n",
    "nums1 =  copy.deepcopy(nums)\n",
    "nums2 =  copy.deepcopy(nums)\n",
    "nums3 =  copy.deepcopy(nums)\n",
    "\n",
    "print(\"Original list of lists:\")\n",
    "print(nums)\n",
    "N = 0\n",
    "print(\"\\nRemove 1st item from the said list of lists:\")\n",
    "print(remove_list_of_lists(nums1, N))\n",
    "N = 1\n",
    "print(\"\\nRemove 2nd item from the said list of lists:\")\n",
    "print(remove_list_of_lists(nums2, N))\n",
    "N = 3\n",
    "print(\"\\nRemove 4th item from the said list of lists:\")\n",
    "print(remove_list_of_lists(nums3, N))"
   ]
  },
  {
   "cell_type": "markdown",
   "metadata": {},
   "source": [
    "#### Q141. Write a Python program to remove empty lists from a given list of lists. \n",
    "    Original list:\n",
    "    [[], [], [], 'Red', 'Green', [1, 2], 'Blue', [], []]\n",
    "    After deleting the empty lists from the said lists of lists\n",
    "    ['Red', 'Green', [1, 2], 'Blue']"
   ]
  },
  {
   "cell_type": "code",
   "execution_count": 19,
   "metadata": {},
   "outputs": [
    {
     "name": "stdout",
     "output_type": "stream",
     "text": [
      "Original list:\n",
      "[[], [], [], 'Red', 'Green', [1, 2], 'Blue', [], []]\n",
      "\n",
      "After deleting the empty lists from the said lists of lists\n",
      "['Red', 'Green', [1, 2], 'Blue']\n"
     ]
    }
   ],
   "source": [
    "list1 = [[], [], [], 'Red', 'Green', [1,2], 'Blue', [], []]\n",
    "print(\"Original list:\")\n",
    "print(list1)\n",
    "print(\"\\nAfter deleting the empty lists from the said lists of lists\")\n",
    "list2 = [x for x in list1 if x]\n",
    "print(list2)"
   ]
  },
  {
   "cell_type": "markdown",
   "metadata": {},
   "source": [
    "#### Q142. Write a Python program to sum a specific column of a list in a given list of lists. \n",
    "    Original list of lists:\n",
    "    [[1, 2, 3, 2], [4, 5, 6, 2], [7, 8, 9, 5]]\n",
    "    Sum: 1st column of the said list of lists:\n",
    "    12\n",
    "    Sum: 2nd column of the said list of lists:\n",
    "    15\n",
    "    Sum: 4th column of the said list of lists:\n",
    "    9"
   ]
  },
  {
   "cell_type": "code",
   "execution_count": 20,
   "metadata": {},
   "outputs": [
    {
     "name": "stdout",
     "output_type": "stream",
     "text": [
      "Original list of lists:\n",
      "[[1, 2, 3, 2], [4, 5, 6, 2], [7, 8, 9, 5]]\n",
      "\n",
      "Sum: 1st column of the said list of lists:\n",
      "12\n",
      "\n",
      "Sum: 2nd column of the said list of lists:\n",
      "15\n",
      "\n",
      "Sum: 4th column of the said list of lists:\n",
      "9\n"
     ]
    }
   ],
   "source": [
    "def sum_column(nums, C):\n",
    "    result = sum(row[C] for row in nums)\n",
    "    return result\n",
    "\n",
    "nums = [\n",
    "        [1,2,3,2],\n",
    "        [4,5,6,2],\n",
    "        [7,8,9,5],\n",
    "        ]\n",
    "print(\"Original list of lists:\")\n",
    "print(nums)\n",
    "\n",
    "column = 0\n",
    "print(\"\\nSum: 1st column of the said list of lists:\")\n",
    "print(sum_column(nums, column))\n",
    "column = 1\n",
    "print(\"\\nSum: 2nd column of the said list of lists:\")\n",
    "print(sum_column(nums, column))\n",
    "column = 3\n",
    "print(\"\\nSum: 4th column of the said list of lists:\")\n",
    "print(sum_column(nums, column))"
   ]
  },
  {
   "cell_type": "markdown",
   "metadata": {},
   "source": [
    "#### Q143. Write a Python program to get the frequency of the elements in a given list of lists. \n",
    "    Original list of lists:\n",
    "    [[1, 2, 3, 2], [4, 5, 6, 2], [7, 8, 9, 5]]\n",
    "    Frequency of the elements in the said list of lists:\n",
    "    {1: 1, 2: 3, 3: 1, 4: 1, 5: 2, 6: 1, 7: 1, 8: 1, 9: 1}"
   ]
  },
  {
   "cell_type": "code",
   "execution_count": 21,
   "metadata": {},
   "outputs": [
    {
     "name": "stdout",
     "output_type": "stream",
     "text": [
      "Original list of lists:\n",
      "[[1, 2, 3, 2], [4, 5, 6, 2], [7, 8, 9, 5]]\n",
      "\n",
      "Frequency of the elements in the said list of lists:\n",
      "{1: 1, 2: 3, 3: 1, 4: 1, 5: 2, 6: 1, 7: 1, 8: 1, 9: 1}\n"
     ]
    }
   ],
   "source": [
    "def count_elements_lists(nums):\n",
    "    nums = [item for sublist in nums for item in sublist]\n",
    "    dic_data = {}\n",
    "    for num in nums:\n",
    "        if num in dic_data.keys():\n",
    "            dic_data[num] += 1\n",
    "        else:\n",
    "            key = num\n",
    "            value = 1\n",
    "            dic_data[key] = value\n",
    "    return dic_data\n",
    "\n",
    "nums = [\n",
    "        [1,2,3,2],\n",
    "        [4,5,6,2],\n",
    "        [7,8,9,5],\n",
    "       ]    \n",
    "print(\"Original list of lists:\")\n",
    "print(nums)\n",
    "print(\"\\nFrequency of the elements in the said list of lists:\")\n",
    "print(count_elements_lists(nums))"
   ]
  },
  {
   "cell_type": "markdown",
   "metadata": {},
   "source": [
    "#### Q144. Write a Python program to extract every first or specified element from a given two-dimensional list. \n",
    "    Original list of lists:\n",
    "    [[1, 2, 3, 2], [4, 5, 6, 2], [7, 1, 9, 5]]\n",
    "    Extract every first element from the said given two dimensional list:\n",
    "    [1, 4, 7]\n",
    "    Extract every third element from the said given two dimensional list:\n",
    "    [3, 6, 9]"
   ]
  },
  {
   "cell_type": "code",
   "execution_count": 22,
   "metadata": {},
   "outputs": [
    {
     "name": "stdout",
     "output_type": "stream",
     "text": [
      "Original list of lists:\n",
      "[[1, 2, 3, 2], [4, 5, 6, 2], [7, 1, 9, 5]]\n",
      "\n",
      "Extract every first element from the said given two dimensional list:\n",
      "[1, 4, 7]\n",
      "\n",
      "Extract every third element from the said given two dimensional list:\n",
      "[3, 6, 9]\n"
     ]
    }
   ],
   "source": [
    "def specified_element(nums, N):\n",
    "    result = [i[N] for i in nums]\n",
    "    return result\n",
    "    \n",
    "nums = [\n",
    "        [1,2,3,2],\n",
    "        [4,5,6,2],\n",
    "        [7,1,9,5],\n",
    "       ]\n",
    "    \n",
    "print(\"Original list of lists:\")\n",
    "print(nums)\n",
    "N = 0\n",
    "print(\"\\nExtract every first element from the said given two dimensional list:\")\n",
    "print(specified_element(nums, N))\n",
    "N = 2\n",
    "print(\"\\nExtract every third element from the said given two dimensional list:\")\n",
    "print(specified_element(nums, N))"
   ]
  },
  {
   "cell_type": "markdown",
   "metadata": {},
   "source": [
    "#### Q145. Write a Python program to generate a number in a specified range except some specific numbers. \n",
    "    Generate a number in a specified range (1, 10) except [2, 9, 10]\n",
    "    7\n",
    "    Generate a number in a specified range (-5, 5) except [-5,0,4,3,2]\n",
    "    -4"
   ]
  },
  {
   "cell_type": "code",
   "execution_count": 24,
   "metadata": {},
   "outputs": [
    {
     "name": "stdout",
     "output_type": "stream",
     "text": [
      "\n",
      "Generate a number in a specified range (1, 10) except [2, 9, 10]\n",
      "4\n",
      "\n",
      "Generate a number in a specified range (-5, 5) except [-5,0,4,3,2]\n",
      "-1\n"
     ]
    }
   ],
   "source": [
    "from random import choice\n",
    "def generate_random(start_range, end_range, nums):\n",
    "    result = choice([i for i in range(start_range,end_range) if i not in nums])\n",
    "    return result\n",
    "   \n",
    "start_range = 1\n",
    "end_range = 10\n",
    "nums = [2, 9, 10]\n",
    "print(\"\\nGenerate a number in a specified range (1, 10) except [2, 9, 10]\")\n",
    "print(generate_random(start_range,end_range,nums))\n",
    "\n",
    "start_range = -5\n",
    "end_range = 5\n",
    "nums = [-5,0,4,3,2]\n",
    "\n",
    "print(\"\\nGenerate a number in a specified range (-5, 5) except [-5,0,4,3,2]\")\n",
    "print(generate_random(start_range,end_range,nums))"
   ]
  },
  {
   "cell_type": "markdown",
   "metadata": {},
   "source": [
    "#### Q146. Write a Python program to compute the sum of digits of each number of a given list. \n",
    "    Original tuple:\n",
    "    [10, 2, 56]\n",
    "    Sum of digits of each number of the said list of integers:\n",
    "    14\n",
    "    Original tuple:\n",
    "    [10, 20, 4, 5, 'b', 70, 'a']\n",
    "    Sum of digits of each number of the said list of integers:\n",
    "    19\n",
    "    Original tuple:\n",
    "    [10, 20, -4, 5, -70]\n",
    "    Sum of digits of each number of the said list of integers:\n",
    "    19"
   ]
  },
  {
   "cell_type": "code",
   "execution_count": 25,
   "metadata": {},
   "outputs": [
    {
     "name": "stdout",
     "output_type": "stream",
     "text": [
      "Original tuple: \n",
      "[10, 2, 56]\n",
      "Sum of digits of each number of the said list of integers:\n",
      "14\n",
      "\n",
      "Original tuple: \n",
      "[10, 20, 4, 5, 'b', 70, 'a']\n",
      "Sum of digits of each number of the said list of integers:\n",
      "19\n",
      "\n",
      "Original tuple: \n",
      "[10, 20, -4, 5, -70]\n",
      "Sum of digits of each number of the said list of integers:\n",
      "19\n"
     ]
    }
   ],
   "source": [
    "def sum_of_digits(nums):\n",
    "    return sum(int(el) for n in nums for el in str(n) if el.isdigit())\n",
    "\n",
    "nums = [10,2,56]\n",
    "print(\"Original tuple: \") \n",
    "print(nums)\n",
    "print(\"Sum of digits of each number of the said list of integers:\")\n",
    "print(sum_of_digits(nums))\n",
    "\n",
    "nums = [10,20,4,5,'b',70,'a']\n",
    "print(\"\\nOriginal tuple: \") \n",
    "print(nums)\n",
    "print(\"Sum of digits of each number of the said list of integers:\")\n",
    "print(sum_of_digits(nums))\n",
    "\n",
    "nums = [10,20,-4,5,-70]\n",
    "print(\"\\nOriginal tuple: \") \n",
    "print(nums)\n",
    "print(\"Sum of digits of each number of the said list of integers:\")\n",
    "print(sum_of_digits(nums))"
   ]
  },
  {
   "cell_type": "markdown",
   "metadata": {},
   "source": [
    "#### Q147. Write a Python program to interleave two given list into another list randomly. \n",
    "    Original lists:\n",
    "    [1, 2, 7, 8, 3, 7]\n",
    "    [4, 3, 8, 9, 4, 3, 8, 9]\n",
    "    Interleave two given list into another list randomly:\n",
    "    [4, 1, 2, 3, 8, 9, 4, 3, 7, 8, 9, 8, 3, 7]"
   ]
  },
  {
   "cell_type": "code",
   "execution_count": 26,
   "metadata": {},
   "outputs": [
    {
     "name": "stdout",
     "output_type": "stream",
     "text": [
      "Original lists:\n",
      "[1, 2, 7, 8, 3, 7]\n",
      "[4, 3, 8, 9, 4, 3, 8, 9]\n",
      "\n",
      "Interleave two given list into another list randomly:\n",
      "[4, 1, 2, 3, 8, 9, 7, 4, 8, 3, 3, 7, 8, 9]\n"
     ]
    }
   ],
   "source": [
    "import random\n",
    "def randomly_interleave(nums1, nums2):\n",
    "    result =  [x.pop(0) for x in random.sample([nums1]*len(nums1) + [nums2]*len(nums2), len(nums1)+len(nums2))]\n",
    "    return result\n",
    "nums1 = [1,2,7,8,3,7]\n",
    "nums2 = [4,3,8,9,4,3,8,9]\n",
    "print(\"Original lists:\") \n",
    "print(nums1)\n",
    "print(nums2)\n",
    "print(\"\\nInterleave two given list into another list randomly:\")\n",
    "print(randomly_interleave(nums1, nums2))"
   ]
  },
  {
   "cell_type": "markdown",
   "metadata": {},
   "source": [
    "#### Q148. Write a Python program to remove specific words from a given list. \n",
    "    Original list:\n",
    "    ['red', 'green', 'blue', 'white', 'black', 'orange']\n",
    "    Remove words:\n",
    "    ['white', 'orange']\n",
    "    After removing the specified words from the said list:\n",
    "    ['red', 'green', 'blue', 'black']"
   ]
  },
  {
   "cell_type": "code",
   "execution_count": 27,
   "metadata": {},
   "outputs": [
    {
     "name": "stdout",
     "output_type": "stream",
     "text": [
      "Original list:\n",
      "['red', 'green', 'blue', 'white', 'black', 'orange']\n",
      "\n",
      "Remove words:\n",
      "['white', 'orange']\n",
      "\n",
      "After removing the specified words from the said list:\n",
      "['red', 'green', 'blue', 'black']\n"
     ]
    }
   ],
   "source": [
    "def remove_words(list1, remove_words):\n",
    "    for word in list(list1):\n",
    "        if word in remove_words:\n",
    "            list1.remove(word)\n",
    "    return list1        \n",
    "colors = ['red', 'green', 'blue', 'white', 'black', 'orange']\n",
    "remove_colors = ['white', 'orange']\n",
    "print(\"Original list:\")\n",
    "print(colors)\n",
    "print(\"\\nRemove words:\")\n",
    "print(remove_colors)\n",
    "print(\"\\nAfter removing the specified words from the said list:\")\n",
    "print(remove_words(colors, remove_colors))"
   ]
  },
  {
   "cell_type": "markdown",
   "metadata": {},
   "source": [
    "#### Q149. Write a Python program to get all possible combinations of the elements of a given list.\n",
    "    Original list:\n",
    "    ['orange', 'red', 'green', 'blue']\n",
    "    All possible combinations of the said list's elements:\n",
    "    [[], ['orange'], ['red'], ['red', 'orange'], ['green'], ['green', 'orange'], ['green', 'red'], ['green', 'red', 'orange'], ['blue'], ['blue', 'orange'], ['blue', 'red'], ['blue', 'red', 'orange'], ['blue', 'green'], ['blue', 'green', 'orange'], ['blue', 'green', 'red'], ['blue', 'green', 'red', 'orange']]"
   ]
  },
  {
   "cell_type": "code",
   "execution_count": 28,
   "metadata": {},
   "outputs": [
    {
     "name": "stdout",
     "output_type": "stream",
     "text": [
      "Original list:\n",
      "['orange', 'red', 'green', 'blue']\n",
      "\n",
      "All possible combinations of the said list’s elements:\n",
      "[[], ['orange'], ['red'], ['red', 'orange'], ['green'], ['green', 'orange'], ['green', 'red'], ['green', 'red', 'orange'], ['blue'], ['blue', 'orange'], ['blue', 'red'], ['blue', 'red', 'orange'], ['blue', 'green'], ['blue', 'green', 'orange'], ['blue', 'green', 'red'], ['blue', 'green', 'red', 'orange']]\n"
     ]
    }
   ],
   "source": [
    "def combinations_list(colors):\n",
    "    if len(colors) == 0:\n",
    "        return [[]]\n",
    "    result = []\n",
    "    for el in combinations_list(colors[1:]):\n",
    "        result += [el, el+[colors[0]]]\n",
    "    return result\n",
    "colors = ['orange', 'red', 'green', 'blue']\n",
    "print(\"Original list:\")\n",
    "print(colors)\n",
    "print(\"\\nAll possible combinations of the said list’s elements:\")\n",
    "print(combinations_list(colors))\n"
   ]
  },
  {
   "cell_type": "markdown",
   "metadata": {},
   "source": [
    "#### Q150. Write a Python program to reverse a given list of lists. \n",
    "    Original list:\n",
    "    [['orange', 'red'], ['green', 'blue'], ['white', 'black', 'pink']]\n",
    "    Reverse said list of lists:\n",
    "    [['white', 'black', 'pink'], ['green', 'blue'], ['orange', 'red']]\n",
    "    Original list:\n",
    "    [[1, 2, 3, 4], [0, 2, 4, 5], [2, 3, 4, 2, 4]]\n",
    "    Reverse said list of lists:\n",
    "    [[2, 3, 4, 2, 4], [0, 2, 4, 5], [1, 2, 3, 4]]"
   ]
  },
  {
   "cell_type": "code",
   "execution_count": 29,
   "metadata": {},
   "outputs": [
    {
     "name": "stdout",
     "output_type": "stream",
     "text": [
      "Original list:\n",
      "[['orange', 'red'], ['green', 'blue'], ['white', 'black', 'pink']]\n",
      "\n",
      "Reverse said list of lists:\n",
      "[['white', 'black', 'pink'], ['green', 'blue'], ['orange', 'red']]\n",
      "\n",
      "Original list:\n",
      "[[1, 2, 3, 4], [0, 2, 4, 5], [2, 3, 4, 2, 4]]\n",
      "\n",
      "Reverse said list of lists:\n",
      "[[2, 3, 4, 2, 4], [0, 2, 4, 5], [1, 2, 3, 4]]\n"
     ]
    }
   ],
   "source": [
    "def reverse_list_of_lists(list1):\n",
    "    return list1[::-1]\n",
    "colors = [['orange', 'red'], ['green', 'blue'], ['white', 'black', 'pink']]\n",
    "print(\"Original list:\")\n",
    "print(colors)\n",
    "print(\"\\nReverse said list of lists:\")\n",
    "print(reverse_list_of_lists(colors))\n",
    "nums = [[1,2,3,4], [0,2,4,5], [2,3,4,2,4]]\n",
    "print(\"\\nOriginal list:\")\n",
    "print(nums)\n",
    "print(\"\\nReverse said list of lists:\")\n",
    "print(reverse_list_of_lists(nums))"
   ]
  },
  {
   "cell_type": "markdown",
   "metadata": {},
   "source": [
    "#### Q151. Write a Python program to find the maximum and minimum values in a given list within specified index range. \n",
    "    Original list:\n",
    "    [4, 3, 0, 5, 3, 0, 2, 3, 4, 2, 4, 3, 5]\n",
    "    Index range:\n",
    "    3 to 8\n",
    "    Maximum and minimum values of the said given list within index range:\n",
    "    (5, 0)"
   ]
  },
  {
   "cell_type": "code",
   "execution_count": 30,
   "metadata": {},
   "outputs": [
    {
     "name": "stdout",
     "output_type": "stream",
     "text": [
      "Original list:\n",
      "[4, 3, 0, 5, 3, 0, 2, 3, 4, 2, 4, 3, 5]\n",
      "\n",
      "Index range:\n",
      "3 to 8\n",
      "\n",
      "Maximum and minimum values of the said given list within index range:\n",
      "(5, 0)\n"
     ]
    }
   ],
   "source": [
    "def find_max_min_list(nums,lr,hr):\n",
    "    temp = []\n",
    "    for idx, el in enumerate(nums):\n",
    "        if idx >= lr and idx < hr:\n",
    "            temp.append(el)\n",
    "    result_max = max(temp) \n",
    "    result_min = min(temp) \n",
    "    return result_max, result_min\n",
    "nums = [4,3,0,5,3,0,2,3,4,2,4,3,5]\n",
    "print(\"Original list:\")\n",
    "print(nums)\n",
    "print(\"\\nIndex range:\")\n",
    "lr = 3\n",
    "hr = 8\n",
    "print(lr,\"to\",hr)\n",
    "print(\"\\nMaximum and minimum values of the said given list within index range:\")\n",
    "print(find_max_min_list(nums,lr,hr))"
   ]
  },
  {
   "cell_type": "markdown",
   "metadata": {},
   "source": [
    "#### Q152. Write a Python program to combine two given sorted lists using heapq module. \n",
    "    Original sorted lists:\n",
    "    [1, 3, 5, 7, 9, 11]\n",
    "    [0, 2, 4, 6, 8, 10]\n",
    "    After merging the said two sorted lists:\n",
    "    [0, 1, 2, 3, 4, 5, 6, 7, 8, 9, 10, 11]"
   ]
  },
  {
   "cell_type": "code",
   "execution_count": 31,
   "metadata": {},
   "outputs": [
    {
     "name": "stdout",
     "output_type": "stream",
     "text": [
      "Original sorted lists:\n",
      "[1, 3, 5, 7, 9, 11]\n",
      "[0, 2, 4, 6, 8, 10]\n",
      "\n",
      "After merging the said two sorted lists:\n",
      "[0, 1, 2, 3, 4, 5, 6, 7, 8, 9, 10, 11]\n"
     ]
    }
   ],
   "source": [
    "from heapq import merge\n",
    "nums1 = [1, 3, 5, 7, 9, 11]\n",
    "nums2 = [0, 2, 4, 6, 8, 10]\n",
    "print(\"Original sorted lists:\")\n",
    "print(nums1)\n",
    "print(nums2)\n",
    "print(\"\\nAfter merging the said two sorted lists:\")\n",
    "print(list(merge(nums1, nums2)))"
   ]
  },
  {
   "cell_type": "markdown",
   "metadata": {},
   "source": [
    "#### Q153. Write a Python program to check if a given element occurs at least n times in a list. \n",
    "    Original list:\n",
    "    [0, 1, 3, 5, 0, 3, 4, 5, 0, 8, 0, 3, 6, 0, 3, 1, 1, 0]\n",
    "    Check if 3 occurs at least 4 times in a list:\n",
    "    True\n",
    "    Check if 0 occurs at least 5 times in a list:\n",
    "    True\n",
    "    Check if 8 occurs at least 3 times in a list:\n",
    "    False"
   ]
  },
  {
   "cell_type": "code",
   "execution_count": 32,
   "metadata": {},
   "outputs": [
    {
     "name": "stdout",
     "output_type": "stream",
     "text": [
      "Original list:\n",
      "[0, 1, 3, 5, 0, 3, 4, 5, 0, 8, 0, 3, 6, 0, 3, 1, 1, 0]\n",
      "\n",
      "Check if 3 occurs at least 4 times in a list:\n",
      "True\n",
      "\n",
      "Check if 0 occurs at least 5 times in a list:\n",
      "True\n",
      "\n",
      "Check if 8 occurs at least 3 times in a list:\n",
      "False\n"
     ]
    }
   ],
   "source": [
    "def check_element_in_list(lst, x, n):\n",
    "    t = 0\n",
    "    try:\n",
    "        for _ in range(n):\n",
    "            t = lst.index(x, t) + 1\n",
    "        return True\n",
    "    except ValueError:\n",
    "        return False\n",
    "\n",
    "nums = [0,1,3,5,0,3,4,5,0,8,0,3,6,0,3,1,1,0]\n",
    "print(\"Original list:\")\n",
    "print(nums)\n",
    "x = 3\n",
    "n = 4\n",
    "print(\"\\nCheck if\",x,\"occurs at least\",n,\"times in a list:\")\n",
    "print(check_element_in_list(nums,x,n))\n",
    "x = 0\n",
    "n = 5\n",
    "print(\"\\nCheck if\",x,\"occurs at least\",n,\"times in a list:\")\n",
    "print(check_element_in_list(nums,x,n))\n",
    "x = 8\n",
    "n = 3\n",
    "print(\"\\nCheck if\",x,\"occurs at least\",n,\"times in a list:\")\n",
    "print(check_element_in_list(nums,x,n))"
   ]
  },
  {
   "cell_type": "markdown",
   "metadata": {},
   "source": [
    "#### Q154. Write a Python program to join two given list of lists of same length, element wise.\n",
    "    Original lists:\n",
    "    [[10, 20], [30, 40], [50, 60], [30, 20, 80]]\n",
    "    [[61], [12, 14, 15], [12, 13, 19, 20], [12]]\n",
    "    Join the said two lists element wise:\n",
    "    [[10, 20, 61], [30, 40, 12, 14, 15], [50, 60, 12, 13, 19, 20], [30, 20, 80, 12]]\n",
    "    Original lists:\n",
    "    [['a', 'b'], ['b', 'c', 'd'], ['e', 'f']]\n",
    "    [['p', 'q'], ['p', 's', 't'], ['u', 'v', 'w']]\n",
    "    Join the said two lists element wise:\n",
    "    [['a', 'b', 'p', 'q'], ['b', 'c', 'd', 'p', 's', 't'], ['e', 'f', 'u', 'v', 'w']]"
   ]
  },
  {
   "cell_type": "code",
   "execution_count": 33,
   "metadata": {},
   "outputs": [
    {
     "name": "stdout",
     "output_type": "stream",
     "text": [
      "Original lists:\n",
      "[[10, 20], [30, 40], [50, 60], [30, 20, 80]]\n",
      "[[61], [12, 14, 15], [12, 13, 19, 20], [12]]\n",
      "\n",
      "Join the said two lists element wise:\n",
      "[[10, 20, 61], [30, 40, 12, 14, 15], [50, 60, 12, 13, 19, 20], [30, 20, 80, 12]]\n",
      "\n",
      "Original lists:\n",
      "[['a', 'b'], ['b', 'c', 'd'], ['e', 'f']]\n",
      "[['p', 'q'], ['p', 's', 't'], ['u', 'v', 'w']]\n",
      "\n",
      "Join the said two lists element wise:\n",
      "[['a', 'b', 'p', 'q'], ['b', 'c', 'd', 'p', 's', 't'], ['e', 'f', 'u', 'v', 'w']]\n"
     ]
    }
   ],
   "source": [
    "def elementswise_join(l1, l2):\n",
    "    result = [x + y for x, y in zip(l1, l2)]\n",
    "    return result\n",
    "\n",
    "nums1 = [[10,20], [30,40], [50,60], [30,20,80]]\n",
    "nums2 = [[61], [12,14,15], [12,13,19,20], [12]]\n",
    "print(\"Original lists:\")\n",
    "print(nums1)\n",
    "print(nums2)\n",
    "print(\"\\nJoin the said two lists element wise:\")\n",
    "print(elementswise_join(nums1, nums2))\n",
    "\n",
    "list1 = [['a','b'], ['b','c','d'], ['e', 'f']]\n",
    "list2 = [['p','q'], ['p','s','t'], ['u','v','w']]\n",
    "print(\"\\nOriginal lists:\")\n",
    "print(list1)\n",
    "print(list2)\n",
    "print(\"\\nJoin the said two lists element wise:\")\n",
    "print(elementswise_join(list1, list2))"
   ]
  },
  {
   "cell_type": "markdown",
   "metadata": {},
   "source": [
    "#### Q155. Write a Python program to add two given lists of different lengths, start from left. \n",
    "    Original lists:\n",
    "    [2, 4, 7, 0, 5, 8]\n",
    "    [3, 3, -1, 7]\n",
    "    Add said two lists from left:\n",
    "    [5, 7, 6, 7, 5, 8]\n",
    "    Original lists:\n",
    "    [1, 2, 3, 4, 5, 6]\n",
    "    [2, 4, -3]\n",
    "    Add said two lists from left:\n",
    "    [3, 6, 0, 4, 5, 6]"
   ]
  },
  {
   "cell_type": "code",
   "execution_count": 34,
   "metadata": {},
   "outputs": [
    {
     "name": "stdout",
     "output_type": "stream",
     "text": [
      "\n",
      "Original lists:\n",
      "[2, 4, 7, 0, 5, 8]\n",
      "[3, 3, -1, 7]\n",
      "\n",
      "Add said two lists from left:\n",
      "[5, 7, 6, 7, 5, 8]\n",
      "\n",
      "Original lists:\n",
      "[1, 2, 3, 4, 5, 6]\n",
      "[2, 4, -3]\n",
      "\n",
      "Add said two lists from left:\n",
      "[3, 6, 0, 4, 5, 6]\n"
     ]
    }
   ],
   "source": [
    "def elementswise_left_join(l1, l2):\n",
    "    f_len = len(l1)-(len(l2) - 1)\n",
    "    for i in range(0, len(l2), 1):\n",
    "        if f_len - i >= len(l1):\n",
    "            break\n",
    "        else:\n",
    "            l1[i] = l1[i] + l2[i]\n",
    "    return l1\n",
    "\n",
    "nums1 = [2, 4, 7, 0, 5, 8]\n",
    "nums2 = [3, 3, -1, 7]\n",
    "print(\"\\nOriginal lists:\")\n",
    "print(nums1)\n",
    "print(nums2)\n",
    "print(\"\\nAdd said two lists from left:\")\n",
    "print(elementswise_left_join(nums1,nums2))\n",
    "\n",
    "nums3 = [1, 2, 3, 4, 5, 6]\n",
    "nums4 = [2, 4, -3]\n",
    "print(\"\\nOriginal lists:\")\n",
    "print(nums3)\n",
    "print(nums4)\n",
    "print(\"\\nAdd said two lists from left:\")\n",
    "print(elementswise_left_join(nums3,nums4))"
   ]
  },
  {
   "cell_type": "markdown",
   "metadata": {},
   "source": [
    "#### Q156. Write a Python program to add two given lists of different lengths, start from right. \n",
    "    Original lists:\n",
    "    [2, 4, 7, 0, 5, 8]\n",
    "    [3, 3, -1, 7]\n",
    "    Add said two lists from left:\n",
    "    [2, 4, 10, 3, 4, 15]\n",
    "    Original lists:\n",
    "    [1, 2, 3, 4, 5, 6]\n",
    "    [2, 4, -3]\n",
    "    Add said two lists from left:\n",
    "    [1, 2, 3, 6, 9, 3]"
   ]
  },
  {
   "cell_type": "code",
   "execution_count": 35,
   "metadata": {},
   "outputs": [
    {
     "name": "stdout",
     "output_type": "stream",
     "text": [
      "\n",
      "Original lists:\n",
      "[2, 4, 7, 0, 5, 8]\n",
      "[3, 3, -1, 7]\n",
      "\n",
      "Add said two lists from left:\n",
      "[2, 4, 10, 3, 4, 15]\n",
      "\n",
      "Original lists:\n",
      "[1, 2, 3, 4, 5, 6]\n",
      "[2, 4, -3]\n",
      "\n",
      "Add said two lists from left:\n",
      "[1, 2, 3, 6, 9, 3]\n"
     ]
    }
   ],
   "source": [
    "def elementswise_right_join(l1, l2):\n",
    "    f_len = len(l1)-(len(l2) - 1)\n",
    "    for i in range(len(l1), 0, -1):\n",
    "        if i-f_len < 0:\n",
    "            break\n",
    "        else:\n",
    "            l1[i-1] = l1[i-1] + l2[i-f_len]\n",
    "    return l1\n",
    "\n",
    "nums1 = [2, 4, 7, 0, 5, 8]\n",
    "nums2 = [3, 3, -1, 7]\n",
    "print(\"\\nOriginal lists:\")\n",
    "print(nums1)\n",
    "print(nums2)\n",
    "print(\"\\nAdd said two lists from left:\")\n",
    "print(elementswise_right_join(nums1, nums2))\n",
    "\n",
    "nums3 = [1, 2, 3, 4, 5, 6]\n",
    "nums4 = [2, 4, -3]\n",
    "print(\"\\nOriginal lists:\")\n",
    "print(nums3)\n",
    "print(nums4)\n",
    "print(\"\\nAdd said two lists from left:\")\n",
    "print(elementswise_right_join(nums3, nums4))"
   ]
  },
  {
   "cell_type": "markdown",
   "metadata": {},
   "source": [
    "#### Q157. Write a Python program to interleave multiple given lists of different lengths. \n",
    "    Original lists:\n",
    "    [2, 4, 7, 0, 5, 8]\n",
    "    [2, 5, 8]\n",
    "    [0, 1]\n",
    "    [3, 3, -1, 7]\n",
    "    Interleave said lists of different lengths:\n",
    "    [2, 2, 0, 3, 4, 5, 1, 3, 7, 8, -1, 0, 7, 5, 8]"
   ]
  },
  {
   "cell_type": "code",
   "execution_count": 36,
   "metadata": {},
   "outputs": [
    {
     "name": "stdout",
     "output_type": "stream",
     "text": [
      "\n",
      "Original lists:\n",
      "[2, 4, 7, 0, 5, 8]\n",
      "[2, 5, 8]\n",
      "[0, 1]\n",
      "[3, 3, -1, 7]\n",
      "\n",
      "Interleave said lists of different lengths:\n",
      "[2, 2, 0, 3, 4, 5, 1, 3, 7, 8, -1, 0, 7, 5, 8]\n"
     ]
    }
   ],
   "source": [
    "def interleave_diff_len_lists(list1, list2, list3, list4):\n",
    "    result = []\n",
    "    l1 = len(list1)\n",
    "    l2 = len(list2)\n",
    "    l3 = len(list3)\n",
    "    l4 = len(list4)\n",
    "    \n",
    "    for i in range(max(l1, l2, l3, l4)):\n",
    "        if i < l1:\n",
    "            result.append(list1[i])\n",
    "        if i < l2:\n",
    "            result.append(list2[i])\n",
    "        if i < l3:\n",
    "            result.append(list3[i])\n",
    "        if i < l4:\n",
    "            result.append(list4[i])\n",
    "    return result\n",
    "\n",
    "nums1 = [2, 4, 7, 0, 5, 8]\n",
    "nums2 = [2, 5, 8]\n",
    "nums3 = [0, 1]\n",
    "nums4 = [3, 3, -1, 7]\n",
    "\n",
    "print(\"\\nOriginal lists:\")\n",
    "print(nums1)\n",
    "print(nums2)\n",
    "print(nums3)\n",
    "print(nums4)\n",
    "\n",
    "print(\"\\nInterleave said lists of different lengths:\")\n",
    "print(interleave_diff_len_lists(nums1, nums2, nums3, nums4))"
   ]
  },
  {
   "cell_type": "markdown",
   "metadata": {},
   "source": [
    "#### Q158. Write a Python program to find the maximum and minimum values in a given list of tuples. \n",
    "    Original list with tuples:\n",
    "    [('V', 60), ('VI', 70), ('VII', 75), ('VIII', 72), ('IX', 78), ('X', 70)]\n",
    "    Maximum and minimum values of the said list of tuples:\n",
    "    (78, 60)"
   ]
  },
  {
   "cell_type": "code",
   "execution_count": 37,
   "metadata": {},
   "outputs": [
    {
     "name": "stdout",
     "output_type": "stream",
     "text": [
      "Original list with tuples:\n",
      "[('V', 60), ('VI', 70), ('VII', 75), ('VIII', 72), ('IX', 78), ('X', 70)]\n",
      "\n",
      "Maximum and minimum values of the said list of tuples:\n",
      "(78, 60)\n"
     ]
    }
   ],
   "source": [
    "from operator import itemgetter\n",
    "\n",
    "def max_min_list_tuples(class_students):\n",
    "    return_max = max(class_students,key=itemgetter(1))[1] \n",
    "    return_min = min(class_students,key=itemgetter(1))[1] \n",
    "    return return_max, return_min\n",
    "   \n",
    "class_students = [('V', 60), ('VI', 70), ('VII', 75), ('VIII', 72), ('IX', 78), ('X', 70)]\n",
    "print(\"Original list with tuples:\")\n",
    "print(class_students)\n",
    "print(\"\\nMaximum and minimum values of the said list of tuples:\")\n",
    "print(max_min_list_tuples(class_students))"
   ]
  },
  {
   "cell_type": "markdown",
   "metadata": {},
   "source": [
    "#### Q159. Write a Python program to append the same value /a list multiple times to a list/list-of-lists. \n",
    "    Add a value(7), 5 times, to a list:\n",
    "    ['7', '7', '7', '7', '7']\n",
    "    Add 5, 6 times, to a list:\n",
    "    [1, 2, 3, 4, 5, 5, 5, 5, 5, 5]\n",
    "    Add a list, 4 times, to a list of lists:\n",
    "    [[1, 2, 5], [1, 2, 5], [1, 2, 5], [1, 2, 5]]\n",
    "    Add a list, 3 times, to a list of lists:\n",
    "    [[5, 6, 7], [1, 2, 5], [1, 2, 5], [1, 2, 5], [1, 2, 5]]"
   ]
  },
  {
   "cell_type": "code",
   "execution_count": 38,
   "metadata": {},
   "outputs": [
    {
     "name": "stdout",
     "output_type": "stream",
     "text": [
      "Add a value(7), 5 times, to a list:\n",
      "['7', '7', '7', '7', '7']\n",
      "\n",
      "Add 5, 6 times, to a list:\n",
      "[1, 2, 3, 4, 5, 5, 5, 5, 5, 5]\n",
      "\n",
      "Add a list, 4 times, to a list of lists:\n",
      "[[1, 2, 5], [1, 2, 5], [1, 2, 5], [1, 2, 5]]\n",
      "\n",
      "Add a list, 4 times, to a list of lists:\n",
      "[[5, 6, 7], [1, 2, 5], [1, 2, 5], [1, 2, 5], [1, 2, 5]]\n"
     ]
    }
   ],
   "source": [
    "print(\"Add a value(7), 5 times, to a list:\")\n",
    "nums = []\n",
    "nums += 5 * ['7']\n",
    "print(nums)\n",
    "nums1 = [1,2,3,4]\n",
    "print(\"\\nAdd 5, 6 times, to a list:\")\n",
    "nums1 += 6 * [5]\n",
    "print(nums1)\n",
    "print(\"\\nAdd a list, 4 times, to a list of lists:\")\n",
    "nums1 = []\n",
    "nums1 += 4 * [[1,2,5]]\n",
    "print(nums1)\n",
    "print(\"\\nAdd a list, 4 times, to a list of lists:\")\n",
    "nums1 = [[5,6,7]]\n",
    "nums1 += 4 * [[1,2,5]]\n",
    "print(nums1)"
   ]
  },
  {
   "cell_type": "markdown",
   "metadata": {},
   "source": [
    "#### Q160. Write a Python program to remove first specified number of elements from a given list satisfying a condition. \n",
    "    Remove the first 4 number of even numbers from the following list:\n",
    "    [3,10,4,7,5,7,8,3,3,4,5,9,3,4,9,8,5]\n",
    "    Output:\n",
    "    [3, 7, 5, 7, 3, 3, 5, 9, 3, 4, 9, 8, 5]\n",
    "    Original list:\n",
    "    [3, 10, 4, 7, 5, 7, 8, 3, 3, 4, 5, 9, 3, 4, 9, 8, 5]\n",
    "    Remove first 4 even numbers from the said list:\n",
    "    [3, 7, 5, 7, 3, 3, 5, 9, 3, 4, 9, 8, 5]"
   ]
  },
  {
   "cell_type": "code",
   "execution_count": 39,
   "metadata": {},
   "outputs": [
    {
     "name": "stdout",
     "output_type": "stream",
     "text": [
      "Original list:\n",
      "[3, 10, 4, 7, 5, 7, 8, 3, 3, 4, 5, 9, 3, 4, 9, 8, 5]\n",
      "\n",
      "Remove first 4 even numbers from the said list:\n",
      "[3, 7, 5, 7, 3, 3, 5, 9, 3, 4, 9, 8, 5]\n"
     ]
    }
   ],
   "source": [
    "def condition_match(x):\n",
    "    return ((x % 2) == 0)\n",
    "def remove_items_con(data, N):\n",
    "    ctr = 1\n",
    "    result = []\n",
    "    for x in data:\n",
    "        if ctr > N or not condition_match(x):\n",
    "            result.append(x)\n",
    "        else:\n",
    "            ctr = ctr + 1\n",
    "    return result\n",
    "nums = [3,10,4,7,5,7,8,3,3,4,5,9,3,4,9,8,5]\n",
    "N = 4\n",
    "print(\"Original list:\")\n",
    "print(nums)\n",
    "print(\"\\nRemove first 4 even numbers from the said list:\")\n",
    "print(remove_items_con(nums, N))"
   ]
  },
  {
   "cell_type": "markdown",
   "metadata": {},
   "source": [
    "#### Q161. Write a Python program to check if a given list is strictly increasing or not. Moreover, If removing only one element from the list results in a strictly increasing list, we still consider the list true.\n",
    "    True\n",
    "    True\n",
    "    True\n",
    "    True\n",
    "    True\n",
    "    True\n",
    "    True\n",
    "    True\n",
    "    True\n",
    "    True\n",
    "    True\n",
    "    False\n",
    "    False\n",
    "    False\n",
    "    False\n",
    "    False"
   ]
  },
  {
   "cell_type": "code",
   "execution_count": 40,
   "metadata": {},
   "outputs": [
    {
     "name": "stdout",
     "output_type": "stream",
     "text": [
      "True\n",
      "True\n",
      "True\n",
      "True\n",
      "True\n",
      "True\n",
      "True\n",
      "True\n",
      "True\n",
      "True\n",
      "True\n",
      "False\n",
      "False\n",
      "False\n",
      "False\n",
      "False\n"
     ]
    }
   ],
   "source": [
    "# Source: https://bit.ly/3qZqcwm\n",
    "def almost_increasing_sequence(sequence):\n",
    "    if len(sequence) < 3:\n",
    "        return True\n",
    "\n",
    "    a, b, *sequence = sequence\n",
    "    skipped = 0\n",
    "    for c in sequence:\n",
    "        if a < b < c:  # XXX\n",
    "            a, b = b, c\n",
    "            continue\n",
    "        elif b < c:    # !XX\n",
    "            a, b = b, c\n",
    "        elif a < c:    # X!X\n",
    "            a, b = a, c\n",
    "        skipped += 1\n",
    "        if skipped == 2:\n",
    "            return False\n",
    "    return a < b\n",
    "\n",
    "print(almost_increasing_sequence([]))\n",
    "print(almost_increasing_sequence([1]))\n",
    "print(almost_increasing_sequence([1, 2]))\n",
    "print(almost_increasing_sequence([1, 2, 3]))\n",
    "print(almost_increasing_sequence([3, 1, 2]))\n",
    "print(almost_increasing_sequence([1, 2, 3, 0, 4, 5, 6]))\n",
    "print(almost_increasing_sequence([1, 2, 3, 0]))\n",
    "print(almost_increasing_sequence([1, 2, 0, 3]))\n",
    "print(almost_increasing_sequence([10, 1, 2, 3, 4, 5]))\n",
    "print(almost_increasing_sequence([1, 2, 10, 3, 4]))\n",
    "print(almost_increasing_sequence([1, 2, 3, 12, 4, 5]))\n",
    "\n",
    "print(almost_increasing_sequence([3, 2, 1]))\n",
    "print(almost_increasing_sequence([1, 2, 0, -1]))\n",
    "print(almost_increasing_sequence([5, 6, 1, 2]))\n",
    "print(almost_increasing_sequence([1, 2, 3, 0, -1]))\n",
    "print(almost_increasing_sequence([10, 11, 12, 2, 3, 4, 5]))"
   ]
  },
  {
   "cell_type": "markdown",
   "metadata": {},
   "source": [
    "#### Q162. Write a Python program to find the last occurrence of a specified item in a given list.\n",
    "    Original list:\n",
    "    ['s', 'd', 'f', 's', 'd', 'f', 's', 'f', 'k', 'o', 'p', 'i', 'w', 'e', 'k', 'c']\n",
    "    Last occurrence of f in the said list:\n",
    "    7\n",
    "    Last occurrence of c in the said list:\n",
    "    15\n",
    "    Last occurrence of k in the said list:\n",
    "    14\n",
    "    Last occurrence of w in the said list:\n",
    "    12"
   ]
  },
  {
   "cell_type": "code",
   "execution_count": 41,
   "metadata": {},
   "outputs": [
    {
     "name": "stdout",
     "output_type": "stream",
     "text": [
      "Original list:\n",
      "['s', 'd', 'f', 's', 'd', 'f', 's', 'f', 'k', 'o', 'p', 'i', 'w', 'e', 'k', 'c']\n",
      "Last occurrence of f in the said list:\n",
      "7\n",
      "Last occurrence of c in the said list:\n",
      "15\n",
      "Last occurrence of k in the said list:\n",
      "14\n",
      "Last occurrence of w in the said list:\n",
      "12\n"
     ]
    }
   ],
   "source": [
    "def last_occurrence(l1, ch):\n",
    "    return ''.join(l1).rindex(ch)\n",
    "\n",
    "chars = ['s','d','f','s','d','f','s','f','k','o','p','i','w','e','k','c']\n",
    "print(\"Original list:\")\n",
    "print(chars)\n",
    "ch = 'f'\n",
    "print(\"Last occurrence of\",ch,\"in the said list:\")\n",
    "print(last_occurrence(chars, ch))\n",
    "ch = 'c'\n",
    "print(\"Last occurrence of\",ch,\"in the said list:\")\n",
    "print(last_occurrence(chars, ch))\n",
    "ch = 'k'\n",
    "print(\"Last occurrence of\",ch,\"in the said list:\")\n",
    "print(last_occurrence(chars, ch))\n",
    "ch = 'w'\n",
    "print(\"Last occurrence of\",ch,\"in the said list:\")\n",
    "print(last_occurrence(chars, ch)) "
   ]
  },
  {
   "cell_type": "markdown",
   "metadata": {},
   "source": [
    "#### Q163. Write a Python program to get the index of the first element which is greater than a specified element. \n",
    "    Original list:\n",
    "    [12, 45, 23, 67, 78, 90, 100, 76, 38, 62, 73, 29, 83]\n",
    "    Index of the first element which is greater than 73 in the said list:\n",
    "    4\n",
    "    Index of the first element which is greater than 21 in the said list:\n",
    "    1\n",
    "    Index of the first element which is greater than 80 in the said list:\n",
    "    5\n",
    "    Index of the first element which is greater than 55 in the said list:\n",
    "    3"
   ]
  },
  {
   "cell_type": "code",
   "execution_count": 42,
   "metadata": {},
   "outputs": [
    {
     "name": "stdout",
     "output_type": "stream",
     "text": [
      "Original list:\n",
      "[12, 45, 23, 67, 78, 90, 100, 76, 38, 62, 73, 29, 83]\n",
      "\n",
      "Index of the first element which is greater than 73 in the said list:\n",
      "4\n",
      "\n",
      "Index of the first element which is greater than 21 in the said list:\n",
      "1\n",
      "\n",
      "Index of the first element which is greater than 80 in the said list:\n",
      "5\n",
      "\n",
      "Index of the first element which is greater than 55 in the said list:\n",
      "3\n"
     ]
    }
   ],
   "source": [
    "def first_index(l1, n):\n",
    "    return next(a[0] for a in enumerate(l1) if a[1] > n)\n",
    " \n",
    "nums = [12,45,23,67,78,90,100,76,38,62,73,29,83]\n",
    "print(\"Original list:\")\n",
    "print(nums)\n",
    "n = 73\n",
    "print(\"\\nIndex of the first element which is greater than\",n,\"in the said list:\")\n",
    "print(first_index(nums,n))\n",
    "n = 21\n",
    "print(\"\\nIndex of the first element which is greater than\",n,\"in the said list:\")\n",
    "print(first_index(nums,n))\n",
    "n = 80\n",
    "print(\"\\nIndex of the first element which is greater than\",n,\"in the said list:\")\n",
    "print(first_index(nums,n))\n",
    "n = 55\n",
    "print(\"\\nIndex of the first element which is greater than\",n,\"in the said list:\")\n",
    "print(first_index(nums,n))"
   ]
  },
  {
   "cell_type": "markdown",
   "metadata": {},
   "source": [
    "#### Q164. Write a Python program to get the items from a given list with specific condition.\n",
    "    Original list:\n",
    "    [12, 45, 23, 67, 78, 90, 45, 32, 100, 76, 38, 62, 73, 29, 83]\n",
    "    Number of Items of the said list which are even and greater than 45\n",
    "    5"
   ]
  },
  {
   "cell_type": "code",
   "execution_count": 43,
   "metadata": {},
   "outputs": [
    {
     "name": "stdout",
     "output_type": "stream",
     "text": [
      "Original list:\n",
      "[12, 45, 23, 67, 78, 90, 45, 32, 100, 76, 38, 62, 73, 29, 83]\n",
      "\n",
      "Number of Items of the said list which are even and greater than 45\n",
      "5\n"
     ]
    }
   ],
   "source": [
    "def first_index(l1):\n",
    "    return sum(1 for i in l1 if (i> 45 and i % 2 == 0))\n",
    "\n",
    "nums = [12,45,23,67,78,90,45,32,100,76,38,62,73,29,83]\n",
    "print(\"Original list:\")\n",
    "print(nums)\n",
    "n = 45\n",
    "print(\"\\nNumber of Items of the said list which are even and greater than\",n)\n",
    "print(first_index(nums))"
   ]
  },
  {
   "cell_type": "markdown",
   "metadata": {},
   "source": [
    "#### Q165. Write a Python program to split a given list into specified sized chunks. \n",
    "    Original list:\n",
    "    [12, 45, 23, 67, 78, 90, 45, 32, 100, 76, 38, 62, 73, 29, 83]\n",
    "    Split the said list into equal size 3\n",
    "    [[12, 45, 23], [67, 78, 90], [45, 32, 100], [76, 38, 62], [73, 29, 83]]\n",
    "    Split the said list into equal size 4\n",
    "    [[12, 45, 23, 67], [78, 90, 45, 32], [100, 76, 38, 62], [73, 29, 83]]\n",
    "    Split the said list into equal size 5\n",
    "    [[12, 45, 23, 67, 78], [90, 45, 32, 100, 76], [38, 62, 73, 29, 83]]"
   ]
  },
  {
   "cell_type": "code",
   "execution_count": 44,
   "metadata": {},
   "outputs": [
    {
     "name": "stdout",
     "output_type": "stream",
     "text": [
      "Original list:\n",
      "[12, 45, 23, 67, 78, 90, 45, 32, 100, 76, 38, 62, 73, 29, 83]\n",
      "\n",
      "Split the said list into equal size 3\n",
      "[[12, 45, 23], [67, 78, 90], [45, 32, 100], [76, 38, 62], [73, 29, 83]]\n",
      "\n",
      "Split the said list into equal size 4\n",
      "[[12, 45, 23, 67], [78, 90, 45, 32], [100, 76, 38, 62], [73, 29, 83]]\n",
      "\n",
      "Split the said list into equal size 5\n",
      "[[12, 45, 23, 67, 78], [90, 45, 32, 100, 76], [38, 62, 73, 29, 83]]\n"
     ]
    }
   ],
   "source": [
    "def split_list(lst, n):\n",
    "    result = list((lst[i:i+n] for i in range(0, len(lst), n)))\n",
    "    return result\n",
    "nums = [12,45,23,67,78,90,45,32,100,76,38,62,73,29,83]\n",
    "print(\"Original list:\")\n",
    "print(nums)\n",
    "n = 3\n",
    "print(\"\\nSplit the said list into equal size\",n)\n",
    "print(split_list(nums,n))\n",
    "n = 4\n",
    "print(\"\\nSplit the said list into equal size\",n)\n",
    "print(split_list(nums,n))\n",
    "n = 5\n",
    "print(\"\\nSplit the said list into equal size\",n)\n",
    "print(split_list(nums,n))"
   ]
  },
  {
   "cell_type": "markdown",
   "metadata": {},
   "source": [
    "#### Q166. Write a Python program to remove None value from a given list. \n",
    "    Original list:\n",
    "    [12, 0, None, 23, None, -55, 234, 89, None, 0, 6, -12]\n",
    "    Remove None value from the said list:\n",
    "    [12, 0, 23, -55, 234, 89, 0, 6, -12]"
   ]
  },
  {
   "cell_type": "code",
   "execution_count": 45,
   "metadata": {},
   "outputs": [
    {
     "name": "stdout",
     "output_type": "stream",
     "text": [
      "Original list:\n",
      "[12, 0, None, 23, None, -55, 234, 89, None, 0, 6, -12]\n",
      "\n",
      "Remove None value from the said list:\n",
      "[12, 0, 23, -55, 234, 89, 0, 6, -12]\n"
     ]
    }
   ],
   "source": [
    "def remove_none(nums):\n",
    "    result = [x for x in nums if x is not None]\n",
    "    return result\n",
    "nums = [12, 0, None, 23, None, -55, 234, 89, None, 0, 6, -12]\n",
    "print(\"Original list:\")\n",
    "print(nums)\n",
    "print(\"\\nRemove None value from the said list:\")\n",
    "print(remove_none(nums))"
   ]
  },
  {
   "cell_type": "markdown",
   "metadata": {},
   "source": [
    "#### Q167. Write a Python program to convert a given list of strings into list of lists. \n",
    "    Original list of strings:\n",
    "    ['Red', 'Maroon', 'Yellow', 'Olive']\n",
    "    Convert the said list of strings into list of lists:\n",
    "    [['R', 'e', 'd'], ['M', 'a', 'r', 'o', 'o', 'n'], ['Y', 'e', 'l', 'l', 'o', 'w'], ['O', 'l', 'i', 'v', 'e']]"
   ]
  },
  {
   "cell_type": "code",
   "execution_count": 46,
   "metadata": {},
   "outputs": [
    {
     "name": "stdout",
     "output_type": "stream",
     "text": [
      "Original list of strings:\n",
      "['Red', 'Maroon', 'Yellow', 'Olive']\n",
      "\n",
      "Convert the said list of strings into list of lists:\n",
      "[['R', 'e', 'd'], ['M', 'a', 'r', 'o', 'o', 'n'], ['Y', 'e', 'l', 'l', 'o', 'w'], ['O', 'l', 'i', 'v', 'e']]\n"
     ]
    }
   ],
   "source": [
    "def strings_to_listOflists(colors):\n",
    "    result = [list(word) for word in colors]\n",
    "    return result\n",
    "\n",
    "colors = [\"Red\", \"Maroon\", \"Yellow\", \"Olive\"]\n",
    "print('Original list of strings:')\n",
    "print(colors)\n",
    "print(\"\\nConvert the said list of strings into list of lists:\")\n",
    "print(strings_to_listOflists(colors))"
   ]
  },
  {
   "cell_type": "markdown",
   "metadata": {},
   "source": [
    "#### Q168. Write a Python program to display vertically each element of a given list, list of lists.\n",
    "    Original list:\n",
    "    ['a', 'b', 'c', 'd', 'e', 'f']\n",
    "    Display each element vertically of the said list:\n",
    "    a\n",
    "    b\n",
    "    c\n",
    "    d\n",
    "    e\n",
    "    f\n",
    "    Original list:\n",
    "    [[1, 2, 5], [4, 5, 8], [7, 3, 6]]\n",
    "    Display each element vertically of the said list of lists:\n",
    "    1 4 7\n",
    "    2 5 3\n",
    "    5 8 6"
   ]
  },
  {
   "cell_type": "code",
   "execution_count": 47,
   "metadata": {},
   "outputs": [
    {
     "name": "stdout",
     "output_type": "stream",
     "text": [
      "Original list:\n",
      "['a', 'b', 'c', 'd', 'e', 'f']\n",
      "\n",
      "Display each element vertically of the said list:\n",
      "a\n",
      "b\n",
      "c\n",
      "d\n",
      "e\n",
      "f\n",
      "Original list:\n",
      "[[1, 2, 5], [4, 5, 8], [7, 3, 6]]\n",
      "\n",
      "Display each element vertically of the said list of lists:\n",
      "1 4 7\n",
      "2 5 3\n",
      "5 8 6\n"
     ]
    }
   ],
   "source": [
    "text = [\"a\", \"b\", \"c\", \"d\",\"e\", \"f\"]\n",
    "print(\"Original list:\")\n",
    "print(text)\n",
    "print(\"\\nDisplay each element vertically of the said list:\")\n",
    "for i in text:\n",
    "       print(i)\n",
    "nums = [[1, 2, 5], [4, 5, 8], [7, 3, 6]] \n",
    "print(\"Original list:\")\n",
    "print(nums)\n",
    "print(\"\\nDisplay each element vertically of the said list of lists:\")\n",
    "for a,b,c in zip(*nums): \n",
    "    print(a, b, c)\n"
   ]
  },
  {
   "cell_type": "markdown",
   "metadata": {},
   "source": [
    "#### Q169. Write a Python program to convert a given list of strings and characters to a single list of characters. \n",
    "    Original list:\n",
    "    ['red', 'white', 'a', 'b', 'black', 'f']\n",
    "    Convert the said list of strings and characters to a single list of characters:\n",
    "    ['r', 'e', 'd', 'w', 'h', 'i', 't', 'e', 'a', 'b', 'b', 'l', 'a', 'c', 'k', 'f']"
   ]
  },
  {
   "cell_type": "code",
   "execution_count": 48,
   "metadata": {},
   "outputs": [
    {
     "name": "stdout",
     "output_type": "stream",
     "text": [
      "Original list:\n",
      "['red', 'white', 'a', 'b', 'black', 'f']\n",
      "\n",
      "Convert the said list of strings and characters to a single list of characters:\n",
      "['r', 'e', 'd', 'w', 'h', 'i', 't', 'e', 'a', 'b', 'b', 'l', 'a', 'c', 'k', 'f']\n"
     ]
    }
   ],
   "source": [
    "def l_strs_to_l_chars(lst):\n",
    "    result = [i for element in lst for i in element]\n",
    "    return result\n",
    "\n",
    "colors = [\"red\", \"white\", \"a\", \"b\", \"black\", \"f\"]\n",
    "print(\"Original list:\")\n",
    "print(colors)\n",
    "print(\"\\nConvert the said list of strings and characters to a single list of characters:\")\n",
    "print(l_strs_to_l_chars(colors))"
   ]
  },
  {
   "cell_type": "markdown",
   "metadata": {},
   "source": [
    "#### Q170. Write a Python program to insert an element in a given list after every nth position. \n",
    "    Original list:\n",
    "    [1, 2, 3, 4, 5, 6, 7, 8, 9, 0]\n",
    "    Insert a in the said list after 2 nd element:\n",
    "    [1, 2, 'a', 3, 4, 'a', 5, 6, 'a', 7, 8, 'a', 9, 0]\n",
    "    Insert b in the said list after 4 th element:\n",
    "    [1, 2, 3, 4, 'b', 5, 6, 7, 8, 'b', 9, 0]"
   ]
  },
  {
   "cell_type": "code",
   "execution_count": 49,
   "metadata": {},
   "outputs": [
    {
     "name": "stdout",
     "output_type": "stream",
     "text": [
      "Original list:\n",
      "[1, 2, 3, 4, 5, 6, 7, 8, 9, 0]\n",
      "\n",
      "Insert a in the said list after 2 nd element:\n",
      "[1, 2, 'a', 3, 4, 'a', 5, 6, 'a', 7, 8, 'a', 9, 0]\n",
      "\n",
      "Insert b in the said list after 4 th element:\n",
      "[1, 2, 3, 4, 'b', 5, 6, 7, 8, 'b', 9, 0]\n"
     ]
    }
   ],
   "source": [
    "def insert_elemnt_nth(lst, ele, n):\n",
    "    result = []\n",
    "    for st_idx in range(0, len(lst), n):\n",
    "        result.extend(lst[st_idx:st_idx+n])\n",
    "        result.append(ele)\n",
    "    result.pop()    \n",
    "    return result\n",
    "\n",
    "nums = [1,2,3,4,5,6,7,8,9,0]\n",
    "print(\"Original list:\")\n",
    "print(nums)\n",
    "i_ele = 'a'\n",
    "i_ele_pos = 2\n",
    "print(\"\\nInsert\",i_ele,\"in the said list after\",i_ele_pos,\"nd element:\")\n",
    "print(insert_elemnt_nth(nums, i_ele, i_ele_pos))\n",
    "i_ele = 'b'\n",
    "i_ele_pos = 4\n",
    "print(\"\\nInsert\",i_ele,\"in the said list after\",i_ele_pos,\"th element:\")\n",
    "print(insert_elemnt_nth(nums, i_ele, i_ele_pos))"
   ]
  },
  {
   "cell_type": "markdown",
   "metadata": {},
   "source": [
    "#### Q171. Write a Python program to concatenate element-wise three given lists. \n",
    "    Original lists:\n",
    "    ['0', '1', '2', '3', '4']\n",
    "    ['red', 'green', 'black', 'blue', 'white']\n",
    "    ['100', '200', '300', '400', '500']\n",
    "    Concatenate element-wise three said lists:\n",
    "    ['0red100', '1green200', '2black300', '3blue400', '4white500']"
   ]
  },
  {
   "cell_type": "code",
   "execution_count": 51,
   "metadata": {},
   "outputs": [
    {
     "name": "stdout",
     "output_type": "stream",
     "text": [
      "Original lists:\n",
      "['0', '1', '2', '3', '4']\n",
      "['red', 'green', 'black', 'blue', 'white']\n",
      "['100', '200', '300', '400', '500']\n",
      "\n",
      "Concatenate element-wise three said lists:\n",
      "['0red100', '1green200', '2black300', '3blue400', '4white500']\n"
     ]
    }
   ],
   "source": [
    "def concatenate_lists(l1,l2,l3):\n",
    "    return [i + j + k for i, j, k in zip(l1, l2, l3)]\n",
    "    \n",
    "l1 = ['0','1','2','3','4'] \n",
    "l2 = ['red','green','black','blue','white']\n",
    "l3 = ['100','200','300','400','500'] \n",
    "\n",
    "print(\"Original lists:\")\n",
    "print(l1)\n",
    "print(l2)\n",
    "print(l3)\n",
    "print(\"\\nConcatenate element-wise three said lists:\")\n",
    "print(concatenate_lists(l1,l2,l3))"
   ]
  },
  {
   "cell_type": "markdown",
   "metadata": {},
   "source": [
    "#### Q172. Write a Python program to remove the last N number of elements from a given list. \n",
    "    Original lists:\n",
    "    [2, 3, 9, 8, 2, 0, 39, 84, 2, 2, 34, 2, 34, 5, 3, 5]\n",
    "    Remove the last 3 elements from the said list:\n",
    "    [2, 3, 9, 8, 2, 0, 39, 84, 2, 2, 34, 2, 34]\n",
    "    Remove the last 5 elements from the said list:\n",
    "    [2, 3, 9, 8, 2, 0, 39, 84, 2, 2, 34]\n",
    "    Remove the last 1 element from the said list:\n",
    "    [2, 3, 9, 8, 2, 0, 39, 84, 2, 2, 34, 2, 34, 5, 3]"
   ]
  },
  {
   "cell_type": "code",
   "execution_count": 52,
   "metadata": {},
   "outputs": [
    {
     "name": "stdout",
     "output_type": "stream",
     "text": [
      "Original lists:\n",
      "[2, 3, 9, 8, 2, 0, 39, 84, 2, 2, 34, 2, 34, 5, 3, 5]\n",
      "\n",
      "Remove the last 3 elements from the said list:\n",
      "[2, 3, 9, 8, 2, 0, 39, 84, 2, 2, 34, 2, 34]\n",
      "\n",
      "Remove the last 5 elements from the said list:\n",
      "[2, 3, 9, 8, 2, 0, 39, 84, 2, 2, 34]\n",
      "\n",
      "Remove the last 1 element from the said list:\n",
      "[2, 3, 9, 8, 2, 0, 39, 84, 2, 2, 34, 2, 34, 5, 3]\n"
     ]
    }
   ],
   "source": [
    "def remove_last_n(nums, N):\n",
    "    result = nums[:len(nums)-N]\n",
    "    return result    \n",
    "nums = [2,3,9,8,2,0,39,84,2,2,34,2,34,5,3,5]\n",
    "print(\"Original lists:\")\n",
    "print(nums)\n",
    "N = 3\n",
    "print(\"\\nRemove the last\",N,\"elements from the said list:\")\n",
    "print(remove_last_n(nums, N))\n",
    "N = 5\n",
    "print(\"\\nRemove the last\",N,\"elements from the said list:\")\n",
    "print(remove_last_n(nums, N))\n",
    "N = 1\n",
    "print(\"\\nRemove the last\",N,\"element from the said list:\")\n",
    "print(remove_last_n(nums, N))"
   ]
  },
  {
   "cell_type": "markdown",
   "metadata": {},
   "source": [
    "#### Q173. Write a Python program to merge some list items in given list using index value. \n",
    "    Original lists:\n",
    "    ['a', 'b', 'c', 'd', 'e', 'f', 'g']\n",
    "    Merge items from 2 to 4 in the said List:\n",
    "    ['a', 'b', 'cd', 'e', 'f', 'g']\n",
    "    Merge items from 3 to 7 in the said List:\n",
    "    ['a', 'b', 'c', 'defg']"
   ]
  },
  {
   "cell_type": "code",
   "execution_count": 53,
   "metadata": {},
   "outputs": [
    {
     "name": "stdout",
     "output_type": "stream",
     "text": [
      "Original lists:\n",
      "['a', 'b', 'c', 'd', 'e', 'f', 'g']\n",
      "\n",
      "Merge items from 2 to 4 in the said List:\n",
      "['a', 'b', 'cd', 'e', 'f', 'g']\n",
      "\n",
      "Merge items from 3 to 7 in the said List:\n",
      "['a', 'b', 'c', 'defg']\n"
     ]
    }
   ],
   "source": [
    "def merge_some_chars(lst,merge_from,merge_to):\n",
    "    result = lst\n",
    "    result[merge_from:merge_to] = [''.join(result[merge_from:merge_to])]    \n",
    "    return result    \n",
    "chars = ['a', 'b', 'c', 'd', 'e', 'f', 'g']\n",
    "print(\"Original lists:\")\n",
    "print(chars)\n",
    "merge_from = 2\n",
    "merge_to = 4\n",
    "print(\"\\nMerge items from\",merge_from,\"to\",merge_to,\"in the said List:\")\n",
    "print(merge_some_chars(chars,merge_from,merge_to))\n",
    "chars = ['a', 'b', 'c', 'd', 'e', 'f', 'g']\n",
    "merge_from = 3\n",
    "merge_to = 7\n",
    "print(\"\\nMerge items from\",merge_from,\"to\",merge_to,\"in the said List:\")\n",
    "print(merge_some_chars(chars,merge_from,merge_to))"
   ]
  },
  {
   "cell_type": "markdown",
   "metadata": {},
   "source": [
    "#### Q174. Write a Python program to add a number to each element in a given list of numbers. \n",
    "    Original lists:\n",
    "    [3, 8, 9, 4, 5, 0, 5, 0, 3]\n",
    "    Add 3 to each element in the said list:\n",
    "    [6, 11, 12, 7, 8, 3, 8, 3, 6]\n",
    "    Original lists:\n",
    "    [3.2, 8, 9.9, 4.2, 5, 0.1, 5, 3.11, 0]\n",
    "    Add 0.51 to each element in the said list:\n",
    "    [3.71, 8.51, 10.41, 4.71, 5.51, 0.61, 5.51, 3.62, 0.51]"
   ]
  },
  {
   "cell_type": "code",
   "execution_count": 54,
   "metadata": {},
   "outputs": [
    {
     "name": "stdout",
     "output_type": "stream",
     "text": [
      "Original lists:\n",
      "[3, 8, 9, 4, 5, 0, 5, 0, 3]\n",
      "\n",
      "Add 3 to each element in the said list:\n",
      "[6, 11, 12, 7, 8, 3, 8, 3, 6]\n",
      "\n",
      "Original lists:\n",
      "[3.2, 8, 9.9, 4.2, 5, 0.1, 5, 3.11, 0]\n",
      "\n",
      "Add 0.51 to each element in the said list:\n",
      "[3.71, 8.51, 10.41, 4.71, 5.51, 0.61, 5.51, 3.62, 0.51]\n"
     ]
    }
   ],
   "source": [
    "def add_val_to_list(lst, add_val):\n",
    "    result = lst\n",
    "    result = [x+add_val for x in result]   \n",
    "    return result    \n",
    "nums = [3,8,9,4,5,0,5,0,3]\n",
    "print(\"Original lists:\")\n",
    "print(nums)\n",
    "add_val = 3\n",
    "print(\"\\nAdd\",add_val,\"to each element in the said list:\")\n",
    "print(add_val_to_list(nums, add_val))\n",
    "nums = [3.2,8,9.9,4.2,5,0.1,5,3.11,0]\n",
    "print(\"\\nOriginal lists:\")\n",
    "print(nums)\n",
    "add_val = .51\n",
    "print(\"\\nAdd\",add_val,\"to each element in the said list:\")\n",
    "print(add_val_to_list(nums, add_val))"
   ]
  },
  {
   "cell_type": "markdown",
   "metadata": {},
   "source": [
    "#### Q175. Write a Python program to find the minimum, maximum value for each tuple position in a given list of tuples. \n",
    "    Original list:\n",
    "    [(2, 3), (2, 4), (0, 6), (7, 1)]\n",
    "    Maximum value for each tuple position in the said list of tuples:\n",
    "    [7, 6]\n",
    "    Minimum value for each tuple position in the said list of tuples:\n",
    "    [0, 1]"
   ]
  },
  {
   "cell_type": "code",
   "execution_count": 55,
   "metadata": {},
   "outputs": [
    {
     "name": "stdout",
     "output_type": "stream",
     "text": [
      "Original list:\n",
      "[(2, 3), (2, 4), (0, 6), (7, 1)]\n",
      "\n",
      "Maximum value  for each tuple position in the said list of tuples:\n",
      "[7, 6]\n",
      "\n",
      "Minimum value  for each tuple position in the said list of tuples:\n",
      "[0, 1]\n"
     ]
    }
   ],
   "source": [
    "def max_min_list_tuples(nums):\n",
    "    zip(*nums)\n",
    "    result1 = map(max, zip(*nums))\n",
    "    result2 = map(min, zip(*nums))\n",
    "    return list(result1), list(result2)\n",
    "\n",
    "nums = [(2,3),(2,4),(0,6),(7,1)]\n",
    "print(\"Original list:\")\n",
    "print(nums)\n",
    "\n",
    "result = max_min_list_tuples(nums)\n",
    "print(\"\\nMaximum value  for each tuple position in the said list of tuples:\")\n",
    "print(result[0])\n",
    "print(\"\\nMinimum value  for each tuple position in the said list of tuples:\")\n",
    "print(result[1])"
   ]
  },
  {
   "cell_type": "markdown",
   "metadata": {},
   "source": [
    "#### Q176. Write a Python program to create a new list dividing two given lists of numbers. \n",
    "    Original list:\n",
    "    [7, 2, 3, 4, 9, 2, 3]\n",
    "    [7, 2, 3, 4, 9, 2, 3]\n",
    "    [0.7777777777777778, 0.25, 1.5, 1.3333333333333333, 3.0, 2.0, 1.5]"
   ]
  },
  {
   "cell_type": "code",
   "execution_count": 56,
   "metadata": {},
   "outputs": [
    {
     "name": "stdout",
     "output_type": "stream",
     "text": [
      "Original list:\n",
      "[7, 2, 3, 4, 9, 2, 3]\n",
      "[7, 2, 3, 4, 9, 2, 3]\n",
      "[0.7777777777777778, 0.25, 1.5, 1.3333333333333333, 3.0, 2.0, 1.5]\n"
     ]
    }
   ],
   "source": [
    "def dividing_two_lists(l1,l2):\n",
    "    result = [x/y for x, y in zip(l1,l2)]\n",
    "    return result \n",
    "nums1 = [7,2,3,4,9,2,3]\n",
    "nums2 = [9,8,2,3,3,1,2]\n",
    "print(\"Original list:\")\n",
    "print(nums1)\n",
    "print(nums1)\n",
    "print(dividing_two_lists(nums1, nums2))"
   ]
  },
  {
   "cell_type": "markdown",
   "metadata": {},
   "source": [
    "#### Q177. Write a Python program to find common elements in a given list of lists. \n",
    "    Original list:\n",
    "    [[7, 2, 3, 4, 7], [9, 2, 3, 2, 5], [8, 2, 3, 4, 4]]\n",
    "    Common elements of the said list of lists:\n",
    "    [2, 3]\n",
    "    Original list:\n",
    "    [['a', 'b', 'c'], ['b', 'c', 'd'], ['c', 'd', 'e']]\n",
    "    Common elements of the said list of lists:\n",
    "    ['c']"
   ]
  },
  {
   "cell_type": "code",
   "execution_count": 57,
   "metadata": {},
   "outputs": [
    {
     "name": "stdout",
     "output_type": "stream",
     "text": [
      "Original list:\n",
      "[[7, 2, 3, 4, 7], [9, 2, 3, 2, 5], [8, 2, 3, 4, 4]]\n",
      "\n",
      "Common elements of the said list of lists:\n",
      "[2, 3]\n",
      "\n",
      "Original list:\n",
      "[['a', 'b', 'c'], ['b', 'c', 'd'], ['c', 'd', 'e']]\n",
      "\n",
      "Common elements of the said list of lists:\n",
      "['c']\n"
     ]
    }
   ],
   "source": [
    "def common_list_of_lists(lst):\n",
    "    temp = set(lst[0]).intersection(*lst)\n",
    "    return list(temp) \n",
    "\n",
    "nums = [[7,2,3,4,7],[9,2,3,2,5],[8,2,3,4,4]]\n",
    "print(\"Original list:\")\n",
    "print(nums)\n",
    "print(\"\\nCommon elements of the said list of lists:\")\n",
    "print(common_list_of_lists(nums))\n",
    "chars = [['a','b','c'],['b','c','d'],['c','d','e']]\n",
    "print(\"\\nOriginal list:\")\n",
    "print(chars)\n",
    "print(\"\\nCommon elements of the said list of lists:\")\n",
    "print(common_list_of_lists(chars))"
   ]
  },
  {
   "cell_type": "markdown",
   "metadata": {},
   "source": [
    "#### Q178. Write a Python program to insert a specified element in a given list after every nth element. \n",
    "    Original list:\n",
    "    [1, 3, 5, 7, 9, 11, 0, 2, 4, 6, 8, 10, 8, 9, 0, 4, 3, 0]\n",
    "    Insert 20 in said list after every 4 th element:\n",
    "    [1, 3, 5, 7, 20, 9, 11, 0, 2, 20, 4, 6, 8, 10, 20, 8, 9, 0, 4, 20, 3, 0]\n",
    "    Original list:\n",
    "    ['s', 'd', 'f', 'j', 's', 'a', 'j', 'd', 'f', 'd']\n",
    "    Insert Z in said list after every 3 th element:\n",
    "    ['s', 'd', 'f', 'Z', 'j', 's', 'a', 'Z', 'j', 'd', 'f', 'Z', 'd']"
   ]
  },
  {
   "cell_type": "code",
   "execution_count": 58,
   "metadata": {},
   "outputs": [
    {
     "name": "stdout",
     "output_type": "stream",
     "text": [
      "Original list:\n",
      "[1, 3, 5, 7, 9, 11, 0, 2, 4, 6, 8, 10, 8, 9, 0, 4, 3, 0]\n",
      "\n",
      "Insert 20 in said list after every 4 th element:\n",
      "[1, 3, 5, 7, 20, 9, 11, 0, 2, 20, 4, 6, 8, 10, 20, 8, 9, 0, 4, 20, 3, 0]\n",
      "\n",
      "Original list:\n",
      "['s', 'd', 'f', 'j', 's', 'a', 'j', 'd', 'f', 'd']\n",
      "\n",
      "Insert Z in said list after every 3 th element:\n",
      "['s', 'd', 'f', 'Z', 'j', 's', 'a', 'Z', 'j', 'd', 'f', 'Z', 'd']\n"
     ]
    }
   ],
   "source": [
    "def inset_element_list(lst, x, n):\n",
    "    i = n\n",
    "    while i < len(lst):\n",
    "        lst.insert(i, x)\n",
    "        i+= n+1\n",
    "    return lst\n",
    "\n",
    "nums = [1, 3, 5, 7, 9, 11,0, 2, 4, 6, 8, 10,8,9,0,4,3,0]\n",
    "print(\"Original list:\")\n",
    "print(nums)\n",
    "x = 20\n",
    "n = 4\n",
    "print(\"\\nInsert\",x,\"in said list after every\",n,\"th element:\")\n",
    "print(inset_element_list(nums, x, n))\n",
    "\n",
    "chars = ['s','d','f','j','s','a','j','d','f','d']\n",
    "print(\"\\nOriginal list:\")\n",
    "print(chars)\n",
    "x = 'Z'\n",
    "n = 3\n",
    "print(\"\\nInsert\",x,\"in said list after every\",n,\"th element:\")\n",
    "print(inset_element_list(chars, x, n))"
   ]
  },
  {
   "cell_type": "markdown",
   "metadata": {},
   "source": [
    "#### Q179. Write a Python program to create the largest possible number using the elements of a given list of positive integers. \n",
    "    Original list:\n",
    "    [3, 40, 41, 43, 74, 9]\n",
    "    Largest possible number using the elements of the said list of positive integers:\n",
    "    9744341403\n",
    "    Original list:\n",
    "    [10, 40, 20, 30, 50, 60]\n",
    "    Largest possible number using the elements of the said list of positive integers:\n",
    "    605040302010\n",
    "    Original list:\n",
    "    [8, 4, 2, 9, 5, 6, 1, 0]\n",
    "    Largest possible number using the elements of the said list of positive integers:\n",
    "    98654210"
   ]
  },
  {
   "cell_type": "code",
   "execution_count": 59,
   "metadata": {},
   "outputs": [
    {
     "name": "stdout",
     "output_type": "stream",
     "text": [
      "Original list:\n",
      "[3, 40, 41, 43, 74, 9]\n",
      "Largest possible number using the elements of the said list of positive integers:\n",
      "9744341403\n",
      "\n",
      "Original list:\n",
      "[10, 40, 20, 30, 50, 60]\n",
      "Largest possible number using the elements of the said list of positive integers:\n",
      "605040302010\n",
      "\n",
      "Original list:\n",
      "[8, 4, 2, 9, 5, 6, 1, 0]\n",
      "Largest possible number using the elements of the said list of positive integers:\n",
      "98654210\n"
     ]
    }
   ],
   "source": [
    "def create_largest_number(lst):\n",
    "    if all(val == 0 for val in lst):\n",
    "        return '0'\n",
    "    result = ''.join(sorted((str(val) for val in lst), reverse=True,\n",
    "                      key=lambda i: i*( len(str(max(lst))) * 2 // len(i))))\n",
    "    return result\n",
    "nums = [3, 40, 41, 43, 74, 9]\n",
    "print(\"Original list:\")\n",
    "print(nums)\n",
    "print(\"Largest possible number using the elements of the said list of positive integers:\")\n",
    "print(create_largest_number(nums))\n",
    "\n",
    "nums = [10, 40, 20, 30, 50, 60]\n",
    "print(\"\\nOriginal list:\")\n",
    "print(nums)\n",
    "print(\"Largest possible number using the elements of the said list of positive integers:\")\n",
    "print(create_largest_number(nums))\n",
    "nums = [8, 4, 2, 9, 5, 6, 1, 0]\n",
    "print(\"\\nOriginal list:\")\n",
    "print(nums)\n",
    "print(\"Largest possible number using the elements of the said list of positive integers:\")\n",
    "print(create_largest_number(nums))"
   ]
  },
  {
   "cell_type": "markdown",
   "metadata": {},
   "source": [
    "#### Q180. Write a Python program to create the smallest possible number using the elements of a given list of positive integers. \n",
    "    Original list:\n",
    "    [3, 40, 41, 43, 74, 9]\n",
    "    Smallest possible number using the elements of the said list of positive integers:\n",
    "    3404143749\n",
    "    Original list:\n",
    "    [10, 40, 20, 30, 50, 60]\n",
    "    Smallest possible number using the elements of the said list of positive integers:\n",
    "    102030405060\n",
    "    Original list:\n",
    "    [8, 4, 2, 9, 5, 6, 1, 0]\n",
    "    Smallest possible number using the elements of the said list of positive integers:\n",
    "    01245689"
   ]
  },
  {
   "cell_type": "code",
   "execution_count": 60,
   "metadata": {},
   "outputs": [
    {
     "name": "stdout",
     "output_type": "stream",
     "text": [
      "Original list:\n",
      "[3, 40, 41, 43, 74, 9]\n",
      "Smallest possible number using the elements of the said list of positive integers:\n",
      "3404143749\n",
      "\n",
      "Original list:\n",
      "[10, 40, 20, 30, 50, 60]\n",
      "Smallest possible number using the elements of the said list of positive integers:\n",
      "102030405060\n",
      "\n",
      "Original list:\n",
      "[8, 4, 2, 9, 5, 6, 1, 0]\n",
      "Smallest possible number using the elements of the said list of positive integers:\n",
      "01245689\n"
     ]
    }
   ],
   "source": [
    "def create_largest_number(lst):\n",
    "    if all(val == 0 for val in lst):\n",
    "        return '0'\n",
    "    result = ''.join(sorted((str(val) for val in lst), reverse=False,\n",
    "                      key=lambda i: i*( len(str(min(lst))) * 2 // len(i))))\n",
    "    return result\n",
    "\n",
    "\n",
    "nums = [3, 40, 41, 43, 74, 9]\n",
    "print(\"Original list:\")\n",
    "print(nums)\n",
    "print(\"Smallest possible number using the elements of the said list of positive integers:\")\n",
    "print(create_largest_number(nums))\n",
    "\n",
    "nums = [10, 40, 20, 30, 50, 60]\n",
    "print(\"\\nOriginal list:\")\n",
    "print(nums)\n",
    "print(\"Smallest possible number using the elements of the said list of positive integers:\")\n",
    "print(create_largest_number(nums))\n",
    "nums = [8, 4, 2, 9, 5, 6, 1, 0]\n",
    "print(\"\\nOriginal list:\")\n",
    "print(nums)\n",
    "print(\"Smallest possible number using the elements of the said list of positive integers:\")\n",
    "print(create_largest_number(nums))"
   ]
  },
  {
   "cell_type": "markdown",
   "metadata": {},
   "source": [
    "#### Q181. Write a Python program to iterate a given list cyclically on specific index position. \n",
    "    Original list:\n",
    "    ['a', 'b', 'c', 'd', 'e', 'f', 'g', 'h']\n",
    "    Iterate the said list cyclically on specific index position 3 :\n",
    "    ['d', 'e', 'f', 'g', 'h', 'a', 'b', 'c']\n",
    "    Iterate the said list cyclically on specific index position 5 :\n",
    "    ['f', 'g', 'h', 'a', 'b', 'c', 'd', 'e']"
   ]
  },
  {
   "cell_type": "code",
   "execution_count": 61,
   "metadata": {},
   "outputs": [
    {
     "name": "stdout",
     "output_type": "stream",
     "text": [
      "Original list:\n",
      "['a', 'b', 'c', 'd', 'e', 'f', 'g', 'h']\n",
      "\n",
      "Iterate the said  list cyclically on specific index position 3 :\n",
      "['d', 'e', 'f', 'g', 'h', 'a', 'b', 'c']\n",
      "\n",
      "Iterate the said  list cyclically on specific index position 5 :\n",
      "['f', 'g', 'h', 'a', 'b', 'c', 'd', 'e']\n"
     ]
    }
   ],
   "source": [
    "def cyclically_iteration(lst,spec_index):\n",
    "    result = []\n",
    "    length = len(lst)\n",
    "    for i in range(length):\n",
    "        element_index = spec_index % length\n",
    "        result.append(lst[element_index])\n",
    "        spec_index += 1\n",
    "    return result\n",
    "\n",
    "chars = ['a', 'b', 'c', 'd', 'e', 'f', 'g', 'h']\n",
    "print(\"Original list:\")\n",
    "print(chars)\n",
    "spec_index = 3\n",
    "print(\"\\nIterate the said  list cyclically on specific index position\",spec_index,\":\")\n",
    "print(cyclically_iteration(chars,spec_index))\n",
    "spec_index = 5\n",
    "print(\"\\nIterate the said  list cyclically on specific index position\",spec_index,\":\")\n",
    "print(cyclically_iteration(chars,spec_index))"
   ]
  },
  {
   "cell_type": "markdown",
   "metadata": {},
   "source": [
    "#### Q182. Write a Python program to calculate the maximum and minimum sum of a sublist in a given list of lists. \n",
    "    Original list:\n",
    "    [[1, 2, 3, 5], [2, 3, 5, 4], [0, 5, 4, 1], [3, 7, 2, 1], [1, 2, 1, 2]]\n",
    "    Maximum sum of sub list of the said list of lists:\n",
    "    [2, 3, 5, 4]\n",
    "    Minimum sum of sub list of the said list of lists:\n",
    "    [1, 2, 1, 2]"
   ]
  },
  {
   "cell_type": "code",
   "execution_count": 62,
   "metadata": {},
   "outputs": [
    {
     "name": "stdout",
     "output_type": "stream",
     "text": [
      "Original list:\n",
      "[[1, 2, 3, 5], [2, 3, 5, 4], [0, 5, 4, 1], [3, 7, 2, 1], [1, 2, 1, 2]]\n",
      "\n",
      "Maximum sum of sub list of the said list of lists:\n",
      "[2, 3, 5, 4]\n",
      "\n",
      "Minimum sum of sub list of the said list of lists:\n",
      "[1, 2, 1, 2]\n"
     ]
    }
   ],
   "source": [
    "def max_min_sublist(lst):\n",
    "    max_result = (max(lst, key=sum))\n",
    "    min_result = (min(lst, key=sum))\n",
    "    return max_result,min_result\n",
    "\n",
    "nums = [[1,2,3,5], [2,3,5,4], [0,5,4,1], [3,7,2,1], [1,2,1,2]]\n",
    "print(\"Original list:\")\n",
    "print(nums)\n",
    "result = max_min_sublist(nums)\n",
    "print(\"\\nMaximum sum of sub list of the said list of lists:\")\n",
    "print(result[0])\n",
    "print(\"\\nMinimum sum of sub list of the said list of lists:\")\n",
    "print(result[1])"
   ]
  },
  {
   "cell_type": "markdown",
   "metadata": {},
   "source": [
    "#### Q183. Write a Python program to get the unique values in a given list of lists. \n",
    "    Original list:\n",
    "    [[1, 2, 3, 5], [2, 3, 5, 4], [0, 5, 4, 1], [3, 7, 2, 1], [1, 2, 1, 2]]\n",
    "    Unique values of the said list of lists:\n",
    "    [0, 1, 2, 3, 4, 5, 7]\n",
    "    Original list:\n",
    "    [['h', 'g', 'l', 'k'], ['a', 'b', 'd', 'e', 'c'], ['j', 'i', 'y'], ['n', 'b', 'v', 'c'], ['x', 'z']]\n",
    "    Unique values of the said list of lists:\n",
    "    ['e', 'd', 'c', 'b', 'x', 'k', 'n', 'h', 'g', 'j', 'i', 'a', 'l', 'y', 'v', 'z']"
   ]
  },
  {
   "cell_type": "code",
   "execution_count": 63,
   "metadata": {},
   "outputs": [
    {
     "name": "stdout",
     "output_type": "stream",
     "text": [
      "Original list:\n",
      "[[1, 2, 3, 5], [2, 3, 5, 4], [0, 5, 4, 1], [3, 7, 2, 1], [1, 2, 1, 2]]\n",
      "Unique values of the said list of lists:\n",
      "[0, 1, 2, 3, 4, 5, 7]\n",
      "\n",
      "Original list:\n",
      "[['h', 'g', 'l', 'k'], ['a', 'b', 'd', 'e', 'c'], ['j', 'i', 'y'], ['n', 'b', 'v', 'c'], ['x', 'z']]\n",
      "Unique values of the said list of lists:\n",
      "['d', 'g', 'i', 'k', 'l', 'x', 'c', 'a', 'e', 'y', 'h', 'v', 'j', 'z', 'b', 'n']\n"
     ]
    }
   ],
   "source": [
    "def unique_values_in_list_of_lists(lst):\n",
    "    result = set(x for l in lst for x in l)\n",
    "    return list(result)\n",
    "nums = [[1,2,3,5], [2,3,5,4], [0,5,4,1], [3,7,2,1], [1,2,1,2]]\n",
    "print(\"Original list:\")\n",
    "print(nums)\n",
    "print(\"Unique values of the said list of lists:\")\n",
    "print(unique_values_in_list_of_lists(nums))\n",
    "chars = [['h','g','l','k'], ['a','b','d','e','c'], ['j','i','y'], ['n','b','v','c'], ['x','z']]\n",
    "print(\"\\nOriginal list:\")\n",
    "print(chars)\n",
    "print(\"Unique values of the said list of lists:\")\n",
    "print(unique_values_in_list_of_lists(chars))\n"
   ]
  },
  {
   "cell_type": "markdown",
   "metadata": {},
   "source": [
    "#### Q184. Write a Python program to form Bigrams of words in a given list of strings. \n",
    "    From Wikipedia:\n",
    "    A bigram or digram is a sequence of two adjacent elements from a string of tokens, which are typically letters, syllables, or words. A bigram is an n-gram for n=2. The frequency distribution of every bigram in a string is commonly used for simple statistical analysis of text in many applications, including in computational linguistics, cryptography, speech recognition, and so on.\n",
    "    Original list:\n",
    "    ['Sum all the items in a list', 'Find the second smallest number in a list']\n",
    "    Bigram sequence of the said list:\n",
    "    [('Sum', 'all'), ('all', 'the'), ('the', 'items'), ('items', 'in'), ('in', 'a'), ('a', 'list'), ('Find', 'the'), ('the', 'second'), ('second', 'smallest'), ('smallest', 'number'), ('number', 'in'), ('in', 'a'), ('a', 'list')]"
   ]
  },
  {
   "cell_type": "code",
   "execution_count": 64,
   "metadata": {},
   "outputs": [
    {
     "name": "stdout",
     "output_type": "stream",
     "text": [
      "Original list:\n",
      "['Sum all the items in a list', 'Find the second smallest number in a list']\n",
      "\n",
      "Bigram sequence of the said list:\n",
      "[('Sum', 'all'), ('all', 'the'), ('the', 'items'), ('items', 'in'), ('in', 'a'), ('a', 'list'), ('Find', 'the'), ('the', 'second'), ('second', 'smallest'), ('smallest', 'number'), ('number', 'in'), ('in', 'a'), ('a', 'list')]\n"
     ]
    }
   ],
   "source": [
    "def bigram_sequence(text_lst):\n",
    "    result = [a for ls in text_lst for a in zip(ls.split(\" \")[:-1], ls.split(\" \")[1:])]\n",
    "    return result\n",
    "text = [\"Sum all the items in a list\", \"Find the second smallest number in a list\"]\n",
    "print(\"Original list:\")\n",
    "print(text)\n",
    "print(\"\\nBigram sequence of the said list:\")\n",
    "print(bigram_sequence(text))"
   ]
  },
  {
   "cell_type": "markdown",
   "metadata": {},
   "source": [
    "#### Q185. Write a Python program to convert a given decimal number to binary list. \n",
    "    Original Number: 8\n",
    "    Decimal number ( 8 ) to binary list:\n",
    "    [1, 0, 0, 0]\n",
    "    Original Number: 45\n",
    "    Decimal number ( 45 ) to binary list:\n",
    "    [1, 0, 1, 1, 0, 1]\n",
    "    Original Number: 100\n",
    "    Decimal number ( 100 ) to binary list:\n",
    "    [1, 1, 0, 0, 1, 0, 0]"
   ]
  },
  {
   "cell_type": "code",
   "execution_count": 65,
   "metadata": {},
   "outputs": [
    {
     "name": "stdout",
     "output_type": "stream",
     "text": [
      "Original Number: 8\n",
      "Decimal number ( 8 ) to binary list:\n",
      "[1, 0, 0, 0]\n",
      "\n",
      "Original Number: 45\n",
      "Decimal number ( 45 ) to binary list:\n",
      "[1, 0, 1, 1, 0, 1]\n",
      "\n",
      "Original Number: 100\n",
      "Decimal number ( 100 ) to binary list:\n",
      "[1, 1, 0, 0, 1, 0, 0]\n"
     ]
    }
   ],
   "source": [
    "def decimal_to_binary_list(n):\n",
    "    result = [int(x) for x in list('{0:0b}'.format(n))]\n",
    "    return result\n",
    "n = 8\n",
    "print(\"Original Number:\",n)\n",
    "print(\"Decimal number (\",n,\") to binary list:\")\n",
    "print(decimal_to_binary_list(n))\n",
    "n = 45\n",
    "print(\"\\nOriginal Number:\",n)\n",
    "print(\"Decimal number (\",n,\") to binary list:\")\n",
    "print(decimal_to_binary_list(n))\n",
    "n = 100\n",
    "print(\"\\nOriginal Number:\",n)\n",
    "print(\"Decimal number (\",n,\") to binary list:\")\n",
    "print(decimal_to_binary_list(n))"
   ]
  },
  {
   "cell_type": "markdown",
   "metadata": {},
   "source": [
    "#### Q186. Write a Python program to swap two sublists in a given list. \n",
    "    Original list:\n",
    "    [0, 1, 2, 3, 4, 5, 6, 7, 8, 9, 10, 11, 12, 13, 14, 15]\n",
    "    Swap two sublists of the said list:\n",
    "    [0, 6, 7, 8, 9, 3, 4, 5, 1, 2, 10, 11, 12, 13, 14, 15]\n",
    "    Swap two sublists of the said list:\n",
    "    [0, 9, 3, 8, 6, 7, 4, 5, 1, 2, 10, 11, 12, 13, 14, 15]"
   ]
  },
  {
   "cell_type": "code",
   "execution_count": 66,
   "metadata": {},
   "outputs": [
    {
     "name": "stdout",
     "output_type": "stream",
     "text": [
      "Original list:\n",
      "[0, 1, 2, 3, 4, 5, 6, 7, 8, 9, 10, 11, 12, 13, 14, 15]\n",
      "\n",
      "Swap two sublists of the said list:\n",
      "[0, 6, 7, 8, 9, 3, 4, 5, 1, 2, 10, 11, 12, 13, 14, 15]\n",
      "\n",
      "Swap two sublists of the said list:\n",
      "[0, 9, 3, 8, 6, 7, 4, 5, 1, 2, 10, 11, 12, 13, 14, 15]\n"
     ]
    }
   ],
   "source": [
    "nums = [0, 1, 2, 3, 4, 5, 6, 7, 8, 9, 10, 11, 12, 13, 14, 15]\n",
    "print(\"Original list:\")\n",
    "print(nums)\n",
    "nums[6:10], nums[1:3] = nums[1:3], nums[6:10]\n",
    "print(\"\\nSwap two sublists of the said list:\")\n",
    "print(nums)\n",
    "nums[1:3], nums[4:6] = nums[4:6], nums[1:3]\n",
    "print(\"\\nSwap two sublists of the said list:\")\n",
    "print(nums)"
   ]
  },
  {
   "cell_type": "markdown",
   "metadata": {},
   "source": [
    "#### Q187. Write a Python program to convert a given list of tuples to a list of strings.\n",
    "    Original list of tuples:\n",
    "    [('red', 'green'), ('black', 'white'), ('orange', 'pink')]\n",
    "    Convert the said list of tuples to a list of strings:\n",
    "    ['red green', 'black white', 'orange pink']\n",
    "    Original list of tuples:\n",
    "    [('Laiba', 'Delacruz'), ('Mali', 'Stacey', 'Drummond'), ('Raja', 'Welch'), ('Saarah', 'Stone')]\n",
    "    Convert the said list of tuples to a list of strings:\n",
    "    ['Laiba Delacruz', 'Mali Stacey Drummond', 'Raja Welch', 'Saarah Stone']"
   ]
  },
  {
   "cell_type": "code",
   "execution_count": 67,
   "metadata": {},
   "outputs": [
    {
     "name": "stdout",
     "output_type": "stream",
     "text": [
      "Original list of tuples:\n",
      "[('red', 'green'), ('black', 'white'), ('orange', 'pink')]\n",
      "\n",
      "Convert the said list of tuples to a list of strings:\n",
      "['red green', 'black white', 'orange pink']\n",
      "\n",
      "Original list of tuples:\n",
      "[('Laiba', 'Delacruz'), ('Mali', 'Stacey', 'Drummond'), ('Raja', 'Welch'), ('Saarah', 'Stone')]\n",
      "\n",
      "Convert the said list of tuples to a list of strings:\n",
      "['Laiba Delacruz', 'Mali Stacey Drummond', 'Raja Welch', 'Saarah Stone']\n"
     ]
    }
   ],
   "source": [
    "def tuples_to_list_str(lst):\n",
    "    result = [(\"%s \"*len(el)%el).strip() for el in lst]\n",
    "    return result   \n",
    "colors = [('red', 'green'), ('black', 'white'), ('orange', 'pink')]\n",
    "print(\"Original list of tuples:\")\n",
    "print(colors)\n",
    "print(\"\\nConvert the said list of tuples to a list of strings:\")\n",
    "print(tuples_to_list_str(colors))\n",
    "names = [('Laiba','Delacruz'), ('Mali','Stacey','Drummond'), ('Raja','Welch'), ('Saarah','Stone')]\n",
    "print(\"\\nOriginal list of tuples:\")\n",
    "print(names)\n",
    "print(\"\\nConvert the said list of tuples to a list of strings:\")\n",
    "print(tuples_to_list_str(names))"
   ]
  },
  {
   "cell_type": "markdown",
   "metadata": {},
   "source": [
    "### EXTRA \n",
    "##### Accessing elements:\n",
    "\n"
   ]
  },
  {
   "cell_type": "code",
   "execution_count": 2,
   "metadata": {},
   "outputs": [],
   "source": [
    "colors = ['Red', 'Blue', 'Green', 'Black', 'White']\n",
    "# Getting the first element\n",
    "first_col = colors[0]\n",
    "# Getting the second element\n",
    "second_col = colors[1]\n",
    "# Getting the last element\n",
    "newest_col = colors[-1]"
   ]
  },
  {
   "cell_type": "markdown",
   "metadata": {},
   "source": [
    "##### Modifying individual items:\n"
   ]
  },
  {
   "cell_type": "code",
   "execution_count": 3,
   "metadata": {},
   "outputs": [],
   "source": [
    "# Changing an element\n",
    "colors[0] = 'Yellow'\n",
    "colors[-2] = 'Red'"
   ]
  },
  {
   "cell_type": "markdown",
   "metadata": {},
   "source": [
    "##### Removing elements:"
   ]
  },
  {
   "cell_type": "code",
   "execution_count": 4,
   "metadata": {},
   "outputs": [],
   "source": [
    "\n",
    "# Deleting an element by its position\n",
    "del colors[-1]\n",
    "# Removing an item by its value\n",
    "colors.remove('Green')"
   ]
  },
  {
   "cell_type": "markdown",
   "metadata": {},
   "source": [
    "##### Popping elements:\n",
    "\n"
   ]
  },
  {
   "cell_type": "code",
   "execution_count": 5,
   "metadata": {},
   "outputs": [
    {
     "name": "stdout",
     "output_type": "stream",
     "text": [
      "Red\n",
      "Yellow\n"
     ]
    }
   ],
   "source": [
    "# Pop the last item from a list\n",
    "most_recent_col = colors.pop()\n",
    "print(most_recent_col)\n",
    "# Pop the first item in a list\n",
    "first_col = colors.pop(0)\n",
    "print(first_col)"
   ]
  },
  {
   "cell_type": "markdown",
   "metadata": {},
   "source": [
    "##### List length:\n",
    "\n"
   ]
  },
  {
   "cell_type": "code",
   "execution_count": 7,
   "metadata": {},
   "outputs": [
    {
     "name": "stdout",
     "output_type": "stream",
     "text": [
      "We have 1 colors.\n"
     ]
    }
   ],
   "source": [
    "# Find the length of a list\n",
    "num_colors = len(colors)\n",
    "print(\"We have \" + str(num_colors) + \" colors.\")"
   ]
  },
  {
   "cell_type": "markdown",
   "metadata": {},
   "source": [
    "##### Sorting a list:\n",
    "\n"
   ]
  },
  {
   "cell_type": "code",
   "execution_count": 8,
   "metadata": {},
   "outputs": [
    {
     "name": "stdout",
     "output_type": "stream",
     "text": [
      "['Blue']\n",
      "['Blue']\n"
     ]
    }
   ],
   "source": [
    "# Sorting a list permanently\n",
    "colors.sort()\n",
    "# Sorting a list permanently in reverse alphabetical order\n",
    "colors.sort(reverse=True)\n",
    "# Sorting a list temporarily\n",
    "print(sorted(colors))\n",
    "print(sorted(colors, reverse=True))\n",
    "# Reversing the order of a list\n",
    "colors.reverse()"
   ]
  },
  {
   "cell_type": "markdown",
   "metadata": {},
   "source": [
    "##### Looping through a list:\n",
    "\n"
   ]
  },
  {
   "cell_type": "code",
   "execution_count": 10,
   "metadata": {},
   "outputs": [
    {
     "name": "stdout",
     "output_type": "stream",
     "text": [
      "Blue\n",
      "Welcome, Blue!\n",
      "Welcome, we're glad to see you all!\n"
     ]
    }
   ],
   "source": [
    "# Printing all items in a list\n",
    "for col in colors:\n",
    "    print(col)\n",
    "# Printing a message for each item, and a separate message afterwards\n",
    "for col in colors:\n",
    "     print(\"Welcome, \" + col + \"!\")\n",
    "print(\"Welcome, we're glad to see you all!\")"
   ]
  },
  {
   "cell_type": "markdown",
   "metadata": {},
   "source": [
    "##### The range() function:\n",
    "\n"
   ]
  },
  {
   "cell_type": "code",
   "execution_count": 11,
   "metadata": {},
   "outputs": [
    {
     "name": "stdout",
     "output_type": "stream",
     "text": [
      "0\n",
      "1\n",
      "2\n",
      "3\n",
      "4\n",
      "5\n",
      "6\n",
      "7\n",
      "8\n",
      "9\n",
      "10\n",
      "11\n",
      "12\n",
      "13\n",
      "14\n",
      "15\n",
      "16\n",
      "17\n",
      "18\n",
      "19\n",
      "20\n",
      "21\n",
      "22\n",
      "23\n",
      "24\n",
      "25\n",
      "26\n",
      "27\n",
      "28\n",
      "29\n",
      "30\n",
      "31\n",
      "32\n",
      "33\n",
      "34\n",
      "35\n",
      "36\n",
      "37\n",
      "38\n",
      "39\n",
      "40\n",
      "41\n",
      "42\n",
      "43\n",
      "44\n",
      "45\n",
      "46\n",
      "47\n",
      "48\n",
      "49\n",
      "50\n",
      "51\n",
      "52\n",
      "53\n",
      "54\n",
      "55\n",
      "56\n",
      "57\n",
      "58\n",
      "59\n",
      "60\n",
      "61\n",
      "62\n",
      "63\n",
      "64\n",
      "65\n",
      "66\n",
      "67\n",
      "68\n",
      "69\n",
      "70\n",
      "71\n",
      "72\n",
      "73\n",
      "74\n",
      "75\n",
      "76\n",
      "77\n",
      "78\n",
      "79\n",
      "80\n",
      "81\n",
      "82\n",
      "83\n",
      "84\n",
      "85\n",
      "86\n",
      "87\n",
      "88\n",
      "89\n",
      "90\n",
      "91\n",
      "92\n",
      "93\n",
      "94\n",
      "95\n",
      "96\n",
      "97\n",
      "98\n",
      "99\n",
      "100\n",
      "101\n",
      "102\n",
      "103\n",
      "104\n",
      "105\n",
      "106\n",
      "107\n",
      "108\n",
      "109\n",
      "110\n",
      "111\n",
      "112\n",
      "113\n",
      "114\n",
      "115\n",
      "116\n",
      "117\n",
      "118\n",
      "119\n",
      "120\n",
      "121\n",
      "122\n",
      "123\n",
      "124\n",
      "125\n",
      "126\n",
      "127\n",
      "128\n",
      "129\n",
      "130\n",
      "131\n",
      "132\n",
      "133\n",
      "134\n",
      "135\n",
      "136\n",
      "137\n",
      "138\n",
      "139\n",
      "140\n",
      "141\n",
      "142\n",
      "143\n",
      "144\n",
      "145\n",
      "146\n",
      "147\n",
      "148\n",
      "149\n",
      "150\n",
      "151\n",
      "152\n",
      "153\n",
      "154\n",
      "155\n",
      "156\n",
      "157\n",
      "158\n",
      "159\n",
      "160\n",
      "161\n",
      "162\n",
      "163\n",
      "164\n",
      "165\n",
      "166\n",
      "167\n",
      "168\n",
      "169\n",
      "170\n",
      "171\n",
      "172\n",
      "173\n",
      "174\n",
      "175\n",
      "176\n",
      "177\n",
      "178\n",
      "179\n",
      "180\n",
      "181\n",
      "182\n",
      "183\n",
      "184\n",
      "185\n",
      "186\n",
      "187\n",
      "188\n",
      "189\n",
      "190\n",
      "191\n",
      "192\n",
      "193\n",
      "194\n",
      "195\n",
      "196\n",
      "197\n",
      "198\n",
      "199\n",
      "200\n",
      "201\n",
      "202\n",
      "203\n",
      "204\n",
      "205\n",
      "206\n",
      "207\n",
      "208\n",
      "209\n",
      "210\n",
      "211\n",
      "212\n",
      "213\n",
      "214\n",
      "215\n",
      "216\n",
      "217\n",
      "218\n",
      "219\n",
      "220\n",
      "221\n",
      "222\n",
      "223\n",
      "224\n",
      "225\n",
      "226\n",
      "227\n",
      "228\n",
      "229\n",
      "230\n",
      "231\n",
      "232\n",
      "233\n",
      "234\n",
      "235\n",
      "236\n",
      "237\n",
      "238\n",
      "239\n",
      "240\n",
      "241\n",
      "242\n",
      "243\n",
      "244\n",
      "245\n",
      "246\n",
      "247\n",
      "248\n",
      "249\n",
      "250\n",
      "251\n",
      "252\n",
      "253\n",
      "254\n",
      "255\n",
      "256\n",
      "257\n",
      "258\n",
      "259\n",
      "260\n",
      "261\n",
      "262\n",
      "263\n",
      "264\n",
      "265\n",
      "266\n",
      "267\n",
      "268\n",
      "269\n",
      "270\n",
      "271\n",
      "272\n",
      "273\n",
      "274\n",
      "275\n",
      "276\n",
      "277\n",
      "278\n",
      "279\n",
      "280\n",
      "281\n",
      "282\n",
      "283\n",
      "284\n",
      "285\n",
      "286\n",
      "287\n",
      "288\n",
      "289\n",
      "290\n",
      "291\n",
      "292\n",
      "293\n",
      "294\n",
      "295\n",
      "296\n",
      "297\n",
      "298\n",
      "299\n",
      "300\n",
      "301\n",
      "302\n",
      "303\n",
      "304\n",
      "305\n",
      "306\n",
      "307\n",
      "308\n",
      "309\n",
      "310\n",
      "311\n",
      "312\n",
      "313\n",
      "314\n",
      "315\n",
      "316\n",
      "317\n",
      "318\n",
      "319\n",
      "320\n",
      "321\n",
      "322\n",
      "323\n",
      "324\n",
      "325\n",
      "326\n",
      "327\n",
      "328\n",
      "329\n",
      "330\n",
      "331\n",
      "332\n",
      "333\n",
      "334\n",
      "335\n",
      "336\n",
      "337\n",
      "338\n",
      "339\n",
      "340\n",
      "341\n",
      "342\n",
      "343\n",
      "344\n",
      "345\n",
      "346\n",
      "347\n",
      "348\n",
      "349\n",
      "350\n",
      "351\n",
      "352\n",
      "353\n",
      "354\n",
      "355\n",
      "356\n",
      "357\n",
      "358\n",
      "359\n",
      "360\n",
      "361\n",
      "362\n",
      "363\n",
      "364\n",
      "365\n",
      "366\n",
      "367\n",
      "368\n",
      "369\n",
      "370\n",
      "371\n",
      "372\n",
      "373\n",
      "374\n",
      "375\n",
      "376\n",
      "377\n",
      "378\n",
      "379\n",
      "380\n",
      "381\n",
      "382\n",
      "383\n",
      "384\n",
      "385\n",
      "386\n",
      "387\n",
      "388\n",
      "389\n",
      "390\n",
      "391\n",
      "392\n",
      "393\n",
      "394\n",
      "395\n",
      "396\n",
      "397\n",
      "398\n",
      "399\n",
      "400\n",
      "401\n",
      "402\n",
      "403\n",
      "404\n",
      "405\n",
      "406\n",
      "407\n",
      "408\n",
      "409\n",
      "410\n",
      "411\n",
      "412\n",
      "413\n",
      "414\n",
      "415\n",
      "416\n",
      "417\n",
      "418\n",
      "419\n",
      "420\n",
      "421\n",
      "422\n",
      "423\n",
      "424\n",
      "425\n",
      "426\n",
      "427\n",
      "428\n",
      "429\n",
      "430\n",
      "431\n",
      "432\n",
      "433\n",
      "434\n",
      "435\n",
      "436\n",
      "437\n",
      "438\n",
      "439\n",
      "440\n",
      "441\n",
      "442\n",
      "443\n",
      "444\n",
      "445\n",
      "446\n",
      "447\n",
      "448\n",
      "449\n",
      "450\n",
      "451\n",
      "452\n",
      "453\n",
      "454\n",
      "455\n",
      "456\n",
      "457\n",
      "458\n",
      "459\n",
      "460\n",
      "461\n",
      "462\n",
      "463\n",
      "464\n",
      "465\n",
      "466\n",
      "467\n",
      "468\n",
      "469\n",
      "470\n",
      "471\n",
      "472\n",
      "473\n",
      "474\n",
      "475\n",
      "476\n",
      "477\n",
      "478\n",
      "479\n",
      "480\n",
      "481\n",
      "482\n",
      "483\n",
      "484\n",
      "485\n",
      "486\n",
      "487\n",
      "488\n",
      "489\n",
      "490\n",
      "491\n",
      "492\n",
      "493\n",
      "494\n",
      "495\n",
      "496\n",
      "497\n",
      "498\n",
      "499\n",
      "500\n",
      "501\n",
      "502\n",
      "503\n",
      "504\n",
      "505\n",
      "506\n",
      "507\n",
      "508\n",
      "509\n",
      "510\n",
      "511\n",
      "512\n",
      "513\n",
      "514\n",
      "515\n",
      "516\n",
      "517\n",
      "518\n",
      "519\n",
      "520\n",
      "521\n",
      "522\n",
      "523\n",
      "524\n",
      "525\n",
      "526\n",
      "527\n",
      "528\n",
      "529\n",
      "530\n",
      "531\n",
      "532\n",
      "533\n",
      "534\n",
      "535\n",
      "536\n",
      "537\n",
      "538\n",
      "539\n",
      "540\n",
      "541\n",
      "542\n",
      "543\n",
      "544\n",
      "545\n",
      "546\n",
      "547\n",
      "548\n",
      "549\n",
      "550\n",
      "551\n",
      "552\n",
      "553\n",
      "554\n",
      "555\n",
      "556\n",
      "557\n",
      "558\n",
      "559\n",
      "560\n",
      "561\n",
      "562\n",
      "563\n",
      "564\n",
      "565\n",
      "566\n",
      "567\n",
      "568\n",
      "569\n",
      "570\n",
      "571\n",
      "572\n",
      "573\n",
      "574\n",
      "575\n",
      "576\n",
      "577\n",
      "578\n",
      "579\n",
      "580\n",
      "581\n",
      "582\n",
      "583\n",
      "584\n",
      "585\n",
      "586\n",
      "587\n",
      "588\n",
      "589\n",
      "590\n",
      "591\n",
      "592\n",
      "593\n",
      "594\n",
      "595\n",
      "596\n",
      "597\n",
      "598\n",
      "599\n",
      "600\n",
      "601\n",
      "602\n",
      "603\n",
      "604\n",
      "605\n",
      "606\n",
      "607\n",
      "608\n",
      "609\n",
      "610\n",
      "611\n",
      "612\n",
      "613\n",
      "614\n",
      "615\n",
      "616\n",
      "617\n",
      "618\n",
      "619\n",
      "620\n",
      "621\n",
      "622\n",
      "623\n",
      "624\n",
      "625\n",
      "626\n",
      "627\n",
      "628\n",
      "629\n",
      "630\n",
      "631\n",
      "632\n",
      "633\n",
      "634\n",
      "635\n",
      "636\n",
      "637\n",
      "638\n",
      "639\n",
      "640\n",
      "641\n",
      "642\n",
      "643\n",
      "644\n",
      "645\n",
      "646\n",
      "647\n",
      "648\n",
      "649\n",
      "650\n",
      "651\n",
      "652\n",
      "653\n",
      "654\n",
      "655\n",
      "656\n",
      "657\n",
      "658\n",
      "659\n",
      "660\n",
      "661\n",
      "662\n",
      "663\n",
      "664\n",
      "665\n",
      "666\n",
      "667\n",
      "668\n",
      "669\n",
      "670\n",
      "671\n",
      "672\n",
      "673\n",
      "674\n",
      "675\n",
      "676\n",
      "677\n",
      "678\n",
      "679\n",
      "680\n",
      "681\n",
      "682\n",
      "683\n",
      "684\n",
      "685\n",
      "686\n",
      "687\n",
      "688\n",
      "689\n",
      "690\n",
      "691\n",
      "692\n",
      "693\n",
      "694\n",
      "695\n",
      "696\n",
      "697\n",
      "698\n",
      "699\n",
      "700\n",
      "701\n",
      "702\n",
      "703\n",
      "704\n",
      "705\n",
      "706\n",
      "707\n",
      "708\n",
      "709\n",
      "710\n",
      "711\n",
      "712\n",
      "713\n",
      "714\n",
      "715\n",
      "716\n",
      "717\n",
      "718\n",
      "719\n",
      "720\n",
      "721\n",
      "722\n",
      "723\n",
      "724\n",
      "725\n",
      "726\n",
      "727\n",
      "728\n",
      "729\n",
      "730\n",
      "731\n",
      "732\n",
      "733\n",
      "734\n",
      "735\n",
      "736\n",
      "737\n",
      "738\n",
      "739\n",
      "740\n",
      "741\n",
      "742\n",
      "743\n",
      "744\n",
      "745\n",
      "746\n",
      "747\n",
      "748\n",
      "749\n",
      "750\n",
      "751\n",
      "752\n",
      "753\n",
      "754\n",
      "755\n",
      "756\n",
      "757\n",
      "758\n",
      "759\n",
      "760\n",
      "761\n",
      "762\n",
      "763\n",
      "764\n",
      "765\n",
      "766\n",
      "767\n",
      "768\n",
      "769\n",
      "770\n",
      "771\n",
      "772\n",
      "773\n",
      "774\n",
      "775\n",
      "776\n",
      "777\n",
      "778\n",
      "779\n",
      "780\n",
      "781\n",
      "782\n",
      "783\n",
      "784\n",
      "785\n",
      "786\n",
      "787\n",
      "788\n",
      "789\n",
      "790\n",
      "791\n",
      "792\n",
      "793\n",
      "794\n",
      "795\n",
      "796\n",
      "797\n",
      "798\n",
      "799\n",
      "800\n",
      "801\n",
      "802\n",
      "803\n",
      "804\n",
      "805\n",
      "806\n",
      "807\n",
      "808\n",
      "809\n",
      "810\n",
      "811\n",
      "812\n",
      "813\n",
      "814\n",
      "815\n",
      "816\n",
      "817\n",
      "818\n",
      "819\n",
      "820\n",
      "821\n",
      "822\n",
      "823\n",
      "824\n",
      "825\n",
      "826\n",
      "827\n",
      "828\n",
      "829\n",
      "830\n",
      "831\n",
      "832\n",
      "833\n",
      "834\n",
      "835\n",
      "836\n",
      "837\n",
      "838\n",
      "839\n",
      "840\n",
      "841\n",
      "842\n",
      "843\n",
      "844\n",
      "845\n",
      "846\n",
      "847\n",
      "848\n",
      "849\n",
      "850\n",
      "851\n",
      "852\n",
      "853\n",
      "854\n",
      "855\n",
      "856\n",
      "857\n",
      "858\n",
      "859\n",
      "860\n",
      "861\n",
      "862\n",
      "863\n",
      "864\n",
      "865\n",
      "866\n",
      "867\n",
      "868\n",
      "869\n",
      "870\n",
      "871\n",
      "872\n",
      "873\n",
      "874\n",
      "875\n",
      "876\n",
      "877\n",
      "878\n",
      "879\n",
      "880\n",
      "881\n",
      "882\n",
      "883\n",
      "884\n",
      "885\n",
      "886\n",
      "887\n",
      "888\n",
      "889\n",
      "890\n",
      "891\n",
      "892\n",
      "893\n",
      "894\n",
      "895\n",
      "896\n",
      "897\n",
      "898\n",
      "899\n",
      "900\n",
      "901\n",
      "902\n",
      "903\n",
      "904\n",
      "905\n",
      "906\n",
      "907\n",
      "908\n",
      "909\n",
      "910\n",
      "911\n",
      "912\n",
      "913\n",
      "914\n",
      "915\n",
      "916\n",
      "917\n",
      "918\n",
      "919\n",
      "920\n",
      "921\n",
      "922\n",
      "923\n",
      "924\n",
      "925\n",
      "926\n",
      "927\n",
      "928\n",
      "929\n",
      "930\n",
      "931\n",
      "932\n",
      "933\n",
      "934\n",
      "935\n",
      "936\n",
      "937\n",
      "938\n",
      "939\n",
      "940\n",
      "941\n",
      "942\n",
      "943\n",
      "944\n",
      "945\n",
      "946\n",
      "947\n",
      "948\n",
      "949\n",
      "950\n",
      "951\n",
      "952\n",
      "953\n",
      "954\n",
      "955\n",
      "956\n",
      "957\n",
      "958\n",
      "959\n",
      "960\n",
      "961\n",
      "962\n",
      "963\n",
      "964\n",
      "965\n",
      "966\n",
      "967\n",
      "968\n",
      "969\n",
      "970\n",
      "971\n",
      "972\n",
      "973\n",
      "974\n",
      "975\n",
      "976\n",
      "977\n",
      "978\n",
      "979\n",
      "980\n",
      "981\n",
      "982\n",
      "983\n",
      "984\n",
      "985\n",
      "986\n",
      "987\n",
      "988\n",
      "989\n",
      "990\n",
      "991\n",
      "992\n",
      "993\n",
      "994\n",
      "995\n",
      "996\n",
      "997\n",
      "998\n",
      "999\n",
      "1000\n",
      "1001\n",
      "1002\n",
      "1003\n",
      "1004\n",
      "1005\n",
      "1006\n",
      "1007\n",
      "1008\n",
      "1009\n",
      "1010\n",
      "1011\n",
      "1012\n",
      "1013\n",
      "1014\n",
      "1015\n",
      "1016\n",
      "1017\n",
      "1018\n",
      "1019\n",
      "1020\n",
      "1021\n",
      "1022\n",
      "1023\n",
      "1024\n",
      "1025\n",
      "1026\n",
      "1027\n",
      "1028\n",
      "1029\n",
      "1030\n",
      "1031\n",
      "1032\n",
      "1033\n",
      "1034\n",
      "1035\n",
      "1036\n",
      "1037\n",
      "1038\n",
      "1039\n",
      "1040\n",
      "1041\n",
      "1042\n",
      "1043\n",
      "1044\n",
      "1045\n",
      "1046\n",
      "1047\n",
      "1048\n",
      "1049\n",
      "1050\n",
      "1051\n",
      "1052\n",
      "1053\n",
      "1054\n",
      "1055\n",
      "1056\n",
      "1057\n",
      "1058\n",
      "1059\n",
      "1060\n",
      "1061\n",
      "1062\n",
      "1063\n",
      "1064\n",
      "1065\n",
      "1066\n",
      "1067\n",
      "1068\n",
      "1069\n",
      "1070\n",
      "1071\n",
      "1072\n",
      "1073\n",
      "1074\n",
      "1075\n",
      "1076\n",
      "1077\n",
      "1078\n",
      "1079\n",
      "1080\n",
      "1081\n",
      "1082\n",
      "1083\n",
      "1084\n",
      "1085\n",
      "1086\n",
      "1087\n",
      "1088\n",
      "1089\n",
      "1090\n",
      "1091\n",
      "1092\n",
      "1093\n",
      "1094\n",
      "1095\n",
      "1096\n",
      "1097\n",
      "1098\n",
      "1099\n",
      "1100\n",
      "1101\n",
      "1102\n",
      "1103\n",
      "1104\n",
      "1105\n",
      "1106\n",
      "1107\n",
      "1108\n",
      "1109\n",
      "1110\n",
      "1111\n",
      "1112\n",
      "1113\n",
      "1114\n",
      "1115\n",
      "1116\n",
      "1117\n",
      "1118\n",
      "1119\n",
      "1120\n",
      "1121\n",
      "1122\n",
      "1123\n",
      "1124\n",
      "1125\n",
      "1126\n",
      "1127\n",
      "1128\n",
      "1129\n",
      "1130\n",
      "1131\n",
      "1132\n",
      "1133\n",
      "1134\n",
      "1135\n",
      "1136\n",
      "1137\n",
      "1138\n",
      "1139\n",
      "1140\n",
      "1141\n",
      "1142\n",
      "1143\n",
      "1144\n",
      "1145\n",
      "1146\n",
      "1147\n",
      "1148\n",
      "1149\n",
      "1150\n",
      "1151\n",
      "1152\n",
      "1153\n",
      "1154\n",
      "1155\n",
      "1156\n",
      "1157\n",
      "1158\n",
      "1159\n",
      "1160\n",
      "1161\n",
      "1162\n",
      "1163\n",
      "1164\n",
      "1165\n",
      "1166\n",
      "1167\n",
      "1168\n",
      "1169\n",
      "1170\n",
      "1171\n",
      "1172\n",
      "1173\n",
      "1174\n",
      "1175\n",
      "1176\n",
      "1177\n",
      "1178\n",
      "1179\n",
      "1180\n",
      "1181\n",
      "1182\n",
      "1183\n",
      "1184\n",
      "1185\n",
      "1186\n",
      "1187\n",
      "1188\n",
      "1189\n",
      "1190\n",
      "1191\n",
      "1192\n",
      "1193\n",
      "1194\n",
      "1195\n",
      "1196\n",
      "1197\n",
      "1198\n",
      "1199\n",
      "1200\n",
      "1201\n",
      "1202\n",
      "1203\n",
      "1204\n",
      "1205\n",
      "1206\n",
      "1207\n",
      "1208\n",
      "1209\n",
      "1210\n",
      "1211\n",
      "1212\n",
      "1213\n",
      "1214\n",
      "1215\n",
      "1216\n",
      "1217\n",
      "1218\n",
      "1219\n",
      "1220\n",
      "1221\n",
      "1222\n",
      "1223\n",
      "1224\n",
      "1225\n",
      "1226\n",
      "1227\n",
      "1228\n",
      "1229\n",
      "1230\n",
      "1231\n",
      "1232\n",
      "1233\n",
      "1234\n",
      "1235\n",
      "1236\n",
      "1237\n",
      "1238\n",
      "1239\n",
      "1240\n",
      "1241\n",
      "1242\n",
      "1243\n",
      "1244\n",
      "1245\n",
      "1246\n",
      "1247\n",
      "1248\n",
      "1249\n",
      "1250\n",
      "1251\n",
      "1252\n",
      "1253\n",
      "1254\n",
      "1255\n",
      "1256\n",
      "1257\n",
      "1258\n",
      "1259\n",
      "1260\n",
      "1261\n",
      "1262\n",
      "1263\n",
      "1264\n",
      "1265\n",
      "1266\n",
      "1267\n",
      "1268\n",
      "1269\n",
      "1270\n",
      "1271\n",
      "1272\n",
      "1273\n",
      "1274\n",
      "1275\n",
      "1276\n",
      "1277\n",
      "1278\n",
      "1279\n",
      "1280\n",
      "1281\n",
      "1282\n",
      "1283\n",
      "1284\n",
      "1285\n",
      "1286\n",
      "1287\n",
      "1288\n",
      "1289\n",
      "1290\n",
      "1291\n",
      "1292\n",
      "1293\n",
      "1294\n",
      "1295\n",
      "1296\n",
      "1297\n",
      "1298\n",
      "1299\n",
      "1300\n",
      "1301\n",
      "1302\n",
      "1303\n",
      "1304\n",
      "1305\n",
      "1306\n",
      "1307\n",
      "1308\n",
      "1309\n",
      "1310\n",
      "1311\n",
      "1312\n",
      "1313\n",
      "1314\n",
      "1315\n",
      "1316\n",
      "1317\n",
      "1318\n",
      "1319\n",
      "1320\n",
      "1321\n",
      "1322\n",
      "1323\n",
      "1324\n",
      "1325\n",
      "1326\n",
      "1327\n",
      "1328\n",
      "1329\n",
      "1330\n",
      "1331\n",
      "1332\n",
      "1333\n",
      "1334\n",
      "1335\n",
      "1336\n",
      "1337\n",
      "1338\n",
      "1339\n",
      "1340\n",
      "1341\n",
      "1342\n",
      "1343\n",
      "1344\n",
      "1345\n",
      "1346\n",
      "1347\n",
      "1348\n",
      "1349\n",
      "1350\n",
      "1351\n",
      "1352\n",
      "1353\n",
      "1354\n",
      "1355\n",
      "1356\n",
      "1357\n",
      "1358\n",
      "1359\n",
      "1360\n",
      "1361\n",
      "1362\n",
      "1363\n",
      "1364\n",
      "1365\n",
      "1366\n",
      "1367\n",
      "1368\n",
      "1369\n",
      "1370\n",
      "1371\n",
      "1372\n",
      "1373\n",
      "1374\n",
      "1375\n",
      "1376\n",
      "1377\n",
      "1378\n",
      "1379\n",
      "1380\n",
      "1381\n",
      "1382\n",
      "1383\n",
      "1384\n",
      "1385\n",
      "1386\n",
      "1387\n",
      "1388\n",
      "1389\n",
      "1390\n",
      "1391\n",
      "1392\n",
      "1393\n",
      "1394\n",
      "1395\n",
      "1396\n",
      "1397\n",
      "1398\n",
      "1399\n",
      "1400\n",
      "1401\n",
      "1402\n",
      "1403\n",
      "1404\n",
      "1405\n",
      "1406\n",
      "1407\n",
      "1408\n",
      "1409\n",
      "1410\n",
      "1411\n",
      "1412\n",
      "1413\n",
      "1414\n",
      "1415\n",
      "1416\n",
      "1417\n",
      "1418\n",
      "1419\n",
      "1420\n",
      "1421\n",
      "1422\n",
      "1423\n",
      "1424\n",
      "1425\n",
      "1426\n",
      "1427\n",
      "1428\n",
      "1429\n",
      "1430\n",
      "1431\n",
      "1432\n",
      "1433\n",
      "1434\n",
      "1435\n",
      "1436\n",
      "1437\n",
      "1438\n",
      "1439\n",
      "1440\n",
      "1441\n",
      "1442\n",
      "1443\n",
      "1444\n",
      "1445\n",
      "1446\n",
      "1447\n",
      "1448\n",
      "1449\n",
      "1450\n",
      "1451\n",
      "1452\n",
      "1453\n",
      "1454\n",
      "1455\n",
      "1456\n",
      "1457\n",
      "1458\n",
      "1459\n",
      "1460\n",
      "1461\n",
      "1462\n",
      "1463\n",
      "1464\n",
      "1465\n",
      "1466\n",
      "1467\n",
      "1468\n",
      "1469\n",
      "1470\n",
      "1471\n",
      "1472\n",
      "1473\n",
      "1474\n",
      "1475\n",
      "1476\n",
      "1477\n",
      "1478\n",
      "1479\n",
      "1480\n",
      "1481\n",
      "1482\n",
      "1483\n",
      "1484\n",
      "1485\n",
      "1486\n",
      "1487\n",
      "1488\n",
      "1489\n",
      "1490\n",
      "1491\n",
      "1492\n",
      "1493\n",
      "1494\n",
      "1495\n",
      "1496\n",
      "1497\n",
      "1498\n",
      "1499\n",
      "1500\n",
      "1501\n",
      "1502\n",
      "1503\n",
      "1504\n",
      "1505\n",
      "1506\n",
      "1507\n",
      "1508\n",
      "1509\n",
      "1510\n",
      "1511\n",
      "1512\n",
      "1513\n",
      "1514\n",
      "1515\n",
      "1516\n",
      "1517\n",
      "1518\n",
      "1519\n",
      "1520\n",
      "1521\n",
      "1522\n",
      "1523\n",
      "1524\n",
      "1525\n",
      "1526\n",
      "1527\n",
      "1528\n",
      "1529\n",
      "1530\n",
      "1531\n",
      "1532\n",
      "1533\n",
      "1534\n",
      "1535\n",
      "1536\n",
      "1537\n",
      "1538\n",
      "1539\n",
      "1540\n",
      "1541\n",
      "1542\n",
      "1543\n",
      "1544\n",
      "1545\n",
      "1546\n",
      "1547\n",
      "1548\n",
      "1549\n",
      "1550\n",
      "1551\n",
      "1552\n",
      "1553\n",
      "1554\n",
      "1555\n",
      "1556\n",
      "1557\n",
      "1558\n",
      "1559\n",
      "1560\n",
      "1561\n",
      "1562\n",
      "1563\n",
      "1564\n",
      "1565\n",
      "1566\n",
      "1567\n",
      "1568\n",
      "1569\n",
      "1570\n",
      "1571\n",
      "1572\n",
      "1573\n",
      "1574\n",
      "1575\n",
      "1576\n",
      "1577\n",
      "1578\n",
      "1579\n",
      "1580\n",
      "1581\n",
      "1582\n",
      "1583\n",
      "1584\n",
      "1585\n",
      "1586\n",
      "1587\n",
      "1588\n",
      "1589\n",
      "1590\n",
      "1591\n",
      "1592\n",
      "1593\n",
      "1594\n",
      "1595\n",
      "1596\n",
      "1597\n",
      "1598\n",
      "1599\n",
      "1600\n",
      "1601\n",
      "1602\n",
      "1603\n",
      "1604\n",
      "1605\n",
      "1606\n",
      "1607\n",
      "1608\n",
      "1609\n",
      "1610\n",
      "1611\n",
      "1612\n",
      "1613\n",
      "1614\n",
      "1615\n",
      "1616\n",
      "1617\n",
      "1618\n",
      "1619\n",
      "1620\n",
      "1621\n",
      "1622\n",
      "1623\n",
      "1624\n",
      "1625\n",
      "1626\n",
      "1627\n",
      "1628\n",
      "1629\n",
      "1630\n",
      "1631\n",
      "1632\n",
      "1633\n",
      "1634\n",
      "1635\n",
      "1636\n",
      "1637\n",
      "1638\n",
      "1639\n",
      "1640\n",
      "1641\n",
      "1642\n",
      "1643\n",
      "1644\n",
      "1645\n",
      "1646\n",
      "1647\n",
      "1648\n",
      "1649\n",
      "1650\n",
      "1651\n",
      "1652\n",
      "1653\n",
      "1654\n",
      "1655\n",
      "1656\n",
      "1657\n",
      "1658\n",
      "1659\n",
      "1660\n",
      "1661\n",
      "1662\n",
      "1663\n",
      "1664\n",
      "1665\n",
      "1666\n",
      "1667\n",
      "1668\n",
      "1669\n",
      "1670\n",
      "1671\n",
      "1672\n",
      "1673\n",
      "1674\n",
      "1675\n",
      "1676\n",
      "1677\n",
      "1678\n",
      "1679\n",
      "1680\n",
      "1681\n",
      "1682\n",
      "1683\n",
      "1684\n",
      "1685\n",
      "1686\n",
      "1687\n",
      "1688\n",
      "1689\n",
      "1690\n",
      "1691\n",
      "1692\n",
      "1693\n",
      "1694\n",
      "1695\n",
      "1696\n",
      "1697\n",
      "1698\n",
      "1699\n",
      "1700\n",
      "1701\n",
      "1702\n",
      "1703\n",
      "1704\n",
      "1705\n",
      "1706\n",
      "1707\n",
      "1708\n",
      "1709\n",
      "1710\n",
      "1711\n",
      "1712\n",
      "1713\n",
      "1714\n",
      "1715\n",
      "1716\n",
      "1717\n",
      "1718\n",
      "1719\n",
      "1720\n",
      "1721\n",
      "1722\n",
      "1723\n",
      "1724\n",
      "1725\n",
      "1726\n",
      "1727\n",
      "1728\n",
      "1729\n",
      "1730\n",
      "1731\n",
      "1732\n",
      "1733\n",
      "1734\n",
      "1735\n",
      "1736\n",
      "1737\n",
      "1738\n",
      "1739\n",
      "1740\n",
      "1741\n",
      "1742\n",
      "1743\n",
      "1744\n",
      "1745\n",
      "1746\n",
      "1747\n",
      "1748\n",
      "1749\n",
      "1750\n",
      "1751\n",
      "1752\n",
      "1753\n",
      "1754\n",
      "1755\n",
      "1756\n",
      "1757\n",
      "1758\n",
      "1759\n",
      "1760\n",
      "1761\n",
      "1762\n",
      "1763\n",
      "1764\n",
      "1765\n",
      "1766\n",
      "1767\n",
      "1768\n",
      "1769\n",
      "1770\n",
      "1771\n",
      "1772\n",
      "1773\n",
      "1774\n",
      "1775\n",
      "1776\n",
      "1777\n",
      "1778\n",
      "1779\n",
      "1780\n",
      "1781\n",
      "1782\n",
      "1783\n",
      "1784\n",
      "1785\n",
      "1786\n",
      "1787\n",
      "1788\n",
      "1789\n",
      "1790\n",
      "1791\n",
      "1792\n",
      "1793\n",
      "1794\n",
      "1795\n",
      "1796\n",
      "1797\n",
      "1798\n",
      "1799\n",
      "1800\n",
      "1801\n",
      "1802\n",
      "1803\n",
      "1804\n",
      "1805\n",
      "1806\n",
      "1807\n",
      "1808\n",
      "1809\n",
      "1810\n",
      "1811\n",
      "1812\n",
      "1813\n",
      "1814\n",
      "1815\n",
      "1816\n",
      "1817\n",
      "1818\n",
      "1819\n",
      "1820\n",
      "1821\n",
      "1822\n",
      "1823\n",
      "1824\n",
      "1825\n",
      "1826\n",
      "1827\n",
      "1828\n",
      "1829\n",
      "1830\n",
      "1831\n",
      "1832\n",
      "1833\n",
      "1834\n",
      "1835\n",
      "1836\n",
      "1837\n",
      "1838\n",
      "1839\n",
      "1840\n",
      "1841\n",
      "1842\n",
      "1843\n",
      "1844\n",
      "1845\n",
      "1846\n",
      "1847\n",
      "1848\n",
      "1849\n",
      "1850\n",
      "1851\n",
      "1852\n",
      "1853\n",
      "1854\n",
      "1855\n",
      "1856\n",
      "1857\n",
      "1858\n",
      "1859\n",
      "1860\n",
      "1861\n",
      "1862\n",
      "1863\n",
      "1864\n",
      "1865\n",
      "1866\n",
      "1867\n",
      "1868\n",
      "1869\n",
      "1870\n",
      "1871\n",
      "1872\n",
      "1873\n",
      "1874\n",
      "1875\n",
      "1876\n",
      "1877\n",
      "1878\n",
      "1879\n",
      "1880\n",
      "1881\n",
      "1882\n",
      "1883\n",
      "1884\n",
      "1885\n",
      "1886\n",
      "1887\n",
      "1888\n",
      "1889\n",
      "1890\n",
      "1891\n",
      "1892\n",
      "1893\n",
      "1894\n",
      "1895\n",
      "1896\n",
      "1897\n",
      "1898\n",
      "1899\n",
      "1900\n",
      "1901\n",
      "1902\n",
      "1903\n",
      "1904\n",
      "1905\n",
      "1906\n",
      "1907\n",
      "1908\n",
      "1909\n",
      "1910\n",
      "1911\n",
      "1912\n",
      "1913\n",
      "1914\n",
      "1915\n",
      "1916\n",
      "1917\n",
      "1918\n",
      "1919\n",
      "1920\n",
      "1921\n",
      "1922\n",
      "1923\n",
      "1924\n",
      "1925\n",
      "1926\n",
      "1927\n",
      "1928\n",
      "1929\n",
      "1930\n",
      "1931\n",
      "1932\n",
      "1933\n",
      "1934\n",
      "1935\n",
      "1936\n",
      "1937\n",
      "1938\n",
      "1939\n",
      "1940\n",
      "1941\n",
      "1942\n",
      "1943\n",
      "1944\n",
      "1945\n",
      "1946\n",
      "1947\n",
      "1948\n",
      "1949\n",
      "1950\n",
      "1951\n",
      "1952\n",
      "1953\n",
      "1954\n",
      "1955\n",
      "1956\n",
      "1957\n",
      "1958\n",
      "1959\n",
      "1960\n",
      "1961\n",
      "1962\n",
      "1963\n",
      "1964\n",
      "1965\n",
      "1966\n",
      "1967\n",
      "1968\n",
      "1969\n",
      "1970\n",
      "1971\n",
      "1972\n",
      "1973\n",
      "1974\n",
      "1975\n",
      "1976\n",
      "1977\n",
      "1978\n",
      "1979\n",
      "1980\n",
      "1981\n",
      "1982\n",
      "1983\n",
      "1984\n",
      "1985\n",
      "1986\n",
      "1987\n",
      "1988\n",
      "1989\n",
      "1990\n",
      "1991\n",
      "1992\n",
      "1993\n",
      "1994\n",
      "1995\n",
      "1996\n",
      "1997\n",
      "1998\n",
      "1999\n",
      "2000\n",
      "1\n",
      "2\n",
      "3\n",
      "4\n",
      "5\n",
      "6\n",
      "7\n",
      "8\n",
      "9\n",
      "10\n",
      "11\n",
      "12\n",
      "13\n",
      "14\n",
      "15\n",
      "16\n",
      "17\n",
      "18\n",
      "19\n",
      "20\n",
      "21\n",
      "22\n",
      "23\n",
      "24\n",
      "25\n",
      "26\n",
      "27\n",
      "28\n",
      "29\n",
      "30\n",
      "31\n",
      "32\n",
      "33\n",
      "34\n",
      "35\n",
      "36\n",
      "37\n",
      "38\n",
      "39\n",
      "40\n",
      "41\n",
      "42\n",
      "43\n",
      "44\n",
      "45\n",
      "46\n",
      "47\n",
      "48\n",
      "49\n",
      "50\n",
      "51\n",
      "52\n",
      "53\n",
      "54\n",
      "55\n",
      "56\n",
      "57\n",
      "58\n",
      "59\n",
      "60\n",
      "61\n",
      "62\n",
      "63\n",
      "64\n",
      "65\n",
      "66\n",
      "67\n",
      "68\n",
      "69\n",
      "70\n",
      "71\n",
      "72\n",
      "73\n",
      "74\n",
      "75\n",
      "76\n",
      "77\n",
      "78\n",
      "79\n",
      "80\n",
      "81\n",
      "82\n",
      "83\n",
      "84\n",
      "85\n",
      "86\n",
      "87\n",
      "88\n",
      "89\n",
      "90\n",
      "91\n",
      "92\n",
      "93\n",
      "94\n",
      "95\n",
      "96\n",
      "97\n",
      "98\n",
      "99\n",
      "100\n",
      "101\n",
      "102\n",
      "103\n",
      "104\n",
      "105\n",
      "106\n",
      "107\n",
      "108\n",
      "109\n",
      "110\n",
      "111\n",
      "112\n",
      "113\n",
      "114\n",
      "115\n",
      "116\n",
      "117\n",
      "118\n",
      "119\n",
      "120\n",
      "121\n",
      "122\n",
      "123\n",
      "124\n",
      "125\n",
      "126\n",
      "127\n",
      "128\n",
      "129\n",
      "130\n",
      "131\n",
      "132\n",
      "133\n",
      "134\n",
      "135\n",
      "136\n",
      "137\n",
      "138\n",
      "139\n",
      "140\n",
      "141\n",
      "142\n",
      "143\n",
      "144\n",
      "145\n",
      "146\n",
      "147\n",
      "148\n",
      "149\n",
      "150\n",
      "151\n",
      "152\n",
      "153\n",
      "154\n",
      "155\n",
      "156\n",
      "157\n",
      "158\n",
      "159\n",
      "160\n",
      "161\n",
      "162\n",
      "163\n",
      "164\n",
      "165\n",
      "166\n",
      "167\n",
      "168\n",
      "169\n",
      "170\n",
      "171\n",
      "172\n",
      "173\n",
      "174\n",
      "175\n",
      "176\n",
      "177\n",
      "178\n",
      "179\n",
      "180\n",
      "181\n",
      "182\n",
      "183\n",
      "184\n",
      "185\n",
      "186\n",
      "187\n",
      "188\n",
      "189\n",
      "190\n",
      "191\n",
      "192\n",
      "193\n",
      "194\n",
      "195\n",
      "196\n",
      "197\n",
      "198\n",
      "199\n",
      "200\n",
      "201\n",
      "202\n",
      "203\n",
      "204\n",
      "205\n",
      "206\n",
      "207\n",
      "208\n",
      "209\n",
      "210\n",
      "211\n",
      "212\n",
      "213\n",
      "214\n",
      "215\n",
      "216\n",
      "217\n",
      "218\n",
      "219\n",
      "220\n",
      "221\n",
      "222\n",
      "223\n",
      "224\n",
      "225\n",
      "226\n",
      "227\n",
      "228\n",
      "229\n",
      "230\n",
      "231\n",
      "232\n",
      "233\n",
      "234\n",
      "235\n",
      "236\n",
      "237\n",
      "238\n",
      "239\n",
      "240\n",
      "241\n",
      "242\n",
      "243\n",
      "244\n",
      "245\n",
      "246\n",
      "247\n",
      "248\n",
      "249\n",
      "250\n",
      "251\n",
      "252\n",
      "253\n",
      "254\n",
      "255\n",
      "256\n",
      "257\n",
      "258\n",
      "259\n",
      "260\n",
      "261\n",
      "262\n",
      "263\n",
      "264\n",
      "265\n",
      "266\n",
      "267\n",
      "268\n",
      "269\n",
      "270\n",
      "271\n",
      "272\n",
      "273\n",
      "274\n",
      "275\n",
      "276\n",
      "277\n",
      "278\n",
      "279\n",
      "280\n",
      "281\n",
      "282\n",
      "283\n",
      "284\n",
      "285\n",
      "286\n",
      "287\n",
      "288\n",
      "289\n",
      "290\n",
      "291\n",
      "292\n",
      "293\n",
      "294\n",
      "295\n",
      "296\n",
      "297\n",
      "298\n",
      "299\n",
      "300\n",
      "301\n",
      "302\n",
      "303\n",
      "304\n",
      "305\n",
      "306\n",
      "307\n",
      "308\n",
      "309\n",
      "310\n",
      "311\n",
      "312\n",
      "313\n",
      "314\n",
      "315\n",
      "316\n",
      "317\n",
      "318\n",
      "319\n",
      "320\n",
      "321\n",
      "322\n",
      "323\n",
      "324\n",
      "325\n",
      "326\n",
      "327\n",
      "328\n",
      "329\n",
      "330\n",
      "331\n",
      "332\n",
      "333\n",
      "334\n",
      "335\n",
      "336\n",
      "337\n",
      "338\n",
      "339\n",
      "340\n",
      "341\n",
      "342\n",
      "343\n",
      "344\n",
      "345\n",
      "346\n",
      "347\n",
      "348\n",
      "349\n",
      "350\n",
      "351\n",
      "352\n",
      "353\n",
      "354\n",
      "355\n",
      "356\n",
      "357\n",
      "358\n",
      "359\n",
      "360\n",
      "361\n",
      "362\n",
      "363\n",
      "364\n",
      "365\n",
      "366\n",
      "367\n",
      "368\n",
      "369\n",
      "370\n",
      "371\n",
      "372\n",
      "373\n",
      "374\n",
      "375\n",
      "376\n",
      "377\n",
      "378\n",
      "379\n",
      "380\n",
      "381\n",
      "382\n",
      "383\n",
      "384\n",
      "385\n",
      "386\n",
      "387\n",
      "388\n",
      "389\n",
      "390\n",
      "391\n",
      "392\n",
      "393\n",
      "394\n",
      "395\n",
      "396\n",
      "397\n",
      "398\n",
      "399\n",
      "400\n",
      "401\n",
      "402\n",
      "403\n",
      "404\n",
      "405\n",
      "406\n",
      "407\n",
      "408\n",
      "409\n",
      "410\n",
      "411\n",
      "412\n",
      "413\n",
      "414\n",
      "415\n",
      "416\n",
      "417\n",
      "418\n",
      "419\n",
      "420\n",
      "421\n",
      "422\n",
      "423\n",
      "424\n",
      "425\n",
      "426\n",
      "427\n",
      "428\n",
      "429\n",
      "430\n",
      "431\n",
      "432\n",
      "433\n",
      "434\n",
      "435\n",
      "436\n",
      "437\n",
      "438\n",
      "439\n",
      "440\n",
      "441\n",
      "442\n",
      "443\n",
      "444\n",
      "445\n",
      "446\n",
      "447\n",
      "448\n",
      "449\n",
      "450\n",
      "451\n",
      "452\n",
      "453\n",
      "454\n",
      "455\n",
      "456\n",
      "457\n",
      "458\n",
      "459\n",
      "460\n",
      "461\n",
      "462\n",
      "463\n",
      "464\n",
      "465\n",
      "466\n",
      "467\n",
      "468\n",
      "469\n",
      "470\n",
      "471\n",
      "472\n",
      "473\n",
      "474\n",
      "475\n",
      "476\n",
      "477\n",
      "478\n",
      "479\n",
      "480\n",
      "481\n",
      "482\n",
      "483\n",
      "484\n",
      "485\n",
      "486\n",
      "487\n",
      "488\n",
      "489\n",
      "490\n",
      "491\n",
      "492\n",
      "493\n",
      "494\n",
      "495\n",
      "496\n",
      "497\n",
      "498\n",
      "499\n",
      "500\n",
      "501\n",
      "502\n",
      "503\n",
      "504\n",
      "505\n",
      "506\n",
      "507\n",
      "508\n",
      "509\n",
      "510\n",
      "511\n",
      "512\n",
      "513\n",
      "514\n",
      "515\n",
      "516\n",
      "517\n",
      "518\n",
      "519\n",
      "520\n",
      "521\n",
      "522\n",
      "523\n",
      "524\n",
      "525\n",
      "526\n",
      "527\n",
      "528\n",
      "529\n",
      "530\n",
      "531\n",
      "532\n",
      "533\n",
      "534\n",
      "535\n",
      "536\n",
      "537\n",
      "538\n",
      "539\n",
      "540\n",
      "541\n",
      "542\n",
      "543\n",
      "544\n",
      "545\n",
      "546\n",
      "547\n",
      "548\n",
      "549\n",
      "550\n",
      "551\n",
      "552\n",
      "553\n",
      "554\n",
      "555\n",
      "556\n",
      "557\n",
      "558\n",
      "559\n",
      "560\n",
      "561\n",
      "562\n",
      "563\n",
      "564\n",
      "565\n",
      "566\n",
      "567\n",
      "568\n",
      "569\n",
      "570\n",
      "571\n",
      "572\n",
      "573\n",
      "574\n",
      "575\n",
      "576\n",
      "577\n",
      "578\n",
      "579\n",
      "580\n",
      "581\n",
      "582\n",
      "583\n",
      "584\n",
      "585\n",
      "586\n",
      "587\n",
      "588\n",
      "589\n",
      "590\n",
      "591\n",
      "592\n",
      "593\n",
      "594\n",
      "595\n",
      "596\n",
      "597\n",
      "598\n",
      "599\n",
      "600\n",
      "601\n",
      "602\n",
      "603\n",
      "604\n",
      "605\n",
      "606\n",
      "607\n",
      "608\n",
      "609\n",
      "610\n",
      "611\n",
      "612\n",
      "613\n",
      "614\n",
      "615\n",
      "616\n",
      "617\n",
      "618\n",
      "619\n",
      "620\n",
      "621\n",
      "622\n",
      "623\n",
      "624\n",
      "625\n",
      "626\n",
      "627\n",
      "628\n",
      "629\n",
      "630\n",
      "631\n",
      "632\n",
      "633\n",
      "634\n",
      "635\n",
      "636\n",
      "637\n",
      "638\n",
      "639\n",
      "640\n",
      "641\n",
      "642\n",
      "643\n",
      "644\n",
      "645\n",
      "646\n",
      "647\n",
      "648\n",
      "649\n",
      "650\n",
      "651\n",
      "652\n",
      "653\n"
     ]
    },
    {
     "name": "stdout",
     "output_type": "stream",
     "text": [
      "654\n",
      "655\n",
      "656\n",
      "657\n",
      "658\n",
      "659\n",
      "660\n",
      "661\n",
      "662\n",
      "663\n",
      "664\n",
      "665\n",
      "666\n",
      "667\n",
      "668\n",
      "669\n",
      "670\n",
      "671\n",
      "672\n",
      "673\n",
      "674\n",
      "675\n",
      "676\n",
      "677\n",
      "678\n",
      "679\n",
      "680\n",
      "681\n",
      "682\n",
      "683\n",
      "684\n",
      "685\n",
      "686\n",
      "687\n",
      "688\n",
      "689\n",
      "690\n",
      "691\n",
      "692\n",
      "693\n",
      "694\n",
      "695\n",
      "696\n",
      "697\n",
      "698\n",
      "699\n",
      "700\n",
      "701\n",
      "702\n",
      "703\n",
      "704\n",
      "705\n",
      "706\n",
      "707\n",
      "708\n",
      "709\n",
      "710\n",
      "711\n",
      "712\n",
      "713\n",
      "714\n",
      "715\n",
      "716\n",
      "717\n",
      "718\n",
      "719\n",
      "720\n",
      "721\n",
      "722\n",
      "723\n",
      "724\n",
      "725\n",
      "726\n",
      "727\n",
      "728\n",
      "729\n",
      "730\n",
      "731\n",
      "732\n",
      "733\n",
      "734\n",
      "735\n",
      "736\n",
      "737\n",
      "738\n",
      "739\n",
      "740\n",
      "741\n",
      "742\n",
      "743\n",
      "744\n",
      "745\n",
      "746\n",
      "747\n",
      "748\n",
      "749\n",
      "750\n",
      "751\n",
      "752\n",
      "753\n",
      "754\n",
      "755\n",
      "756\n",
      "757\n",
      "758\n",
      "759\n",
      "760\n",
      "761\n",
      "762\n",
      "763\n",
      "764\n",
      "765\n",
      "766\n",
      "767\n",
      "768\n",
      "769\n",
      "770\n",
      "771\n",
      "772\n",
      "773\n",
      "774\n",
      "775\n",
      "776\n",
      "777\n",
      "778\n",
      "779\n",
      "780\n",
      "781\n",
      "782\n",
      "783\n",
      "784\n",
      "785\n",
      "786\n",
      "787\n",
      "788\n",
      "789\n",
      "790\n",
      "791\n",
      "792\n",
      "793\n",
      "794\n",
      "795\n",
      "796\n",
      "797\n",
      "798\n",
      "799\n",
      "800\n",
      "801\n",
      "802\n",
      "803\n",
      "804\n",
      "805\n",
      "806\n",
      "807\n",
      "808\n",
      "809\n",
      "810\n",
      "811\n",
      "812\n",
      "813\n",
      "814\n",
      "815\n",
      "816\n",
      "817\n",
      "818\n",
      "819\n",
      "820\n",
      "821\n",
      "822\n",
      "823\n",
      "824\n",
      "825\n",
      "826\n",
      "827\n",
      "828\n",
      "829\n",
      "830\n",
      "831\n",
      "832\n",
      "833\n",
      "834\n",
      "835\n",
      "836\n",
      "837\n",
      "838\n",
      "839\n",
      "840\n",
      "841\n",
      "842\n",
      "843\n",
      "844\n",
      "845\n",
      "846\n",
      "847\n",
      "848\n",
      "849\n",
      "850\n",
      "851\n",
      "852\n",
      "853\n",
      "854\n",
      "855\n",
      "856\n",
      "857\n",
      "858\n",
      "859\n",
      "860\n",
      "861\n",
      "862\n",
      "863\n",
      "864\n",
      "865\n",
      "866\n",
      "867\n",
      "868\n",
      "869\n",
      "870\n",
      "871\n",
      "872\n",
      "873\n",
      "874\n",
      "875\n",
      "876\n",
      "877\n",
      "878\n",
      "879\n",
      "880\n",
      "881\n",
      "882\n",
      "883\n",
      "884\n",
      "885\n",
      "886\n",
      "887\n",
      "888\n",
      "889\n",
      "890\n",
      "891\n",
      "892\n",
      "893\n",
      "894\n",
      "895\n",
      "896\n",
      "897\n",
      "898\n",
      "899\n",
      "900\n",
      "901\n",
      "902\n",
      "903\n",
      "904\n",
      "905\n",
      "906\n",
      "907\n",
      "908\n",
      "909\n",
      "910\n",
      "911\n",
      "912\n",
      "913\n",
      "914\n",
      "915\n",
      "916\n",
      "917\n",
      "918\n",
      "919\n",
      "920\n",
      "921\n",
      "922\n",
      "923\n",
      "924\n",
      "925\n",
      "926\n",
      "927\n",
      "928\n",
      "929\n",
      "930\n",
      "931\n",
      "932\n",
      "933\n",
      "934\n",
      "935\n",
      "936\n",
      "937\n",
      "938\n",
      "939\n",
      "940\n",
      "941\n",
      "942\n",
      "943\n",
      "944\n",
      "945\n",
      "946\n",
      "947\n",
      "948\n",
      "949\n",
      "950\n",
      "951\n",
      "952\n",
      "953\n",
      "954\n",
      "955\n",
      "956\n",
      "957\n",
      "958\n",
      "959\n",
      "960\n",
      "961\n",
      "962\n",
      "963\n",
      "964\n",
      "965\n",
      "966\n",
      "967\n",
      "968\n",
      "969\n",
      "970\n",
      "971\n",
      "972\n",
      "973\n",
      "974\n",
      "975\n",
      "976\n",
      "977\n",
      "978\n",
      "979\n",
      "980\n",
      "981\n",
      "982\n",
      "983\n",
      "984\n",
      "985\n",
      "986\n",
      "987\n",
      "988\n",
      "989\n",
      "990\n",
      "991\n",
      "992\n",
      "993\n",
      "994\n",
      "995\n",
      "996\n",
      "997\n",
      "998\n",
      "999\n",
      "1000\n",
      "1001\n",
      "1002\n",
      "1003\n",
      "1004\n",
      "1005\n",
      "1006\n",
      "1007\n",
      "1008\n",
      "1009\n",
      "1010\n",
      "1011\n",
      "1012\n",
      "1013\n",
      "1014\n",
      "1015\n",
      "1016\n",
      "1017\n",
      "1018\n",
      "1019\n",
      "1020\n",
      "1021\n",
      "1022\n",
      "1023\n",
      "1024\n",
      "1025\n",
      "1026\n",
      "1027\n",
      "1028\n",
      "1029\n",
      "1030\n",
      "1031\n",
      "1032\n",
      "1033\n",
      "1034\n",
      "1035\n",
      "1036\n",
      "1037\n",
      "1038\n",
      "1039\n",
      "1040\n",
      "1041\n",
      "1042\n",
      "1043\n",
      "1044\n",
      "1045\n",
      "1046\n",
      "1047\n",
      "1048\n",
      "1049\n",
      "1050\n",
      "1051\n",
      "1052\n",
      "1053\n",
      "1054\n",
      "1055\n",
      "1056\n",
      "1057\n",
      "1058\n",
      "1059\n",
      "1060\n",
      "1061\n",
      "1062\n",
      "1063\n",
      "1064\n",
      "1065\n",
      "1066\n",
      "1067\n",
      "1068\n",
      "1069\n",
      "1070\n",
      "1071\n",
      "1072\n",
      "1073\n",
      "1074\n",
      "1075\n",
      "1076\n",
      "1077\n",
      "1078\n",
      "1079\n",
      "1080\n",
      "1081\n",
      "1082\n",
      "1083\n",
      "1084\n",
      "1085\n",
      "1086\n",
      "1087\n",
      "1088\n",
      "1089\n",
      "1090\n",
      "1091\n",
      "1092\n",
      "1093\n",
      "1094\n",
      "1095\n",
      "1096\n",
      "1097\n",
      "1098\n",
      "1099\n",
      "1100\n",
      "1101\n",
      "1102\n",
      "1103\n",
      "1104\n",
      "1105\n",
      "1106\n",
      "1107\n",
      "1108\n",
      "1109\n",
      "1110\n",
      "1111\n",
      "1112\n",
      "1113\n",
      "1114\n",
      "1115\n",
      "1116\n",
      "1117\n",
      "1118\n",
      "1119\n",
      "1120\n",
      "1121\n",
      "1122\n",
      "1123\n",
      "1124\n",
      "1125\n",
      "1126\n",
      "1127\n",
      "1128\n",
      "1129\n",
      "1130\n",
      "1131\n",
      "1132\n",
      "1133\n",
      "1134\n",
      "1135\n",
      "1136\n",
      "1137\n",
      "1138\n",
      "1139\n",
      "1140\n",
      "1141\n",
      "1142\n",
      "1143\n",
      "1144\n",
      "1145\n",
      "1146\n",
      "1147\n",
      "1148\n",
      "1149\n",
      "1150\n",
      "1151\n",
      "1152\n",
      "1153\n",
      "1154\n",
      "1155\n",
      "1156\n",
      "1157\n",
      "1158\n",
      "1159\n",
      "1160\n",
      "1161\n",
      "1162\n",
      "1163\n",
      "1164\n",
      "1165\n",
      "1166\n",
      "1167\n",
      "1168\n",
      "1169\n",
      "1170\n",
      "1171\n",
      "1172\n",
      "1173\n",
      "1174\n",
      "1175\n",
      "1176\n",
      "1177\n",
      "1178\n",
      "1179\n",
      "1180\n",
      "1181\n",
      "1182\n",
      "1183\n",
      "1184\n",
      "1185\n",
      "1186\n",
      "1187\n",
      "1188\n",
      "1189\n",
      "1190\n",
      "1191\n",
      "1192\n",
      "1193\n",
      "1194\n",
      "1195\n",
      "1196\n",
      "1197\n",
      "1198\n",
      "1199\n",
      "1200\n",
      "1201\n",
      "1202\n",
      "1203\n",
      "1204\n",
      "1205\n",
      "1206\n",
      "1207\n",
      "1208\n",
      "1209\n",
      "1210\n",
      "1211\n",
      "1212\n",
      "1213\n",
      "1214\n",
      "1215\n",
      "1216\n",
      "1217\n",
      "1218\n",
      "1219\n",
      "1220\n",
      "1221\n",
      "1222\n",
      "1223\n",
      "1224\n",
      "1225\n",
      "1226\n",
      "1227\n",
      "1228\n",
      "1229\n",
      "1230\n",
      "1231\n",
      "1232\n",
      "1233\n",
      "1234\n",
      "1235\n",
      "1236\n",
      "1237\n",
      "1238\n",
      "1239\n",
      "1240\n",
      "1241\n",
      "1242\n",
      "1243\n",
      "1244\n",
      "1245\n",
      "1246\n",
      "1247\n",
      "1248\n",
      "1249\n",
      "1250\n",
      "1251\n",
      "1252\n",
      "1253\n",
      "1254\n",
      "1255\n",
      "1256\n",
      "1257\n",
      "1258\n",
      "1259\n",
      "1260\n",
      "1261\n",
      "1262\n",
      "1263\n",
      "1264\n",
      "1265\n",
      "1266\n",
      "1267\n",
      "1268\n",
      "1269\n",
      "1270\n",
      "1271\n",
      "1272\n",
      "1273\n",
      "1274\n",
      "1275\n",
      "1276\n",
      "1277\n",
      "1278\n",
      "1279\n",
      "1280\n",
      "1281\n",
      "1282\n",
      "1283\n",
      "1284\n",
      "1285\n",
      "1286\n",
      "1287\n",
      "1288\n",
      "1289\n",
      "1290\n",
      "1291\n",
      "1292\n",
      "1293\n",
      "1294\n",
      "1295\n",
      "1296\n",
      "1297\n",
      "1298\n",
      "1299\n",
      "1300\n",
      "1301\n",
      "1302\n",
      "1303\n",
      "1304\n",
      "1305\n",
      "1306\n",
      "1307\n",
      "1308\n",
      "1309\n",
      "1310\n",
      "1311\n",
      "1312\n",
      "1313\n",
      "1314\n",
      "1315\n",
      "1316\n",
      "1317\n",
      "1318\n",
      "1319\n",
      "1320\n",
      "1321\n",
      "1322\n",
      "1323\n",
      "1324\n",
      "1325\n",
      "1326\n",
      "1327\n",
      "1328\n",
      "1329\n",
      "1330\n",
      "1331\n",
      "1332\n",
      "1333\n",
      "1334\n",
      "1335\n",
      "1336\n",
      "1337\n",
      "1338\n",
      "1339\n",
      "1340\n",
      "1341\n",
      "1342\n",
      "1343\n",
      "1344\n",
      "1345\n",
      "1346\n",
      "1347\n",
      "1348\n",
      "1349\n",
      "1350\n",
      "1351\n",
      "1352\n",
      "1353\n",
      "1354\n",
      "1355\n",
      "1356\n",
      "1357\n",
      "1358\n",
      "1359\n",
      "1360\n",
      "1361\n",
      "1362\n",
      "1363\n",
      "1364\n",
      "1365\n",
      "1366\n",
      "1367\n",
      "1368\n",
      "1369\n",
      "1370\n",
      "1371\n",
      "1372\n",
      "1373\n",
      "1374\n",
      "1375\n",
      "1376\n",
      "1377\n",
      "1378\n",
      "1379\n",
      "1380\n",
      "1381\n",
      "1382\n",
      "1383\n",
      "1384\n",
      "1385\n",
      "1386\n",
      "1387\n",
      "1388\n",
      "1389\n",
      "1390\n",
      "1391\n",
      "1392\n",
      "1393\n",
      "1394\n",
      "1395\n",
      "1396\n",
      "1397\n",
      "1398\n",
      "1399\n",
      "1400\n",
      "1401\n",
      "1402\n",
      "1403\n",
      "1404\n",
      "1405\n",
      "1406\n",
      "1407\n",
      "1408\n",
      "1409\n",
      "1410\n",
      "1411\n",
      "1412\n",
      "1413\n",
      "1414\n",
      "1415\n",
      "1416\n",
      "1417\n",
      "1418\n",
      "1419\n",
      "1420\n",
      "1421\n",
      "1422\n",
      "1423\n",
      "1424\n",
      "1425\n",
      "1426\n",
      "1427\n",
      "1428\n",
      "1429\n",
      "1430\n",
      "1431\n",
      "1432\n",
      "1433\n",
      "1434\n",
      "1435\n",
      "1436\n",
      "1437\n",
      "1438\n",
      "1439\n",
      "1440\n",
      "1441\n",
      "1442\n",
      "1443\n",
      "1444\n",
      "1445\n",
      "1446\n",
      "1447\n",
      "1448\n",
      "1449\n",
      "1450\n",
      "1451\n",
      "1452\n",
      "1453\n",
      "1454\n",
      "1455\n",
      "1456\n",
      "1457\n",
      "1458\n",
      "1459\n",
      "1460\n",
      "1461\n",
      "1462\n",
      "1463\n",
      "1464\n",
      "1465\n",
      "1466\n",
      "1467\n",
      "1468\n",
      "1469\n",
      "1470\n",
      "1471\n",
      "1472\n",
      "1473\n",
      "1474\n",
      "1475\n",
      "1476\n",
      "1477\n",
      "1478\n",
      "1479\n",
      "1480\n",
      "1481\n",
      "1482\n",
      "1483\n",
      "1484\n",
      "1485\n",
      "1486\n",
      "1487\n",
      "1488\n",
      "1489\n",
      "1490\n",
      "1491\n",
      "1492\n",
      "1493\n",
      "1494\n",
      "1495\n",
      "1496\n",
      "1497\n",
      "1498\n",
      "1499\n",
      "1500\n",
      "1501\n",
      "1502\n",
      "1503\n",
      "1504\n",
      "1505\n",
      "1506\n",
      "1507\n",
      "1508\n",
      "1509\n",
      "1510\n",
      "1511\n",
      "1512\n",
      "1513\n",
      "1514\n",
      "1515\n",
      "1516\n",
      "1517\n",
      "1518\n",
      "1519\n",
      "1520\n",
      "1521\n",
      "1522\n",
      "1523\n",
      "1524\n",
      "1525\n",
      "1526\n",
      "1527\n",
      "1528\n",
      "1529\n",
      "1530\n",
      "1531\n",
      "1532\n",
      "1533\n",
      "1534\n",
      "1535\n",
      "1536\n",
      "1537\n",
      "1538\n",
      "1539\n",
      "1540\n",
      "1541\n",
      "1542\n",
      "1543\n",
      "1544\n",
      "1545\n",
      "1546\n",
      "1547\n",
      "1548\n",
      "1549\n",
      "1550\n",
      "1551\n",
      "1552\n",
      "1553\n",
      "1554\n",
      "1555\n",
      "1556\n",
      "1557\n",
      "1558\n",
      "1559\n",
      "1560\n",
      "1561\n",
      "1562\n",
      "1563\n",
      "1564\n",
      "1565\n",
      "1566\n",
      "1567\n",
      "1568\n",
      "1569\n",
      "1570\n",
      "1571\n",
      "1572\n",
      "1573\n",
      "1574\n",
      "1575\n",
      "1576\n",
      "1577\n",
      "1578\n",
      "1579\n",
      "1580\n",
      "1581\n",
      "1582\n",
      "1583\n",
      "1584\n",
      "1585\n",
      "1586\n",
      "1587\n",
      "1588\n",
      "1589\n",
      "1590\n",
      "1591\n",
      "1592\n",
      "1593\n",
      "1594\n",
      "1595\n",
      "1596\n",
      "1597\n",
      "1598\n",
      "1599\n",
      "1600\n",
      "1601\n",
      "1602\n",
      "1603\n",
      "1604\n",
      "1605\n",
      "1606\n",
      "1607\n",
      "1608\n",
      "1609\n",
      "1610\n",
      "1611\n",
      "1612\n",
      "1613\n",
      "1614\n",
      "1615\n",
      "1616\n",
      "1617\n",
      "1618\n",
      "1619\n",
      "1620\n",
      "1621\n",
      "1622\n",
      "1623\n",
      "1624\n",
      "1625\n",
      "1626\n",
      "1627\n",
      "1628\n",
      "1629\n",
      "1630\n",
      "1631\n",
      "1632\n",
      "1633\n",
      "1634\n",
      "1635\n",
      "1636\n",
      "1637\n",
      "1638\n",
      "1639\n",
      "1640\n",
      "1641\n",
      "1642\n",
      "1643\n",
      "1644\n",
      "1645\n",
      "1646\n",
      "1647\n",
      "1648\n",
      "1649\n",
      "1650\n",
      "1651\n",
      "1652\n",
      "1653\n",
      "1654\n",
      "1655\n",
      "1656\n",
      "1657\n",
      "1658\n",
      "1659\n",
      "1660\n",
      "1661\n",
      "1662\n",
      "1663\n",
      "1664\n",
      "1665\n",
      "1666\n",
      "1667\n",
      "1668\n",
      "1669\n",
      "1670\n",
      "1671\n",
      "1672\n",
      "1673\n",
      "1674\n",
      "1675\n",
      "1676\n",
      "1677\n",
      "1678\n",
      "1679\n",
      "1680\n",
      "1681\n",
      "1682\n",
      "1683\n",
      "1684\n",
      "1685\n",
      "1686\n",
      "1687\n",
      "1688\n",
      "1689\n",
      "1690\n",
      "1691\n",
      "1692\n",
      "1693\n",
      "1694\n",
      "1695\n",
      "1696\n",
      "1697\n",
      "1698\n",
      "1699\n",
      "1700\n",
      "1701\n",
      "1702\n",
      "1703\n",
      "1704\n",
      "1705\n",
      "1706\n",
      "1707\n",
      "1708\n",
      "1709\n",
      "1710\n",
      "1711\n",
      "1712\n",
      "1713\n",
      "1714\n",
      "1715\n",
      "1716\n",
      "1717\n",
      "1718\n",
      "1719\n",
      "1720\n",
      "1721\n",
      "1722\n",
      "1723\n",
      "1724\n",
      "1725\n",
      "1726\n",
      "1727\n",
      "1728\n",
      "1729\n",
      "1730\n",
      "1731\n",
      "1732\n",
      "1733\n",
      "1734\n",
      "1735\n",
      "1736\n",
      "1737\n",
      "1738\n",
      "1739\n",
      "1740\n",
      "1741\n",
      "1742\n",
      "1743\n",
      "1744\n",
      "1745\n",
      "1746\n",
      "1747\n",
      "1748\n",
      "1749\n",
      "1750\n",
      "1751\n",
      "1752\n",
      "1753\n",
      "1754\n",
      "1755\n",
      "1756\n",
      "1757\n",
      "1758\n",
      "1759\n",
      "1760\n",
      "1761\n",
      "1762\n",
      "1763\n",
      "1764\n",
      "1765\n",
      "1766\n",
      "1767\n",
      "1768\n",
      "1769\n",
      "1770\n",
      "1771\n",
      "1772\n",
      "1773\n",
      "1774\n",
      "1775\n",
      "1776\n",
      "1777\n",
      "1778\n",
      "1779\n",
      "1780\n",
      "1781\n",
      "1782\n",
      "1783\n",
      "1784\n",
      "1785\n",
      "1786\n",
      "1787\n",
      "1788\n",
      "1789\n",
      "1790\n",
      "1791\n",
      "1792\n",
      "1793\n",
      "1794\n",
      "1795\n",
      "1796\n",
      "1797\n",
      "1798\n",
      "1799\n",
      "1800\n",
      "1801\n",
      "1802\n",
      "1803\n",
      "1804\n",
      "1805\n",
      "1806\n",
      "1807\n",
      "1808\n",
      "1809\n",
      "1810\n",
      "1811\n",
      "1812\n",
      "1813\n",
      "1814\n",
      "1815\n",
      "1816\n",
      "1817\n",
      "1818\n",
      "1819\n",
      "1820\n",
      "1821\n",
      "1822\n",
      "1823\n",
      "1824\n",
      "1825\n",
      "1826\n",
      "1827\n",
      "1828\n",
      "1829\n",
      "1830\n",
      "1831\n",
      "1832\n",
      "1833\n",
      "1834\n",
      "1835\n",
      "1836\n",
      "1837\n",
      "1838\n",
      "1839\n",
      "1840\n",
      "1841\n",
      "1842\n",
      "1843\n",
      "1844\n",
      "1845\n",
      "1846\n",
      "1847\n",
      "1848\n",
      "1849\n",
      "1850\n",
      "1851\n",
      "1852\n",
      "1853\n",
      "1854\n",
      "1855\n",
      "1856\n",
      "1857\n",
      "1858\n",
      "1859\n",
      "1860\n",
      "1861\n",
      "1862\n",
      "1863\n",
      "1864\n",
      "1865\n",
      "1866\n",
      "1867\n",
      "1868\n",
      "1869\n",
      "1870\n",
      "1871\n",
      "1872\n",
      "1873\n",
      "1874\n",
      "1875\n",
      "1876\n",
      "1877\n",
      "1878\n",
      "1879\n",
      "1880\n",
      "1881\n",
      "1882\n",
      "1883\n",
      "1884\n",
      "1885\n",
      "1886\n",
      "1887\n",
      "1888\n",
      "1889\n",
      "1890\n",
      "1891\n",
      "1892\n",
      "1893\n",
      "1894\n",
      "1895\n",
      "1896\n",
      "1897\n",
      "1898\n",
      "1899\n",
      "1900\n",
      "1901\n",
      "1902\n",
      "1903\n",
      "1904\n",
      "1905\n",
      "1906\n",
      "1907\n",
      "1908\n",
      "1909\n",
      "1910\n",
      "1911\n",
      "1912\n",
      "1913\n",
      "1914\n",
      "1915\n",
      "1916\n",
      "1917\n",
      "1918\n",
      "1919\n",
      "1920\n",
      "1921\n",
      "1922\n",
      "1923\n",
      "1924\n",
      "1925\n",
      "1926\n",
      "1927\n",
      "1928\n",
      "1929\n",
      "1930\n",
      "1931\n",
      "1932\n",
      "1933\n",
      "1934\n",
      "1935\n",
      "1936\n",
      "1937\n",
      "1938\n",
      "1939\n",
      "1940\n",
      "1941\n",
      "1942\n",
      "1943\n",
      "1944\n",
      "1945\n",
      "1946\n",
      "1947\n",
      "1948\n",
      "1949\n",
      "1950\n",
      "1951\n",
      "1952\n",
      "1953\n",
      "1954\n",
      "1955\n",
      "1956\n",
      "1957\n",
      "1958\n",
      "1959\n",
      "1960\n",
      "1961\n",
      "1962\n",
      "1963\n",
      "1964\n",
      "1965\n",
      "1966\n",
      "1967\n",
      "1968\n",
      "1969\n",
      "1970\n",
      "1971\n",
      "1972\n",
      "1973\n",
      "1974\n",
      "1975\n",
      "1976\n",
      "1977\n",
      "1978\n",
      "1979\n",
      "1980\n",
      "1981\n",
      "1982\n",
      "1983\n",
      "1984\n",
      "1985\n",
      "1986\n",
      "1987\n",
      "1988\n",
      "1989\n",
      "1990\n",
      "1991\n",
      "1992\n",
      "1993\n",
      "1994\n",
      "1995\n",
      "1996\n",
      "1997\n",
      "1998\n",
      "1999\n",
      "2000\n"
     ]
    }
   ],
   "source": [
    "# Printing the numbers 0 to 2000\n",
    "for num in range(2001):\n",
    " print(num)\n",
    "# Printing the numbers 1 to 2000\n",
    "for num in range(1, 2001):\n",
    " print(num)\n",
    "# Making a list of numbers from 1 to a million\n",
    "nums = list(range(1, 1000001))"
   ]
  },
  {
   "cell_type": "markdown",
   "metadata": {},
   "source": [
    "##### Simple statistics:\n",
    "\n"
   ]
  },
  {
   "cell_type": "code",
   "execution_count": 12,
   "metadata": {},
   "outputs": [],
   "source": [
    "# Finding the minimum value in a list\n",
    "nums = [23, 22, 44, 17, 77, 55, 1, 65, 82, 2]\n",
    "num_min = min(nums)\n",
    "# Finding the maximum value\n",
    "nums = [23, 22, 44, 17, 77, 55, 1, 65, 82, 2]\n",
    "num_max = max(nums)\n",
    "# Finding the sum of all numbers\n",
    "nums = [23, 22, 44, 17, 77, 55, 1, 65, 82, 2]\n",
    "total_num = sum(nums)"
   ]
  },
  {
   "cell_type": "markdown",
   "metadata": {},
   "source": [
    "##### Slicing a list:\n"
   ]
  },
  {
   "cell_type": "code",
   "execution_count": 13,
   "metadata": {},
   "outputs": [],
   "source": [
    "\n",
    "# Getting the first three items\n",
    "colors = ['Red', 'Blue', 'Green', 'Black', 'White']\n",
    "first_three = colors [:3]\n",
    "# Getting the middle three items\n",
    "middle_three = colors[1:4]\n",
    "# Getting the last three items\n",
    "last_three = colors[-3:]"
   ]
  },
  {
   "cell_type": "markdown",
   "metadata": {},
   "source": [
    "##### Copying a list:\n",
    "\n"
   ]
  },
  {
   "cell_type": "code",
   "execution_count": 14,
   "metadata": {},
   "outputs": [],
   "source": [
    "# Making a copy of a list\n",
    "colors = ['Red', 'Blue', 'Green', 'Black', 'White']\n",
    "copy_of_colors = colors[:]"
   ]
  },
  {
   "cell_type": "markdown",
   "metadata": {},
   "source": [
    "##### List of Comprehensions:\n",
    "\n"
   ]
  },
  {
   "cell_type": "code",
   "execution_count": 15,
   "metadata": {},
   "outputs": [],
   "source": [
    "# Using a loop to generate a list of square numbers\n",
    "squr = []\n",
    "for x in range(1, 11):\n",
    " sq = x**2\n",
    " squr.append(sq)\n",
    "# Using a comprehension to generate a list of square numbers\n",
    "squr = [x**2 for x in range(1, 11)]\n",
    "# Using a loop to convert a list of names to upper case\n",
    "colors = ['Red', 'Blue', 'Green', 'Black', 'White']\n",
    "upper_cols = []\n",
    "for cols in colors:\n",
    " upper_cols.append(cols.upper())\n",
    "# Using a comprehension to convert a list of names to upper case\n",
    "colors = ['Red', 'Blue', 'Green', 'Black', 'White']\n",
    "upper_cols = [cols.upper() for cols in colors]"
   ]
  },
  {
   "cell_type": "code",
   "execution_count": null,
   "metadata": {},
   "outputs": [],
   "source": []
  }
 ],
 "metadata": {
  "kernelspec": {
   "display_name": "Python 3",
   "language": "python",
   "name": "python3"
  },
  "language_info": {
   "codemirror_mode": {
    "name": "ipython",
    "version": 3
   },
   "file_extension": ".py",
   "mimetype": "text/x-python",
   "name": "python",
   "nbconvert_exporter": "python",
   "pygments_lexer": "ipython3",
   "version": "3.8.3"
  }
 },
 "nbformat": 4,
 "nbformat_minor": 4
}
